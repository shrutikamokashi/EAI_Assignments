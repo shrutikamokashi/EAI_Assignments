{
  "nbformat": 4,
  "nbformat_minor": 0,
  "metadata": {
    "anaconda-cloud": {},
    "colab": {
      "name": "Week_4_Lab_Neural_Networks_in_Practice_Shrutika.ipynb",
      "provenance": [],
      "collapsed_sections": [],
      "include_colab_link": true
    },
    "kernelspec": {
      "display_name": "Python 3",
      "language": "python",
      "name": "python3"
    },
    "language_info": {
      "codemirror_mode": {
        "name": "ipython",
        "version": 3
      },
      "file_extension": ".py",
      "mimetype": "text/x-python",
      "name": "python",
      "nbconvert_exporter": "python",
      "pygments_lexer": "ipython3",
      "version": "3.7.0"
    }
  },
  "cells": [
    {
      "cell_type": "markdown",
      "metadata": {
        "id": "view-in-github",
        "colab_type": "text"
      },
      "source": [
        "<a href=\"https://colab.research.google.com/github/shrutikamokashi/EAI_Assignments/blob/master/Week_4_Lab_Neural_Networks_in_Practice_Shrutika.ipynb\" target=\"_parent\"><img src=\"https://colab.research.google.com/assets/colab-badge.svg\" alt=\"Open In Colab\"/></a>"
      ]
    },
    {
      "cell_type": "markdown",
      "metadata": {
        "colab_type": "text",
        "id": "jE7Q3E9i9Evd"
      },
      "source": [
        "# Week 4 Lab: Neural Networks in practice"
      ]
    },
    {
      "cell_type": "code",
      "metadata": {
        "colab_type": "code",
        "hide_input": false,
        "id": "gWDjQyV59Evg",
        "outputId": "508a3f7c-a5c0-4120-fd08-c1ef9350aece",
        "colab": {
          "base_uri": "https://localhost:8080/",
          "height": 99
        }
      },
      "source": [
        "# Global imports and settings\n",
        "\n",
        "from IPython.display import set_matplotlib_formats, display\n",
        "import pandas as pd\n",
        "import numpy as np\n",
        "import matplotlib.pyplot as plt\n",
        "from cycler import cycler\n",
        "import keras\n",
        "print(\"Using Keras\",keras.__version__)\n",
        "%matplotlib inline\n",
        "plt.rcParams['figure.dpi'] = 125 # Use 300 for PDF, 100 for slides\n"
      ],
      "execution_count": 1,
      "outputs": [
        {
          "output_type": "stream",
          "text": [
            "Using TensorFlow backend.\n"
          ],
          "name": "stderr"
        },
        {
          "output_type": "display_data",
          "data": {
            "text/html": [
              "<p style=\"color: red;\">\n",
              "The default version of TensorFlow in Colab will soon switch to TensorFlow 2.x.<br>\n",
              "We recommend you <a href=\"https://www.tensorflow.org/guide/migrate\" target=\"_blank\">upgrade</a> now \n",
              "or ensure your notebook will continue to use TensorFlow 1.x via the <code>%tensorflow_version 1.x</code> magic:\n",
              "<a href=\"https://colab.research.google.com/notebooks/tensorflow_version.ipynb\" target=\"_blank\">more info</a>.</p>\n"
            ],
            "text/plain": [
              "<IPython.core.display.HTML object>"
            ]
          },
          "metadata": {
            "tags": []
          }
        },
        {
          "output_type": "stream",
          "text": [
            "Using Keras 2.2.5\n"
          ],
          "name": "stdout"
        }
      ]
    },
    {
      "cell_type": "markdown",
      "metadata": {
        "cell_style": "center",
        "colab_type": "text",
        "id": "QJdIHypq9Evk"
      },
      "source": [
        "### Overview\n",
        "* Solving basic classification and regression problems\n",
        "* Handling textual data\n",
        "* Model selection (and overfitting)"
      ]
    },
    {
      "cell_type": "markdown",
      "metadata": {
        "colab_type": "text",
        "id": "njT6MasM9Evl"
      },
      "source": [
        "## Solving basic problems\n",
        "* Binary classification (of movie reviews)\n",
        "* Multiclass classification (of news topics)\n",
        "* Regression (of house prices)\n",
        "\n",
        "Examples from _Deep Learning with Python_, by _François Chollet_"
      ]
    },
    {
      "cell_type": "markdown",
      "metadata": {
        "colab_type": "text",
        "id": "xsUfzIi59Evn"
      },
      "source": [
        "### Binary classification\n",
        "* Dataset: 50,000 IMDB reviews, labeled positive (1) or negative (0)\n",
        "    - Included in Keras, with a 50/50 train-test split\n",
        "* Each row is one review, with only the 10,000 most frequent words retained\n",
        "* Each word is replaced by a _word index_ (word ID)"
      ]
    },
    {
      "cell_type": "code",
      "metadata": {
        "colab_type": "code",
        "hide_input": true,
        "id": "Mk42XDWZ9Evn",
        "outputId": "c611d868-27fc-4a81-fddc-9ea4e34aa608",
        "colab": {
          "base_uri": "https://localhost:8080/",
          "height": 52
        }
      },
      "source": [
        "from keras.datasets import imdb\n",
        "# Download IMDB data with 10000 most frequent words\n",
        "(train_data, train_labels), (test_data, test_labels) = imdb.load_data(num_words=10000)\n",
        "print(\"Encoded review: \", train_data[0][0:10])\n",
        "\n",
        "word_index = imdb.get_word_index()\n",
        "reverse_word_index = dict([(value, key) for (key, value) in word_index.items()])\n",
        "print(\"Original review: \", ' '.join([reverse_word_index.get(i - 3, '?') for i in train_data[0]][0:10]))"
      ],
      "execution_count": 2,
      "outputs": [
        {
          "output_type": "stream",
          "text": [
            "Encoded review:  [1, 14, 22, 16, 43, 530, 973, 1622, 1385, 65]\n",
            "Original review:  ? this film was just brilliant casting location scenery story\n"
          ],
          "name": "stdout"
        }
      ]
    },
    {
      "cell_type": "code",
      "metadata": {
        "id": "48AO_SCr2AiE",
        "colab_type": "code",
        "colab": {}
      },
      "source": [
        "def decode_review(a):\n",
        "  word_index = imdb.get_word_index()\n",
        "  reverse_word_index = dict([(value, key) for (key, value) in word_index.items()])\n",
        "  print(' '.join([reverse_word_index.get(i-3, '') for i in a]))"
      ],
      "execution_count": 0,
      "outputs": []
    },
    {
      "cell_type": "markdown",
      "metadata": {
        "colab_type": "text",
        "id": "gbHSVzma9Evq"
      },
      "source": [
        "#### Preprocessing\n",
        "* We can't input lists of categorical value to a neural net, we need to create tensors\n",
        "* One-hot-encoding:\n",
        "    -  10000 features, '1.0' if the word occurs\n",
        "* Word embeddings (word2vec):\n",
        "    - Map each word to a dense vector that represents it (it's _embedding_)\n",
        "    - _Embedding_ layer: pre-trained layer that looks up the embedding in a dictionary \n",
        "    - Converts 2D tensor of word indices (zero-padded) to 3D tensor of embeddings\n",
        "* Let's do One-Hot-Encoding for now. We'll come back to _Embedding_ layers.\n",
        "* Also vectorize the labels: from 0/1 to float\n",
        "    - Binary classification works with one output node"
      ]
    },
    {
      "cell_type": "code",
      "metadata": {
        "colab_type": "code",
        "hide_input": true,
        "id": "nSzfO-XG9Evs",
        "colab": {}
      },
      "source": [
        "# Custom implementation of one-hot-encoding\n",
        "def vectorize_sequences(sequences, dimension=10000):\n",
        "    results = np.zeros((len(sequences), dimension))\n",
        "    for i, sequence in enumerate(sequences):\n",
        "        results[i, sequence] = 1.  # set specific indices of results[i] to 1s\n",
        "    return results\n",
        "x_train = vectorize_sequences(train_data)\n",
        "x_test = vectorize_sequences(test_data)\n",
        "y_train = np.asarray(train_labels).astype('float32')\n",
        "y_test = np.asarray(test_labels).astype('float32')"
      ],
      "execution_count": 0,
      "outputs": []
    },
    {
      "cell_type": "code",
      "metadata": {
        "id": "wJcWOjbdq8-E",
        "colab_type": "code",
        "colab": {
          "base_uri": "https://localhost:8080/",
          "height": 35
        },
        "outputId": "6cde5923-b793-4c6d-bd36-ce98b0769ae2"
      },
      "source": [
        "len(train_data[1])"
      ],
      "execution_count": 5,
      "outputs": [
        {
          "output_type": "execute_result",
          "data": {
            "text/plain": [
              "189"
            ]
          },
          "metadata": {
            "tags": []
          },
          "execution_count": 5
        }
      ]
    },
    {
      "cell_type": "markdown",
      "metadata": {
        "colab_type": "text",
        "id": "4_JHofjQRme1"
      },
      "source": [
        "#### Understanding the format of IMDB dataset\n",
        "1. Train_data and test_data are an array of lists. What does the length of this array correspond to? What does the length of each list correspond to?\n",
        "2. What are the sizes of the vectorized x_train and x_test? What do the dimensions correspond to?\n",
        "3. What is the most common word in the first review in the training data? Hint: use the word index (see above)? \n",
        "4. Print the first review to verify. "
      ]
    },
    {
      "cell_type": "code",
      "metadata": {
        "colab_type": "code",
        "id": "ceBrbGWxRLJK",
        "outputId": "2defdba2-b06e-4857-e4ed-342b40802991",
        "colab": {
          "base_uri": "https://localhost:8080/",
          "height": 52
        }
      },
      "source": [
        "## 1. Train_data and test_data are an array of lists. What does the length of this array correspond to? What does the length of each list correspond to?\n",
        "print(\"Length of train_data: \"+str(len(train_data)))\n",
        "print(\"Length of test_data: \"+str(len(test_data)))\n"
      ],
      "execution_count": 6,
      "outputs": [
        {
          "output_type": "stream",
          "text": [
            "Length of train_data: 25000\n",
            "Length of test_data: 25000\n"
          ],
          "name": "stdout"
        }
      ]
    },
    {
      "cell_type": "markdown",
      "metadata": {
        "id": "m3trXzHipRMQ",
        "colab_type": "text"
      },
      "source": [
        "Length of this array corresponds to 25000 movie reviews in each of the dataset.\n",
        "Length of each list correspond to the number of words present in the review."
      ]
    },
    {
      "cell_type": "code",
      "metadata": {
        "id": "AI2Qv4MXcHYu",
        "colab_type": "code",
        "outputId": "aff9bec8-963c-4afc-fd4a-29684670b814",
        "colab": {
          "base_uri": "https://localhost:8080/",
          "height": 87
        }
      },
      "source": [
        "## 2. What are the sizes of the vectorized x_train and x_test? What do the dimensions correspond to?\n",
        "print(x_train.size)\n",
        "print(x_train.shape)\n",
        "print(x_test.size)\n",
        "print(x_train.shape)"
      ],
      "execution_count": 7,
      "outputs": [
        {
          "output_type": "stream",
          "text": [
            "250000000\n",
            "(25000, 10000)\n",
            "250000000\n",
            "(25000, 10000)\n"
          ],
          "name": "stdout"
        }
      ]
    },
    {
      "cell_type": "code",
      "metadata": {
        "id": "ihf_kq4GeU2c",
        "colab_type": "code",
        "colab": {
          "base_uri": "https://localhost:8080/",
          "height": 35
        },
        "outputId": "fcc101d0-bf47-48aa-9675-8c8be4384d72"
      },
      "source": [
        "train_data[0][0]"
      ],
      "execution_count": 8,
      "outputs": [
        {
          "output_type": "execute_result",
          "data": {
            "text/plain": [
              "1"
            ]
          },
          "metadata": {
            "tags": []
          },
          "execution_count": 8
        }
      ]
    },
    {
      "cell_type": "markdown",
      "metadata": {
        "id": "6er5h3xerVFZ",
        "colab_type": "text"
      },
      "source": [
        "The dimensions correspond to 25000 reviews and 10000 most frequently retained words(which means one-hot representation of the vocab list, if the word is present in the vocab list it is represented either as 0 or 1) for each review."
      ]
    },
    {
      "cell_type": "code",
      "metadata": {
        "id": "0yDLD3osqeV3",
        "colab_type": "code",
        "outputId": "b9356523-31db-4ea0-f7c3-c9997bda9a5a",
        "colab": {
          "base_uri": "https://localhost:8080/",
          "height": 52
        }
      },
      "source": [
        "## 3. What is the most common word in the first review in the training data? Hint: use the word index (see above)? \n",
        "def most_frequent(List): \n",
        "    counter = 0\n",
        "    num = List[0] \n",
        "    i = 0\n",
        "    sizeofList = len(List) \n",
        "    while i < sizeofList :\n",
        "        curr_frequency = List.count(i) \n",
        "        if(curr_frequency> counter): \n",
        "            counter = curr_frequency \n",
        "            num = i     \n",
        "        \n",
        "        i += 1\n",
        "    return num \n",
        "print(most_frequent(train_data[0])) \n",
        "word_index = imdb.get_word_index()\n",
        "reverse_word_index = dict([(value, key) for (key, value) in word_index.items()])\n",
        "print(\"Original word: \", ''.join([reverse_word_index.get(i - 3, '') for i in train_data[0]][most_frequent(train_data[0])]))"
      ],
      "execution_count": 9,
      "outputs": [
        {
          "output_type": "stream",
          "text": [
            "4\n",
            "Original word:  just\n"
          ],
          "name": "stdout"
        }
      ]
    },
    {
      "cell_type": "code",
      "metadata": {
        "id": "NuQchrc5qgtb",
        "colab_type": "code",
        "outputId": "ae4c6698-5584-4e10-e860-53f4e951c2de",
        "colab": {
          "base_uri": "https://localhost:8080/",
          "height": 55
        }
      },
      "source": [
        "## 4. Print the first review to verify. \n",
        "decode_review(train_data[0])"
      ],
      "execution_count": 10,
      "outputs": [
        {
          "output_type": "stream",
          "text": [
            " this film was just brilliant casting location scenery story direction everyone's really suited the part they played and you could just imagine being there robert  is an amazing actor and now the same being director  father came from the same scottish island as myself so i loved the fact there was a real connection with this film the witty remarks throughout the film were great it was just brilliant so much that i bought the film as soon as it was released for  and would recommend it to everyone to watch and the fly fishing was amazing really cried at the end it was so sad and you know what they say if you cry at a film it must have been good and this definitely was also  to the two little boy's that played the  of norman and paul they were just brilliant children are often left out of the  list i think because the stars that play them all grown up are such a big profile for the whole film but these children are amazing and should be praised for what they have done don't you think the whole story was so lovely because it was true and was someone's life after all that was shared with us all\n"
          ],
          "name": "stdout"
        }
      ]
    },
    {
      "cell_type": "code",
      "metadata": {
        "id": "0cZwSxMigEzX",
        "colab_type": "code",
        "colab": {
          "base_uri": "https://localhost:8080/",
          "height": 35
        },
        "outputId": "9ae21c03-f1b5-48f0-ca4f-bd3a69f1eccc"
      },
      "source": [
        "train_data[0].count(14)"
      ],
      "execution_count": 11,
      "outputs": [
        {
          "output_type": "execute_result",
          "data": {
            "text/plain": [
              "3"
            ]
          },
          "metadata": {
            "tags": []
          },
          "execution_count": 11
        }
      ]
    },
    {
      "cell_type": "markdown",
      "metadata": {
        "colab_type": "text",
        "id": "GVar7SNn9Evu"
      },
      "source": [
        "#### Building the network\n",
        "* We can solve this problem using a network of _Dense_ layers and the _ReLU_ activation function.\n",
        "* How many layers? How many hidden units for layer?\n",
        "    - Start with 2 layers of 16 hidden units each\n",
        "    - We'll optimize this soon\n",
        "* Output layer: single unit with _sigmoid_ activation function\n",
        "    - Close to 1: positive review, close to 0: negative review\n",
        "* Use binary_crossentropy loss"
      ]
    },
    {
      "cell_type": "code",
      "metadata": {
        "colab_type": "code",
        "id": "wglvzu9E9Evx",
        "outputId": "b15aa54b-f57a-4344-eec0-55232edfda34",
        "colab": {
          "base_uri": "https://localhost:8080/",
          "height": 263
        }
      },
      "source": [
        "from keras import models\n",
        "from keras import layers \n",
        "\n",
        "model = models.Sequential()\n",
        "model.add(layers.Dense(16, activation='relu', input_shape=(10000,)))\n",
        "model.add(layers.Dense(16, activation='relu'))\n",
        "model.add(layers.Dense(1, activation='sigmoid'))\n",
        "\n",
        "model.compile(optimizer='rmsprop',\n",
        "              loss='binary_crossentropy',\n",
        "              metrics=['accuracy'])"
      ],
      "execution_count": 12,
      "outputs": [
        {
          "output_type": "stream",
          "text": [
            "WARNING:tensorflow:From /usr/local/lib/python3.6/dist-packages/keras/backend/tensorflow_backend.py:66: The name tf.get_default_graph is deprecated. Please use tf.compat.v1.get_default_graph instead.\n",
            "\n",
            "WARNING:tensorflow:From /usr/local/lib/python3.6/dist-packages/keras/backend/tensorflow_backend.py:541: The name tf.placeholder is deprecated. Please use tf.compat.v1.placeholder instead.\n",
            "\n",
            "WARNING:tensorflow:From /usr/local/lib/python3.6/dist-packages/keras/backend/tensorflow_backend.py:4432: The name tf.random_uniform is deprecated. Please use tf.random.uniform instead.\n",
            "\n",
            "WARNING:tensorflow:From /usr/local/lib/python3.6/dist-packages/keras/optimizers.py:793: The name tf.train.Optimizer is deprecated. Please use tf.compat.v1.train.Optimizer instead.\n",
            "\n",
            "WARNING:tensorflow:From /usr/local/lib/python3.6/dist-packages/keras/backend/tensorflow_backend.py:3657: The name tf.log is deprecated. Please use tf.math.log instead.\n",
            "\n",
            "WARNING:tensorflow:From /usr/local/lib/python3.6/dist-packages/tensorflow_core/python/ops/nn_impl.py:183: where (from tensorflow.python.ops.array_ops) is deprecated and will be removed in a future version.\n",
            "Instructions for updating:\n",
            "Use tf.where in 2.0, which has the same broadcast rule as np.where\n"
          ],
          "name": "stdout"
        }
      ]
    },
    {
      "cell_type": "markdown",
      "metadata": {
        "colab_type": "text",
        "id": "0S_Fnh169Ev0"
      },
      "source": [
        "#### Model selection\n",
        "* How many epochs do we need for training?\n",
        "* Take a validation set of 10,000 samples from the training set\n",
        "* Train the neural net and track the loss after every iteration on the validation set\n",
        "    - This is returned as a `History` object by the `fit()` function \n",
        "* We start with 20 epochs in minibatches of 512 samples\n"
      ]
    },
    {
      "cell_type": "code",
      "metadata": {
        "colab_type": "code",
        "id": "b3aTf8rL9Ev0",
        "outputId": "32f14c38-6907-43d6-9f75-0e9bbcba9029",
        "colab": {
          "base_uri": "https://localhost:8080/",
          "height": 1000
        }
      },
      "source": [
        "x_val, partial_x_train = x_train[:10000], x_train[10000:]\n",
        "y_val, partial_y_train = y_train[:10000], y_train[10000:] \n",
        "history = model.fit(partial_x_train, partial_y_train,\n",
        "                    epochs=20, batch_size=512, verbose=2,\n",
        "                    validation_data=(x_val, y_val))"
      ],
      "execution_count": 13,
      "outputs": [
        {
          "output_type": "stream",
          "text": [
            "WARNING:tensorflow:From /usr/local/lib/python3.6/dist-packages/keras/backend/tensorflow_backend.py:1033: The name tf.assign_add is deprecated. Please use tf.compat.v1.assign_add instead.\n",
            "\n",
            "WARNING:tensorflow:From /usr/local/lib/python3.6/dist-packages/keras/backend/tensorflow_backend.py:1020: The name tf.assign is deprecated. Please use tf.compat.v1.assign instead.\n",
            "\n",
            "WARNING:tensorflow:From /usr/local/lib/python3.6/dist-packages/keras/backend/tensorflow_backend.py:3005: The name tf.Session is deprecated. Please use tf.compat.v1.Session instead.\n",
            "\n",
            "Train on 15000 samples, validate on 10000 samples\n",
            "Epoch 1/20\n",
            "WARNING:tensorflow:From /usr/local/lib/python3.6/dist-packages/keras/backend/tensorflow_backend.py:190: The name tf.get_default_session is deprecated. Please use tf.compat.v1.get_default_session instead.\n",
            "\n",
            "WARNING:tensorflow:From /usr/local/lib/python3.6/dist-packages/keras/backend/tensorflow_backend.py:197: The name tf.ConfigProto is deprecated. Please use tf.compat.v1.ConfigProto instead.\n",
            "\n",
            "WARNING:tensorflow:From /usr/local/lib/python3.6/dist-packages/keras/backend/tensorflow_backend.py:207: The name tf.global_variables is deprecated. Please use tf.compat.v1.global_variables instead.\n",
            "\n",
            "WARNING:tensorflow:From /usr/local/lib/python3.6/dist-packages/keras/backend/tensorflow_backend.py:216: The name tf.is_variable_initialized is deprecated. Please use tf.compat.v1.is_variable_initialized instead.\n",
            "\n",
            "WARNING:tensorflow:From /usr/local/lib/python3.6/dist-packages/keras/backend/tensorflow_backend.py:223: The name tf.variables_initializer is deprecated. Please use tf.compat.v1.variables_initializer instead.\n",
            "\n",
            " - 2s - loss: 0.4876 - acc: 0.7982 - val_loss: 0.3669 - val_acc: 0.8720\n",
            "Epoch 2/20\n",
            " - 1s - loss: 0.2866 - acc: 0.9063 - val_loss: 0.3528 - val_acc: 0.8529\n",
            "Epoch 3/20\n",
            " - 1s - loss: 0.2135 - acc: 0.9323 - val_loss: 0.2762 - val_acc: 0.8900\n",
            "Epoch 4/20\n",
            " - 1s - loss: 0.1682 - acc: 0.9439 - val_loss: 0.2867 - val_acc: 0.8864\n",
            "Epoch 5/20\n",
            " - 1s - loss: 0.1380 - acc: 0.9566 - val_loss: 0.2838 - val_acc: 0.8880\n",
            "Epoch 6/20\n",
            " - 1s - loss: 0.1115 - acc: 0.9664 - val_loss: 0.3139 - val_acc: 0.8789\n",
            "Epoch 7/20\n",
            " - 1s - loss: 0.0923 - acc: 0.9731 - val_loss: 0.3197 - val_acc: 0.8809\n",
            "Epoch 8/20\n",
            " - 1s - loss: 0.0777 - acc: 0.9773 - val_loss: 0.3343 - val_acc: 0.8799\n",
            "Epoch 9/20\n",
            " - 1s - loss: 0.0613 - acc: 0.9843 - val_loss: 0.3541 - val_acc: 0.8812\n",
            "Epoch 10/20\n",
            " - 1s - loss: 0.0509 - acc: 0.9881 - val_loss: 0.4507 - val_acc: 0.8621\n",
            "Epoch 11/20\n",
            " - 1s - loss: 0.0408 - acc: 0.9907 - val_loss: 0.4054 - val_acc: 0.8747\n",
            "Epoch 12/20\n",
            " - 1s - loss: 0.0314 - acc: 0.9941 - val_loss: 0.4289 - val_acc: 0.8759\n",
            "Epoch 13/20\n",
            " - 1s - loss: 0.0242 - acc: 0.9961 - val_loss: 0.4600 - val_acc: 0.8728\n",
            "Epoch 14/20\n",
            " - 1s - loss: 0.0185 - acc: 0.9980 - val_loss: 0.4951 - val_acc: 0.8710\n",
            "Epoch 15/20\n",
            " - 1s - loss: 0.0161 - acc: 0.9977 - val_loss: 0.5247 - val_acc: 0.8696\n",
            "Epoch 16/20\n",
            " - 1s - loss: 0.0118 - acc: 0.9983 - val_loss: 0.5550 - val_acc: 0.8690\n",
            "Epoch 17/20\n",
            " - 1s - loss: 0.0106 - acc: 0.9981 - val_loss: 0.5810 - val_acc: 0.8685\n",
            "Epoch 18/20\n",
            " - 1s - loss: 0.0049 - acc: 0.9999 - val_loss: 0.6126 - val_acc: 0.8682\n",
            "Epoch 19/20\n",
            " - 1s - loss: 0.0074 - acc: 0.9986 - val_loss: 0.6372 - val_acc: 0.8668\n",
            "Epoch 20/20\n",
            " - 1s - loss: 0.0029 - acc: 0.9999 - val_loss: 0.6832 - val_acc: 0.8666\n"
          ],
          "name": "stdout"
        }
      ]
    },
    {
      "cell_type": "markdown",
      "metadata": {
        "colab_type": "text",
        "id": "PrxYLkMX9Ev3"
      },
      "source": [
        "#### Evaluate model performance during training\n",
        "1. Plot the training and validation loss as a function of training epoch. Describe what happens during the training in terms of under or overfitting.\n",
        "2. Plot the training and validation accuracy as a function of the training epoch.\n",
        "\n",
        "Hint: these quantities are contained in the dict history.history."
      ]
    },
    {
      "cell_type": "code",
      "metadata": {
        "colab_type": "code",
        "hide_input": true,
        "id": "4YH3yVZy9Ev4",
        "outputId": "2c444fed-914c-434f-ed02-18d3f75d7422",
        "colab": {
          "base_uri": "https://localhost:8080/",
          "height": 260
        }
      },
      "source": [
        "model.summary()"
      ],
      "execution_count": 14,
      "outputs": [
        {
          "output_type": "stream",
          "text": [
            "Model: \"sequential_1\"\n",
            "_________________________________________________________________\n",
            "Layer (type)                 Output Shape              Param #   \n",
            "=================================================================\n",
            "dense_1 (Dense)              (None, 16)                160016    \n",
            "_________________________________________________________________\n",
            "dense_2 (Dense)              (None, 16)                272       \n",
            "_________________________________________________________________\n",
            "dense_3 (Dense)              (None, 1)                 17        \n",
            "=================================================================\n",
            "Total params: 160,305\n",
            "Trainable params: 160,305\n",
            "Non-trainable params: 0\n",
            "_________________________________________________________________\n"
          ],
          "name": "stdout"
        }
      ]
    },
    {
      "cell_type": "code",
      "metadata": {
        "id": "rQux3t0RaArb",
        "colab_type": "code",
        "outputId": "24c44d8c-08a4-4793-ec02-b06b4286ec5a",
        "colab": {
          "base_uri": "https://localhost:8080/",
          "height": 35
        }
      },
      "source": [
        "print(history.history.keys())\n"
      ],
      "execution_count": 15,
      "outputs": [
        {
          "output_type": "stream",
          "text": [
            "dict_keys(['val_loss', 'val_acc', 'loss', 'acc'])\n"
          ],
          "name": "stdout"
        }
      ]
    },
    {
      "cell_type": "code",
      "metadata": {
        "id": "cQc2dO97AJgd",
        "colab_type": "code",
        "colab": {}
      },
      "source": [
        "import matplotlib.pyplot as plt"
      ],
      "execution_count": 0,
      "outputs": []
    },
    {
      "cell_type": "code",
      "metadata": {
        "id": "sCscyGb7COC_",
        "colab_type": "code",
        "outputId": "a5b91796-b72f-4020-fce1-2243212a0c59",
        "colab": {
          "base_uri": "https://localhost:8080/",
          "height": 501
        }
      },
      "source": [
        "## 1. Plot the training and validation loss as a function of training epoch. Describe what happens during the training in terms of under or overfitting.\n",
        "plt.plot(history.history['loss'])\n",
        "plt.plot(history.history['val_loss'])\n",
        "plt.title('model loss')\n",
        "plt.ylabel('loss')\n",
        "plt.xlabel('epoch')\n",
        "plt.legend(['train', 'test'], loc='upper left')\n",
        "plt.show()"
      ],
      "execution_count": 17,
      "outputs": [
        {
          "output_type": "display_data",
          "data": {
            "image/png": "[encoded data removed]",
            "text/plain": [
              "<Figure size 750x500 with 1 Axes>"
            ]
          },
          "metadata": {
            "tags": []
          }
        }
      ]
    },
    {
      "cell_type": "markdown",
      "metadata": {
        "id": "xxeA7HGYiZD9",
        "colab_type": "text"
      },
      "source": [
        "As we can see from the training validation chart the model is overfitting. The training set is approach nearly perfect accuracy. This is not necessary a bad thing. Initially we want the model to overfitt. Overfitting it good in the sense that there are a lot of tools to tapper overfitting. At least the availablity of data is not the barrier.\n",
        "\n",
        "In this case we can even use:\n",
        "\n",
        "A even higher dropout rate, it seems that the neurons are still learning specific weights of some words/phrases. But when dropout rate is too high, the model does lose accuracy\n",
        "\n",
        "Smaller batch size\n",
        "\n",
        "Higher L2 regulization, similar effect to dropout\n",
        "\n",
        "Overfitting it's a reflection of inefficiency in feature selection in this case, but as long as validation accuracy and testing accuracy are stable the model is a good shape."
      ]
    },
    {
      "cell_type": "code",
      "metadata": {
        "colab_type": "code",
        "hide_input": true,
        "id": "wrJhYEe09Ev-",
        "outputId": "360af751-d30c-44df-ed9d-06657a0e86e9",
        "colab": {
          "base_uri": "https://localhost:8080/",
          "height": 501
        }
      },
      "source": [
        "## 2. Plot the training and validation accuracy as a function of the training epoch.\n",
        "plt.plot(history.history['val_acc'])\n",
        "plt.plot(history.history['acc'])\n",
        "plt.title('model accuracy')\n",
        "plt.ylabel('accuracy')\n",
        "plt.xlabel('epoch')\n",
        "plt.legend(['train', 'test'], loc='upper left')\n",
        "plt.show()"
      ],
      "execution_count": 18,
      "outputs": [
        {
          "output_type": "display_data",
          "data": {
            "image/png": "[encoded data removed]",
            "text/plain": [
              "<Figure size 750x500 with 1 Axes>"
            ]
          },
          "metadata": {
            "tags": []
          }
        }
      ]
    },
    {
      "cell_type": "markdown",
      "metadata": {
        "id": "uJgaWvNIiq9f",
        "colab_type": "text"
      },
      "source": [
        "As per the result, I understood that the network begin to overfit as the epoches are increasing. Which means the model's train accuracy is increasing but the test accuracy or validation accuracy is decreasing with the increase in no.of epochs"
      ]
    },
    {
      "cell_type": "markdown",
      "metadata": {
        "colab_type": "text",
        "id": "FWDq34yW9EwA"
      },
      "source": [
        "#### Early stopping\n",
        "One simple technique to avoid overfitting is to use the validation set to 'tune' the optimal number of epochs\n",
        "* In this case, we could stop after 4 epochs\n"
      ]
    },
    {
      "cell_type": "code",
      "metadata": {
        "cellView": "both",
        "colab_type": "code",
        "id": "Csk3_Yn09EwB",
        "outputId": "ca8ccb3f-0fff-4edb-bb6b-cc10507ce68b",
        "colab": {
          "base_uri": "https://localhost:8080/",
          "height": 191
        }
      },
      "source": [
        "#@title\n",
        "model.fit(x_train, y_train, epochs=4, batch_size=512, verbose=2)\n",
        "result = model.evaluate(x_test, y_test)\n",
        "print(\"Loss: {:.4f}, Accuracy:  {:.4f}\".format(*result))"
      ],
      "execution_count": 19,
      "outputs": [
        {
          "output_type": "stream",
          "text": [
            "Epoch 1/4\n",
            " - 2s - loss: 0.2290 - acc: 0.9462\n",
            "Epoch 2/4\n",
            " - 2s - loss: 0.1362 - acc: 0.9610\n",
            "Epoch 3/4\n",
            " - 2s - loss: 0.1027 - acc: 0.9710\n",
            "Epoch 4/4\n",
            " - 2s - loss: 0.0811 - acc: 0.9774\n",
            "25000/25000 [==============================] - 2s 66us/step\n",
            "Loss: 0.5134, Accuracy:  0.8585\n"
          ],
          "name": "stdout"
        }
      ]
    },
    {
      "cell_type": "markdown",
      "metadata": {
        "colab_type": "text",
        "id": "5Mo4BX1N9EwD"
      },
      "source": [
        "#### Predictions\n",
        "1. Print the first review that were correctly classified along with the predicted value.\n",
        "2. Print the first review that were misclassified along with the predicted value. Can you explain why the model likely failed? How confident was the model?"
      ]
    },
    {
      "cell_type": "code",
      "metadata": {
        "id": "lopnrHwhlLH4",
        "colab_type": "code",
        "colab": {}
      },
      "source": [
        "## 1. Print the first review that were correctly classified along with the predicted value.\n",
        "predicted_classes = model.predict_classes(x_test).reshape(25000)\n",
        "prediction_probabilities = model.predict(x_test)"
      ],
      "execution_count": 0,
      "outputs": []
    },
    {
      "cell_type": "code",
      "metadata": {
        "id": "00bOs4UIi_ZG",
        "colab_type": "code",
        "colab": {
          "base_uri": "https://localhost:8080/",
          "height": 124
        },
        "outputId": "0175d265-0a57-459b-ff87-4927cd79d2ed"
      },
      "source": [
        "correctly_classified = test_labels == predicted_classes\n",
        "mis_classified = test_labels != predicted_classes\n",
        "\n",
        "correctly_classified_predictions = test_data[correctly_classified]\n",
        "misclassified_predictions = test_data[mis_classified]\n",
        "print(misclassified_predictions[0][0])\n",
        "\n",
        "print(\"Correctly classified Prediction:  \".join([reverse_word_index.get(i - 3, \"\") for i in correctly_classified_predictions[0]]))\n",
        "print('\\n')\n",
        "print(\"Missclassified Prediction: \".join([reverse_word_index.get(i - 3, \"\") for i in misclassified_predictions[0]]))"
      ],
      "execution_count": 21,
      "outputs": [
        {
          "output_type": "stream",
          "text": [
            "1\n",
            "Correctly classified Prediction:  pleaseCorrectly classified Prediction:  giveCorrectly classified Prediction:  thisCorrectly classified Prediction:  oneCorrectly classified Prediction:  aCorrectly classified Prediction:  missCorrectly classified Prediction:  brCorrectly classified Prediction:  brCorrectly classified Prediction:  Correctly classified Prediction:  Correctly classified Prediction:  andCorrectly classified Prediction:  theCorrectly classified Prediction:  restCorrectly classified Prediction:  ofCorrectly classified Prediction:  theCorrectly classified Prediction:  castCorrectly classified Prediction:  renderedCorrectly classified Prediction:  terribleCorrectly classified Prediction:  performancesCorrectly classified Prediction:  theCorrectly classified Prediction:  showCorrectly classified Prediction:  isCorrectly classified Prediction:  flatCorrectly classified Prediction:  flatCorrectly classified Prediction:  flatCorrectly classified Prediction:  brCorrectly classified Prediction:  brCorrectly classified Prediction:  iCorrectly classified Prediction:  don'tCorrectly classified Prediction:  knowCorrectly classified Prediction:  howCorrectly classified Prediction:  michaelCorrectly classified Prediction:  madisonCorrectly classified Prediction:  couldCorrectly classified Prediction:  haveCorrectly classified Prediction:  allowedCorrectly classified Prediction:  thisCorrectly classified Prediction:  oneCorrectly classified Prediction:  onCorrectly classified Prediction:  hisCorrectly classified Prediction:  plateCorrectly classified Prediction:  heCorrectly classified Prediction:  almostCorrectly classified Prediction:  seemedCorrectly classified Prediction:  toCorrectly classified Prediction:  knowCorrectly classified Prediction:  thisCorrectly classified Prediction:  wasn'tCorrectly classified Prediction:  goingCorrectly classified Prediction:  toCorrectly classified Prediction:  workCorrectly classified Prediction:  outCorrectly classified Prediction:  andCorrectly classified Prediction:  hisCorrectly classified Prediction:  performanceCorrectly classified Prediction:  wasCorrectly classified Prediction:  quiteCorrectly classified Prediction:  Correctly classified Prediction:  soCorrectly classified Prediction:  allCorrectly classified Prediction:  youCorrectly classified Prediction:  madisonCorrectly classified Prediction:  fansCorrectly classified Prediction:  giveCorrectly classified Prediction:  thisCorrectly classified Prediction:  aCorrectly classified Prediction:  miss\n",
            "\n",
            "\n",
            "Missclassified Prediction: iMissclassified Prediction: generallyMissclassified Prediction: loveMissclassified Prediction: thisMissclassified Prediction: typeMissclassified Prediction: ofMissclassified Prediction: movieMissclassified Prediction: howeverMissclassified Prediction: thisMissclassified Prediction: timeMissclassified Prediction: iMissclassified Prediction: foundMissclassified Prediction: myselfMissclassified Prediction: wantingMissclassified Prediction: toMissclassified Prediction: kickMissclassified Prediction: theMissclassified Prediction: screenMissclassified Prediction: sinceMissclassified Prediction: iMissclassified Prediction: can'tMissclassified Prediction: doMissclassified Prediction: thatMissclassified Prediction: iMissclassified Prediction: willMissclassified Prediction: justMissclassified Prediction: complainMissclassified Prediction: aboutMissclassified Prediction: itMissclassified Prediction: thisMissclassified Prediction: wasMissclassified Prediction: absolutelyMissclassified Prediction: idioticMissclassified Prediction: theMissclassified Prediction: thingsMissclassified Prediction: thatMissclassified Prediction: happenMissclassified Prediction: withMissclassified Prediction: theMissclassified Prediction: deadMissclassified Prediction: kidsMissclassified Prediction: areMissclassified Prediction: veryMissclassified Prediction: coolMissclassified Prediction: butMissclassified Prediction: theMissclassified Prediction: aliveMissclassified Prediction: peopleMissclassified Prediction: areMissclassified Prediction: absoluteMissclassified Prediction: idiotsMissclassified Prediction: iMissclassified Prediction: amMissclassified Prediction: aMissclassified Prediction: grownMissclassified Prediction: manMissclassified Prediction: prettyMissclassified Prediction: bigMissclassified Prediction: andMissclassified Prediction: iMissclassified Prediction: canMissclassified Prediction: defendMissclassified Prediction: myselfMissclassified Prediction: wellMissclassified Prediction: howeverMissclassified Prediction: iMissclassified Prediction: wouldMissclassified Prediction: notMissclassified Prediction: doMissclassified Prediction: halfMissclassified Prediction: theMissclassified Prediction: stuffMissclassified Prediction: theMissclassified Prediction: littleMissclassified Prediction: girlMissclassified Prediction: doesMissclassified Prediction: inMissclassified Prediction: thisMissclassified Prediction: movieMissclassified Prediction: alsoMissclassified Prediction: theMissclassified Prediction: motherMissclassified Prediction: inMissclassified Prediction: thisMissclassified Prediction: movieMissclassified Prediction: isMissclassified Prediction: recklessMissclassified Prediction: withMissclassified Prediction: herMissclassified Prediction: childrenMissclassified Prediction: toMissclassified Prediction: theMissclassified Prediction: pointMissclassified Prediction: ofMissclassified Prediction: neglectMissclassified Prediction: iMissclassified Prediction: wishMissclassified Prediction: iMissclassified Prediction: wasn'tMissclassified Prediction: soMissclassified Prediction: angryMissclassified Prediction: aboutMissclassified Prediction: herMissclassified Prediction: andMissclassified Prediction: herMissclassified Prediction: actionsMissclassified Prediction: becauseMissclassified Prediction: iMissclassified Prediction: wouldMissclassified Prediction: haveMissclassified Prediction: otherwiseMissclassified Prediction: enjoyedMissclassified Prediction: theMissclassified Prediction: flickMissclassified Prediction: whatMissclassified Prediction: aMissclassified Prediction: numberMissclassified Prediction: sheMissclassified Prediction: wasMissclassified Prediction: takeMissclassified Prediction: myMissclassified Prediction: adviseMissclassified Prediction: andMissclassified Prediction: fastMissclassified Prediction: forwardMissclassified Prediction: throughMissclassified Prediction: everythingMissclassified Prediction: youMissclassified Prediction: seeMissclassified Prediction: herMissclassified Prediction: doMissclassified Prediction: untilMissclassified Prediction: theMissclassified Prediction: endMissclassified Prediction: alsoMissclassified Prediction: isMissclassified Prediction: anyoneMissclassified Prediction: elseMissclassified Prediction: gettingMissclassified Prediction: sickMissclassified Prediction: ofMissclassified Prediction: watchingMissclassified Prediction: moviesMissclassified Prediction: thatMissclassified Prediction: areMissclassified Prediction: filmedMissclassified Prediction: soMissclassified Prediction: darkMissclassified Prediction: anymoreMissclassified Prediction: oneMissclassified Prediction: canMissclassified Prediction: hardlyMissclassified Prediction: seeMissclassified Prediction: whatMissclassified Prediction: isMissclassified Prediction: beingMissclassified Prediction: filmedMissclassified Prediction: asMissclassified Prediction: anMissclassified Prediction: audienceMissclassified Prediction: weMissclassified Prediction: areMissclassified Prediction: Missclassified Prediction: involvedMissclassified Prediction: withMissclassified Prediction: theMissclassified Prediction: actionsMissclassified Prediction: onMissclassified Prediction: theMissclassified Prediction: screenMissclassified Prediction: soMissclassified Prediction: thenMissclassified Prediction: whyMissclassified Prediction: theMissclassified Prediction: hellMissclassified Prediction: can'tMissclassified Prediction: weMissclassified Prediction: haveMissclassified Prediction: nightMissclassified Prediction: vision\n"
          ],
          "name": "stdout"
        }
      ]
    },
    {
      "cell_type": "markdown",
      "metadata": {
        "id": "cxhyBdfdjURX",
        "colab_type": "text"
      },
      "source": [
        "The model is faling because the words in the review are positive but the meaning seems to be sarcastic or negative.\n",
        "\n"
      ]
    },
    {
      "cell_type": "markdown",
      "metadata": {
        "colab_type": "text",
        "id": "W9_hvA-lanwt"
      },
      "source": [
        "#### Takeaways\n",
        "* Neural nets require a lot of preprocessing to create tensors\n",
        "* Dense layers with ReLU activation can solve a wide range of problems\n",
        "* Binary classification can be done with a Dense layer with a single unit, sigmoid activation, and binary cross-entropy loss\n",
        "* Neural nets overfit easily\n",
        "* Many design choices have an effect on accuracy and overfitting. One can try:\n",
        "    - 1 or 3 hidden layers\n",
        "    - more or fewer hidden units (e.g. 64)\n",
        "    - MSE loss instead of binary cross-entropy\n",
        "    - `tanh` activation instead of `ReLU`"
      ]
    },
    {
      "cell_type": "markdown",
      "metadata": {
        "colab_type": "text",
        "id": "WchP4Tgu9ExF"
      },
      "source": [
        "### Regularization: build smaller networks\n",
        "* The easiest way to avoid overfitting is to use a simpler model\n",
        "* The number of learnable parameters is called the model _capacity_\n",
        "* A model with more parameters has a higher _memorization capacity_\n",
        "    - The entire training set can be `stored` in the weights\n",
        "    - Learns the mapping from training examples to outputs\n",
        "* Forcing the model to be small forces it to learn a compressed representation that generalizes better\n",
        "    - Always a trade-off between too much and too little capacity\n",
        "* Start with few layers and parameters, incease until you see diminisching returns"
      ]
    },
    {
      "cell_type": "markdown",
      "metadata": {
        "colab_type": "text",
        "id": "wo8UGPGQ9ExG"
      },
      "source": [
        "Let's try this on our movie review data, with 4 units per layer\n"
      ]
    },
    {
      "cell_type": "code",
      "metadata": {
        "colab_type": "code",
        "id": "rFjmZtyl9ExG",
        "colab": {}
      },
      "source": [
        "from keras.datasets import imdb\n",
        "import numpy as np\n",
        "\n",
        "(train_data, train_labels), (test_data, test_labels) = imdb.load_data(num_words=10000)\n",
        "\n",
        "def vectorize_sequences(sequences, dimension=10000):\n",
        "    # Create an all-zero matrix of shape (len(sequences), dimension)\n",
        "    results = np.zeros((len(sequences), dimension))\n",
        "    for i, sequence in enumerate(sequences):\n",
        "        results[i, sequence] = 1.  # set specific indices of results[i] to 1s\n",
        "    return results\n",
        "\n",
        "# Our vectorized training data\n",
        "x_train = vectorize_sequences(train_data)\n",
        "# Our vectorized test data\n",
        "x_test = vectorize_sequences(test_data)\n",
        "# Our vectorized labels\n",
        "y_train = np.asarray(train_labels).astype('float32')\n",
        "y_test = np.asarray(test_labels).astype('float32')"
      ],
      "execution_count": 0,
      "outputs": []
    },
    {
      "cell_type": "code",
      "metadata": {
        "colab_type": "code",
        "id": "0RYsX-RF9ExJ",
        "outputId": "b2a9e237-ba72-4d00-960d-23cdc68337cf",
        "colab": {
          "base_uri": "https://localhost:8080/",
          "height": 1000
        }
      },
      "source": [
        "from keras import models\n",
        "from keras import layers \n",
        "import matplotlib.pyplot as plt\n",
        "\n",
        "original_model = models.Sequential()\n",
        "original_model.add(layers.Dense(16, activation='relu', input_shape=(10000,)))\n",
        "original_model.add(layers.Dense(16, activation='relu'))\n",
        "original_model.add(layers.Dense(1, activation='sigmoid'))\n",
        "\n",
        "original_model.compile(optimizer='rmsprop',\n",
        "                       loss='binary_crossentropy',\n",
        "                       metrics=['acc'])\n",
        "\n",
        "smaller_model = models.Sequential()\n",
        "smaller_model.add(layers.Dense(4, activation='relu', input_shape=(10000,)))\n",
        "smaller_model.add(layers.Dense(4, activation='relu'))\n",
        "smaller_model.add(layers.Dense(1, activation='sigmoid'))\n",
        "\n",
        "smaller_model.compile(optimizer='rmsprop',\n",
        "                      loss='binary_crossentropy',\n",
        "                      metrics=['acc'])\n",
        "original_hist = original_model.fit(x_train, y_train,\n",
        "                                   epochs=20,\n",
        "                                   batch_size=512, verbose=2,\n",
        "                                   validation_data=(x_test, y_test))\n",
        "smaller_model_hist = smaller_model.fit(x_train, y_train,\n",
        "                                       epochs=20,\n",
        "                                       batch_size=512, verbose=2,\n",
        "                                       validation_data=(x_test, y_test))"
      ],
      "execution_count": 23,
      "outputs": [
        {
          "output_type": "stream",
          "text": [
            "Train on 25000 samples, validate on 25000 samples\n",
            "Epoch 1/20\n",
            " - 4s - loss: 0.4522 - acc: 0.8216 - val_loss: 0.3340 - val_acc: 0.8815\n",
            "Epoch 2/20\n",
            " - 4s - loss: 0.2591 - acc: 0.9110 - val_loss: 0.2870 - val_acc: 0.8874\n",
            "Epoch 3/20\n",
            " - 4s - loss: 0.2005 - acc: 0.9294 - val_loss: 0.2843 - val_acc: 0.8868\n",
            "Epoch 4/20\n",
            " - 4s - loss: 0.1677 - acc: 0.9409 - val_loss: 0.3132 - val_acc: 0.8771\n",
            "Epoch 5/20\n",
            " - 4s - loss: 0.1448 - acc: 0.9484 - val_loss: 0.3125 - val_acc: 0.8794\n",
            "Epoch 6/20\n",
            " - 4s - loss: 0.1286 - acc: 0.9547 - val_loss: 0.3433 - val_acc: 0.8738\n",
            "Epoch 7/20\n",
            " - 4s - loss: 0.1125 - acc: 0.9622 - val_loss: 0.3692 - val_acc: 0.8692\n",
            "Epoch 8/20\n",
            " - 4s - loss: 0.0993 - acc: 0.9665 - val_loss: 0.3825 - val_acc: 0.8708\n",
            "Epoch 9/20\n",
            " - 4s - loss: 0.0859 - acc: 0.9720 - val_loss: 0.4095 - val_acc: 0.8670\n",
            "Epoch 10/20\n",
            " - 4s - loss: 0.0774 - acc: 0.9735 - val_loss: 0.4477 - val_acc: 0.8629\n",
            "Epoch 11/20\n",
            " - 4s - loss: 0.0673 - acc: 0.9787 - val_loss: 0.4700 - val_acc: 0.8630\n",
            "Epoch 12/20\n",
            " - 4s - loss: 0.0595 - acc: 0.9815 - val_loss: 0.5066 - val_acc: 0.8577\n",
            "Epoch 13/20\n",
            " - 4s - loss: 0.0532 - acc: 0.9830 - val_loss: 0.5331 - val_acc: 0.8594\n",
            "Epoch 14/20\n",
            " - 4s - loss: 0.0440 - acc: 0.9874 - val_loss: 0.5633 - val_acc: 0.8570\n",
            "Epoch 15/20\n",
            " - 4s - loss: 0.0381 - acc: 0.9890 - val_loss: 0.6009 - val_acc: 0.8557\n",
            "Epoch 16/20\n",
            " - 4s - loss: 0.0334 - acc: 0.9904 - val_loss: 0.6321 - val_acc: 0.8534\n",
            "Epoch 17/20\n",
            " - 4s - loss: 0.0267 - acc: 0.9927 - val_loss: 0.7281 - val_acc: 0.8484\n",
            "Epoch 18/20\n",
            " - 4s - loss: 0.0251 - acc: 0.9936 - val_loss: 0.6956 - val_acc: 0.8510\n",
            "Epoch 19/20\n",
            " - 4s - loss: 0.0181 - acc: 0.9959 - val_loss: 0.7334 - val_acc: 0.8506\n",
            "Epoch 20/20\n",
            " - 4s - loss: 0.0150 - acc: 0.9967 - val_loss: 0.7704 - val_acc: 0.8494\n",
            "Train on 25000 samples, validate on 25000 samples\n",
            "Epoch 1/20\n",
            " - 4s - loss: 0.6027 - acc: 0.6934 - val_loss: 0.5520 - val_acc: 0.7963\n",
            "Epoch 2/20\n",
            " - 3s - loss: 0.5064 - acc: 0.8292 - val_loss: 0.5033 - val_acc: 0.8414\n",
            "Epoch 3/20\n",
            " - 3s - loss: 0.4583 - acc: 0.8785 - val_loss: 0.4763 - val_acc: 0.8642\n",
            "Epoch 4/20\n",
            " - 3s - loss: 0.4244 - acc: 0.9037 - val_loss: 0.4601 - val_acc: 0.8691\n",
            "Epoch 5/20\n",
            " - 3s - loss: 0.3977 - acc: 0.9197 - val_loss: 0.4500 - val_acc: 0.8726\n",
            "Epoch 6/20\n",
            " - 3s - loss: 0.3746 - acc: 0.9313 - val_loss: 0.4470 - val_acc: 0.8706\n",
            "Epoch 7/20\n",
            " - 3s - loss: 0.3537 - acc: 0.9418 - val_loss: 0.4466 - val_acc: 0.8718\n",
            "Epoch 8/20\n",
            " - 3s - loss: 0.3354 - acc: 0.9491 - val_loss: 0.4439 - val_acc: 0.8724\n",
            "Epoch 9/20\n",
            " - 3s - loss: 0.3177 - acc: 0.9568 - val_loss: 0.4472 - val_acc: 0.8730\n",
            "Epoch 10/20\n",
            " - 3s - loss: 0.3023 - acc: 0.9610 - val_loss: 0.4506 - val_acc: 0.8704\n",
            "Epoch 11/20\n",
            " - 3s - loss: 0.2871 - acc: 0.9654 - val_loss: 0.4467 - val_acc: 0.8696\n",
            "Epoch 12/20\n",
            " - 3s - loss: 0.2740 - acc: 0.9689 - val_loss: 0.4766 - val_acc: 0.8654\n",
            "Epoch 13/20\n",
            " - 3s - loss: 0.2606 - acc: 0.9726 - val_loss: 0.4928 - val_acc: 0.8639\n",
            "Epoch 14/20\n",
            " - 3s - loss: 0.2488 - acc: 0.9745 - val_loss: 0.5155 - val_acc: 0.8612\n",
            "Epoch 15/20\n",
            " - 3s - loss: 0.2371 - acc: 0.9771 - val_loss: 0.4997 - val_acc: 0.8622\n",
            "Epoch 16/20\n",
            " - 3s - loss: 0.2261 - acc: 0.9793 - val_loss: 0.5352 - val_acc: 0.8604\n",
            "Epoch 17/20\n",
            " - 3s - loss: 0.2170 - acc: 0.9799 - val_loss: 0.5748 - val_acc: 0.8566\n",
            "Epoch 18/20\n",
            " - 3s - loss: 0.2073 - acc: 0.9819 - val_loss: 0.5763 - val_acc: 0.8574\n",
            "Epoch 19/20\n",
            " - 3s - loss: 0.1981 - acc: 0.9831 - val_loss: 0.5970 - val_acc: 0.8556\n",
            "Epoch 20/20\n",
            " - 3s - loss: 0.1905 - acc: 0.9842 - val_loss: 0.6081 - val_acc: 0.8533\n"
          ],
          "name": "stdout"
        }
      ]
    },
    {
      "cell_type": "code",
      "metadata": {
        "id": "Q91dQMxvcQqX",
        "colab_type": "code",
        "outputId": "c54053ca-c880-496a-cb17-80ccfd11dece",
        "colab": {
          "base_uri": "https://localhost:8080/",
          "height": 35
        }
      },
      "source": [
        "original_hist"
      ],
      "execution_count": 24,
      "outputs": [
        {
          "output_type": "execute_result",
          "data": {
            "text/plain": [
              "<keras.callbacks.History at 0x7f3cbdcd6f98>"
            ]
          },
          "metadata": {
            "tags": []
          },
          "execution_count": 24
        }
      ]
    },
    {
      "cell_type": "code",
      "metadata": {
        "id": "LxnTAgyic2fv",
        "colab_type": "code",
        "outputId": "5a14aa6f-4062-4822-928b-de37718ece83",
        "colab": {
          "base_uri": "https://localhost:8080/",
          "height": 35
        }
      },
      "source": [
        "smaller_model_hist"
      ],
      "execution_count": 25,
      "outputs": [
        {
          "output_type": "execute_result",
          "data": {
            "text/plain": [
              "<keras.callbacks.History at 0x7f3cbc47bcc0>"
            ]
          },
          "metadata": {
            "tags": []
          },
          "execution_count": 25
        }
      ]
    },
    {
      "cell_type": "markdown",
      "metadata": {
        "colab_type": "text",
        "id": "rCV6TJ899ExL"
      },
      "source": [
        "1. Plot the validation loss for the original and smaller models. How does the smaller model behave compared to the original?"
      ]
    },
    {
      "cell_type": "code",
      "metadata": {
        "colab_type": "code",
        "id": "m7kNvhh-9ExN",
        "outputId": "ab7bc005-cacf-4b49-972e-4c63a6881246",
        "colab": {
          "base_uri": "https://localhost:8080/",
          "height": 501
        }
      },
      "source": [
        "# summarize history for loss\n",
        "plt.plot(original_hist.history['val_loss'])\n",
        "plt.plot(smaller_model_hist.history['val_loss'])\n",
        "plt.title('Validation loss')\n",
        "plt.ylabel('Val loss')\n",
        "plt.xlabel('epoch')\n",
        "plt.legend(['Orignal', 'smaller'], loc='upper left')\n",
        "plt.show()"
      ],
      "execution_count": 26,
      "outputs": [
        {
          "output_type": "display_data",
          "data": {
            "image/png": "[encoded data removed]",
            "text/plain": [
              "<Figure size 750x500 with 1 Axes>"
            ]
          },
          "metadata": {
            "tags": []
          }
        }
      ]
    },
    {
      "cell_type": "markdown",
      "metadata": {
        "id": "8m-06mtxkoHd",
        "colab_type": "text"
      },
      "source": [
        "Initially, the loss in the smaller model is higher than the loss in the original model. However, as the epochs are increasing the loss in the smaller model is less when compared to the loss in the original model. Which means the smaller model is less overfitting than the original model."
      ]
    },
    {
      "cell_type": "markdown",
      "metadata": {
        "id": "fpD5evbkdNlk",
        "colab_type": "text"
      },
      "source": [
        "Smaller model v/s original model"
      ]
    },
    {
      "cell_type": "markdown",
      "metadata": {
        "colab_type": "text",
        "id": "_u-YXpCZ9ExP"
      },
      "source": [
        "### Regularization: Weight regularization\n",
        "* As we did many times before, we can also add weight regularization to our loss function\n",
        "- L1 regularization: leads to _sparse networks_ with many weights that are 0\n",
        "- L2 regularization: leads to many very small weights\n",
        "    - Also called _weight decay_ in neural net literature\n",
        "* In Keras, add `kernel_regularizer` to every layer"
      ]
    },
    {
      "cell_type": "code",
      "metadata": {
        "colab_type": "code",
        "id": "kXOqh2uU9ExR",
        "colab": {}
      },
      "source": [
        "from keras import regularizers\n",
        "from keras import models\n",
        "from keras import layers \n",
        "import matplotlib.pyplot as plt\n",
        "\n",
        "l2_model = models.Sequential()\n",
        "l2_model.add(layers.Dense(16, kernel_regularizer=regularizers.l2(0.001),\n",
        "                          activation='relu', input_shape=(10000,)))\n",
        "l2_model.add(layers.Dense(16, kernel_regularizer=regularizers.l2(0.001),\n",
        "                          activation='relu'))\n",
        "l2_model.add(layers.Dense(1, activation='sigmoid'))"
      ],
      "execution_count": 0,
      "outputs": []
    },
    {
      "cell_type": "code",
      "metadata": {
        "colab_type": "code",
        "id": "mzNX3bHo9ExT",
        "colab": {}
      },
      "source": [
        "l2_model.compile(optimizer='rmsprop',\n",
        "                 loss='binary_crossentropy',\n",
        "                 metrics=['acc'])"
      ],
      "execution_count": 0,
      "outputs": []
    },
    {
      "cell_type": "code",
      "metadata": {
        "colab_type": "code",
        "id": "2Gg8hLY69ExU",
        "outputId": "330c0eff-1987-4500-b43b-2cbe6195fc94",
        "colab": {
          "base_uri": "https://localhost:8080/",
          "height": 728
        }
      },
      "source": [
        "l2_model_hist = l2_model.fit(x_train, y_train,\n",
        "                             epochs=20,\n",
        "                             batch_size=512, verbose=2,\n",
        "                             validation_data=(x_test, y_test))"
      ],
      "execution_count": 29,
      "outputs": [
        {
          "output_type": "stream",
          "text": [
            "Train on 25000 samples, validate on 25000 samples\n",
            "Epoch 1/20\n",
            " - 4s - loss: 0.5019 - acc: 0.8221 - val_loss: 0.3884 - val_acc: 0.8798\n",
            "Epoch 2/20\n",
            " - 4s - loss: 0.3211 - acc: 0.9047 - val_loss: 0.3437 - val_acc: 0.8836\n",
            "Epoch 3/20\n",
            " - 4s - loss: 0.2725 - acc: 0.9198 - val_loss: 0.3511 - val_acc: 0.8764\n",
            "Epoch 4/20\n",
            " - 4s - loss: 0.2498 - acc: 0.9285 - val_loss: 0.3517 - val_acc: 0.8767\n",
            "Epoch 5/20\n",
            " - 4s - loss: 0.2383 - acc: 0.9318 - val_loss: 0.3596 - val_acc: 0.8747\n",
            "Epoch 6/20\n",
            " - 4s - loss: 0.2289 - acc: 0.9375 - val_loss: 0.4023 - val_acc: 0.8587\n",
            "Epoch 7/20\n",
            " - 4s - loss: 0.2226 - acc: 0.9405 - val_loss: 0.3499 - val_acc: 0.8816\n",
            "Epoch 8/20\n",
            " - 4s - loss: 0.2171 - acc: 0.9415 - val_loss: 0.3571 - val_acc: 0.8798\n",
            "Epoch 9/20\n",
            " - 4s - loss: 0.2114 - acc: 0.9442 - val_loss: 0.3768 - val_acc: 0.8752\n",
            "Epoch 10/20\n",
            " - 4s - loss: 0.2102 - acc: 0.9440 - val_loss: 0.3700 - val_acc: 0.8763\n",
            "Epoch 11/20\n",
            " - 4s - loss: 0.2036 - acc: 0.9471 - val_loss: 0.4009 - val_acc: 0.8686\n",
            "Epoch 12/20\n",
            " - 4s - loss: 0.2035 - acc: 0.9456 - val_loss: 0.4022 - val_acc: 0.8691\n",
            "Epoch 13/20\n",
            " - 4s - loss: 0.1980 - acc: 0.9487 - val_loss: 0.3985 - val_acc: 0.8711\n",
            "Epoch 14/20\n",
            " - 4s - loss: 0.1989 - acc: 0.9490 - val_loss: 0.3929 - val_acc: 0.8727\n",
            "Epoch 15/20\n",
            " - 4s - loss: 0.1933 - acc: 0.9502 - val_loss: 0.4190 - val_acc: 0.8679\n",
            "Epoch 16/20\n",
            " - 4s - loss: 0.1947 - acc: 0.9491 - val_loss: 0.4618 - val_acc: 0.8540\n",
            "Epoch 17/20\n",
            " - 4s - loss: 0.1886 - acc: 0.9516 - val_loss: 0.4517 - val_acc: 0.8560\n",
            "Epoch 18/20\n",
            " - 4s - loss: 0.1843 - acc: 0.9549 - val_loss: 0.4651 - val_acc: 0.8555\n",
            "Epoch 19/20\n",
            " - 4s - loss: 0.1869 - acc: 0.9513 - val_loss: 0.4116 - val_acc: 0.8701\n",
            "Epoch 20/20\n",
            " - 4s - loss: 0.1793 - acc: 0.9572 - val_loss: 0.4192 - val_acc: 0.8696\n"
          ],
          "name": "stdout"
        }
      ]
    },
    {
      "cell_type": "markdown",
      "metadata": {
        "colab_type": "text",
        "id": "vKOw1jNlibXK"
      },
      "source": [
        "1. Plot the validation loss for the original and l2 regularized models. How does the regularized model behave compared to the original?"
      ]
    },
    {
      "cell_type": "code",
      "metadata": {
        "colab_type": "code",
        "id": "9qYQvkIe9ExW",
        "outputId": "cc30206e-8a94-4bf9-f6f2-87829b34b2f0",
        "colab": {
          "base_uri": "https://localhost:8080/",
          "height": 501
        }
      },
      "source": [
        "# summarize history for loss\n",
        "\n",
        "plt.plot(original_hist.history['val_loss'])\n",
        "plt.plot(l2_model_hist.history['val_loss'])\n",
        "plt.title('Validation loss')\n",
        "plt.ylabel('loss')\n",
        "plt.xlabel('epoch')\n",
        "plt.legend(['Original', 'L2 regularization'], loc='upper left')\n",
        "plt.show()"
      ],
      "execution_count": 30,
      "outputs": [
        {
          "output_type": "display_data",
          "data": {
            "image/png": "[encoded data removed]",
            "text/plain": [
              "<Figure size 750x500 with 1 Axes>"
            ]
          },
          "metadata": {
            "tags": []
          }
        }
      ]
    },
    {
      "cell_type": "markdown",
      "metadata": {
        "id": "LHOEaHkwlOUR",
        "colab_type": "text"
      },
      "source": [
        "The loss of the original model is increasing with increase in the no.of epcohs. But the loss in the l2 model is stable and is oscillating around 0.3 to 0.4. The l2 model is performing better than the original model."
      ]
    },
    {
      "cell_type": "markdown",
      "metadata": {
        "colab_type": "text",
        "id": "OFbL6yJF9ExZ"
      },
      "source": [
        "### Regularization: dropout\n",
        "* One of the most effective and commonly used regularization techniques\n",
        "* Randomly set a number of outputs of the layer to 0\n",
        "* Idea: break up accidental non-significant learned patterns \n",
        "* _Dropout rate_: fraction of the outputs that are zeroed-out\n",
        "    - Usually between 0.2 and 0.5\n",
        "* At test time, nothing is dropped out, but the output values are scaled down by the dropout rate\n",
        "    - Balances out that more units are active than during training\n",
        "* In Keras: add `Dropout` layers between the normal layers"
      ]
    },
    {
      "cell_type": "code",
      "metadata": {
        "colab_type": "code",
        "id": "SUHgbTz49Exa",
        "outputId": "c557f194-ed9c-4028-a527-478226b7ff9b",
        "colab": {
          "base_uri": "https://localhost:8080/",
          "height": 124
        }
      },
      "source": [
        "from keras import models\n",
        "from keras import layers \n",
        "import matplotlib.pyplot as plt\n",
        "\n",
        "dpt_model = models.Sequential()\n",
        "dpt_model.add(layers.Dense(16, activation='relu', input_shape=(10000,)))\n",
        "dpt_model.add(layers.Dropout(0.5))\n",
        "dpt_model.add(layers.Dense(16, activation='relu'))\n",
        "dpt_model.add(layers.Dropout(0.5))\n",
        "dpt_model.add(layers.Dense(1, activation='sigmoid'))\n",
        "\n",
        "dpt_model.compile(optimizer='rmsprop',\n",
        "                  loss='binary_crossentropy',\n",
        "                  metrics=['acc'])"
      ],
      "execution_count": 31,
      "outputs": [
        {
          "output_type": "stream",
          "text": [
            "WARNING:tensorflow:From /usr/local/lib/python3.6/dist-packages/keras/backend/tensorflow_backend.py:148: The name tf.placeholder_with_default is deprecated. Please use tf.compat.v1.placeholder_with_default instead.\n",
            "\n",
            "WARNING:tensorflow:From /usr/local/lib/python3.6/dist-packages/keras/backend/tensorflow_backend.py:3733: calling dropout (from tensorflow.python.ops.nn_ops) with keep_prob is deprecated and will be removed in a future version.\n",
            "Instructions for updating:\n",
            "Please use `rate` instead of `keep_prob`. Rate should be set to `rate = 1 - keep_prob`.\n"
          ],
          "name": "stdout"
        }
      ]
    },
    {
      "cell_type": "code",
      "metadata": {
        "colab_type": "code",
        "id": "2QSG_vWa9Exb",
        "outputId": "8ca8f8ad-422b-4c9c-afe6-cd530a704147",
        "colab": {
          "base_uri": "https://localhost:8080/",
          "height": 728
        }
      },
      "source": [
        "dpt_model_hist = dpt_model.fit(x_train, y_train,\n",
        "                               epochs=20,\n",
        "                               \n",
        "                               batch_size=512, verbose=2,\n",
        "                               validation_data=(x_test, y_test))"
      ],
      "execution_count": 32,
      "outputs": [
        {
          "output_type": "stream",
          "text": [
            "Train on 25000 samples, validate on 25000 samples\n",
            "Epoch 1/20\n",
            " - 4s - loss: 0.5894 - acc: 0.6768 - val_loss: 0.4379 - val_acc: 0.8653\n",
            "Epoch 2/20\n",
            " - 4s - loss: 0.4418 - acc: 0.8120 - val_loss: 0.3300 - val_acc: 0.8815\n",
            "Epoch 3/20\n",
            " - 4s - loss: 0.3580 - acc: 0.8595 - val_loss: 0.2961 - val_acc: 0.8865\n",
            "Epoch 4/20\n",
            " - 4s - loss: 0.3034 - acc: 0.8843 - val_loss: 0.2779 - val_acc: 0.8890\n",
            "Epoch 5/20\n",
            " - 4s - loss: 0.2681 - acc: 0.9011 - val_loss: 0.2793 - val_acc: 0.8885\n",
            "Epoch 6/20\n",
            " - 4s - loss: 0.2366 - acc: 0.9154 - val_loss: 0.2871 - val_acc: 0.8875\n",
            "Epoch 7/20\n",
            " - 4s - loss: 0.2121 - acc: 0.9254 - val_loss: 0.2994 - val_acc: 0.8862\n",
            "Epoch 8/20\n",
            " - 4s - loss: 0.1950 - acc: 0.9334 - val_loss: 0.3148 - val_acc: 0.8852\n",
            "Epoch 9/20\n",
            " - 4s - loss: 0.1773 - acc: 0.9404 - val_loss: 0.3422 - val_acc: 0.8837\n",
            "Epoch 10/20\n",
            " - 4s - loss: 0.1645 - acc: 0.9441 - val_loss: 0.3557 - val_acc: 0.8818\n",
            "Epoch 11/20\n",
            " - 4s - loss: 0.1535 - acc: 0.9473 - val_loss: 0.3886 - val_acc: 0.8824\n",
            "Epoch 12/20\n",
            " - 4s - loss: 0.1443 - acc: 0.9500 - val_loss: 0.4081 - val_acc: 0.8796\n",
            "Epoch 13/20\n",
            " - 4s - loss: 0.1379 - acc: 0.9537 - val_loss: 0.4391 - val_acc: 0.8751\n",
            "Epoch 14/20\n",
            " - 4s - loss: 0.1300 - acc: 0.9545 - val_loss: 0.4439 - val_acc: 0.8771\n",
            "Epoch 15/20\n",
            " - 4s - loss: 0.1269 - acc: 0.9558 - val_loss: 0.4713 - val_acc: 0.8778\n",
            "Epoch 16/20\n",
            " - 4s - loss: 0.1224 - acc: 0.9569 - val_loss: 0.4851 - val_acc: 0.8766\n",
            "Epoch 17/20\n",
            " - 4s - loss: 0.1157 - acc: 0.9597 - val_loss: 0.5136 - val_acc: 0.8754\n",
            "Epoch 18/20\n",
            " - 4s - loss: 0.1153 - acc: 0.9606 - val_loss: 0.5264 - val_acc: 0.8763\n",
            "Epoch 19/20\n",
            " - 4s - loss: 0.1158 - acc: 0.9602 - val_loss: 0.5514 - val_acc: 0.8745\n",
            "Epoch 20/20\n",
            " - 4s - loss: 0.1147 - acc: 0.9610 - val_loss: 0.5835 - val_acc: 0.8722\n"
          ],
          "name": "stdout"
        }
      ]
    },
    {
      "cell_type": "markdown",
      "metadata": {
        "colab_type": "text",
        "id": "VZx6VNXn9Exd"
      },
      "source": [
        "1. Plot the validation loss for the original and dropout models. How does the dropout model behave compared to the original?"
      ]
    },
    {
      "cell_type": "code",
      "metadata": {
        "colab_type": "code",
        "id": "-ZS_z7xM9Exe",
        "outputId": "db98b7b8-92a0-41d2-eb48-9229904a2ea7",
        "colab": {
          "base_uri": "https://localhost:8080/",
          "height": 501
        }
      },
      "source": [
        "# summarize history for loss\n",
        "plt.plot(original_hist.history['val_loss'])\n",
        "plt.plot(dpt_model_hist.history['val_loss'])\n",
        "plt.title('Validation loss')\n",
        "plt.ylabel('loss')\n",
        "plt.xlabel('epoch')\n",
        "plt.legend(['Orignal', 'dropout'], loc='upper left')\n",
        "plt.show()"
      ],
      "execution_count": 33,
      "outputs": [
        {
          "output_type": "display_data",
          "data": {
            "image/png": "[encoded data removed]",
            "text/plain": [
              "<Figure size 750x500 with 1 Axes>"
            ]
          },
          "metadata": {
            "tags": []
          }
        }
      ]
    },
    {
      "cell_type": "markdown",
      "metadata": {
        "id": "w2eSyMJblZHi",
        "colab_type": "text"
      },
      "source": [
        "The loss of both the original and dropout models are increasing with increase in the no.of epochs. But the dropout model is not overfitting."
      ]
    },
    {
      "cell_type": "markdown",
      "metadata": {
        "colab_type": "text",
        "id": "ORAwOqdV9Exf"
      },
      "source": [
        "### Regularization recap\n",
        "* Get more training data\n",
        "* Reduce the capacity of the network\n",
        "* Add weight regularization\n",
        "* Add dropout\n",
        "* Either start with a simple model and add capacity\n",
        "* Or, start with a complex model and then regularize by adding weight regularization and dropout"
      ]
    },
    {
      "cell_type": "markdown",
      "metadata": {
        "colab_type": "text",
        "id": "1xwfZv_E9Ewq"
      },
      "source": [
        "### Regression\n",
        "* Dataset: 506 examples of houses and sale prices (Boston)\n",
        "    - Included in Keras, with a 1/5 train-test split\n",
        "* Each row is one house price, described by numeric properties of the house and neighborhood\n",
        "* Small dataset, non-normalized features"
      ]
    },
    {
      "cell_type": "code",
      "metadata": {
        "colab_type": "code",
        "id": "ZlUGyLJS9Ewr",
        "colab": {
          "base_uri": "https://localhost:8080/",
          "height": 52
        },
        "outputId": "562d2e5e-9b3e-4b81-aaaa-b71527387aa3"
      },
      "source": [
        "from keras.datasets import boston_housing\n",
        "\n",
        "(train_data, train_targets), (test_data, test_targets) =  boston_housing.load_data()"
      ],
      "execution_count": 34,
      "outputs": [
        {
          "output_type": "stream",
          "text": [
            "Downloading data from https://s3.amazonaws.com/keras-datasets/boston_housing.npz\n",
            "57344/57026 [==============================] - 0s 0us/step\n"
          ],
          "name": "stdout"
        }
      ]
    },
    {
      "cell_type": "markdown",
      "metadata": {
        "colab_type": "text",
        "id": "gX4hkxBb9Ewt"
      },
      "source": [
        "#### Preprocessing\n",
        "* Neural nets work a lot better if we normalize the features first. \n",
        "* Keras has no built-in support so we have to do this manually (or with scikit-learn)\n",
        "    - Again, be careful not to look at the test data during normalization\n",
        "    \n"
      ]
    },
    {
      "cell_type": "code",
      "metadata": {
        "colab_type": "code",
        "id": "d-W92M6I9Ewt",
        "colab": {}
      },
      "source": [
        "\n",
        "mean, std = train_data.mean(axis=0), train_data.std(axis=0)\n",
        "train_data -= mean\n",
        "train_data /= std\n",
        "\n",
        "test_data -= mean\n",
        "test_data /= std"
      ],
      "execution_count": 0,
      "outputs": []
    },
    {
      "cell_type": "markdown",
      "metadata": {
        "colab_type": "text",
        "id": "OwM0wfKE9Ewx"
      },
      "source": [
        "#### Building the network\n",
        "* This is a small dataset, so easy to overfit\n",
        "    * We use 2 hidden layers of 64 units each\n",
        "* Use smaller batches, more epochs\n",
        "* Since we want scalar output, the output layer is one unit without activation\n",
        "* Loss function is Mean Squared Error (bigger penalty)\n",
        "* Evaluation metric is Mean Absolute Error (more interpretable)\n",
        "* We will also use cross-validation, so we wrap the model building in a function, so that we can call it multiple times\n",
        "\n",
        "1. Create a function build_model that returns the neural network model described above"
      ]
    },
    {
      "cell_type": "code",
      "metadata": {
        "colab_type": "code",
        "id": "vL_p-NcX9Ewz",
        "colab": {}
      },
      "source": [
        "def build_model():\n",
        "    model = models.Sequential()\n",
        "    model.add(layers.Dense(64, activation='relu',\n",
        "                           input_shape=(train_data.shape[1],)))\n",
        "    model.add(layers.Dense(64, activation='relu'))\n",
        "    model.add(layers.Dense(1))\n",
        "    model.compile(optimizer='rmsprop', loss='mse', metrics=['mae'])\n",
        "    return model"
      ],
      "execution_count": 0,
      "outputs": []
    },
    {
      "cell_type": "markdown",
      "metadata": {
        "colab_type": "text",
        "id": "t2seh8XW9Ew1"
      },
      "source": [
        "#### Cross-validation\n",
        "* Keras does not have support for cross-validation\n",
        "* We can implement cross-validation ourselves (seeprovided code below)\n",
        "* Alternatively, we can wrap a Keras model as a scikit-learn estimator\n",
        "* Generally speaking, cross-validation is tricky with neural nets\n",
        "    * Some fold may not converge, or fluctuate on random initialization\n",
        "    "
      ]
    },
    {
      "cell_type": "code",
      "metadata": {
        "colab_type": "code",
        "id": "VupbDC1U9Ew3",
        "outputId": "494099f6-6f9b-4f63-9261-2adf0ef0f0ac",
        "colab": {
          "base_uri": "https://localhost:8080/",
          "height": 87
        }
      },
      "source": [
        "# implementation of cross-validation\n",
        "import numpy as np\n",
        "\n",
        "k = 4\n",
        "num_val_samples = len(train_data) // k\n",
        "num_epochs = 20\n",
        "all_scores = []\n",
        "for i in range(k):\n",
        "    print('processing fold #', i)\n",
        "    # Prepare the validation data: data from partition # k\n",
        "    val_data = train_data[i * num_val_samples: (i + 1) * num_val_samples]\n",
        "    val_targets = train_targets[i * num_val_samples: (i + 1) * num_val_samples]\n",
        "\n",
        "    # Prepare the training data: data from all other partitions\n",
        "    partial_train_data = np.concatenate(\n",
        "        [train_data[:i * num_val_samples],\n",
        "         train_data[(i + 1) * num_val_samples:]],\n",
        "        axis=0)\n",
        "    partial_train_targets = np.concatenate(\n",
        "        [train_targets[:i * num_val_samples],\n",
        "         train_targets[(i + 1) * num_val_samples:]],\n",
        "        axis=0)\n",
        "\n",
        "    # Build the Keras model (already compiled)\n",
        "    model = build_model()\n",
        "    # Train the model (in silent mode, verbose=0)\n",
        "    model.fit(partial_train_data, partial_train_targets,\n",
        "              epochs=num_epochs, batch_size=1, verbose=0)\n",
        "    # Evaluate the model on the validation data\n",
        "    val_mse, val_mae = model.evaluate(val_data, val_targets, verbose=2)\n",
        "    all_scores.append(val_mae)"
      ],
      "execution_count": 37,
      "outputs": [
        {
          "output_type": "stream",
          "text": [
            "processing fold # 0\n",
            "processing fold # 1\n",
            "processing fold # 2\n",
            "processing fold # 3\n"
          ],
          "name": "stdout"
        }
      ]
    },
    {
      "cell_type": "markdown",
      "metadata": {
        "colab_type": "text",
        "id": "OcEyK-E59Ew8"
      },
      "source": [
        "1. Train for longer (200 epochs) and keep track of loss after every epoch. Plot and describe the loss as a function of epoch number."
      ]
    },
    {
      "cell_type": "code",
      "metadata": {
        "colab_type": "code",
        "id": "tXsVlXqw9Ew8",
        "outputId": "7d2f551c-870b-4e7c-ed25-a5ed48801cc3",
        "colab": {
          "base_uri": "https://localhost:8080/",
          "height": 1000
        }
      },
      "source": [
        "from keras import backend as K\n",
        "K.clear_session() # Memory clean-up\n",
        "\n",
        "num_epochs = 200\n",
        "all_mae_histories = []\n",
        "for i in range(k):\n",
        "    print('processing fold #', i)\n",
        "    # Prepare the validation data: data from partition # k\n",
        "    val_data = train_data[i * num_val_samples: (i + 1) * num_val_samples]\n",
        "    val_targets = train_targets[i * num_val_samples: (i + 1) * num_val_samples]\n",
        "\n",
        "    # Prepare the training data: data from all other partitions\n",
        "    partial_train_data = np.concatenate(\n",
        "        [train_data[:i * num_val_samples],\n",
        "         train_data[(i + 1) * num_val_samples:]],\n",
        "        axis=0)\n",
        "    partial_train_targets = np.concatenate(\n",
        "        [train_targets[:i * num_val_samples],\n",
        "         train_targets[(i + 1) * num_val_samples:]],\n",
        "        axis=0)\n",
        "\n",
        "    # Build the Keras model (already compiled)\n",
        "    model = build_model()\n",
        "    # Train the model (in silent mode, verbose=0)\n",
        "    history = model.fit(partial_train_data, partial_train_targets,\n",
        "                        validation_data=(val_data, val_targets),\n",
        "                        epochs=num_epochs, batch_size=1, verbose=2)\n",
        "    mae_history = history.history['val_loss']\n",
        "    all_mae_histories.append(mae_history)"
      ],
      "execution_count": 38,
      "outputs": [
        {
          "output_type": "stream",
          "text": [
            "WARNING:tensorflow:From /usr/local/lib/python3.6/dist-packages/keras/backend/tensorflow_backend.py:107: The name tf.reset_default_graph is deprecated. Please use tf.compat.v1.reset_default_graph instead.\n",
            "\n",
            "processing fold # 0\n",
            "Train on 303 samples, validate on 101 samples\n",
            "Epoch 1/200\n",
            " - 0s - loss: 194.0053 - mean_absolute_error: 10.6323 - val_loss: 34.0342 - val_mean_absolute_error: 3.8869\n",
            "Epoch 2/200\n",
            " - 0s - loss: 30.1415 - mean_absolute_error: 3.7916 - val_loss: 22.1274 - val_mean_absolute_error: 3.1619\n",
            "Epoch 3/200\n",
            " - 0s - loss: 21.5741 - mean_absolute_error: 3.2313 - val_loss: 18.0832 - val_mean_absolute_error: 3.0608\n",
            "Epoch 4/200\n",
            " - 0s - loss: 17.6496 - mean_absolute_error: 2.9316 - val_loss: 14.4695 - val_mean_absolute_error: 2.4135\n",
            "Epoch 5/200\n",
            " - 0s - loss: 15.8502 - mean_absolute_error: 2.6796 - val_loss: 12.1321 - val_mean_absolute_error: 2.3967\n",
            "Epoch 6/200\n",
            " - 0s - loss: 14.8521 - mean_absolute_error: 2.6272 - val_loss: 11.7328 - val_mean_absolute_error: 2.4202\n",
            "Epoch 7/200\n",
            " - 0s - loss: 13.8134 - mean_absolute_error: 2.5089 - val_loss: 12.2078 - val_mean_absolute_error: 2.3987\n",
            "Epoch 8/200\n",
            " - 0s - loss: 12.9312 - mean_absolute_error: 2.3731 - val_loss: 17.1138 - val_mean_absolute_error: 3.2169\n",
            "Epoch 9/200\n",
            " - 0s - loss: 12.5387 - mean_absolute_error: 2.4515 - val_loss: 11.4505 - val_mean_absolute_error: 2.2657\n",
            "Epoch 10/200\n",
            " - 0s - loss: 11.4538 - mean_absolute_error: 2.3480 - val_loss: 12.7033 - val_mean_absolute_error: 2.6237\n",
            "Epoch 11/200\n",
            " - 0s - loss: 11.8167 - mean_absolute_error: 2.2688 - val_loss: 10.2540 - val_mean_absolute_error: 2.2716\n",
            "Epoch 12/200\n",
            " - 0s - loss: 11.2703 - mean_absolute_error: 2.2560 - val_loss: 9.2585 - val_mean_absolute_error: 1.9990\n",
            "Epoch 13/200\n",
            " - 0s - loss: 11.1059 - mean_absolute_error: 2.2281 - val_loss: 8.8344 - val_mean_absolute_error: 1.8632\n",
            "Epoch 14/200\n",
            " - 0s - loss: 10.3873 - mean_absolute_error: 2.1420 - val_loss: 10.6577 - val_mean_absolute_error: 2.2202\n",
            "Epoch 15/200\n",
            " - 0s - loss: 10.4019 - mean_absolute_error: 2.1858 - val_loss: 9.3252 - val_mean_absolute_error: 2.0796\n",
            "Epoch 16/200\n",
            " - 0s - loss: 10.0582 - mean_absolute_error: 2.1157 - val_loss: 8.8191 - val_mean_absolute_error: 1.9942\n",
            "Epoch 17/200\n",
            " - 0s - loss: 10.4501 - mean_absolute_error: 2.0933 - val_loss: 9.3139 - val_mean_absolute_error: 2.0073\n",
            "Epoch 18/200\n",
            " - 0s - loss: 9.6481 - mean_absolute_error: 2.0985 - val_loss: 9.2489 - val_mean_absolute_error: 2.1382\n",
            "Epoch 19/200\n",
            " - 0s - loss: 9.6833 - mean_absolute_error: 2.0567 - val_loss: 8.9843 - val_mean_absolute_error: 1.8573\n",
            "Epoch 20/200\n",
            " - 0s - loss: 9.7635 - mean_absolute_error: 2.0878 - val_loss: 10.2154 - val_mean_absolute_error: 2.1595\n",
            "Epoch 21/200\n",
            " - 0s - loss: 9.5497 - mean_absolute_error: 2.0199 - val_loss: 8.1681 - val_mean_absolute_error: 2.0137\n",
            "Epoch 22/200\n",
            " - 0s - loss: 9.3123 - mean_absolute_error: 2.0444 - val_loss: 8.7437 - val_mean_absolute_error: 1.9657\n",
            "Epoch 23/200\n",
            " - 0s - loss: 9.2101 - mean_absolute_error: 1.9681 - val_loss: 8.2608 - val_mean_absolute_error: 1.9154\n",
            "Epoch 24/200\n",
            " - 0s - loss: 9.2331 - mean_absolute_error: 2.0161 - val_loss: 8.8732 - val_mean_absolute_error: 2.0949\n",
            "Epoch 25/200\n",
            " - 0s - loss: 9.2122 - mean_absolute_error: 1.9272 - val_loss: 8.6362 - val_mean_absolute_error: 1.8832\n",
            "Epoch 26/200\n",
            " - 0s - loss: 8.8907 - mean_absolute_error: 1.9491 - val_loss: 9.4227 - val_mean_absolute_error: 2.1677\n",
            "Epoch 27/200\n",
            " - 0s - loss: 8.1282 - mean_absolute_error: 1.9426 - val_loss: 8.6907 - val_mean_absolute_error: 2.0253\n",
            "Epoch 28/200\n",
            " - 0s - loss: 8.6989 - mean_absolute_error: 1.9244 - val_loss: 8.7552 - val_mean_absolute_error: 2.0694\n",
            "Epoch 29/200\n",
            " - 0s - loss: 8.1745 - mean_absolute_error: 1.8694 - val_loss: 8.8266 - val_mean_absolute_error: 1.8528\n",
            "Epoch 30/200\n",
            " - 0s - loss: 8.3733 - mean_absolute_error: 1.8844 - val_loss: 8.4938 - val_mean_absolute_error: 2.0442\n",
            "Epoch 31/200\n",
            " - 0s - loss: 8.0984 - mean_absolute_error: 1.9151 - val_loss: 8.5098 - val_mean_absolute_error: 2.0293\n",
            "Epoch 32/200\n",
            " - 0s - loss: 8.1411 - mean_absolute_error: 1.9061 - val_loss: 7.8334 - val_mean_absolute_error: 1.9181\n",
            "Epoch 33/200\n",
            " - 0s - loss: 7.5120 - mean_absolute_error: 1.8056 - val_loss: 9.7596 - val_mean_absolute_error: 2.3878\n",
            "Epoch 34/200\n",
            " - 0s - loss: 8.0091 - mean_absolute_error: 1.8392 - val_loss: 8.5772 - val_mean_absolute_error: 1.9350\n",
            "Epoch 35/200\n",
            " - 0s - loss: 7.9485 - mean_absolute_error: 1.7881 - val_loss: 8.6520 - val_mean_absolute_error: 1.8514\n",
            "Epoch 36/200\n",
            " - 0s - loss: 7.5402 - mean_absolute_error: 1.7844 - val_loss: 8.9479 - val_mean_absolute_error: 2.0841\n",
            "Epoch 37/200\n",
            " - 0s - loss: 7.6518 - mean_absolute_error: 1.8085 - val_loss: 9.0623 - val_mean_absolute_error: 2.0780\n",
            "Epoch 38/200\n",
            " - 0s - loss: 7.5635 - mean_absolute_error: 1.7661 - val_loss: 8.5554 - val_mean_absolute_error: 2.0148\n",
            "Epoch 39/200\n",
            " - 0s - loss: 7.1152 - mean_absolute_error: 1.7230 - val_loss: 8.3923 - val_mean_absolute_error: 2.1454\n",
            "Epoch 40/200\n",
            " - 0s - loss: 7.2724 - mean_absolute_error: 1.7272 - val_loss: 8.1061 - val_mean_absolute_error: 1.8513\n",
            "Epoch 41/200\n",
            " - 0s - loss: 7.4009 - mean_absolute_error: 1.7402 - val_loss: 7.6586 - val_mean_absolute_error: 1.8611\n",
            "Epoch 42/200\n",
            " - 0s - loss: 7.0209 - mean_absolute_error: 1.7077 - val_loss: 8.3871 - val_mean_absolute_error: 1.9490\n",
            "Epoch 43/200\n",
            " - 0s - loss: 7.0342 - mean_absolute_error: 1.7084 - val_loss: 8.0985 - val_mean_absolute_error: 2.0061\n",
            "Epoch 44/200\n",
            " - 0s - loss: 6.7188 - mean_absolute_error: 1.7145 - val_loss: 10.2971 - val_mean_absolute_error: 2.1468\n",
            "Epoch 45/200\n",
            " - 0s - loss: 7.1150 - mean_absolute_error: 1.7380 - val_loss: 8.5251 - val_mean_absolute_error: 2.2087\n",
            "Epoch 46/200\n",
            " - 0s - loss: 6.2865 - mean_absolute_error: 1.6850 - val_loss: 10.3186 - val_mean_absolute_error: 2.5233\n",
            "Epoch 47/200\n",
            " - 0s - loss: 6.4480 - mean_absolute_error: 1.7366 - val_loss: 8.3199 - val_mean_absolute_error: 2.0169\n",
            "Epoch 48/200\n",
            " - 0s - loss: 6.9352 - mean_absolute_error: 1.7242 - val_loss: 7.8745 - val_mean_absolute_error: 1.8293\n",
            "Epoch 49/200\n",
            " - 0s - loss: 6.3853 - mean_absolute_error: 1.6552 - val_loss: 7.4982 - val_mean_absolute_error: 1.9140\n",
            "Epoch 50/200\n",
            " - 0s - loss: 6.5456 - mean_absolute_error: 1.6664 - val_loss: 8.2984 - val_mean_absolute_error: 2.1902\n",
            "Epoch 51/200\n",
            " - 0s - loss: 6.7146 - mean_absolute_error: 1.6849 - val_loss: 8.1865 - val_mean_absolute_error: 2.0668\n",
            "Epoch 52/200\n",
            " - 0s - loss: 5.3914 - mean_absolute_error: 1.5641 - val_loss: 12.0971 - val_mean_absolute_error: 2.6495\n",
            "Epoch 53/200\n",
            " - 0s - loss: 6.3446 - mean_absolute_error: 1.6735 - val_loss: 8.8247 - val_mean_absolute_error: 1.9350\n",
            "Epoch 54/200\n",
            " - 0s - loss: 6.0773 - mean_absolute_error: 1.6117 - val_loss: 7.2541 - val_mean_absolute_error: 1.8513\n",
            "Epoch 55/200\n",
            " - 0s - loss: 5.8732 - mean_absolute_error: 1.6584 - val_loss: 7.3883 - val_mean_absolute_error: 1.8641\n",
            "Epoch 56/200\n",
            " - 0s - loss: 6.2408 - mean_absolute_error: 1.6643 - val_loss: 8.7892 - val_mean_absolute_error: 2.2533\n",
            "Epoch 57/200\n",
            " - 0s - loss: 5.7955 - mean_absolute_error: 1.5965 - val_loss: 10.8429 - val_mean_absolute_error: 2.5912\n",
            "Epoch 58/200\n",
            " - 0s - loss: 5.8177 - mean_absolute_error: 1.6256 - val_loss: 7.8656 - val_mean_absolute_error: 2.0369\n",
            "Epoch 59/200\n",
            " - 0s - loss: 5.7765 - mean_absolute_error: 1.6256 - val_loss: 9.1467 - val_mean_absolute_error: 2.1402\n",
            "Epoch 60/200\n",
            " - 0s - loss: 5.7335 - mean_absolute_error: 1.5523 - val_loss: 7.9203 - val_mean_absolute_error: 2.0388\n",
            "Epoch 61/200\n",
            " - 0s - loss: 5.7634 - mean_absolute_error: 1.5412 - val_loss: 9.4964 - val_mean_absolute_error: 2.4370\n",
            "Epoch 62/200\n",
            " - 0s - loss: 5.6857 - mean_absolute_error: 1.5667 - val_loss: 11.6673 - val_mean_absolute_error: 2.7031\n",
            "Epoch 63/200\n",
            " - 0s - loss: 5.8780 - mean_absolute_error: 1.5598 - val_loss: 9.5019 - val_mean_absolute_error: 2.4630\n",
            "Epoch 64/200\n",
            " - 0s - loss: 5.6450 - mean_absolute_error: 1.5506 - val_loss: 8.2427 - val_mean_absolute_error: 1.8553\n",
            "Epoch 65/200\n",
            " - 0s - loss: 5.0681 - mean_absolute_error: 1.5485 - val_loss: 9.5451 - val_mean_absolute_error: 2.0776\n",
            "Epoch 66/200\n",
            " - 0s - loss: 5.4974 - mean_absolute_error: 1.5664 - val_loss: 8.4205 - val_mean_absolute_error: 2.0226\n",
            "Epoch 67/200\n",
            " - 0s - loss: 5.3442 - mean_absolute_error: 1.5492 - val_loss: 8.4150 - val_mean_absolute_error: 1.9143\n",
            "Epoch 68/200\n",
            " - 0s - loss: 5.5284 - mean_absolute_error: 1.5819 - val_loss: 8.0814 - val_mean_absolute_error: 2.0614\n",
            "Epoch 69/200\n",
            " - 0s - loss: 5.4751 - mean_absolute_error: 1.5367 - val_loss: 8.5749 - val_mean_absolute_error: 2.1499\n",
            "Epoch 70/200\n",
            " - 0s - loss: 4.9635 - mean_absolute_error: 1.4648 - val_loss: 7.5696 - val_mean_absolute_error: 2.0510\n",
            "Epoch 71/200\n",
            " - 0s - loss: 5.4280 - mean_absolute_error: 1.5108 - val_loss: 8.8858 - val_mean_absolute_error: 2.3594\n",
            "Epoch 72/200\n",
            " - 0s - loss: 5.5152 - mean_absolute_error: 1.5549 - val_loss: 8.4061 - val_mean_absolute_error: 1.9880\n",
            "Epoch 73/200\n",
            " - 0s - loss: 5.0268 - mean_absolute_error: 1.4809 - val_loss: 7.3881 - val_mean_absolute_error: 1.9007\n",
            "Epoch 74/200\n",
            " - 0s - loss: 4.9392 - mean_absolute_error: 1.4959 - val_loss: 9.1019 - val_mean_absolute_error: 2.2880\n",
            "Epoch 75/200\n",
            " - 0s - loss: 4.9512 - mean_absolute_error: 1.4359 - val_loss: 9.6470 - val_mean_absolute_error: 2.3349\n",
            "Epoch 76/200\n",
            " - 0s - loss: 5.1261 - mean_absolute_error: 1.5330 - val_loss: 7.9055 - val_mean_absolute_error: 1.9220\n",
            "Epoch 77/200\n",
            " - 0s - loss: 4.8142 - mean_absolute_error: 1.4757 - val_loss: 8.1446 - val_mean_absolute_error: 2.0972\n",
            "Epoch 78/200\n",
            " - 0s - loss: 4.7423 - mean_absolute_error: 1.4493 - val_loss: 8.2432 - val_mean_absolute_error: 2.0591\n",
            "Epoch 79/200\n",
            " - 0s - loss: 4.8605 - mean_absolute_error: 1.4287 - val_loss: 8.4360 - val_mean_absolute_error: 2.0657\n",
            "Epoch 80/200\n",
            " - 0s - loss: 5.1650 - mean_absolute_error: 1.4513 - val_loss: 7.8410 - val_mean_absolute_error: 2.0413\n",
            "Epoch 81/200\n",
            " - 0s - loss: 4.8393 - mean_absolute_error: 1.4562 - val_loss: 8.6962 - val_mean_absolute_error: 2.3674\n",
            "Epoch 82/200\n",
            " - 0s - loss: 4.7114 - mean_absolute_error: 1.4804 - val_loss: 7.8124 - val_mean_absolute_error: 1.9931\n",
            "Epoch 83/200\n",
            " - 0s - loss: 4.7050 - mean_absolute_error: 1.4158 - val_loss: 7.4241 - val_mean_absolute_error: 1.9281\n",
            "Epoch 84/200\n",
            " - 0s - loss: 4.7034 - mean_absolute_error: 1.4436 - val_loss: 8.7221 - val_mean_absolute_error: 2.1535\n",
            "Epoch 85/200\n",
            " - 0s - loss: 4.7728 - mean_absolute_error: 1.4620 - val_loss: 8.1714 - val_mean_absolute_error: 2.1037\n",
            "Epoch 86/200\n",
            " - 0s - loss: 4.7290 - mean_absolute_error: 1.4484 - val_loss: 7.7828 - val_mean_absolute_error: 2.0877\n",
            "Epoch 87/200\n",
            " - 0s - loss: 4.4452 - mean_absolute_error: 1.4468 - val_loss: 8.5576 - val_mean_absolute_error: 2.1424\n",
            "Epoch 88/200\n",
            " - 0s - loss: 4.3718 - mean_absolute_error: 1.3791 - val_loss: 8.4363 - val_mean_absolute_error: 2.2207\n",
            "Epoch 89/200\n",
            " - 0s - loss: 4.9174 - mean_absolute_error: 1.4659 - val_loss: 7.4023 - val_mean_absolute_error: 2.0155\n",
            "Epoch 90/200\n",
            " - 0s - loss: 4.6681 - mean_absolute_error: 1.3721 - val_loss: 7.4639 - val_mean_absolute_error: 1.9941\n",
            "Epoch 91/200\n",
            " - 0s - loss: 4.3013 - mean_absolute_error: 1.3547 - val_loss: 10.0669 - val_mean_absolute_error: 2.3217\n",
            "Epoch 92/200\n",
            " - 0s - loss: 4.3768 - mean_absolute_error: 1.3968 - val_loss: 10.4732 - val_mean_absolute_error: 2.5345\n",
            "Epoch 93/200\n",
            " - 0s - loss: 4.5941 - mean_absolute_error: 1.4568 - val_loss: 7.1087 - val_mean_absolute_error: 2.0096\n",
            "Epoch 94/200\n",
            " - 0s - loss: 4.3385 - mean_absolute_error: 1.3976 - val_loss: 7.7134 - val_mean_absolute_error: 1.9855\n",
            "Epoch 95/200\n",
            " - 0s - loss: 4.3349 - mean_absolute_error: 1.3776 - val_loss: 8.3201 - val_mean_absolute_error: 1.9920\n",
            "Epoch 96/200\n",
            " - 0s - loss: 4.5592 - mean_absolute_error: 1.3822 - val_loss: 8.2334 - val_mean_absolute_error: 2.1124\n",
            "Epoch 97/200\n",
            " - 0s - loss: 4.1387 - mean_absolute_error: 1.3624 - val_loss: 9.5682 - val_mean_absolute_error: 2.4360\n",
            "Epoch 98/200\n",
            " - 0s - loss: 4.3172 - mean_absolute_error: 1.3963 - val_loss: 7.9876 - val_mean_absolute_error: 1.9679\n",
            "Epoch 99/200\n",
            " - 0s - loss: 3.8650 - mean_absolute_error: 1.3452 - val_loss: 11.1804 - val_mean_absolute_error: 2.5433\n",
            "Epoch 100/200\n",
            " - 0s - loss: 4.0147 - mean_absolute_error: 1.3290 - val_loss: 10.3768 - val_mean_absolute_error: 2.6123\n",
            "Epoch 101/200\n",
            " - 0s - loss: 4.2330 - mean_absolute_error: 1.3855 - val_loss: 10.6324 - val_mean_absolute_error: 2.5897\n",
            "Epoch 102/200\n",
            " - 0s - loss: 4.2211 - mean_absolute_error: 1.3724 - val_loss: 6.9992 - val_mean_absolute_error: 1.9412\n",
            "Epoch 103/200\n",
            " - 0s - loss: 4.1380 - mean_absolute_error: 1.3805 - val_loss: 7.8386 - val_mean_absolute_error: 2.1195\n",
            "Epoch 104/200\n",
            " - 0s - loss: 3.9673 - mean_absolute_error: 1.3265 - val_loss: 10.0349 - val_mean_absolute_error: 2.5289\n",
            "Epoch 105/200\n",
            " - 0s - loss: 4.0494 - mean_absolute_error: 1.3682 - val_loss: 7.9017 - val_mean_absolute_error: 1.9751\n",
            "Epoch 106/200\n",
            " - 0s - loss: 3.9106 - mean_absolute_error: 1.3493 - val_loss: 7.6728 - val_mean_absolute_error: 2.0133\n",
            "Epoch 107/200\n",
            " - 0s - loss: 3.8025 - mean_absolute_error: 1.2968 - val_loss: 8.6628 - val_mean_absolute_error: 2.1704\n",
            "Epoch 108/200\n",
            " - 0s - loss: 4.0274 - mean_absolute_error: 1.3414 - val_loss: 7.1191 - val_mean_absolute_error: 1.9226\n",
            "Epoch 109/200\n",
            " - 0s - loss: 3.7221 - mean_absolute_error: 1.3162 - val_loss: 8.4914 - val_mean_absolute_error: 2.0556\n",
            "Epoch 110/200\n",
            " - 0s - loss: 4.1253 - mean_absolute_error: 1.3109 - val_loss: 8.2393 - val_mean_absolute_error: 2.2435\n",
            "Epoch 111/200\n",
            " - 0s - loss: 3.6117 - mean_absolute_error: 1.2787 - val_loss: 7.5952 - val_mean_absolute_error: 2.0500\n",
            "Epoch 112/200\n",
            " - 0s - loss: 4.0998 - mean_absolute_error: 1.3113 - val_loss: 8.2877 - val_mean_absolute_error: 2.1756\n",
            "Epoch 113/200\n",
            " - 0s - loss: 4.0569 - mean_absolute_error: 1.2789 - val_loss: 6.9019 - val_mean_absolute_error: 1.9344\n",
            "Epoch 114/200\n",
            " - 0s - loss: 3.7165 - mean_absolute_error: 1.2827 - val_loss: 8.3664 - val_mean_absolute_error: 2.1807\n",
            "Epoch 115/200\n",
            " - 0s - loss: 3.6547 - mean_absolute_error: 1.2610 - val_loss: 8.9800 - val_mean_absolute_error: 2.1441\n",
            "Epoch 116/200\n",
            " - 0s - loss: 3.6144 - mean_absolute_error: 1.2878 - val_loss: 7.9559 - val_mean_absolute_error: 2.1064\n",
            "Epoch 117/200\n",
            " - 0s - loss: 3.7914 - mean_absolute_error: 1.3501 - val_loss: 7.5070 - val_mean_absolute_error: 2.1259\n",
            "Epoch 118/200\n",
            " - 0s - loss: 3.7124 - mean_absolute_error: 1.2784 - val_loss: 8.8730 - val_mean_absolute_error: 2.2559\n",
            "Epoch 119/200\n",
            " - 0s - loss: 3.7367 - mean_absolute_error: 1.2893 - val_loss: 7.1838 - val_mean_absolute_error: 1.9455\n",
            "Epoch 120/200\n",
            " - 0s - loss: 3.5960 - mean_absolute_error: 1.2629 - val_loss: 7.4100 - val_mean_absolute_error: 2.1468\n",
            "Epoch 121/200\n",
            " - 0s - loss: 3.5567 - mean_absolute_error: 1.2323 - val_loss: 8.1160 - val_mean_absolute_error: 2.0911\n",
            "Epoch 122/200\n",
            " - 0s - loss: 3.4966 - mean_absolute_error: 1.2632 - val_loss: 7.3543 - val_mean_absolute_error: 2.0582\n",
            "Epoch 123/200\n",
            " - 0s - loss: 3.6451 - mean_absolute_error: 1.2128 - val_loss: 7.3445 - val_mean_absolute_error: 2.0290\n",
            "Epoch 124/200\n",
            " - 0s - loss: 3.3524 - mean_absolute_error: 1.2242 - val_loss: 8.4656 - val_mean_absolute_error: 2.1936\n",
            "Epoch 125/200\n",
            " - 0s - loss: 3.5891 - mean_absolute_error: 1.2596 - val_loss: 8.5460 - val_mean_absolute_error: 2.1220\n",
            "Epoch 126/200\n",
            " - 0s - loss: 3.3269 - mean_absolute_error: 1.2172 - val_loss: 9.5068 - val_mean_absolute_error: 2.5180\n",
            "Epoch 127/200\n",
            " - 0s - loss: 3.6147 - mean_absolute_error: 1.2477 - val_loss: 7.4876 - val_mean_absolute_error: 2.1506\n",
            "Epoch 128/200\n",
            " - 0s - loss: 3.5985 - mean_absolute_error: 1.2313 - val_loss: 7.7364 - val_mean_absolute_error: 2.0144\n",
            "Epoch 129/200\n",
            " - 0s - loss: 3.4350 - mean_absolute_error: 1.2883 - val_loss: 8.8856 - val_mean_absolute_error: 2.3044\n",
            "Epoch 130/200\n",
            " - 0s - loss: 3.4213 - mean_absolute_error: 1.2565 - val_loss: 8.4572 - val_mean_absolute_error: 2.2180\n",
            "Epoch 131/200\n",
            " - 0s - loss: 3.3587 - mean_absolute_error: 1.2508 - val_loss: 8.3897 - val_mean_absolute_error: 2.2459\n",
            "Epoch 132/200\n",
            " - 0s - loss: 3.2949 - mean_absolute_error: 1.1749 - val_loss: 8.4865 - val_mean_absolute_error: 2.2353\n",
            "Epoch 133/200\n",
            " - 0s - loss: 3.1413 - mean_absolute_error: 1.2441 - val_loss: 11.5523 - val_mean_absolute_error: 2.6357\n",
            "Epoch 134/200\n",
            " - 0s - loss: 3.2436 - mean_absolute_error: 1.2484 - val_loss: 8.4535 - val_mean_absolute_error: 2.1191\n",
            "Epoch 135/200\n",
            " - 0s - loss: 3.2737 - mean_absolute_error: 1.1701 - val_loss: 6.9653 - val_mean_absolute_error: 2.0065\n",
            "Epoch 136/200\n",
            " - 0s - loss: 3.3118 - mean_absolute_error: 1.2475 - val_loss: 7.2606 - val_mean_absolute_error: 2.1068\n",
            "Epoch 137/200\n",
            " - 0s - loss: 3.2241 - mean_absolute_error: 1.2191 - val_loss: 8.6225 - val_mean_absolute_error: 2.1041\n",
            "Epoch 138/200\n",
            " - 0s - loss: 3.0777 - mean_absolute_error: 1.1668 - val_loss: 8.2876 - val_mean_absolute_error: 2.1827\n",
            "Epoch 139/200\n",
            " - 0s - loss: 3.3089 - mean_absolute_error: 1.1939 - val_loss: 7.8866 - val_mean_absolute_error: 2.0651\n",
            "Epoch 140/200\n",
            " - 0s - loss: 2.9992 - mean_absolute_error: 1.1452 - val_loss: 9.1089 - val_mean_absolute_error: 2.3301\n",
            "Epoch 141/200\n",
            " - 0s - loss: 3.0142 - mean_absolute_error: 1.1665 - val_loss: 8.0551 - val_mean_absolute_error: 2.1273\n",
            "Epoch 142/200\n",
            " - 0s - loss: 3.1761 - mean_absolute_error: 1.1742 - val_loss: 8.0908 - val_mean_absolute_error: 2.1583\n",
            "Epoch 143/200\n",
            " - 0s - loss: 3.1657 - mean_absolute_error: 1.1732 - val_loss: 8.6288 - val_mean_absolute_error: 2.1872\n",
            "Epoch 144/200\n",
            " - 0s - loss: 2.8724 - mean_absolute_error: 1.1784 - val_loss: 7.8691 - val_mean_absolute_error: 2.0708\n",
            "Epoch 145/200\n",
            " - 0s - loss: 3.1013 - mean_absolute_error: 1.1580 - val_loss: 9.4645 - val_mean_absolute_error: 2.2670\n",
            "Epoch 146/200\n",
            " - 0s - loss: 2.9287 - mean_absolute_error: 1.1694 - val_loss: 7.5267 - val_mean_absolute_error: 2.0578\n",
            "Epoch 147/200\n",
            " - 0s - loss: 2.9557 - mean_absolute_error: 1.2076 - val_loss: 8.9771 - val_mean_absolute_error: 2.2738\n",
            "Epoch 148/200\n",
            " - 0s - loss: 2.9187 - mean_absolute_error: 1.1520 - val_loss: 8.8623 - val_mean_absolute_error: 2.1248\n",
            "Epoch 149/200\n",
            " - 0s - loss: 2.5738 - mean_absolute_error: 1.0985 - val_loss: 10.5614 - val_mean_absolute_error: 2.5353\n",
            "Epoch 150/200\n",
            " - 0s - loss: 3.1188 - mean_absolute_error: 1.1888 - val_loss: 7.9634 - val_mean_absolute_error: 2.0320\n",
            "Epoch 151/200\n",
            " - 0s - loss: 2.7476 - mean_absolute_error: 1.1234 - val_loss: 8.9002 - val_mean_absolute_error: 2.2309\n",
            "Epoch 152/200\n",
            " - 0s - loss: 3.0877 - mean_absolute_error: 1.1994 - val_loss: 10.0309 - val_mean_absolute_error: 2.3323\n",
            "Epoch 153/200\n",
            " - 0s - loss: 2.8172 - mean_absolute_error: 1.2136 - val_loss: 9.1695 - val_mean_absolute_error: 2.3591\n",
            "Epoch 154/200\n",
            " - 0s - loss: 2.8839 - mean_absolute_error: 1.1300 - val_loss: 8.9864 - val_mean_absolute_error: 2.2011\n",
            "Epoch 155/200\n",
            " - 0s - loss: 3.1011 - mean_absolute_error: 1.1934 - val_loss: 8.1493 - val_mean_absolute_error: 2.1417\n",
            "Epoch 156/200\n",
            " - 0s - loss: 2.7279 - mean_absolute_error: 1.1566 - val_loss: 9.7029 - val_mean_absolute_error: 2.4010\n",
            "Epoch 157/200\n",
            " - 0s - loss: 2.6724 - mean_absolute_error: 1.1236 - val_loss: 8.2957 - val_mean_absolute_error: 2.1592\n",
            "Epoch 158/200\n",
            " - 0s - loss: 2.8501 - mean_absolute_error: 1.1452 - val_loss: 8.7354 - val_mean_absolute_error: 2.2019\n",
            "Epoch 159/200\n",
            " - 0s - loss: 2.8170 - mean_absolute_error: 1.1302 - val_loss: 8.8581 - val_mean_absolute_error: 2.1422\n",
            "Epoch 160/200\n",
            " - 0s - loss: 2.5181 - mean_absolute_error: 1.0938 - val_loss: 9.0513 - val_mean_absolute_error: 2.1652\n",
            "Epoch 161/200\n",
            " - 0s - loss: 2.6240 - mean_absolute_error: 1.1147 - val_loss: 9.3095 - val_mean_absolute_error: 2.2562\n",
            "Epoch 162/200\n",
            " - 0s - loss: 2.8212 - mean_absolute_error: 1.1350 - val_loss: 8.4680 - val_mean_absolute_error: 2.1082\n",
            "Epoch 163/200\n",
            " - 0s - loss: 2.7579 - mean_absolute_error: 1.0907 - val_loss: 7.8705 - val_mean_absolute_error: 2.1884\n",
            "Epoch 164/200\n",
            " - 0s - loss: 2.7429 - mean_absolute_error: 1.0957 - val_loss: 9.1548 - val_mean_absolute_error: 2.1884\n",
            "Epoch 165/200\n",
            " - 0s - loss: 2.3604 - mean_absolute_error: 1.0869 - val_loss: 7.7053 - val_mean_absolute_error: 2.1545\n",
            "Epoch 166/200\n",
            " - 0s - loss: 2.4681 - mean_absolute_error: 1.1205 - val_loss: 9.1552 - val_mean_absolute_error: 2.1825\n",
            "Epoch 167/200\n",
            " - 0s - loss: 2.6471 - mean_absolute_error: 1.1068 - val_loss: 8.8030 - val_mean_absolute_error: 2.1921\n",
            "Epoch 168/200\n",
            " - 0s - loss: 2.7595 - mean_absolute_error: 1.1532 - val_loss: 9.5195 - val_mean_absolute_error: 2.1729\n",
            "Epoch 169/200\n",
            " - 0s - loss: 2.5038 - mean_absolute_error: 1.0939 - val_loss: 9.4143 - val_mean_absolute_error: 2.2793\n",
            "Epoch 170/200\n",
            " - 0s - loss: 2.5631 - mean_absolute_error: 1.1211 - val_loss: 9.1554 - val_mean_absolute_error: 2.2826\n",
            "Epoch 171/200\n",
            " - 0s - loss: 2.6090 - mean_absolute_error: 1.1144 - val_loss: 9.5443 - val_mean_absolute_error: 2.2965\n",
            "Epoch 172/200\n",
            " - 0s - loss: 2.7311 - mean_absolute_error: 1.1076 - val_loss: 9.3492 - val_mean_absolute_error: 2.2906\n",
            "Epoch 173/200\n",
            " - 0s - loss: 2.2076 - mean_absolute_error: 1.0828 - val_loss: 9.6084 - val_mean_absolute_error: 2.2884\n",
            "Epoch 174/200\n",
            " - 0s - loss: 2.3777 - mean_absolute_error: 1.0555 - val_loss: 7.5211 - val_mean_absolute_error: 2.0218\n",
            "Epoch 175/200\n",
            " - 0s - loss: 2.5749 - mean_absolute_error: 1.1194 - val_loss: 8.8645 - val_mean_absolute_error: 2.2652\n",
            "Epoch 176/200\n",
            " - 0s - loss: 2.3168 - mean_absolute_error: 1.0850 - val_loss: 9.0329 - val_mean_absolute_error: 2.1212\n",
            "Epoch 177/200\n",
            " - 0s - loss: 2.4167 - mean_absolute_error: 1.0734 - val_loss: 8.2978 - val_mean_absolute_error: 2.0613\n",
            "Epoch 178/200\n",
            " - 0s - loss: 2.4673 - mean_absolute_error: 1.0786 - val_loss: 8.2737 - val_mean_absolute_error: 2.1143\n",
            "Epoch 179/200\n",
            " - 0s - loss: 2.3825 - mean_absolute_error: 1.0893 - val_loss: 9.8483 - val_mean_absolute_error: 2.2845\n",
            "Epoch 180/200\n",
            " - 0s - loss: 2.3621 - mean_absolute_error: 1.0740 - val_loss: 8.9174 - val_mean_absolute_error: 2.1195\n",
            "Epoch 181/200\n",
            " - 0s - loss: 2.3759 - mean_absolute_error: 1.0851 - val_loss: 7.9939 - val_mean_absolute_error: 2.0330\n",
            "Epoch 182/200\n",
            " - 0s - loss: 2.3077 - mean_absolute_error: 1.0452 - val_loss: 9.4289 - val_mean_absolute_error: 2.2926\n",
            "Epoch 183/200\n",
            " - 0s - loss: 2.3835 - mean_absolute_error: 1.0616 - val_loss: 9.3435 - val_mean_absolute_error: 2.1659\n",
            "Epoch 184/200\n",
            " - 0s - loss: 2.4102 - mean_absolute_error: 1.0484 - val_loss: 9.9507 - val_mean_absolute_error: 2.3541\n",
            "Epoch 185/200\n",
            " - 0s - loss: 2.6612 - mean_absolute_error: 1.0817 - val_loss: 7.3831 - val_mean_absolute_error: 1.9804\n",
            "Epoch 186/200\n",
            " - 0s - loss: 2.1926 - mean_absolute_error: 1.0397 - val_loss: 9.0754 - val_mean_absolute_error: 2.2161\n",
            "Epoch 187/200\n",
            " - 0s - loss: 2.2362 - mean_absolute_error: 1.0418 - val_loss: 7.9303 - val_mean_absolute_error: 2.1503\n",
            "Epoch 188/200\n",
            " - 0s - loss: 2.4447 - mean_absolute_error: 1.1344 - val_loss: 9.6964 - val_mean_absolute_error: 2.2559\n",
            "Epoch 189/200\n",
            " - 0s - loss: 2.1918 - mean_absolute_error: 1.0211 - val_loss: 9.5358 - val_mean_absolute_error: 2.4138\n",
            "Epoch 190/200\n",
            " - 0s - loss: 2.4654 - mean_absolute_error: 1.0664 - val_loss: 8.9476 - val_mean_absolute_error: 2.1520\n",
            "Epoch 191/200\n",
            " - 0s - loss: 2.2533 - mean_absolute_error: 1.0157 - val_loss: 8.7922 - val_mean_absolute_error: 2.1089\n",
            "Epoch 192/200\n",
            " - 0s - loss: 2.1815 - mean_absolute_error: 1.0875 - val_loss: 9.3166 - val_mean_absolute_error: 2.2994\n",
            "Epoch 193/200\n",
            " - 0s - loss: 2.1984 - mean_absolute_error: 1.0517 - val_loss: 8.7100 - val_mean_absolute_error: 2.1517\n",
            "Epoch 194/200\n",
            " - 0s - loss: 2.2040 - mean_absolute_error: 1.0748 - val_loss: 9.5518 - val_mean_absolute_error: 2.1757\n",
            "Epoch 195/200\n",
            " - 0s - loss: 2.2121 - mean_absolute_error: 1.0401 - val_loss: 8.5748 - val_mean_absolute_error: 2.1416\n",
            "Epoch 196/200\n",
            " - 0s - loss: 2.2304 - mean_absolute_error: 1.0679 - val_loss: 9.1203 - val_mean_absolute_error: 2.2005\n",
            "Epoch 197/200\n",
            " - 0s - loss: 2.0158 - mean_absolute_error: 0.9830 - val_loss: 8.8706 - val_mean_absolute_error: 2.1980\n",
            "Epoch 198/200\n",
            " - 0s - loss: 2.4682 - mean_absolute_error: 1.0808 - val_loss: 7.9502 - val_mean_absolute_error: 2.1081\n",
            "Epoch 199/200\n",
            " - 0s - loss: 2.2722 - mean_absolute_error: 1.0226 - val_loss: 8.6719 - val_mean_absolute_error: 2.2706\n",
            "Epoch 200/200\n",
            " - 0s - loss: 2.1146 - mean_absolute_error: 1.0530 - val_loss: 8.5330 - val_mean_absolute_error: 2.1026\n",
            "processing fold # 1\n",
            "Train on 303 samples, validate on 101 samples\n",
            "Epoch 1/200\n",
            " - 0s - loss: 223.4107 - mean_absolute_error: 11.1988 - val_loss: 36.5835 - val_mean_absolute_error: 4.4148\n",
            "Epoch 2/200\n",
            " - 0s - loss: 35.0127 - mean_absolute_error: 3.9229 - val_loss: 19.1702 - val_mean_absolute_error: 3.2605\n",
            "Epoch 3/200\n",
            " - 0s - loss: 21.5646 - mean_absolute_error: 3.0841 - val_loss: 16.5323 - val_mean_absolute_error: 2.9884\n",
            "Epoch 4/200\n",
            " - 0s - loss: 18.3819 - mean_absolute_error: 2.7536 - val_loss: 16.1551 - val_mean_absolute_error: 2.9851\n",
            "Epoch 5/200\n",
            " - 0s - loss: 15.9938 - mean_absolute_error: 2.5304 - val_loss: 15.5732 - val_mean_absolute_error: 3.1148\n",
            "Epoch 6/200\n",
            " - 0s - loss: 15.0299 - mean_absolute_error: 2.5000 - val_loss: 12.6009 - val_mean_absolute_error: 2.6897\n",
            "Epoch 7/200\n",
            " - 0s - loss: 13.0864 - mean_absolute_error: 2.3998 - val_loss: 12.6372 - val_mean_absolute_error: 2.7132\n",
            "Epoch 8/200\n",
            " - 0s - loss: 12.2220 - mean_absolute_error: 2.3623 - val_loss: 11.6032 - val_mean_absolute_error: 2.5587\n",
            "Epoch 9/200\n",
            " - 0s - loss: 11.7041 - mean_absolute_error: 2.3192 - val_loss: 13.0248 - val_mean_absolute_error: 2.7441\n",
            "Epoch 10/200\n",
            " - 0s - loss: 11.8010 - mean_absolute_error: 2.3010 - val_loss: 14.3195 - val_mean_absolute_error: 2.9681\n",
            "Epoch 11/200\n",
            " - 0s - loss: 11.3165 - mean_absolute_error: 2.3117 - val_loss: 11.7408 - val_mean_absolute_error: 2.5843\n",
            "Epoch 12/200\n",
            " - 0s - loss: 10.7360 - mean_absolute_error: 2.2343 - val_loss: 11.6115 - val_mean_absolute_error: 2.6259\n",
            "Epoch 13/200\n",
            " - 0s - loss: 10.1547 - mean_absolute_error: 2.1325 - val_loss: 12.6092 - val_mean_absolute_error: 2.6893\n",
            "Epoch 14/200\n",
            " - 0s - loss: 10.1572 - mean_absolute_error: 2.1567 - val_loss: 11.3847 - val_mean_absolute_error: 2.5789\n",
            "Epoch 15/200\n",
            " - 0s - loss: 9.6799 - mean_absolute_error: 2.1007 - val_loss: 10.1988 - val_mean_absolute_error: 2.3877\n",
            "Epoch 16/200\n",
            " - 0s - loss: 9.6600 - mean_absolute_error: 2.1015 - val_loss: 11.5368 - val_mean_absolute_error: 2.6177\n",
            "Epoch 17/200\n",
            " - 0s - loss: 9.4490 - mean_absolute_error: 2.0743 - val_loss: 10.7153 - val_mean_absolute_error: 2.4517\n",
            "Epoch 18/200\n",
            " - 0s - loss: 8.8408 - mean_absolute_error: 2.0302 - val_loss: 10.9264 - val_mean_absolute_error: 2.5384\n",
            "Epoch 19/200\n",
            " - 0s - loss: 8.9723 - mean_absolute_error: 1.9538 - val_loss: 11.6679 - val_mean_absolute_error: 2.6294\n",
            "Epoch 20/200\n",
            " - 0s - loss: 9.2063 - mean_absolute_error: 2.0491 - val_loss: 11.1575 - val_mean_absolute_error: 2.5816\n",
            "Epoch 21/200\n",
            " - 0s - loss: 8.3869 - mean_absolute_error: 2.0391 - val_loss: 11.0154 - val_mean_absolute_error: 2.5595\n",
            "Epoch 22/200\n",
            " - 0s - loss: 9.2536 - mean_absolute_error: 2.0475 - val_loss: 10.4594 - val_mean_absolute_error: 2.4299\n",
            "Epoch 23/200\n",
            " - 0s - loss: 8.9611 - mean_absolute_error: 1.9745 - val_loss: 12.8983 - val_mean_absolute_error: 2.8129\n",
            "Epoch 24/200\n",
            " - 0s - loss: 8.3255 - mean_absolute_error: 1.9847 - val_loss: 10.8909 - val_mean_absolute_error: 2.5960\n",
            "Epoch 25/200\n",
            " - 0s - loss: 7.9422 - mean_absolute_error: 1.9451 - val_loss: 10.3098 - val_mean_absolute_error: 2.4671\n",
            "Epoch 26/200\n",
            " - 0s - loss: 8.7776 - mean_absolute_error: 1.9328 - val_loss: 12.9454 - val_mean_absolute_error: 2.8026\n",
            "Epoch 27/200\n",
            " - 0s - loss: 7.8183 - mean_absolute_error: 1.9588 - val_loss: 11.2975 - val_mean_absolute_error: 2.5410\n",
            "Epoch 28/200\n",
            " - 0s - loss: 8.3399 - mean_absolute_error: 1.9551 - val_loss: 9.6109 - val_mean_absolute_error: 2.3647\n",
            "Epoch 29/200\n",
            " - 0s - loss: 7.9161 - mean_absolute_error: 1.8486 - val_loss: 10.6516 - val_mean_absolute_error: 2.4746\n",
            "Epoch 30/200\n",
            " - 0s - loss: 7.7150 - mean_absolute_error: 1.8577 - val_loss: 12.2789 - val_mean_absolute_error: 2.6492\n",
            "Epoch 31/200\n",
            " - 0s - loss: 7.8062 - mean_absolute_error: 1.8602 - val_loss: 10.9692 - val_mean_absolute_error: 2.5592\n",
            "Epoch 32/200\n",
            " - 0s - loss: 7.6258 - mean_absolute_error: 1.8447 - val_loss: 10.0568 - val_mean_absolute_error: 2.4121\n",
            "Epoch 33/200\n",
            " - 0s - loss: 7.4237 - mean_absolute_error: 1.8157 - val_loss: 12.4583 - val_mean_absolute_error: 2.7487\n",
            "Epoch 34/200\n",
            " - 0s - loss: 7.3578 - mean_absolute_error: 1.8464 - val_loss: 9.9823 - val_mean_absolute_error: 2.3660\n",
            "Epoch 35/200\n",
            " - 0s - loss: 7.1046 - mean_absolute_error: 1.8000 - val_loss: 11.2186 - val_mean_absolute_error: 2.5960\n",
            "Epoch 36/200\n",
            " - 0s - loss: 6.9318 - mean_absolute_error: 1.8271 - val_loss: 10.2046 - val_mean_absolute_error: 2.4103\n",
            "Epoch 37/200\n",
            " - 0s - loss: 6.5777 - mean_absolute_error: 1.7047 - val_loss: 15.0917 - val_mean_absolute_error: 3.1181\n",
            "Epoch 38/200\n",
            " - 0s - loss: 6.6983 - mean_absolute_error: 1.7892 - val_loss: 11.3526 - val_mean_absolute_error: 2.5876\n",
            "Epoch 39/200\n",
            " - 0s - loss: 6.5345 - mean_absolute_error: 1.8006 - val_loss: 10.3848 - val_mean_absolute_error: 2.5524\n",
            "Epoch 40/200\n",
            " - 0s - loss: 6.6520 - mean_absolute_error: 1.6948 - val_loss: 10.5203 - val_mean_absolute_error: 2.5258\n",
            "Epoch 41/200\n",
            " - 0s - loss: 6.7560 - mean_absolute_error: 1.7176 - val_loss: 9.2887 - val_mean_absolute_error: 2.2884\n",
            "Epoch 42/200\n",
            " - 0s - loss: 6.8076 - mean_absolute_error: 1.7064 - val_loss: 9.2308 - val_mean_absolute_error: 2.3887\n",
            "Epoch 43/200\n",
            " - 0s - loss: 6.4629 - mean_absolute_error: 1.7148 - val_loss: 8.4734 - val_mean_absolute_error: 2.2189\n",
            "Epoch 44/200\n",
            " - 0s - loss: 6.6321 - mean_absolute_error: 1.6931 - val_loss: 9.9427 - val_mean_absolute_error: 2.3853\n",
            "Epoch 45/200\n",
            " - 0s - loss: 6.3509 - mean_absolute_error: 1.6781 - val_loss: 10.0184 - val_mean_absolute_error: 2.3901\n",
            "Epoch 46/200\n",
            " - 0s - loss: 6.5550 - mean_absolute_error: 1.6849 - val_loss: 11.2007 - val_mean_absolute_error: 2.5447\n",
            "Epoch 47/200\n",
            " - 0s - loss: 6.0623 - mean_absolute_error: 1.6648 - val_loss: 8.1549 - val_mean_absolute_error: 2.1176\n",
            "Epoch 48/200\n",
            " - 0s - loss: 6.2893 - mean_absolute_error: 1.6789 - val_loss: 9.7018 - val_mean_absolute_error: 2.4834\n",
            "Epoch 49/200\n",
            " - 0s - loss: 6.1345 - mean_absolute_error: 1.6163 - val_loss: 9.0525 - val_mean_absolute_error: 2.3147\n",
            "Epoch 50/200\n",
            " - 0s - loss: 5.8042 - mean_absolute_error: 1.6719 - val_loss: 8.5209 - val_mean_absolute_error: 2.2038\n",
            "Epoch 51/200\n",
            " - 0s - loss: 5.8940 - mean_absolute_error: 1.6568 - val_loss: 10.0019 - val_mean_absolute_error: 2.5203\n",
            "Epoch 52/200\n",
            " - 0s - loss: 5.9116 - mean_absolute_error: 1.6020 - val_loss: 10.1218 - val_mean_absolute_error: 2.4407\n",
            "Epoch 53/200\n",
            " - 0s - loss: 5.7538 - mean_absolute_error: 1.5742 - val_loss: 8.2346 - val_mean_absolute_error: 2.1150\n",
            "Epoch 54/200\n",
            " - 0s - loss: 5.7337 - mean_absolute_error: 1.5903 - val_loss: 11.6331 - val_mean_absolute_error: 2.6866\n",
            "Epoch 55/200\n",
            " - 0s - loss: 5.6762 - mean_absolute_error: 1.6061 - val_loss: 8.6645 - val_mean_absolute_error: 2.2505\n",
            "Epoch 56/200\n",
            " - 0s - loss: 5.3555 - mean_absolute_error: 1.5358 - val_loss: 12.0803 - val_mean_absolute_error: 2.6868\n",
            "Epoch 57/200\n",
            " - 0s - loss: 5.6358 - mean_absolute_error: 1.6396 - val_loss: 10.5744 - val_mean_absolute_error: 2.4840\n",
            "Epoch 58/200\n",
            " - 0s - loss: 5.2565 - mean_absolute_error: 1.5666 - val_loss: 10.4586 - val_mean_absolute_error: 2.4045\n",
            "Epoch 59/200\n",
            " - 0s - loss: 5.3205 - mean_absolute_error: 1.5232 - val_loss: 10.0087 - val_mean_absolute_error: 2.3527\n",
            "Epoch 60/200\n",
            " - 0s - loss: 5.0479 - mean_absolute_error: 1.5378 - val_loss: 8.6983 - val_mean_absolute_error: 2.2109\n",
            "Epoch 61/200\n",
            " - 0s - loss: 5.1303 - mean_absolute_error: 1.5175 - val_loss: 11.9163 - val_mean_absolute_error: 2.7113\n",
            "Epoch 62/200\n",
            " - 0s - loss: 5.4237 - mean_absolute_error: 1.5967 - val_loss: 10.6423 - val_mean_absolute_error: 2.5974\n",
            "Epoch 63/200\n",
            " - 0s - loss: 5.2164 - mean_absolute_error: 1.5400 - val_loss: 9.3639 - val_mean_absolute_error: 2.2764\n",
            "Epoch 64/200\n",
            " - 0s - loss: 5.1549 - mean_absolute_error: 1.5359 - val_loss: 10.4119 - val_mean_absolute_error: 2.4851\n",
            "Epoch 65/200\n",
            " - 0s - loss: 4.8606 - mean_absolute_error: 1.4973 - val_loss: 9.7535 - val_mean_absolute_error: 2.2667\n",
            "Epoch 66/200\n",
            " - 0s - loss: 4.7146 - mean_absolute_error: 1.4978 - val_loss: 9.8650 - val_mean_absolute_error: 2.3183\n",
            "Epoch 67/200\n",
            " - 0s - loss: 4.4434 - mean_absolute_error: 1.4575 - val_loss: 11.6212 - val_mean_absolute_error: 2.6457\n",
            "Epoch 68/200\n",
            " - 0s - loss: 4.8727 - mean_absolute_error: 1.4982 - val_loss: 11.3025 - val_mean_absolute_error: 2.6908\n",
            "Epoch 69/200\n",
            " - 0s - loss: 4.4309 - mean_absolute_error: 1.4722 - val_loss: 9.1706 - val_mean_absolute_error: 2.2512\n",
            "Epoch 70/200\n",
            " - 0s - loss: 4.4360 - mean_absolute_error: 1.3830 - val_loss: 12.9739 - val_mean_absolute_error: 2.4829\n",
            "Epoch 71/200\n",
            " - 0s - loss: 4.5718 - mean_absolute_error: 1.4365 - val_loss: 11.7015 - val_mean_absolute_error: 2.5869\n",
            "Epoch 72/200\n",
            " - 0s - loss: 4.6003 - mean_absolute_error: 1.4052 - val_loss: 10.5717 - val_mean_absolute_error: 2.4712\n",
            "Epoch 73/200\n",
            " - 0s - loss: 4.5759 - mean_absolute_error: 1.4812 - val_loss: 10.2344 - val_mean_absolute_error: 2.5001\n",
            "Epoch 74/200\n",
            " - 0s - loss: 4.2197 - mean_absolute_error: 1.4438 - val_loss: 8.3653 - val_mean_absolute_error: 2.2129\n",
            "Epoch 75/200\n",
            " - 0s - loss: 4.0912 - mean_absolute_error: 1.4341 - val_loss: 15.5213 - val_mean_absolute_error: 3.1504\n",
            "Epoch 76/200\n",
            " - 0s - loss: 4.4017 - mean_absolute_error: 1.4482 - val_loss: 10.8861 - val_mean_absolute_error: 2.3958\n",
            "Epoch 77/200\n",
            " - 0s - loss: 4.1038 - mean_absolute_error: 1.4279 - val_loss: 11.4426 - val_mean_absolute_error: 2.5649\n",
            "Epoch 78/200\n",
            " - 0s - loss: 3.9445 - mean_absolute_error: 1.3729 - val_loss: 11.4893 - val_mean_absolute_error: 2.6185\n",
            "Epoch 79/200\n",
            " - 0s - loss: 4.2334 - mean_absolute_error: 1.4202 - val_loss: 10.1767 - val_mean_absolute_error: 2.4201\n",
            "Epoch 80/200\n",
            " - 0s - loss: 4.0306 - mean_absolute_error: 1.4210 - val_loss: 10.3362 - val_mean_absolute_error: 2.5072\n",
            "Epoch 81/200\n",
            " - 0s - loss: 4.1005 - mean_absolute_error: 1.3593 - val_loss: 10.0162 - val_mean_absolute_error: 2.3514\n",
            "Epoch 82/200\n",
            " - 0s - loss: 3.7981 - mean_absolute_error: 1.3191 - val_loss: 11.3744 - val_mean_absolute_error: 2.5630\n",
            "Epoch 83/200\n",
            " - 0s - loss: 3.8081 - mean_absolute_error: 1.4091 - val_loss: 10.2074 - val_mean_absolute_error: 2.4208\n",
            "Epoch 84/200\n",
            " - 0s - loss: 3.3931 - mean_absolute_error: 1.3410 - val_loss: 12.9580 - val_mean_absolute_error: 2.7603\n",
            "Epoch 85/200\n",
            " - 0s - loss: 3.7513 - mean_absolute_error: 1.3117 - val_loss: 14.1371 - val_mean_absolute_error: 2.9270\n",
            "Epoch 86/200\n",
            " - 0s - loss: 3.9209 - mean_absolute_error: 1.4007 - val_loss: 12.8048 - val_mean_absolute_error: 2.5835\n",
            "Epoch 87/200\n",
            " - 0s - loss: 3.5393 - mean_absolute_error: 1.2951 - val_loss: 9.3305 - val_mean_absolute_error: 2.4371\n",
            "Epoch 88/200\n",
            " - 0s - loss: 3.6283 - mean_absolute_error: 1.3693 - val_loss: 14.2971 - val_mean_absolute_error: 2.6808\n",
            "Epoch 89/200\n",
            " - 0s - loss: 3.7314 - mean_absolute_error: 1.3249 - val_loss: 10.0378 - val_mean_absolute_error: 2.3526\n",
            "Epoch 90/200\n",
            " - 0s - loss: 3.3541 - mean_absolute_error: 1.3316 - val_loss: 9.5408 - val_mean_absolute_error: 2.3680\n",
            "Epoch 91/200\n",
            " - 0s - loss: 3.7725 - mean_absolute_error: 1.3449 - val_loss: 10.9361 - val_mean_absolute_error: 2.2540\n",
            "Epoch 92/200\n",
            " - 0s - loss: 3.4395 - mean_absolute_error: 1.2873 - val_loss: 11.9882 - val_mean_absolute_error: 2.5105\n",
            "Epoch 93/200\n",
            " - 0s - loss: 3.2902 - mean_absolute_error: 1.2635 - val_loss: 13.3678 - val_mean_absolute_error: 2.6271\n",
            "Epoch 94/200\n",
            " - 0s - loss: 3.5092 - mean_absolute_error: 1.2883 - val_loss: 9.9727 - val_mean_absolute_error: 2.3232\n",
            "Epoch 95/200\n",
            " - 0s - loss: 3.6901 - mean_absolute_error: 1.3080 - val_loss: 8.6232 - val_mean_absolute_error: 2.1977\n",
            "Epoch 96/200\n",
            " - 0s - loss: 3.3892 - mean_absolute_error: 1.3097 - val_loss: 12.8862 - val_mean_absolute_error: 2.6804\n",
            "Epoch 97/200\n",
            " - 0s - loss: 3.2461 - mean_absolute_error: 1.2824 - val_loss: 8.7111 - val_mean_absolute_error: 2.2658\n",
            "Epoch 98/200\n",
            " - 0s - loss: 3.5526 - mean_absolute_error: 1.3053 - val_loss: 9.7123 - val_mean_absolute_error: 2.2502\n",
            "Epoch 99/200\n",
            " - 0s - loss: 3.2546 - mean_absolute_error: 1.2530 - val_loss: 14.0102 - val_mean_absolute_error: 2.6603\n",
            "Epoch 100/200\n",
            " - 0s - loss: 3.2347 - mean_absolute_error: 1.2592 - val_loss: 14.0278 - val_mean_absolute_error: 2.6607\n",
            "Epoch 101/200\n",
            " - 0s - loss: 3.2267 - mean_absolute_error: 1.2672 - val_loss: 15.6365 - val_mean_absolute_error: 2.8094\n",
            "Epoch 102/200\n",
            " - 0s - loss: 2.9625 - mean_absolute_error: 1.2733 - val_loss: 13.1632 - val_mean_absolute_error: 2.5850\n",
            "Epoch 103/200\n",
            " - 0s - loss: 3.0984 - mean_absolute_error: 1.2211 - val_loss: 13.9791 - val_mean_absolute_error: 2.6020\n",
            "Epoch 104/200\n",
            " - 0s - loss: 3.0412 - mean_absolute_error: 1.2377 - val_loss: 15.0108 - val_mean_absolute_error: 2.6518\n",
            "Epoch 105/200\n",
            " - 0s - loss: 3.1920 - mean_absolute_error: 1.2168 - val_loss: 11.6986 - val_mean_absolute_error: 2.4544\n",
            "Epoch 106/200\n",
            " - 0s - loss: 2.7784 - mean_absolute_error: 1.1401 - val_loss: 14.0363 - val_mean_absolute_error: 2.5298\n",
            "Epoch 107/200\n",
            " - 0s - loss: 2.8821 - mean_absolute_error: 1.2258 - val_loss: 12.4197 - val_mean_absolute_error: 2.4617\n",
            "Epoch 108/200\n",
            " - 0s - loss: 2.8076 - mean_absolute_error: 1.1518 - val_loss: 13.6807 - val_mean_absolute_error: 2.6372\n",
            "Epoch 109/200\n",
            " - 0s - loss: 2.9342 - mean_absolute_error: 1.1939 - val_loss: 10.6741 - val_mean_absolute_error: 2.4326\n",
            "Epoch 110/200\n",
            " - 0s - loss: 3.1297 - mean_absolute_error: 1.2116 - val_loss: 13.0014 - val_mean_absolute_error: 2.4069\n",
            "Epoch 111/200\n",
            " - 0s - loss: 2.8323 - mean_absolute_error: 1.2131 - val_loss: 13.0428 - val_mean_absolute_error: 2.5198\n",
            "Epoch 112/200\n",
            " - 0s - loss: 2.9026 - mean_absolute_error: 1.1980 - val_loss: 11.4198 - val_mean_absolute_error: 2.3787\n",
            "Epoch 113/200\n",
            " - 0s - loss: 2.7923 - mean_absolute_error: 1.1950 - val_loss: 19.4110 - val_mean_absolute_error: 2.9231\n",
            "Epoch 114/200\n",
            " - 0s - loss: 2.5573 - mean_absolute_error: 1.1574 - val_loss: 14.5757 - val_mean_absolute_error: 2.7026\n",
            "Epoch 115/200\n",
            " - 0s - loss: 2.7233 - mean_absolute_error: 1.1959 - val_loss: 13.5704 - val_mean_absolute_error: 2.6434\n",
            "Epoch 116/200\n",
            " - 0s - loss: 2.7218 - mean_absolute_error: 1.1746 - val_loss: 18.2601 - val_mean_absolute_error: 2.8158\n",
            "Epoch 117/200\n",
            " - 0s - loss: 2.7354 - mean_absolute_error: 1.1760 - val_loss: 18.3252 - val_mean_absolute_error: 2.7986\n",
            "Epoch 118/200\n",
            " - 0s - loss: 2.6910 - mean_absolute_error: 1.1883 - val_loss: 15.3627 - val_mean_absolute_error: 2.7918\n",
            "Epoch 119/200\n",
            " - 0s - loss: 2.5214 - mean_absolute_error: 1.1252 - val_loss: 14.4075 - val_mean_absolute_error: 2.5425\n",
            "Epoch 120/200\n",
            " - 0s - loss: 2.6012 - mean_absolute_error: 1.1859 - val_loss: 10.8342 - val_mean_absolute_error: 2.3761\n",
            "Epoch 121/200\n",
            " - 0s - loss: 2.6646 - mean_absolute_error: 1.1480 - val_loss: 16.7138 - val_mean_absolute_error: 2.8995\n",
            "Epoch 122/200\n",
            " - 0s - loss: 2.5987 - mean_absolute_error: 1.1524 - val_loss: 19.3238 - val_mean_absolute_error: 2.8526\n",
            "Epoch 123/200\n",
            " - 0s - loss: 2.4555 - mean_absolute_error: 1.1306 - val_loss: 16.0398 - val_mean_absolute_error: 2.6191\n",
            "Epoch 124/200\n",
            " - 0s - loss: 2.5781 - mean_absolute_error: 1.1642 - val_loss: 15.9493 - val_mean_absolute_error: 2.7781\n",
            "Epoch 125/200\n",
            " - 0s - loss: 2.3747 - mean_absolute_error: 1.1152 - val_loss: 17.0400 - val_mean_absolute_error: 2.7885\n",
            "Epoch 126/200\n",
            " - 0s - loss: 2.3937 - mean_absolute_error: 1.1268 - val_loss: 18.1947 - val_mean_absolute_error: 2.8452\n",
            "Epoch 127/200\n",
            " - 0s - loss: 2.4475 - mean_absolute_error: 1.1577 - val_loss: 16.0620 - val_mean_absolute_error: 2.8494\n",
            "Epoch 128/200\n",
            " - 0s - loss: 2.4427 - mean_absolute_error: 1.1540 - val_loss: 13.7173 - val_mean_absolute_error: 2.5577\n",
            "Epoch 129/200\n",
            " - 0s - loss: 2.4574 - mean_absolute_error: 1.1124 - val_loss: 16.2336 - val_mean_absolute_error: 2.7636\n",
            "Epoch 130/200\n",
            " - 0s - loss: 2.2329 - mean_absolute_error: 1.0937 - val_loss: 18.7042 - val_mean_absolute_error: 2.8737\n",
            "Epoch 131/200\n",
            " - 0s - loss: 2.2008 - mean_absolute_error: 1.1148 - val_loss: 21.7798 - val_mean_absolute_error: 3.0471\n",
            "Epoch 132/200\n",
            " - 0s - loss: 2.3158 - mean_absolute_error: 1.0782 - val_loss: 15.0730 - val_mean_absolute_error: 2.7154\n",
            "Epoch 133/200\n",
            " - 0s - loss: 2.6498 - mean_absolute_error: 1.1681 - val_loss: 12.4393 - val_mean_absolute_error: 2.4049\n",
            "Epoch 134/200\n",
            " - 0s - loss: 2.4800 - mean_absolute_error: 1.0906 - val_loss: 20.0112 - val_mean_absolute_error: 3.0014\n",
            "Epoch 135/200\n",
            " - 0s - loss: 2.3316 - mean_absolute_error: 1.0784 - val_loss: 17.6924 - val_mean_absolute_error: 2.7575\n",
            "Epoch 136/200\n",
            " - 0s - loss: 2.3293 - mean_absolute_error: 1.0723 - val_loss: 17.4202 - val_mean_absolute_error: 2.8181\n",
            "Epoch 137/200\n",
            " - 0s - loss: 2.1998 - mean_absolute_error: 1.1003 - val_loss: 16.9194 - val_mean_absolute_error: 2.6725\n",
            "Epoch 138/200\n",
            " - 0s - loss: 2.1681 - mean_absolute_error: 1.0950 - val_loss: 18.8533 - val_mean_absolute_error: 2.9938\n",
            "Epoch 139/200\n",
            " - 0s - loss: 2.2719 - mean_absolute_error: 1.1066 - val_loss: 14.6994 - val_mean_absolute_error: 2.5527\n",
            "Epoch 140/200\n",
            " - 0s - loss: 2.3516 - mean_absolute_error: 1.0956 - val_loss: 21.1546 - val_mean_absolute_error: 3.1701\n",
            "Epoch 141/200\n",
            " - 0s - loss: 2.2550 - mean_absolute_error: 1.0833 - val_loss: 28.6310 - val_mean_absolute_error: 3.3562\n",
            "Epoch 142/200\n",
            " - 0s - loss: 2.2007 - mean_absolute_error: 1.0729 - val_loss: 17.6295 - val_mean_absolute_error: 2.7122\n",
            "Epoch 143/200\n",
            " - 0s - loss: 2.0597 - mean_absolute_error: 1.0759 - val_loss: 23.3924 - val_mean_absolute_error: 2.9667\n",
            "Epoch 144/200\n",
            " - 0s - loss: 2.2760 - mean_absolute_error: 1.0757 - val_loss: 18.7514 - val_mean_absolute_error: 2.8378\n",
            "Epoch 145/200\n",
            " - 0s - loss: 1.9908 - mean_absolute_error: 1.0383 - val_loss: 30.4849 - val_mean_absolute_error: 3.4085\n",
            "Epoch 146/200\n",
            " - 0s - loss: 2.3100 - mean_absolute_error: 1.0996 - val_loss: 18.7149 - val_mean_absolute_error: 2.7831\n",
            "Epoch 147/200\n",
            " - 0s - loss: 2.0672 - mean_absolute_error: 1.0605 - val_loss: 22.8033 - val_mean_absolute_error: 2.9655\n",
            "Epoch 148/200\n",
            " - 0s - loss: 2.1306 - mean_absolute_error: 1.0816 - val_loss: 14.7893 - val_mean_absolute_error: 2.5285\n",
            "Epoch 149/200\n",
            " - 0s - loss: 2.0711 - mean_absolute_error: 1.0663 - val_loss: 16.4562 - val_mean_absolute_error: 2.7470\n",
            "Epoch 150/200\n",
            " - 0s - loss: 1.9897 - mean_absolute_error: 1.0199 - val_loss: 18.5121 - val_mean_absolute_error: 2.8227\n",
            "Epoch 151/200\n",
            " - 0s - loss: 2.0623 - mean_absolute_error: 1.0275 - val_loss: 32.2703 - val_mean_absolute_error: 3.6596\n",
            "Epoch 152/200\n",
            " - 0s - loss: 2.1065 - mean_absolute_error: 1.0658 - val_loss: 20.8403 - val_mean_absolute_error: 2.8669\n",
            "Epoch 153/200\n",
            " - 0s - loss: 2.1951 - mean_absolute_error: 1.0535 - val_loss: 17.6937 - val_mean_absolute_error: 2.8096\n",
            "Epoch 154/200\n",
            " - 0s - loss: 1.9296 - mean_absolute_error: 0.9832 - val_loss: 21.9451 - val_mean_absolute_error: 3.0834\n",
            "Epoch 155/200\n",
            " - 0s - loss: 2.1425 - mean_absolute_error: 1.0760 - val_loss: 19.9041 - val_mean_absolute_error: 2.8191\n",
            "Epoch 156/200\n",
            " - 0s - loss: 2.1904 - mean_absolute_error: 1.0688 - val_loss: 18.2170 - val_mean_absolute_error: 2.7064\n",
            "Epoch 157/200\n",
            " - 0s - loss: 2.0662 - mean_absolute_error: 1.0585 - val_loss: 18.8194 - val_mean_absolute_error: 2.8541\n",
            "Epoch 158/200\n",
            " - 0s - loss: 1.9196 - mean_absolute_error: 0.9937 - val_loss: 17.2397 - val_mean_absolute_error: 2.7678\n",
            "Epoch 159/200\n",
            " - 0s - loss: 2.0028 - mean_absolute_error: 1.0339 - val_loss: 22.0810 - val_mean_absolute_error: 3.0529\n",
            "Epoch 160/200\n",
            " - 0s - loss: 1.8169 - mean_absolute_error: 1.0075 - val_loss: 20.5011 - val_mean_absolute_error: 2.8565\n",
            "Epoch 161/200\n",
            " - 0s - loss: 1.8769 - mean_absolute_error: 1.0464 - val_loss: 21.5580 - val_mean_absolute_error: 3.0562\n",
            "Epoch 162/200\n",
            " - 0s - loss: 1.9856 - mean_absolute_error: 1.0478 - val_loss: 20.6072 - val_mean_absolute_error: 2.8356\n",
            "Epoch 163/200\n",
            " - 0s - loss: 1.7990 - mean_absolute_error: 1.0044 - val_loss: 22.9788 - val_mean_absolute_error: 3.0473\n",
            "Epoch 164/200\n",
            " - 0s - loss: 2.0456 - mean_absolute_error: 1.0672 - val_loss: 21.1663 - val_mean_absolute_error: 3.0487\n",
            "Epoch 165/200\n",
            " - 0s - loss: 1.8839 - mean_absolute_error: 1.0024 - val_loss: 20.1309 - val_mean_absolute_error: 2.9134\n",
            "Epoch 166/200\n",
            " - 0s - loss: 1.8738 - mean_absolute_error: 1.0064 - val_loss: 19.5811 - val_mean_absolute_error: 3.0460\n",
            "Epoch 167/200\n",
            " - 0s - loss: 1.7434 - mean_absolute_error: 0.9733 - val_loss: 15.3157 - val_mean_absolute_error: 2.6341\n",
            "Epoch 168/200\n",
            " - 0s - loss: 1.6553 - mean_absolute_error: 0.9531 - val_loss: 22.2648 - val_mean_absolute_error: 3.0042\n",
            "Epoch 169/200\n",
            " - 0s - loss: 1.8587 - mean_absolute_error: 1.0094 - val_loss: 18.9219 - val_mean_absolute_error: 2.9760\n",
            "Epoch 170/200\n",
            " - 0s - loss: 1.7972 - mean_absolute_error: 0.9644 - val_loss: 26.9521 - val_mean_absolute_error: 3.1118\n",
            "Epoch 171/200\n",
            " - 0s - loss: 1.8983 - mean_absolute_error: 1.0246 - val_loss: 21.2032 - val_mean_absolute_error: 2.8137\n",
            "Epoch 172/200\n",
            " - 0s - loss: 1.8752 - mean_absolute_error: 1.0214 - val_loss: 16.1977 - val_mean_absolute_error: 2.6831\n",
            "Epoch 173/200\n",
            " - 0s - loss: 1.7981 - mean_absolute_error: 0.9626 - val_loss: 21.4694 - val_mean_absolute_error: 3.0257\n",
            "Epoch 174/200\n",
            " - 0s - loss: 1.6530 - mean_absolute_error: 0.9567 - val_loss: 18.9752 - val_mean_absolute_error: 2.8437\n",
            "Epoch 175/200\n",
            " - 0s - loss: 1.8780 - mean_absolute_error: 0.9928 - val_loss: 26.3914 - val_mean_absolute_error: 3.4369\n",
            "Epoch 176/200\n",
            " - 0s - loss: 1.7483 - mean_absolute_error: 0.9706 - val_loss: 15.8676 - val_mean_absolute_error: 2.6687\n",
            "Epoch 177/200\n",
            " - 0s - loss: 1.6979 - mean_absolute_error: 0.9852 - val_loss: 18.4280 - val_mean_absolute_error: 2.8178\n",
            "Epoch 178/200\n",
            " - 0s - loss: 1.7890 - mean_absolute_error: 0.9796 - val_loss: 30.4338 - val_mean_absolute_error: 3.4723\n",
            "Epoch 179/200\n",
            " - 0s - loss: 1.6302 - mean_absolute_error: 0.9527 - val_loss: 23.0954 - val_mean_absolute_error: 2.9300\n",
            "Epoch 180/200\n",
            " - 0s - loss: 1.5969 - mean_absolute_error: 0.9420 - val_loss: 27.9333 - val_mean_absolute_error: 3.1519\n",
            "Epoch 181/200\n",
            " - 0s - loss: 1.7792 - mean_absolute_error: 0.9937 - val_loss: 15.1432 - val_mean_absolute_error: 2.6161\n",
            "Epoch 182/200\n",
            " - 0s - loss: 1.8714 - mean_absolute_error: 1.0045 - val_loss: 21.9985 - val_mean_absolute_error: 2.8976\n",
            "Epoch 183/200\n",
            " - 0s - loss: 1.7498 - mean_absolute_error: 0.9832 - val_loss: 17.1962 - val_mean_absolute_error: 2.6632\n",
            "Epoch 184/200\n",
            " - 0s - loss: 1.6988 - mean_absolute_error: 0.9785 - val_loss: 27.3012 - val_mean_absolute_error: 3.2260\n",
            "Epoch 185/200\n",
            " - 0s - loss: 1.5686 - mean_absolute_error: 0.9593 - val_loss: 19.8295 - val_mean_absolute_error: 2.9335\n",
            "Epoch 186/200\n",
            " - 0s - loss: 1.7884 - mean_absolute_error: 0.9410 - val_loss: 18.4630 - val_mean_absolute_error: 2.6682\n",
            "Epoch 187/200\n",
            " - 0s - loss: 1.6586 - mean_absolute_error: 0.9533 - val_loss: 15.6485 - val_mean_absolute_error: 2.6479\n",
            "Epoch 188/200\n",
            " - 0s - loss: 1.7306 - mean_absolute_error: 0.9672 - val_loss: 22.3774 - val_mean_absolute_error: 2.8450\n",
            "Epoch 189/200\n",
            " - 0s - loss: 1.6220 - mean_absolute_error: 0.8990 - val_loss: 20.0108 - val_mean_absolute_error: 2.7892\n",
            "Epoch 190/200\n",
            " - 0s - loss: 1.6113 - mean_absolute_error: 0.9402 - val_loss: 19.6137 - val_mean_absolute_error: 2.8599\n",
            "Epoch 191/200\n",
            " - 0s - loss: 1.6372 - mean_absolute_error: 0.9277 - val_loss: 22.2112 - val_mean_absolute_error: 2.8519\n",
            "Epoch 192/200\n",
            " - 0s - loss: 1.6657 - mean_absolute_error: 0.9502 - val_loss: 21.6490 - val_mean_absolute_error: 2.9808\n",
            "Epoch 193/200\n",
            " - 0s - loss: 1.6905 - mean_absolute_error: 0.9531 - val_loss: 21.2438 - val_mean_absolute_error: 2.7981\n",
            "Epoch 194/200\n",
            " - 0s - loss: 1.6593 - mean_absolute_error: 0.9570 - val_loss: 25.1864 - val_mean_absolute_error: 3.0532\n",
            "Epoch 195/200\n",
            " - 0s - loss: 1.5900 - mean_absolute_error: 0.9502 - val_loss: 18.6512 - val_mean_absolute_error: 2.7822\n",
            "Epoch 196/200\n",
            " - 0s - loss: 1.5117 - mean_absolute_error: 0.9084 - val_loss: 15.8651 - val_mean_absolute_error: 2.7201\n",
            "Epoch 197/200\n",
            " - 0s - loss: 1.4856 - mean_absolute_error: 0.8946 - val_loss: 22.0981 - val_mean_absolute_error: 2.8599\n",
            "Epoch 198/200\n",
            " - 0s - loss: 1.5404 - mean_absolute_error: 0.9238 - val_loss: 21.4553 - val_mean_absolute_error: 2.8302\n",
            "Epoch 199/200\n",
            " - 0s - loss: 1.6925 - mean_absolute_error: 0.9656 - val_loss: 23.6630 - val_mean_absolute_error: 3.0503\n",
            "Epoch 200/200\n",
            " - 0s - loss: 1.6136 - mean_absolute_error: 0.9444 - val_loss: 23.0196 - val_mean_absolute_error: 2.9198\n",
            "processing fold # 2\n",
            "Train on 303 samples, validate on 101 samples\n",
            "Epoch 1/200\n",
            " - 1s - loss: 224.1543 - mean_absolute_error: 11.2094 - val_loss: 35.1120 - val_mean_absolute_error: 4.1035\n",
            "Epoch 2/200\n",
            " - 0s - loss: 29.4404 - mean_absolute_error: 3.6998 - val_loss: 25.5829 - val_mean_absolute_error: 3.3993\n",
            "Epoch 3/200\n",
            " - 0s - loss: 21.5013 - mean_absolute_error: 3.1737 - val_loss: 21.4187 - val_mean_absolute_error: 3.2192\n",
            "Epoch 4/200\n",
            " - 0s - loss: 18.0956 - mean_absolute_error: 2.8876 - val_loss: 21.4879 - val_mean_absolute_error: 3.0860\n",
            "Epoch 5/200\n",
            " - 0s - loss: 15.6054 - mean_absolute_error: 2.7371 - val_loss: 20.5982 - val_mean_absolute_error: 2.9017\n",
            "Epoch 6/200\n",
            " - 0s - loss: 13.5596 - mean_absolute_error: 2.5967 - val_loss: 19.9305 - val_mean_absolute_error: 2.9435\n",
            "Epoch 7/200\n",
            " - 0s - loss: 12.5058 - mean_absolute_error: 2.4766 - val_loss: 16.7090 - val_mean_absolute_error: 2.7555\n",
            "Epoch 8/200\n",
            " - 0s - loss: 12.0604 - mean_absolute_error: 2.4613 - val_loss: 17.5678 - val_mean_absolute_error: 2.7239\n",
            "Epoch 9/200\n",
            " - 0s - loss: 11.2519 - mean_absolute_error: 2.3614 - val_loss: 18.1065 - val_mean_absolute_error: 2.8090\n",
            "Epoch 10/200\n",
            " - 0s - loss: 10.2249 - mean_absolute_error: 2.2482 - val_loss: 18.3662 - val_mean_absolute_error: 2.8563\n",
            "Epoch 11/200\n",
            " - 0s - loss: 10.2102 - mean_absolute_error: 2.2478 - val_loss: 15.7086 - val_mean_absolute_error: 2.6039\n",
            "Epoch 12/200\n",
            " - 0s - loss: 9.7770 - mean_absolute_error: 2.2219 - val_loss: 16.6388 - val_mean_absolute_error: 2.9001\n",
            "Epoch 13/200\n",
            " - 0s - loss: 9.7925 - mean_absolute_error: 2.2241 - val_loss: 15.1361 - val_mean_absolute_error: 2.5972\n",
            "Epoch 14/200\n",
            " - 0s - loss: 8.9424 - mean_absolute_error: 2.1154 - val_loss: 15.4641 - val_mean_absolute_error: 2.6686\n",
            "Epoch 15/200\n",
            " - 0s - loss: 9.1644 - mean_absolute_error: 2.1216 - val_loss: 15.9327 - val_mean_absolute_error: 2.7925\n",
            "Epoch 16/200\n",
            " - 0s - loss: 8.3144 - mean_absolute_error: 2.1289 - val_loss: 16.2733 - val_mean_absolute_error: 2.7860\n",
            "Epoch 17/200\n",
            " - 0s - loss: 8.3715 - mean_absolute_error: 2.0255 - val_loss: 16.5877 - val_mean_absolute_error: 2.8217\n",
            "Epoch 18/200\n",
            " - 0s - loss: 8.1217 - mean_absolute_error: 1.9872 - val_loss: 17.6507 - val_mean_absolute_error: 2.7686\n",
            "Epoch 19/200\n",
            " - 0s - loss: 8.0292 - mean_absolute_error: 2.0318 - val_loss: 16.4193 - val_mean_absolute_error: 2.6771\n",
            "Epoch 20/200\n",
            " - 0s - loss: 8.0859 - mean_absolute_error: 1.9504 - val_loss: 15.4745 - val_mean_absolute_error: 2.5789\n",
            "Epoch 21/200\n",
            " - 0s - loss: 7.6962 - mean_absolute_error: 1.9407 - val_loss: 14.8465 - val_mean_absolute_error: 2.5530\n",
            "Epoch 22/200\n",
            " - 0s - loss: 7.6890 - mean_absolute_error: 1.9729 - val_loss: 16.5672 - val_mean_absolute_error: 2.7277\n",
            "Epoch 23/200\n",
            " - 0s - loss: 7.7703 - mean_absolute_error: 1.9360 - val_loss: 15.5085 - val_mean_absolute_error: 2.6404\n",
            "Epoch 24/200\n",
            " - 0s - loss: 7.4742 - mean_absolute_error: 1.8685 - val_loss: 16.2505 - val_mean_absolute_error: 2.7279\n",
            "Epoch 25/200\n",
            " - 0s - loss: 7.4691 - mean_absolute_error: 2.0032 - val_loss: 16.7840 - val_mean_absolute_error: 2.7051\n",
            "Epoch 26/200\n",
            " - 0s - loss: 7.1125 - mean_absolute_error: 1.8462 - val_loss: 14.7716 - val_mean_absolute_error: 2.5153\n",
            "Epoch 27/200\n",
            " - 0s - loss: 7.1406 - mean_absolute_error: 1.8705 - val_loss: 15.2828 - val_mean_absolute_error: 2.7684\n",
            "Epoch 28/200\n",
            " - 0s - loss: 7.0647 - mean_absolute_error: 1.9059 - val_loss: 14.8054 - val_mean_absolute_error: 2.5411\n",
            "Epoch 29/200\n",
            " - 0s - loss: 6.6183 - mean_absolute_error: 1.7954 - val_loss: 16.9847 - val_mean_absolute_error: 2.9489\n",
            "Epoch 30/200\n",
            " - 0s - loss: 7.0070 - mean_absolute_error: 1.8111 - val_loss: 15.0993 - val_mean_absolute_error: 2.5405\n",
            "Epoch 31/200\n",
            " - 0s - loss: 6.7440 - mean_absolute_error: 1.8197 - val_loss: 17.1367 - val_mean_absolute_error: 2.7585\n",
            "Epoch 32/200\n",
            " - 0s - loss: 6.5455 - mean_absolute_error: 1.7849 - val_loss: 17.4290 - val_mean_absolute_error: 2.7154\n",
            "Epoch 33/200\n",
            " - 0s - loss: 6.2667 - mean_absolute_error: 1.7851 - val_loss: 14.9461 - val_mean_absolute_error: 2.7003\n",
            "Epoch 34/200\n",
            " - 0s - loss: 6.7861 - mean_absolute_error: 1.7442 - val_loss: 15.3937 - val_mean_absolute_error: 2.7047\n",
            "Epoch 35/200\n",
            " - 0s - loss: 6.2125 - mean_absolute_error: 1.7339 - val_loss: 14.4031 - val_mean_absolute_error: 2.6016\n",
            "Epoch 36/200\n",
            " - 0s - loss: 6.3063 - mean_absolute_error: 1.7589 - val_loss: 15.5475 - val_mean_absolute_error: 2.7537\n",
            "Epoch 37/200\n",
            " - 0s - loss: 6.2215 - mean_absolute_error: 1.7069 - val_loss: 15.8315 - val_mean_absolute_error: 2.6503\n",
            "Epoch 38/200\n",
            " - 0s - loss: 6.1494 - mean_absolute_error: 1.6914 - val_loss: 14.2586 - val_mean_absolute_error: 2.5343\n",
            "Epoch 39/200\n",
            " - 0s - loss: 6.0765 - mean_absolute_error: 1.7158 - val_loss: 14.5735 - val_mean_absolute_error: 2.6755\n",
            "Epoch 40/200\n",
            " - 0s - loss: 5.8873 - mean_absolute_error: 1.6867 - val_loss: 15.0272 - val_mean_absolute_error: 2.6026\n",
            "Epoch 41/200\n",
            " - 0s - loss: 5.4262 - mean_absolute_error: 1.6732 - val_loss: 14.5863 - val_mean_absolute_error: 2.5690\n",
            "Epoch 42/200\n",
            " - 0s - loss: 5.6173 - mean_absolute_error: 1.6644 - val_loss: 15.7686 - val_mean_absolute_error: 2.8206\n",
            "Epoch 43/200\n",
            " - 0s - loss: 5.5019 - mean_absolute_error: 1.6661 - val_loss: 14.5595 - val_mean_absolute_error: 2.5393\n",
            "Epoch 44/200\n",
            " - 0s - loss: 5.5053 - mean_absolute_error: 1.6132 - val_loss: 15.4718 - val_mean_absolute_error: 2.6215\n",
            "Epoch 45/200\n",
            " - 0s - loss: 5.2836 - mean_absolute_error: 1.5802 - val_loss: 15.1498 - val_mean_absolute_error: 2.6425\n",
            "Epoch 46/200\n",
            " - 0s - loss: 5.1948 - mean_absolute_error: 1.5907 - val_loss: 15.3252 - val_mean_absolute_error: 2.6420\n",
            "Epoch 47/200\n",
            " - 0s - loss: 5.2040 - mean_absolute_error: 1.5958 - val_loss: 15.8715 - val_mean_absolute_error: 2.6920\n",
            "Epoch 48/200\n",
            " - 0s - loss: 5.2606 - mean_absolute_error: 1.5895 - val_loss: 13.9877 - val_mean_absolute_error: 2.5176\n",
            "Epoch 49/200\n",
            " - 0s - loss: 4.9303 - mean_absolute_error: 1.6301 - val_loss: 15.1311 - val_mean_absolute_error: 2.6216\n",
            "Epoch 50/200\n",
            " - 0s - loss: 4.9271 - mean_absolute_error: 1.5348 - val_loss: 14.9978 - val_mean_absolute_error: 2.5939\n",
            "Epoch 51/200\n",
            " - 0s - loss: 5.3913 - mean_absolute_error: 1.6139 - val_loss: 14.1543 - val_mean_absolute_error: 2.5791\n",
            "Epoch 52/200\n",
            " - 0s - loss: 4.9170 - mean_absolute_error: 1.5461 - val_loss: 14.8219 - val_mean_absolute_error: 2.6718\n",
            "Epoch 53/200\n",
            " - 0s - loss: 4.8118 - mean_absolute_error: 1.5213 - val_loss: 15.4867 - val_mean_absolute_error: 2.6054\n",
            "Epoch 54/200\n",
            " - 0s - loss: 4.4619 - mean_absolute_error: 1.4946 - val_loss: 16.3284 - val_mean_absolute_error: 2.9690\n",
            "Epoch 55/200\n",
            " - 0s - loss: 4.7482 - mean_absolute_error: 1.5385 - val_loss: 14.8466 - val_mean_absolute_error: 2.6385\n",
            "Epoch 56/200\n",
            " - 0s - loss: 4.6444 - mean_absolute_error: 1.4419 - val_loss: 15.0343 - val_mean_absolute_error: 2.6435\n",
            "Epoch 57/200\n",
            " - 0s - loss: 4.6258 - mean_absolute_error: 1.5476 - val_loss: 16.4239 - val_mean_absolute_error: 2.7156\n",
            "Epoch 58/200\n",
            " - 0s - loss: 4.7151 - mean_absolute_error: 1.4708 - val_loss: 16.1233 - val_mean_absolute_error: 2.8236\n",
            "Epoch 59/200\n",
            " - 0s - loss: 4.5132 - mean_absolute_error: 1.4766 - val_loss: 15.1624 - val_mean_absolute_error: 2.6550\n",
            "Epoch 60/200\n",
            " - 0s - loss: 4.3882 - mean_absolute_error: 1.4798 - val_loss: 15.3662 - val_mean_absolute_error: 2.8239\n",
            "Epoch 61/200\n",
            " - 0s - loss: 4.4232 - mean_absolute_error: 1.4568 - val_loss: 15.9508 - val_mean_absolute_error: 2.6802\n",
            "Epoch 62/200\n",
            " - 0s - loss: 4.2500 - mean_absolute_error: 1.3794 - val_loss: 14.9537 - val_mean_absolute_error: 2.7935\n",
            "Epoch 63/200\n",
            " - 0s - loss: 4.0502 - mean_absolute_error: 1.4740 - val_loss: 15.0606 - val_mean_absolute_error: 2.6558\n",
            "Epoch 64/200\n",
            " - 0s - loss: 4.4230 - mean_absolute_error: 1.4554 - val_loss: 14.3928 - val_mean_absolute_error: 2.5296\n",
            "Epoch 65/200\n",
            " - 0s - loss: 4.0257 - mean_absolute_error: 1.4036 - val_loss: 13.7578 - val_mean_absolute_error: 2.5691\n",
            "Epoch 66/200\n",
            " - 0s - loss: 3.9297 - mean_absolute_error: 1.4026 - val_loss: 15.3417 - val_mean_absolute_error: 2.6770\n",
            "Epoch 67/200\n",
            " - 0s - loss: 4.0767 - mean_absolute_error: 1.4624 - val_loss: 15.8734 - val_mean_absolute_error: 2.7641\n",
            "Epoch 68/200\n",
            " - 0s - loss: 4.1246 - mean_absolute_error: 1.4498 - val_loss: 14.8745 - val_mean_absolute_error: 2.7251\n",
            "Epoch 69/200\n",
            " - 0s - loss: 3.8863 - mean_absolute_error: 1.4061 - val_loss: 15.3147 - val_mean_absolute_error: 2.6260\n",
            "Epoch 70/200\n",
            " - 0s - loss: 4.0828 - mean_absolute_error: 1.4176 - val_loss: 16.6528 - val_mean_absolute_error: 2.8703\n",
            "Epoch 71/200\n",
            " - 0s - loss: 3.7829 - mean_absolute_error: 1.4262 - val_loss: 17.8352 - val_mean_absolute_error: 2.9299\n",
            "Epoch 72/200\n",
            " - 0s - loss: 3.8394 - mean_absolute_error: 1.4184 - val_loss: 15.3680 - val_mean_absolute_error: 2.6711\n",
            "Epoch 73/200\n",
            " - 0s - loss: 3.5366 - mean_absolute_error: 1.3324 - val_loss: 15.4569 - val_mean_absolute_error: 2.6836\n",
            "Epoch 74/200\n",
            " - 0s - loss: 3.3705 - mean_absolute_error: 1.3549 - val_loss: 16.5179 - val_mean_absolute_error: 2.8051\n",
            "Epoch 75/200\n",
            " - 0s - loss: 3.5009 - mean_absolute_error: 1.4157 - val_loss: 15.1678 - val_mean_absolute_error: 2.7165\n",
            "Epoch 76/200\n",
            " - 0s - loss: 3.6317 - mean_absolute_error: 1.3401 - val_loss: 17.5037 - val_mean_absolute_error: 2.7870\n",
            "Epoch 77/200\n",
            " - 0s - loss: 3.4983 - mean_absolute_error: 1.3427 - val_loss: 16.5327 - val_mean_absolute_error: 2.7426\n",
            "Epoch 78/200\n",
            " - 0s - loss: 3.6574 - mean_absolute_error: 1.3938 - val_loss: 16.8107 - val_mean_absolute_error: 2.7752\n",
            "Epoch 79/200\n",
            " - 0s - loss: 3.5232 - mean_absolute_error: 1.3637 - val_loss: 16.8667 - val_mean_absolute_error: 2.8498\n",
            "Epoch 80/200\n",
            " - 0s - loss: 3.5016 - mean_absolute_error: 1.3342 - val_loss: 16.9582 - val_mean_absolute_error: 2.8636\n",
            "Epoch 81/200\n",
            " - 0s - loss: 3.4793 - mean_absolute_error: 1.3461 - val_loss: 17.3362 - val_mean_absolute_error: 2.9760\n",
            "Epoch 82/200\n",
            " - 0s - loss: 3.4990 - mean_absolute_error: 1.2932 - val_loss: 15.6997 - val_mean_absolute_error: 2.6986\n",
            "Epoch 83/200\n",
            " - 0s - loss: 3.2594 - mean_absolute_error: 1.2775 - val_loss: 15.2635 - val_mean_absolute_error: 2.6837\n",
            "Epoch 84/200\n",
            " - 0s - loss: 3.5060 - mean_absolute_error: 1.3586 - val_loss: 15.4004 - val_mean_absolute_error: 2.7478\n",
            "Epoch 85/200\n",
            " - 0s - loss: 3.1751 - mean_absolute_error: 1.2857 - val_loss: 17.2564 - val_mean_absolute_error: 2.7714\n",
            "Epoch 86/200\n",
            " - 0s - loss: 3.3551 - mean_absolute_error: 1.3011 - val_loss: 17.2456 - val_mean_absolute_error: 2.7519\n",
            "Epoch 87/200\n",
            " - 0s - loss: 3.2630 - mean_absolute_error: 1.2894 - val_loss: 16.0706 - val_mean_absolute_error: 2.8507\n",
            "Epoch 88/200\n",
            " - 0s - loss: 3.4748 - mean_absolute_error: 1.3352 - val_loss: 15.4501 - val_mean_absolute_error: 2.6358\n",
            "Epoch 89/200\n",
            " - 0s - loss: 3.2105 - mean_absolute_error: 1.2680 - val_loss: 14.8527 - val_mean_absolute_error: 2.6090\n",
            "Epoch 90/200\n",
            " - 0s - loss: 3.0343 - mean_absolute_error: 1.2259 - val_loss: 16.3966 - val_mean_absolute_error: 2.8320\n",
            "Epoch 91/200\n",
            " - 0s - loss: 3.0137 - mean_absolute_error: 1.2666 - val_loss: 14.8528 - val_mean_absolute_error: 2.6206\n",
            "Epoch 92/200\n",
            " - 0s - loss: 3.0566 - mean_absolute_error: 1.2921 - val_loss: 20.0475 - val_mean_absolute_error: 2.9929\n",
            "Epoch 93/200\n",
            " - 0s - loss: 3.0017 - mean_absolute_error: 1.2478 - val_loss: 15.7277 - val_mean_absolute_error: 2.7270\n",
            "Epoch 94/200\n",
            " - 0s - loss: 3.0032 - mean_absolute_error: 1.2520 - val_loss: 16.3290 - val_mean_absolute_error: 2.7725\n",
            "Epoch 95/200\n",
            " - 0s - loss: 2.8388 - mean_absolute_error: 1.2101 - val_loss: 15.3140 - val_mean_absolute_error: 2.6878\n",
            "Epoch 96/200\n",
            " - 0s - loss: 3.0205 - mean_absolute_error: 1.3103 - val_loss: 14.9948 - val_mean_absolute_error: 2.7140\n",
            "Epoch 97/200\n",
            " - 0s - loss: 2.9840 - mean_absolute_error: 1.2781 - val_loss: 16.1402 - val_mean_absolute_error: 2.8525\n",
            "Epoch 98/200\n",
            " - 0s - loss: 2.9030 - mean_absolute_error: 1.2308 - val_loss: 16.8895 - val_mean_absolute_error: 2.8995\n",
            "Epoch 99/200\n",
            " - 0s - loss: 2.5675 - mean_absolute_error: 1.1544 - val_loss: 16.5225 - val_mean_absolute_error: 2.7492\n",
            "Epoch 100/200\n",
            " - 0s - loss: 2.9356 - mean_absolute_error: 1.2226 - val_loss: 16.5426 - val_mean_absolute_error: 2.7384\n",
            "Epoch 101/200\n",
            " - 0s - loss: 2.6516 - mean_absolute_error: 1.2082 - val_loss: 16.6646 - val_mean_absolute_error: 2.8366\n",
            "Epoch 102/200\n",
            " - 0s - loss: 2.7433 - mean_absolute_error: 1.1617 - val_loss: 16.7843 - val_mean_absolute_error: 2.8191\n",
            "Epoch 103/200\n",
            " - 0s - loss: 2.8034 - mean_absolute_error: 1.2465 - val_loss: 20.8425 - val_mean_absolute_error: 3.1916\n",
            "Epoch 104/200\n",
            " - 0s - loss: 2.7440 - mean_absolute_error: 1.1899 - val_loss: 16.4054 - val_mean_absolute_error: 2.8121\n",
            "Epoch 105/200\n",
            " - 0s - loss: 2.7756 - mean_absolute_error: 1.2151 - val_loss: 16.3978 - val_mean_absolute_error: 2.7441\n",
            "Epoch 106/200\n",
            " - 0s - loss: 2.4274 - mean_absolute_error: 1.1679 - val_loss: 16.5034 - val_mean_absolute_error: 2.7372\n",
            "Epoch 107/200\n",
            " - 0s - loss: 2.6912 - mean_absolute_error: 1.1570 - val_loss: 16.0942 - val_mean_absolute_error: 2.7185\n",
            "Epoch 108/200\n",
            " - 0s - loss: 2.3496 - mean_absolute_error: 1.1311 - val_loss: 15.9992 - val_mean_absolute_error: 2.7940\n",
            "Epoch 109/200\n",
            " - 0s - loss: 2.5888 - mean_absolute_error: 1.1353 - val_loss: 19.4491 - val_mean_absolute_error: 2.8958\n",
            "Epoch 110/200\n",
            " - 0s - loss: 2.5817 - mean_absolute_error: 1.1489 - val_loss: 17.7748 - val_mean_absolute_error: 2.9226\n",
            "Epoch 111/200\n",
            " - 0s - loss: 2.6830 - mean_absolute_error: 1.2018 - val_loss: 16.8517 - val_mean_absolute_error: 2.8121\n",
            "Epoch 112/200\n",
            " - 0s - loss: 2.6793 - mean_absolute_error: 1.2053 - val_loss: 17.6639 - val_mean_absolute_error: 2.8606\n",
            "Epoch 113/200\n",
            " - 0s - loss: 2.3706 - mean_absolute_error: 1.1219 - val_loss: 16.5191 - val_mean_absolute_error: 2.7248\n",
            "Epoch 114/200\n",
            " - 0s - loss: 2.6058 - mean_absolute_error: 1.1826 - val_loss: 16.6261 - val_mean_absolute_error: 2.7590\n",
            "Epoch 115/200\n",
            " - 0s - loss: 2.4242 - mean_absolute_error: 1.1368 - val_loss: 16.0406 - val_mean_absolute_error: 2.7825\n",
            "Epoch 116/200\n",
            " - 0s - loss: 2.4689 - mean_absolute_error: 1.1475 - val_loss: 18.5356 - val_mean_absolute_error: 2.9131\n",
            "Epoch 117/200\n",
            " - 0s - loss: 2.3996 - mean_absolute_error: 1.1465 - val_loss: 17.5297 - val_mean_absolute_error: 2.9016\n",
            "Epoch 118/200\n",
            " - 0s - loss: 2.5276 - mean_absolute_error: 1.1578 - val_loss: 17.0189 - val_mean_absolute_error: 2.8342\n",
            "Epoch 119/200\n",
            " - 0s - loss: 2.4277 - mean_absolute_error: 1.1330 - val_loss: 17.1006 - val_mean_absolute_error: 2.7577\n",
            "Epoch 120/200\n",
            " - 0s - loss: 2.3072 - mean_absolute_error: 1.1501 - val_loss: 15.5447 - val_mean_absolute_error: 2.7252\n",
            "Epoch 121/200\n",
            " - 0s - loss: 2.6639 - mean_absolute_error: 1.2217 - val_loss: 16.1978 - val_mean_absolute_error: 2.7563\n",
            "Epoch 122/200\n",
            " - 0s - loss: 2.1135 - mean_absolute_error: 1.0492 - val_loss: 16.9471 - val_mean_absolute_error: 2.8062\n",
            "Epoch 123/200\n",
            " - 0s - loss: 2.3594 - mean_absolute_error: 1.1720 - val_loss: 16.3163 - val_mean_absolute_error: 2.8810\n",
            "Epoch 124/200\n",
            " - 0s - loss: 2.2041 - mean_absolute_error: 1.0899 - val_loss: 15.6307 - val_mean_absolute_error: 2.6895\n",
            "Epoch 125/200\n",
            " - 0s - loss: 2.4794 - mean_absolute_error: 1.1291 - val_loss: 16.3434 - val_mean_absolute_error: 2.8404\n",
            "Epoch 126/200\n",
            " - 0s - loss: 2.3032 - mean_absolute_error: 1.1055 - val_loss: 17.4846 - val_mean_absolute_error: 2.9226\n",
            "Epoch 127/200\n",
            " - 0s - loss: 2.2266 - mean_absolute_error: 1.0968 - val_loss: 18.2532 - val_mean_absolute_error: 3.0715\n",
            "Epoch 128/200\n",
            " - 0s - loss: 2.3024 - mean_absolute_error: 1.0646 - val_loss: 16.8836 - val_mean_absolute_error: 2.8031\n",
            "Epoch 129/200\n",
            " - 0s - loss: 2.2920 - mean_absolute_error: 1.1026 - val_loss: 16.5896 - val_mean_absolute_error: 2.7884\n",
            "Epoch 130/200\n",
            " - 0s - loss: 2.2721 - mean_absolute_error: 1.1102 - val_loss: 16.7453 - val_mean_absolute_error: 2.8481\n",
            "Epoch 131/200\n",
            " - 0s - loss: 2.1522 - mean_absolute_error: 1.0890 - val_loss: 18.0726 - val_mean_absolute_error: 3.0123\n",
            "Epoch 132/200\n",
            " - 0s - loss: 2.1834 - mean_absolute_error: 1.0964 - val_loss: 15.4724 - val_mean_absolute_error: 2.6622\n",
            "Epoch 133/200\n",
            " - 0s - loss: 2.2157 - mean_absolute_error: 1.0606 - val_loss: 17.5247 - val_mean_absolute_error: 2.8243\n",
            "Epoch 134/200\n",
            " - 0s - loss: 2.1671 - mean_absolute_error: 1.0748 - val_loss: 16.9377 - val_mean_absolute_error: 2.8848\n",
            "Epoch 135/200\n",
            " - 0s - loss: 2.0370 - mean_absolute_error: 1.0750 - val_loss: 17.6494 - val_mean_absolute_error: 2.8576\n",
            "Epoch 136/200\n",
            " - 0s - loss: 1.9966 - mean_absolute_error: 1.0388 - val_loss: 17.4757 - val_mean_absolute_error: 2.9502\n",
            "Epoch 137/200\n",
            " - 0s - loss: 2.0579 - mean_absolute_error: 1.0599 - val_loss: 15.4614 - val_mean_absolute_error: 2.7580\n",
            "Epoch 138/200\n",
            " - 0s - loss: 1.8979 - mean_absolute_error: 1.0208 - val_loss: 16.1698 - val_mean_absolute_error: 2.7944\n",
            "Epoch 139/200\n",
            " - 0s - loss: 2.0412 - mean_absolute_error: 1.0388 - val_loss: 16.5938 - val_mean_absolute_error: 2.8758\n",
            "Epoch 140/200\n",
            " - 0s - loss: 1.9409 - mean_absolute_error: 1.0256 - val_loss: 17.9832 - val_mean_absolute_error: 2.8421\n",
            "Epoch 141/200\n",
            " - 0s - loss: 1.7851 - mean_absolute_error: 1.0162 - val_loss: 17.2259 - val_mean_absolute_error: 2.8482\n",
            "Epoch 142/200\n",
            " - 0s - loss: 1.8316 - mean_absolute_error: 0.9973 - val_loss: 17.0858 - val_mean_absolute_error: 2.8078\n",
            "Epoch 143/200\n",
            " - 0s - loss: 1.8694 - mean_absolute_error: 1.0342 - val_loss: 20.3069 - val_mean_absolute_error: 3.1105\n",
            "Epoch 144/200\n",
            " - 0s - loss: 2.0704 - mean_absolute_error: 1.0756 - val_loss: 16.7522 - val_mean_absolute_error: 2.8044\n",
            "Epoch 145/200\n",
            " - 0s - loss: 1.9358 - mean_absolute_error: 0.9862 - val_loss: 15.6918 - val_mean_absolute_error: 2.6180\n",
            "Epoch 146/200\n",
            " - 0s - loss: 1.9288 - mean_absolute_error: 1.0230 - val_loss: 16.5063 - val_mean_absolute_error: 2.7818\n",
            "Epoch 147/200\n",
            " - 0s - loss: 1.8496 - mean_absolute_error: 0.9918 - val_loss: 15.7208 - val_mean_absolute_error: 2.7457\n",
            "Epoch 148/200\n",
            " - 0s - loss: 1.9204 - mean_absolute_error: 1.0129 - val_loss: 15.5980 - val_mean_absolute_error: 2.7020\n",
            "Epoch 149/200\n",
            " - 0s - loss: 1.9306 - mean_absolute_error: 1.0631 - val_loss: 16.8320 - val_mean_absolute_error: 2.8076\n",
            "Epoch 150/200\n",
            " - 0s - loss: 1.9601 - mean_absolute_error: 1.0164 - val_loss: 16.4293 - val_mean_absolute_error: 2.8065\n",
            "Epoch 151/200\n",
            " - 0s - loss: 2.0539 - mean_absolute_error: 1.0246 - val_loss: 18.6902 - val_mean_absolute_error: 2.9968\n",
            "Epoch 152/200\n",
            " - 0s - loss: 2.0512 - mean_absolute_error: 1.0511 - val_loss: 18.2292 - val_mean_absolute_error: 2.8849\n",
            "Epoch 153/200\n",
            " - 0s - loss: 1.6510 - mean_absolute_error: 0.9083 - val_loss: 16.5209 - val_mean_absolute_error: 2.8122\n",
            "Epoch 154/200\n",
            " - 0s - loss: 1.8238 - mean_absolute_error: 1.0018 - val_loss: 17.2845 - val_mean_absolute_error: 2.8674\n",
            "Epoch 155/200\n",
            " - 0s - loss: 1.7349 - mean_absolute_error: 0.9870 - val_loss: 16.7291 - val_mean_absolute_error: 2.7260\n",
            "Epoch 156/200\n",
            " - 0s - loss: 2.0708 - mean_absolute_error: 1.0343 - val_loss: 17.4684 - val_mean_absolute_error: 2.9420\n",
            "Epoch 157/200\n",
            " - 0s - loss: 1.7991 - mean_absolute_error: 0.9442 - val_loss: 17.6254 - val_mean_absolute_error: 2.7734\n",
            "Epoch 158/200\n",
            " - 0s - loss: 1.7802 - mean_absolute_error: 0.9810 - val_loss: 18.5463 - val_mean_absolute_error: 2.8792\n",
            "Epoch 159/200\n",
            " - 0s - loss: 1.9119 - mean_absolute_error: 1.0349 - val_loss: 18.2470 - val_mean_absolute_error: 2.9232\n",
            "Epoch 160/200\n",
            " - 0s - loss: 1.7765 - mean_absolute_error: 0.9914 - val_loss: 17.5960 - val_mean_absolute_error: 2.7801\n",
            "Epoch 161/200\n",
            " - 0s - loss: 1.6744 - mean_absolute_error: 0.9383 - val_loss: 19.5050 - val_mean_absolute_error: 3.0572\n",
            "Epoch 162/200\n",
            " - 0s - loss: 1.7678 - mean_absolute_error: 0.9674 - val_loss: 17.3971 - val_mean_absolute_error: 2.8917\n",
            "Epoch 163/200\n",
            " - 0s - loss: 1.8500 - mean_absolute_error: 0.9877 - val_loss: 20.1565 - val_mean_absolute_error: 2.9952\n",
            "Epoch 164/200\n",
            " - 0s - loss: 1.8655 - mean_absolute_error: 1.0081 - val_loss: 17.4537 - val_mean_absolute_error: 2.8517\n",
            "Epoch 165/200\n",
            " - 0s - loss: 1.6534 - mean_absolute_error: 0.9366 - val_loss: 16.3700 - val_mean_absolute_error: 2.6973\n",
            "Epoch 166/200\n",
            " - 0s - loss: 1.7538 - mean_absolute_error: 0.9680 - val_loss: 16.9161 - val_mean_absolute_error: 2.8113\n",
            "Epoch 167/200\n",
            " - 0s - loss: 1.8138 - mean_absolute_error: 0.9664 - val_loss: 17.5419 - val_mean_absolute_error: 2.9364\n",
            "Epoch 168/200\n",
            " - 0s - loss: 1.8072 - mean_absolute_error: 0.9624 - val_loss: 16.8470 - val_mean_absolute_error: 2.8520\n",
            "Epoch 169/200\n",
            " - 0s - loss: 1.6901 - mean_absolute_error: 0.9647 - val_loss: 16.9217 - val_mean_absolute_error: 2.7748\n",
            "Epoch 170/200\n",
            " - 0s - loss: 1.6281 - mean_absolute_error: 0.9510 - val_loss: 18.4620 - val_mean_absolute_error: 2.9063\n",
            "Epoch 171/200\n",
            " - 0s - loss: 1.8121 - mean_absolute_error: 0.9853 - val_loss: 17.2334 - val_mean_absolute_error: 2.8859\n",
            "Epoch 172/200\n",
            " - 0s - loss: 1.7573 - mean_absolute_error: 0.9559 - val_loss: 18.9980 - val_mean_absolute_error: 2.8764\n",
            "Epoch 173/200\n",
            " - 0s - loss: 1.6534 - mean_absolute_error: 0.9504 - val_loss: 16.9388 - val_mean_absolute_error: 2.8050\n",
            "Epoch 174/200\n",
            " - 0s - loss: 1.5713 - mean_absolute_error: 0.9532 - val_loss: 17.4759 - val_mean_absolute_error: 2.7467\n",
            "Epoch 175/200\n",
            " - 0s - loss: 1.7417 - mean_absolute_error: 0.9644 - val_loss: 17.9661 - val_mean_absolute_error: 2.8238\n",
            "Epoch 176/200\n",
            " - 0s - loss: 1.8222 - mean_absolute_error: 0.9930 - val_loss: 17.9604 - val_mean_absolute_error: 2.8167\n",
            "Epoch 177/200\n",
            " - 0s - loss: 1.3212 - mean_absolute_error: 0.8534 - val_loss: 18.7697 - val_mean_absolute_error: 3.0012\n",
            "Epoch 178/200\n",
            " - 0s - loss: 1.7930 - mean_absolute_error: 0.9378 - val_loss: 17.4819 - val_mean_absolute_error: 2.7811\n",
            "Epoch 179/200\n",
            " - 0s - loss: 1.6273 - mean_absolute_error: 0.9651 - val_loss: 15.8356 - val_mean_absolute_error: 2.7428\n",
            "Epoch 180/200\n",
            " - 0s - loss: 1.6327 - mean_absolute_error: 0.9087 - val_loss: 17.9067 - val_mean_absolute_error: 2.9427\n",
            "Epoch 181/200\n",
            " - 0s - loss: 1.6215 - mean_absolute_error: 0.9514 - val_loss: 18.3506 - val_mean_absolute_error: 2.8658\n",
            "Epoch 182/200\n",
            " - 0s - loss: 1.5316 - mean_absolute_error: 0.9182 - val_loss: 17.4401 - val_mean_absolute_error: 2.8947\n",
            "Epoch 183/200\n",
            " - 0s - loss: 1.4189 - mean_absolute_error: 0.8819 - val_loss: 19.3074 - val_mean_absolute_error: 2.8793\n",
            "Epoch 184/200\n",
            " - 0s - loss: 1.5530 - mean_absolute_error: 0.9320 - val_loss: 18.2381 - val_mean_absolute_error: 2.9679\n",
            "Epoch 185/200\n",
            " - 0s - loss: 1.3870 - mean_absolute_error: 0.8973 - val_loss: 19.3069 - val_mean_absolute_error: 2.9426\n",
            "Epoch 186/200\n",
            " - 0s - loss: 1.6196 - mean_absolute_error: 0.9346 - val_loss: 18.2719 - val_mean_absolute_error: 2.8698\n",
            "Epoch 187/200\n",
            " - 0s - loss: 1.6015 - mean_absolute_error: 0.9530 - val_loss: 18.3731 - val_mean_absolute_error: 2.9333\n",
            "Epoch 188/200\n",
            " - 0s - loss: 1.4180 - mean_absolute_error: 0.8812 - val_loss: 16.7915 - val_mean_absolute_error: 2.8568\n",
            "Epoch 189/200\n",
            " - 0s - loss: 1.6594 - mean_absolute_error: 0.8841 - val_loss: 16.6409 - val_mean_absolute_error: 2.8035\n",
            "Epoch 190/200\n",
            " - 0s - loss: 1.5062 - mean_absolute_error: 0.8898 - val_loss: 19.1269 - val_mean_absolute_error: 2.9504\n",
            "Epoch 191/200\n",
            " - 0s - loss: 1.5425 - mean_absolute_error: 0.9063 - val_loss: 16.3802 - val_mean_absolute_error: 2.6918\n",
            "Epoch 192/200\n",
            " - 0s - loss: 1.6525 - mean_absolute_error: 0.9561 - val_loss: 19.1349 - val_mean_absolute_error: 2.9133\n",
            "Epoch 193/200\n",
            " - 0s - loss: 1.5477 - mean_absolute_error: 0.9503 - val_loss: 19.0308 - val_mean_absolute_error: 2.9432\n",
            "Epoch 194/200\n",
            " - 0s - loss: 1.4753 - mean_absolute_error: 0.8935 - val_loss: 20.1649 - val_mean_absolute_error: 3.0515\n",
            "Epoch 195/200\n",
            " - 0s - loss: 1.5658 - mean_absolute_error: 0.9185 - val_loss: 17.5786 - val_mean_absolute_error: 2.9053\n",
            "Epoch 196/200\n",
            " - 0s - loss: 1.5275 - mean_absolute_error: 0.8918 - val_loss: 15.9592 - val_mean_absolute_error: 2.8305\n",
            "Epoch 197/200\n",
            " - 0s - loss: 1.3645 - mean_absolute_error: 0.8228 - val_loss: 16.3327 - val_mean_absolute_error: 2.8206\n",
            "Epoch 198/200\n",
            " - 0s - loss: 1.6638 - mean_absolute_error: 0.9414 - val_loss: 16.8576 - val_mean_absolute_error: 2.8517\n",
            "Epoch 199/200\n",
            " - 0s - loss: 1.3390 - mean_absolute_error: 0.8631 - val_loss: 19.4234 - val_mean_absolute_error: 3.1359\n",
            "Epoch 200/200\n",
            " - 0s - loss: 1.4775 - mean_absolute_error: 0.9023 - val_loss: 18.6634 - val_mean_absolute_error: 2.9825\n",
            "processing fold # 3\n",
            "Train on 303 samples, validate on 101 samples\n",
            "Epoch 1/200\n",
            " - 1s - loss: 169.5589 - mean_absolute_error: 9.6395 - val_loss: 45.8687 - val_mean_absolute_error: 4.9230\n",
            "Epoch 2/200\n",
            " - 0s - loss: 26.8917 - mean_absolute_error: 3.4400 - val_loss: 31.5839 - val_mean_absolute_error: 3.6413\n",
            "Epoch 3/200\n",
            " - 0s - loss: 20.2696 - mean_absolute_error: 2.7821 - val_loss: 30.0132 - val_mean_absolute_error: 3.4073\n",
            "Epoch 4/200\n",
            " - 0s - loss: 17.3983 - mean_absolute_error: 2.6355 - val_loss: 23.3085 - val_mean_absolute_error: 3.2822\n",
            "Epoch 5/200\n",
            " - 0s - loss: 15.6598 - mean_absolute_error: 2.4790 - val_loss: 22.6348 - val_mean_absolute_error: 3.1045\n",
            "Epoch 6/200\n",
            " - 0s - loss: 14.0761 - mean_absolute_error: 2.4065 - val_loss: 18.8781 - val_mean_absolute_error: 2.9183\n",
            "Epoch 7/200\n",
            " - 0s - loss: 12.7180 - mean_absolute_error: 2.3442 - val_loss: 17.6051 - val_mean_absolute_error: 2.8039\n",
            "Epoch 8/200\n",
            " - 0s - loss: 12.9552 - mean_absolute_error: 2.2848 - val_loss: 17.7224 - val_mean_absolute_error: 2.8315\n",
            "Epoch 9/200\n",
            " - 0s - loss: 11.9179 - mean_absolute_error: 2.2233 - val_loss: 16.8248 - val_mean_absolute_error: 2.6479\n",
            "Epoch 10/200\n",
            " - 0s - loss: 11.2856 - mean_absolute_error: 2.2300 - val_loss: 15.0198 - val_mean_absolute_error: 2.6182\n",
            "Epoch 11/200\n",
            " - 0s - loss: 10.6857 - mean_absolute_error: 2.1224 - val_loss: 17.8165 - val_mean_absolute_error: 3.1391\n",
            "Epoch 12/200\n",
            " - 0s - loss: 10.4808 - mean_absolute_error: 2.1349 - val_loss: 15.6023 - val_mean_absolute_error: 2.6510\n",
            "Epoch 13/200\n",
            " - 0s - loss: 9.8345 - mean_absolute_error: 2.0365 - val_loss: 16.8827 - val_mean_absolute_error: 2.8776\n",
            "Epoch 14/200\n",
            " - 0s - loss: 10.3566 - mean_absolute_error: 2.0856 - val_loss: 14.5520 - val_mean_absolute_error: 2.8338\n",
            "Epoch 15/200\n",
            " - 0s - loss: 9.8715 - mean_absolute_error: 2.0363 - val_loss: 14.3965 - val_mean_absolute_error: 2.6146\n",
            "Epoch 16/200\n",
            " - 0s - loss: 9.5941 - mean_absolute_error: 2.0927 - val_loss: 13.5568 - val_mean_absolute_error: 2.6901\n",
            "Epoch 17/200\n",
            " - 0s - loss: 9.2891 - mean_absolute_error: 2.0326 - val_loss: 12.9361 - val_mean_absolute_error: 2.5109\n",
            "Epoch 18/200\n",
            " - 0s - loss: 9.3185 - mean_absolute_error: 1.9941 - val_loss: 13.0783 - val_mean_absolute_error: 2.4425\n",
            "Epoch 19/200\n",
            " - 0s - loss: 9.2584 - mean_absolute_error: 1.9958 - val_loss: 13.5601 - val_mean_absolute_error: 2.6127\n",
            "Epoch 20/200\n",
            " - 0s - loss: 9.2234 - mean_absolute_error: 1.9726 - val_loss: 12.9861 - val_mean_absolute_error: 2.5502\n",
            "Epoch 21/200\n",
            " - 0s - loss: 9.3895 - mean_absolute_error: 1.9242 - val_loss: 12.9893 - val_mean_absolute_error: 2.4777\n",
            "Epoch 22/200\n",
            " - 0s - loss: 8.5665 - mean_absolute_error: 1.9240 - val_loss: 14.3789 - val_mean_absolute_error: 2.6029\n",
            "Epoch 23/200\n",
            " - 0s - loss: 8.9178 - mean_absolute_error: 1.8790 - val_loss: 13.6228 - val_mean_absolute_error: 2.6368\n",
            "Epoch 24/200\n",
            " - 0s - loss: 8.5646 - mean_absolute_error: 1.9010 - val_loss: 13.4028 - val_mean_absolute_error: 2.5457\n",
            "Epoch 25/200\n",
            " - 0s - loss: 8.3301 - mean_absolute_error: 1.8796 - val_loss: 13.9839 - val_mean_absolute_error: 2.6869\n",
            "Epoch 26/200\n",
            " - 0s - loss: 8.5578 - mean_absolute_error: 1.8636 - val_loss: 13.1470 - val_mean_absolute_error: 2.5420\n",
            "Epoch 27/200\n",
            " - 0s - loss: 8.3004 - mean_absolute_error: 1.9175 - val_loss: 12.6172 - val_mean_absolute_error: 2.4124\n",
            "Epoch 28/200\n",
            " - 0s - loss: 8.1754 - mean_absolute_error: 1.7922 - val_loss: 12.2930 - val_mean_absolute_error: 2.5127\n",
            "Epoch 29/200\n",
            " - 0s - loss: 7.6015 - mean_absolute_error: 1.7955 - val_loss: 12.5896 - val_mean_absolute_error: 2.5039\n",
            "Epoch 30/200\n",
            " - 0s - loss: 7.8314 - mean_absolute_error: 1.7712 - val_loss: 13.3512 - val_mean_absolute_error: 2.4961\n",
            "Epoch 31/200\n",
            " - 0s - loss: 7.6853 - mean_absolute_error: 1.8368 - val_loss: 11.7233 - val_mean_absolute_error: 2.4502\n",
            "Epoch 32/200\n",
            " - 0s - loss: 7.9075 - mean_absolute_error: 1.8618 - val_loss: 11.8190 - val_mean_absolute_error: 2.4417\n",
            "Epoch 33/200\n",
            " - 0s - loss: 7.6323 - mean_absolute_error: 1.7676 - val_loss: 12.4746 - val_mean_absolute_error: 2.5804\n",
            "Epoch 34/200\n",
            " - 0s - loss: 7.2415 - mean_absolute_error: 1.7584 - val_loss: 13.7859 - val_mean_absolute_error: 2.7719\n",
            "Epoch 35/200\n",
            " - 0s - loss: 7.3184 - mean_absolute_error: 1.7587 - val_loss: 11.5652 - val_mean_absolute_error: 2.3895\n",
            "Epoch 36/200\n",
            " - 0s - loss: 6.7117 - mean_absolute_error: 1.6847 - val_loss: 18.4107 - val_mean_absolute_error: 3.2940\n",
            "Epoch 37/200\n",
            " - 0s - loss: 7.4939 - mean_absolute_error: 1.8059 - val_loss: 12.1568 - val_mean_absolute_error: 2.4555\n",
            "Epoch 38/200\n",
            " - 0s - loss: 6.8894 - mean_absolute_error: 1.7555 - val_loss: 11.8292 - val_mean_absolute_error: 2.4461\n",
            "Epoch 39/200\n",
            " - 0s - loss: 7.0272 - mean_absolute_error: 1.7417 - val_loss: 12.7214 - val_mean_absolute_error: 2.4893\n",
            "Epoch 40/200\n",
            " - 0s - loss: 7.1237 - mean_absolute_error: 1.7097 - val_loss: 11.7837 - val_mean_absolute_error: 2.3860\n",
            "Epoch 41/200\n",
            " - 0s - loss: 6.7706 - mean_absolute_error: 1.6665 - val_loss: 12.0726 - val_mean_absolute_error: 2.4695\n",
            "Epoch 42/200\n",
            " - 0s - loss: 6.9801 - mean_absolute_error: 1.7183 - val_loss: 12.0599 - val_mean_absolute_error: 2.4504\n",
            "Epoch 43/200\n",
            " - 0s - loss: 6.6696 - mean_absolute_error: 1.7101 - val_loss: 12.2008 - val_mean_absolute_error: 2.4619\n",
            "Epoch 44/200\n",
            " - 0s - loss: 6.7284 - mean_absolute_error: 1.6048 - val_loss: 11.8220 - val_mean_absolute_error: 2.4554\n",
            "Epoch 45/200\n",
            " - 0s - loss: 6.3284 - mean_absolute_error: 1.6500 - val_loss: 13.3369 - val_mean_absolute_error: 2.5515\n",
            "Epoch 46/200\n",
            " - 0s - loss: 6.5786 - mean_absolute_error: 1.6616 - val_loss: 11.9731 - val_mean_absolute_error: 2.4668\n",
            "Epoch 47/200\n",
            " - 0s - loss: 6.0252 - mean_absolute_error: 1.6089 - val_loss: 13.9352 - val_mean_absolute_error: 2.6536\n",
            "Epoch 48/200\n",
            " - 0s - loss: 6.6405 - mean_absolute_error: 1.6253 - val_loss: 13.1708 - val_mean_absolute_error: 2.6658\n",
            "Epoch 49/200\n",
            " - 0s - loss: 6.4930 - mean_absolute_error: 1.6574 - val_loss: 12.2402 - val_mean_absolute_error: 2.4205\n",
            "Epoch 50/200\n",
            " - 0s - loss: 6.3102 - mean_absolute_error: 1.6256 - val_loss: 13.9041 - val_mean_absolute_error: 2.7324\n",
            "Epoch 51/200\n",
            " - 0s - loss: 6.2506 - mean_absolute_error: 1.6071 - val_loss: 14.6262 - val_mean_absolute_error: 2.7647\n",
            "Epoch 52/200\n",
            " - 0s - loss: 6.4663 - mean_absolute_error: 1.6131 - val_loss: 12.4981 - val_mean_absolute_error: 2.5187\n",
            "Epoch 53/200\n",
            " - 0s - loss: 5.7384 - mean_absolute_error: 1.5746 - val_loss: 12.5738 - val_mean_absolute_error: 2.5241\n",
            "Epoch 54/200\n",
            " - 0s - loss: 6.1626 - mean_absolute_error: 1.5711 - val_loss: 11.8508 - val_mean_absolute_error: 2.4575\n",
            "Epoch 55/200\n",
            " - 0s - loss: 6.3850 - mean_absolute_error: 1.6165 - val_loss: 11.7737 - val_mean_absolute_error: 2.4268\n",
            "Epoch 56/200\n",
            " - 0s - loss: 5.8943 - mean_absolute_error: 1.5587 - val_loss: 12.7901 - val_mean_absolute_error: 2.5317\n",
            "Epoch 57/200\n",
            " - 0s - loss: 5.5142 - mean_absolute_error: 1.5365 - val_loss: 12.6167 - val_mean_absolute_error: 2.5460\n",
            "Epoch 58/200\n",
            " - 0s - loss: 5.9173 - mean_absolute_error: 1.5734 - val_loss: 12.0545 - val_mean_absolute_error: 2.4590\n",
            "Epoch 59/200\n",
            " - 0s - loss: 5.8481 - mean_absolute_error: 1.5245 - val_loss: 12.0346 - val_mean_absolute_error: 2.4567\n",
            "Epoch 60/200\n",
            " - 0s - loss: 5.7096 - mean_absolute_error: 1.5509 - val_loss: 12.6638 - val_mean_absolute_error: 2.5174\n",
            "Epoch 61/200\n",
            " - 0s - loss: 5.9167 - mean_absolute_error: 1.4965 - val_loss: 13.6993 - val_mean_absolute_error: 2.7243\n",
            "Epoch 62/200\n",
            " - 0s - loss: 5.7361 - mean_absolute_error: 1.5175 - val_loss: 11.9871 - val_mean_absolute_error: 2.4097\n",
            "Epoch 63/200\n",
            " - 0s - loss: 5.2848 - mean_absolute_error: 1.5009 - val_loss: 12.1312 - val_mean_absolute_error: 2.5160\n",
            "Epoch 64/200\n",
            " - 0s - loss: 5.4967 - mean_absolute_error: 1.4894 - val_loss: 12.1556 - val_mean_absolute_error: 2.5696\n",
            "Epoch 65/200\n",
            " - 0s - loss: 5.7272 - mean_absolute_error: 1.5320 - val_loss: 11.8725 - val_mean_absolute_error: 2.4508\n",
            "Epoch 66/200\n",
            " - 0s - loss: 5.6200 - mean_absolute_error: 1.5290 - val_loss: 12.6425 - val_mean_absolute_error: 2.5697\n",
            "Epoch 67/200\n",
            " - 0s - loss: 5.0841 - mean_absolute_error: 1.4518 - val_loss: 13.9706 - val_mean_absolute_error: 2.6827\n",
            "Epoch 68/200\n",
            " - 0s - loss: 4.9749 - mean_absolute_error: 1.4939 - val_loss: 12.3172 - val_mean_absolute_error: 2.4480\n",
            "Epoch 69/200\n",
            " - 0s - loss: 5.3187 - mean_absolute_error: 1.4702 - val_loss: 12.5485 - val_mean_absolute_error: 2.5252\n",
            "Epoch 70/200\n",
            " - 0s - loss: 5.1644 - mean_absolute_error: 1.4548 - val_loss: 13.1565 - val_mean_absolute_error: 2.6041\n",
            "Epoch 71/200\n",
            " - 0s - loss: 4.9163 - mean_absolute_error: 1.4946 - val_loss: 11.6625 - val_mean_absolute_error: 2.4045\n",
            "Epoch 72/200\n",
            " - 0s - loss: 5.0819 - mean_absolute_error: 1.4247 - val_loss: 14.4105 - val_mean_absolute_error: 2.8509\n",
            "Epoch 73/200\n",
            " - 0s - loss: 4.8915 - mean_absolute_error: 1.4495 - val_loss: 11.9308 - val_mean_absolute_error: 2.4588\n",
            "Epoch 74/200\n",
            " - 0s - loss: 5.2022 - mean_absolute_error: 1.4590 - val_loss: 13.0765 - val_mean_absolute_error: 2.5624\n",
            "Epoch 75/200\n",
            " - 0s - loss: 5.5007 - mean_absolute_error: 1.4566 - val_loss: 11.7826 - val_mean_absolute_error: 2.4068\n",
            "Epoch 76/200\n",
            " - 0s - loss: 5.1795 - mean_absolute_error: 1.4506 - val_loss: 11.6989 - val_mean_absolute_error: 2.4685\n",
            "Epoch 77/200\n",
            " - 0s - loss: 5.1738 - mean_absolute_error: 1.4659 - val_loss: 11.6356 - val_mean_absolute_error: 2.3695\n",
            "Epoch 78/200\n",
            " - 0s - loss: 5.3296 - mean_absolute_error: 1.4082 - val_loss: 12.0289 - val_mean_absolute_error: 2.4854\n",
            "Epoch 79/200\n",
            " - 0s - loss: 4.9817 - mean_absolute_error: 1.4313 - val_loss: 12.5374 - val_mean_absolute_error: 2.4785\n",
            "Epoch 80/200\n",
            " - 0s - loss: 4.6727 - mean_absolute_error: 1.3875 - val_loss: 13.2241 - val_mean_absolute_error: 2.5648\n",
            "Epoch 81/200\n",
            " - 0s - loss: 4.6436 - mean_absolute_error: 1.4219 - val_loss: 11.8814 - val_mean_absolute_error: 2.4083\n",
            "Epoch 82/200\n",
            " - 0s - loss: 4.5764 - mean_absolute_error: 1.3936 - val_loss: 11.6229 - val_mean_absolute_error: 2.3760\n",
            "Epoch 83/200\n",
            " - 0s - loss: 4.3600 - mean_absolute_error: 1.3967 - val_loss: 12.3501 - val_mean_absolute_error: 2.4252\n",
            "Epoch 84/200\n",
            " - 0s - loss: 4.4082 - mean_absolute_error: 1.4109 - val_loss: 12.8627 - val_mean_absolute_error: 2.6484\n",
            "Epoch 85/200\n",
            " - 0s - loss: 4.9099 - mean_absolute_error: 1.4218 - val_loss: 12.5166 - val_mean_absolute_error: 2.5160\n",
            "Epoch 86/200\n",
            " - 0s - loss: 4.9314 - mean_absolute_error: 1.3763 - val_loss: 11.3750 - val_mean_absolute_error: 2.4140\n",
            "Epoch 87/200\n",
            " - 0s - loss: 4.2214 - mean_absolute_error: 1.3166 - val_loss: 11.5040 - val_mean_absolute_error: 2.3909\n",
            "Epoch 88/200\n",
            " - 0s - loss: 4.5257 - mean_absolute_error: 1.3433 - val_loss: 12.3462 - val_mean_absolute_error: 2.4752\n",
            "Epoch 89/200\n",
            " - 0s - loss: 4.6809 - mean_absolute_error: 1.3745 - val_loss: 12.0687 - val_mean_absolute_error: 2.4806\n",
            "Epoch 90/200\n",
            " - 0s - loss: 4.3558 - mean_absolute_error: 1.3594 - val_loss: 12.1741 - val_mean_absolute_error: 2.4773\n",
            "Epoch 91/200\n",
            " - 0s - loss: 4.3336 - mean_absolute_error: 1.3693 - val_loss: 11.8714 - val_mean_absolute_error: 2.4536\n",
            "Epoch 92/200\n",
            " - 0s - loss: 4.3203 - mean_absolute_error: 1.3580 - val_loss: 11.8525 - val_mean_absolute_error: 2.3912\n",
            "Epoch 93/200\n",
            " - 0s - loss: 4.2010 - mean_absolute_error: 1.3160 - val_loss: 14.1807 - val_mean_absolute_error: 2.8254\n",
            "Epoch 94/200\n",
            " - 0s - loss: 4.1032 - mean_absolute_error: 1.3048 - val_loss: 12.0126 - val_mean_absolute_error: 2.4212\n",
            "Epoch 95/200\n",
            " - 0s - loss: 4.2189 - mean_absolute_error: 1.3426 - val_loss: 13.0694 - val_mean_absolute_error: 2.5377\n",
            "Epoch 96/200\n",
            " - 0s - loss: 4.1711 - mean_absolute_error: 1.3273 - val_loss: 11.9510 - val_mean_absolute_error: 2.4796\n",
            "Epoch 97/200\n",
            " - 0s - loss: 4.1983 - mean_absolute_error: 1.3355 - val_loss: 12.4759 - val_mean_absolute_error: 2.4789\n",
            "Epoch 98/200\n",
            " - 0s - loss: 4.3366 - mean_absolute_error: 1.2658 - val_loss: 12.3021 - val_mean_absolute_error: 2.4571\n",
            "Epoch 99/200\n",
            " - 0s - loss: 4.0655 - mean_absolute_error: 1.2802 - val_loss: 14.7812 - val_mean_absolute_error: 2.6947\n",
            "Epoch 100/200\n",
            " - 0s - loss: 4.0720 - mean_absolute_error: 1.3024 - val_loss: 13.6095 - val_mean_absolute_error: 2.5642\n",
            "Epoch 101/200\n",
            " - 0s - loss: 3.9419 - mean_absolute_error: 1.2782 - val_loss: 12.2992 - val_mean_absolute_error: 2.4512\n",
            "Epoch 102/200\n",
            " - 0s - loss: 4.0845 - mean_absolute_error: 1.3056 - val_loss: 12.0521 - val_mean_absolute_error: 2.4912\n",
            "Epoch 103/200\n",
            " - 0s - loss: 4.1941 - mean_absolute_error: 1.3257 - val_loss: 12.6686 - val_mean_absolute_error: 2.5052\n",
            "Epoch 104/200\n",
            " - 0s - loss: 4.0784 - mean_absolute_error: 1.2862 - val_loss: 11.9054 - val_mean_absolute_error: 2.3854\n",
            "Epoch 105/200\n",
            " - 0s - loss: 4.3539 - mean_absolute_error: 1.2759 - val_loss: 12.0972 - val_mean_absolute_error: 2.4286\n",
            "Epoch 106/200\n",
            " - 0s - loss: 4.2550 - mean_absolute_error: 1.3539 - val_loss: 12.2670 - val_mean_absolute_error: 2.4469\n",
            "Epoch 107/200\n",
            " - 0s - loss: 4.0072 - mean_absolute_error: 1.2898 - val_loss: 13.6353 - val_mean_absolute_error: 2.6817\n",
            "Epoch 108/200\n",
            " - 0s - loss: 3.7576 - mean_absolute_error: 1.2680 - val_loss: 12.7386 - val_mean_absolute_error: 2.5379\n",
            "Epoch 109/200\n",
            " - 0s - loss: 3.9902 - mean_absolute_error: 1.2854 - val_loss: 12.3641 - val_mean_absolute_error: 2.4412\n",
            "Epoch 110/200\n",
            " - 0s - loss: 3.7161 - mean_absolute_error: 1.3005 - val_loss: 12.6845 - val_mean_absolute_error: 2.5620\n",
            "Epoch 111/200\n",
            " - 0s - loss: 3.7600 - mean_absolute_error: 1.2278 - val_loss: 12.5055 - val_mean_absolute_error: 2.4260\n",
            "Epoch 112/200\n",
            " - 0s - loss: 3.7082 - mean_absolute_error: 1.2364 - val_loss: 12.4848 - val_mean_absolute_error: 2.4949\n",
            "Epoch 113/200\n",
            " - 0s - loss: 3.9480 - mean_absolute_error: 1.2467 - val_loss: 12.0249 - val_mean_absolute_error: 2.4380\n",
            "Epoch 114/200\n",
            " - 0s - loss: 3.5852 - mean_absolute_error: 1.1781 - val_loss: 14.1727 - val_mean_absolute_error: 2.6892\n",
            "Epoch 115/200\n",
            " - 0s - loss: 3.5805 - mean_absolute_error: 1.2297 - val_loss: 12.5888 - val_mean_absolute_error: 2.4984\n",
            "Epoch 116/200\n",
            " - 0s - loss: 3.7825 - mean_absolute_error: 1.2297 - val_loss: 13.0296 - val_mean_absolute_error: 2.4925\n",
            "Epoch 117/200\n",
            " - 0s - loss: 3.9038 - mean_absolute_error: 1.2418 - val_loss: 12.9568 - val_mean_absolute_error: 2.5560\n",
            "Epoch 118/200\n",
            " - 0s - loss: 3.4837 - mean_absolute_error: 1.1955 - val_loss: 11.7543 - val_mean_absolute_error: 2.3451\n",
            "Epoch 119/200\n",
            " - 0s - loss: 3.4517 - mean_absolute_error: 1.1821 - val_loss: 13.1103 - val_mean_absolute_error: 2.5881\n",
            "Epoch 120/200\n",
            " - 0s - loss: 3.8289 - mean_absolute_error: 1.2213 - val_loss: 11.7245 - val_mean_absolute_error: 2.4012\n",
            "Epoch 121/200\n",
            " - 0s - loss: 3.4080 - mean_absolute_error: 1.2072 - val_loss: 12.1907 - val_mean_absolute_error: 2.4421\n",
            "Epoch 122/200\n",
            " - 0s - loss: 3.2064 - mean_absolute_error: 1.1883 - val_loss: 12.2044 - val_mean_absolute_error: 2.5348\n",
            "Epoch 123/200\n",
            " - 0s - loss: 3.7535 - mean_absolute_error: 1.2262 - val_loss: 11.5404 - val_mean_absolute_error: 2.4014\n",
            "Epoch 124/200\n",
            " - 0s - loss: 3.3338 - mean_absolute_error: 1.1459 - val_loss: 12.3943 - val_mean_absolute_error: 2.4961\n",
            "Epoch 125/200\n",
            " - 0s - loss: 3.6669 - mean_absolute_error: 1.2450 - val_loss: 12.7744 - val_mean_absolute_error: 2.5383\n",
            "Epoch 126/200\n",
            " - 0s - loss: 3.5135 - mean_absolute_error: 1.1993 - val_loss: 11.8121 - val_mean_absolute_error: 2.3949\n",
            "Epoch 127/200\n",
            " - 0s - loss: 3.5562 - mean_absolute_error: 1.2198 - val_loss: 11.8873 - val_mean_absolute_error: 2.4119\n",
            "Epoch 128/200\n",
            " - 0s - loss: 3.4317 - mean_absolute_error: 1.1952 - val_loss: 10.9675 - val_mean_absolute_error: 2.3296\n",
            "Epoch 129/200\n",
            " - 0s - loss: 3.4154 - mean_absolute_error: 1.1915 - val_loss: 11.5901 - val_mean_absolute_error: 2.3975\n",
            "Epoch 130/200\n",
            " - 0s - loss: 3.4316 - mean_absolute_error: 1.2108 - val_loss: 13.2907 - val_mean_absolute_error: 2.5906\n",
            "Epoch 131/200\n",
            " - 0s - loss: 3.2363 - mean_absolute_error: 1.1905 - val_loss: 13.3894 - val_mean_absolute_error: 2.5861\n",
            "Epoch 132/200\n",
            " - 0s - loss: 3.3382 - mean_absolute_error: 1.2274 - val_loss: 11.3364 - val_mean_absolute_error: 2.4260\n",
            "Epoch 133/200\n",
            " - 0s - loss: 3.2621 - mean_absolute_error: 1.1321 - val_loss: 12.5522 - val_mean_absolute_error: 2.5145\n",
            "Epoch 134/200\n",
            " - 0s - loss: 3.3140 - mean_absolute_error: 1.1691 - val_loss: 11.8048 - val_mean_absolute_error: 2.5075\n",
            "Epoch 135/200\n",
            " - 0s - loss: 3.1806 - mean_absolute_error: 1.1457 - val_loss: 11.0615 - val_mean_absolute_error: 2.4332\n",
            "Epoch 136/200\n",
            " - 0s - loss: 3.3602 - mean_absolute_error: 1.1827 - val_loss: 12.7997 - val_mean_absolute_error: 2.6138\n",
            "Epoch 137/200\n",
            " - 0s - loss: 3.0766 - mean_absolute_error: 1.1411 - val_loss: 12.0649 - val_mean_absolute_error: 2.5180\n",
            "Epoch 138/200\n",
            " - 0s - loss: 3.2063 - mean_absolute_error: 1.1113 - val_loss: 14.5736 - val_mean_absolute_error: 2.7020\n",
            "Epoch 139/200\n",
            " - 0s - loss: 3.3435 - mean_absolute_error: 1.1921 - val_loss: 11.3200 - val_mean_absolute_error: 2.3800\n",
            "Epoch 140/200\n",
            " - 0s - loss: 3.4247 - mean_absolute_error: 1.1798 - val_loss: 13.1264 - val_mean_absolute_error: 2.6292\n",
            "Epoch 141/200\n",
            " - 0s - loss: 3.2320 - mean_absolute_error: 1.1489 - val_loss: 15.0252 - val_mean_absolute_error: 2.8408\n",
            "Epoch 142/200\n",
            " - 0s - loss: 3.0845 - mean_absolute_error: 1.1185 - val_loss: 12.7201 - val_mean_absolute_error: 2.5279\n",
            "Epoch 143/200\n",
            " - 0s - loss: 3.3364 - mean_absolute_error: 1.1785 - val_loss: 12.5526 - val_mean_absolute_error: 2.5107\n",
            "Epoch 144/200\n",
            " - 0s - loss: 3.4589 - mean_absolute_error: 1.2076 - val_loss: 13.5040 - val_mean_absolute_error: 2.6335\n",
            "Epoch 145/200\n",
            " - 0s - loss: 2.9966 - mean_absolute_error: 1.1558 - val_loss: 13.0941 - val_mean_absolute_error: 2.5993\n",
            "Epoch 146/200\n",
            " - 0s - loss: 2.9079 - mean_absolute_error: 1.1617 - val_loss: 12.9575 - val_mean_absolute_error: 2.5822\n",
            "Epoch 147/200\n",
            " - 0s - loss: 2.9481 - mean_absolute_error: 1.1853 - val_loss: 12.9134 - val_mean_absolute_error: 2.5874\n",
            "Epoch 148/200\n",
            " - 0s - loss: 3.1149 - mean_absolute_error: 1.1387 - val_loss: 13.3374 - val_mean_absolute_error: 2.6095\n",
            "Epoch 149/200\n",
            " - 0s - loss: 3.1321 - mean_absolute_error: 1.1571 - val_loss: 12.1732 - val_mean_absolute_error: 2.4769\n",
            "Epoch 150/200\n",
            " - 0s - loss: 3.0818 - mean_absolute_error: 1.1320 - val_loss: 12.3952 - val_mean_absolute_error: 2.5280\n",
            "Epoch 151/200\n",
            " - 0s - loss: 3.1110 - mean_absolute_error: 1.1138 - val_loss: 13.2383 - val_mean_absolute_error: 2.5830\n",
            "Epoch 152/200\n",
            " - 0s - loss: 2.7346 - mean_absolute_error: 1.0809 - val_loss: 12.5703 - val_mean_absolute_error: 2.5261\n",
            "Epoch 153/200\n",
            " - 0s - loss: 2.8823 - mean_absolute_error: 1.0924 - val_loss: 11.5448 - val_mean_absolute_error: 2.4078\n",
            "Epoch 154/200\n",
            " - 0s - loss: 3.0216 - mean_absolute_error: 1.1657 - val_loss: 12.4933 - val_mean_absolute_error: 2.5237\n",
            "Epoch 155/200\n",
            " - 0s - loss: 3.0054 - mean_absolute_error: 1.1197 - val_loss: 12.8049 - val_mean_absolute_error: 2.5805\n",
            "Epoch 156/200\n",
            " - 0s - loss: 3.0295 - mean_absolute_error: 1.0924 - val_loss: 12.3936 - val_mean_absolute_error: 2.6162\n",
            "Epoch 157/200\n",
            " - 0s - loss: 2.8608 - mean_absolute_error: 1.1630 - val_loss: 11.7125 - val_mean_absolute_error: 2.5219\n",
            "Epoch 158/200\n",
            " - 0s - loss: 2.7969 - mean_absolute_error: 1.1227 - val_loss: 12.4477 - val_mean_absolute_error: 2.4965\n",
            "Epoch 159/200\n",
            " - 0s - loss: 2.6901 - mean_absolute_error: 1.1177 - val_loss: 12.0821 - val_mean_absolute_error: 2.4911\n",
            "Epoch 160/200\n",
            " - 0s - loss: 3.0643 - mean_absolute_error: 1.1174 - val_loss: 11.9886 - val_mean_absolute_error: 2.4815\n",
            "Epoch 161/200\n",
            " - 0s - loss: 2.7857 - mean_absolute_error: 1.0460 - val_loss: 12.0109 - val_mean_absolute_error: 2.4608\n",
            "Epoch 162/200\n",
            " - 0s - loss: 2.8764 - mean_absolute_error: 1.1620 - val_loss: 12.1359 - val_mean_absolute_error: 2.5094\n",
            "Epoch 163/200\n",
            " - 0s - loss: 2.8565 - mean_absolute_error: 1.0608 - val_loss: 13.9248 - val_mean_absolute_error: 2.7693\n",
            "Epoch 164/200\n",
            " - 0s - loss: 2.7792 - mean_absolute_error: 1.1195 - val_loss: 12.4697 - val_mean_absolute_error: 2.5965\n",
            "Epoch 165/200\n",
            " - 0s - loss: 3.0898 - mean_absolute_error: 1.0869 - val_loss: 11.3649 - val_mean_absolute_error: 2.3715\n",
            "Epoch 166/200\n",
            " - 0s - loss: 2.7366 - mean_absolute_error: 1.1020 - val_loss: 13.6630 - val_mean_absolute_error: 2.7121\n",
            "Epoch 167/200\n",
            " - 0s - loss: 2.9503 - mean_absolute_error: 1.1374 - val_loss: 12.8010 - val_mean_absolute_error: 2.4963\n",
            "Epoch 168/200\n",
            " - 0s - loss: 2.6888 - mean_absolute_error: 1.1087 - val_loss: 11.5481 - val_mean_absolute_error: 2.4223\n",
            "Epoch 169/200\n",
            " - 0s - loss: 2.5858 - mean_absolute_error: 1.0638 - val_loss: 12.9943 - val_mean_absolute_error: 2.5857\n",
            "Epoch 170/200\n",
            " - 0s - loss: 2.6671 - mean_absolute_error: 1.0989 - val_loss: 12.1910 - val_mean_absolute_error: 2.4512\n",
            "Epoch 171/200\n",
            " - 0s - loss: 2.7495 - mean_absolute_error: 1.0713 - val_loss: 12.6200 - val_mean_absolute_error: 2.4875\n",
            "Epoch 172/200\n",
            " - 0s - loss: 2.4076 - mean_absolute_error: 1.0315 - val_loss: 14.0588 - val_mean_absolute_error: 2.7326\n",
            "Epoch 173/200\n",
            " - 0s - loss: 2.6285 - mean_absolute_error: 1.0827 - val_loss: 12.4077 - val_mean_absolute_error: 2.5185\n",
            "Epoch 174/200\n",
            " - 0s - loss: 2.6195 - mean_absolute_error: 1.0653 - val_loss: 13.1726 - val_mean_absolute_error: 2.6177\n",
            "Epoch 175/200\n",
            " - 0s - loss: 2.6369 - mean_absolute_error: 1.1177 - val_loss: 12.6537 - val_mean_absolute_error: 2.5497\n",
            "Epoch 176/200\n",
            " - 0s - loss: 2.3478 - mean_absolute_error: 1.0531 - val_loss: 12.3550 - val_mean_absolute_error: 2.4880\n",
            "Epoch 177/200\n",
            " - 0s - loss: 2.3694 - mean_absolute_error: 1.0606 - val_loss: 12.2596 - val_mean_absolute_error: 2.4722\n",
            "Epoch 178/200\n",
            " - 0s - loss: 2.3577 - mean_absolute_error: 1.0189 - val_loss: 13.6651 - val_mean_absolute_error: 2.6488\n",
            "Epoch 179/200\n",
            " - 0s - loss: 2.5296 - mean_absolute_error: 1.0666 - val_loss: 13.6628 - val_mean_absolute_error: 2.6493\n",
            "Epoch 180/200\n",
            " - 0s - loss: 2.5914 - mean_absolute_error: 1.0755 - val_loss: 12.1285 - val_mean_absolute_error: 2.4810\n",
            "Epoch 181/200\n",
            " - 0s - loss: 2.6552 - mean_absolute_error: 1.0627 - val_loss: 11.5489 - val_mean_absolute_error: 2.4368\n",
            "Epoch 182/200\n",
            " - 0s - loss: 2.4603 - mean_absolute_error: 1.0183 - val_loss: 13.3668 - val_mean_absolute_error: 2.6266\n",
            "Epoch 183/200\n",
            " - 0s - loss: 2.5241 - mean_absolute_error: 1.0437 - val_loss: 13.6197 - val_mean_absolute_error: 2.6649\n",
            "Epoch 184/200\n",
            " - 0s - loss: 2.4791 - mean_absolute_error: 1.0199 - val_loss: 12.7613 - val_mean_absolute_error: 2.5845\n",
            "Epoch 185/200\n",
            " - 0s - loss: 2.5063 - mean_absolute_error: 1.0480 - val_loss: 16.1743 - val_mean_absolute_error: 3.0010\n",
            "Epoch 186/200\n",
            " - 0s - loss: 2.4617 - mean_absolute_error: 1.0264 - val_loss: 13.7006 - val_mean_absolute_error: 2.7957\n",
            "Epoch 187/200\n",
            " - 0s - loss: 2.2950 - mean_absolute_error: 0.9985 - val_loss: 12.1857 - val_mean_absolute_error: 2.4345\n",
            "Epoch 188/200\n",
            " - 0s - loss: 2.7896 - mean_absolute_error: 1.0761 - val_loss: 12.5447 - val_mean_absolute_error: 2.5220\n",
            "Epoch 189/200\n",
            " - 0s - loss: 2.4422 - mean_absolute_error: 1.0701 - val_loss: 15.1637 - val_mean_absolute_error: 2.8342\n",
            "Epoch 190/200\n",
            " - 0s - loss: 2.4270 - mean_absolute_error: 1.0584 - val_loss: 11.7992 - val_mean_absolute_error: 2.4966\n",
            "Epoch 191/200\n",
            " - 0s - loss: 2.2298 - mean_absolute_error: 0.9955 - val_loss: 11.8689 - val_mean_absolute_error: 2.4643\n",
            "Epoch 192/200\n",
            " - 0s - loss: 2.3809 - mean_absolute_error: 1.0671 - val_loss: 12.4450 - val_mean_absolute_error: 2.5014\n",
            "Epoch 193/200\n",
            " - 0s - loss: 2.2435 - mean_absolute_error: 1.0131 - val_loss: 14.0914 - val_mean_absolute_error: 2.7446\n",
            "Epoch 194/200\n",
            " - 0s - loss: 2.1939 - mean_absolute_error: 0.9704 - val_loss: 12.1410 - val_mean_absolute_error: 2.5370\n",
            "Epoch 195/200\n",
            " - 0s - loss: 2.4469 - mean_absolute_error: 1.0134 - val_loss: 12.4032 - val_mean_absolute_error: 2.5340\n",
            "Epoch 196/200\n",
            " - 0s - loss: 2.3422 - mean_absolute_error: 0.9953 - val_loss: 12.5009 - val_mean_absolute_error: 2.5721\n",
            "Epoch 197/200\n",
            " - 0s - loss: 2.4480 - mean_absolute_error: 1.0369 - val_loss: 11.7412 - val_mean_absolute_error: 2.3887\n",
            "Epoch 198/200\n",
            " - 0s - loss: 2.2580 - mean_absolute_error: 0.9874 - val_loss: 13.1998 - val_mean_absolute_error: 2.5875\n",
            "Epoch 199/200\n",
            " - 0s - loss: 2.2303 - mean_absolute_error: 0.9924 - val_loss: 12.2205 - val_mean_absolute_error: 2.5273\n",
            "Epoch 200/200\n",
            " - 0s - loss: 2.1618 - mean_absolute_error: 0.9845 - val_loss: 12.0710 - val_mean_absolute_error: 2.4334\n"
          ],
          "name": "stdout"
        }
      ]
    },
    {
      "cell_type": "code",
      "metadata": {
        "colab_type": "code",
        "id": "g1EJEG6a9Ew-",
        "outputId": "ade50864-079b-4651-d237-882a0b5e01f0",
        "colab": {
          "base_uri": "https://localhost:8080/",
          "height": 501
        }
      },
      "source": [
        "# summarize history for loss\n",
        "plt.plot(history.history['val_loss'])\n",
        "plt.plot(history.history['loss'])\n",
        "plt.title('Model loss')\n",
        "plt.ylabel('loss')\n",
        "plt.xlabel('epoch')\n",
        "plt.legend(['Train', 'Test'], loc='upper left')\n",
        "plt.show()"
      ],
      "execution_count": 39,
      "outputs": [
        {
          "output_type": "display_data",
          "data": {
            "image/png": "[encoded data removed]",
            "text/plain": [
              "<Figure size 750x500 with 1 Axes>"
            ]
          },
          "metadata": {
            "tags": []
          }
        }
      ]
    },
    {
      "cell_type": "markdown",
      "metadata": {
        "id": "3LAQTQuylrk4",
        "colab_type": "text"
      },
      "source": [
        "The model performed best on training data when compared to the test data. The loss is less on the training data when compared to the loss on test data. However, both the training and test loss are minimal. The model is expected to perform better than rest of the models."
      ]
    },
    {
      "cell_type": "markdown",
      "metadata": {
        "colab_type": "text",
        "id": "ARqVvyMX9ExF"
      },
      "source": [
        "#### Takeaways\n",
        "* Regression is usually done using MSE loss and MAE for evaluation\n",
        "* Input data should always be scaled (independent from the test set)\n",
        "* Small datasets:\n",
        "    - Use cross-validation\n",
        "    - Use simple (non-deep) networks\n",
        "    - Smaller batches, more epochs"
      ]
    }
  ]
}