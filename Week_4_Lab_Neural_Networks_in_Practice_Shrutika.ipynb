{
  "nbformat": 4,
  "nbformat_minor": 0,
  "metadata": {
    "anaconda-cloud": {},
    "colab": {
      "name": "Week_4_Lab_Neural_Networks_in_Practice_Shrutika.ipynb",
      "provenance": [],
      "collapsed_sections": [],
      "include_colab_link": true
    },
    "kernelspec": {
      "display_name": "Python 3",
      "language": "python",
      "name": "python3"
    },
    "language_info": {
      "codemirror_mode": {
        "name": "ipython",
        "version": 3
      },
      "file_extension": ".py",
      "mimetype": "text/x-python",
      "name": "python",
      "nbconvert_exporter": "python",
      "pygments_lexer": "ipython3",
      "version": "3.7.0"
    }
  },
  "cells": [
    {
      "cell_type": "markdown",
      "metadata": {
        "id": "view-in-github",
        "colab_type": "text"
      },
      "source": [
        "<a href=\"https://colab.research.google.com/github/shrutikamokashi/EAI_Assignments/blob/master/Week_4_Lab_Neural_Networks_in_Practice_Shrutika.ipynb\" target=\"_parent\"><img src=\"https://colab.research.google.com/assets/colab-badge.svg\" alt=\"Open In Colab\"/></a>"
      ]
    },
    {
      "cell_type": "markdown",
      "metadata": {
        "colab_type": "text",
        "id": "jE7Q3E9i9Evd"
      },
      "source": [
        "# Week 4 Lab: Neural Networks in practice"
      ]
    },
    {
      "cell_type": "code",
      "metadata": {
        "colab_type": "code",
        "hide_input": false,
        "id": "gWDjQyV59Evg",
        "outputId": "5d80483a-92ce-40d3-f71d-9665034e6735",
        "colab": {
          "base_uri": "https://localhost:8080/",
          "height": 99
        }
      },
      "source": [
        "# Global imports and settings\n",
        "\n",
        "from IPython.display import set_matplotlib_formats, display\n",
        "import pandas as pd\n",
        "import numpy as np\n",
        "import matplotlib.pyplot as plt\n",
        "from cycler import cycler\n",
        "import keras\n",
        "print(\"Using Keras\",keras.__version__)\n",
        "%matplotlib inline\n",
        "plt.rcParams['figure.dpi'] = 125 # Use 300 for PDF, 100 for slides\n"
      ],
      "execution_count": 1,
      "outputs": [
        {
          "output_type": "stream",
          "text": [
            "Using TensorFlow backend.\n"
          ],
          "name": "stderr"
        },
        {
          "output_type": "display_data",
          "data": {
            "text/html": [
              "<p style=\"color: red;\">\n",
              "The default version of TensorFlow in Colab will soon switch to TensorFlow 2.x.<br>\n",
              "We recommend you <a href=\"https://www.tensorflow.org/guide/migrate\" target=\"_blank\">upgrade</a> now \n",
              "or ensure your notebook will continue to use TensorFlow 1.x via the <code>%tensorflow_version 1.x</code> magic:\n",
              "<a href=\"https://colab.research.google.com/notebooks/tensorflow_version.ipynb\" target=\"_blank\">more info</a>.</p>\n"
            ],
            "text/plain": [
              "<IPython.core.display.HTML object>"
            ]
          },
          "metadata": {
            "tags": []
          }
        },
        {
          "output_type": "stream",
          "text": [
            "Using Keras 2.2.5\n"
          ],
          "name": "stdout"
        }
      ]
    },
    {
      "cell_type": "markdown",
      "metadata": {
        "cell_style": "center",
        "colab_type": "text",
        "id": "QJdIHypq9Evk"
      },
      "source": [
        "### Overview\n",
        "* Solving basic classification and regression problems\n",
        "* Handling textual data\n",
        "* Model selection (and overfitting)"
      ]
    },
    {
      "cell_type": "markdown",
      "metadata": {
        "colab_type": "text",
        "id": "njT6MasM9Evl"
      },
      "source": [
        "## Solving basic problems\n",
        "* Binary classification (of movie reviews)\n",
        "* Multiclass classification (of news topics)\n",
        "* Regression (of house prices)\n",
        "\n",
        "Examples from _Deep Learning with Python_, by _François Chollet_"
      ]
    },
    {
      "cell_type": "markdown",
      "metadata": {
        "colab_type": "text",
        "id": "xsUfzIi59Evn"
      },
      "source": [
        "### Binary classification\n",
        "* Dataset: 50,000 IMDB reviews, labeled positive (1) or negative (0)\n",
        "    - Included in Keras, with a 50/50 train-test split\n",
        "* Each row is one review, with only the 10,000 most frequent words retained\n",
        "* Each word is replaced by a _word index_ (word ID)"
      ]
    },
    {
      "cell_type": "code",
      "metadata": {
        "colab_type": "code",
        "hide_input": true,
        "id": "Mk42XDWZ9Evn",
        "outputId": "bf462e79-3464-432f-d2fb-9e98570b809b",
        "colab": {
          "base_uri": "https://localhost:8080/",
          "height": 52
        }
      },
      "source": [
        "from keras.datasets import imdb\n",
        "# Download IMDB data with 10000 most frequent words\n",
        "(train_data, train_labels), (test_data, test_labels) = imdb.load_data(num_words=10000)\n",
        "print(\"Encoded review: \", train_data[0][0:10])\n",
        "\n",
        "word_index = imdb.get_word_index()\n",
        "reverse_word_index = dict([(value, key) for (key, value) in word_index.items()])\n",
        "print(\"Original review: \", ' '.join([reverse_word_index.get(i - 3, '?') for i in train_data[0]][0:10]))"
      ],
      "execution_count": 2,
      "outputs": [
        {
          "output_type": "stream",
          "text": [
            "Encoded review:  [1, 14, 22, 16, 43, 530, 973, 1622, 1385, 65]\n",
            "Original review:  ? this film was just brilliant casting location scenery story\n"
          ],
          "name": "stdout"
        }
      ]
    },
    {
      "cell_type": "code",
      "metadata": {
        "id": "48AO_SCr2AiE",
        "colab_type": "code",
        "colab": {}
      },
      "source": [
        "def decode_review(a):\n",
        "  word_index = imdb.get_word_index()\n",
        "  reverse_word_index = dict([(value, key) for (key, value) in word_index.items()])\n",
        "  print(' '.join([reverse_word_index.get(i-3, '') for i in a]))"
      ],
      "execution_count": 0,
      "outputs": []
    },
    {
      "cell_type": "markdown",
      "metadata": {
        "colab_type": "text",
        "id": "gbHSVzma9Evq"
      },
      "source": [
        "#### Preprocessing\n",
        "* We can't input lists of categorical value to a neural net, we need to create tensors\n",
        "* One-hot-encoding:\n",
        "    -  10000 features, '1.0' if the word occurs\n",
        "* Word embeddings (word2vec):\n",
        "    - Map each word to a dense vector that represents it (it's _embedding_)\n",
        "    - _Embedding_ layer: pre-trained layer that looks up the embedding in a dictionary \n",
        "    - Converts 2D tensor of word indices (zero-padded) to 3D tensor of embeddings\n",
        "* Let's do One-Hot-Encoding for now. We'll come back to _Embedding_ layers.\n",
        "* Also vectorize the labels: from 0/1 to float\n",
        "    - Binary classification works with one output node"
      ]
    },
    {
      "cell_type": "code",
      "metadata": {
        "colab_type": "code",
        "hide_input": true,
        "id": "nSzfO-XG9Evs",
        "colab": {}
      },
      "source": [
        "# Custom implementation of one-hot-encoding\n",
        "def vectorize_sequences(sequences, dimension=10000):\n",
        "    results = np.zeros((len(sequences), dimension))\n",
        "    for i, sequence in enumerate(sequences):\n",
        "        results[i, sequence] = 1.  # set specific indices of results[i] to 1s\n",
        "    return results\n",
        "x_train = vectorize_sequences(train_data)\n",
        "x_test = vectorize_sequences(test_data)\n",
        "y_train = np.asarray(train_labels).astype('float32')\n",
        "y_test = np.asarray(test_labels).astype('float32')"
      ],
      "execution_count": 0,
      "outputs": []
    },
    {
      "cell_type": "code",
      "metadata": {
        "id": "keLdFyAnpi5G",
        "colab_type": "code",
        "colab": {
          "base_uri": "https://localhost:8080/",
          "height": 55
        },
        "outputId": "df46a5b6-2af0-4c8b-b191-6e8677fd7804"
      },
      "source": [
        "decode_review(train_data[1])"
      ],
      "execution_count": 5,
      "outputs": [
        {
          "output_type": "stream",
          "text": [
            " big hair big boobs bad music and a giant safety pin these are the words to best describe this terrible movie i love cheesy horror movies and i've seen hundreds but this had got to be on of the worst ever made the plot is paper thin and ridiculous the acting is an abomination the script is completely laughable the best is the end showdown with the cop and how he worked out who the killer is it's just so damn terribly written the clothes are sickening and funny in equal  the hair is big lots of boobs  men wear those cut  shirts that show off their  sickening that men actually wore them and the music is just  trash that plays over and over again in almost every scene there is trashy music boobs and  taking away bodies and the gym still doesn't close for  all joking aside this is a truly bad film whose only charm is to look back on the disaster that was the 80's and have a good old laugh at how bad everything was back then\n"
          ],
          "name": "stdout"
        }
      ]
    },
    {
      "cell_type": "code",
      "metadata": {
        "id": "wJcWOjbdq8-E",
        "colab_type": "code",
        "colab": {
          "base_uri": "https://localhost:8080/",
          "height": 35
        },
        "outputId": "352b88f0-0ade-41bb-9ee6-dc1ded28c4c2"
      },
      "source": [
        "len(train_data[1])"
      ],
      "execution_count": 6,
      "outputs": [
        {
          "output_type": "execute_result",
          "data": {
            "text/plain": [
              "189"
            ]
          },
          "metadata": {
            "tags": []
          },
          "execution_count": 6
        }
      ]
    },
    {
      "cell_type": "markdown",
      "metadata": {
        "colab_type": "text",
        "id": "4_JHofjQRme1"
      },
      "source": [
        "#### Understanding the format of IMDB dataset\n",
        "1. Train_data and test_data are an array of lists. What does the length of this array correspond to? What does the length of each list correspond to?\n",
        "2. What are the sizes of the vectorized x_train and x_test? What do the dimensions correspond to?\n",
        "3. What is the most common word in the first review in the training data? Hint: use the word index (see above)? \n",
        "4. Print the first review to verify. "
      ]
    },
    {
      "cell_type": "code",
      "metadata": {
        "colab_type": "code",
        "id": "ceBrbGWxRLJK",
        "outputId": "a18e11f4-c254-4d3a-fcca-3b3f0e50a509",
        "colab": {
          "base_uri": "https://localhost:8080/",
          "height": 52
        }
      },
      "source": [
        "## 1. Train_data and test_data are an array of lists. What does the length of this array correspond to? What does the length of each list correspond to?\n",
        "print(\"Length of train_data: \"+str(len(train_data)))\n",
        "print(\"Length of test_data: \"+str(len(test_data)))\n"
      ],
      "execution_count": 7,
      "outputs": [
        {
          "output_type": "stream",
          "text": [
            "Length of train_data: 25000\n",
            "Length of test_data: 25000\n"
          ],
          "name": "stdout"
        }
      ]
    },
    {
      "cell_type": "markdown",
      "metadata": {
        "id": "m3trXzHipRMQ",
        "colab_type": "text"
      },
      "source": [
        "Length of this array corresponds to 25000 movie reviews.\n",
        "Length of each list correspond to the number of words present in the review."
      ]
    },
    {
      "cell_type": "code",
      "metadata": {
        "id": "AI2Qv4MXcHYu",
        "colab_type": "code",
        "outputId": "f5a413bd-7c85-4b3c-8b36-91a8a40869bc",
        "colab": {
          "base_uri": "https://localhost:8080/",
          "height": 52
        }
      },
      "source": [
        "## 2. What are the sizes of the vectorized x_train and x_test? What do the dimensions correspond to?\n",
        "print(x_train.shape)\n",
        "print(x_test.shape)"
      ],
      "execution_count": 8,
      "outputs": [
        {
          "output_type": "stream",
          "text": [
            "(25000, 10000)\n",
            "(25000, 10000)\n"
          ],
          "name": "stdout"
        }
      ]
    },
    {
      "cell_type": "markdown",
      "metadata": {
        "id": "6er5h3xerVFZ",
        "colab_type": "text"
      },
      "source": [
        "25000 reviews with max 10000 words in each review"
      ]
    },
    {
      "cell_type": "code",
      "metadata": {
        "id": "0yDLD3osqeV3",
        "colab_type": "code",
        "outputId": "7721b97f-d622-4561-980c-59bcda44fc9d",
        "colab": {
          "base_uri": "https://localhost:8080/",
          "height": 52
        }
      },
      "source": [
        "## 3. What is the most common word in the first review in the training data? Hint: use the word index (see above)? \n",
        "def most_frequent(List): \n",
        "    counter = 0\n",
        "    num = List[0] \n",
        "      \n",
        "    for i in List: \n",
        "        curr_frequency = List.count(i) \n",
        "        if(curr_frequency> counter): \n",
        "            counter = curr_frequency \n",
        "            num = i \n",
        "  \n",
        "    return num \n",
        "print(most_frequent(train_data[0])) \n",
        "word_index = imdb.get_word_index()\n",
        "reverse_word_index = dict([(value, key) for (key, value) in word_index.items()])\n",
        "print(\"Original word: \", ''.join([reverse_word_index.get(i - 3, '') for i in train_data[0]][most_frequent(train_data[0])]))"
      ],
      "execution_count": 9,
      "outputs": [
        {
          "output_type": "stream",
          "text": [
            "4\n",
            "Original word:  just\n"
          ],
          "name": "stdout"
        }
      ]
    },
    {
      "cell_type": "code",
      "metadata": {
        "id": "NuQchrc5qgtb",
        "colab_type": "code",
        "outputId": "4e106036-030b-4b0c-ccb5-f6556cd948d8",
        "colab": {
          "base_uri": "https://localhost:8080/",
          "height": 55
        }
      },
      "source": [
        "## 4. Print the first review to verify. \n",
        "decode_review(train_data[0])"
      ],
      "execution_count": 10,
      "outputs": [
        {
          "output_type": "stream",
          "text": [
            " this film was just brilliant casting location scenery story direction everyone's really suited the part they played and you could just imagine being there robert  is an amazing actor and now the same being director  father came from the same scottish island as myself so i loved the fact there was a real connection with this film the witty remarks throughout the film were great it was just brilliant so much that i bought the film as soon as it was released for  and would recommend it to everyone to watch and the fly fishing was amazing really cried at the end it was so sad and you know what they say if you cry at a film it must have been good and this definitely was also  to the two little boy's that played the  of norman and paul they were just brilliant children are often left out of the  list i think because the stars that play them all grown up are such a big profile for the whole film but these children are amazing and should be praised for what they have done don't you think the whole story was so lovely because it was true and was someone's life after all that was shared with us all\n"
          ],
          "name": "stdout"
        }
      ]
    },
    {
      "cell_type": "markdown",
      "metadata": {
        "colab_type": "text",
        "id": "GVar7SNn9Evu"
      },
      "source": [
        "#### Building the network\n",
        "* We can solve this problem using a network of _Dense_ layers and the _ReLU_ activation function.\n",
        "* How many layers? How many hidden units for layer?\n",
        "    - Start with 2 layers of 16 hidden units each\n",
        "    - We'll optimize this soon\n",
        "* Output layer: single unit with _sigmoid_ activation function\n",
        "    - Close to 1: positive review, close to 0: negative review\n",
        "* Use binary_crossentropy loss"
      ]
    },
    {
      "cell_type": "code",
      "metadata": {
        "colab_type": "code",
        "id": "wglvzu9E9Evx",
        "outputId": "01799dd7-f7c0-418b-8d12-2ac10c6c7a5b",
        "colab": {
          "base_uri": "https://localhost:8080/",
          "height": 263
        }
      },
      "source": [
        "from keras import models\n",
        "from keras import layers \n",
        "\n",
        "model = models.Sequential()\n",
        "model.add(layers.Dense(16, activation='relu', input_shape=(10000,)))\n",
        "model.add(layers.Dense(16, activation='relu'))\n",
        "model.add(layers.Dense(1, activation='sigmoid'))\n",
        "\n",
        "model.compile(optimizer='rmsprop',\n",
        "              loss='binary_crossentropy',\n",
        "              metrics=['accuracy'])"
      ],
      "execution_count": 11,
      "outputs": [
        {
          "output_type": "stream",
          "text": [
            "WARNING:tensorflow:From /usr/local/lib/python3.6/dist-packages/keras/backend/tensorflow_backend.py:66: The name tf.get_default_graph is deprecated. Please use tf.compat.v1.get_default_graph instead.\n",
            "\n",
            "WARNING:tensorflow:From /usr/local/lib/python3.6/dist-packages/keras/backend/tensorflow_backend.py:541: The name tf.placeholder is deprecated. Please use tf.compat.v1.placeholder instead.\n",
            "\n",
            "WARNING:tensorflow:From /usr/local/lib/python3.6/dist-packages/keras/backend/tensorflow_backend.py:4432: The name tf.random_uniform is deprecated. Please use tf.random.uniform instead.\n",
            "\n",
            "WARNING:tensorflow:From /usr/local/lib/python3.6/dist-packages/keras/optimizers.py:793: The name tf.train.Optimizer is deprecated. Please use tf.compat.v1.train.Optimizer instead.\n",
            "\n",
            "WARNING:tensorflow:From /usr/local/lib/python3.6/dist-packages/keras/backend/tensorflow_backend.py:3657: The name tf.log is deprecated. Please use tf.math.log instead.\n",
            "\n",
            "WARNING:tensorflow:From /usr/local/lib/python3.6/dist-packages/tensorflow_core/python/ops/nn_impl.py:183: where (from tensorflow.python.ops.array_ops) is deprecated and will be removed in a future version.\n",
            "Instructions for updating:\n",
            "Use tf.where in 2.0, which has the same broadcast rule as np.where\n"
          ],
          "name": "stdout"
        }
      ]
    },
    {
      "cell_type": "markdown",
      "metadata": {
        "colab_type": "text",
        "id": "0S_Fnh169Ev0"
      },
      "source": [
        "#### Model selection\n",
        "* How many epochs do we need for training?\n",
        "* Take a validation set of 10,000 samples from the training set\n",
        "* Train the neural net and track the loss after every iteration on the validation set\n",
        "    - This is returned as a `History` object by the `fit()` function \n",
        "* We start with 20 epochs in minibatches of 512 samples\n"
      ]
    },
    {
      "cell_type": "code",
      "metadata": {
        "colab_type": "code",
        "id": "b3aTf8rL9Ev0",
        "outputId": "b45e7837-618f-45a9-df48-f76d2faa321d",
        "colab": {
          "base_uri": "https://localhost:8080/",
          "height": 1000
        }
      },
      "source": [
        "x_val, partial_x_train = x_train[:10000], x_train[10000:]\n",
        "y_val, partial_y_train = y_train[:10000], y_train[10000:] \n",
        "history = model.fit(partial_x_train, partial_y_train,\n",
        "                    epochs=20, batch_size=512, verbose=2,\n",
        "                    validation_data=(x_val, y_val))"
      ],
      "execution_count": 12,
      "outputs": [
        {
          "output_type": "stream",
          "text": [
            "WARNING:tensorflow:From /usr/local/lib/python3.6/dist-packages/keras/backend/tensorflow_backend.py:1033: The name tf.assign_add is deprecated. Please use tf.compat.v1.assign_add instead.\n",
            "\n",
            "WARNING:tensorflow:From /usr/local/lib/python3.6/dist-packages/keras/backend/tensorflow_backend.py:1020: The name tf.assign is deprecated. Please use tf.compat.v1.assign instead.\n",
            "\n",
            "WARNING:tensorflow:From /usr/local/lib/python3.6/dist-packages/keras/backend/tensorflow_backend.py:3005: The name tf.Session is deprecated. Please use tf.compat.v1.Session instead.\n",
            "\n",
            "Train on 15000 samples, validate on 10000 samples\n",
            "Epoch 1/20\n",
            "WARNING:tensorflow:From /usr/local/lib/python3.6/dist-packages/keras/backend/tensorflow_backend.py:190: The name tf.get_default_session is deprecated. Please use tf.compat.v1.get_default_session instead.\n",
            "\n",
            "WARNING:tensorflow:From /usr/local/lib/python3.6/dist-packages/keras/backend/tensorflow_backend.py:197: The name tf.ConfigProto is deprecated. Please use tf.compat.v1.ConfigProto instead.\n",
            "\n",
            "WARNING:tensorflow:From /usr/local/lib/python3.6/dist-packages/keras/backend/tensorflow_backend.py:207: The name tf.global_variables is deprecated. Please use tf.compat.v1.global_variables instead.\n",
            "\n",
            "WARNING:tensorflow:From /usr/local/lib/python3.6/dist-packages/keras/backend/tensorflow_backend.py:216: The name tf.is_variable_initialized is deprecated. Please use tf.compat.v1.is_variable_initialized instead.\n",
            "\n",
            "WARNING:tensorflow:From /usr/local/lib/python3.6/dist-packages/keras/backend/tensorflow_backend.py:223: The name tf.variables_initializer is deprecated. Please use tf.compat.v1.variables_initializer instead.\n",
            "\n",
            " - 2s - loss: 0.5411 - acc: 0.7692 - val_loss: 0.4169 - val_acc: 0.8714\n",
            "Epoch 2/20\n",
            " - 1s - loss: 0.3341 - acc: 0.9009 - val_loss: 0.3212 - val_acc: 0.8884\n",
            "Epoch 3/20\n",
            " - 1s - loss: 0.2375 - acc: 0.9274 - val_loss: 0.3112 - val_acc: 0.8783\n",
            "Epoch 4/20\n",
            " - 1s - loss: 0.1850 - acc: 0.9417 - val_loss: 0.2890 - val_acc: 0.8849\n",
            "Epoch 5/20\n",
            " - 1s - loss: 0.1500 - acc: 0.9532 - val_loss: 0.2971 - val_acc: 0.8835\n",
            "Epoch 6/20\n",
            " - 1s - loss: 0.1241 - acc: 0.9641 - val_loss: 0.2986 - val_acc: 0.8837\n",
            "Epoch 7/20\n",
            " - 1s - loss: 0.1026 - acc: 0.9703 - val_loss: 0.3046 - val_acc: 0.8848\n",
            "Epoch 8/20\n",
            " - 1s - loss: 0.0874 - acc: 0.9754 - val_loss: 0.3421 - val_acc: 0.8764\n",
            "Epoch 9/20\n",
            " - 1s - loss: 0.0705 - acc: 0.9821 - val_loss: 0.3649 - val_acc: 0.8763\n",
            "Epoch 10/20\n",
            " - 1s - loss: 0.0617 - acc: 0.9841 - val_loss: 0.3642 - val_acc: 0.8777\n",
            "Epoch 11/20\n",
            " - 1s - loss: 0.0490 - acc: 0.9882 - val_loss: 0.3868 - val_acc: 0.8760\n",
            "Epoch 12/20\n",
            " - 1s - loss: 0.0389 - acc: 0.9922 - val_loss: 0.4213 - val_acc: 0.8754\n",
            "Epoch 13/20\n",
            " - 1s - loss: 0.0345 - acc: 0.9936 - val_loss: 0.4385 - val_acc: 0.8735\n",
            "Epoch 14/20\n",
            " - 1s - loss: 0.0249 - acc: 0.9959 - val_loss: 0.4937 - val_acc: 0.8680\n",
            "Epoch 15/20\n",
            " - 1s - loss: 0.0223 - acc: 0.9963 - val_loss: 0.5012 - val_acc: 0.8709\n",
            "Epoch 16/20\n",
            " - 1s - loss: 0.0159 - acc: 0.9979 - val_loss: 0.5294 - val_acc: 0.8712\n",
            "Epoch 17/20\n",
            " - 1s - loss: 0.0147 - acc: 0.9984 - val_loss: 0.5582 - val_acc: 0.8685\n",
            "Epoch 18/20\n",
            " - 1s - loss: 0.0114 - acc: 0.9986 - val_loss: 0.5914 - val_acc: 0.8668\n",
            "Epoch 19/20\n",
            " - 1s - loss: 0.0096 - acc: 0.9987 - val_loss: 0.6181 - val_acc: 0.8674\n",
            "Epoch 20/20\n",
            " - 1s - loss: 0.0050 - acc: 0.9998 - val_loss: 0.6653 - val_acc: 0.8633\n"
          ],
          "name": "stdout"
        }
      ]
    },
    {
      "cell_type": "markdown",
      "metadata": {
        "colab_type": "text",
        "id": "PrxYLkMX9Ev3"
      },
      "source": [
        "#### Evaluate model performance during training\n",
        "1. Plot the training and validation loss as a function of training epoch. Describe what happens during the training in terms of under or overfitting.\n",
        "2. Plot the training and validation accuracy as a function of the training epoch.\n",
        "\n",
        "Hint: these quantities are contained in the dict history.history."
      ]
    },
    {
      "cell_type": "code",
      "metadata": {
        "colab_type": "code",
        "hide_input": true,
        "id": "4YH3yVZy9Ev4",
        "outputId": "9da136ac-0490-462f-8819-596f32f24f09",
        "colab": {
          "base_uri": "https://localhost:8080/",
          "height": 260
        }
      },
      "source": [
        "model.summary()"
      ],
      "execution_count": 13,
      "outputs": [
        {
          "output_type": "stream",
          "text": [
            "Model: \"sequential_1\"\n",
            "_________________________________________________________________\n",
            "Layer (type)                 Output Shape              Param #   \n",
            "=================================================================\n",
            "dense_1 (Dense)              (None, 16)                160016    \n",
            "_________________________________________________________________\n",
            "dense_2 (Dense)              (None, 16)                272       \n",
            "_________________________________________________________________\n",
            "dense_3 (Dense)              (None, 1)                 17        \n",
            "=================================================================\n",
            "Total params: 160,305\n",
            "Trainable params: 160,305\n",
            "Non-trainable params: 0\n",
            "_________________________________________________________________\n"
          ],
          "name": "stdout"
        }
      ]
    },
    {
      "cell_type": "code",
      "metadata": {
        "id": "rQux3t0RaArb",
        "colab_type": "code",
        "outputId": "e2dd7183-607d-4d70-bab1-3cf3fbd747d8",
        "colab": {
          "base_uri": "https://localhost:8080/",
          "height": 35
        }
      },
      "source": [
        "print(history.history.keys())\n"
      ],
      "execution_count": 14,
      "outputs": [
        {
          "output_type": "stream",
          "text": [
            "dict_keys(['val_loss', 'val_acc', 'loss', 'acc'])\n"
          ],
          "name": "stdout"
        }
      ]
    },
    {
      "cell_type": "code",
      "metadata": {
        "id": "cQc2dO97AJgd",
        "colab_type": "code",
        "colab": {}
      },
      "source": [
        "import matplotlib.pyplot as plt"
      ],
      "execution_count": 0,
      "outputs": []
    },
    {
      "cell_type": "code",
      "metadata": {
        "id": "sCscyGb7COC_",
        "colab_type": "code",
        "outputId": "b3b2a0af-ed08-43b5-a211-ff6cb992d818",
        "colab": {
          "base_uri": "https://localhost:8080/",
          "height": 501
        }
      },
      "source": [
        "## 1. Plot the training and validation loss as a function of training epoch. Describe what happens during the training in terms of under or overfitting.\n",
        "plt.plot(history.history['acc'])\n",
        "plt.title('model accuracy')\n",
        "plt.ylabel('accuracy')\n",
        "plt.xlabel('epoch')\n",
        "plt.legend(['train'], loc='upper left')\n",
        "plt.show()"
      ],
      "execution_count": 16,
      "outputs": [
        {
          "output_type": "display_data",
          "data": {
            "image/png": "[encoded data removed]",
            "text/plain": [
              "<Figure size 750x500 with 1 Axes>"
            ]
          },
          "metadata": {
            "tags": []
          }
        }
      ]
    },
    {
      "cell_type": "code",
      "metadata": {
        "colab_type": "code",
        "hide_input": true,
        "id": "wrJhYEe09Ev-",
        "outputId": "2a9163e8-0aa7-49b6-df8e-1b7df5ecddf8",
        "colab": {
          "base_uri": "https://localhost:8080/",
          "height": 501
        }
      },
      "source": [
        "## 2. Plot the training and validation accuracy as a function of the training epoch.\n",
        "plt.plot(history.history['val_acc'])\n",
        "plt.title('model accuracy')\n",
        "plt.ylabel('validation accuracy')\n",
        "plt.xlabel('epoch')\n",
        "plt.legend(['train'], loc='upper left')\n",
        "plt.show()"
      ],
      "execution_count": 17,
      "outputs": [
        {
          "output_type": "display_data",
          "data": {
            "image/png": "[encoded data removed]",
            "text/plain": [
              "<Figure size 750x500 with 1 Axes>"
            ]
          },
          "metadata": {
            "tags": []
          }
        }
      ]
    },
    {
      "cell_type": "markdown",
      "metadata": {
        "colab_type": "text",
        "id": "FWDq34yW9EwA"
      },
      "source": [
        "#### Early stopping\n",
        "One simple technique to avoid overfitting is to use the validation set to 'tune' the optimal number of epochs\n",
        "* In this case, we could stop after 4 epochs\n"
      ]
    },
    {
      "cell_type": "code",
      "metadata": {
        "cellView": "both",
        "colab_type": "code",
        "id": "Csk3_Yn09EwB",
        "outputId": "2b9644f9-9d1f-40e4-952a-7507c8aca1b7",
        "colab": {
          "base_uri": "https://localhost:8080/",
          "height": 191
        }
      },
      "source": [
        "#@title\n",
        "model.fit(x_train, y_train, epochs=4, batch_size=512, verbose=2)\n",
        "result = model.evaluate(x_test, y_test)\n",
        "print(\"Loss: {:.4f}, Accuracy:  {:.4f}\".format(*result))"
      ],
      "execution_count": 18,
      "outputs": [
        {
          "output_type": "stream",
          "text": [
            "Epoch 1/4\n",
            " - 2s - loss: 0.2055 - acc: 0.9451\n",
            "Epoch 2/4\n",
            " - 2s - loss: 0.1338 - acc: 0.9598\n",
            "Epoch 3/4\n",
            " - 2s - loss: 0.1034 - acc: 0.9672\n",
            "Epoch 4/4\n",
            " - 2s - loss: 0.0781 - acc: 0.9758\n",
            "25000/25000 [==============================] - 2s 69us/step\n",
            "Loss: 0.5009, Accuracy:  0.8603\n"
          ],
          "name": "stdout"
        }
      ]
    },
    {
      "cell_type": "markdown",
      "metadata": {
        "colab_type": "text",
        "id": "5Mo4BX1N9EwD"
      },
      "source": [
        "#### Predictions\n",
        "1. Print the first review that were correctly classified along with the predicted value.\n",
        "2. Print the first review that were misclassified along with the predicted value. Can you explain why the model likely failed? How confident was the model?"
      ]
    },
    {
      "cell_type": "code",
      "metadata": {
        "id": "lopnrHwhlLH4",
        "colab_type": "code",
        "colab": {}
      },
      "source": [
        "## 1. Print the first review that were correctly classified along with the predicted value."
      ],
      "execution_count": 0,
      "outputs": []
    },
    {
      "cell_type": "code",
      "metadata": {
        "id": "dTtiv0PWaoQw",
        "colab_type": "code",
        "colab": {}
      },
      "source": [
        "## 2. Print the first review that were misclassified along with the predicted value. Can you explain why the model likely failed? How confident was the model?\n"
      ],
      "execution_count": 0,
      "outputs": []
    },
    {
      "cell_type": "markdown",
      "metadata": {
        "colab_type": "text",
        "id": "W9_hvA-lanwt"
      },
      "source": [
        "#### Takeaways\n",
        "* Neural nets require a lot of preprocessing to create tensors\n",
        "* Dense layers with ReLU activation can solve a wide range of problems\n",
        "* Binary classification can be done with a Dense layer with a single unit, sigmoid activation, and binary cross-entropy loss\n",
        "* Neural nets overfit easily\n",
        "* Many design choices have an effect on accuracy and overfitting. One can try:\n",
        "    - 1 or 3 hidden layers\n",
        "    - more or fewer hidden units (e.g. 64)\n",
        "    - MSE loss instead of binary cross-entropy\n",
        "    - `tanh` activation instead of `ReLU`"
      ]
    },
    {
      "cell_type": "markdown",
      "metadata": {
        "colab_type": "text",
        "id": "WchP4Tgu9ExF"
      },
      "source": [
        "### Regularization: build smaller networks\n",
        "* The easiest way to avoid overfitting is to use a simpler model\n",
        "* The number of learnable parameters is called the model _capacity_\n",
        "* A model with more parameters has a higher _memorization capacity_\n",
        "    - The entire training set can be `stored` in the weights\n",
        "    - Learns the mapping from training examples to outputs\n",
        "* Forcing the model to be small forces it to learn a compressed representation that generalizes better\n",
        "    - Always a trade-off between too much and too little capacity\n",
        "* Start with few layers and parameters, incease until you see diminisching returns"
      ]
    },
    {
      "cell_type": "markdown",
      "metadata": {
        "colab_type": "text",
        "id": "wo8UGPGQ9ExG"
      },
      "source": [
        "Let's try this on our movie review data, with 4 units per layer\n"
      ]
    },
    {
      "cell_type": "code",
      "metadata": {
        "colab_type": "code",
        "id": "rFjmZtyl9ExG",
        "colab": {}
      },
      "source": [
        "from keras.datasets import imdb\n",
        "import numpy as np\n",
        "\n",
        "(train_data, train_labels), (test_data, test_labels) = imdb.load_data(num_words=10000)\n",
        "\n",
        "def vectorize_sequences(sequences, dimension=10000):\n",
        "    # Create an all-zero matrix of shape (len(sequences), dimension)\n",
        "    results = np.zeros((len(sequences), dimension))\n",
        "    for i, sequence in enumerate(sequences):\n",
        "        results[i, sequence] = 1.  # set specific indices of results[i] to 1s\n",
        "    return results\n",
        "\n",
        "# Our vectorized training data\n",
        "x_train = vectorize_sequences(train_data)\n",
        "# Our vectorized test data\n",
        "x_test = vectorize_sequences(test_data)\n",
        "# Our vectorized labels\n",
        "y_train = np.asarray(train_labels).astype('float32')\n",
        "y_test = np.asarray(test_labels).astype('float32')"
      ],
      "execution_count": 0,
      "outputs": []
    },
    {
      "cell_type": "code",
      "metadata": {
        "colab_type": "code",
        "id": "0RYsX-RF9ExJ",
        "outputId": "d5a2d344-a941-492e-b848-ff47d754c005",
        "colab": {
          "base_uri": "https://localhost:8080/",
          "height": 1000
        }
      },
      "source": [
        "from keras import models\n",
        "from keras import layers \n",
        "import matplotlib.pyplot as plt\n",
        "\n",
        "original_model = models.Sequential()\n",
        "original_model.add(layers.Dense(16, activation='relu', input_shape=(10000,)))\n",
        "original_model.add(layers.Dense(16, activation='relu'))\n",
        "original_model.add(layers.Dense(1, activation='sigmoid'))\n",
        "\n",
        "original_model.compile(optimizer='rmsprop',\n",
        "                       loss='binary_crossentropy',\n",
        "                       metrics=['acc'])\n",
        "\n",
        "smaller_model = models.Sequential()\n",
        "smaller_model.add(layers.Dense(4, activation='relu', input_shape=(10000,)))\n",
        "smaller_model.add(layers.Dense(4, activation='relu'))\n",
        "smaller_model.add(layers.Dense(1, activation='sigmoid'))\n",
        "\n",
        "smaller_model.compile(optimizer='rmsprop',\n",
        "                      loss='binary_crossentropy',\n",
        "                      metrics=['acc'])\n",
        "original_hist = original_model.fit(x_train, y_train,\n",
        "                                   epochs=20,\n",
        "                                   batch_size=512, verbose=2,\n",
        "                                   validation_data=(x_test, y_test))\n",
        "smaller_model_hist = smaller_model.fit(x_train, y_train,\n",
        "                                       epochs=20,\n",
        "                                       batch_size=512, verbose=2,\n",
        "                                       validation_data=(x_test, y_test))"
      ],
      "execution_count": 21,
      "outputs": [
        {
          "output_type": "stream",
          "text": [
            "Train on 25000 samples, validate on 25000 samples\n",
            "Epoch 1/20\n",
            " - 4s - loss: 0.4377 - acc: 0.8208 - val_loss: 0.3240 - val_acc: 0.8831\n",
            "Epoch 2/20\n",
            " - 4s - loss: 0.2530 - acc: 0.9103 - val_loss: 0.2876 - val_acc: 0.8876\n",
            "Epoch 3/20\n",
            " - 4s - loss: 0.1993 - acc: 0.9287 - val_loss: 0.2919 - val_acc: 0.8827\n",
            "Epoch 4/20\n",
            " - 4s - loss: 0.1666 - acc: 0.9413 - val_loss: 0.3089 - val_acc: 0.8776\n",
            "Epoch 5/20\n",
            " - 4s - loss: 0.1438 - acc: 0.9489 - val_loss: 0.3204 - val_acc: 0.8782\n",
            "Epoch 6/20\n",
            " - 4s - loss: 0.1272 - acc: 0.9547 - val_loss: 0.3387 - val_acc: 0.8747\n",
            "Epoch 7/20\n",
            " - 4s - loss: 0.1120 - acc: 0.9616 - val_loss: 0.3653 - val_acc: 0.8715\n",
            "Epoch 8/20\n",
            " - 4s - loss: 0.1004 - acc: 0.9658 - val_loss: 0.4117 - val_acc: 0.8617\n",
            "Epoch 9/20\n",
            " - 4s - loss: 0.0895 - acc: 0.9710 - val_loss: 0.4243 - val_acc: 0.8656\n",
            "Epoch 10/20\n",
            " - 4s - loss: 0.0812 - acc: 0.9734 - val_loss: 0.4535 - val_acc: 0.8635\n",
            "Epoch 11/20\n",
            " - 4s - loss: 0.0714 - acc: 0.9777 - val_loss: 0.4797 - val_acc: 0.8606\n",
            "Epoch 12/20\n",
            " - 4s - loss: 0.0639 - acc: 0.9798 - val_loss: 0.5059 - val_acc: 0.8580\n",
            "Epoch 13/20\n",
            " - 4s - loss: 0.0592 - acc: 0.9817 - val_loss: 0.5365 - val_acc: 0.8566\n",
            "Epoch 14/20\n",
            " - 4s - loss: 0.0510 - acc: 0.9852 - val_loss: 0.5677 - val_acc: 0.8555\n",
            "Epoch 15/20\n",
            " - 4s - loss: 0.0457 - acc: 0.9875 - val_loss: 0.5962 - val_acc: 0.8523\n",
            "Epoch 16/20\n",
            " - 4s - loss: 0.0401 - acc: 0.9888 - val_loss: 0.6335 - val_acc: 0.8518\n",
            "Epoch 17/20\n",
            " - 4s - loss: 0.0351 - acc: 0.9900 - val_loss: 0.6715 - val_acc: 0.8476\n",
            "Epoch 18/20\n",
            " - 4s - loss: 0.0314 - acc: 0.9917 - val_loss: 0.7006 - val_acc: 0.8498\n",
            "Epoch 19/20\n",
            " - 4s - loss: 0.0263 - acc: 0.9932 - val_loss: 0.7434 - val_acc: 0.8428\n",
            "Epoch 20/20\n",
            " - 4s - loss: 0.0232 - acc: 0.9946 - val_loss: 0.7666 - val_acc: 0.8466\n",
            "Train on 25000 samples, validate on 25000 samples\n",
            "Epoch 1/20\n",
            " - 4s - loss: 0.6261 - acc: 0.7843 - val_loss: 0.5676 - val_acc: 0.8503\n",
            "Epoch 2/20\n",
            " - 4s - loss: 0.4974 - acc: 0.8714 - val_loss: 0.4510 - val_acc: 0.8665\n",
            "Epoch 3/20\n",
            " - 4s - loss: 0.3780 - acc: 0.8929 - val_loss: 0.3662 - val_acc: 0.8804\n",
            "Epoch 4/20\n",
            " - 4s - loss: 0.2997 - acc: 0.9082 - val_loss: 0.3192 - val_acc: 0.8860\n",
            "Epoch 5/20\n",
            " - 4s - loss: 0.2496 - acc: 0.9204 - val_loss: 0.2941 - val_acc: 0.8891\n",
            "Epoch 6/20\n",
            " - 4s - loss: 0.2159 - acc: 0.9283 - val_loss: 0.2809 - val_acc: 0.8908\n",
            "Epoch 7/20\n",
            " - 4s - loss: 0.1912 - acc: 0.9355 - val_loss: 0.2770 - val_acc: 0.8901\n",
            "Epoch 8/20\n",
            " - 4s - loss: 0.1723 - acc: 0.9421 - val_loss: 0.2781 - val_acc: 0.8893\n",
            "Epoch 9/20\n",
            " - 3s - loss: 0.1574 - acc: 0.9467 - val_loss: 0.2833 - val_acc: 0.8878\n",
            "Epoch 10/20\n",
            " - 3s - loss: 0.1449 - acc: 0.9521 - val_loss: 0.2924 - val_acc: 0.8847\n",
            "Epoch 11/20\n",
            " - 3s - loss: 0.1345 - acc: 0.9560 - val_loss: 0.2999 - val_acc: 0.8830\n",
            "Epoch 12/20\n",
            " - 4s - loss: 0.1246 - acc: 0.9591 - val_loss: 0.3109 - val_acc: 0.8806\n",
            "Epoch 13/20\n",
            " - 3s - loss: 0.1159 - acc: 0.9631 - val_loss: 0.3234 - val_acc: 0.8786\n",
            "Epoch 14/20\n",
            " - 3s - loss: 0.1082 - acc: 0.9651 - val_loss: 0.3381 - val_acc: 0.8764\n",
            "Epoch 15/20\n",
            " - 3s - loss: 0.1011 - acc: 0.9689 - val_loss: 0.3484 - val_acc: 0.8753\n",
            "Epoch 16/20\n",
            " - 4s - loss: 0.0950 - acc: 0.9711 - val_loss: 0.3624 - val_acc: 0.8733\n",
            "Epoch 17/20\n",
            " - 4s - loss: 0.0888 - acc: 0.9728 - val_loss: 0.3783 - val_acc: 0.8709\n",
            "Epoch 18/20\n",
            " - 3s - loss: 0.0832 - acc: 0.9750 - val_loss: 0.3983 - val_acc: 0.8674\n",
            "Epoch 19/20\n",
            " - 3s - loss: 0.0780 - acc: 0.9773 - val_loss: 0.4101 - val_acc: 0.8672\n",
            "Epoch 20/20\n",
            " - 3s - loss: 0.0729 - acc: 0.9789 - val_loss: 0.4247 - val_acc: 0.8667\n"
          ],
          "name": "stdout"
        }
      ]
    },
    {
      "cell_type": "code",
      "metadata": {
        "id": "Q91dQMxvcQqX",
        "colab_type": "code",
        "outputId": "9342c75d-702b-4fa7-b432-39402290fb02",
        "colab": {
          "base_uri": "https://localhost:8080/",
          "height": 35
        }
      },
      "source": [
        "original_hist"
      ],
      "execution_count": 22,
      "outputs": [
        {
          "output_type": "execute_result",
          "data": {
            "text/plain": [
              "<keras.callbacks.History at 0x7f28d8ca15f8>"
            ]
          },
          "metadata": {
            "tags": []
          },
          "execution_count": 22
        }
      ]
    },
    {
      "cell_type": "code",
      "metadata": {
        "id": "LxnTAgyic2fv",
        "colab_type": "code",
        "outputId": "022c4f0f-2267-4c61-d9e4-54af02bdfd68",
        "colab": {
          "base_uri": "https://localhost:8080/",
          "height": 35
        }
      },
      "source": [
        "smaller_model_hist"
      ],
      "execution_count": 23,
      "outputs": [
        {
          "output_type": "execute_result",
          "data": {
            "text/plain": [
              "<keras.callbacks.History at 0x7f28cd622a90>"
            ]
          },
          "metadata": {
            "tags": []
          },
          "execution_count": 23
        }
      ]
    },
    {
      "cell_type": "markdown",
      "metadata": {
        "colab_type": "text",
        "id": "rCV6TJ899ExL"
      },
      "source": [
        "1. Plot the validation loss for the original and smaller models. How does the smaller model behave compared to the original?"
      ]
    },
    {
      "cell_type": "code",
      "metadata": {
        "colab_type": "code",
        "id": "m7kNvhh-9ExN",
        "outputId": "06645c59-82be-430e-bc7f-d8852b57c06c",
        "colab": {
          "base_uri": "https://localhost:8080/",
          "height": 501
        }
      },
      "source": [
        "# summarize history for loss\n",
        "plt.plot(original_hist.history['val_loss'])\n",
        "plt.plot(smaller_model_hist.history['val_loss'])\n",
        "plt.title('model loss')\n",
        "plt.ylabel('validation loss')\n",
        "plt.xlabel('epoch')\n",
        "plt.legend(['Original ', 'Smaller Model'], loc='upper left')\n",
        "plt.show()"
      ],
      "execution_count": 24,
      "outputs": [
        {
          "output_type": "display_data",
          "data": {
            "image/png": "[encoded data removed]",
            "text/plain": [
              "<Figure size 750x500 with 1 Axes>"
            ]
          },
          "metadata": {
            "tags": []
          }
        }
      ]
    },
    {
      "cell_type": "markdown",
      "metadata": {
        "id": "fpD5evbkdNlk",
        "colab_type": "text"
      },
      "source": [
        "Smaller model v/s original model"
      ]
    },
    {
      "cell_type": "markdown",
      "metadata": {
        "colab_type": "text",
        "id": "_u-YXpCZ9ExP"
      },
      "source": [
        "### Regularization: Weight regularization\n",
        "* As we did many times before, we can also add weight regularization to our loss function\n",
        "- L1 regularization: leads to _sparse networks_ with many weights that are 0\n",
        "- L2 regularization: leads to many very small weights\n",
        "    - Also called _weight decay_ in neural net literature\n",
        "* In Keras, add `kernel_regularizer` to every layer"
      ]
    },
    {
      "cell_type": "code",
      "metadata": {
        "colab_type": "code",
        "id": "kXOqh2uU9ExR",
        "colab": {}
      },
      "source": [
        "from keras import regularizers\n",
        "from keras import models\n",
        "from keras import layers \n",
        "import matplotlib.pyplot as plt\n",
        "\n",
        "l2_model = models.Sequential()\n",
        "l2_model.add(layers.Dense(16, kernel_regularizer=regularizers.l2(0.001),\n",
        "                          activation='relu', input_shape=(10000,)))\n",
        "l2_model.add(layers.Dense(16, kernel_regularizer=regularizers.l2(0.001),\n",
        "                          activation='relu'))\n",
        "l2_model.add(layers.Dense(1, activation='sigmoid'))"
      ],
      "execution_count": 0,
      "outputs": []
    },
    {
      "cell_type": "code",
      "metadata": {
        "colab_type": "code",
        "id": "mzNX3bHo9ExT",
        "colab": {}
      },
      "source": [
        "l2_model.compile(optimizer='rmsprop',\n",
        "                 loss='binary_crossentropy',\n",
        "                 metrics=['acc'])"
      ],
      "execution_count": 0,
      "outputs": []
    },
    {
      "cell_type": "code",
      "metadata": {
        "colab_type": "code",
        "id": "2Gg8hLY69ExU",
        "outputId": "44514fe6-a15a-471b-831b-e8ad0e0d5930",
        "colab": {
          "base_uri": "https://localhost:8080/",
          "height": 728
        }
      },
      "source": [
        "l2_model_hist = l2_model.fit(x_train, y_train,\n",
        "                             epochs=20,\n",
        "                             batch_size=512, verbose=2,\n",
        "                             validation_data=(x_test, y_test))"
      ],
      "execution_count": 27,
      "outputs": [
        {
          "output_type": "stream",
          "text": [
            "Train on 25000 samples, validate on 25000 samples\n",
            "Epoch 1/20\n",
            " - 4s - loss: 0.4830 - acc: 0.8212 - val_loss: 0.3788 - val_acc: 0.8781\n",
            "Epoch 2/20\n",
            " - 4s - loss: 0.3122 - acc: 0.9060 - val_loss: 0.3372 - val_acc: 0.8862\n",
            "Epoch 3/20\n",
            " - 4s - loss: 0.2717 - acc: 0.9185 - val_loss: 0.3292 - val_acc: 0.8893\n",
            "Epoch 4/20\n",
            " - 4s - loss: 0.2511 - acc: 0.9285 - val_loss: 0.3337 - val_acc: 0.8865\n",
            "Epoch 5/20\n",
            " - 4s - loss: 0.2380 - acc: 0.9334 - val_loss: 0.3420 - val_acc: 0.8854\n",
            "Epoch 6/20\n",
            " - 4s - loss: 0.2304 - acc: 0.9362 - val_loss: 0.3641 - val_acc: 0.8766\n",
            "Epoch 7/20\n",
            " - 4s - loss: 0.2221 - acc: 0.9391 - val_loss: 0.3928 - val_acc: 0.8679\n",
            "Epoch 8/20\n",
            " - 4s - loss: 0.2192 - acc: 0.9396 - val_loss: 0.3666 - val_acc: 0.8780\n",
            "Epoch 9/20\n",
            " - 4s - loss: 0.2127 - acc: 0.9446 - val_loss: 0.3844 - val_acc: 0.8734\n",
            "Epoch 10/20\n",
            " - 4s - loss: 0.2113 - acc: 0.9430 - val_loss: 0.3807 - val_acc: 0.8743\n",
            "Epoch 11/20\n",
            " - 4s - loss: 0.2082 - acc: 0.9452 - val_loss: 0.4137 - val_acc: 0.8660\n",
            "Epoch 12/20\n",
            " - 4s - loss: 0.2055 - acc: 0.9456 - val_loss: 0.3904 - val_acc: 0.8743\n",
            "Epoch 13/20\n",
            " - 4s - loss: 0.2010 - acc: 0.9478 - val_loss: 0.4036 - val_acc: 0.8702\n",
            "Epoch 14/20\n",
            " - 4s - loss: 0.2052 - acc: 0.9448 - val_loss: 0.4150 - val_acc: 0.8693\n",
            "Epoch 15/20\n",
            " - 4s - loss: 0.1975 - acc: 0.9485 - val_loss: 0.4046 - val_acc: 0.8715\n",
            "Epoch 16/20\n",
            " - 4s - loss: 0.1981 - acc: 0.9465 - val_loss: 0.4121 - val_acc: 0.8713\n",
            "Epoch 17/20\n",
            " - 4s - loss: 0.1924 - acc: 0.9499 - val_loss: 0.4197 - val_acc: 0.8697\n",
            "Epoch 18/20\n",
            " - 4s - loss: 0.1948 - acc: 0.9495 - val_loss: 0.4940 - val_acc: 0.8541\n",
            "Epoch 19/20\n",
            " - 4s - loss: 0.1970 - acc: 0.9464 - val_loss: 0.4209 - val_acc: 0.8697\n",
            "Epoch 20/20\n",
            " - 4s - loss: 0.1885 - acc: 0.9515 - val_loss: 0.4428 - val_acc: 0.8651\n"
          ],
          "name": "stdout"
        }
      ]
    },
    {
      "cell_type": "markdown",
      "metadata": {
        "colab_type": "text",
        "id": "vKOw1jNlibXK"
      },
      "source": [
        "1. Plot the validation loss for the original and l2 regularized models. How does the regularized model behave compared to the original?"
      ]
    },
    {
      "cell_type": "code",
      "metadata": {
        "colab_type": "code",
        "id": "9qYQvkIe9ExW",
        "outputId": "95127454-0e5e-4adc-a280-d14c76350263",
        "colab": {
          "base_uri": "https://localhost:8080/",
          "height": 501
        }
      },
      "source": [
        "# summarize history for loss\n",
        "plt.plot(original_hist.history['val_loss'])\n",
        "plt.plot(l2_model_hist.history['val_loss'])\n",
        "plt.title('model loss')\n",
        "plt.ylabel('Val loss')\n",
        "plt.xlabel('epoch')\n",
        "plt.legend(['Original', 'l2 regularized'], loc='upper left')\n",
        "plt.show()"
      ],
      "execution_count": 28,
      "outputs": [
        {
          "output_type": "display_data",
          "data": {
            "image/png": "[encoded data removed]",
            "text/plain": [
              "<Figure size 750x500 with 1 Axes>"
            ]
          },
          "metadata": {
            "tags": []
          }
        }
      ]
    },
    {
      "cell_type": "markdown",
      "metadata": {
        "colab_type": "text",
        "id": "OFbL6yJF9ExZ"
      },
      "source": [
        "### Regularization: dropout\n",
        "* One of the most effective and commonly used regularization techniques\n",
        "* Randomly set a number of outputs of the layer to 0\n",
        "* Idea: break up accidental non-significant learned patterns \n",
        "* _Dropout rate_: fraction of the outputs that are zeroed-out\n",
        "    - Usually between 0.2 and 0.5\n",
        "* At test time, nothing is dropped out, but the output values are scaled down by the dropout rate\n",
        "    - Balances out that more units are active than during training\n",
        "* In Keras: add `Dropout` layers between the normal layers"
      ]
    },
    {
      "cell_type": "code",
      "metadata": {
        "colab_type": "code",
        "id": "SUHgbTz49Exa",
        "outputId": "0f5a561f-9153-48e6-834d-8374ddfced7b",
        "colab": {
          "base_uri": "https://localhost:8080/",
          "height": 124
        }
      },
      "source": [
        "from keras import models\n",
        "from keras import layers \n",
        "import matplotlib.pyplot as plt\n",
        "\n",
        "dpt_model = models.Sequential()\n",
        "dpt_model.add(layers.Dense(16, activation='relu', input_shape=(10000,)))\n",
        "dpt_model.add(layers.Dropout(0.5))\n",
        "dpt_model.add(layers.Dense(16, activation='relu'))\n",
        "dpt_model.add(layers.Dropout(0.5))\n",
        "dpt_model.add(layers.Dense(1, activation='sigmoid'))\n",
        "\n",
        "dpt_model.compile(optimizer='rmsprop',\n",
        "                  loss='binary_crossentropy',\n",
        "                  metrics=['acc'])"
      ],
      "execution_count": 29,
      "outputs": [
        {
          "output_type": "stream",
          "text": [
            "WARNING:tensorflow:From /usr/local/lib/python3.6/dist-packages/keras/backend/tensorflow_backend.py:148: The name tf.placeholder_with_default is deprecated. Please use tf.compat.v1.placeholder_with_default instead.\n",
            "\n",
            "WARNING:tensorflow:From /usr/local/lib/python3.6/dist-packages/keras/backend/tensorflow_backend.py:3733: calling dropout (from tensorflow.python.ops.nn_ops) with keep_prob is deprecated and will be removed in a future version.\n",
            "Instructions for updating:\n",
            "Please use `rate` instead of `keep_prob`. Rate should be set to `rate = 1 - keep_prob`.\n"
          ],
          "name": "stdout"
        }
      ]
    },
    {
      "cell_type": "code",
      "metadata": {
        "colab_type": "code",
        "id": "2QSG_vWa9Exb",
        "outputId": "648b21fa-36ee-4021-febd-2987795069e2",
        "colab": {
          "base_uri": "https://localhost:8080/",
          "height": 728
        }
      },
      "source": [
        "dpt_model_hist = dpt_model.fit(x_train, y_train,\n",
        "                               epochs=20,\n",
        "                               \n",
        "                               batch_size=512, verbose=2,\n",
        "                               validation_data=(x_test, y_test))"
      ],
      "execution_count": 30,
      "outputs": [
        {
          "output_type": "stream",
          "text": [
            "Train on 25000 samples, validate on 25000 samples\n",
            "Epoch 1/20\n",
            " - 4s - loss: 0.6140 - acc: 0.6557 - val_loss: 0.4929 - val_acc: 0.8656\n",
            "Epoch 2/20\n",
            " - 4s - loss: 0.4852 - acc: 0.7815 - val_loss: 0.3826 - val_acc: 0.8805\n",
            "Epoch 3/20\n",
            " - 4s - loss: 0.4035 - acc: 0.8431 - val_loss: 0.3212 - val_acc: 0.8852\n",
            "Epoch 4/20\n",
            " - 4s - loss: 0.3512 - acc: 0.8756 - val_loss: 0.2942 - val_acc: 0.8907\n",
            "Epoch 5/20\n",
            " - 4s - loss: 0.3023 - acc: 0.8990 - val_loss: 0.2831 - val_acc: 0.8854\n",
            "Epoch 6/20\n",
            " - 4s - loss: 0.2667 - acc: 0.9113 - val_loss: 0.2832 - val_acc: 0.8881\n",
            "Epoch 7/20\n",
            " - 4s - loss: 0.2387 - acc: 0.9199 - val_loss: 0.2927 - val_acc: 0.8845\n",
            "Epoch 8/20\n",
            " - 4s - loss: 0.2167 - acc: 0.9285 - val_loss: 0.3151 - val_acc: 0.8852\n",
            "Epoch 9/20\n",
            " - 4s - loss: 0.2031 - acc: 0.9334 - val_loss: 0.3254 - val_acc: 0.8847\n",
            "Epoch 10/20\n",
            " - 4s - loss: 0.1891 - acc: 0.9382 - val_loss: 0.3449 - val_acc: 0.8829\n",
            "Epoch 11/20\n",
            " - 4s - loss: 0.1746 - acc: 0.9402 - val_loss: 0.3708 - val_acc: 0.8830\n",
            "Epoch 12/20\n",
            " - 4s - loss: 0.1626 - acc: 0.9434 - val_loss: 0.3742 - val_acc: 0.8798\n",
            "Epoch 13/20\n",
            " - 4s - loss: 0.1552 - acc: 0.9453 - val_loss: 0.4206 - val_acc: 0.8796\n",
            "Epoch 14/20\n",
            " - 4s - loss: 0.1466 - acc: 0.9516 - val_loss: 0.4164 - val_acc: 0.8792\n",
            "Epoch 15/20\n",
            " - 4s - loss: 0.1407 - acc: 0.9518 - val_loss: 0.4318 - val_acc: 0.8720\n",
            "Epoch 16/20\n",
            " - 4s - loss: 0.1297 - acc: 0.9541 - val_loss: 0.4451 - val_acc: 0.8753\n",
            "Epoch 17/20\n",
            " - 4s - loss: 0.1322 - acc: 0.9546 - val_loss: 0.4659 - val_acc: 0.8703\n",
            "Epoch 18/20\n",
            " - 4s - loss: 0.1296 - acc: 0.9548 - val_loss: 0.4890 - val_acc: 0.8734\n",
            "Epoch 19/20\n",
            " - 4s - loss: 0.1271 - acc: 0.9559 - val_loss: 0.5066 - val_acc: 0.8725\n",
            "Epoch 20/20\n",
            " - 4s - loss: 0.1206 - acc: 0.9590 - val_loss: 0.5234 - val_acc: 0.8715\n"
          ],
          "name": "stdout"
        }
      ]
    },
    {
      "cell_type": "markdown",
      "metadata": {
        "colab_type": "text",
        "id": "VZx6VNXn9Exd"
      },
      "source": [
        "1. Plot the validation loss for the original and dropout models. How does the dropout model behave compared to the original?"
      ]
    },
    {
      "cell_type": "code",
      "metadata": {
        "colab_type": "code",
        "id": "-ZS_z7xM9Exe",
        "outputId": "fab9ea2f-c5e6-40e5-be80-406917301cce",
        "colab": {
          "base_uri": "https://localhost:8080/",
          "height": 501
        }
      },
      "source": [
        "# summarize history for loss\n",
        "plt.plot(original_hist.history['val_loss'])\n",
        "plt.plot(l2_model_hist.history['val_loss'])\n",
        "plt.title('model loss')\n",
        "plt.ylabel('Val loss')\n",
        "plt.xlabel('epoch')\n",
        "plt.legend(['original', 'dropout'], loc='upper left')\n",
        "plt.show()"
      ],
      "execution_count": 31,
      "outputs": [
        {
          "output_type": "display_data",
          "data": {
            "image/png": "[encoded data removed]",
            "text/plain": [
              "<Figure size 750x500 with 1 Axes>"
            ]
          },
          "metadata": {
            "tags": []
          }
        }
      ]
    },
    {
      "cell_type": "markdown",
      "metadata": {
        "colab_type": "text",
        "id": "ORAwOqdV9Exf"
      },
      "source": [
        "### Regularization recap\n",
        "* Get more training data\n",
        "* Reduce the capacity of the network\n",
        "* Add weight regularization\n",
        "* Add dropout\n",
        "* Either start with a simple model and add capacity\n",
        "* Or, start with a complex model and then regularize by adding weight regularization and dropout"
      ]
    },
    {
      "cell_type": "markdown",
      "metadata": {
        "colab_type": "text",
        "id": "1xwfZv_E9Ewq"
      },
      "source": [
        "### Regression\n",
        "* Dataset: 506 examples of houses and sale prices (Boston)\n",
        "    - Included in Keras, with a 1/5 train-test split\n",
        "* Each row is one house price, described by numeric properties of the house and neighborhood\n",
        "* Small dataset, non-normalized features"
      ]
    },
    {
      "cell_type": "code",
      "metadata": {
        "colab_type": "code",
        "id": "ZlUGyLJS9Ewr",
        "colab": {}
      },
      "source": [
        "from keras.datasets import boston_housing\n",
        "\n",
        "(train_data, train_targets), (test_data, test_targets) =  boston_housing.load_data()"
      ],
      "execution_count": 0,
      "outputs": []
    },
    {
      "cell_type": "markdown",
      "metadata": {
        "colab_type": "text",
        "id": "gX4hkxBb9Ewt"
      },
      "source": [
        "#### Preprocessing\n",
        "* Neural nets work a lot better if we normalize the features first. \n",
        "* Keras has no built-in support so we have to do this manually (or with scikit-learn)\n",
        "    - Again, be careful not to look at the test data during normalization\n",
        "    \n"
      ]
    },
    {
      "cell_type": "code",
      "metadata": {
        "colab_type": "code",
        "id": "d-W92M6I9Ewt",
        "colab": {}
      },
      "source": [
        "\n",
        "mean, std = train_data.mean(axis=0), train_data.std(axis=0)\n",
        "train_data -= mean\n",
        "train_data /= std\n",
        "\n",
        "test_data -= mean\n",
        "test_data /= std"
      ],
      "execution_count": 0,
      "outputs": []
    },
    {
      "cell_type": "markdown",
      "metadata": {
        "colab_type": "text",
        "id": "OwM0wfKE9Ewx"
      },
      "source": [
        "#### Building the network\n",
        "* This is a small dataset, so easy to overfit\n",
        "    * We use 2 hidden layers of 64 units each\n",
        "* Use smaller batches, more epochs\n",
        "* Since we want scalar output, the output layer is one unit without activation\n",
        "* Loss function is Mean Squared Error (bigger penalty)\n",
        "* Evaluation metric is Mean Absolute Error (more interpretable)\n",
        "* We will also use cross-validation, so we wrap the model building in a function, so that we can call it multiple times\n",
        "\n",
        "1. Create a function build_model that returns the neural network model described above"
      ]
    },
    {
      "cell_type": "code",
      "metadata": {
        "colab_type": "code",
        "id": "vL_p-NcX9Ewz",
        "colab": {}
      },
      "source": [
        "def build_model():\n",
        "    model = models.Sequential()\n",
        "    model.add(layers.Dense(64, activation='relu',\n",
        "                           input_shape=(train_data.shape[1],)))\n",
        "    model.add(layers.Dense(64, activation='relu'))\n",
        "    model.add(layers.Dense(1))\n",
        "    model.compile(optimizer='rmsprop', loss='mse', metrics=['mae'])\n",
        "    return model"
      ],
      "execution_count": 0,
      "outputs": []
    },
    {
      "cell_type": "markdown",
      "metadata": {
        "colab_type": "text",
        "id": "t2seh8XW9Ew1"
      },
      "source": [
        "#### Cross-validation\n",
        "* Keras does not have support for cross-validation\n",
        "* We can implement cross-validation ourselves (seeprovided code below)\n",
        "* Alternatively, we can wrap a Keras model as a scikit-learn estimator\n",
        "* Generally speaking, cross-validation is tricky with neural nets\n",
        "    * Some fold may not converge, or fluctuate on random initialization\n",
        "    "
      ]
    },
    {
      "cell_type": "code",
      "metadata": {
        "colab_type": "code",
        "id": "VupbDC1U9Ew3",
        "outputId": "2d3fb2a4-f022-4e2b-fe92-b7de44dbc536",
        "colab": {
          "base_uri": "https://localhost:8080/",
          "height": 87
        }
      },
      "source": [
        "# implementation of cross-validation\n",
        "import numpy as np\n",
        "\n",
        "k = 4\n",
        "num_val_samples = len(train_data) // k\n",
        "num_epochs = 20\n",
        "all_scores = []\n",
        "for i in range(k):\n",
        "    print('processing fold #', i)\n",
        "    # Prepare the validation data: data from partition # k\n",
        "    val_data = train_data[i * num_val_samples: (i + 1) * num_val_samples]\n",
        "    val_targets = train_targets[i * num_val_samples: (i + 1) * num_val_samples]\n",
        "\n",
        "    # Prepare the training data: data from all other partitions\n",
        "    partial_train_data = np.concatenate(\n",
        "        [train_data[:i * num_val_samples],\n",
        "         train_data[(i + 1) * num_val_samples:]],\n",
        "        axis=0)\n",
        "    partial_train_targets = np.concatenate(\n",
        "        [train_targets[:i * num_val_samples],\n",
        "         train_targets[(i + 1) * num_val_samples:]],\n",
        "        axis=0)\n",
        "\n",
        "    # Build the Keras model (already compiled)\n",
        "    model = build_model()\n",
        "    # Train the model (in silent mode, verbose=0)\n",
        "    model.fit(partial_train_data, partial_train_targets,\n",
        "              epochs=num_epochs, batch_size=1, verbose=0)\n",
        "    # Evaluate the model on the validation data\n",
        "    val_mse, val_mae = model.evaluate(val_data, val_targets, verbose=2)\n",
        "    all_scores.append(val_mae)"
      ],
      "execution_count": 35,
      "outputs": [
        {
          "output_type": "stream",
          "text": [
            "processing fold # 0\n",
            "processing fold # 1\n",
            "processing fold # 2\n",
            "processing fold # 3\n"
          ],
          "name": "stdout"
        }
      ]
    },
    {
      "cell_type": "markdown",
      "metadata": {
        "colab_type": "text",
        "id": "OcEyK-E59Ew8"
      },
      "source": [
        "1. Train for longer (200 epochs) and keep track of loss after every epoch. Plot and describe the loss as a function of epoch number."
      ]
    },
    {
      "cell_type": "code",
      "metadata": {
        "colab_type": "code",
        "id": "tXsVlXqw9Ew8",
        "outputId": "4cd0ed69-7ba2-43fb-cf4e-92f87ebfdcef",
        "colab": {
          "base_uri": "https://localhost:8080/",
          "height": 1000
        }
      },
      "source": [
        "from keras import backend as K\n",
        "K.clear_session() # Memory clean-up\n",
        "\n",
        "num_epochs = 200\n",
        "all_mae_histories = []\n",
        "for i in range(k):\n",
        "    print('processing fold #', i)\n",
        "    # Prepare the validation data: data from partition # k\n",
        "    val_data = train_data[i * num_val_samples: (i + 1) * num_val_samples]\n",
        "    val_targets = train_targets[i * num_val_samples: (i + 1) * num_val_samples]\n",
        "\n",
        "    # Prepare the training data: data from all other partitions\n",
        "    partial_train_data = np.concatenate(\n",
        "        [train_data[:i * num_val_samples],\n",
        "         train_data[(i + 1) * num_val_samples:]],\n",
        "        axis=0)\n",
        "    partial_train_targets = np.concatenate(\n",
        "        [train_targets[:i * num_val_samples],\n",
        "         train_targets[(i + 1) * num_val_samples:]],\n",
        "        axis=0)\n",
        "\n",
        "    # Build the Keras model (already compiled)\n",
        "    model = build_model()\n",
        "    # Train the model (in silent mode, verbose=0)\n",
        "    history = model.fit(partial_train_data, partial_train_targets,\n",
        "                        validation_data=(val_data, val_targets),\n",
        "                        epochs=num_epochs, batch_size=1, verbose=2)\n",
        "    mae_history = history.history['val_loss']\n",
        "    all_mae_histories.append(mae_history)"
      ],
      "execution_count": 0,
      "outputs": [
        {
          "output_type": "stream",
          "text": [
            "WARNING:tensorflow:From /usr/local/lib/python3.6/dist-packages/keras/backend/tensorflow_backend.py:107: The name tf.reset_default_graph is deprecated. Please use tf.compat.v1.reset_default_graph instead.\n",
            "\n",
            "processing fold # 0\n",
            "Train on 303 samples, validate on 101 samples\n",
            "Epoch 1/200\n",
            " - 0s - loss: 217.5772 - mean_absolute_error: 11.5503 - val_loss: 31.5204 - val_mean_absolute_error: 3.3046\n",
            "Epoch 2/200\n",
            " - 0s - loss: 29.3222 - mean_absolute_error: 3.6752 - val_loss: 23.8973 - val_mean_absolute_error: 2.8747\n",
            "Epoch 3/200\n",
            " - 0s - loss: 22.1676 - mean_absolute_error: 3.1659 - val_loss: 19.6603 - val_mean_absolute_error: 2.6058\n",
            "Epoch 4/200\n",
            " - 0s - loss: 19.4602 - mean_absolute_error: 2.8866 - val_loss: 17.1622 - val_mean_absolute_error: 2.4827\n",
            "Epoch 5/200\n",
            " - 0s - loss: 17.8701 - mean_absolute_error: 2.7026 - val_loss: 14.7459 - val_mean_absolute_error: 2.5036\n",
            "Epoch 6/200\n",
            " - 0s - loss: 16.3146 - mean_absolute_error: 2.5824 - val_loss: 14.6237 - val_mean_absolute_error: 2.3723\n",
            "Epoch 7/200\n",
            " - 0s - loss: 15.5702 - mean_absolute_error: 2.5693 - val_loss: 12.9983 - val_mean_absolute_error: 2.2356\n",
            "Epoch 8/200\n",
            " - 0s - loss: 14.0053 - mean_absolute_error: 2.4408 - val_loss: 12.8009 - val_mean_absolute_error: 2.3391\n",
            "Epoch 9/200\n",
            " - 0s - loss: 13.7197 - mean_absolute_error: 2.4237 - val_loss: 12.3274 - val_mean_absolute_error: 2.4138\n",
            "Epoch 10/200\n",
            " - 0s - loss: 12.7625 - mean_absolute_error: 2.3633 - val_loss: 17.1633 - val_mean_absolute_error: 2.7571\n",
            "Epoch 11/200\n",
            " - 0s - loss: 13.1342 - mean_absolute_error: 2.3330 - val_loss: 10.9693 - val_mean_absolute_error: 2.1947\n",
            "Epoch 12/200\n",
            " - 0s - loss: 12.5310 - mean_absolute_error: 2.3598 - val_loss: 10.8917 - val_mean_absolute_error: 2.2636\n",
            "Epoch 13/200\n",
            " - 0s - loss: 11.8135 - mean_absolute_error: 2.2678 - val_loss: 10.8906 - val_mean_absolute_error: 2.0920\n",
            "Epoch 14/200\n",
            " - 0s - loss: 11.7099 - mean_absolute_error: 2.2612 - val_loss: 9.5795 - val_mean_absolute_error: 2.0530\n",
            "Epoch 15/200\n",
            " - 0s - loss: 11.6076 - mean_absolute_error: 2.2072 - val_loss: 10.2887 - val_mean_absolute_error: 2.1420\n",
            "Epoch 16/200\n",
            " - 0s - loss: 11.2533 - mean_absolute_error: 2.1656 - val_loss: 9.8476 - val_mean_absolute_error: 2.0921\n",
            "Epoch 17/200\n",
            " - 0s - loss: 10.9111 - mean_absolute_error: 2.1821 - val_loss: 10.6230 - val_mean_absolute_error: 2.1071\n",
            "Epoch 18/200\n",
            " - 0s - loss: 10.9450 - mean_absolute_error: 2.1229 - val_loss: 11.3072 - val_mean_absolute_error: 2.2108\n",
            "Epoch 19/200\n",
            " - 0s - loss: 10.3685 - mean_absolute_error: 2.0955 - val_loss: 10.4789 - val_mean_absolute_error: 2.2650\n",
            "Epoch 20/200\n",
            " - 0s - loss: 10.3243 - mean_absolute_error: 2.1249 - val_loss: 9.5064 - val_mean_absolute_error: 1.9504\n",
            "Epoch 21/200\n",
            " - 0s - loss: 10.1032 - mean_absolute_error: 2.0463 - val_loss: 9.3241 - val_mean_absolute_error: 2.1576\n",
            "Epoch 22/200\n",
            " - 0s - loss: 9.5314 - mean_absolute_error: 2.1072 - val_loss: 9.5364 - val_mean_absolute_error: 2.1138\n",
            "Epoch 23/200\n",
            " - 0s - loss: 9.7710 - mean_absolute_error: 2.0724 - val_loss: 10.7143 - val_mean_absolute_error: 2.0345\n",
            "Epoch 24/200\n",
            " - 0s - loss: 9.5444 - mean_absolute_error: 1.9587 - val_loss: 11.6020 - val_mean_absolute_error: 2.6187\n",
            "Epoch 25/200\n",
            " - 0s - loss: 9.3016 - mean_absolute_error: 2.0468 - val_loss: 8.6060 - val_mean_absolute_error: 2.1674\n",
            "Epoch 26/200\n",
            " - 0s - loss: 8.8682 - mean_absolute_error: 1.9833 - val_loss: 8.4641 - val_mean_absolute_error: 2.0440\n",
            "Epoch 27/200\n",
            " - 0s - loss: 8.4072 - mean_absolute_error: 1.9115 - val_loss: 10.7099 - val_mean_absolute_error: 2.2855\n",
            "Epoch 28/200\n",
            " - 0s - loss: 8.8107 - mean_absolute_error: 1.9397 - val_loss: 8.4024 - val_mean_absolute_error: 1.8434\n",
            "Epoch 29/200\n",
            " - 0s - loss: 8.7541 - mean_absolute_error: 1.9212 - val_loss: 8.9065 - val_mean_absolute_error: 2.2115\n",
            "Epoch 30/200\n",
            " - 0s - loss: 8.7066 - mean_absolute_error: 1.9593 - val_loss: 8.8410 - val_mean_absolute_error: 2.1020\n",
            "Epoch 31/200\n",
            " - 0s - loss: 8.9026 - mean_absolute_error: 1.9171 - val_loss: 8.3333 - val_mean_absolute_error: 1.8442\n",
            "Epoch 32/200\n",
            " - 0s - loss: 7.8470 - mean_absolute_error: 1.7806 - val_loss: 8.0914 - val_mean_absolute_error: 2.0333\n",
            "Epoch 33/200\n",
            " - 0s - loss: 8.1290 - mean_absolute_error: 1.8435 - val_loss: 8.2680 - val_mean_absolute_error: 2.0422\n",
            "Epoch 34/200\n",
            " - 0s - loss: 8.1276 - mean_absolute_error: 1.8653 - val_loss: 9.6050 - val_mean_absolute_error: 1.9641\n",
            "Epoch 35/200\n",
            " - 0s - loss: 7.8385 - mean_absolute_error: 1.8199 - val_loss: 8.6109 - val_mean_absolute_error: 2.1021\n",
            "Epoch 36/200\n",
            " - 0s - loss: 7.3756 - mean_absolute_error: 1.7878 - val_loss: 8.0170 - val_mean_absolute_error: 1.8759\n",
            "Epoch 37/200\n",
            " - 0s - loss: 7.5925 - mean_absolute_error: 1.8160 - val_loss: 8.1493 - val_mean_absolute_error: 1.9884\n",
            "Epoch 38/200\n",
            " - 0s - loss: 7.4147 - mean_absolute_error: 1.7958 - val_loss: 8.3669 - val_mean_absolute_error: 2.0630\n",
            "Epoch 39/200\n",
            " - 0s - loss: 7.7044 - mean_absolute_error: 1.8617 - val_loss: 8.1493 - val_mean_absolute_error: 1.8801\n",
            "Epoch 40/200\n",
            " - 0s - loss: 7.2717 - mean_absolute_error: 1.7753 - val_loss: 9.3496 - val_mean_absolute_error: 2.1926\n",
            "Epoch 41/200\n",
            " - 0s - loss: 7.1127 - mean_absolute_error: 1.7633 - val_loss: 8.1736 - val_mean_absolute_error: 2.1010\n",
            "Epoch 42/200\n",
            " - 0s - loss: 7.1522 - mean_absolute_error: 1.7490 - val_loss: 7.8728 - val_mean_absolute_error: 1.8421\n",
            "Epoch 43/200\n",
            " - 0s - loss: 6.7142 - mean_absolute_error: 1.6963 - val_loss: 8.3086 - val_mean_absolute_error: 2.0932\n",
            "Epoch 44/200\n",
            " - 0s - loss: 6.9525 - mean_absolute_error: 1.7653 - val_loss: 9.6648 - val_mean_absolute_error: 2.0650\n",
            "Epoch 45/200\n",
            " - 0s - loss: 7.0793 - mean_absolute_error: 1.7654 - val_loss: 9.5949 - val_mean_absolute_error: 2.3896\n",
            "Epoch 46/200\n",
            " - 0s - loss: 6.8867 - mean_absolute_error: 1.6972 - val_loss: 9.5142 - val_mean_absolute_error: 2.3029\n",
            "Epoch 47/200\n",
            " - 0s - loss: 7.0251 - mean_absolute_error: 1.7216 - val_loss: 8.7258 - val_mean_absolute_error: 1.9646\n",
            "Epoch 48/200\n",
            " - 0s - loss: 7.0294 - mean_absolute_error: 1.6646 - val_loss: 8.8783 - val_mean_absolute_error: 2.0575\n",
            "Epoch 49/200\n",
            " - 0s - loss: 6.8600 - mean_absolute_error: 1.7076 - val_loss: 9.1031 - val_mean_absolute_error: 2.2062\n",
            "Epoch 50/200\n",
            " - 0s - loss: 6.6850 - mean_absolute_error: 1.6958 - val_loss: 8.1661 - val_mean_absolute_error: 1.8893\n",
            "Epoch 51/200\n",
            " - 0s - loss: 6.5457 - mean_absolute_error: 1.6309 - val_loss: 8.8010 - val_mean_absolute_error: 1.9473\n",
            "Epoch 52/200\n",
            " - 0s - loss: 6.6453 - mean_absolute_error: 1.6718 - val_loss: 7.9599 - val_mean_absolute_error: 2.0199\n",
            "Epoch 53/200\n",
            " - 0s - loss: 6.6079 - mean_absolute_error: 1.6544 - val_loss: 8.8522 - val_mean_absolute_error: 2.1384\n",
            "Epoch 54/200\n",
            " - 0s - loss: 6.0986 - mean_absolute_error: 1.6446 - val_loss: 11.7087 - val_mean_absolute_error: 2.4287\n",
            "Epoch 55/200\n",
            " - 0s - loss: 6.2493 - mean_absolute_error: 1.6443 - val_loss: 9.3836 - val_mean_absolute_error: 2.1437\n",
            "Epoch 56/200\n",
            " - 0s - loss: 6.1912 - mean_absolute_error: 1.6511 - val_loss: 9.1342 - val_mean_absolute_error: 2.2106\n",
            "Epoch 57/200\n",
            " - 0s - loss: 6.1640 - mean_absolute_error: 1.6209 - val_loss: 8.1017 - val_mean_absolute_error: 2.0262\n",
            "Epoch 58/200\n",
            " - 0s - loss: 5.8696 - mean_absolute_error: 1.5785 - val_loss: 8.7731 - val_mean_absolute_error: 2.0006\n",
            "Epoch 59/200\n",
            " - 0s - loss: 6.1178 - mean_absolute_error: 1.6157 - val_loss: 9.9251 - val_mean_absolute_error: 2.2989\n",
            "Epoch 60/200\n",
            " - 0s - loss: 6.2054 - mean_absolute_error: 1.5958 - val_loss: 9.0782 - val_mean_absolute_error: 2.1458\n",
            "Epoch 61/200\n",
            " - 0s - loss: 5.7563 - mean_absolute_error: 1.6389 - val_loss: 8.6658 - val_mean_absolute_error: 2.0083\n",
            "Epoch 62/200\n",
            " - 0s - loss: 6.3760 - mean_absolute_error: 1.5919 - val_loss: 8.4901 - val_mean_absolute_error: 2.0208\n",
            "Epoch 63/200\n",
            " - 0s - loss: 5.8532 - mean_absolute_error: 1.5483 - val_loss: 8.2429 - val_mean_absolute_error: 1.8941\n",
            "Epoch 64/200\n",
            " - 0s - loss: 5.5447 - mean_absolute_error: 1.5836 - val_loss: 8.0576 - val_mean_absolute_error: 1.9659\n",
            "Epoch 65/200\n",
            " - 0s - loss: 6.1532 - mean_absolute_error: 1.6152 - val_loss: 9.9311 - val_mean_absolute_error: 2.2728\n",
            "Epoch 66/200\n",
            " - 0s - loss: 5.6747 - mean_absolute_error: 1.5876 - val_loss: 9.2052 - val_mean_absolute_error: 2.2271\n",
            "Epoch 67/200\n",
            " - 0s - loss: 5.7214 - mean_absolute_error: 1.5369 - val_loss: 7.8902 - val_mean_absolute_error: 1.8971\n",
            "Epoch 68/200\n",
            " - 0s - loss: 5.8346 - mean_absolute_error: 1.5485 - val_loss: 8.0414 - val_mean_absolute_error: 1.9076\n",
            "Epoch 69/200\n",
            " - 0s - loss: 5.4034 - mean_absolute_error: 1.5361 - val_loss: 8.4532 - val_mean_absolute_error: 1.9653\n",
            "Epoch 70/200\n",
            " - 0s - loss: 5.4645 - mean_absolute_error: 1.5544 - val_loss: 9.4842 - val_mean_absolute_error: 2.1413\n",
            "Epoch 71/200\n",
            " - 0s - loss: 5.4205 - mean_absolute_error: 1.5630 - val_loss: 7.8961 - val_mean_absolute_error: 2.0224\n",
            "Epoch 72/200\n",
            " - 0s - loss: 5.1876 - mean_absolute_error: 1.5412 - val_loss: 9.3985 - val_mean_absolute_error: 2.0439\n",
            "Epoch 73/200\n",
            " - 0s - loss: 5.5753 - mean_absolute_error: 1.5441 - val_loss: 9.1421 - val_mean_absolute_error: 2.0179\n",
            "Epoch 74/200\n",
            " - 0s - loss: 4.9946 - mean_absolute_error: 1.4874 - val_loss: 9.5776 - val_mean_absolute_error: 2.0663\n",
            "Epoch 75/200\n",
            " - 0s - loss: 5.4263 - mean_absolute_error: 1.5508 - val_loss: 9.3377 - val_mean_absolute_error: 2.0152\n",
            "Epoch 76/200\n",
            " - 0s - loss: 5.3905 - mean_absolute_error: 1.5511 - val_loss: 9.0686 - val_mean_absolute_error: 2.0609\n",
            "Epoch 77/200\n",
            " - 0s - loss: 5.2714 - mean_absolute_error: 1.5030 - val_loss: 9.0864 - val_mean_absolute_error: 2.1385\n",
            "Epoch 78/200\n",
            " - 0s - loss: 5.2869 - mean_absolute_error: 1.4924 - val_loss: 8.4662 - val_mean_absolute_error: 2.0038\n",
            "Epoch 79/200\n",
            " - 0s - loss: 5.1518 - mean_absolute_error: 1.5017 - val_loss: 9.0135 - val_mean_absolute_error: 2.0416\n",
            "Epoch 80/200\n",
            " - 0s - loss: 5.0676 - mean_absolute_error: 1.4413 - val_loss: 9.8483 - val_mean_absolute_error: 2.2278\n",
            "Epoch 81/200\n",
            " - 0s - loss: 4.9314 - mean_absolute_error: 1.4950 - val_loss: 10.0444 - val_mean_absolute_error: 2.3792\n",
            "Epoch 82/200\n",
            " - 0s - loss: 5.3542 - mean_absolute_error: 1.5249 - val_loss: 8.7286 - val_mean_absolute_error: 1.9937\n",
            "Epoch 83/200\n",
            " - 0s - loss: 5.1523 - mean_absolute_error: 1.5174 - val_loss: 9.0474 - val_mean_absolute_error: 2.0584\n",
            "Epoch 84/200\n",
            " - 0s - loss: 4.6600 - mean_absolute_error: 1.4729 - val_loss: 8.9473 - val_mean_absolute_error: 2.2381\n",
            "Epoch 85/200\n",
            " - 0s - loss: 5.0272 - mean_absolute_error: 1.5055 - val_loss: 8.4363 - val_mean_absolute_error: 1.8808\n",
            "Epoch 86/200\n",
            " - 0s - loss: 4.9899 - mean_absolute_error: 1.4454 - val_loss: 10.9976 - val_mean_absolute_error: 2.4104\n",
            "Epoch 87/200\n",
            " - 0s - loss: 4.8887 - mean_absolute_error: 1.4415 - val_loss: 9.6781 - val_mean_absolute_error: 2.3236\n",
            "Epoch 88/200\n",
            " - 0s - loss: 4.9868 - mean_absolute_error: 1.4668 - val_loss: 8.4800 - val_mean_absolute_error: 2.0260\n",
            "Epoch 89/200\n",
            " - 0s - loss: 4.8012 - mean_absolute_error: 1.4261 - val_loss: 9.0992 - val_mean_absolute_error: 2.0182\n",
            "Epoch 90/200\n",
            " - 0s - loss: 5.2045 - mean_absolute_error: 1.5183 - val_loss: 9.3776 - val_mean_absolute_error: 2.2040\n",
            "Epoch 91/200\n",
            " - 0s - loss: 4.7798 - mean_absolute_error: 1.5009 - val_loss: 9.6995 - val_mean_absolute_error: 2.1604\n",
            "Epoch 92/200\n",
            " - 0s - loss: 4.8048 - mean_absolute_error: 1.5041 - val_loss: 8.0664 - val_mean_absolute_error: 1.9447\n",
            "Epoch 93/200\n",
            " - 0s - loss: 4.9393 - mean_absolute_error: 1.4755 - val_loss: 8.5504 - val_mean_absolute_error: 2.1028\n",
            "Epoch 94/200\n",
            " - 0s - loss: 4.9276 - mean_absolute_error: 1.3972 - val_loss: 10.0710 - val_mean_absolute_error: 2.2320\n",
            "Epoch 95/200\n",
            " - 0s - loss: 4.9531 - mean_absolute_error: 1.4554 - val_loss: 10.7962 - val_mean_absolute_error: 2.4349\n",
            "Epoch 96/200\n",
            " - 0s - loss: 4.4683 - mean_absolute_error: 1.3926 - val_loss: 8.7448 - val_mean_absolute_error: 2.0837\n",
            "Epoch 97/200\n",
            " - 0s - loss: 4.5980 - mean_absolute_error: 1.3964 - val_loss: 9.0391 - val_mean_absolute_error: 2.0567\n",
            "Epoch 98/200\n",
            " - 0s - loss: 4.5808 - mean_absolute_error: 1.3631 - val_loss: 14.5061 - val_mean_absolute_error: 2.9838\n",
            "Epoch 99/200\n",
            " - 0s - loss: 4.6455 - mean_absolute_error: 1.4098 - val_loss: 9.0084 - val_mean_absolute_error: 2.1887\n",
            "Epoch 100/200\n",
            " - 0s - loss: 4.3566 - mean_absolute_error: 1.3893 - val_loss: 8.7323 - val_mean_absolute_error: 2.0515\n",
            "Epoch 101/200\n",
            " - 0s - loss: 4.8867 - mean_absolute_error: 1.4516 - val_loss: 9.6946 - val_mean_absolute_error: 2.1680\n",
            "Epoch 102/200\n",
            " - 0s - loss: 4.4661 - mean_absolute_error: 1.3823 - val_loss: 9.3176 - val_mean_absolute_error: 2.0438\n",
            "Epoch 103/200\n",
            " - 0s - loss: 4.4542 - mean_absolute_error: 1.4464 - val_loss: 9.9695 - val_mean_absolute_error: 2.3216\n",
            "Epoch 104/200\n",
            " - 0s - loss: 4.4460 - mean_absolute_error: 1.4310 - val_loss: 11.4039 - val_mean_absolute_error: 2.5555\n",
            "Epoch 105/200\n",
            " - 0s - loss: 4.0470 - mean_absolute_error: 1.3313 - val_loss: 7.7928 - val_mean_absolute_error: 1.9248\n",
            "Epoch 106/200\n",
            " - 0s - loss: 4.3024 - mean_absolute_error: 1.3731 - val_loss: 8.8606 - val_mean_absolute_error: 2.0673\n",
            "Epoch 107/200\n",
            " - 0s - loss: 4.0590 - mean_absolute_error: 1.3326 - val_loss: 13.5080 - val_mean_absolute_error: 2.5543\n",
            "Epoch 108/200\n",
            " - 0s - loss: 3.9098 - mean_absolute_error: 1.3466 - val_loss: 9.0359 - val_mean_absolute_error: 2.1859\n",
            "Epoch 109/200\n",
            " - 0s - loss: 4.4471 - mean_absolute_error: 1.4151 - val_loss: 10.9714 - val_mean_absolute_error: 2.3194\n",
            "Epoch 110/200\n",
            " - 0s - loss: 4.3459 - mean_absolute_error: 1.3460 - val_loss: 9.5819 - val_mean_absolute_error: 2.1931\n",
            "Epoch 111/200\n",
            " - 0s - loss: 4.2463 - mean_absolute_error: 1.4543 - val_loss: 9.4286 - val_mean_absolute_error: 2.1670\n",
            "Epoch 112/200\n",
            " - 0s - loss: 4.0436 - mean_absolute_error: 1.3357 - val_loss: 10.2864 - val_mean_absolute_error: 2.3781\n",
            "Epoch 113/200\n",
            " - 0s - loss: 4.3109 - mean_absolute_error: 1.3861 - val_loss: 10.9602 - val_mean_absolute_error: 2.2985\n",
            "Epoch 114/200\n",
            " - 0s - loss: 3.7776 - mean_absolute_error: 1.3491 - val_loss: 13.8102 - val_mean_absolute_error: 2.5900\n",
            "Epoch 115/200\n",
            " - 0s - loss: 3.8585 - mean_absolute_error: 1.2893 - val_loss: 10.2556 - val_mean_absolute_error: 2.3412\n",
            "Epoch 116/200\n",
            " - 0s - loss: 3.8022 - mean_absolute_error: 1.2951 - val_loss: 12.1357 - val_mean_absolute_error: 2.3488\n",
            "Epoch 117/200\n",
            " - 0s - loss: 3.9405 - mean_absolute_error: 1.3273 - val_loss: 9.1587 - val_mean_absolute_error: 2.1584\n",
            "Epoch 118/200\n",
            " - 0s - loss: 3.6843 - mean_absolute_error: 1.2509 - val_loss: 12.4387 - val_mean_absolute_error: 2.5821\n",
            "Epoch 119/200\n",
            " - 0s - loss: 3.8337 - mean_absolute_error: 1.3239 - val_loss: 9.4588 - val_mean_absolute_error: 2.1580\n",
            "Epoch 120/200\n",
            " - 0s - loss: 3.7595 - mean_absolute_error: 1.3366 - val_loss: 11.7397 - val_mean_absolute_error: 2.4709\n",
            "Epoch 121/200\n",
            " - 0s - loss: 3.8383 - mean_absolute_error: 1.3057 - val_loss: 9.5083 - val_mean_absolute_error: 2.2680\n",
            "Epoch 122/200\n",
            " - 0s - loss: 3.7894 - mean_absolute_error: 1.3436 - val_loss: 10.0254 - val_mean_absolute_error: 2.1796\n",
            "Epoch 123/200\n",
            " - 0s - loss: 3.8629 - mean_absolute_error: 1.3092 - val_loss: 10.4309 - val_mean_absolute_error: 2.1906\n",
            "Epoch 124/200\n",
            " - 0s - loss: 4.0985 - mean_absolute_error: 1.3366 - val_loss: 8.6403 - val_mean_absolute_error: 2.0529\n",
            "Epoch 125/200\n",
            " - 0s - loss: 3.6200 - mean_absolute_error: 1.2793 - val_loss: 9.8465 - val_mean_absolute_error: 2.1366\n",
            "Epoch 126/200\n",
            " - 0s - loss: 3.9166 - mean_absolute_error: 1.3232 - val_loss: 9.2005 - val_mean_absolute_error: 2.1346\n",
            "Epoch 127/200\n",
            " - 0s - loss: 3.9086 - mean_absolute_error: 1.3188 - val_loss: 10.2943 - val_mean_absolute_error: 2.2041\n",
            "Epoch 128/200\n",
            " - 0s - loss: 3.8093 - mean_absolute_error: 1.2610 - val_loss: 10.4554 - val_mean_absolute_error: 2.2455\n",
            "Epoch 129/200\n",
            " - 0s - loss: 3.6513 - mean_absolute_error: 1.3043 - val_loss: 10.6001 - val_mean_absolute_error: 2.1685\n",
            "Epoch 130/200\n",
            " - 0s - loss: 3.4990 - mean_absolute_error: 1.2117 - val_loss: 8.3769 - val_mean_absolute_error: 2.1002\n",
            "Epoch 131/200\n",
            " - 0s - loss: 3.4719 - mean_absolute_error: 1.2805 - val_loss: 11.0300 - val_mean_absolute_error: 2.3421\n",
            "Epoch 132/200\n",
            " - 0s - loss: 3.7742 - mean_absolute_error: 1.3173 - val_loss: 9.5103 - val_mean_absolute_error: 2.1641\n",
            "Epoch 133/200\n",
            " - 0s - loss: 3.8516 - mean_absolute_error: 1.2994 - val_loss: 10.2891 - val_mean_absolute_error: 2.1788\n",
            "Epoch 134/200\n",
            " - 0s - loss: 3.7806 - mean_absolute_error: 1.2760 - val_loss: 10.3133 - val_mean_absolute_error: 2.2246\n",
            "Epoch 135/200\n",
            " - 0s - loss: 3.5439 - mean_absolute_error: 1.2965 - val_loss: 8.8963 - val_mean_absolute_error: 2.2173\n",
            "Epoch 136/200\n",
            " - 0s - loss: 3.2871 - mean_absolute_error: 1.2458 - val_loss: 9.6088 - val_mean_absolute_error: 2.3011\n",
            "Epoch 137/200\n",
            " - 0s - loss: 3.4463 - mean_absolute_error: 1.2907 - val_loss: 10.3648 - val_mean_absolute_error: 2.5120\n",
            "Epoch 138/200\n",
            " - 0s - loss: 3.3418 - mean_absolute_error: 1.2482 - val_loss: 10.5235 - val_mean_absolute_error: 2.2778\n",
            "Epoch 139/200\n",
            " - 0s - loss: 3.4164 - mean_absolute_error: 1.2380 - val_loss: 9.4811 - val_mean_absolute_error: 2.3148\n",
            "Epoch 140/200\n",
            " - 0s - loss: 3.5528 - mean_absolute_error: 1.2767 - val_loss: 9.4914 - val_mean_absolute_error: 2.2579\n",
            "Epoch 141/200\n",
            " - 0s - loss: 3.2581 - mean_absolute_error: 1.1985 - val_loss: 9.7477 - val_mean_absolute_error: 2.1336\n",
            "Epoch 142/200\n",
            " - 0s - loss: 3.1932 - mean_absolute_error: 1.2519 - val_loss: 9.4010 - val_mean_absolute_error: 2.1197\n",
            "Epoch 143/200\n",
            " - 0s - loss: 3.2957 - mean_absolute_error: 1.2311 - val_loss: 11.6720 - val_mean_absolute_error: 2.5124\n",
            "Epoch 144/200\n",
            " - 0s - loss: 3.4210 - mean_absolute_error: 1.2373 - val_loss: 12.7239 - val_mean_absolute_error: 2.4482\n",
            "Epoch 145/200\n",
            " - 0s - loss: 3.2165 - mean_absolute_error: 1.2383 - val_loss: 11.8365 - val_mean_absolute_error: 2.3344\n",
            "Epoch 146/200\n",
            " - 0s - loss: 3.4304 - mean_absolute_error: 1.2621 - val_loss: 10.9513 - val_mean_absolute_error: 2.2940\n",
            "Epoch 147/200\n",
            " - 0s - loss: 3.3865 - mean_absolute_error: 1.2125 - val_loss: 10.6201 - val_mean_absolute_error: 2.4259\n",
            "Epoch 148/200\n",
            " - 0s - loss: 2.9732 - mean_absolute_error: 1.1752 - val_loss: 14.2993 - val_mean_absolute_error: 2.6694\n",
            "Epoch 149/200\n",
            " - 0s - loss: 3.0371 - mean_absolute_error: 1.1489 - val_loss: 9.3269 - val_mean_absolute_error: 2.1437\n",
            "Epoch 150/200\n",
            " - 0s - loss: 3.3138 - mean_absolute_error: 1.2730 - val_loss: 9.7177 - val_mean_absolute_error: 2.1697\n",
            "Epoch 151/200\n",
            " - 0s - loss: 3.1332 - mean_absolute_error: 1.2090 - val_loss: 11.1368 - val_mean_absolute_error: 2.3369\n",
            "Epoch 152/200\n",
            " - 0s - loss: 3.1785 - mean_absolute_error: 1.1935 - val_loss: 9.8287 - val_mean_absolute_error: 2.2088\n",
            "Epoch 153/200\n",
            " - 0s - loss: 2.9914 - mean_absolute_error: 1.1832 - val_loss: 11.9100 - val_mean_absolute_error: 2.5231\n",
            "Epoch 154/200\n",
            " - 0s - loss: 3.5821 - mean_absolute_error: 1.2683 - val_loss: 10.4434 - val_mean_absolute_error: 2.3238\n",
            "Epoch 155/200\n",
            " - 0s - loss: 2.9225 - mean_absolute_error: 1.1383 - val_loss: 10.3517 - val_mean_absolute_error: 2.3916\n",
            "Epoch 156/200\n",
            " - 0s - loss: 2.8523 - mean_absolute_error: 1.1867 - val_loss: 9.7902 - val_mean_absolute_error: 2.2205\n",
            "Epoch 157/200\n",
            " - 0s - loss: 2.9168 - mean_absolute_error: 1.1545 - val_loss: 11.0823 - val_mean_absolute_error: 2.3026\n",
            "Epoch 158/200\n",
            " - 0s - loss: 2.9096 - mean_absolute_error: 1.1802 - val_loss: 12.6697 - val_mean_absolute_error: 2.8018\n",
            "Epoch 159/200\n",
            " - 0s - loss: 3.3717 - mean_absolute_error: 1.2057 - val_loss: 11.4168 - val_mean_absolute_error: 2.3364\n",
            "Epoch 160/200\n",
            " - 0s - loss: 2.8641 - mean_absolute_error: 1.1793 - val_loss: 11.4251 - val_mean_absolute_error: 2.1715\n",
            "Epoch 161/200\n",
            " - 0s - loss: 2.7226 - mean_absolute_error: 1.0917 - val_loss: 8.8987 - val_mean_absolute_error: 2.0881\n",
            "Epoch 162/200\n",
            " - 0s - loss: 3.1885 - mean_absolute_error: 1.1802 - val_loss: 13.7349 - val_mean_absolute_error: 2.8374\n",
            "Epoch 163/200\n",
            " - 0s - loss: 2.9849 - mean_absolute_error: 1.2380 - val_loss: 10.0137 - val_mean_absolute_error: 2.1213\n",
            "Epoch 164/200\n",
            " - 0s - loss: 2.7217 - mean_absolute_error: 1.1652 - val_loss: 11.6719 - val_mean_absolute_error: 2.2652\n",
            "Epoch 165/200\n",
            " - 0s - loss: 2.9856 - mean_absolute_error: 1.2165 - val_loss: 10.4189 - val_mean_absolute_error: 2.2190\n",
            "Epoch 166/200\n",
            " - 0s - loss: 2.7344 - mean_absolute_error: 1.1710 - val_loss: 10.6526 - val_mean_absolute_error: 2.2978\n",
            "Epoch 167/200\n",
            " - 0s - loss: 2.9582 - mean_absolute_error: 1.1845 - val_loss: 10.2443 - val_mean_absolute_error: 2.2292\n",
            "Epoch 168/200\n",
            " - 0s - loss: 2.8805 - mean_absolute_error: 1.1409 - val_loss: 10.1773 - val_mean_absolute_error: 2.2307\n",
            "Epoch 169/200\n",
            " - 0s - loss: 2.7229 - mean_absolute_error: 1.1703 - val_loss: 10.1502 - val_mean_absolute_error: 2.1686\n",
            "Epoch 170/200\n",
            " - 0s - loss: 2.6214 - mean_absolute_error: 1.1493 - val_loss: 15.4966 - val_mean_absolute_error: 2.6557\n",
            "Epoch 171/200\n",
            " - 0s - loss: 2.9335 - mean_absolute_error: 1.2011 - val_loss: 9.9145 - val_mean_absolute_error: 2.2057\n",
            "Epoch 172/200\n",
            " - 0s - loss: 2.8721 - mean_absolute_error: 1.1715 - val_loss: 11.3199 - val_mean_absolute_error: 2.3944\n",
            "Epoch 173/200\n",
            " - 0s - loss: 2.9191 - mean_absolute_error: 1.1940 - val_loss: 10.9841 - val_mean_absolute_error: 2.4292\n",
            "Epoch 174/200\n",
            " - 0s - loss: 2.6201 - mean_absolute_error: 1.1207 - val_loss: 11.8432 - val_mean_absolute_error: 2.4270\n",
            "Epoch 175/200\n",
            " - 0s - loss: 3.1048 - mean_absolute_error: 1.1558 - val_loss: 13.0274 - val_mean_absolute_error: 2.4636\n",
            "Epoch 176/200\n",
            " - 0s - loss: 2.7205 - mean_absolute_error: 1.1474 - val_loss: 10.7142 - val_mean_absolute_error: 2.2443\n",
            "Epoch 177/200\n",
            " - 0s - loss: 2.6587 - mean_absolute_error: 1.1555 - val_loss: 15.9269 - val_mean_absolute_error: 2.7058\n",
            "Epoch 178/200\n",
            " - 0s - loss: 2.6537 - mean_absolute_error: 1.0993 - val_loss: 12.9071 - val_mean_absolute_error: 2.5030\n",
            "Epoch 179/200\n",
            " - 0s - loss: 2.8135 - mean_absolute_error: 1.1605 - val_loss: 10.6960 - val_mean_absolute_error: 2.3153\n",
            "Epoch 180/200\n",
            " - 0s - loss: 2.7127 - mean_absolute_error: 1.1450 - val_loss: 9.8920 - val_mean_absolute_error: 2.1621\n",
            "Epoch 181/200\n",
            " - 0s - loss: 2.9818 - mean_absolute_error: 1.1282 - val_loss: 13.7691 - val_mean_absolute_error: 2.4297\n",
            "Epoch 182/200\n",
            " - 0s - loss: 2.4324 - mean_absolute_error: 1.0940 - val_loss: 9.7170 - val_mean_absolute_error: 2.2345\n",
            "Epoch 183/200\n",
            " - 0s - loss: 2.3111 - mean_absolute_error: 1.0969 - val_loss: 9.3944 - val_mean_absolute_error: 2.3115\n",
            "Epoch 184/200\n",
            " - 0s - loss: 2.4128 - mean_absolute_error: 1.0987 - val_loss: 12.0888 - val_mean_absolute_error: 2.3776\n",
            "Epoch 185/200\n",
            " - 0s - loss: 2.4862 - mean_absolute_error: 1.0872 - val_loss: 11.7228 - val_mean_absolute_error: 2.4556\n",
            "Epoch 186/200\n",
            " - 0s - loss: 2.6772 - mean_absolute_error: 1.1467 - val_loss: 10.1223 - val_mean_absolute_error: 2.2291\n",
            "Epoch 187/200\n",
            " - 0s - loss: 2.4392 - mean_absolute_error: 1.0881 - val_loss: 10.7194 - val_mean_absolute_error: 2.2509\n",
            "Epoch 188/200\n",
            " - 0s - loss: 2.2862 - mean_absolute_error: 1.0781 - val_loss: 10.8594 - val_mean_absolute_error: 2.4443\n",
            "Epoch 189/200\n",
            " - 0s - loss: 2.5605 - mean_absolute_error: 1.1080 - val_loss: 10.0163 - val_mean_absolute_error: 2.2109\n",
            "Epoch 190/200\n",
            " - 0s - loss: 2.2674 - mean_absolute_error: 1.0488 - val_loss: 11.0199 - val_mean_absolute_error: 2.2607\n",
            "Epoch 191/200\n",
            " - 0s - loss: 2.4778 - mean_absolute_error: 1.1393 - val_loss: 12.0377 - val_mean_absolute_error: 2.4172\n",
            "Epoch 192/200\n",
            " - 0s - loss: 2.4380 - mean_absolute_error: 1.0624 - val_loss: 10.4290 - val_mean_absolute_error: 2.3332\n",
            "Epoch 193/200\n",
            " - 0s - loss: 2.1223 - mean_absolute_error: 1.0321 - val_loss: 12.1197 - val_mean_absolute_error: 2.4469\n",
            "Epoch 194/200\n",
            " - 0s - loss: 2.2206 - mean_absolute_error: 1.0863 - val_loss: 10.7458 - val_mean_absolute_error: 2.2847\n",
            "Epoch 195/200\n",
            " - 0s - loss: 2.3661 - mean_absolute_error: 1.0586 - val_loss: 10.2782 - val_mean_absolute_error: 2.1736\n",
            "Epoch 196/200\n",
            " - 0s - loss: 2.5773 - mean_absolute_error: 1.0600 - val_loss: 10.2209 - val_mean_absolute_error: 2.2707\n",
            "Epoch 197/200\n",
            " - 0s - loss: 2.2721 - mean_absolute_error: 1.0688 - val_loss: 10.3924 - val_mean_absolute_error: 2.2908\n",
            "Epoch 198/200\n",
            " - 0s - loss: 2.5786 - mean_absolute_error: 1.1046 - val_loss: 11.2306 - val_mean_absolute_error: 2.1766\n",
            "Epoch 199/200\n",
            " - 0s - loss: 2.2171 - mean_absolute_error: 1.0550 - val_loss: 8.9080 - val_mean_absolute_error: 2.1454\n",
            "Epoch 200/200\n",
            " - 0s - loss: 2.4791 - mean_absolute_error: 1.0610 - val_loss: 12.1615 - val_mean_absolute_error: 2.5444\n",
            "processing fold # 1\n",
            "Train on 303 samples, validate on 101 samples\n",
            "Epoch 1/200\n",
            " - 1s - loss: 185.7624 - mean_absolute_error: 9.9131 - val_loss: 28.6109 - val_mean_absolute_error: 3.9963\n",
            "Epoch 2/200\n",
            " - 0s - loss: 28.4875 - mean_absolute_error: 3.4711 - val_loss: 21.3895 - val_mean_absolute_error: 3.4253\n",
            "Epoch 3/200\n",
            " - 0s - loss: 21.7706 - mean_absolute_error: 3.0168 - val_loss: 17.1556 - val_mean_absolute_error: 3.0801\n",
            "Epoch 4/200\n",
            " - 0s - loss: 17.5779 - mean_absolute_error: 2.7230 - val_loss: 14.8104 - val_mean_absolute_error: 2.8936\n",
            "Epoch 5/200\n",
            " - 0s - loss: 14.9610 - mean_absolute_error: 2.5407 - val_loss: 14.2773 - val_mean_absolute_error: 2.8477\n",
            "Epoch 6/200\n",
            " - 0s - loss: 13.9658 - mean_absolute_error: 2.4753 - val_loss: 13.6039 - val_mean_absolute_error: 2.7862\n",
            "Epoch 7/200\n",
            " - 0s - loss: 12.8915 - mean_absolute_error: 2.3792 - val_loss: 13.8171 - val_mean_absolute_error: 2.8991\n",
            "Epoch 8/200\n",
            " - 0s - loss: 11.9854 - mean_absolute_error: 2.3295 - val_loss: 12.3989 - val_mean_absolute_error: 2.7038\n",
            "Epoch 9/200\n",
            " - 0s - loss: 11.7285 - mean_absolute_error: 2.2503 - val_loss: 11.5996 - val_mean_absolute_error: 2.6806\n",
            "Epoch 10/200\n",
            " - 0s - loss: 10.2963 - mean_absolute_error: 2.2072 - val_loss: 11.9717 - val_mean_absolute_error: 2.7076\n",
            "Epoch 11/200\n",
            " - 0s - loss: 10.7241 - mean_absolute_error: 2.1936 - val_loss: 11.7796 - val_mean_absolute_error: 2.5852\n",
            "Epoch 12/200\n",
            " - 0s - loss: 10.3669 - mean_absolute_error: 2.1965 - val_loss: 12.5230 - val_mean_absolute_error: 2.7433\n",
            "Epoch 13/200\n",
            " - 0s - loss: 10.5046 - mean_absolute_error: 2.1560 - val_loss: 12.0326 - val_mean_absolute_error: 2.6798\n",
            "Epoch 14/200\n",
            " - 0s - loss: 10.1588 - mean_absolute_error: 2.0972 - val_loss: 11.8696 - val_mean_absolute_error: 2.6729\n",
            "Epoch 15/200\n",
            " - 0s - loss: 9.1023 - mean_absolute_error: 2.0530 - val_loss: 11.3094 - val_mean_absolute_error: 2.6245\n",
            "Epoch 16/200\n",
            " - 0s - loss: 9.5802 - mean_absolute_error: 2.1056 - val_loss: 10.7349 - val_mean_absolute_error: 2.5101\n",
            "Epoch 17/200\n",
            " - 0s - loss: 9.7337 - mean_absolute_error: 2.0543 - val_loss: 10.9367 - val_mean_absolute_error: 2.5732\n",
            "Epoch 18/200\n",
            " - 0s - loss: 9.4799 - mean_absolute_error: 1.9888 - val_loss: 11.7516 - val_mean_absolute_error: 2.6445\n",
            "Epoch 19/200\n",
            " - 0s - loss: 9.1872 - mean_absolute_error: 1.9954 - val_loss: 11.3833 - val_mean_absolute_error: 2.6173\n",
            "Epoch 20/200\n",
            " - 0s - loss: 8.9356 - mean_absolute_error: 1.9485 - val_loss: 12.6383 - val_mean_absolute_error: 2.7369\n",
            "Epoch 21/200\n",
            " - 0s - loss: 8.7001 - mean_absolute_error: 2.0035 - val_loss: 10.8308 - val_mean_absolute_error: 2.5542\n",
            "Epoch 22/200\n",
            " - 0s - loss: 8.4863 - mean_absolute_error: 1.9772 - val_loss: 13.4226 - val_mean_absolute_error: 2.8294\n",
            "Epoch 23/200\n",
            " - 0s - loss: 8.3054 - mean_absolute_error: 1.9157 - val_loss: 11.9368 - val_mean_absolute_error: 2.6853\n",
            "Epoch 24/200\n",
            " - 0s - loss: 8.4652 - mean_absolute_error: 1.9877 - val_loss: 11.0311 - val_mean_absolute_error: 2.5791\n",
            "Epoch 25/200\n",
            " - 0s - loss: 8.3691 - mean_absolute_error: 1.9311 - val_loss: 10.6401 - val_mean_absolute_error: 2.5289\n",
            "Epoch 26/200\n",
            " - 0s - loss: 7.5984 - mean_absolute_error: 1.8677 - val_loss: 11.7775 - val_mean_absolute_error: 2.6724\n",
            "Epoch 27/200\n",
            " - 0s - loss: 8.3677 - mean_absolute_error: 1.9402 - val_loss: 10.6308 - val_mean_absolute_error: 2.5439\n",
            "Epoch 28/200\n",
            " - 0s - loss: 8.1744 - mean_absolute_error: 1.8453 - val_loss: 13.2126 - val_mean_absolute_error: 2.8151\n",
            "Epoch 29/200\n",
            " - 0s - loss: 8.4326 - mean_absolute_error: 1.8971 - val_loss: 10.7883 - val_mean_absolute_error: 2.5528\n",
            "Epoch 30/200\n",
            " - 0s - loss: 7.8609 - mean_absolute_error: 1.8474 - val_loss: 10.9314 - val_mean_absolute_error: 2.5683\n",
            "Epoch 31/200\n",
            " - 0s - loss: 7.9852 - mean_absolute_error: 1.8689 - val_loss: 11.3091 - val_mean_absolute_error: 2.5908\n",
            "Epoch 32/200\n",
            " - 0s - loss: 7.5449 - mean_absolute_error: 1.7689 - val_loss: 10.0369 - val_mean_absolute_error: 2.3810\n",
            "Epoch 33/200\n",
            " - 0s - loss: 7.3416 - mean_absolute_error: 1.8222 - val_loss: 12.5733 - val_mean_absolute_error: 2.7314\n",
            "Epoch 34/200\n",
            " - 0s - loss: 7.4918 - mean_absolute_error: 1.8064 - val_loss: 9.9454 - val_mean_absolute_error: 2.4300\n",
            "Epoch 35/200\n",
            " - 0s - loss: 7.6413 - mean_absolute_error: 1.7630 - val_loss: 10.8835 - val_mean_absolute_error: 2.5784\n",
            "Epoch 36/200\n",
            " - 0s - loss: 7.2277 - mean_absolute_error: 1.8275 - val_loss: 10.5058 - val_mean_absolute_error: 2.5161\n",
            "Epoch 37/200\n",
            " - 0s - loss: 7.1504 - mean_absolute_error: 1.7840 - val_loss: 9.3598 - val_mean_absolute_error: 2.3417\n",
            "Epoch 38/200\n",
            " - 0s - loss: 7.0269 - mean_absolute_error: 1.7615 - val_loss: 10.4797 - val_mean_absolute_error: 2.5194\n",
            "Epoch 39/200\n",
            " - 0s - loss: 6.7820 - mean_absolute_error: 1.6788 - val_loss: 9.3987 - val_mean_absolute_error: 2.3606\n",
            "Epoch 40/200\n",
            " - 0s - loss: 6.7774 - mean_absolute_error: 1.7364 - val_loss: 11.0943 - val_mean_absolute_error: 2.5865\n",
            "Epoch 41/200\n",
            " - 0s - loss: 6.4677 - mean_absolute_error: 1.7451 - val_loss: 9.8638 - val_mean_absolute_error: 2.4668\n",
            "Epoch 42/200\n",
            " - 0s - loss: 7.0071 - mean_absolute_error: 1.7088 - val_loss: 10.1303 - val_mean_absolute_error: 2.4726\n",
            "Epoch 43/200\n",
            " - 0s - loss: 6.8912 - mean_absolute_error: 1.6980 - val_loss: 9.4477 - val_mean_absolute_error: 2.3713\n",
            "Epoch 44/200\n",
            " - 0s - loss: 6.6656 - mean_absolute_error: 1.6534 - val_loss: 10.1418 - val_mean_absolute_error: 2.4520\n",
            "Epoch 45/200\n",
            " - 0s - loss: 6.3915 - mean_absolute_error: 1.6420 - val_loss: 10.8087 - val_mean_absolute_error: 2.5517\n",
            "Epoch 46/200\n",
            " - 0s - loss: 6.4442 - mean_absolute_error: 1.6663 - val_loss: 11.0902 - val_mean_absolute_error: 2.6139\n",
            "Epoch 47/200\n",
            " - 0s - loss: 6.4365 - mean_absolute_error: 1.6676 - val_loss: 12.0578 - val_mean_absolute_error: 2.6410\n",
            "Epoch 48/200\n",
            " - 0s - loss: 6.0339 - mean_absolute_error: 1.6944 - val_loss: 9.4775 - val_mean_absolute_error: 2.3611\n",
            "Epoch 49/200\n",
            " - 0s - loss: 5.9690 - mean_absolute_error: 1.5903 - val_loss: 10.1803 - val_mean_absolute_error: 2.4842\n",
            "Epoch 50/200\n",
            " - 0s - loss: 6.3027 - mean_absolute_error: 1.6986 - val_loss: 9.1089 - val_mean_absolute_error: 2.3645\n",
            "Epoch 51/200\n",
            " - 0s - loss: 6.2490 - mean_absolute_error: 1.5728 - val_loss: 11.2911 - val_mean_absolute_error: 2.5072\n",
            "Epoch 52/200\n",
            " - 0s - loss: 6.1957 - mean_absolute_error: 1.6774 - val_loss: 9.7439 - val_mean_absolute_error: 2.3909\n",
            "Epoch 53/200\n",
            " - 0s - loss: 5.9298 - mean_absolute_error: 1.6382 - val_loss: 10.2324 - val_mean_absolute_error: 2.5050\n",
            "Epoch 54/200\n",
            " - 0s - loss: 6.1744 - mean_absolute_error: 1.5969 - val_loss: 9.8165 - val_mean_absolute_error: 2.4233\n",
            "Epoch 55/200\n",
            " - 0s - loss: 5.7521 - mean_absolute_error: 1.5666 - val_loss: 9.1334 - val_mean_absolute_error: 2.2784\n",
            "Epoch 56/200\n",
            " - 0s - loss: 5.6128 - mean_absolute_error: 1.5336 - val_loss: 12.1032 - val_mean_absolute_error: 2.5996\n",
            "Epoch 57/200\n",
            " - 0s - loss: 5.4929 - mean_absolute_error: 1.6203 - val_loss: 10.5504 - val_mean_absolute_error: 2.4652\n",
            "Epoch 58/200\n",
            " - 0s - loss: 5.5543 - mean_absolute_error: 1.6345 - val_loss: 10.8138 - val_mean_absolute_error: 2.5605\n",
            "Epoch 59/200\n",
            " - 0s - loss: 5.6668 - mean_absolute_error: 1.5718 - val_loss: 12.3994 - val_mean_absolute_error: 2.7037\n",
            "Epoch 60/200\n",
            " - 0s - loss: 5.3989 - mean_absolute_error: 1.4926 - val_loss: 10.4013 - val_mean_absolute_error: 2.4659\n",
            "Epoch 61/200\n",
            " - 0s - loss: 5.0293 - mean_absolute_error: 1.4964 - val_loss: 13.1810 - val_mean_absolute_error: 2.6855\n",
            "Epoch 62/200\n",
            " - 0s - loss: 5.6258 - mean_absolute_error: 1.5924 - val_loss: 11.0625 - val_mean_absolute_error: 2.5007\n",
            "Epoch 63/200\n",
            " - 0s - loss: 4.9576 - mean_absolute_error: 1.5622 - val_loss: 10.1510 - val_mean_absolute_error: 2.4503\n",
            "Epoch 64/200\n",
            " - 0s - loss: 5.4766 - mean_absolute_error: 1.5551 - val_loss: 11.0159 - val_mean_absolute_error: 2.4411\n",
            "Epoch 65/200\n",
            " - 0s - loss: 5.0445 - mean_absolute_error: 1.5008 - val_loss: 11.5697 - val_mean_absolute_error: 2.4910\n",
            "Epoch 66/200\n",
            " - 0s - loss: 5.2091 - mean_absolute_error: 1.5573 - val_loss: 12.0798 - val_mean_absolute_error: 2.6283\n",
            "Epoch 67/200\n",
            " - 0s - loss: 5.0794 - mean_absolute_error: 1.4976 - val_loss: 9.8337 - val_mean_absolute_error: 2.3343\n",
            "Epoch 68/200\n",
            " - 0s - loss: 4.6346 - mean_absolute_error: 1.4648 - val_loss: 11.3865 - val_mean_absolute_error: 2.4721\n",
            "Epoch 69/200\n",
            " - 0s - loss: 4.8774 - mean_absolute_error: 1.4649 - val_loss: 13.2242 - val_mean_absolute_error: 2.6189\n",
            "Epoch 70/200\n",
            " - 0s - loss: 4.8352 - mean_absolute_error: 1.4929 - val_loss: 10.4369 - val_mean_absolute_error: 2.4360\n",
            "Epoch 71/200\n",
            " - 0s - loss: 4.6774 - mean_absolute_error: 1.4549 - val_loss: 11.9079 - val_mean_absolute_error: 2.6023\n",
            "Epoch 72/200\n",
            " - 0s - loss: 4.4416 - mean_absolute_error: 1.4918 - val_loss: 11.7087 - val_mean_absolute_error: 2.5618\n",
            "Epoch 73/200\n",
            " - 0s - loss: 4.4124 - mean_absolute_error: 1.4753 - val_loss: 14.2605 - val_mean_absolute_error: 2.8395\n",
            "Epoch 74/200\n",
            " - 0s - loss: 4.5913 - mean_absolute_error: 1.4524 - val_loss: 11.9494 - val_mean_absolute_error: 2.5373\n",
            "Epoch 75/200\n",
            " - 0s - loss: 4.6401 - mean_absolute_error: 1.4656 - val_loss: 10.2509 - val_mean_absolute_error: 2.4531\n",
            "Epoch 76/200\n",
            " - 0s - loss: 4.3101 - mean_absolute_error: 1.3983 - val_loss: 12.1836 - val_mean_absolute_error: 2.5937\n",
            "Epoch 77/200\n",
            " - 0s - loss: 4.5700 - mean_absolute_error: 1.4542 - val_loss: 10.9566 - val_mean_absolute_error: 2.4952\n",
            "Epoch 78/200\n",
            " - 0s - loss: 4.1386 - mean_absolute_error: 1.3565 - val_loss: 10.1635 - val_mean_absolute_error: 2.3160\n",
            "Epoch 79/200\n",
            " - 0s - loss: 4.3194 - mean_absolute_error: 1.3999 - val_loss: 12.3396 - val_mean_absolute_error: 2.5400\n",
            "Epoch 80/200\n",
            " - 0s - loss: 4.2679 - mean_absolute_error: 1.3992 - val_loss: 10.8979 - val_mean_absolute_error: 2.4250\n",
            "Epoch 81/200\n",
            " - 0s - loss: 4.0607 - mean_absolute_error: 1.3259 - val_loss: 10.4779 - val_mean_absolute_error: 2.3960\n",
            "Epoch 82/200\n",
            " - 0s - loss: 4.0397 - mean_absolute_error: 1.2973 - val_loss: 9.7580 - val_mean_absolute_error: 2.3361\n",
            "Epoch 83/200\n",
            " - 0s - loss: 4.1308 - mean_absolute_error: 1.4020 - val_loss: 13.5283 - val_mean_absolute_error: 2.6044\n",
            "Epoch 84/200\n",
            " - 0s - loss: 3.8056 - mean_absolute_error: 1.3366 - val_loss: 10.5176 - val_mean_absolute_error: 2.4263\n",
            "Epoch 85/200\n",
            " - 0s - loss: 3.9127 - mean_absolute_error: 1.3306 - val_loss: 13.3324 - val_mean_absolute_error: 2.5660\n",
            "Epoch 86/200\n",
            " - 0s - loss: 3.9098 - mean_absolute_error: 1.3145 - val_loss: 12.5501 - val_mean_absolute_error: 2.5506\n",
            "Epoch 87/200\n",
            " - 0s - loss: 4.0773 - mean_absolute_error: 1.3592 - val_loss: 10.9643 - val_mean_absolute_error: 2.4868\n",
            "Epoch 88/200\n",
            " - 0s - loss: 3.8676 - mean_absolute_error: 1.3731 - val_loss: 13.6896 - val_mean_absolute_error: 2.5801\n",
            "Epoch 89/200\n",
            " - 0s - loss: 3.9827 - mean_absolute_error: 1.3330 - val_loss: 10.7488 - val_mean_absolute_error: 2.4216\n",
            "Epoch 90/200\n",
            " - 0s - loss: 3.7999 - mean_absolute_error: 1.3955 - val_loss: 11.7719 - val_mean_absolute_error: 2.5484\n",
            "Epoch 91/200\n",
            " - 0s - loss: 3.8247 - mean_absolute_error: 1.3040 - val_loss: 13.6003 - val_mean_absolute_error: 2.5896\n",
            "Epoch 92/200\n",
            " - 0s - loss: 4.1156 - mean_absolute_error: 1.3488 - val_loss: 16.5473 - val_mean_absolute_error: 2.7695\n",
            "Epoch 93/200\n",
            " - 0s - loss: 3.3760 - mean_absolute_error: 1.2934 - val_loss: 13.8339 - val_mean_absolute_error: 2.6426\n",
            "Epoch 94/200\n",
            " - 0s - loss: 3.6346 - mean_absolute_error: 1.3170 - val_loss: 15.1470 - val_mean_absolute_error: 2.8129\n",
            "Epoch 95/200\n",
            " - 0s - loss: 3.8035 - mean_absolute_error: 1.2997 - val_loss: 14.9039 - val_mean_absolute_error: 2.5850\n",
            "Epoch 96/200\n",
            " - 0s - loss: 3.7572 - mean_absolute_error: 1.3086 - val_loss: 12.4692 - val_mean_absolute_error: 2.5293\n",
            "Epoch 97/200\n",
            " - 0s - loss: 3.7604 - mean_absolute_error: 1.3600 - val_loss: 13.5073 - val_mean_absolute_error: 2.5608\n",
            "Epoch 98/200\n",
            " - 0s - loss: 3.6096 - mean_absolute_error: 1.3402 - val_loss: 12.4064 - val_mean_absolute_error: 2.5430\n",
            "Epoch 99/200\n",
            " - 0s - loss: 3.6689 - mean_absolute_error: 1.2906 - val_loss: 14.9041 - val_mean_absolute_error: 2.6563\n",
            "Epoch 100/200\n",
            " - 0s - loss: 3.3753 - mean_absolute_error: 1.2953 - val_loss: 14.0239 - val_mean_absolute_error: 2.6311\n",
            "Epoch 101/200\n",
            " - 0s - loss: 3.5762 - mean_absolute_error: 1.2973 - val_loss: 13.9285 - val_mean_absolute_error: 2.5526\n",
            "Epoch 102/200\n",
            " - 0s - loss: 3.5766 - mean_absolute_error: 1.2767 - val_loss: 15.5626 - val_mean_absolute_error: 2.7111\n",
            "Epoch 103/200\n",
            " - 0s - loss: 3.5988 - mean_absolute_error: 1.2503 - val_loss: 17.4556 - val_mean_absolute_error: 2.7638\n",
            "Epoch 104/200\n",
            " - 0s - loss: 3.1936 - mean_absolute_error: 1.2795 - val_loss: 13.3709 - val_mean_absolute_error: 2.5425\n",
            "Epoch 105/200\n",
            " - 0s - loss: 3.1087 - mean_absolute_error: 1.2206 - val_loss: 17.8939 - val_mean_absolute_error: 2.8474\n",
            "Epoch 106/200\n",
            " - 0s - loss: 3.1879 - mean_absolute_error: 1.2351 - val_loss: 19.8058 - val_mean_absolute_error: 3.1211\n",
            "Epoch 107/200\n",
            " - 0s - loss: 3.4353 - mean_absolute_error: 1.2568 - val_loss: 17.7166 - val_mean_absolute_error: 2.8781\n",
            "Epoch 108/200\n",
            " - 0s - loss: 3.2339 - mean_absolute_error: 1.2725 - val_loss: 14.1801 - val_mean_absolute_error: 2.6198\n",
            "Epoch 109/200\n",
            " - 0s - loss: 3.1810 - mean_absolute_error: 1.2137 - val_loss: 16.0218 - val_mean_absolute_error: 2.6604\n",
            "Epoch 110/200\n",
            " - 0s - loss: 3.1483 - mean_absolute_error: 1.2298 - val_loss: 14.6171 - val_mean_absolute_error: 2.4906\n",
            "Epoch 111/200\n",
            " - 0s - loss: 3.2186 - mean_absolute_error: 1.2138 - val_loss: 15.3587 - val_mean_absolute_error: 2.7240\n",
            "Epoch 112/200\n",
            " - 0s - loss: 3.0850 - mean_absolute_error: 1.2298 - val_loss: 14.2970 - val_mean_absolute_error: 2.5017\n",
            "Epoch 113/200\n",
            " - 0s - loss: 3.0178 - mean_absolute_error: 1.2336 - val_loss: 20.3317 - val_mean_absolute_error: 2.9111\n",
            "Epoch 114/200\n",
            " - 0s - loss: 2.8512 - mean_absolute_error: 1.1558 - val_loss: 15.6581 - val_mean_absolute_error: 2.5952\n",
            "Epoch 115/200\n",
            " - 0s - loss: 3.0278 - mean_absolute_error: 1.2269 - val_loss: 16.3323 - val_mean_absolute_error: 2.6425\n",
            "Epoch 116/200\n",
            " - 0s - loss: 2.9433 - mean_absolute_error: 1.1689 - val_loss: 16.7450 - val_mean_absolute_error: 2.6367\n",
            "Epoch 117/200\n",
            " - 0s - loss: 3.0544 - mean_absolute_error: 1.2024 - val_loss: 17.0059 - val_mean_absolute_error: 2.7668\n",
            "Epoch 118/200\n",
            " - 0s - loss: 2.9711 - mean_absolute_error: 1.1821 - val_loss: 21.3511 - val_mean_absolute_error: 2.9703\n",
            "Epoch 119/200\n",
            " - 0s - loss: 2.8765 - mean_absolute_error: 1.2151 - val_loss: 15.0727 - val_mean_absolute_error: 2.7045\n",
            "Epoch 120/200\n",
            " - 0s - loss: 2.8822 - mean_absolute_error: 1.2081 - val_loss: 16.4265 - val_mean_absolute_error: 2.7861\n",
            "Epoch 121/200\n",
            " - 0s - loss: 2.9558 - mean_absolute_error: 1.1659 - val_loss: 15.3808 - val_mean_absolute_error: 2.5741\n",
            "Epoch 122/200\n",
            " - 0s - loss: 2.8907 - mean_absolute_error: 1.2200 - val_loss: 16.4771 - val_mean_absolute_error: 2.7093\n",
            "Epoch 123/200\n",
            " - 0s - loss: 2.7339 - mean_absolute_error: 1.1489 - val_loss: 21.5117 - val_mean_absolute_error: 3.0507\n",
            "Epoch 124/200\n",
            " - 0s - loss: 3.0533 - mean_absolute_error: 1.2093 - val_loss: 13.8802 - val_mean_absolute_error: 2.4765\n",
            "Epoch 125/200\n",
            " - 0s - loss: 2.7315 - mean_absolute_error: 1.1493 - val_loss: 18.0652 - val_mean_absolute_error: 2.7555\n",
            "Epoch 126/200\n",
            " - 0s - loss: 2.7733 - mean_absolute_error: 1.1391 - val_loss: 18.7678 - val_mean_absolute_error: 2.8121\n",
            "Epoch 127/200\n",
            " - 0s - loss: 2.6194 - mean_absolute_error: 1.1832 - val_loss: 18.7537 - val_mean_absolute_error: 2.7800\n",
            "Epoch 128/200\n",
            " - 0s - loss: 2.7580 - mean_absolute_error: 1.1627 - val_loss: 18.4180 - val_mean_absolute_error: 2.7210\n",
            "Epoch 129/200\n",
            " - 0s - loss: 2.5710 - mean_absolute_error: 1.0943 - val_loss: 16.4513 - val_mean_absolute_error: 2.6134\n",
            "Epoch 130/200\n",
            " - 0s - loss: 2.7167 - mean_absolute_error: 1.1878 - val_loss: 20.5721 - val_mean_absolute_error: 2.9096\n",
            "Epoch 131/200\n",
            " - 0s - loss: 2.6528 - mean_absolute_error: 1.1576 - val_loss: 14.6328 - val_mean_absolute_error: 2.6084\n",
            "Epoch 132/200\n",
            " - 0s - loss: 2.8356 - mean_absolute_error: 1.1835 - val_loss: 17.7125 - val_mean_absolute_error: 2.6852\n",
            "Epoch 133/200\n",
            " - 0s - loss: 2.5583 - mean_absolute_error: 1.1326 - val_loss: 28.4899 - val_mean_absolute_error: 3.5354\n",
            "Epoch 134/200\n",
            " - 0s - loss: 2.4750 - mean_absolute_error: 1.1642 - val_loss: 18.1422 - val_mean_absolute_error: 2.8542\n",
            "Epoch 135/200\n",
            " - 0s - loss: 2.5072 - mean_absolute_error: 1.1787 - val_loss: 18.3256 - val_mean_absolute_error: 2.7962\n",
            "Epoch 136/200\n",
            " - 0s - loss: 2.5614 - mean_absolute_error: 1.1376 - val_loss: 19.7402 - val_mean_absolute_error: 2.8361\n",
            "Epoch 137/200\n",
            " - 0s - loss: 2.5083 - mean_absolute_error: 1.1383 - val_loss: 20.6535 - val_mean_absolute_error: 2.9229\n",
            "Epoch 138/200\n",
            " - 0s - loss: 2.3110 - mean_absolute_error: 1.0747 - val_loss: 17.8397 - val_mean_absolute_error: 2.6880\n",
            "Epoch 139/200\n",
            " - 0s - loss: 2.4927 - mean_absolute_error: 1.1050 - val_loss: 19.7971 - val_mean_absolute_error: 2.7340\n",
            "Epoch 140/200\n",
            " - 0s - loss: 2.1984 - mean_absolute_error: 1.0307 - val_loss: 18.5116 - val_mean_absolute_error: 2.8872\n",
            "Epoch 141/200\n",
            " - 0s - loss: 2.7312 - mean_absolute_error: 1.0984 - val_loss: 17.3746 - val_mean_absolute_error: 2.6525\n",
            "Epoch 142/200\n",
            " - 0s - loss: 2.5161 - mean_absolute_error: 1.0814 - val_loss: 19.0383 - val_mean_absolute_error: 2.9032\n",
            "Epoch 143/200\n",
            " - 0s - loss: 2.3716 - mean_absolute_error: 1.0947 - val_loss: 23.0720 - val_mean_absolute_error: 2.8742\n",
            "Epoch 144/200\n",
            " - 0s - loss: 2.3790 - mean_absolute_error: 1.0771 - val_loss: 19.0590 - val_mean_absolute_error: 2.7445\n",
            "Epoch 145/200\n",
            " - 0s - loss: 2.4107 - mean_absolute_error: 1.0890 - val_loss: 22.1830 - val_mean_absolute_error: 2.8851\n",
            "Epoch 146/200\n",
            " - 0s - loss: 2.0105 - mean_absolute_error: 1.0340 - val_loss: 17.9097 - val_mean_absolute_error: 2.5349\n",
            "Epoch 147/200\n",
            " - 0s - loss: 2.7549 - mean_absolute_error: 1.1830 - val_loss: 19.8445 - val_mean_absolute_error: 2.7774\n",
            "Epoch 148/200\n",
            " - 0s - loss: 2.2164 - mean_absolute_error: 1.0030 - val_loss: 20.8976 - val_mean_absolute_error: 2.8349\n",
            "Epoch 149/200\n",
            " - 0s - loss: 2.2242 - mean_absolute_error: 1.0599 - val_loss: 18.1227 - val_mean_absolute_error: 2.6232\n",
            "Epoch 150/200\n",
            " - 0s - loss: 2.5009 - mean_absolute_error: 1.1294 - val_loss: 21.6948 - val_mean_absolute_error: 2.8656\n",
            "Epoch 151/200\n",
            " - 0s - loss: 2.4964 - mean_absolute_error: 1.0773 - val_loss: 22.3779 - val_mean_absolute_error: 2.9605\n",
            "Epoch 152/200\n",
            " - 0s - loss: 2.2897 - mean_absolute_error: 1.0814 - val_loss: 20.5951 - val_mean_absolute_error: 2.7430\n",
            "Epoch 153/200\n",
            " - 0s - loss: 2.2701 - mean_absolute_error: 1.0835 - val_loss: 20.1738 - val_mean_absolute_error: 2.6784\n",
            "Epoch 154/200\n",
            " - 0s - loss: 2.2362 - mean_absolute_error: 1.0619 - val_loss: 19.5522 - val_mean_absolute_error: 2.6805\n",
            "Epoch 155/200\n",
            " - 0s - loss: 2.1953 - mean_absolute_error: 1.0478 - val_loss: 19.9145 - val_mean_absolute_error: 2.6676\n",
            "Epoch 156/200\n",
            " - 0s - loss: 2.3544 - mean_absolute_error: 1.0088 - val_loss: 20.1850 - val_mean_absolute_error: 2.6899\n",
            "Epoch 157/200\n",
            " - 0s - loss: 2.2334 - mean_absolute_error: 1.0740 - val_loss: 18.2696 - val_mean_absolute_error: 2.7067\n",
            "Epoch 158/200\n",
            " - 0s - loss: 2.0391 - mean_absolute_error: 1.0311 - val_loss: 21.0289 - val_mean_absolute_error: 2.8809\n",
            "Epoch 159/200\n",
            " - 0s - loss: 2.2090 - mean_absolute_error: 1.1020 - val_loss: 21.3616 - val_mean_absolute_error: 2.8475\n",
            "Epoch 160/200\n",
            " - 0s - loss: 2.2520 - mean_absolute_error: 1.0342 - val_loss: 16.3003 - val_mean_absolute_error: 2.5227\n",
            "Epoch 161/200\n",
            " - 0s - loss: 2.2225 - mean_absolute_error: 1.0398 - val_loss: 20.5593 - val_mean_absolute_error: 2.7294\n",
            "Epoch 162/200\n",
            " - 0s - loss: 2.3725 - mean_absolute_error: 1.0570 - val_loss: 19.2167 - val_mean_absolute_error: 2.6889\n",
            "Epoch 163/200\n",
            " - 0s - loss: 2.0930 - mean_absolute_error: 1.0812 - val_loss: 28.7099 - val_mean_absolute_error: 3.2803\n",
            "Epoch 164/200\n",
            " - 0s - loss: 2.1541 - mean_absolute_error: 1.0360 - val_loss: 22.4709 - val_mean_absolute_error: 2.8969\n",
            "Epoch 165/200\n",
            " - 0s - loss: 2.1669 - mean_absolute_error: 1.0346 - val_loss: 15.7658 - val_mean_absolute_error: 2.5447\n",
            "Epoch 166/200\n",
            " - 0s - loss: 2.0684 - mean_absolute_error: 1.0505 - val_loss: 21.6407 - val_mean_absolute_error: 2.7536\n",
            "Epoch 167/200\n",
            " - 0s - loss: 2.0812 - mean_absolute_error: 0.9878 - val_loss: 26.0622 - val_mean_absolute_error: 2.9953\n",
            "Epoch 168/200\n",
            " - 0s - loss: 1.9614 - mean_absolute_error: 0.9994 - val_loss: 25.0792 - val_mean_absolute_error: 2.9255\n",
            "Epoch 169/200\n",
            " - 0s - loss: 2.1757 - mean_absolute_error: 1.0640 - val_loss: 20.6318 - val_mean_absolute_error: 2.7628\n",
            "Epoch 170/200\n",
            " - 0s - loss: 1.8684 - mean_absolute_error: 0.9980 - val_loss: 25.7716 - val_mean_absolute_error: 3.0960\n",
            "Epoch 171/200\n",
            " - 0s - loss: 2.0736 - mean_absolute_error: 1.0497 - val_loss: 24.3558 - val_mean_absolute_error: 3.1016\n",
            "Epoch 172/200\n",
            " - 0s - loss: 2.1610 - mean_absolute_error: 1.0573 - val_loss: 22.8515 - val_mean_absolute_error: 2.8829\n",
            "Epoch 173/200\n",
            " - 0s - loss: 1.9367 - mean_absolute_error: 1.0418 - val_loss: 25.9163 - val_mean_absolute_error: 3.0703\n",
            "Epoch 174/200\n",
            " - 0s - loss: 2.0411 - mean_absolute_error: 1.0329 - val_loss: 23.8467 - val_mean_absolute_error: 2.7902\n",
            "Epoch 175/200\n",
            " - 0s - loss: 2.0024 - mean_absolute_error: 1.0419 - val_loss: 19.8914 - val_mean_absolute_error: 2.7568\n",
            "Epoch 176/200\n",
            " - 0s - loss: 2.1874 - mean_absolute_error: 1.0234 - val_loss: 22.8976 - val_mean_absolute_error: 2.7416\n",
            "Epoch 177/200\n",
            " - 0s - loss: 2.0200 - mean_absolute_error: 1.0238 - val_loss: 29.7602 - val_mean_absolute_error: 3.1959\n",
            "Epoch 178/200\n",
            " - 0s - loss: 1.8489 - mean_absolute_error: 1.0249 - val_loss: 22.2968 - val_mean_absolute_error: 2.8473\n",
            "Epoch 179/200\n",
            " - 0s - loss: 1.9148 - mean_absolute_error: 1.0113 - val_loss: 36.6766 - val_mean_absolute_error: 3.6565\n",
            "Epoch 180/200\n",
            " - 0s - loss: 1.9871 - mean_absolute_error: 0.9972 - val_loss: 24.4571 - val_mean_absolute_error: 3.0131\n",
            "Epoch 181/200\n",
            " - 0s - loss: 1.8940 - mean_absolute_error: 0.9622 - val_loss: 25.1818 - val_mean_absolute_error: 2.9544\n",
            "Epoch 182/200\n",
            " - 0s - loss: 1.9936 - mean_absolute_error: 1.0671 - val_loss: 26.2827 - val_mean_absolute_error: 3.0094\n",
            "Epoch 183/200\n",
            " - 0s - loss: 1.9063 - mean_absolute_error: 0.9760 - val_loss: 25.1366 - val_mean_absolute_error: 3.0107\n",
            "Epoch 184/200\n",
            " - 0s - loss: 1.8250 - mean_absolute_error: 0.9788 - val_loss: 22.3987 - val_mean_absolute_error: 2.8125\n",
            "Epoch 185/200\n",
            " - 0s - loss: 1.8499 - mean_absolute_error: 0.9768 - val_loss: 28.9370 - val_mean_absolute_error: 2.9792\n",
            "Epoch 186/200\n",
            " - 0s - loss: 1.9614 - mean_absolute_error: 0.9860 - val_loss: 22.3388 - val_mean_absolute_error: 2.8210\n",
            "Epoch 187/200\n",
            " - 0s - loss: 1.7395 - mean_absolute_error: 0.9593 - val_loss: 25.1043 - val_mean_absolute_error: 2.9475\n",
            "Epoch 188/200\n",
            " - 0s - loss: 1.8580 - mean_absolute_error: 1.0017 - val_loss: 33.5500 - val_mean_absolute_error: 3.4553\n",
            "Epoch 189/200\n",
            " - 0s - loss: 1.9008 - mean_absolute_error: 0.9954 - val_loss: 26.2025 - val_mean_absolute_error: 3.0711\n",
            "Epoch 190/200\n",
            " - 0s - loss: 1.8914 - mean_absolute_error: 0.9668 - val_loss: 21.8987 - val_mean_absolute_error: 2.9720\n",
            "Epoch 191/200\n",
            " - 0s - loss: 1.7746 - mean_absolute_error: 0.9963 - val_loss: 27.8011 - val_mean_absolute_error: 3.0847\n",
            "Epoch 192/200\n",
            " - 0s - loss: 1.7843 - mean_absolute_error: 0.9679 - val_loss: 28.4556 - val_mean_absolute_error: 3.2132\n",
            "Epoch 193/200\n",
            " - 0s - loss: 1.7168 - mean_absolute_error: 0.9726 - val_loss: 22.1373 - val_mean_absolute_error: 2.8562\n",
            "Epoch 194/200\n",
            " - 0s - loss: 1.7462 - mean_absolute_error: 0.9594 - val_loss: 25.1759 - val_mean_absolute_error: 2.9367\n",
            "Epoch 195/200\n",
            " - 0s - loss: 1.7746 - mean_absolute_error: 0.9702 - val_loss: 20.8387 - val_mean_absolute_error: 2.8246\n",
            "Epoch 196/200\n",
            " - 0s - loss: 1.7571 - mean_absolute_error: 0.9523 - val_loss: 22.2256 - val_mean_absolute_error: 2.8639\n",
            "Epoch 197/200\n",
            " - 0s - loss: 1.7337 - mean_absolute_error: 0.9655 - val_loss: 24.9601 - val_mean_absolute_error: 2.9862\n",
            "Epoch 198/200\n",
            " - 0s - loss: 1.5397 - mean_absolute_error: 0.8987 - val_loss: 24.3493 - val_mean_absolute_error: 3.0297\n",
            "Epoch 199/200\n",
            " - 0s - loss: 1.7787 - mean_absolute_error: 0.9739 - val_loss: 23.5342 - val_mean_absolute_error: 2.8312\n",
            "Epoch 200/200\n",
            " - 0s - loss: 1.7554 - mean_absolute_error: 0.9475 - val_loss: 24.1335 - val_mean_absolute_error: 2.9293\n",
            "processing fold # 2\n",
            "Train on 303 samples, validate on 101 samples\n",
            "Epoch 1/200\n",
            " - 1s - loss: 197.8580 - mean_absolute_error: 10.2734 - val_loss: 30.0050 - val_mean_absolute_error: 3.7854\n",
            "Epoch 2/200\n",
            " - 0s - loss: 25.7298 - mean_absolute_error: 3.4956 - val_loss: 21.0290 - val_mean_absolute_error: 3.1788\n",
            "Epoch 3/200\n",
            " - 0s - loss: 17.5903 - mean_absolute_error: 2.8577 - val_loss: 17.3614 - val_mean_absolute_error: 2.7570\n",
            "Epoch 4/200\n",
            " - 0s - loss: 13.8524 - mean_absolute_error: 2.6178 - val_loss: 17.1080 - val_mean_absolute_error: 2.7474\n",
            "Epoch 5/200\n",
            " - 0s - loss: 12.7322 - mean_absolute_error: 2.5409 - val_loss: 14.0068 - val_mean_absolute_error: 2.4597\n",
            "Epoch 6/200\n",
            " - 0s - loss: 11.2426 - mean_absolute_error: 2.4007 - val_loss: 15.5595 - val_mean_absolute_error: 2.3858\n",
            "Epoch 7/200\n",
            " - 0s - loss: 11.4871 - mean_absolute_error: 2.3493 - val_loss: 13.7020 - val_mean_absolute_error: 2.4368\n",
            "Epoch 8/200\n",
            " - 0s - loss: 10.8583 - mean_absolute_error: 2.2783 - val_loss: 15.0427 - val_mean_absolute_error: 2.3977\n",
            "Epoch 9/200\n",
            " - 0s - loss: 9.9736 - mean_absolute_error: 2.1923 - val_loss: 14.2286 - val_mean_absolute_error: 2.3554\n",
            "Epoch 10/200\n",
            " - 0s - loss: 9.7319 - mean_absolute_error: 2.1285 - val_loss: 13.7354 - val_mean_absolute_error: 2.5556\n",
            "Epoch 11/200\n",
            " - 0s - loss: 9.3168 - mean_absolute_error: 2.0316 - val_loss: 14.4066 - val_mean_absolute_error: 2.5497\n",
            "Epoch 12/200\n",
            " - 0s - loss: 9.1679 - mean_absolute_error: 2.0763 - val_loss: 14.2081 - val_mean_absolute_error: 2.3869\n",
            "Epoch 13/200\n",
            " - 0s - loss: 8.7517 - mean_absolute_error: 2.0710 - val_loss: 13.0021 - val_mean_absolute_error: 2.3005\n",
            "Epoch 14/200\n",
            " - 0s - loss: 8.7779 - mean_absolute_error: 2.0339 - val_loss: 13.7357 - val_mean_absolute_error: 2.3221\n",
            "Epoch 15/200\n",
            " - 0s - loss: 8.2741 - mean_absolute_error: 1.9618 - val_loss: 13.9474 - val_mean_absolute_error: 2.3232\n",
            "Epoch 16/200\n",
            " - 0s - loss: 8.0265 - mean_absolute_error: 1.9132 - val_loss: 13.8434 - val_mean_absolute_error: 2.4404\n",
            "Epoch 17/200\n",
            " - 0s - loss: 7.8821 - mean_absolute_error: 1.9142 - val_loss: 13.0128 - val_mean_absolute_error: 2.3002\n",
            "Epoch 18/200\n",
            " - 0s - loss: 7.2991 - mean_absolute_error: 1.8527 - val_loss: 13.7675 - val_mean_absolute_error: 2.4990\n",
            "Epoch 19/200\n",
            " - 0s - loss: 7.3123 - mean_absolute_error: 1.8306 - val_loss: 12.8421 - val_mean_absolute_error: 2.3108\n",
            "Epoch 20/200\n",
            " - 0s - loss: 7.0954 - mean_absolute_error: 1.7955 - val_loss: 14.2391 - val_mean_absolute_error: 2.3766\n",
            "Epoch 21/200\n",
            " - 0s - loss: 7.4531 - mean_absolute_error: 1.8619 - val_loss: 13.4994 - val_mean_absolute_error: 2.4292\n",
            "Epoch 22/200\n",
            " - 0s - loss: 6.9909 - mean_absolute_error: 1.8111 - val_loss: 13.5997 - val_mean_absolute_error: 2.3917\n",
            "Epoch 23/200\n",
            " - 0s - loss: 7.0301 - mean_absolute_error: 1.7947 - val_loss: 13.4778 - val_mean_absolute_error: 2.2568\n",
            "Epoch 24/200\n",
            " - 0s - loss: 6.7192 - mean_absolute_error: 1.8179 - val_loss: 13.9628 - val_mean_absolute_error: 2.3823\n",
            "Epoch 25/200\n",
            " - 0s - loss: 6.4402 - mean_absolute_error: 1.7456 - val_loss: 13.1753 - val_mean_absolute_error: 2.1945\n",
            "Epoch 26/200\n",
            " - 0s - loss: 6.6696 - mean_absolute_error: 1.7564 - val_loss: 13.4841 - val_mean_absolute_error: 2.4270\n",
            "Epoch 27/200\n",
            " - 0s - loss: 6.4305 - mean_absolute_error: 1.7567 - val_loss: 13.1955 - val_mean_absolute_error: 2.3664\n",
            "Epoch 28/200\n",
            " - 0s - loss: 6.2242 - mean_absolute_error: 1.7330 - val_loss: 13.3346 - val_mean_absolute_error: 2.4370\n",
            "Epoch 29/200\n",
            " - 0s - loss: 6.2516 - mean_absolute_error: 1.7137 - val_loss: 13.3861 - val_mean_absolute_error: 2.4765\n",
            "Epoch 30/200\n",
            " - 0s - loss: 6.4288 - mean_absolute_error: 1.7274 - val_loss: 13.7318 - val_mean_absolute_error: 2.4885\n",
            "Epoch 31/200\n",
            " - 0s - loss: 6.1667 - mean_absolute_error: 1.6778 - val_loss: 13.7000 - val_mean_absolute_error: 2.4331\n",
            "Epoch 32/200\n",
            " - 0s - loss: 5.7814 - mean_absolute_error: 1.6922 - val_loss: 14.0051 - val_mean_absolute_error: 2.5235\n",
            "Epoch 33/200\n",
            " - 0s - loss: 5.9663 - mean_absolute_error: 1.7104 - val_loss: 15.1373 - val_mean_absolute_error: 2.7505\n",
            "Epoch 34/200\n",
            " - 0s - loss: 5.8182 - mean_absolute_error: 1.6564 - val_loss: 13.9964 - val_mean_absolute_error: 2.4629\n",
            "Epoch 35/200\n",
            " - 0s - loss: 5.9151 - mean_absolute_error: 1.6732 - val_loss: 13.4005 - val_mean_absolute_error: 2.3972\n",
            "Epoch 36/200\n",
            " - 0s - loss: 5.4848 - mean_absolute_error: 1.6112 - val_loss: 13.9191 - val_mean_absolute_error: 2.3344\n",
            "Epoch 37/200\n",
            " - 0s - loss: 5.2484 - mean_absolute_error: 1.6328 - val_loss: 14.4766 - val_mean_absolute_error: 2.5294\n",
            "Epoch 38/200\n",
            " - 0s - loss: 5.1161 - mean_absolute_error: 1.6237 - val_loss: 13.8958 - val_mean_absolute_error: 2.4889\n",
            "Epoch 39/200\n",
            " - 0s - loss: 5.4460 - mean_absolute_error: 1.6098 - val_loss: 13.6067 - val_mean_absolute_error: 2.4345\n",
            "Epoch 40/200\n",
            " - 0s - loss: 5.1027 - mean_absolute_error: 1.6186 - val_loss: 13.4359 - val_mean_absolute_error: 2.4366\n",
            "Epoch 41/200\n",
            " - 0s - loss: 5.3630 - mean_absolute_error: 1.5637 - val_loss: 12.9655 - val_mean_absolute_error: 2.3984\n",
            "Epoch 42/200\n",
            " - 0s - loss: 5.3501 - mean_absolute_error: 1.6255 - val_loss: 13.7724 - val_mean_absolute_error: 2.3299\n",
            "Epoch 43/200\n",
            " - 0s - loss: 5.0425 - mean_absolute_error: 1.5363 - val_loss: 13.4591 - val_mean_absolute_error: 2.4902\n",
            "Epoch 44/200\n",
            " - 0s - loss: 5.1798 - mean_absolute_error: 1.5692 - val_loss: 12.9215 - val_mean_absolute_error: 2.4711\n",
            "Epoch 45/200\n",
            " - 0s - loss: 4.9937 - mean_absolute_error: 1.5217 - val_loss: 13.6457 - val_mean_absolute_error: 2.5345\n",
            "Epoch 46/200\n",
            " - 0s - loss: 4.9959 - mean_absolute_error: 1.5597 - val_loss: 13.1480 - val_mean_absolute_error: 2.3667\n",
            "Epoch 47/200\n",
            " - 0s - loss: 5.0024 - mean_absolute_error: 1.5700 - val_loss: 13.9007 - val_mean_absolute_error: 2.5646\n",
            "Epoch 48/200\n",
            " - 0s - loss: 4.7905 - mean_absolute_error: 1.5247 - val_loss: 14.6558 - val_mean_absolute_error: 2.4518\n",
            "Epoch 49/200\n",
            " - 0s - loss: 4.4378 - mean_absolute_error: 1.4999 - val_loss: 15.1990 - val_mean_absolute_error: 2.7532\n",
            "Epoch 50/200\n",
            " - 0s - loss: 4.9200 - mean_absolute_error: 1.5476 - val_loss: 13.5111 - val_mean_absolute_error: 2.3791\n",
            "Epoch 51/200\n",
            " - 0s - loss: 4.5659 - mean_absolute_error: 1.4849 - val_loss: 14.3307 - val_mean_absolute_error: 2.7093\n",
            "Epoch 52/200\n",
            " - 0s - loss: 4.6437 - mean_absolute_error: 1.4911 - val_loss: 13.5973 - val_mean_absolute_error: 2.4364\n",
            "Epoch 53/200\n",
            " - 0s - loss: 4.3143 - mean_absolute_error: 1.4616 - val_loss: 14.3316 - val_mean_absolute_error: 2.5457\n",
            "Epoch 54/200\n",
            " - 0s - loss: 4.3290 - mean_absolute_error: 1.4562 - val_loss: 14.7371 - val_mean_absolute_error: 2.5192\n",
            "Epoch 55/200\n",
            " - 0s - loss: 4.2766 - mean_absolute_error: 1.4403 - val_loss: 13.7494 - val_mean_absolute_error: 2.4573\n",
            "Epoch 56/200\n",
            " - 0s - loss: 4.3956 - mean_absolute_error: 1.4630 - val_loss: 14.1856 - val_mean_absolute_error: 2.4876\n",
            "Epoch 57/200\n",
            " - 0s - loss: 4.1779 - mean_absolute_error: 1.4323 - val_loss: 13.7635 - val_mean_absolute_error: 2.4907\n",
            "Epoch 58/200\n",
            " - 0s - loss: 4.3727 - mean_absolute_error: 1.4533 - val_loss: 13.7602 - val_mean_absolute_error: 2.5164\n",
            "Epoch 59/200\n",
            " - 0s - loss: 4.3283 - mean_absolute_error: 1.4468 - val_loss: 13.7694 - val_mean_absolute_error: 2.3961\n",
            "Epoch 60/200\n",
            " - 0s - loss: 4.3673 - mean_absolute_error: 1.4771 - val_loss: 15.8028 - val_mean_absolute_error: 2.9152\n",
            "Epoch 61/200\n",
            " - 0s - loss: 4.1328 - mean_absolute_error: 1.4497 - val_loss: 13.0513 - val_mean_absolute_error: 2.3732\n",
            "Epoch 62/200\n",
            " - 0s - loss: 4.2989 - mean_absolute_error: 1.4945 - val_loss: 14.2160 - val_mean_absolute_error: 2.4715\n",
            "Epoch 63/200\n",
            " - 0s - loss: 4.0434 - mean_absolute_error: 1.4292 - val_loss: 13.3011 - val_mean_absolute_error: 2.5011\n",
            "Epoch 64/200\n",
            " - 0s - loss: 4.1659 - mean_absolute_error: 1.4177 - val_loss: 13.7629 - val_mean_absolute_error: 2.4182\n",
            "Epoch 65/200\n",
            " - 0s - loss: 3.6540 - mean_absolute_error: 1.3945 - val_loss: 13.6507 - val_mean_absolute_error: 2.5607\n",
            "Epoch 66/200\n",
            " - 0s - loss: 4.0901 - mean_absolute_error: 1.4266 - val_loss: 13.6486 - val_mean_absolute_error: 2.4335\n",
            "Epoch 67/200\n",
            " - 0s - loss: 3.9178 - mean_absolute_error: 1.4153 - val_loss: 14.6532 - val_mean_absolute_error: 2.6254\n",
            "Epoch 68/200\n",
            " - 0s - loss: 3.7828 - mean_absolute_error: 1.3636 - val_loss: 14.1483 - val_mean_absolute_error: 2.5351\n",
            "Epoch 69/200\n",
            " - 0s - loss: 3.9115 - mean_absolute_error: 1.3908 - val_loss: 13.2884 - val_mean_absolute_error: 2.3317\n",
            "Epoch 70/200\n",
            " - 0s - loss: 3.5302 - mean_absolute_error: 1.3806 - val_loss: 13.5753 - val_mean_absolute_error: 2.4844\n",
            "Epoch 71/200\n",
            " - 0s - loss: 3.4912 - mean_absolute_error: 1.3495 - val_loss: 15.1885 - val_mean_absolute_error: 2.6902\n",
            "Epoch 72/200\n",
            " - 0s - loss: 3.8234 - mean_absolute_error: 1.3797 - val_loss: 15.0490 - val_mean_absolute_error: 2.6709\n",
            "Epoch 73/200\n",
            " - 0s - loss: 3.4571 - mean_absolute_error: 1.3089 - val_loss: 16.3637 - val_mean_absolute_error: 2.8057\n",
            "Epoch 74/200\n",
            " - 0s - loss: 3.4987 - mean_absolute_error: 1.3661 - val_loss: 13.8209 - val_mean_absolute_error: 2.4421\n",
            "Epoch 75/200\n",
            " - 0s - loss: 3.3538 - mean_absolute_error: 1.2966 - val_loss: 14.0303 - val_mean_absolute_error: 2.5140\n",
            "Epoch 76/200\n",
            " - 0s - loss: 3.6038 - mean_absolute_error: 1.3399 - val_loss: 14.2090 - val_mean_absolute_error: 2.5622\n",
            "Epoch 77/200\n",
            " - 0s - loss: 3.6102 - mean_absolute_error: 1.3561 - val_loss: 15.0922 - val_mean_absolute_error: 2.6732\n",
            "Epoch 78/200\n",
            " - 0s - loss: 3.3285 - mean_absolute_error: 1.3311 - val_loss: 14.2261 - val_mean_absolute_error: 2.5711\n",
            "Epoch 79/200\n",
            " - 0s - loss: 3.5333 - mean_absolute_error: 1.3071 - val_loss: 14.5728 - val_mean_absolute_error: 2.6021\n",
            "Epoch 80/200\n",
            " - 0s - loss: 3.2106 - mean_absolute_error: 1.2833 - val_loss: 15.4734 - val_mean_absolute_error: 2.6852\n",
            "Epoch 81/200\n",
            " - 0s - loss: 3.2342 - mean_absolute_error: 1.3268 - val_loss: 15.4027 - val_mean_absolute_error: 2.5841\n",
            "Epoch 82/200\n",
            " - 0s - loss: 3.2609 - mean_absolute_error: 1.3448 - val_loss: 15.4868 - val_mean_absolute_error: 2.7510\n",
            "Epoch 83/200\n",
            " - 0s - loss: 3.2200 - mean_absolute_error: 1.2716 - val_loss: 15.3167 - val_mean_absolute_error: 2.7220\n",
            "Epoch 84/200\n",
            " - 0s - loss: 3.1060 - mean_absolute_error: 1.2975 - val_loss: 14.9954 - val_mean_absolute_error: 2.6444\n",
            "Epoch 85/200\n",
            " - 0s - loss: 3.1022 - mean_absolute_error: 1.2853 - val_loss: 14.1755 - val_mean_absolute_error: 2.6118\n",
            "Epoch 86/200\n",
            " - 0s - loss: 3.1896 - mean_absolute_error: 1.2770 - val_loss: 15.4178 - val_mean_absolute_error: 2.6763\n",
            "Epoch 87/200\n",
            " - 0s - loss: 2.9456 - mean_absolute_error: 1.2447 - val_loss: 14.9438 - val_mean_absolute_error: 2.6130\n",
            "Epoch 88/200\n",
            " - 0s - loss: 3.2789 - mean_absolute_error: 1.3279 - val_loss: 15.1808 - val_mean_absolute_error: 2.6348\n",
            "Epoch 89/200\n",
            " - 0s - loss: 3.0819 - mean_absolute_error: 1.2645 - val_loss: 15.0267 - val_mean_absolute_error: 2.7307\n",
            "Epoch 90/200\n",
            " - 0s - loss: 2.8898 - mean_absolute_error: 1.2560 - val_loss: 16.2872 - val_mean_absolute_error: 2.8341\n",
            "Epoch 91/200\n",
            " - 0s - loss: 2.9939 - mean_absolute_error: 1.2965 - val_loss: 15.2859 - val_mean_absolute_error: 2.5264\n",
            "Epoch 92/200\n",
            " - 0s - loss: 2.5598 - mean_absolute_error: 1.2081 - val_loss: 15.4828 - val_mean_absolute_error: 2.8284\n",
            "Epoch 93/200\n",
            " - 0s - loss: 2.5996 - mean_absolute_error: 1.2190 - val_loss: 15.2440 - val_mean_absolute_error: 2.7276\n",
            "Epoch 94/200\n",
            " - 0s - loss: 2.7873 - mean_absolute_error: 1.2175 - val_loss: 15.4673 - val_mean_absolute_error: 2.6289\n",
            "Epoch 95/200\n",
            " - 0s - loss: 2.8657 - mean_absolute_error: 1.2416 - val_loss: 15.8261 - val_mean_absolute_error: 2.6431\n",
            "Epoch 96/200\n",
            " - 0s - loss: 2.6969 - mean_absolute_error: 1.2209 - val_loss: 14.9708 - val_mean_absolute_error: 2.6063\n",
            "Epoch 97/200\n",
            " - 0s - loss: 2.6039 - mean_absolute_error: 1.1717 - val_loss: 15.0450 - val_mean_absolute_error: 2.6567\n",
            "Epoch 98/200\n",
            " - 0s - loss: 2.7517 - mean_absolute_error: 1.1995 - val_loss: 14.4954 - val_mean_absolute_error: 2.5106\n",
            "Epoch 99/200\n",
            " - 0s - loss: 2.7411 - mean_absolute_error: 1.2326 - val_loss: 14.8450 - val_mean_absolute_error: 2.6362\n",
            "Epoch 100/200\n",
            " - 0s - loss: 2.6223 - mean_absolute_error: 1.2301 - val_loss: 13.7780 - val_mean_absolute_error: 2.5279\n",
            "Epoch 101/200\n",
            " - 0s - loss: 2.5363 - mean_absolute_error: 1.1533 - val_loss: 13.5408 - val_mean_absolute_error: 2.5374\n",
            "Epoch 102/200\n",
            " - 0s - loss: 2.7683 - mean_absolute_error: 1.2125 - val_loss: 13.9304 - val_mean_absolute_error: 2.5396\n",
            "Epoch 103/200\n",
            " - 0s - loss: 2.6416 - mean_absolute_error: 1.1854 - val_loss: 13.6209 - val_mean_absolute_error: 2.4901\n",
            "Epoch 104/200\n",
            " - 0s - loss: 2.6018 - mean_absolute_error: 1.1603 - val_loss: 13.3167 - val_mean_absolute_error: 2.5346\n",
            "Epoch 105/200\n",
            " - 0s - loss: 2.4680 - mean_absolute_error: 1.1339 - val_loss: 14.7131 - val_mean_absolute_error: 2.6262\n",
            "Epoch 106/200\n",
            " - 0s - loss: 2.4831 - mean_absolute_error: 1.1484 - val_loss: 14.2122 - val_mean_absolute_error: 2.4899\n",
            "Epoch 107/200\n",
            " - 0s - loss: 2.6259 - mean_absolute_error: 1.1477 - val_loss: 14.6696 - val_mean_absolute_error: 2.6189\n",
            "Epoch 108/200\n",
            " - 0s - loss: 2.4143 - mean_absolute_error: 1.1538 - val_loss: 14.4672 - val_mean_absolute_error: 2.7034\n",
            "Epoch 109/200\n",
            " - 0s - loss: 2.4136 - mean_absolute_error: 1.1741 - val_loss: 14.6559 - val_mean_absolute_error: 2.5700\n",
            "Epoch 110/200\n",
            " - 0s - loss: 2.3203 - mean_absolute_error: 1.1342 - val_loss: 14.8799 - val_mean_absolute_error: 2.5652\n",
            "Epoch 111/200\n",
            " - 0s - loss: 2.3457 - mean_absolute_error: 1.1039 - val_loss: 14.7973 - val_mean_absolute_error: 2.6557\n",
            "Epoch 112/200\n",
            " - 0s - loss: 2.4481 - mean_absolute_error: 1.1544 - val_loss: 13.5527 - val_mean_absolute_error: 2.4907\n",
            "Epoch 113/200\n",
            " - 0s - loss: 2.2642 - mean_absolute_error: 1.0906 - val_loss: 14.4351 - val_mean_absolute_error: 2.5626\n",
            "Epoch 114/200\n",
            " - 0s - loss: 2.3697 - mean_absolute_error: 1.1277 - val_loss: 15.4459 - val_mean_absolute_error: 2.7934\n",
            "Epoch 115/200\n",
            " - 0s - loss: 2.3615 - mean_absolute_error: 1.1418 - val_loss: 14.2602 - val_mean_absolute_error: 2.5514\n",
            "Epoch 116/200\n",
            " - 0s - loss: 2.4086 - mean_absolute_error: 1.1184 - val_loss: 14.4528 - val_mean_absolute_error: 2.6342\n",
            "Epoch 117/200\n",
            " - 0s - loss: 2.1363 - mean_absolute_error: 1.0808 - val_loss: 16.5219 - val_mean_absolute_error: 2.7973\n",
            "Epoch 118/200\n",
            " - 0s - loss: 2.1186 - mean_absolute_error: 1.0913 - val_loss: 16.1966 - val_mean_absolute_error: 2.6841\n",
            "Epoch 119/200\n",
            " - 0s - loss: 2.2693 - mean_absolute_error: 1.1115 - val_loss: 15.9462 - val_mean_absolute_error: 2.6927\n",
            "Epoch 120/200\n",
            " - 0s - loss: 2.4947 - mean_absolute_error: 1.1195 - val_loss: 14.5350 - val_mean_absolute_error: 2.5981\n",
            "Epoch 121/200\n",
            " - 0s - loss: 2.2896 - mean_absolute_error: 1.1287 - val_loss: 13.5761 - val_mean_absolute_error: 2.4921\n",
            "Epoch 122/200\n",
            " - 0s - loss: 2.2549 - mean_absolute_error: 1.1049 - val_loss: 14.6536 - val_mean_absolute_error: 2.5781\n",
            "Epoch 123/200\n",
            " - 0s - loss: 2.1922 - mean_absolute_error: 1.0760 - val_loss: 15.2500 - val_mean_absolute_error: 2.6206\n",
            "Epoch 124/200\n",
            " - 0s - loss: 2.2503 - mean_absolute_error: 1.0741 - val_loss: 14.6053 - val_mean_absolute_error: 2.6927\n",
            "Epoch 125/200\n",
            " - 0s - loss: 2.1835 - mean_absolute_error: 1.1246 - val_loss: 15.0190 - val_mean_absolute_error: 2.6787\n",
            "Epoch 126/200\n",
            " - 0s - loss: 2.0271 - mean_absolute_error: 1.0396 - val_loss: 15.7508 - val_mean_absolute_error: 2.7007\n",
            "Epoch 127/200\n",
            " - 0s - loss: 2.0367 - mean_absolute_error: 1.0634 - val_loss: 14.3507 - val_mean_absolute_error: 2.4986\n",
            "Epoch 128/200\n",
            " - 0s - loss: 2.0871 - mean_absolute_error: 1.0658 - val_loss: 14.3702 - val_mean_absolute_error: 2.6383\n",
            "Epoch 129/200\n",
            " - 0s - loss: 2.0619 - mean_absolute_error: 1.0628 - val_loss: 15.3460 - val_mean_absolute_error: 2.6842\n",
            "Epoch 130/200\n",
            " - 0s - loss: 1.9649 - mean_absolute_error: 1.0278 - val_loss: 15.0507 - val_mean_absolute_error: 2.6243\n",
            "Epoch 131/200\n",
            " - 0s - loss: 1.9619 - mean_absolute_error: 1.0550 - val_loss: 13.2493 - val_mean_absolute_error: 2.5198\n",
            "Epoch 132/200\n",
            " - 0s - loss: 1.8678 - mean_absolute_error: 1.0122 - val_loss: 15.5779 - val_mean_absolute_error: 2.6835\n",
            "Epoch 133/200\n",
            " - 0s - loss: 1.8959 - mean_absolute_error: 1.0257 - val_loss: 16.9951 - val_mean_absolute_error: 2.8031\n",
            "Epoch 134/200\n",
            " - 0s - loss: 2.0783 - mean_absolute_error: 1.0669 - val_loss: 15.7319 - val_mean_absolute_error: 2.7961\n",
            "Epoch 135/200\n",
            " - 0s - loss: 1.9064 - mean_absolute_error: 1.0316 - val_loss: 14.4541 - val_mean_absolute_error: 2.5722\n",
            "Epoch 136/200\n",
            " - 0s - loss: 1.7930 - mean_absolute_error: 0.9900 - val_loss: 17.1119 - val_mean_absolute_error: 2.9786\n",
            "Epoch 137/200\n",
            " - 0s - loss: 2.0646 - mean_absolute_error: 1.0287 - val_loss: 13.8103 - val_mean_absolute_error: 2.4927\n",
            "Epoch 138/200\n",
            " - 0s - loss: 1.8456 - mean_absolute_error: 1.0086 - val_loss: 14.1230 - val_mean_absolute_error: 2.5774\n",
            "Epoch 139/200\n",
            " - 0s - loss: 1.8413 - mean_absolute_error: 1.0191 - val_loss: 16.3343 - val_mean_absolute_error: 2.7664\n",
            "Epoch 140/200\n",
            " - 0s - loss: 1.9644 - mean_absolute_error: 0.9887 - val_loss: 14.3961 - val_mean_absolute_error: 2.6379\n",
            "Epoch 141/200\n",
            " - 0s - loss: 1.7770 - mean_absolute_error: 1.0342 - val_loss: 15.5291 - val_mean_absolute_error: 2.6794\n",
            "Epoch 142/200\n",
            " - 0s - loss: 1.7318 - mean_absolute_error: 0.9830 - val_loss: 14.3456 - val_mean_absolute_error: 2.5910\n",
            "Epoch 143/200\n",
            " - 0s - loss: 1.6928 - mean_absolute_error: 0.9680 - val_loss: 15.5223 - val_mean_absolute_error: 2.7025\n",
            "Epoch 144/200\n",
            " - 0s - loss: 1.8996 - mean_absolute_error: 1.0171 - val_loss: 14.0858 - val_mean_absolute_error: 2.5353\n",
            "Epoch 145/200\n",
            " - 0s - loss: 1.6989 - mean_absolute_error: 0.9667 - val_loss: 14.2094 - val_mean_absolute_error: 2.5842\n",
            "Epoch 146/200\n",
            " - 0s - loss: 1.7330 - mean_absolute_error: 0.9645 - val_loss: 16.6241 - val_mean_absolute_error: 2.8223\n",
            "Epoch 147/200\n",
            " - 0s - loss: 1.7369 - mean_absolute_error: 0.9597 - val_loss: 15.7087 - val_mean_absolute_error: 2.7537\n",
            "Epoch 148/200\n",
            " - 0s - loss: 1.7544 - mean_absolute_error: 0.9880 - val_loss: 14.3088 - val_mean_absolute_error: 2.6360\n",
            "Epoch 149/200\n",
            " - 0s - loss: 1.5923 - mean_absolute_error: 0.9425 - val_loss: 15.1012 - val_mean_absolute_error: 2.6776\n",
            "Epoch 150/200\n",
            " - 0s - loss: 1.6878 - mean_absolute_error: 0.9539 - val_loss: 14.4565 - val_mean_absolute_error: 2.6838\n",
            "Epoch 151/200\n",
            " - 0s - loss: 1.6334 - mean_absolute_error: 0.9625 - val_loss: 17.2790 - val_mean_absolute_error: 3.0604\n",
            "Epoch 152/200\n",
            " - 0s - loss: 1.7303 - mean_absolute_error: 0.9608 - val_loss: 15.3912 - val_mean_absolute_error: 2.6521\n",
            "Epoch 153/200\n",
            " - 0s - loss: 1.5498 - mean_absolute_error: 0.9381 - val_loss: 12.8847 - val_mean_absolute_error: 2.4877\n",
            "Epoch 154/200\n",
            " - 0s - loss: 1.7555 - mean_absolute_error: 0.9717 - val_loss: 14.7230 - val_mean_absolute_error: 2.6243\n",
            "Epoch 155/200\n",
            " - 0s - loss: 1.6448 - mean_absolute_error: 0.9453 - val_loss: 14.8406 - val_mean_absolute_error: 2.6545\n",
            "Epoch 156/200\n",
            " - 0s - loss: 1.6630 - mean_absolute_error: 0.9337 - val_loss: 15.8551 - val_mean_absolute_error: 2.7215\n",
            "Epoch 157/200\n",
            " - 0s - loss: 1.8199 - mean_absolute_error: 0.9533 - val_loss: 13.9593 - val_mean_absolute_error: 2.5792\n",
            "Epoch 158/200\n",
            " - 0s - loss: 1.6301 - mean_absolute_error: 0.8789 - val_loss: 14.2211 - val_mean_absolute_error: 2.6467\n",
            "Epoch 159/200\n",
            " - 0s - loss: 1.6620 - mean_absolute_error: 0.9536 - val_loss: 13.8210 - val_mean_absolute_error: 2.4762\n",
            "Epoch 160/200\n",
            " - 0s - loss: 1.8111 - mean_absolute_error: 0.9932 - val_loss: 15.2147 - val_mean_absolute_error: 2.6274\n",
            "Epoch 161/200\n",
            " - 0s - loss: 1.6418 - mean_absolute_error: 0.9733 - val_loss: 14.3371 - val_mean_absolute_error: 2.6474\n",
            "Epoch 162/200\n",
            " - 0s - loss: 1.7506 - mean_absolute_error: 0.9775 - val_loss: 14.3355 - val_mean_absolute_error: 2.6480\n",
            "Epoch 163/200\n",
            " - 0s - loss: 1.5200 - mean_absolute_error: 0.9318 - val_loss: 13.8410 - val_mean_absolute_error: 2.5620\n",
            "Epoch 164/200\n",
            " - 0s - loss: 1.6100 - mean_absolute_error: 0.9267 - val_loss: 15.9949 - val_mean_absolute_error: 2.7768\n",
            "Epoch 165/200\n",
            " - 0s - loss: 1.6871 - mean_absolute_error: 0.9736 - val_loss: 15.6443 - val_mean_absolute_error: 2.7426\n",
            "Epoch 166/200\n",
            " - 0s - loss: 1.5295 - mean_absolute_error: 0.9610 - val_loss: 14.9030 - val_mean_absolute_error: 2.6010\n",
            "Epoch 167/200\n",
            " - 0s - loss: 1.5063 - mean_absolute_error: 0.9147 - val_loss: 13.8858 - val_mean_absolute_error: 2.6079\n",
            "Epoch 168/200\n",
            " - 0s - loss: 1.5603 - mean_absolute_error: 0.9043 - val_loss: 14.8761 - val_mean_absolute_error: 2.7057\n",
            "Epoch 169/200\n",
            " - 0s - loss: 1.8156 - mean_absolute_error: 0.9736 - val_loss: 15.1433 - val_mean_absolute_error: 2.7487\n",
            "Epoch 170/200\n",
            " - 0s - loss: 1.3805 - mean_absolute_error: 0.8731 - val_loss: 14.0665 - val_mean_absolute_error: 2.6297\n",
            "Epoch 171/200\n",
            " - 0s - loss: 1.5619 - mean_absolute_error: 0.9066 - val_loss: 14.2245 - val_mean_absolute_error: 2.5896\n",
            "Epoch 172/200\n",
            " - 0s - loss: 1.5554 - mean_absolute_error: 0.9683 - val_loss: 14.8039 - val_mean_absolute_error: 2.6740\n",
            "Epoch 173/200\n",
            " - 0s - loss: 1.5449 - mean_absolute_error: 0.8854 - val_loss: 14.5511 - val_mean_absolute_error: 2.6501\n",
            "Epoch 174/200\n",
            " - 0s - loss: 1.4706 - mean_absolute_error: 0.8969 - val_loss: 14.8992 - val_mean_absolute_error: 2.7129\n",
            "Epoch 175/200\n",
            " - 0s - loss: 1.4940 - mean_absolute_error: 0.8960 - val_loss: 14.7826 - val_mean_absolute_error: 2.6437\n",
            "Epoch 176/200\n",
            " - 0s - loss: 1.3072 - mean_absolute_error: 0.8660 - val_loss: 13.0331 - val_mean_absolute_error: 2.4978\n",
            "Epoch 177/200\n",
            " - 0s - loss: 1.4416 - mean_absolute_error: 0.8888 - val_loss: 13.8936 - val_mean_absolute_error: 2.5370\n",
            "Epoch 178/200\n",
            " - 0s - loss: 1.5092 - mean_absolute_error: 0.9116 - val_loss: 14.2658 - val_mean_absolute_error: 2.6256\n",
            "Epoch 179/200\n",
            " - 0s - loss: 1.5965 - mean_absolute_error: 0.9248 - val_loss: 14.0491 - val_mean_absolute_error: 2.5069\n",
            "Epoch 180/200\n",
            " - 0s - loss: 1.4171 - mean_absolute_error: 0.8895 - val_loss: 13.7899 - val_mean_absolute_error: 2.5304\n",
            "Epoch 181/200\n",
            " - 0s - loss: 1.3367 - mean_absolute_error: 0.8707 - val_loss: 14.3202 - val_mean_absolute_error: 2.6296\n",
            "Epoch 182/200\n",
            " - 0s - loss: 1.4626 - mean_absolute_error: 0.8898 - val_loss: 13.6736 - val_mean_absolute_error: 2.6450\n",
            "Epoch 183/200\n",
            " - 0s - loss: 1.5150 - mean_absolute_error: 0.8947 - val_loss: 13.9867 - val_mean_absolute_error: 2.5608\n",
            "Epoch 184/200\n",
            " - 0s - loss: 1.5118 - mean_absolute_error: 0.8811 - val_loss: 13.2531 - val_mean_absolute_error: 2.5742\n",
            "Epoch 185/200\n",
            " - 0s - loss: 1.4945 - mean_absolute_error: 0.8976 - val_loss: 13.8888 - val_mean_absolute_error: 2.6755\n",
            "Epoch 186/200\n",
            " - 0s - loss: 1.4456 - mean_absolute_error: 0.8735 - val_loss: 15.3441 - val_mean_absolute_error: 2.6661\n",
            "Epoch 187/200\n",
            " - 0s - loss: 1.3303 - mean_absolute_error: 0.8720 - val_loss: 14.5116 - val_mean_absolute_error: 2.6607\n",
            "Epoch 188/200\n",
            " - 0s - loss: 1.4099 - mean_absolute_error: 0.8607 - val_loss: 14.1244 - val_mean_absolute_error: 2.6242\n",
            "Epoch 189/200\n",
            " - 0s - loss: 1.4779 - mean_absolute_error: 0.8822 - val_loss: 14.9336 - val_mean_absolute_error: 2.6034\n",
            "Epoch 190/200\n",
            " - 0s - loss: 1.3890 - mean_absolute_error: 0.9046 - val_loss: 13.4849 - val_mean_absolute_error: 2.6207\n",
            "Epoch 191/200\n",
            " - 0s - loss: 1.3371 - mean_absolute_error: 0.8920 - val_loss: 15.2250 - val_mean_absolute_error: 2.7684\n",
            "Epoch 192/200\n",
            " - 0s - loss: 1.3237 - mean_absolute_error: 0.8707 - val_loss: 15.5326 - val_mean_absolute_error: 2.6955\n",
            "Epoch 193/200\n",
            " - 0s - loss: 1.2299 - mean_absolute_error: 0.8490 - val_loss: 14.9861 - val_mean_absolute_error: 2.7163\n",
            "Epoch 194/200\n",
            " - 0s - loss: 1.4819 - mean_absolute_error: 0.9038 - val_loss: 15.0941 - val_mean_absolute_error: 2.6280\n",
            "Epoch 195/200\n",
            " - 0s - loss: 1.3999 - mean_absolute_error: 0.8778 - val_loss: 15.1193 - val_mean_absolute_error: 2.7214\n",
            "Epoch 196/200\n",
            " - 0s - loss: 1.3567 - mean_absolute_error: 0.8295 - val_loss: 15.0294 - val_mean_absolute_error: 2.6590\n",
            "Epoch 197/200\n",
            " - 0s - loss: 1.3031 - mean_absolute_error: 0.8357 - val_loss: 15.0511 - val_mean_absolute_error: 2.7073\n",
            "Epoch 198/200\n",
            " - 0s - loss: 1.3111 - mean_absolute_error: 0.8627 - val_loss: 15.3031 - val_mean_absolute_error: 2.6668\n",
            "Epoch 199/200\n",
            " - 0s - loss: 1.4057 - mean_absolute_error: 0.8597 - val_loss: 14.3695 - val_mean_absolute_error: 2.5890\n",
            "Epoch 200/200\n",
            " - 0s - loss: 1.4865 - mean_absolute_error: 0.8484 - val_loss: 16.0315 - val_mean_absolute_error: 2.7548\n",
            "processing fold # 3\n",
            "Train on 303 samples, validate on 101 samples\n",
            "Epoch 1/200\n",
            " - 1s - loss: 208.5438 - mean_absolute_error: 11.1398 - val_loss: 63.4096 - val_mean_absolute_error: 5.4076\n",
            "Epoch 2/200\n",
            " - 0s - loss: 28.5618 - mean_absolute_error: 3.7132 - val_loss: 31.8445 - val_mean_absolute_error: 3.8733\n",
            "Epoch 3/200\n",
            " - 0s - loss: 20.1175 - mean_absolute_error: 3.1119 - val_loss: 33.5955 - val_mean_absolute_error: 3.8145\n",
            "Epoch 4/200\n",
            " - 0s - loss: 16.9380 - mean_absolute_error: 2.8228 - val_loss: 22.0650 - val_mean_absolute_error: 3.1269\n",
            "Epoch 5/200\n",
            " - 0s - loss: 15.1040 - mean_absolute_error: 2.5990 - val_loss: 23.6644 - val_mean_absolute_error: 3.1406\n",
            "Epoch 6/200\n",
            " - 0s - loss: 12.7932 - mean_absolute_error: 2.4326 - val_loss: 19.9639 - val_mean_absolute_error: 2.8584\n",
            "Epoch 7/200\n",
            " - 0s - loss: 12.2761 - mean_absolute_error: 2.3046 - val_loss: 17.3418 - val_mean_absolute_error: 2.6671\n",
            "Epoch 8/200\n",
            " - 0s - loss: 12.0597 - mean_absolute_error: 2.2657 - val_loss: 22.7062 - val_mean_absolute_error: 3.2317\n",
            "Epoch 9/200\n",
            " - 0s - loss: 11.5165 - mean_absolute_error: 2.2768 - val_loss: 15.6313 - val_mean_absolute_error: 2.5944\n",
            "Epoch 10/200\n",
            " - 0s - loss: 11.2497 - mean_absolute_error: 2.1937 - val_loss: 16.6840 - val_mean_absolute_error: 2.7767\n",
            "Epoch 11/200\n",
            " - 0s - loss: 10.4937 - mean_absolute_error: 2.1580 - val_loss: 17.8583 - val_mean_absolute_error: 2.7799\n",
            "Epoch 12/200\n",
            " - 0s - loss: 10.6462 - mean_absolute_error: 2.1086 - val_loss: 14.7450 - val_mean_absolute_error: 2.5580\n",
            "Epoch 13/200\n",
            " - 0s - loss: 10.2296 - mean_absolute_error: 2.0627 - val_loss: 15.2386 - val_mean_absolute_error: 2.6701\n",
            "Epoch 14/200\n",
            " - 0s - loss: 10.0024 - mean_absolute_error: 2.1187 - val_loss: 14.7355 - val_mean_absolute_error: 2.5428\n",
            "Epoch 15/200\n",
            " - 0s - loss: 9.4785 - mean_absolute_error: 2.0872 - val_loss: 19.4291 - val_mean_absolute_error: 2.9436\n",
            "Epoch 16/200\n",
            " - 0s - loss: 9.6315 - mean_absolute_error: 2.0202 - val_loss: 15.5884 - val_mean_absolute_error: 2.6863\n",
            "Epoch 17/200\n",
            " - 0s - loss: 9.2870 - mean_absolute_error: 1.9927 - val_loss: 16.3778 - val_mean_absolute_error: 2.7007\n",
            "Epoch 18/200\n",
            " - 0s - loss: 8.9277 - mean_absolute_error: 2.0010 - val_loss: 14.1257 - val_mean_absolute_error: 2.5052\n",
            "Epoch 19/200\n",
            " - 0s - loss: 8.3633 - mean_absolute_error: 1.9567 - val_loss: 18.4262 - val_mean_absolute_error: 3.0210\n",
            "Epoch 20/200\n",
            " - 0s - loss: 9.1037 - mean_absolute_error: 1.9457 - val_loss: 14.8734 - val_mean_absolute_error: 2.6502\n",
            "Epoch 21/200\n",
            " - 0s - loss: 8.7326 - mean_absolute_error: 1.9291 - val_loss: 15.3437 - val_mean_absolute_error: 2.7614\n",
            "Epoch 22/200\n",
            " - 0s - loss: 8.1956 - mean_absolute_error: 1.9094 - val_loss: 14.2525 - val_mean_absolute_error: 2.7153\n",
            "Epoch 23/200\n",
            " - 0s - loss: 8.4954 - mean_absolute_error: 1.9240 - val_loss: 14.3810 - val_mean_absolute_error: 2.6323\n",
            "Epoch 24/200\n",
            " - 0s - loss: 8.3069 - mean_absolute_error: 1.8610 - val_loss: 14.4603 - val_mean_absolute_error: 2.6574\n",
            "Epoch 25/200\n",
            " - 0s - loss: 8.1651 - mean_absolute_error: 1.8587 - val_loss: 14.6590 - val_mean_absolute_error: 2.8017\n",
            "Epoch 26/200\n",
            " - 0s - loss: 7.8373 - mean_absolute_error: 1.8956 - val_loss: 13.6322 - val_mean_absolute_error: 2.5880\n",
            "Epoch 27/200\n",
            " - 0s - loss: 8.2030 - mean_absolute_error: 1.8376 - val_loss: 13.7350 - val_mean_absolute_error: 2.5118\n",
            "Epoch 28/200\n",
            " - 0s - loss: 7.6917 - mean_absolute_error: 1.8480 - val_loss: 13.4591 - val_mean_absolute_error: 2.6842\n",
            "Epoch 29/200\n",
            " - 0s - loss: 7.7091 - mean_absolute_error: 1.8629 - val_loss: 12.9672 - val_mean_absolute_error: 2.5117\n",
            "Epoch 30/200\n",
            " - 0s - loss: 7.8094 - mean_absolute_error: 1.8598 - val_loss: 13.9065 - val_mean_absolute_error: 2.6559\n",
            "Epoch 31/200\n",
            " - 0s - loss: 7.1556 - mean_absolute_error: 1.8387 - val_loss: 13.7033 - val_mean_absolute_error: 2.6155\n",
            "Epoch 32/200\n",
            " - 0s - loss: 7.5527 - mean_absolute_error: 1.8529 - val_loss: 12.7605 - val_mean_absolute_error: 2.4899\n",
            "Epoch 33/200\n",
            " - 0s - loss: 7.3442 - mean_absolute_error: 1.8179 - val_loss: 12.9413 - val_mean_absolute_error: 2.5668\n",
            "Epoch 34/200\n",
            " - 0s - loss: 6.9354 - mean_absolute_error: 1.7669 - val_loss: 14.0986 - val_mean_absolute_error: 2.5974\n",
            "Epoch 35/200\n",
            " - 0s - loss: 6.9188 - mean_absolute_error: 1.7286 - val_loss: 13.5208 - val_mean_absolute_error: 2.6619\n",
            "Epoch 36/200\n",
            " - 0s - loss: 6.9411 - mean_absolute_error: 1.7814 - val_loss: 14.4454 - val_mean_absolute_error: 2.7142\n",
            "Epoch 37/200\n",
            " - 0s - loss: 6.7817 - mean_absolute_error: 1.7383 - val_loss: 16.1895 - val_mean_absolute_error: 3.0389\n",
            "Epoch 38/200\n",
            " - 0s - loss: 6.9802 - mean_absolute_error: 1.6695 - val_loss: 12.6363 - val_mean_absolute_error: 2.4885\n",
            "Epoch 39/200\n",
            " - 0s - loss: 6.9397 - mean_absolute_error: 1.7236 - val_loss: 13.0164 - val_mean_absolute_error: 2.5078\n",
            "Epoch 40/200\n",
            " - 0s - loss: 6.4258 - mean_absolute_error: 1.7029 - val_loss: 13.9858 - val_mean_absolute_error: 2.6221\n",
            "Epoch 41/200\n",
            " - 0s - loss: 6.3405 - mean_absolute_error: 1.7149 - val_loss: 13.6987 - val_mean_absolute_error: 2.5473\n",
            "Epoch 42/200\n",
            " - 0s - loss: 6.3963 - mean_absolute_error: 1.6675 - val_loss: 12.8168 - val_mean_absolute_error: 2.5953\n",
            "Epoch 43/200\n",
            " - 0s - loss: 6.3908 - mean_absolute_error: 1.6660 - val_loss: 13.8824 - val_mean_absolute_error: 2.5945\n",
            "Epoch 44/200\n",
            " - 0s - loss: 6.2258 - mean_absolute_error: 1.6279 - val_loss: 13.9887 - val_mean_absolute_error: 2.7142\n",
            "Epoch 45/200\n",
            " - 0s - loss: 6.0606 - mean_absolute_error: 1.6829 - val_loss: 12.9322 - val_mean_absolute_error: 2.4952\n",
            "Epoch 46/200\n",
            " - 0s - loss: 6.0189 - mean_absolute_error: 1.6352 - val_loss: 13.3186 - val_mean_absolute_error: 2.6210\n",
            "Epoch 47/200\n",
            " - 0s - loss: 5.7452 - mean_absolute_error: 1.6121 - val_loss: 14.7609 - val_mean_absolute_error: 2.8140\n",
            "Epoch 48/200\n",
            " - 0s - loss: 6.1160 - mean_absolute_error: 1.6137 - val_loss: 13.0853 - val_mean_absolute_error: 2.6069\n",
            "Epoch 49/200\n",
            " - 0s - loss: 5.7700 - mean_absolute_error: 1.6341 - val_loss: 12.9810 - val_mean_absolute_error: 2.5752\n",
            "Epoch 50/200\n",
            " - 0s - loss: 5.5236 - mean_absolute_error: 1.5494 - val_loss: 14.2425 - val_mean_absolute_error: 2.7034\n",
            "Epoch 51/200\n",
            " - 0s - loss: 5.6447 - mean_absolute_error: 1.6228 - val_loss: 13.2688 - val_mean_absolute_error: 2.5263\n",
            "Epoch 52/200\n",
            " - 0s - loss: 5.5685 - mean_absolute_error: 1.5911 - val_loss: 13.7981 - val_mean_absolute_error: 2.7536\n",
            "Epoch 53/200\n",
            " - 0s - loss: 5.7441 - mean_absolute_error: 1.5619 - val_loss: 15.9677 - val_mean_absolute_error: 2.9116\n",
            "Epoch 54/200\n",
            " - 0s - loss: 5.3785 - mean_absolute_error: 1.5435 - val_loss: 13.2887 - val_mean_absolute_error: 2.6042\n",
            "Epoch 55/200\n",
            " - 0s - loss: 6.1254 - mean_absolute_error: 1.5272 - val_loss: 13.4546 - val_mean_absolute_error: 2.6372\n",
            "Epoch 56/200\n",
            " - 0s - loss: 5.2704 - mean_absolute_error: 1.5579 - val_loss: 12.4351 - val_mean_absolute_error: 2.3993\n",
            "Epoch 57/200\n",
            " - 0s - loss: 5.4515 - mean_absolute_error: 1.5511 - val_loss: 12.5701 - val_mean_absolute_error: 2.4681\n",
            "Epoch 58/200\n",
            " - 0s - loss: 5.4392 - mean_absolute_error: 1.5377 - val_loss: 13.8086 - val_mean_absolute_error: 2.6112\n",
            "Epoch 59/200\n",
            " - 0s - loss: 5.1943 - mean_absolute_error: 1.6059 - val_loss: 14.2815 - val_mean_absolute_error: 2.7390\n",
            "Epoch 60/200\n",
            " - 0s - loss: 5.2651 - mean_absolute_error: 1.5127 - val_loss: 13.7343 - val_mean_absolute_error: 2.6237\n",
            "Epoch 61/200\n",
            " - 0s - loss: 5.2718 - mean_absolute_error: 1.5623 - val_loss: 13.1253 - val_mean_absolute_error: 2.5154\n",
            "Epoch 62/200\n",
            " - 0s - loss: 5.1896 - mean_absolute_error: 1.5326 - val_loss: 13.2917 - val_mean_absolute_error: 2.5750\n",
            "Epoch 63/200\n",
            " - 0s - loss: 5.0418 - mean_absolute_error: 1.5016 - val_loss: 14.3482 - val_mean_absolute_error: 2.6395\n",
            "Epoch 64/200\n",
            " - 0s - loss: 4.9037 - mean_absolute_error: 1.4588 - val_loss: 13.3855 - val_mean_absolute_error: 2.6171\n",
            "Epoch 65/200\n",
            " - 0s - loss: 5.0945 - mean_absolute_error: 1.4972 - val_loss: 12.5366 - val_mean_absolute_error: 2.4604\n",
            "Epoch 66/200\n",
            " - 0s - loss: 5.0843 - mean_absolute_error: 1.4549 - val_loss: 12.7581 - val_mean_absolute_error: 2.4678\n",
            "Epoch 67/200\n",
            " - 0s - loss: 5.1111 - mean_absolute_error: 1.4740 - val_loss: 13.2748 - val_mean_absolute_error: 2.5067\n",
            "Epoch 68/200\n",
            " - 0s - loss: 5.1260 - mean_absolute_error: 1.4371 - val_loss: 13.3794 - val_mean_absolute_error: 2.5089\n",
            "Epoch 69/200\n",
            " - 0s - loss: 4.7843 - mean_absolute_error: 1.4073 - val_loss: 12.7100 - val_mean_absolute_error: 2.4791\n",
            "Epoch 70/200\n",
            " - 0s - loss: 4.7544 - mean_absolute_error: 1.4723 - val_loss: 12.3814 - val_mean_absolute_error: 2.4984\n",
            "Epoch 71/200\n",
            " - 0s - loss: 4.6035 - mean_absolute_error: 1.4340 - val_loss: 13.4952 - val_mean_absolute_error: 2.4945\n",
            "Epoch 72/200\n",
            " - 0s - loss: 4.6465 - mean_absolute_error: 1.4015 - val_loss: 12.7240 - val_mean_absolute_error: 2.6228\n",
            "Epoch 73/200\n",
            " - 0s - loss: 5.0089 - mean_absolute_error: 1.4584 - val_loss: 12.2875 - val_mean_absolute_error: 2.5226\n",
            "Epoch 74/200\n",
            " - 0s - loss: 4.5985 - mean_absolute_error: 1.4294 - val_loss: 11.8365 - val_mean_absolute_error: 2.3973\n",
            "Epoch 75/200\n",
            " - 0s - loss: 4.2318 - mean_absolute_error: 1.3825 - val_loss: 12.4628 - val_mean_absolute_error: 2.4745\n",
            "Epoch 76/200\n",
            " - 0s - loss: 4.6271 - mean_absolute_error: 1.3763 - val_loss: 12.8557 - val_mean_absolute_error: 2.4639\n",
            "Epoch 77/200\n",
            " - 0s - loss: 4.4455 - mean_absolute_error: 1.3825 - val_loss: 12.8966 - val_mean_absolute_error: 2.4767\n",
            "Epoch 78/200\n",
            " - 0s - loss: 3.9926 - mean_absolute_error: 1.3389 - val_loss: 12.7664 - val_mean_absolute_error: 2.5917\n",
            "Epoch 79/200\n",
            " - 0s - loss: 4.0173 - mean_absolute_error: 1.3824 - val_loss: 13.4221 - val_mean_absolute_error: 2.5786\n",
            "Epoch 80/200\n",
            " - 0s - loss: 4.2219 - mean_absolute_error: 1.3333 - val_loss: 12.7474 - val_mean_absolute_error: 2.5519\n",
            "Epoch 81/200\n",
            " - 0s - loss: 4.0447 - mean_absolute_error: 1.3398 - val_loss: 13.2211 - val_mean_absolute_error: 2.5988\n",
            "Epoch 82/200\n",
            " - 0s - loss: 4.2891 - mean_absolute_error: 1.3611 - val_loss: 13.1096 - val_mean_absolute_error: 2.5166\n",
            "Epoch 83/200\n",
            " - 0s - loss: 4.0161 - mean_absolute_error: 1.3475 - val_loss: 16.1608 - val_mean_absolute_error: 3.0454\n"
          ],
          "name": "stdout"
        }
      ]
    },
    {
      "cell_type": "code",
      "metadata": {
        "colab_type": "code",
        "id": "g1EJEG6a9Ew-",
        "colab": {}
      },
      "source": [
        "# summarize history for loss\n",
        "plt.plot(mae_history)\n",
        "plt.title('model loss')\n",
        "plt.ylabel('Val loss')\n",
        "plt.xlabel('epoch')\n",
        "plt.show()"
      ],
      "execution_count": 0,
      "outputs": []
    },
    {
      "cell_type": "markdown",
      "metadata": {
        "colab_type": "text",
        "id": "ARqVvyMX9ExF"
      },
      "source": [
        "#### Takeaways\n",
        "* Regression is usually done using MSE loss and MAE for evaluation\n",
        "* Input data should always be scaled (independent from the test set)\n",
        "* Small datasets:\n",
        "    - Use cross-validation\n",
        "    - Use simple (non-deep) networks\n",
        "    - Smaller batches, more epochs"
      ]
    }
  ]
}