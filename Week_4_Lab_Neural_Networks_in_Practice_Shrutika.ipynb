{
  "nbformat": 4,
  "nbformat_minor": 0,
  "metadata": {
    "anaconda-cloud": {},
    "colab": {
      "name": "Week_4_Lab_Neural_Networks_in_Practice_Shrutika.ipynb",
      "provenance": [],
      "collapsed_sections": [],
      "include_colab_link": true
    },
    "kernelspec": {
      "display_name": "Python 3",
      "language": "python",
      "name": "python3"
    },
    "language_info": {
      "codemirror_mode": {
        "name": "ipython",
        "version": 3
      },
      "file_extension": ".py",
      "mimetype": "text/x-python",
      "name": "python",
      "nbconvert_exporter": "python",
      "pygments_lexer": "ipython3",
      "version": "3.7.0"
    }
  },
  "cells": [
    {
      "cell_type": "markdown",
      "metadata": {
        "id": "view-in-github",
        "colab_type": "text"
      },
      "source": [
        "<a href=\"https://colab.research.google.com/github/shrutikamokashi/EAI_Assignments/blob/master/Week_4_Lab_Neural_Networks_in_Practice_Shrutika.ipynb\" target=\"_parent\"><img src=\"https://colab.research.google.com/assets/colab-badge.svg\" alt=\"Open In Colab\"/></a>"
      ]
    },
    {
      "cell_type": "markdown",
      "metadata": {
        "colab_type": "text",
        "id": "jE7Q3E9i9Evd"
      },
      "source": [
        "# Week 4 Lab: Neural Networks in practice"
      ]
    },
    {
      "cell_type": "code",
      "metadata": {
        "colab_type": "code",
        "hide_input": false,
        "id": "gWDjQyV59Evg",
        "outputId": "b798fbf9-5268-4df8-ba6e-69953f4a5d74",
        "colab": {
          "base_uri": "https://localhost:8080/",
          "height": 99
        }
      },
      "source": [
        "# Global imports and settings\n",
        "\n",
        "from IPython.display import set_matplotlib_formats, display\n",
        "import pandas as pd\n",
        "import numpy as np\n",
        "import matplotlib.pyplot as plt\n",
        "from cycler import cycler\n",
        "import keras\n",
        "print(\"Using Keras\",keras.__version__)\n",
        "%matplotlib inline\n",
        "plt.rcParams['figure.dpi'] = 125 # Use 300 for PDF, 100 for slides\n"
      ],
      "execution_count": 1,
      "outputs": [
        {
          "output_type": "stream",
          "text": [
            "Using TensorFlow backend.\n"
          ],
          "name": "stderr"
        },
        {
          "output_type": "display_data",
          "data": {
            "text/html": [
              "<p style=\"color: red;\">\n",
              "The default version of TensorFlow in Colab will soon switch to TensorFlow 2.x.<br>\n",
              "We recommend you <a href=\"https://www.tensorflow.org/guide/migrate\" target=\"_blank\">upgrade</a> now \n",
              "or ensure your notebook will continue to use TensorFlow 1.x via the <code>%tensorflow_version 1.x</code> magic:\n",
              "<a href=\"https://colab.research.google.com/notebooks/tensorflow_version.ipynb\" target=\"_blank\">more info</a>.</p>\n"
            ],
            "text/plain": [
              "<IPython.core.display.HTML object>"
            ]
          },
          "metadata": {
            "tags": []
          }
        },
        {
          "output_type": "stream",
          "text": [
            "Using Keras 2.2.5\n"
          ],
          "name": "stdout"
        }
      ]
    },
    {
      "cell_type": "markdown",
      "metadata": {
        "cell_style": "center",
        "colab_type": "text",
        "id": "QJdIHypq9Evk"
      },
      "source": [
        "### Overview\n",
        "* Solving basic classification and regression problems\n",
        "* Handling textual data\n",
        "* Model selection (and overfitting)"
      ]
    },
    {
      "cell_type": "markdown",
      "metadata": {
        "colab_type": "text",
        "id": "njT6MasM9Evl"
      },
      "source": [
        "## Solving basic problems\n",
        "* Binary classification (of movie reviews)\n",
        "* Multiclass classification (of news topics)\n",
        "* Regression (of house prices)\n",
        "\n",
        "Examples from _Deep Learning with Python_, by _François Chollet_"
      ]
    },
    {
      "cell_type": "markdown",
      "metadata": {
        "colab_type": "text",
        "id": "xsUfzIi59Evn"
      },
      "source": [
        "### Binary classification\n",
        "* Dataset: 50,000 IMDB reviews, labeled positive (1) or negative (0)\n",
        "    - Included in Keras, with a 50/50 train-test split\n",
        "* Each row is one review, with only the 10,000 most frequent words retained\n",
        "* Each word is replaced by a _word index_ (word ID)"
      ]
    },
    {
      "cell_type": "code",
      "metadata": {
        "colab_type": "code",
        "hide_input": true,
        "id": "Mk42XDWZ9Evn",
        "outputId": "bf552bac-67d1-4c3f-e138-9d92acfe32da",
        "colab": {
          "base_uri": "https://localhost:8080/",
          "height": 52
        }
      },
      "source": [
        "from keras.datasets import imdb\n",
        "# Download IMDB data with 10000 most frequent words\n",
        "(train_data, train_labels), (test_data, test_labels) = imdb.load_data(num_words=10000)\n",
        "print(\"Encoded review: \", train_data[0][0:10])\n",
        "\n",
        "word_index = imdb.get_word_index()\n",
        "reverse_word_index = dict([(value, key) for (key, value) in word_index.items()])\n",
        "print(\"Original review: \", ' '.join([reverse_word_index.get(i - 3, '?') for i in train_data[0]][0:10]))"
      ],
      "execution_count": 2,
      "outputs": [
        {
          "output_type": "stream",
          "text": [
            "Encoded review:  [1, 14, 22, 16, 43, 530, 973, 1622, 1385, 65]\n",
            "Original review:  ? this film was just brilliant casting location scenery story\n"
          ],
          "name": "stdout"
        }
      ]
    },
    {
      "cell_type": "code",
      "metadata": {
        "id": "48AO_SCr2AiE",
        "colab_type": "code",
        "colab": {}
      },
      "source": [
        "def decode_review(a):\n",
        "  word_index = imdb.get_word_index()\n",
        "  reverse_word_index = dict([(value, key) for (key, value) in word_index.items()])\n",
        "  print(' '.join([reverse_word_index.get(i-3, '') for i in a]))"
      ],
      "execution_count": 0,
      "outputs": []
    },
    {
      "cell_type": "markdown",
      "metadata": {
        "colab_type": "text",
        "id": "gbHSVzma9Evq"
      },
      "source": [
        "#### Preprocessing\n",
        "* We can't input lists of categorical value to a neural net, we need to create tensors\n",
        "* One-hot-encoding:\n",
        "    -  10000 features, '1.0' if the word occurs\n",
        "* Word embeddings (word2vec):\n",
        "    - Map each word to a dense vector that represents it (it's _embedding_)\n",
        "    - _Embedding_ layer: pre-trained layer that looks up the embedding in a dictionary \n",
        "    - Converts 2D tensor of word indices (zero-padded) to 3D tensor of embeddings\n",
        "* Let's do One-Hot-Encoding for now. We'll come back to _Embedding_ layers.\n",
        "* Also vectorize the labels: from 0/1 to float\n",
        "    - Binary classification works with one output node"
      ]
    },
    {
      "cell_type": "code",
      "metadata": {
        "colab_type": "code",
        "hide_input": true,
        "id": "nSzfO-XG9Evs",
        "colab": {}
      },
      "source": [
        "# Custom implementation of one-hot-encoding\n",
        "def vectorize_sequences(sequences, dimension=10000):\n",
        "    results = np.zeros((len(sequences), dimension))\n",
        "    for i, sequence in enumerate(sequences):\n",
        "        results[i, sequence] = 1.  # set specific indices of results[i] to 1s\n",
        "    return results\n",
        "x_train = vectorize_sequences(train_data)\n",
        "x_test = vectorize_sequences(test_data)\n",
        "y_train = np.asarray(train_labels).astype('float32')\n",
        "y_test = np.asarray(test_labels).astype('float32')"
      ],
      "execution_count": 0,
      "outputs": []
    },
    {
      "cell_type": "code",
      "metadata": {
        "id": "wJcWOjbdq8-E",
        "colab_type": "code",
        "colab": {
          "base_uri": "https://localhost:8080/",
          "height": 35
        },
        "outputId": "92f7f9e5-b76e-4ace-88e2-9f2d979f9d3e"
      },
      "source": [
        "len(train_data[1])"
      ],
      "execution_count": 5,
      "outputs": [
        {
          "output_type": "execute_result",
          "data": {
            "text/plain": [
              "189"
            ]
          },
          "metadata": {
            "tags": []
          },
          "execution_count": 5
        }
      ]
    },
    {
      "cell_type": "markdown",
      "metadata": {
        "colab_type": "text",
        "id": "4_JHofjQRme1"
      },
      "source": [
        "#### Understanding the format of IMDB dataset\n",
        "1. Train_data and test_data are an array of lists. What does the length of this array correspond to? What does the length of each list correspond to?\n",
        "2. What are the sizes of the vectorized x_train and x_test? What do the dimensions correspond to?\n",
        "3. What is the most common word in the first review in the training data? Hint: use the word index (see above)? \n",
        "4. Print the first review to verify. "
      ]
    },
    {
      "cell_type": "code",
      "metadata": {
        "colab_type": "code",
        "id": "ceBrbGWxRLJK",
        "outputId": "9f56015c-a056-4496-f2e5-31267624fdda",
        "colab": {
          "base_uri": "https://localhost:8080/",
          "height": 52
        }
      },
      "source": [
        "## 1. Train_data and test_data are an array of lists. What does the length of this array correspond to? What does the length of each list correspond to?\n",
        "print(\"Length of train_data: \"+str(len(train_data)))\n",
        "print(\"Length of test_data: \"+str(len(test_data)))\n"
      ],
      "execution_count": 6,
      "outputs": [
        {
          "output_type": "stream",
          "text": [
            "Length of train_data: 25000\n",
            "Length of test_data: 25000\n"
          ],
          "name": "stdout"
        }
      ]
    },
    {
      "cell_type": "markdown",
      "metadata": {
        "id": "m3trXzHipRMQ",
        "colab_type": "text"
      },
      "source": [
        "Length of this array corresponds to 25000 movie reviews in each of the dataset.\n",
        "Length of each list correspond to the number of words present in the review."
      ]
    },
    {
      "cell_type": "code",
      "metadata": {
        "id": "AI2Qv4MXcHYu",
        "colab_type": "code",
        "outputId": "368c8876-7885-496e-8d30-ba91805f3f31",
        "colab": {
          "base_uri": "https://localhost:8080/",
          "height": 87
        }
      },
      "source": [
        "## 2. What are the sizes of the vectorized x_train and x_test? What do the dimensions correspond to?\n",
        "print(x_train.size)\n",
        "print(x_train.shape)\n",
        "print(x_test.size)\n",
        "print(x_train.shape)"
      ],
      "execution_count": 7,
      "outputs": [
        {
          "output_type": "stream",
          "text": [
            "250000000\n",
            "(25000, 10000)\n",
            "250000000\n",
            "(25000, 10000)\n"
          ],
          "name": "stdout"
        }
      ]
    },
    {
      "cell_type": "code",
      "metadata": {
        "id": "ihf_kq4GeU2c",
        "colab_type": "code",
        "colab": {
          "base_uri": "https://localhost:8080/",
          "height": 35
        },
        "outputId": "0833f0ba-67b1-4827-9592-0d9599f6abc1"
      },
      "source": [
        "train_data[0][0]"
      ],
      "execution_count": 8,
      "outputs": [
        {
          "output_type": "execute_result",
          "data": {
            "text/plain": [
              "1"
            ]
          },
          "metadata": {
            "tags": []
          },
          "execution_count": 8
        }
      ]
    },
    {
      "cell_type": "markdown",
      "metadata": {
        "id": "6er5h3xerVFZ",
        "colab_type": "text"
      },
      "source": [
        "The dimensions correspond to 25000 reviews and 10000 most frequently retained words for each review."
      ]
    },
    {
      "cell_type": "code",
      "metadata": {
        "id": "0yDLD3osqeV3",
        "colab_type": "code",
        "outputId": "e410748b-d83c-4d87-e672-4c93ee56f593",
        "colab": {
          "base_uri": "https://localhost:8080/",
          "height": 35
        }
      },
      "source": [
        "## 3. What is the most common word in the first review in the training data? Hint: use the word index (see above)? \n",
        "import collections\n",
        "import operator\n",
        "def CountFreq(arr): \n",
        "    return collections.Counter(arr) \n",
        "\n",
        "freq = CountFreq(train_data[0])\n",
        "freq.keys()\n",
        "max(freq.items(), key=operator.itemgetter(1))\n",
        "print(\"Most frequent occuring word : \"+reverse_word_index[4 - 3])"
      ],
      "execution_count": 9,
      "outputs": [
        {
          "output_type": "stream",
          "text": [
            "Most frequent occuring word : the\n"
          ],
          "name": "stdout"
        }
      ]
    },
    {
      "cell_type": "code",
      "metadata": {
        "id": "NuQchrc5qgtb",
        "colab_type": "code",
        "outputId": "c17b8745-848b-44d3-f44f-1bf2f7d4330e",
        "colab": {
          "base_uri": "https://localhost:8080/",
          "height": 55
        }
      },
      "source": [
        "## 4. Print the first review to verify. \n",
        "decode_review(train_data[0])"
      ],
      "execution_count": 10,
      "outputs": [
        {
          "output_type": "stream",
          "text": [
            " this film was just brilliant casting location scenery story direction everyone's really suited the part they played and you could just imagine being there robert  is an amazing actor and now the same being director  father came from the same scottish island as myself so i loved the fact there was a real connection with this film the witty remarks throughout the film were great it was just brilliant so much that i bought the film as soon as it was released for  and would recommend it to everyone to watch and the fly fishing was amazing really cried at the end it was so sad and you know what they say if you cry at a film it must have been good and this definitely was also  to the two little boy's that played the  of norman and paul they were just brilliant children are often left out of the  list i think because the stars that play them all grown up are such a big profile for the whole film but these children are amazing and should be praised for what they have done don't you think the whole story was so lovely because it was true and was someone's life after all that was shared with us all\n"
          ],
          "name": "stdout"
        }
      ]
    },
    {
      "cell_type": "code",
      "metadata": {
        "id": "0cZwSxMigEzX",
        "colab_type": "code",
        "colab": {
          "base_uri": "https://localhost:8080/",
          "height": 35
        },
        "outputId": "f5a23cd1-b6de-49b4-d866-a72fd500e1fb"
      },
      "source": [
        "train_data[0].count(14)"
      ],
      "execution_count": 11,
      "outputs": [
        {
          "output_type": "execute_result",
          "data": {
            "text/plain": [
              "3"
            ]
          },
          "metadata": {
            "tags": []
          },
          "execution_count": 11
        }
      ]
    },
    {
      "cell_type": "markdown",
      "metadata": {
        "colab_type": "text",
        "id": "GVar7SNn9Evu"
      },
      "source": [
        "#### Building the network\n",
        "* We can solve this problem using a network of _Dense_ layers and the _ReLU_ activation function.\n",
        "* How many layers? How many hidden units for layer?\n",
        "    - Start with 2 layers of 16 hidden units each\n",
        "    - We'll optimize this soon\n",
        "* Output layer: single unit with _sigmoid_ activation function\n",
        "    - Close to 1: positive review, close to 0: negative review\n",
        "* Use binary_crossentropy loss"
      ]
    },
    {
      "cell_type": "code",
      "metadata": {
        "colab_type": "code",
        "id": "wglvzu9E9Evx",
        "outputId": "8eb0dfc6-2485-43bb-b102-4404f1b879d5",
        "colab": {
          "base_uri": "https://localhost:8080/",
          "height": 263
        }
      },
      "source": [
        "from keras import models\n",
        "from keras import layers \n",
        "\n",
        "model = models.Sequential()\n",
        "model.add(layers.Dense(16, activation='relu', input_shape=(10000,)))\n",
        "model.add(layers.Dense(16, activation='relu'))\n",
        "model.add(layers.Dense(1, activation='sigmoid'))\n",
        "\n",
        "model.compile(optimizer='rmsprop',\n",
        "              loss='binary_crossentropy',\n",
        "              metrics=['accuracy'])"
      ],
      "execution_count": 12,
      "outputs": [
        {
          "output_type": "stream",
          "text": [
            "WARNING:tensorflow:From /usr/local/lib/python3.6/dist-packages/keras/backend/tensorflow_backend.py:66: The name tf.get_default_graph is deprecated. Please use tf.compat.v1.get_default_graph instead.\n",
            "\n",
            "WARNING:tensorflow:From /usr/local/lib/python3.6/dist-packages/keras/backend/tensorflow_backend.py:541: The name tf.placeholder is deprecated. Please use tf.compat.v1.placeholder instead.\n",
            "\n",
            "WARNING:tensorflow:From /usr/local/lib/python3.6/dist-packages/keras/backend/tensorflow_backend.py:4432: The name tf.random_uniform is deprecated. Please use tf.random.uniform instead.\n",
            "\n",
            "WARNING:tensorflow:From /usr/local/lib/python3.6/dist-packages/keras/optimizers.py:793: The name tf.train.Optimizer is deprecated. Please use tf.compat.v1.train.Optimizer instead.\n",
            "\n",
            "WARNING:tensorflow:From /usr/local/lib/python3.6/dist-packages/keras/backend/tensorflow_backend.py:3657: The name tf.log is deprecated. Please use tf.math.log instead.\n",
            "\n",
            "WARNING:tensorflow:From /usr/local/lib/python3.6/dist-packages/tensorflow_core/python/ops/nn_impl.py:183: where (from tensorflow.python.ops.array_ops) is deprecated and will be removed in a future version.\n",
            "Instructions for updating:\n",
            "Use tf.where in 2.0, which has the same broadcast rule as np.where\n"
          ],
          "name": "stdout"
        }
      ]
    },
    {
      "cell_type": "markdown",
      "metadata": {
        "colab_type": "text",
        "id": "0S_Fnh169Ev0"
      },
      "source": [
        "#### Model selection\n",
        "* How many epochs do we need for training?\n",
        "* Take a validation set of 10,000 samples from the training set\n",
        "* Train the neural net and track the loss after every iteration on the validation set\n",
        "    - This is returned as a `History` object by the `fit()` function \n",
        "* We start with 20 epochs in minibatches of 512 samples\n"
      ]
    },
    {
      "cell_type": "code",
      "metadata": {
        "colab_type": "code",
        "id": "b3aTf8rL9Ev0",
        "outputId": "03f1c234-c2b8-405c-8567-b32fba895962",
        "colab": {
          "base_uri": "https://localhost:8080/",
          "height": 1000
        }
      },
      "source": [
        "x_val, partial_x_train = x_train[:10000], x_train[10000:]\n",
        "y_val, partial_y_train = y_train[:10000], y_train[10000:] \n",
        "history = model.fit(partial_x_train, partial_y_train,\n",
        "                    epochs=20, batch_size=512, verbose=2,\n",
        "                    validation_data=(x_val, y_val))"
      ],
      "execution_count": 13,
      "outputs": [
        {
          "output_type": "stream",
          "text": [
            "WARNING:tensorflow:From /usr/local/lib/python3.6/dist-packages/keras/backend/tensorflow_backend.py:1033: The name tf.assign_add is deprecated. Please use tf.compat.v1.assign_add instead.\n",
            "\n",
            "WARNING:tensorflow:From /usr/local/lib/python3.6/dist-packages/keras/backend/tensorflow_backend.py:1020: The name tf.assign is deprecated. Please use tf.compat.v1.assign instead.\n",
            "\n",
            "WARNING:tensorflow:From /usr/local/lib/python3.6/dist-packages/keras/backend/tensorflow_backend.py:3005: The name tf.Session is deprecated. Please use tf.compat.v1.Session instead.\n",
            "\n",
            "Train on 15000 samples, validate on 10000 samples\n",
            "Epoch 1/20\n",
            "WARNING:tensorflow:From /usr/local/lib/python3.6/dist-packages/keras/backend/tensorflow_backend.py:190: The name tf.get_default_session is deprecated. Please use tf.compat.v1.get_default_session instead.\n",
            "\n",
            "WARNING:tensorflow:From /usr/local/lib/python3.6/dist-packages/keras/backend/tensorflow_backend.py:197: The name tf.ConfigProto is deprecated. Please use tf.compat.v1.ConfigProto instead.\n",
            "\n",
            "WARNING:tensorflow:From /usr/local/lib/python3.6/dist-packages/keras/backend/tensorflow_backend.py:207: The name tf.global_variables is deprecated. Please use tf.compat.v1.global_variables instead.\n",
            "\n",
            "WARNING:tensorflow:From /usr/local/lib/python3.6/dist-packages/keras/backend/tensorflow_backend.py:216: The name tf.is_variable_initialized is deprecated. Please use tf.compat.v1.is_variable_initialized instead.\n",
            "\n",
            "WARNING:tensorflow:From /usr/local/lib/python3.6/dist-packages/keras/backend/tensorflow_backend.py:223: The name tf.variables_initializer is deprecated. Please use tf.compat.v1.variables_initializer instead.\n",
            "\n",
            " - 2s - loss: 0.5076 - acc: 0.7855 - val_loss: 0.3955 - val_acc: 0.8580\n",
            "Epoch 2/20\n",
            " - 1s - loss: 0.3022 - acc: 0.9051 - val_loss: 0.3078 - val_acc: 0.8848\n",
            "Epoch 3/20\n",
            " - 1s - loss: 0.2222 - acc: 0.9273 - val_loss: 0.2833 - val_acc: 0.8885\n",
            "Epoch 4/20\n",
            " - 1s - loss: 0.1744 - acc: 0.9440 - val_loss: 0.2784 - val_acc: 0.8863\n",
            "Epoch 5/20\n",
            " - 1s - loss: 0.1411 - acc: 0.9566 - val_loss: 0.2915 - val_acc: 0.8842\n",
            "Epoch 6/20\n",
            " - 1s - loss: 0.1165 - acc: 0.9635 - val_loss: 0.3185 - val_acc: 0.8794\n",
            "Epoch 7/20\n",
            " - 1s - loss: 0.0952 - acc: 0.9734 - val_loss: 0.3491 - val_acc: 0.8730\n",
            "Epoch 8/20\n",
            " - 1s - loss: 0.0805 - acc: 0.9765 - val_loss: 0.3486 - val_acc: 0.8778\n",
            "Epoch 9/20\n",
            " - 1s - loss: 0.0637 - acc: 0.9842 - val_loss: 0.3533 - val_acc: 0.8800\n",
            "Epoch 10/20\n",
            " - 1s - loss: 0.0519 - acc: 0.9878 - val_loss: 0.3796 - val_acc: 0.8796\n",
            "Epoch 11/20\n",
            " - 1s - loss: 0.0457 - acc: 0.9893 - val_loss: 0.4061 - val_acc: 0.8768\n",
            "Epoch 12/20\n",
            " - 1s - loss: 0.0305 - acc: 0.9944 - val_loss: 0.4455 - val_acc: 0.8699\n",
            "Epoch 13/20\n",
            " - 1s - loss: 0.0286 - acc: 0.9947 - val_loss: 0.4584 - val_acc: 0.8752\n",
            "Epoch 14/20\n",
            " - 1s - loss: 0.0211 - acc: 0.9964 - val_loss: 0.5125 - val_acc: 0.8690\n",
            "Epoch 15/20\n",
            " - 1s - loss: 0.0180 - acc: 0.9973 - val_loss: 0.5160 - val_acc: 0.8707\n",
            "Epoch 16/20\n",
            " - 1s - loss: 0.0132 - acc: 0.9986 - val_loss: 0.5441 - val_acc: 0.8694\n",
            "Epoch 17/20\n",
            " - 1s - loss: 0.0104 - acc: 0.9989 - val_loss: 0.5849 - val_acc: 0.8657\n",
            "Epoch 18/20\n",
            " - 1s - loss: 0.0114 - acc: 0.9979 - val_loss: 0.6015 - val_acc: 0.8670\n",
            "Epoch 19/20\n",
            " - 1s - loss: 0.0047 - acc: 0.9999 - val_loss: 0.6296 - val_acc: 0.8655\n",
            "Epoch 20/20\n",
            " - 1s - loss: 0.0085 - acc: 0.9982 - val_loss: 0.6553 - val_acc: 0.8657\n"
          ],
          "name": "stdout"
        }
      ]
    },
    {
      "cell_type": "markdown",
      "metadata": {
        "colab_type": "text",
        "id": "PrxYLkMX9Ev3"
      },
      "source": [
        "#### Evaluate model performance during training\n",
        "1. Plot the training and validation loss as a function of training epoch. Describe what happens during the training in terms of under or overfitting.\n",
        "2. Plot the training and validation accuracy as a function of the training epoch.\n",
        "\n",
        "Hint: these quantities are contained in the dict history.history."
      ]
    },
    {
      "cell_type": "code",
      "metadata": {
        "colab_type": "code",
        "hide_input": true,
        "id": "4YH3yVZy9Ev4",
        "outputId": "8d62571f-c742-4b79-f79f-10208d97536f",
        "colab": {
          "base_uri": "https://localhost:8080/",
          "height": 260
        }
      },
      "source": [
        "model.summary()"
      ],
      "execution_count": 14,
      "outputs": [
        {
          "output_type": "stream",
          "text": [
            "Model: \"sequential_1\"\n",
            "_________________________________________________________________\n",
            "Layer (type)                 Output Shape              Param #   \n",
            "=================================================================\n",
            "dense_1 (Dense)              (None, 16)                160016    \n",
            "_________________________________________________________________\n",
            "dense_2 (Dense)              (None, 16)                272       \n",
            "_________________________________________________________________\n",
            "dense_3 (Dense)              (None, 1)                 17        \n",
            "=================================================================\n",
            "Total params: 160,305\n",
            "Trainable params: 160,305\n",
            "Non-trainable params: 0\n",
            "_________________________________________________________________\n"
          ],
          "name": "stdout"
        }
      ]
    },
    {
      "cell_type": "code",
      "metadata": {
        "id": "rQux3t0RaArb",
        "colab_type": "code",
        "outputId": "f6f1bcea-9391-41e3-88b4-7d5df4baae1d",
        "colab": {
          "base_uri": "https://localhost:8080/",
          "height": 35
        }
      },
      "source": [
        "print(history.history.keys())\n"
      ],
      "execution_count": 15,
      "outputs": [
        {
          "output_type": "stream",
          "text": [
            "dict_keys(['val_loss', 'val_acc', 'loss', 'acc'])\n"
          ],
          "name": "stdout"
        }
      ]
    },
    {
      "cell_type": "code",
      "metadata": {
        "id": "cQc2dO97AJgd",
        "colab_type": "code",
        "colab": {}
      },
      "source": [
        "import matplotlib.pyplot as plt"
      ],
      "execution_count": 0,
      "outputs": []
    },
    {
      "cell_type": "code",
      "metadata": {
        "id": "sCscyGb7COC_",
        "colab_type": "code",
        "outputId": "202b605e-a513-4e27-8206-5a7e025b0aa5",
        "colab": {
          "base_uri": "https://localhost:8080/",
          "height": 501
        }
      },
      "source": [
        "## 1. Plot the training and validation loss as a function of training epoch. Describe what happens during the training in terms of under or overfitting.\n",
        "plt.plot(history.history['loss'])\n",
        "plt.plot(history.history['val_loss'])\n",
        "plt.title('model loss')\n",
        "plt.ylabel('loss')\n",
        "plt.xlabel('epoch')\n",
        "plt.legend(['train', 'test'], loc='upper left')\n",
        "plt.show()"
      ],
      "execution_count": 17,
      "outputs": [
        {
          "output_type": "display_data",
          "data": {
            "image/png": "[encoded data removed]",
            "text/plain": [
              "<Figure size 750x500 with 1 Axes>"
            ]
          },
          "metadata": {
            "tags": []
          }
        }
      ]
    },
    {
      "cell_type": "markdown",
      "metadata": {
        "id": "xxeA7HGYiZD9",
        "colab_type": "text"
      },
      "source": [
        "As we can see from the graph that the model is overfitting. A training set is an approach nearly perfect accuracy. "
      ]
    },
    {
      "cell_type": "code",
      "metadata": {
        "colab_type": "code",
        "hide_input": true,
        "id": "wrJhYEe09Ev-",
        "outputId": "6b93c68d-da9c-4669-d226-1e6a363ff906",
        "colab": {
          "base_uri": "https://localhost:8080/",
          "height": 501
        }
      },
      "source": [
        "## 2. Plot the training and validation accuracy as a function of the training epoch.\n",
        "plt.plot(history.history['val_acc'])\n",
        "plt.plot(history.history['acc'])\n",
        "plt.title('model accuracy')\n",
        "plt.ylabel('accuracy')\n",
        "plt.xlabel('epoch')\n",
        "plt.legend(['train', 'test'], loc='upper left')\n",
        "plt.show()"
      ],
      "execution_count": 18,
      "outputs": [
        {
          "output_type": "display_data",
          "data": {
            "image/png": "[encoded data removed]",
            "text/plain": [
              "<Figure size 750x500 with 1 Axes>"
            ]
          },
          "metadata": {
            "tags": []
          }
        }
      ]
    },
    {
      "cell_type": "markdown",
      "metadata": {
        "id": "uJgaWvNIiq9f",
        "colab_type": "text"
      },
      "source": [
        "As per the result, I understood that the network begin to overfit as the epoches are increasing. Which means the model's train accuracy is increasing but the test accuracy or validation accuracy is decreasing with the increase in no.of epochs"
      ]
    },
    {
      "cell_type": "markdown",
      "metadata": {
        "colab_type": "text",
        "id": "FWDq34yW9EwA"
      },
      "source": [
        "#### Early stopping\n",
        "One simple technique to avoid overfitting is to use the validation set to 'tune' the optimal number of epochs\n",
        "* In this case, we could stop after 4 epochs\n"
      ]
    },
    {
      "cell_type": "code",
      "metadata": {
        "cellView": "both",
        "colab_type": "code",
        "id": "Csk3_Yn09EwB",
        "outputId": "4358d8b8-cf34-49ad-b59c-3cd2442d8c28",
        "colab": {
          "base_uri": "https://localhost:8080/",
          "height": 191
        }
      },
      "source": [
        "#@title\n",
        "model.fit(x_train, y_train, epochs=4, batch_size=512, verbose=2)\n",
        "result = model.evaluate(x_test, y_test)\n",
        "print(\"Loss: {:.4f}, Accuracy:  {:.4f}\".format(*result))"
      ],
      "execution_count": 19,
      "outputs": [
        {
          "output_type": "stream",
          "text": [
            "Epoch 1/4\n",
            " - 2s - loss: 0.2271 - acc: 0.9467\n",
            "Epoch 2/4\n",
            " - 2s - loss: 0.1397 - acc: 0.9606\n",
            "Epoch 3/4\n",
            " - 2s - loss: 0.1070 - acc: 0.9684\n",
            "Epoch 4/4\n",
            " - 2s - loss: 0.0870 - acc: 0.9742\n",
            "25000/25000 [==============================] - 2s 65us/step\n",
            "Loss: 0.4916, Accuracy:  0.8584\n"
          ],
          "name": "stdout"
        }
      ]
    },
    {
      "cell_type": "markdown",
      "metadata": {
        "colab_type": "text",
        "id": "5Mo4BX1N9EwD"
      },
      "source": [
        "#### Predictions\n",
        "1. Print the first review that were correctly classified along with the predicted value.\n",
        "2. Print the first review that were misclassified along with the predicted value. Can you explain why the model likely failed? How confident was the model?"
      ]
    },
    {
      "cell_type": "code",
      "metadata": {
        "id": "lopnrHwhlLH4",
        "colab_type": "code",
        "colab": {}
      },
      "source": [
        "## 1. Print the first review that were correctly classified along with the predicted value.\n",
        "predicted_classes = model.predict_classes(x_test).reshape(25000)\n",
        "prediction_probabilities = model.predict(x_test)"
      ],
      "execution_count": 0,
      "outputs": []
    },
    {
      "cell_type": "code",
      "metadata": {
        "id": "00bOs4UIi_ZG",
        "colab_type": "code",
        "colab": {
          "base_uri": "https://localhost:8080/",
          "height": 124
        },
        "outputId": "509baade-5513-43cb-9ef1-064182d689f8"
      },
      "source": [
        "correctly_classified = test_labels == predicted_classes\n",
        "mis_classified = test_labels != predicted_classes\n",
        "\n",
        "correctly_classified_predictions = test_data[correctly_classified]\n",
        "misclassified_predictions = test_data[mis_classified]\n",
        "print(misclassified_predictions[0][0])\n",
        "\n",
        "print(\"Correctly classified Prediction:  \".join([reverse_word_index.get(i - 3, \"\") for i in correctly_classified_predictions[0]]))\n",
        "print('\\n')\n",
        "print(\"Missclassified Prediction: \".join([reverse_word_index.get(i - 3, \"\") for i in misclassified_predictions[0]]))"
      ],
      "execution_count": 21,
      "outputs": [
        {
          "output_type": "stream",
          "text": [
            "1\n",
            "Correctly classified Prediction:  pleaseCorrectly classified Prediction:  giveCorrectly classified Prediction:  thisCorrectly classified Prediction:  oneCorrectly classified Prediction:  aCorrectly classified Prediction:  missCorrectly classified Prediction:  brCorrectly classified Prediction:  brCorrectly classified Prediction:  Correctly classified Prediction:  Correctly classified Prediction:  andCorrectly classified Prediction:  theCorrectly classified Prediction:  restCorrectly classified Prediction:  ofCorrectly classified Prediction:  theCorrectly classified Prediction:  castCorrectly classified Prediction:  renderedCorrectly classified Prediction:  terribleCorrectly classified Prediction:  performancesCorrectly classified Prediction:  theCorrectly classified Prediction:  showCorrectly classified Prediction:  isCorrectly classified Prediction:  flatCorrectly classified Prediction:  flatCorrectly classified Prediction:  flatCorrectly classified Prediction:  brCorrectly classified Prediction:  brCorrectly classified Prediction:  iCorrectly classified Prediction:  don'tCorrectly classified Prediction:  knowCorrectly classified Prediction:  howCorrectly classified Prediction:  michaelCorrectly classified Prediction:  madisonCorrectly classified Prediction:  couldCorrectly classified Prediction:  haveCorrectly classified Prediction:  allowedCorrectly classified Prediction:  thisCorrectly classified Prediction:  oneCorrectly classified Prediction:  onCorrectly classified Prediction:  hisCorrectly classified Prediction:  plateCorrectly classified Prediction:  heCorrectly classified Prediction:  almostCorrectly classified Prediction:  seemedCorrectly classified Prediction:  toCorrectly classified Prediction:  knowCorrectly classified Prediction:  thisCorrectly classified Prediction:  wasn'tCorrectly classified Prediction:  goingCorrectly classified Prediction:  toCorrectly classified Prediction:  workCorrectly classified Prediction:  outCorrectly classified Prediction:  andCorrectly classified Prediction:  hisCorrectly classified Prediction:  performanceCorrectly classified Prediction:  wasCorrectly classified Prediction:  quiteCorrectly classified Prediction:  Correctly classified Prediction:  soCorrectly classified Prediction:  allCorrectly classified Prediction:  youCorrectly classified Prediction:  madisonCorrectly classified Prediction:  fansCorrectly classified Prediction:  giveCorrectly classified Prediction:  thisCorrectly classified Prediction:  aCorrectly classified Prediction:  miss\n",
            "\n",
            "\n",
            "Missclassified Prediction: iMissclassified Prediction: generallyMissclassified Prediction: loveMissclassified Prediction: thisMissclassified Prediction: typeMissclassified Prediction: ofMissclassified Prediction: movieMissclassified Prediction: howeverMissclassified Prediction: thisMissclassified Prediction: timeMissclassified Prediction: iMissclassified Prediction: foundMissclassified Prediction: myselfMissclassified Prediction: wantingMissclassified Prediction: toMissclassified Prediction: kickMissclassified Prediction: theMissclassified Prediction: screenMissclassified Prediction: sinceMissclassified Prediction: iMissclassified Prediction: can'tMissclassified Prediction: doMissclassified Prediction: thatMissclassified Prediction: iMissclassified Prediction: willMissclassified Prediction: justMissclassified Prediction: complainMissclassified Prediction: aboutMissclassified Prediction: itMissclassified Prediction: thisMissclassified Prediction: wasMissclassified Prediction: absolutelyMissclassified Prediction: idioticMissclassified Prediction: theMissclassified Prediction: thingsMissclassified Prediction: thatMissclassified Prediction: happenMissclassified Prediction: withMissclassified Prediction: theMissclassified Prediction: deadMissclassified Prediction: kidsMissclassified Prediction: areMissclassified Prediction: veryMissclassified Prediction: coolMissclassified Prediction: butMissclassified Prediction: theMissclassified Prediction: aliveMissclassified Prediction: peopleMissclassified Prediction: areMissclassified Prediction: absoluteMissclassified Prediction: idiotsMissclassified Prediction: iMissclassified Prediction: amMissclassified Prediction: aMissclassified Prediction: grownMissclassified Prediction: manMissclassified Prediction: prettyMissclassified Prediction: bigMissclassified Prediction: andMissclassified Prediction: iMissclassified Prediction: canMissclassified Prediction: defendMissclassified Prediction: myselfMissclassified Prediction: wellMissclassified Prediction: howeverMissclassified Prediction: iMissclassified Prediction: wouldMissclassified Prediction: notMissclassified Prediction: doMissclassified Prediction: halfMissclassified Prediction: theMissclassified Prediction: stuffMissclassified Prediction: theMissclassified Prediction: littleMissclassified Prediction: girlMissclassified Prediction: doesMissclassified Prediction: inMissclassified Prediction: thisMissclassified Prediction: movieMissclassified Prediction: alsoMissclassified Prediction: theMissclassified Prediction: motherMissclassified Prediction: inMissclassified Prediction: thisMissclassified Prediction: movieMissclassified Prediction: isMissclassified Prediction: recklessMissclassified Prediction: withMissclassified Prediction: herMissclassified Prediction: childrenMissclassified Prediction: toMissclassified Prediction: theMissclassified Prediction: pointMissclassified Prediction: ofMissclassified Prediction: neglectMissclassified Prediction: iMissclassified Prediction: wishMissclassified Prediction: iMissclassified Prediction: wasn'tMissclassified Prediction: soMissclassified Prediction: angryMissclassified Prediction: aboutMissclassified Prediction: herMissclassified Prediction: andMissclassified Prediction: herMissclassified Prediction: actionsMissclassified Prediction: becauseMissclassified Prediction: iMissclassified Prediction: wouldMissclassified Prediction: haveMissclassified Prediction: otherwiseMissclassified Prediction: enjoyedMissclassified Prediction: theMissclassified Prediction: flickMissclassified Prediction: whatMissclassified Prediction: aMissclassified Prediction: numberMissclassified Prediction: sheMissclassified Prediction: wasMissclassified Prediction: takeMissclassified Prediction: myMissclassified Prediction: adviseMissclassified Prediction: andMissclassified Prediction: fastMissclassified Prediction: forwardMissclassified Prediction: throughMissclassified Prediction: everythingMissclassified Prediction: youMissclassified Prediction: seeMissclassified Prediction: herMissclassified Prediction: doMissclassified Prediction: untilMissclassified Prediction: theMissclassified Prediction: endMissclassified Prediction: alsoMissclassified Prediction: isMissclassified Prediction: anyoneMissclassified Prediction: elseMissclassified Prediction: gettingMissclassified Prediction: sickMissclassified Prediction: ofMissclassified Prediction: watchingMissclassified Prediction: moviesMissclassified Prediction: thatMissclassified Prediction: areMissclassified Prediction: filmedMissclassified Prediction: soMissclassified Prediction: darkMissclassified Prediction: anymoreMissclassified Prediction: oneMissclassified Prediction: canMissclassified Prediction: hardlyMissclassified Prediction: seeMissclassified Prediction: whatMissclassified Prediction: isMissclassified Prediction: beingMissclassified Prediction: filmedMissclassified Prediction: asMissclassified Prediction: anMissclassified Prediction: audienceMissclassified Prediction: weMissclassified Prediction: areMissclassified Prediction: Missclassified Prediction: involvedMissclassified Prediction: withMissclassified Prediction: theMissclassified Prediction: actionsMissclassified Prediction: onMissclassified Prediction: theMissclassified Prediction: screenMissclassified Prediction: soMissclassified Prediction: thenMissclassified Prediction: whyMissclassified Prediction: theMissclassified Prediction: hellMissclassified Prediction: can'tMissclassified Prediction: weMissclassified Prediction: haveMissclassified Prediction: nightMissclassified Prediction: vision\n"
          ],
          "name": "stdout"
        }
      ]
    },
    {
      "cell_type": "markdown",
      "metadata": {
        "id": "cxhyBdfdjURX",
        "colab_type": "text"
      },
      "source": [
        "The model is faling because the words in the review are positive but the meaning seems to be sarcastic or negative.\n",
        "\n"
      ]
    },
    {
      "cell_type": "markdown",
      "metadata": {
        "colab_type": "text",
        "id": "W9_hvA-lanwt"
      },
      "source": [
        "#### Takeaways\n",
        "* Neural nets require a lot of preprocessing to create tensors\n",
        "* Dense layers with ReLU activation can solve a wide range of problems\n",
        "* Binary classification can be done with a Dense layer with a single unit, sigmoid activation, and binary cross-entropy loss\n",
        "* Neural nets overfit easily\n",
        "* Many design choices have an effect on accuracy and overfitting. One can try:\n",
        "    - 1 or 3 hidden layers\n",
        "    - more or fewer hidden units (e.g. 64)\n",
        "    - MSE loss instead of binary cross-entropy\n",
        "    - `tanh` activation instead of `ReLU`"
      ]
    },
    {
      "cell_type": "markdown",
      "metadata": {
        "colab_type": "text",
        "id": "WchP4Tgu9ExF"
      },
      "source": [
        "### Regularization: build smaller networks\n",
        "* The easiest way to avoid overfitting is to use a simpler model\n",
        "* The number of learnable parameters is called the model _capacity_\n",
        "* A model with more parameters has a higher _memorization capacity_\n",
        "    - The entire training set can be `stored` in the weights\n",
        "    - Learns the mapping from training examples to outputs\n",
        "* Forcing the model to be small forces it to learn a compressed representation that generalizes better\n",
        "    - Always a trade-off between too much and too little capacity\n",
        "* Start with few layers and parameters, incease until you see diminisching returns"
      ]
    },
    {
      "cell_type": "markdown",
      "metadata": {
        "colab_type": "text",
        "id": "wo8UGPGQ9ExG"
      },
      "source": [
        "Let's try this on our movie review data, with 4 units per layer\n"
      ]
    },
    {
      "cell_type": "code",
      "metadata": {
        "colab_type": "code",
        "id": "rFjmZtyl9ExG",
        "colab": {}
      },
      "source": [
        "from keras.datasets import imdb\n",
        "import numpy as np\n",
        "\n",
        "(train_data, train_labels), (test_data, test_labels) = imdb.load_data(num_words=10000)\n",
        "\n",
        "def vectorize_sequences(sequences, dimension=10000):\n",
        "    # Create an all-zero matrix of shape (len(sequences), dimension)\n",
        "    results = np.zeros((len(sequences), dimension))\n",
        "    for i, sequence in enumerate(sequences):\n",
        "        results[i, sequence] = 1.  # set specific indices of results[i] to 1s\n",
        "    return results\n",
        "\n",
        "# Our vectorized training data\n",
        "x_train = vectorize_sequences(train_data)\n",
        "# Our vectorized test data\n",
        "x_test = vectorize_sequences(test_data)\n",
        "# Our vectorized labels\n",
        "y_train = np.asarray(train_labels).astype('float32')\n",
        "y_test = np.asarray(test_labels).astype('float32')"
      ],
      "execution_count": 0,
      "outputs": []
    },
    {
      "cell_type": "code",
      "metadata": {
        "colab_type": "code",
        "id": "0RYsX-RF9ExJ",
        "outputId": "7b763064-5b69-4b29-cdaa-67df147dab65",
        "colab": {
          "base_uri": "https://localhost:8080/",
          "height": 1000
        }
      },
      "source": [
        "from keras import models\n",
        "from keras import layers \n",
        "import matplotlib.pyplot as plt\n",
        "\n",
        "original_model = models.Sequential()\n",
        "original_model.add(layers.Dense(16, activation='relu', input_shape=(10000,)))\n",
        "original_model.add(layers.Dense(16, activation='relu'))\n",
        "original_model.add(layers.Dense(1, activation='sigmoid'))\n",
        "\n",
        "original_model.compile(optimizer='rmsprop',\n",
        "                       loss='binary_crossentropy',\n",
        "                       metrics=['acc'])\n",
        "\n",
        "smaller_model = models.Sequential()\n",
        "smaller_model.add(layers.Dense(4, activation='relu', input_shape=(10000,)))\n",
        "smaller_model.add(layers.Dense(4, activation='relu'))\n",
        "smaller_model.add(layers.Dense(1, activation='sigmoid'))\n",
        "\n",
        "smaller_model.compile(optimizer='rmsprop',\n",
        "                      loss='binary_crossentropy',\n",
        "                      metrics=['acc'])\n",
        "original_hist = original_model.fit(x_train, y_train,\n",
        "                                   epochs=20,\n",
        "                                   batch_size=512, verbose=2,\n",
        "                                   validation_data=(x_test, y_test))\n",
        "smaller_model_hist = smaller_model.fit(x_train, y_train,\n",
        "                                       epochs=20,\n",
        "                                       batch_size=512, verbose=2,\n",
        "                                       validation_data=(x_test, y_test))"
      ],
      "execution_count": 23,
      "outputs": [
        {
          "output_type": "stream",
          "text": [
            "Train on 25000 samples, validate on 25000 samples\n",
            "Epoch 1/20\n",
            " - 4s - loss: 0.4306 - acc: 0.8215 - val_loss: 0.3326 - val_acc: 0.8741\n",
            "Epoch 2/20\n",
            " - 4s - loss: 0.2523 - acc: 0.9112 - val_loss: 0.2920 - val_acc: 0.8845\n",
            "Epoch 3/20\n",
            " - 4s - loss: 0.1983 - acc: 0.9297 - val_loss: 0.2909 - val_acc: 0.8836\n",
            "Epoch 4/20\n",
            " - 4s - loss: 0.1667 - acc: 0.9403 - val_loss: 0.2969 - val_acc: 0.8826\n",
            "Epoch 5/20\n",
            " - 4s - loss: 0.1437 - acc: 0.9491 - val_loss: 0.3298 - val_acc: 0.8736\n",
            "Epoch 6/20\n",
            " - 4s - loss: 0.1257 - acc: 0.9561 - val_loss: 0.3519 - val_acc: 0.8705\n",
            "Epoch 7/20\n",
            " - 4s - loss: 0.1158 - acc: 0.9588 - val_loss: 0.3702 - val_acc: 0.8704\n",
            "Epoch 8/20\n",
            " - 4s - loss: 0.1023 - acc: 0.9642 - val_loss: 0.4024 - val_acc: 0.8641\n",
            "Epoch 9/20\n",
            " - 4s - loss: 0.0916 - acc: 0.9683 - val_loss: 0.4523 - val_acc: 0.8566\n",
            "Epoch 10/20\n",
            " - 4s - loss: 0.0843 - acc: 0.9709 - val_loss: 0.4408 - val_acc: 0.8632\n",
            "Epoch 11/20\n",
            " - 4s - loss: 0.0755 - acc: 0.9756 - val_loss: 0.4903 - val_acc: 0.8570\n",
            "Epoch 12/20\n",
            " - 4s - loss: 0.0678 - acc: 0.9784 - val_loss: 0.5555 - val_acc: 0.8498\n",
            "Epoch 13/20\n",
            " - 4s - loss: 0.0602 - acc: 0.9811 - val_loss: 0.5814 - val_acc: 0.8467\n",
            "Epoch 14/20\n",
            " - 4s - loss: 0.0552 - acc: 0.9830 - val_loss: 0.5736 - val_acc: 0.8532\n",
            "Epoch 15/20\n",
            " - 4s - loss: 0.0502 - acc: 0.9847 - val_loss: 0.5971 - val_acc: 0.8539\n",
            "Epoch 16/20\n",
            " - 4s - loss: 0.0454 - acc: 0.9860 - val_loss: 0.6250 - val_acc: 0.8513\n",
            "Epoch 17/20\n",
            " - 4s - loss: 0.0412 - acc: 0.9872 - val_loss: 0.6525 - val_acc: 0.8510\n",
            "Epoch 18/20\n",
            " - 4s - loss: 0.0344 - acc: 0.9902 - val_loss: 0.6920 - val_acc: 0.8492\n",
            "Epoch 19/20\n",
            " - 4s - loss: 0.0332 - acc: 0.9899 - val_loss: 0.7160 - val_acc: 0.8476\n",
            "Epoch 20/20\n",
            " - 4s - loss: 0.0252 - acc: 0.9938 - val_loss: 0.8228 - val_acc: 0.8423\n",
            "Train on 25000 samples, validate on 25000 samples\n",
            "Epoch 1/20\n",
            " - 3s - loss: 0.6021 - acc: 0.7236 - val_loss: 0.5453 - val_acc: 0.8104\n",
            "Epoch 2/20\n",
            " - 3s - loss: 0.4999 - acc: 0.8453 - val_loss: 0.4971 - val_acc: 0.8258\n",
            "Epoch 3/20\n",
            " - 3s - loss: 0.4524 - acc: 0.8847 - val_loss: 0.4760 - val_acc: 0.8346\n",
            "Epoch 4/20\n",
            " - 3s - loss: 0.4202 - acc: 0.9079 - val_loss: 0.4560 - val_acc: 0.8627\n",
            "Epoch 5/20\n",
            " - 3s - loss: 0.3952 - acc: 0.9237 - val_loss: 0.4530 - val_acc: 0.8545\n",
            "Epoch 6/20\n",
            " - 3s - loss: 0.3731 - acc: 0.9358 - val_loss: 0.4381 - val_acc: 0.8717\n",
            "Epoch 7/20\n",
            " - 3s - loss: 0.3545 - acc: 0.9430 - val_loss: 0.4376 - val_acc: 0.8670\n",
            "Epoch 8/20\n",
            " - 3s - loss: 0.3372 - acc: 0.9496 - val_loss: 0.4410 - val_acc: 0.8640\n",
            "Epoch 9/20\n",
            " - 3s - loss: 0.3210 - acc: 0.9553 - val_loss: 0.4202 - val_acc: 0.8755\n",
            "Epoch 10/20\n",
            " - 3s - loss: 0.3065 - acc: 0.9604 - val_loss: 0.4416 - val_acc: 0.8639\n",
            "Epoch 11/20\n",
            " - 3s - loss: 0.2920 - acc: 0.9649 - val_loss: 0.4255 - val_acc: 0.8705\n",
            "Epoch 12/20\n",
            " - 3s - loss: 0.2791 - acc: 0.9675 - val_loss: 0.4458 - val_acc: 0.8627\n",
            "Epoch 13/20\n",
            " - 3s - loss: 0.2662 - acc: 0.9710 - val_loss: 0.4330 - val_acc: 0.8665\n",
            "Epoch 14/20\n",
            " - 3s - loss: 0.2544 - acc: 0.9734 - val_loss: 0.4317 - val_acc: 0.8657\n",
            "Epoch 15/20\n",
            " - 3s - loss: 0.2433 - acc: 0.9756 - val_loss: 0.4416 - val_acc: 0.8625\n",
            "Epoch 16/20\n",
            " - 3s - loss: 0.2327 - acc: 0.9767 - val_loss: 0.4705 - val_acc: 0.8586\n",
            "Epoch 17/20\n",
            " - 3s - loss: 0.2221 - acc: 0.9790 - val_loss: 0.4496 - val_acc: 0.8620\n",
            "Epoch 18/20\n",
            " - 3s - loss: 0.2129 - acc: 0.9802 - val_loss: 0.4797 - val_acc: 0.8573\n",
            "Epoch 19/20\n",
            " - 3s - loss: 0.2035 - acc: 0.9819 - val_loss: 0.5027 - val_acc: 0.8548\n",
            "Epoch 20/20\n",
            " - 3s - loss: 0.1948 - acc: 0.9831 - val_loss: 0.4828 - val_acc: 0.8582\n"
          ],
          "name": "stdout"
        }
      ]
    },
    {
      "cell_type": "code",
      "metadata": {
        "id": "Q91dQMxvcQqX",
        "colab_type": "code",
        "outputId": "3729146f-9adf-48b0-ee71-37929d0e34ee",
        "colab": {
          "base_uri": "https://localhost:8080/",
          "height": 35
        }
      },
      "source": [
        "original_hist"
      ],
      "execution_count": 24,
      "outputs": [
        {
          "output_type": "execute_result",
          "data": {
            "text/plain": [
              "<keras.callbacks.History at 0x7f9f7e68d390>"
            ]
          },
          "metadata": {
            "tags": []
          },
          "execution_count": 24
        }
      ]
    },
    {
      "cell_type": "code",
      "metadata": {
        "id": "LxnTAgyic2fv",
        "colab_type": "code",
        "outputId": "b624718d-6ac4-4b11-96bc-325d709e3def",
        "colab": {
          "base_uri": "https://localhost:8080/",
          "height": 35
        }
      },
      "source": [
        "smaller_model_hist"
      ],
      "execution_count": 25,
      "outputs": [
        {
          "output_type": "execute_result",
          "data": {
            "text/plain": [
              "<keras.callbacks.History at 0x7f9f7c8067b8>"
            ]
          },
          "metadata": {
            "tags": []
          },
          "execution_count": 25
        }
      ]
    },
    {
      "cell_type": "markdown",
      "metadata": {
        "colab_type": "text",
        "id": "rCV6TJ899ExL"
      },
      "source": [
        "1. Plot the validation loss for the original and smaller models. How does the smaller model behave compared to the original?"
      ]
    },
    {
      "cell_type": "code",
      "metadata": {
        "colab_type": "code",
        "id": "m7kNvhh-9ExN",
        "outputId": "48b38bad-4651-44ad-b345-4d2169413d6f",
        "colab": {
          "base_uri": "https://localhost:8080/",
          "height": 501
        }
      },
      "source": [
        "# summarize history for loss\n",
        "plt.plot(original_hist.history['val_loss'])\n",
        "plt.plot(smaller_model_hist.history['val_loss'])\n",
        "plt.title('Validation loss')\n",
        "plt.ylabel('Val loss')\n",
        "plt.xlabel('epoch')\n",
        "plt.legend(['Orignal', 'smaller'], loc='upper left')\n",
        "plt.show()"
      ],
      "execution_count": 26,
      "outputs": [
        {
          "output_type": "display_data",
          "data": {
            "image/png": "[encoded data removed]",
            "text/plain": [
              "<Figure size 750x500 with 1 Axes>"
            ]
          },
          "metadata": {
            "tags": []
          }
        }
      ]
    },
    {
      "cell_type": "markdown",
      "metadata": {
        "id": "8m-06mtxkoHd",
        "colab_type": "text"
      },
      "source": [
        "Initially, the loss in the smaller model is higher than the loss in the original model. However, as the epochs are increasing the loss in the smaller model is less when compared to the loss in the original model. Which means the smaller model is less overfitting than the original model."
      ]
    },
    {
      "cell_type": "markdown",
      "metadata": {
        "id": "fpD5evbkdNlk",
        "colab_type": "text"
      },
      "source": [
        "Smaller model v/s original model"
      ]
    },
    {
      "cell_type": "markdown",
      "metadata": {
        "colab_type": "text",
        "id": "_u-YXpCZ9ExP"
      },
      "source": [
        "### Regularization: Weight regularization\n",
        "* As we did many times before, we can also add weight regularization to our loss function\n",
        "- L1 regularization: leads to _sparse networks_ with many weights that are 0\n",
        "- L2 regularization: leads to many very small weights\n",
        "    - Also called _weight decay_ in neural net literature\n",
        "* In Keras, add `kernel_regularizer` to every layer"
      ]
    },
    {
      "cell_type": "code",
      "metadata": {
        "colab_type": "code",
        "id": "kXOqh2uU9ExR",
        "colab": {}
      },
      "source": [
        "from keras import regularizers\n",
        "from keras import models\n",
        "from keras import layers \n",
        "import matplotlib.pyplot as plt\n",
        "\n",
        "l2_model = models.Sequential()\n",
        "l2_model.add(layers.Dense(16, kernel_regularizer=regularizers.l2(0.001),\n",
        "                          activation='relu', input_shape=(10000,)))\n",
        "l2_model.add(layers.Dense(16, kernel_regularizer=regularizers.l2(0.001),\n",
        "                          activation='relu'))\n",
        "l2_model.add(layers.Dense(1, activation='sigmoid'))"
      ],
      "execution_count": 0,
      "outputs": []
    },
    {
      "cell_type": "code",
      "metadata": {
        "colab_type": "code",
        "id": "mzNX3bHo9ExT",
        "colab": {}
      },
      "source": [
        "l2_model.compile(optimizer='rmsprop',\n",
        "                 loss='binary_crossentropy',\n",
        "                 metrics=['acc'])"
      ],
      "execution_count": 0,
      "outputs": []
    },
    {
      "cell_type": "code",
      "metadata": {
        "colab_type": "code",
        "id": "2Gg8hLY69ExU",
        "outputId": "9e6177e6-6d1d-4e5d-8ee0-4e4ca610fd66",
        "colab": {
          "base_uri": "https://localhost:8080/",
          "height": 728
        }
      },
      "source": [
        "l2_model_hist = l2_model.fit(x_train, y_train,\n",
        "                             epochs=20,\n",
        "                             batch_size=512, verbose=2,\n",
        "                             validation_data=(x_test, y_test))"
      ],
      "execution_count": 29,
      "outputs": [
        {
          "output_type": "stream",
          "text": [
            "Train on 25000 samples, validate on 25000 samples\n",
            "Epoch 1/20\n",
            " - 4s - loss: 0.4939 - acc: 0.8167 - val_loss: 0.3729 - val_acc: 0.8831\n",
            "Epoch 2/20\n",
            " - 4s - loss: 0.3121 - acc: 0.9058 - val_loss: 0.3341 - val_acc: 0.8896\n",
            "Epoch 3/20\n",
            " - 4s - loss: 0.2714 - acc: 0.9196 - val_loss: 0.3390 - val_acc: 0.8846\n",
            "Epoch 4/20\n",
            " - 4s - loss: 0.2530 - acc: 0.9274 - val_loss: 0.3388 - val_acc: 0.8850\n",
            "Epoch 5/20\n",
            " - 4s - loss: 0.2360 - acc: 0.9349 - val_loss: 0.3727 - val_acc: 0.8710\n",
            "Epoch 6/20\n",
            " - 4s - loss: 0.2316 - acc: 0.9343 - val_loss: 0.3484 - val_acc: 0.8820\n",
            "Epoch 7/20\n",
            " - 4s - loss: 0.2244 - acc: 0.9396 - val_loss: 0.3570 - val_acc: 0.8802\n",
            "Epoch 8/20\n",
            " - 4s - loss: 0.2189 - acc: 0.9414 - val_loss: 0.3680 - val_acc: 0.8755\n",
            "Epoch 9/20\n",
            " - 4s - loss: 0.2161 - acc: 0.9417 - val_loss: 0.3697 - val_acc: 0.8774\n",
            "Epoch 10/20\n",
            " - 4s - loss: 0.2132 - acc: 0.9444 - val_loss: 0.3919 - val_acc: 0.8707\n",
            "Epoch 11/20\n",
            " - 4s - loss: 0.2081 - acc: 0.9448 - val_loss: 0.3900 - val_acc: 0.8714\n",
            "Epoch 12/20\n",
            " - 4s - loss: 0.2039 - acc: 0.9463 - val_loss: 0.3920 - val_acc: 0.8714\n",
            "Epoch 13/20\n",
            " - 4s - loss: 0.2006 - acc: 0.9470 - val_loss: 0.4054 - val_acc: 0.8674\n",
            "Epoch 14/20\n",
            " - 4s - loss: 0.2013 - acc: 0.9490 - val_loss: 0.3987 - val_acc: 0.8720\n",
            "Epoch 15/20\n",
            " - 4s - loss: 0.1973 - acc: 0.9492 - val_loss: 0.4113 - val_acc: 0.8694\n",
            "Epoch 16/20\n",
            " - 4s - loss: 0.1957 - acc: 0.9489 - val_loss: 0.4136 - val_acc: 0.8685\n",
            "Epoch 17/20\n",
            " - 4s - loss: 0.1914 - acc: 0.9512 - val_loss: 0.4392 - val_acc: 0.8619\n",
            "Epoch 18/20\n",
            " - 4s - loss: 0.1900 - acc: 0.9520 - val_loss: 0.4119 - val_acc: 0.8698\n",
            "Epoch 19/20\n",
            " - 4s - loss: 0.1859 - acc: 0.9545 - val_loss: 0.4539 - val_acc: 0.8592\n",
            "Epoch 20/20\n",
            " - 4s - loss: 0.1858 - acc: 0.9536 - val_loss: 0.5282 - val_acc: 0.8399\n"
          ],
          "name": "stdout"
        }
      ]
    },
    {
      "cell_type": "markdown",
      "metadata": {
        "colab_type": "text",
        "id": "vKOw1jNlibXK"
      },
      "source": [
        "1. Plot the validation loss for the original and l2 regularized models. How does the regularized model behave compared to the original?"
      ]
    },
    {
      "cell_type": "code",
      "metadata": {
        "colab_type": "code",
        "id": "9qYQvkIe9ExW",
        "outputId": "63da5841-3ebd-458b-b612-d37b78f0b71e",
        "colab": {
          "base_uri": "https://localhost:8080/",
          "height": 501
        }
      },
      "source": [
        "# summarize history for loss\n",
        "\n",
        "plt.plot(original_hist.history['val_loss'])\n",
        "plt.plot(l2_model_hist.history['val_loss'])\n",
        "plt.title('Validation loss')\n",
        "plt.ylabel('loss')\n",
        "plt.xlabel('epoch')\n",
        "plt.legend(['Original', 'L2 regularization'], loc='upper left')\n",
        "plt.show()"
      ],
      "execution_count": 30,
      "outputs": [
        {
          "output_type": "display_data",
          "data": {
            "image/png": "[encoded data removed]",
            "text/plain": [
              "<Figure size 750x500 with 1 Axes>"
            ]
          },
          "metadata": {
            "tags": []
          }
        }
      ]
    },
    {
      "cell_type": "markdown",
      "metadata": {
        "id": "LHOEaHkwlOUR",
        "colab_type": "text"
      },
      "source": [
        "The loss of the original model is increasing with increase in the no.of epcohs. But the loss in the l2 model is stable and is oscillating around 0.3 to 0.4. The l2 model is performing better than the original model."
      ]
    },
    {
      "cell_type": "markdown",
      "metadata": {
        "colab_type": "text",
        "id": "OFbL6yJF9ExZ"
      },
      "source": [
        "### Regularization: dropout\n",
        "* One of the most effective and commonly used regularization techniques\n",
        "* Randomly set a number of outputs of the layer to 0\n",
        "* Idea: break up accidental non-significant learned patterns \n",
        "* _Dropout rate_: fraction of the outputs that are zeroed-out\n",
        "    - Usually between 0.2 and 0.5\n",
        "* At test time, nothing is dropped out, but the output values are scaled down by the dropout rate\n",
        "    - Balances out that more units are active than during training\n",
        "* In Keras: add `Dropout` layers between the normal layers"
      ]
    },
    {
      "cell_type": "code",
      "metadata": {
        "colab_type": "code",
        "id": "SUHgbTz49Exa",
        "outputId": "d3e6f20e-817d-4e98-bc5c-f15cb27a2efa",
        "colab": {
          "base_uri": "https://localhost:8080/",
          "height": 124
        }
      },
      "source": [
        "from keras import models\n",
        "from keras import layers \n",
        "import matplotlib.pyplot as plt\n",
        "\n",
        "dpt_model = models.Sequential()\n",
        "dpt_model.add(layers.Dense(16, activation='relu', input_shape=(10000,)))\n",
        "dpt_model.add(layers.Dropout(0.5))\n",
        "dpt_model.add(layers.Dense(16, activation='relu'))\n",
        "dpt_model.add(layers.Dropout(0.5))\n",
        "dpt_model.add(layers.Dense(1, activation='sigmoid'))\n",
        "\n",
        "dpt_model.compile(optimizer='rmsprop',\n",
        "                  loss='binary_crossentropy',\n",
        "                  metrics=['acc'])"
      ],
      "execution_count": 31,
      "outputs": [
        {
          "output_type": "stream",
          "text": [
            "WARNING:tensorflow:From /usr/local/lib/python3.6/dist-packages/keras/backend/tensorflow_backend.py:148: The name tf.placeholder_with_default is deprecated. Please use tf.compat.v1.placeholder_with_default instead.\n",
            "\n",
            "WARNING:tensorflow:From /usr/local/lib/python3.6/dist-packages/keras/backend/tensorflow_backend.py:3733: calling dropout (from tensorflow.python.ops.nn_ops) with keep_prob is deprecated and will be removed in a future version.\n",
            "Instructions for updating:\n",
            "Please use `rate` instead of `keep_prob`. Rate should be set to `rate = 1 - keep_prob`.\n"
          ],
          "name": "stdout"
        }
      ]
    },
    {
      "cell_type": "code",
      "metadata": {
        "colab_type": "code",
        "id": "2QSG_vWa9Exb",
        "outputId": "e8ef6198-44e4-4f36-b5c8-dbc5e7084ba2",
        "colab": {
          "base_uri": "https://localhost:8080/",
          "height": 728
        }
      },
      "source": [
        "dpt_model_hist = dpt_model.fit(x_train, y_train,\n",
        "                               epochs=20,\n",
        "                               \n",
        "                               batch_size=512, verbose=2,\n",
        "                               validation_data=(x_test, y_test))"
      ],
      "execution_count": 32,
      "outputs": [
        {
          "output_type": "stream",
          "text": [
            "Train on 25000 samples, validate on 25000 samples\n",
            "Epoch 1/20\n",
            " - 4s - loss: 0.5841 - acc: 0.7017 - val_loss: 0.4456 - val_acc: 0.8674\n",
            "Epoch 2/20\n",
            " - 4s - loss: 0.4381 - acc: 0.8281 - val_loss: 0.3524 - val_acc: 0.8755\n",
            "Epoch 3/20\n",
            " - 4s - loss: 0.3686 - acc: 0.8674 - val_loss: 0.3113 - val_acc: 0.8860\n",
            "Epoch 4/20\n",
            " - 4s - loss: 0.3113 - acc: 0.8943 - val_loss: 0.2919 - val_acc: 0.8880\n",
            "Epoch 5/20\n",
            " - 4s - loss: 0.2731 - acc: 0.9101 - val_loss: 0.3114 - val_acc: 0.8836\n",
            "Epoch 6/20\n",
            " - 4s - loss: 0.2476 - acc: 0.9195 - val_loss: 0.2970 - val_acc: 0.8866\n",
            "Epoch 7/20\n",
            " - 4s - loss: 0.2170 - acc: 0.9288 - val_loss: 0.3105 - val_acc: 0.8835\n",
            "Epoch 8/20\n",
            " - 4s - loss: 0.1981 - acc: 0.9343 - val_loss: 0.3258 - val_acc: 0.8801\n",
            "Epoch 9/20\n",
            " - 4s - loss: 0.1884 - acc: 0.9399 - val_loss: 0.3389 - val_acc: 0.8773\n",
            "Epoch 10/20\n",
            " - 4s - loss: 0.1762 - acc: 0.9439 - val_loss: 0.3702 - val_acc: 0.8792\n",
            "Epoch 11/20\n",
            " - 4s - loss: 0.1607 - acc: 0.9496 - val_loss: 0.3835 - val_acc: 0.8787\n",
            "Epoch 12/20\n",
            " - 4s - loss: 0.1494 - acc: 0.9523 - val_loss: 0.4077 - val_acc: 0.8754\n",
            "Epoch 13/20\n",
            " - 4s - loss: 0.1419 - acc: 0.9541 - val_loss: 0.4350 - val_acc: 0.8771\n",
            "Epoch 14/20\n",
            " - 4s - loss: 0.1402 - acc: 0.9570 - val_loss: 0.4587 - val_acc: 0.8768\n",
            "Epoch 15/20\n",
            " - 4s - loss: 0.1330 - acc: 0.9587 - val_loss: 0.4764 - val_acc: 0.8767\n",
            "Epoch 16/20\n",
            " - 4s - loss: 0.1298 - acc: 0.9605 - val_loss: 0.5149 - val_acc: 0.8760\n",
            "Epoch 17/20\n",
            " - 4s - loss: 0.1228 - acc: 0.9630 - val_loss: 0.5191 - val_acc: 0.8736\n",
            "Epoch 18/20\n",
            " - 4s - loss: 0.1195 - acc: 0.9635 - val_loss: 0.5264 - val_acc: 0.8731\n",
            "Epoch 19/20\n",
            " - 4s - loss: 0.1176 - acc: 0.9654 - val_loss: 0.5543 - val_acc: 0.8727\n",
            "Epoch 20/20\n",
            " - 4s - loss: 0.1093 - acc: 0.9677 - val_loss: 0.5638 - val_acc: 0.8734\n"
          ],
          "name": "stdout"
        }
      ]
    },
    {
      "cell_type": "markdown",
      "metadata": {
        "colab_type": "text",
        "id": "VZx6VNXn9Exd"
      },
      "source": [
        "1. Plot the validation loss for the original and dropout models. How does the dropout model behave compared to the original?"
      ]
    },
    {
      "cell_type": "code",
      "metadata": {
        "colab_type": "code",
        "id": "-ZS_z7xM9Exe",
        "outputId": "4f72c15e-bbc3-4967-cf93-60be8da2e2ec",
        "colab": {
          "base_uri": "https://localhost:8080/",
          "height": 501
        }
      },
      "source": [
        "# summarize history for loss\n",
        "plt.plot(original_hist.history['val_loss'])\n",
        "plt.plot(dpt_model_hist.history['val_loss'])\n",
        "plt.title('Validation loss')\n",
        "plt.ylabel('loss')\n",
        "plt.xlabel('epoch')\n",
        "plt.legend(['Orignal', 'dropout'], loc='upper left')\n",
        "plt.show()"
      ],
      "execution_count": 33,
      "outputs": [
        {
          "output_type": "display_data",
          "data": {
            "image/png": "[encoded data removed]",
            "text/plain": [
              "<Figure size 750x500 with 1 Axes>"
            ]
          },
          "metadata": {
            "tags": []
          }
        }
      ]
    },
    {
      "cell_type": "markdown",
      "metadata": {
        "id": "w2eSyMJblZHi",
        "colab_type": "text"
      },
      "source": [
        "The loss of both the original and dropout models are increasing with increase in the no.of epochs. But the dropout model is not overfitting.\n"
      ]
    },
    {
      "cell_type": "markdown",
      "metadata": {
        "colab_type": "text",
        "id": "ORAwOqdV9Exf"
      },
      "source": [
        "### Regularization recap\n",
        "* Get more training data\n",
        "* Reduce the capacity of the network\n",
        "* Add weight regularization\n",
        "* Add dropout\n",
        "* Either start with a simple model and add capacity\n",
        "* Or, start with a complex model and then regularize by adding weight regularization and dropout"
      ]
    },
    {
      "cell_type": "markdown",
      "metadata": {
        "colab_type": "text",
        "id": "1xwfZv_E9Ewq"
      },
      "source": [
        "### Regression\n",
        "* Dataset: 506 examples of houses and sale prices (Boston)\n",
        "    - Included in Keras, with a 1/5 train-test split\n",
        "* Each row is one house price, described by numeric properties of the house and neighborhood\n",
        "* Small dataset, non-normalized features"
      ]
    },
    {
      "cell_type": "code",
      "metadata": {
        "colab_type": "code",
        "id": "ZlUGyLJS9Ewr",
        "colab": {
          "base_uri": "https://localhost:8080/",
          "height": 52
        },
        "outputId": "51c6810e-c566-4b00-faa9-d1ca15e47b82"
      },
      "source": [
        "from keras.datasets import boston_housing\n",
        "\n",
        "(train_data, train_targets), (test_data, test_targets) =  boston_housing.load_data()"
      ],
      "execution_count": 34,
      "outputs": [
        {
          "output_type": "stream",
          "text": [
            "Downloading data from https://s3.amazonaws.com/keras-datasets/boston_housing.npz\n",
            "57344/57026 [==============================] - 0s 1us/step\n"
          ],
          "name": "stdout"
        }
      ]
    },
    {
      "cell_type": "markdown",
      "metadata": {
        "colab_type": "text",
        "id": "gX4hkxBb9Ewt"
      },
      "source": [
        "#### Preprocessing\n",
        "* Neural nets work a lot better if we normalize the features first. \n",
        "* Keras has no built-in support so we have to do this manually (or with scikit-learn)\n",
        "    - Again, be careful not to look at the test data during normalization\n",
        "    \n"
      ]
    },
    {
      "cell_type": "code",
      "metadata": {
        "colab_type": "code",
        "id": "d-W92M6I9Ewt",
        "colab": {}
      },
      "source": [
        "\n",
        "mean, std = train_data.mean(axis=0), train_data.std(axis=0)\n",
        "train_data -= mean\n",
        "train_data /= std\n",
        "\n",
        "test_data -= mean\n",
        "test_data /= std"
      ],
      "execution_count": 0,
      "outputs": []
    },
    {
      "cell_type": "markdown",
      "metadata": {
        "colab_type": "text",
        "id": "OwM0wfKE9Ewx"
      },
      "source": [
        "#### Building the network\n",
        "* This is a small dataset, so easy to overfit\n",
        "    * We use 2 hidden layers of 64 units each\n",
        "* Use smaller batches, more epochs\n",
        "* Since we want scalar output, the output layer is one unit without activation\n",
        "* Loss function is Mean Squared Error (bigger penalty)\n",
        "* Evaluation metric is Mean Absolute Error (more interpretable)\n",
        "* We will also use cross-validation, so we wrap the model building in a function, so that we can call it multiple times\n",
        "\n",
        "1. Create a function build_model that returns the neural network model described above"
      ]
    },
    {
      "cell_type": "code",
      "metadata": {
        "colab_type": "code",
        "id": "vL_p-NcX9Ewz",
        "colab": {}
      },
      "source": [
        "def build_model():\n",
        "    model = models.Sequential()\n",
        "    model.add(layers.Dense(64, activation='relu',\n",
        "                           input_shape=(train_data.shape[1],)))\n",
        "    model.add(layers.Dense(64, activation='relu'))\n",
        "    model.add(layers.Dense(1))\n",
        "    model.compile(optimizer='rmsprop', loss='mse', metrics=['mae'])\n",
        "    return model"
      ],
      "execution_count": 0,
      "outputs": []
    },
    {
      "cell_type": "markdown",
      "metadata": {
        "colab_type": "text",
        "id": "t2seh8XW9Ew1"
      },
      "source": [
        "#### Cross-validation\n",
        "* Keras does not have support for cross-validation\n",
        "* We can implement cross-validation ourselves (seeprovided code below)\n",
        "* Alternatively, we can wrap a Keras model as a scikit-learn estimator\n",
        "* Generally speaking, cross-validation is tricky with neural nets\n",
        "    * Some fold may not converge, or fluctuate on random initialization\n",
        "    "
      ]
    },
    {
      "cell_type": "code",
      "metadata": {
        "colab_type": "code",
        "id": "VupbDC1U9Ew3",
        "outputId": "67fb34c3-0462-4843-f377-40f18b093406",
        "colab": {
          "base_uri": "https://localhost:8080/",
          "height": 87
        }
      },
      "source": [
        "# implementation of cross-validation\n",
        "import numpy as np\n",
        "\n",
        "k = 4\n",
        "num_val_samples = len(train_data) // k\n",
        "num_epochs = 20\n",
        "all_scores = []\n",
        "for i in range(k):\n",
        "    print('processing fold #', i)\n",
        "    # Prepare the validation data: data from partition # k\n",
        "    val_data = train_data[i * num_val_samples: (i + 1) * num_val_samples]\n",
        "    val_targets = train_targets[i * num_val_samples: (i + 1) * num_val_samples]\n",
        "\n",
        "    # Prepare the training data: data from all other partitions\n",
        "    partial_train_data = np.concatenate(\n",
        "        [train_data[:i * num_val_samples],\n",
        "         train_data[(i + 1) * num_val_samples:]],\n",
        "        axis=0)\n",
        "    partial_train_targets = np.concatenate(\n",
        "        [train_targets[:i * num_val_samples],\n",
        "         train_targets[(i + 1) * num_val_samples:]],\n",
        "        axis=0)\n",
        "\n",
        "    # Build the Keras model (already compiled)\n",
        "    model = build_model()\n",
        "    # Train the model (in silent mode, verbose=0)\n",
        "    model.fit(partial_train_data, partial_train_targets,\n",
        "              epochs=num_epochs, batch_size=1, verbose=0)\n",
        "    # Evaluate the model on the validation data\n",
        "    val_mse, val_mae = model.evaluate(val_data, val_targets, verbose=2)\n",
        "    all_scores.append(val_mae)"
      ],
      "execution_count": 37,
      "outputs": [
        {
          "output_type": "stream",
          "text": [
            "processing fold # 0\n",
            "processing fold # 1\n",
            "processing fold # 2\n",
            "processing fold # 3\n"
          ],
          "name": "stdout"
        }
      ]
    },
    {
      "cell_type": "markdown",
      "metadata": {
        "colab_type": "text",
        "id": "OcEyK-E59Ew8"
      },
      "source": [
        "1. Train for longer (200 epochs) and keep track of loss after every epoch. Plot and describe the loss as a function of epoch number."
      ]
    },
    {
      "cell_type": "code",
      "metadata": {
        "colab_type": "code",
        "id": "tXsVlXqw9Ew8",
        "outputId": "c567942d-05ab-417d-bf85-23e3394c5b31",
        "colab": {
          "base_uri": "https://localhost:8080/",
          "height": 1000
        }
      },
      "source": [
        "from keras import backend as K\n",
        "K.clear_session() # Memory clean-up\n",
        "\n",
        "num_epochs = 200\n",
        "all_mae_histories = []\n",
        "for i in range(k):\n",
        "    print('processing fold #', i)\n",
        "    # Prepare the validation data: data from partition # k\n",
        "    val_data = train_data[i * num_val_samples: (i + 1) * num_val_samples]\n",
        "    val_targets = train_targets[i * num_val_samples: (i + 1) * num_val_samples]\n",
        "\n",
        "    # Prepare the training data: data from all other partitions\n",
        "    partial_train_data = np.concatenate(\n",
        "        [train_data[:i * num_val_samples],\n",
        "         train_data[(i + 1) * num_val_samples:]],\n",
        "        axis=0)\n",
        "    partial_train_targets = np.concatenate(\n",
        "        [train_targets[:i * num_val_samples],\n",
        "         train_targets[(i + 1) * num_val_samples:]],\n",
        "        axis=0)\n",
        "\n",
        "    # Build the Keras model (already compiled)\n",
        "    model = build_model()\n",
        "    # Train the model (in silent mode, verbose=0)\n",
        "    history = model.fit(partial_train_data, partial_train_targets,\n",
        "                        validation_data=(val_data, val_targets),\n",
        "                        epochs=num_epochs, batch_size=1, verbose=2)\n",
        "    mae_history = history.history['val_loss']\n",
        "    all_mae_histories.append(mae_history)"
      ],
      "execution_count": 38,
      "outputs": [
        {
          "output_type": "stream",
          "text": [
            "WARNING:tensorflow:From /usr/local/lib/python3.6/dist-packages/keras/backend/tensorflow_backend.py:107: The name tf.reset_default_graph is deprecated. Please use tf.compat.v1.reset_default_graph instead.\n",
            "\n",
            "processing fold # 0\n",
            "Train on 303 samples, validate on 101 samples\n",
            "Epoch 1/200\n",
            " - 0s - loss: 210.8488 - mean_absolute_error: 11.2715 - val_loss: 33.4123 - val_mean_absolute_error: 3.6316\n",
            "Epoch 2/200\n",
            " - 0s - loss: 31.0747 - mean_absolute_error: 3.8773 - val_loss: 25.1467 - val_mean_absolute_error: 3.1479\n",
            "Epoch 3/200\n",
            " - 0s - loss: 22.8641 - mean_absolute_error: 3.2317 - val_loss: 19.5261 - val_mean_absolute_error: 3.0381\n",
            "Epoch 4/200\n",
            " - 0s - loss: 19.4873 - mean_absolute_error: 2.9379 - val_loss: 18.2424 - val_mean_absolute_error: 2.7031\n",
            "Epoch 5/200\n",
            " - 0s - loss: 17.6632 - mean_absolute_error: 2.7352 - val_loss: 15.5556 - val_mean_absolute_error: 2.4784\n",
            "Epoch 6/200\n",
            " - 0s - loss: 16.2963 - mean_absolute_error: 2.5966 - val_loss: 13.7246 - val_mean_absolute_error: 2.4665\n",
            "Epoch 7/200\n",
            " - 0s - loss: 14.5866 - mean_absolute_error: 2.5533 - val_loss: 12.8994 - val_mean_absolute_error: 2.2444\n",
            "Epoch 8/200\n",
            " - 0s - loss: 13.9057 - mean_absolute_error: 2.4768 - val_loss: 13.2171 - val_mean_absolute_error: 2.3164\n",
            "Epoch 9/200\n",
            " - 0s - loss: 13.0446 - mean_absolute_error: 2.4199 - val_loss: 11.7565 - val_mean_absolute_error: 2.4024\n",
            "Epoch 10/200\n",
            " - 0s - loss: 12.0460 - mean_absolute_error: 2.3674 - val_loss: 11.8812 - val_mean_absolute_error: 2.2310\n",
            "Epoch 11/200\n",
            " - 0s - loss: 12.1139 - mean_absolute_error: 2.2783 - val_loss: 10.7609 - val_mean_absolute_error: 2.0486\n",
            "Epoch 12/200\n",
            " - 0s - loss: 11.8358 - mean_absolute_error: 2.1938 - val_loss: 10.3049 - val_mean_absolute_error: 1.9904\n",
            "Epoch 13/200\n",
            " - 0s - loss: 11.8688 - mean_absolute_error: 2.2446 - val_loss: 9.8065 - val_mean_absolute_error: 2.0873\n",
            "Epoch 14/200\n",
            " - 0s - loss: 11.1185 - mean_absolute_error: 2.2418 - val_loss: 10.8846 - val_mean_absolute_error: 2.1448\n",
            "Epoch 15/200\n",
            " - 0s - loss: 11.4025 - mean_absolute_error: 2.1443 - val_loss: 9.7561 - val_mean_absolute_error: 2.0688\n",
            "Epoch 16/200\n",
            " - 0s - loss: 10.6187 - mean_absolute_error: 2.1897 - val_loss: 11.5960 - val_mean_absolute_error: 2.3151\n",
            "Epoch 17/200\n",
            " - 0s - loss: 10.3875 - mean_absolute_error: 2.1521 - val_loss: 10.6411 - val_mean_absolute_error: 2.1412\n",
            "Epoch 18/200\n",
            " - 0s - loss: 10.4440 - mean_absolute_error: 2.1240 - val_loss: 9.2003 - val_mean_absolute_error: 2.2437\n",
            "Epoch 19/200\n",
            " - 0s - loss: 10.3501 - mean_absolute_error: 2.1138 - val_loss: 9.0711 - val_mean_absolute_error: 1.9417\n",
            "Epoch 20/200\n",
            " - 0s - loss: 10.1368 - mean_absolute_error: 2.0499 - val_loss: 9.6367 - val_mean_absolute_error: 2.2312\n",
            "Epoch 21/200\n",
            " - 0s - loss: 9.9139 - mean_absolute_error: 2.0978 - val_loss: 8.7466 - val_mean_absolute_error: 1.8964\n",
            "Epoch 22/200\n",
            " - 0s - loss: 9.7926 - mean_absolute_error: 2.0114 - val_loss: 8.8536 - val_mean_absolute_error: 1.8393\n",
            "Epoch 23/200\n",
            " - 0s - loss: 9.7706 - mean_absolute_error: 2.0339 - val_loss: 9.0995 - val_mean_absolute_error: 1.8646\n",
            "Epoch 24/200\n",
            " - 0s - loss: 9.3541 - mean_absolute_error: 2.0096 - val_loss: 8.4143 - val_mean_absolute_error: 2.0357\n",
            "Epoch 25/200\n",
            " - 0s - loss: 8.7351 - mean_absolute_error: 2.0025 - val_loss: 8.5248 - val_mean_absolute_error: 2.0786\n",
            "Epoch 26/200\n",
            " - 0s - loss: 9.1283 - mean_absolute_error: 1.9494 - val_loss: 7.9267 - val_mean_absolute_error: 1.9346\n",
            "Epoch 27/200\n",
            " - 0s - loss: 8.9250 - mean_absolute_error: 1.9768 - val_loss: 8.8345 - val_mean_absolute_error: 2.1602\n",
            "Epoch 28/200\n",
            " - 0s - loss: 8.5902 - mean_absolute_error: 1.8823 - val_loss: 7.7129 - val_mean_absolute_error: 1.8592\n",
            "Epoch 29/200\n",
            " - 0s - loss: 8.8291 - mean_absolute_error: 1.9142 - val_loss: 8.4072 - val_mean_absolute_error: 1.7847\n",
            "Epoch 30/200\n",
            " - 0s - loss: 8.6503 - mean_absolute_error: 1.9683 - val_loss: 8.1200 - val_mean_absolute_error: 1.8166\n",
            "Epoch 31/200\n",
            " - 0s - loss: 8.0754 - mean_absolute_error: 1.8675 - val_loss: 7.8531 - val_mean_absolute_error: 1.9064\n",
            "Epoch 32/200\n",
            " - 0s - loss: 7.9929 - mean_absolute_error: 1.8729 - val_loss: 8.6201 - val_mean_absolute_error: 1.8240\n",
            "Epoch 33/200\n",
            " - 0s - loss: 8.3785 - mean_absolute_error: 1.8741 - val_loss: 8.2070 - val_mean_absolute_error: 2.0099\n",
            "Epoch 34/200\n",
            " - 0s - loss: 8.2902 - mean_absolute_error: 1.8433 - val_loss: 8.1376 - val_mean_absolute_error: 1.9769\n",
            "Epoch 35/200\n",
            " - 0s - loss: 8.3401 - mean_absolute_error: 1.8032 - val_loss: 7.5643 - val_mean_absolute_error: 1.8574\n",
            "Epoch 36/200\n",
            " - 0s - loss: 7.6646 - mean_absolute_error: 1.8009 - val_loss: 9.3123 - val_mean_absolute_error: 1.8761\n",
            "Epoch 37/200\n",
            " - 0s - loss: 8.1185 - mean_absolute_error: 1.8748 - val_loss: 7.6515 - val_mean_absolute_error: 1.8987\n",
            "Epoch 38/200\n",
            " - 0s - loss: 7.6912 - mean_absolute_error: 1.7850 - val_loss: 7.9757 - val_mean_absolute_error: 1.9551\n",
            "Epoch 39/200\n",
            " - 0s - loss: 7.8504 - mean_absolute_error: 1.7746 - val_loss: 7.8520 - val_mean_absolute_error: 1.8523\n",
            "Epoch 40/200\n",
            " - 0s - loss: 7.5313 - mean_absolute_error: 1.7621 - val_loss: 7.8330 - val_mean_absolute_error: 1.8830\n",
            "Epoch 41/200\n",
            " - 0s - loss: 6.8828 - mean_absolute_error: 1.7336 - val_loss: 8.0549 - val_mean_absolute_error: 1.8564\n",
            "Epoch 42/200\n",
            " - 0s - loss: 6.9184 - mean_absolute_error: 1.7362 - val_loss: 7.8726 - val_mean_absolute_error: 1.9441\n",
            "Epoch 43/200\n",
            " - 0s - loss: 6.8199 - mean_absolute_error: 1.6969 - val_loss: 8.4537 - val_mean_absolute_error: 1.9529\n",
            "Epoch 44/200\n",
            " - 0s - loss: 7.3401 - mean_absolute_error: 1.7554 - val_loss: 8.4808 - val_mean_absolute_error: 1.9357\n",
            "Epoch 45/200\n",
            " - 0s - loss: 6.8800 - mean_absolute_error: 1.7174 - val_loss: 10.3387 - val_mean_absolute_error: 2.5057\n",
            "Epoch 46/200\n",
            " - 0s - loss: 7.1226 - mean_absolute_error: 1.6879 - val_loss: 8.7521 - val_mean_absolute_error: 1.8803\n",
            "Epoch 47/200\n",
            " - 0s - loss: 6.8038 - mean_absolute_error: 1.7601 - val_loss: 8.6345 - val_mean_absolute_error: 2.1003\n",
            "Epoch 48/200\n",
            " - 0s - loss: 6.8086 - mean_absolute_error: 1.7309 - val_loss: 9.8678 - val_mean_absolute_error: 2.3048\n",
            "Epoch 49/200\n",
            " - 0s - loss: 6.3332 - mean_absolute_error: 1.6771 - val_loss: 7.3718 - val_mean_absolute_error: 1.9292\n",
            "Epoch 50/200\n",
            " - 0s - loss: 7.1163 - mean_absolute_error: 1.6844 - val_loss: 7.2310 - val_mean_absolute_error: 2.0125\n",
            "Epoch 51/200\n",
            " - 0s - loss: 6.8087 - mean_absolute_error: 1.6360 - val_loss: 8.1056 - val_mean_absolute_error: 1.8878\n",
            "Epoch 52/200\n",
            " - 0s - loss: 6.7909 - mean_absolute_error: 1.6363 - val_loss: 7.4717 - val_mean_absolute_error: 2.0014\n",
            "Epoch 53/200\n",
            " - 0s - loss: 6.0850 - mean_absolute_error: 1.6527 - val_loss: 12.1039 - val_mean_absolute_error: 2.7060\n",
            "Epoch 54/200\n",
            " - 0s - loss: 6.5582 - mean_absolute_error: 1.6283 - val_loss: 8.2264 - val_mean_absolute_error: 1.9631\n",
            "Epoch 55/200\n",
            " - 0s - loss: 6.2330 - mean_absolute_error: 1.6197 - val_loss: 8.7594 - val_mean_absolute_error: 1.9852\n",
            "Epoch 56/200\n",
            " - 0s - loss: 5.9709 - mean_absolute_error: 1.6385 - val_loss: 8.0920 - val_mean_absolute_error: 1.9936\n",
            "Epoch 57/200\n",
            " - 0s - loss: 5.8814 - mean_absolute_error: 1.6426 - val_loss: 8.8728 - val_mean_absolute_error: 2.0023\n",
            "Epoch 58/200\n",
            " - 0s - loss: 6.1807 - mean_absolute_error: 1.6037 - val_loss: 8.5510 - val_mean_absolute_error: 2.2080\n",
            "Epoch 59/200\n",
            " - 0s - loss: 6.0053 - mean_absolute_error: 1.5770 - val_loss: 7.0459 - val_mean_absolute_error: 1.8451\n",
            "Epoch 60/200\n",
            " - 0s - loss: 5.9064 - mean_absolute_error: 1.5697 - val_loss: 7.4063 - val_mean_absolute_error: 2.0266\n",
            "Epoch 61/200\n",
            " - 0s - loss: 5.9750 - mean_absolute_error: 1.5977 - val_loss: 8.6799 - val_mean_absolute_error: 2.0497\n",
            "Epoch 62/200\n",
            " - 0s - loss: 5.5634 - mean_absolute_error: 1.5668 - val_loss: 7.0640 - val_mean_absolute_error: 1.8498\n",
            "Epoch 63/200\n",
            " - 0s - loss: 5.7139 - mean_absolute_error: 1.5619 - val_loss: 8.3105 - val_mean_absolute_error: 2.2031\n",
            "Epoch 64/200\n",
            " - 0s - loss: 5.6984 - mean_absolute_error: 1.5410 - val_loss: 7.5377 - val_mean_absolute_error: 1.9435\n",
            "Epoch 65/200\n",
            " - 0s - loss: 5.6723 - mean_absolute_error: 1.5283 - val_loss: 6.9452 - val_mean_absolute_error: 1.8752\n",
            "Epoch 66/200\n",
            " - 0s - loss: 5.6220 - mean_absolute_error: 1.5821 - val_loss: 7.2995 - val_mean_absolute_error: 1.9458\n",
            "Epoch 67/200\n",
            " - 0s - loss: 5.7152 - mean_absolute_error: 1.5065 - val_loss: 6.5306 - val_mean_absolute_error: 1.8269\n",
            "Epoch 68/200\n",
            " - 0s - loss: 5.3187 - mean_absolute_error: 1.5030 - val_loss: 7.5149 - val_mean_absolute_error: 2.0715\n",
            "Epoch 69/200\n",
            " - 0s - loss: 5.2090 - mean_absolute_error: 1.4678 - val_loss: 10.4544 - val_mean_absolute_error: 2.3732\n",
            "Epoch 70/200\n",
            " - 0s - loss: 5.3156 - mean_absolute_error: 1.4950 - val_loss: 7.7396 - val_mean_absolute_error: 2.0551\n",
            "Epoch 71/200\n",
            " - 0s - loss: 5.1156 - mean_absolute_error: 1.5127 - val_loss: 8.5285 - val_mean_absolute_error: 2.0471\n",
            "Epoch 72/200\n",
            " - 0s - loss: 5.3018 - mean_absolute_error: 1.5060 - val_loss: 7.7029 - val_mean_absolute_error: 2.1155\n",
            "Epoch 73/200\n",
            " - 0s - loss: 4.9668 - mean_absolute_error: 1.4798 - val_loss: 9.2367 - val_mean_absolute_error: 2.2544\n",
            "Epoch 74/200\n",
            " - 0s - loss: 5.3172 - mean_absolute_error: 1.5416 - val_loss: 7.7336 - val_mean_absolute_error: 2.0537\n",
            "Epoch 75/200\n",
            " - 0s - loss: 4.9534 - mean_absolute_error: 1.4571 - val_loss: 8.4798 - val_mean_absolute_error: 2.0040\n",
            "Epoch 76/200\n",
            " - 0s - loss: 5.1362 - mean_absolute_error: 1.5135 - val_loss: 7.0346 - val_mean_absolute_error: 1.9520\n",
            "Epoch 77/200\n",
            " - 0s - loss: 4.7177 - mean_absolute_error: 1.4626 - val_loss: 8.5725 - val_mean_absolute_error: 2.2798\n",
            "Epoch 78/200\n",
            " - 0s - loss: 4.6877 - mean_absolute_error: 1.4504 - val_loss: 7.7234 - val_mean_absolute_error: 2.0013\n",
            "Epoch 79/200\n",
            " - 0s - loss: 4.6617 - mean_absolute_error: 1.4117 - val_loss: 7.5427 - val_mean_absolute_error: 1.9743\n",
            "Epoch 80/200\n",
            " - 0s - loss: 5.0474 - mean_absolute_error: 1.4651 - val_loss: 7.2822 - val_mean_absolute_error: 2.0413\n",
            "Epoch 81/200\n",
            " - 0s - loss: 4.7241 - mean_absolute_error: 1.4673 - val_loss: 7.5824 - val_mean_absolute_error: 2.0751\n",
            "Epoch 82/200\n",
            " - 0s - loss: 4.6671 - mean_absolute_error: 1.3922 - val_loss: 7.4939 - val_mean_absolute_error: 2.0510\n",
            "Epoch 83/200\n",
            " - 0s - loss: 4.9881 - mean_absolute_error: 1.4890 - val_loss: 7.9676 - val_mean_absolute_error: 2.0289\n",
            "Epoch 84/200\n",
            " - 0s - loss: 4.8168 - mean_absolute_error: 1.4449 - val_loss: 7.4775 - val_mean_absolute_error: 2.1066\n",
            "Epoch 85/200\n",
            " - 0s - loss: 4.5009 - mean_absolute_error: 1.4097 - val_loss: 7.9657 - val_mean_absolute_error: 2.1273\n",
            "Epoch 86/200\n",
            " - 0s - loss: 4.3495 - mean_absolute_error: 1.4342 - val_loss: 7.6734 - val_mean_absolute_error: 1.9400\n",
            "Epoch 87/200\n",
            " - 0s - loss: 4.2914 - mean_absolute_error: 1.4276 - val_loss: 9.1530 - val_mean_absolute_error: 2.1797\n",
            "Epoch 88/200\n",
            " - 0s - loss: 4.5720 - mean_absolute_error: 1.4451 - val_loss: 7.9587 - val_mean_absolute_error: 2.0393\n",
            "Epoch 89/200\n",
            " - 0s - loss: 4.8514 - mean_absolute_error: 1.3907 - val_loss: 8.9432 - val_mean_absolute_error: 2.1834\n",
            "Epoch 90/200\n",
            " - 0s - loss: 4.3162 - mean_absolute_error: 1.3636 - val_loss: 6.9933 - val_mean_absolute_error: 2.0267\n",
            "Epoch 91/200\n",
            " - 0s - loss: 3.9768 - mean_absolute_error: 1.3368 - val_loss: 7.9134 - val_mean_absolute_error: 2.1021\n",
            "Epoch 92/200\n",
            " - 0s - loss: 4.3595 - mean_absolute_error: 1.3579 - val_loss: 8.7240 - val_mean_absolute_error: 2.1190\n",
            "Epoch 93/200\n",
            " - 0s - loss: 4.2071 - mean_absolute_error: 1.4490 - val_loss: 7.1746 - val_mean_absolute_error: 1.9570\n",
            "Epoch 94/200\n",
            " - 0s - loss: 4.0722 - mean_absolute_error: 1.3797 - val_loss: 8.6481 - val_mean_absolute_error: 2.0603\n",
            "Epoch 95/200\n",
            " - 0s - loss: 4.4955 - mean_absolute_error: 1.3883 - val_loss: 7.7982 - val_mean_absolute_error: 2.0807\n",
            "Epoch 96/200\n",
            " - 0s - loss: 4.0049 - mean_absolute_error: 1.3525 - val_loss: 11.2172 - val_mean_absolute_error: 2.5933\n",
            "Epoch 97/200\n",
            " - 0s - loss: 4.1162 - mean_absolute_error: 1.3390 - val_loss: 7.4126 - val_mean_absolute_error: 1.9344\n",
            "Epoch 98/200\n",
            " - 0s - loss: 4.0555 - mean_absolute_error: 1.3964 - val_loss: 7.3633 - val_mean_absolute_error: 1.9715\n",
            "Epoch 99/200\n",
            " - 0s - loss: 3.8761 - mean_absolute_error: 1.3762 - val_loss: 7.4418 - val_mean_absolute_error: 2.0054\n",
            "Epoch 100/200\n",
            " - 0s - loss: 3.8037 - mean_absolute_error: 1.3478 - val_loss: 8.1005 - val_mean_absolute_error: 2.0802\n",
            "Epoch 101/200\n",
            " - 0s - loss: 3.8311 - mean_absolute_error: 1.3211 - val_loss: 8.9839 - val_mean_absolute_error: 2.2204\n",
            "Epoch 102/200\n",
            " - 0s - loss: 3.9916 - mean_absolute_error: 1.3164 - val_loss: 7.4799 - val_mean_absolute_error: 1.9552\n",
            "Epoch 103/200\n",
            " - 0s - loss: 3.9343 - mean_absolute_error: 1.3412 - val_loss: 8.1552 - val_mean_absolute_error: 2.1378\n",
            "Epoch 104/200\n",
            " - 0s - loss: 3.8762 - mean_absolute_error: 1.3859 - val_loss: 7.4004 - val_mean_absolute_error: 1.9924\n",
            "Epoch 105/200\n",
            " - 0s - loss: 3.7533 - mean_absolute_error: 1.3794 - val_loss: 8.3967 - val_mean_absolute_error: 2.1221\n",
            "Epoch 106/200\n",
            " - 0s - loss: 3.7759 - mean_absolute_error: 1.3217 - val_loss: 8.0763 - val_mean_absolute_error: 2.0840\n",
            "Epoch 107/200\n",
            " - 0s - loss: 4.0300 - mean_absolute_error: 1.3089 - val_loss: 8.7570 - val_mean_absolute_error: 2.1882\n",
            "Epoch 108/200\n",
            " - 0s - loss: 3.6892 - mean_absolute_error: 1.3247 - val_loss: 7.8153 - val_mean_absolute_error: 2.0447\n",
            "Epoch 109/200\n",
            " - 0s - loss: 3.6910 - mean_absolute_error: 1.2622 - val_loss: 8.7250 - val_mean_absolute_error: 2.0547\n",
            "Epoch 110/200\n",
            " - 0s - loss: 3.6864 - mean_absolute_error: 1.3204 - val_loss: 9.4012 - val_mean_absolute_error: 2.1946\n",
            "Epoch 111/200\n",
            " - 0s - loss: 3.6556 - mean_absolute_error: 1.2898 - val_loss: 8.9321 - val_mean_absolute_error: 2.2221\n",
            "Epoch 112/200\n",
            " - 0s - loss: 3.4036 - mean_absolute_error: 1.2709 - val_loss: 8.6668 - val_mean_absolute_error: 2.0933\n",
            "Epoch 113/200\n",
            " - 0s - loss: 3.6426 - mean_absolute_error: 1.2809 - val_loss: 8.3461 - val_mean_absolute_error: 2.1426\n",
            "Epoch 114/200\n",
            " - 0s - loss: 3.6108 - mean_absolute_error: 1.2614 - val_loss: 8.1425 - val_mean_absolute_error: 2.1305\n",
            "Epoch 115/200\n",
            " - 0s - loss: 3.5139 - mean_absolute_error: 1.3076 - val_loss: 8.1793 - val_mean_absolute_error: 2.1341\n",
            "Epoch 116/200\n",
            " - 0s - loss: 3.6273 - mean_absolute_error: 1.2660 - val_loss: 10.7288 - val_mean_absolute_error: 2.3844\n",
            "Epoch 117/200\n",
            " - 0s - loss: 3.4274 - mean_absolute_error: 1.2538 - val_loss: 8.4544 - val_mean_absolute_error: 2.1119\n",
            "Epoch 118/200\n",
            " - 0s - loss: 3.4908 - mean_absolute_error: 1.2666 - val_loss: 9.2709 - val_mean_absolute_error: 2.2267\n",
            "Epoch 119/200\n",
            " - 0s - loss: 3.5613 - mean_absolute_error: 1.2498 - val_loss: 10.4605 - val_mean_absolute_error: 2.3820\n",
            "Epoch 120/200\n",
            " - 0s - loss: 3.4832 - mean_absolute_error: 1.2598 - val_loss: 7.3849 - val_mean_absolute_error: 1.9906\n",
            "Epoch 121/200\n",
            " - 0s - loss: 3.2297 - mean_absolute_error: 1.2269 - val_loss: 9.8934 - val_mean_absolute_error: 2.2853\n",
            "Epoch 122/200\n",
            " - 0s - loss: 3.2465 - mean_absolute_error: 1.2768 - val_loss: 8.9765 - val_mean_absolute_error: 2.2199\n",
            "Epoch 123/200\n",
            " - 0s - loss: 3.2313 - mean_absolute_error: 1.2026 - val_loss: 9.3306 - val_mean_absolute_error: 2.1836\n",
            "Epoch 124/200\n",
            " - 0s - loss: 3.2503 - mean_absolute_error: 1.1916 - val_loss: 9.7607 - val_mean_absolute_error: 2.3495\n",
            "Epoch 125/200\n",
            " - 0s - loss: 3.1835 - mean_absolute_error: 1.2246 - val_loss: 9.3756 - val_mean_absolute_error: 2.3186\n",
            "Epoch 126/200\n",
            " - 0s - loss: 3.2696 - mean_absolute_error: 1.2485 - val_loss: 9.1791 - val_mean_absolute_error: 2.2426\n",
            "Epoch 127/200\n",
            " - 0s - loss: 3.2128 - mean_absolute_error: 1.2549 - val_loss: 9.1796 - val_mean_absolute_error: 2.2783\n",
            "Epoch 128/200\n",
            " - 0s - loss: 3.2749 - mean_absolute_error: 1.2476 - val_loss: 8.1376 - val_mean_absolute_error: 2.0855\n",
            "Epoch 129/200\n",
            " - 0s - loss: 3.0811 - mean_absolute_error: 1.2467 - val_loss: 9.5138 - val_mean_absolute_error: 2.1658\n",
            "Epoch 130/200\n",
            " - 0s - loss: 2.9986 - mean_absolute_error: 1.2244 - val_loss: 8.4193 - val_mean_absolute_error: 2.0644\n",
            "Epoch 131/200\n",
            " - 0s - loss: 3.0302 - mean_absolute_error: 1.2111 - val_loss: 9.2637 - val_mean_absolute_error: 2.2686\n",
            "Epoch 132/200\n",
            " - 0s - loss: 2.8692 - mean_absolute_error: 1.2124 - val_loss: 9.0766 - val_mean_absolute_error: 2.1715\n",
            "Epoch 133/200\n",
            " - 0s - loss: 3.1357 - mean_absolute_error: 1.2481 - val_loss: 7.7242 - val_mean_absolute_error: 2.0218\n",
            "Epoch 134/200\n",
            " - 0s - loss: 2.9369 - mean_absolute_error: 1.2561 - val_loss: 10.5512 - val_mean_absolute_error: 2.3455\n",
            "Epoch 135/200\n",
            " - 0s - loss: 3.0433 - mean_absolute_error: 1.2267 - val_loss: 13.6349 - val_mean_absolute_error: 2.6665\n",
            "Epoch 136/200\n",
            " - 0s - loss: 2.9574 - mean_absolute_error: 1.1924 - val_loss: 9.0122 - val_mean_absolute_error: 2.1155\n",
            "Epoch 137/200\n",
            " - 0s - loss: 2.9421 - mean_absolute_error: 1.2026 - val_loss: 8.2618 - val_mean_absolute_error: 2.0837\n",
            "Epoch 138/200\n",
            " - 0s - loss: 3.0036 - mean_absolute_error: 1.2032 - val_loss: 8.9857 - val_mean_absolute_error: 2.1797\n",
            "Epoch 139/200\n",
            " - 0s - loss: 3.0154 - mean_absolute_error: 1.2062 - val_loss: 10.5725 - val_mean_absolute_error: 2.3961\n",
            "Epoch 140/200\n",
            " - 0s - loss: 2.6847 - mean_absolute_error: 1.1909 - val_loss: 11.3339 - val_mean_absolute_error: 2.4229\n",
            "Epoch 141/200\n",
            " - 0s - loss: 2.8548 - mean_absolute_error: 1.1838 - val_loss: 7.7492 - val_mean_absolute_error: 2.0150\n",
            "Epoch 142/200\n",
            " - 0s - loss: 2.8252 - mean_absolute_error: 1.1880 - val_loss: 8.8637 - val_mean_absolute_error: 2.1126\n",
            "Epoch 143/200\n",
            " - 0s - loss: 3.1077 - mean_absolute_error: 1.2160 - val_loss: 9.1677 - val_mean_absolute_error: 2.0511\n",
            "Epoch 144/200\n",
            " - 0s - loss: 2.8638 - mean_absolute_error: 1.1688 - val_loss: 8.6789 - val_mean_absolute_error: 2.0688\n",
            "Epoch 145/200\n",
            " - 0s - loss: 2.8531 - mean_absolute_error: 1.1715 - val_loss: 9.3982 - val_mean_absolute_error: 2.2903\n",
            "Epoch 146/200\n",
            " - 0s - loss: 2.7361 - mean_absolute_error: 1.1763 - val_loss: 9.7837 - val_mean_absolute_error: 2.2958\n",
            "Epoch 147/200\n",
            " - 0s - loss: 2.6384 - mean_absolute_error: 1.1423 - val_loss: 8.4362 - val_mean_absolute_error: 2.1333\n",
            "Epoch 148/200\n",
            " - 0s - loss: 2.6073 - mean_absolute_error: 1.1420 - val_loss: 8.9126 - val_mean_absolute_error: 2.1736\n",
            "Epoch 149/200\n",
            " - 0s - loss: 2.7402 - mean_absolute_error: 1.1366 - val_loss: 9.4546 - val_mean_absolute_error: 2.2549\n",
            "Epoch 150/200\n",
            " - 0s - loss: 2.4630 - mean_absolute_error: 1.0984 - val_loss: 9.6637 - val_mean_absolute_error: 2.2855\n",
            "Epoch 151/200\n",
            " - 0s - loss: 2.5264 - mean_absolute_error: 1.1608 - val_loss: 8.8737 - val_mean_absolute_error: 2.1183\n",
            "Epoch 152/200\n",
            " - 0s - loss: 2.8160 - mean_absolute_error: 1.1574 - val_loss: 8.6744 - val_mean_absolute_error: 1.9886\n",
            "Epoch 153/200\n",
            " - 0s - loss: 2.5817 - mean_absolute_error: 1.1259 - val_loss: 10.2654 - val_mean_absolute_error: 2.2844\n",
            "Epoch 154/200\n",
            " - 0s - loss: 2.3169 - mean_absolute_error: 1.1092 - val_loss: 9.2664 - val_mean_absolute_error: 2.2178\n",
            "Epoch 155/200\n",
            " - 0s - loss: 2.6926 - mean_absolute_error: 1.1305 - val_loss: 9.9078 - val_mean_absolute_error: 2.1783\n",
            "Epoch 156/200\n",
            " - 0s - loss: 2.7518 - mean_absolute_error: 1.1414 - val_loss: 9.0891 - val_mean_absolute_error: 2.1318\n",
            "Epoch 157/200\n",
            " - 0s - loss: 2.7500 - mean_absolute_error: 1.1405 - val_loss: 8.4611 - val_mean_absolute_error: 2.1148\n",
            "Epoch 158/200\n",
            " - 0s - loss: 2.6288 - mean_absolute_error: 1.1442 - val_loss: 9.2653 - val_mean_absolute_error: 2.1746\n",
            "Epoch 159/200\n",
            " - 0s - loss: 2.5711 - mean_absolute_error: 1.1638 - val_loss: 8.3397 - val_mean_absolute_error: 2.0641\n",
            "Epoch 160/200\n",
            " - 0s - loss: 2.3481 - mean_absolute_error: 1.0851 - val_loss: 10.8375 - val_mean_absolute_error: 2.4178\n",
            "Epoch 161/200\n",
            " - 0s - loss: 2.5811 - mean_absolute_error: 1.1411 - val_loss: 8.9696 - val_mean_absolute_error: 2.2392\n",
            "Epoch 162/200\n",
            " - 0s - loss: 2.5199 - mean_absolute_error: 1.1182 - val_loss: 11.3597 - val_mean_absolute_error: 2.4251\n",
            "Epoch 163/200\n",
            " - 0s - loss: 2.4904 - mean_absolute_error: 1.0946 - val_loss: 8.8824 - val_mean_absolute_error: 2.1136\n",
            "Epoch 164/200\n",
            " - 0s - loss: 2.4150 - mean_absolute_error: 1.1071 - val_loss: 12.5455 - val_mean_absolute_error: 2.6219\n",
            "Epoch 165/200\n",
            " - 0s - loss: 2.4134 - mean_absolute_error: 1.0746 - val_loss: 9.8452 - val_mean_absolute_error: 2.2734\n",
            "Epoch 166/200\n",
            " - 0s - loss: 2.4351 - mean_absolute_error: 1.0834 - val_loss: 10.4756 - val_mean_absolute_error: 2.3566\n",
            "Epoch 167/200\n",
            " - 0s - loss: 2.3579 - mean_absolute_error: 1.0695 - val_loss: 9.2851 - val_mean_absolute_error: 2.1696\n",
            "Epoch 168/200\n",
            " - 0s - loss: 2.6128 - mean_absolute_error: 1.1432 - val_loss: 9.5223 - val_mean_absolute_error: 2.2163\n",
            "Epoch 169/200\n",
            " - 0s - loss: 2.1149 - mean_absolute_error: 1.0392 - val_loss: 9.7995 - val_mean_absolute_error: 2.1501\n",
            "Epoch 170/200\n",
            " - 0s - loss: 2.3886 - mean_absolute_error: 1.1116 - val_loss: 10.0451 - val_mean_absolute_error: 2.2185\n",
            "Epoch 171/200\n",
            " - 0s - loss: 2.4475 - mean_absolute_error: 1.1359 - val_loss: 8.9052 - val_mean_absolute_error: 2.1259\n",
            "Epoch 172/200\n",
            " - 0s - loss: 2.3817 - mean_absolute_error: 1.0801 - val_loss: 9.9808 - val_mean_absolute_error: 2.2555\n",
            "Epoch 173/200\n",
            " - 0s - loss: 2.2644 - mean_absolute_error: 1.0788 - val_loss: 9.7780 - val_mean_absolute_error: 2.1962\n",
            "Epoch 174/200\n",
            " - 0s - loss: 2.5480 - mean_absolute_error: 1.1231 - val_loss: 13.4601 - val_mean_absolute_error: 2.6263\n",
            "Epoch 175/200\n",
            " - 0s - loss: 2.5277 - mean_absolute_error: 1.1167 - val_loss: 11.8268 - val_mean_absolute_error: 2.6515\n",
            "Epoch 176/200\n",
            " - 0s - loss: 2.4377 - mean_absolute_error: 1.0955 - val_loss: 9.6312 - val_mean_absolute_error: 2.2434\n",
            "Epoch 177/200\n",
            " - 0s - loss: 2.3106 - mean_absolute_error: 1.0847 - val_loss: 9.8791 - val_mean_absolute_error: 2.1795\n",
            "Epoch 178/200\n",
            " - 0s - loss: 2.3573 - mean_absolute_error: 1.0938 - val_loss: 9.2552 - val_mean_absolute_error: 2.1802\n",
            "Epoch 179/200\n",
            " - 0s - loss: 2.2760 - mean_absolute_error: 1.0537 - val_loss: 10.6354 - val_mean_absolute_error: 2.3901\n",
            "Epoch 180/200\n",
            " - 0s - loss: 2.4902 - mean_absolute_error: 1.1062 - val_loss: 9.1480 - val_mean_absolute_error: 2.1330\n",
            "Epoch 181/200\n",
            " - 0s - loss: 2.2225 - mean_absolute_error: 1.0974 - val_loss: 9.5126 - val_mean_absolute_error: 2.2717\n",
            "Epoch 182/200\n",
            " - 0s - loss: 2.2973 - mean_absolute_error: 1.0878 - val_loss: 10.0704 - val_mean_absolute_error: 2.3205\n",
            "Epoch 183/200\n",
            " - 0s - loss: 2.1439 - mean_absolute_error: 1.0653 - val_loss: 9.9242 - val_mean_absolute_error: 2.3298\n",
            "Epoch 184/200\n",
            " - 0s - loss: 2.4560 - mean_absolute_error: 1.0941 - val_loss: 9.4218 - val_mean_absolute_error: 2.2329\n",
            "Epoch 185/200\n",
            " - 0s - loss: 2.2906 - mean_absolute_error: 1.0728 - val_loss: 9.2338 - val_mean_absolute_error: 2.2740\n",
            "Epoch 186/200\n",
            " - 0s - loss: 2.2200 - mean_absolute_error: 1.0947 - val_loss: 9.5545 - val_mean_absolute_error: 2.2108\n",
            "Epoch 187/200\n",
            " - 0s - loss: 2.2781 - mean_absolute_error: 1.0941 - val_loss: 9.4637 - val_mean_absolute_error: 2.2346\n",
            "Epoch 188/200\n",
            " - 0s - loss: 2.2892 - mean_absolute_error: 1.0471 - val_loss: 8.7848 - val_mean_absolute_error: 2.1669\n",
            "Epoch 189/200\n",
            " - 0s - loss: 2.2815 - mean_absolute_error: 1.0224 - val_loss: 8.9983 - val_mean_absolute_error: 2.1178\n",
            "Epoch 190/200\n",
            " - 0s - loss: 2.4285 - mean_absolute_error: 1.0635 - val_loss: 10.2317 - val_mean_absolute_error: 2.2672\n",
            "Epoch 191/200\n",
            " - 0s - loss: 2.2986 - mean_absolute_error: 1.0434 - val_loss: 10.0194 - val_mean_absolute_error: 2.1544\n",
            "Epoch 192/200\n",
            " - 0s - loss: 2.3422 - mean_absolute_error: 1.0922 - val_loss: 10.7928 - val_mean_absolute_error: 2.3218\n",
            "Epoch 193/200\n",
            " - 0s - loss: 2.1724 - mean_absolute_error: 1.0700 - val_loss: 9.3549 - val_mean_absolute_error: 2.1367\n",
            "Epoch 194/200\n",
            " - 0s - loss: 2.0048 - mean_absolute_error: 1.0690 - val_loss: 10.3354 - val_mean_absolute_error: 2.2974\n",
            "Epoch 195/200\n",
            " - 0s - loss: 2.2259 - mean_absolute_error: 1.0570 - val_loss: 11.0385 - val_mean_absolute_error: 2.2648\n",
            "Epoch 196/200\n",
            " - 0s - loss: 2.1822 - mean_absolute_error: 1.0611 - val_loss: 9.5078 - val_mean_absolute_error: 2.3240\n",
            "Epoch 197/200\n",
            " - 0s - loss: 2.1615 - mean_absolute_error: 1.0595 - val_loss: 11.6857 - val_mean_absolute_error: 2.3687\n",
            "Epoch 198/200\n",
            " - 0s - loss: 2.2287 - mean_absolute_error: 1.0330 - val_loss: 10.3052 - val_mean_absolute_error: 2.3177\n",
            "Epoch 199/200\n",
            " - 0s - loss: 2.1969 - mean_absolute_error: 1.0567 - val_loss: 9.6021 - val_mean_absolute_error: 2.1414\n",
            "Epoch 200/200\n",
            " - 0s - loss: 1.9922 - mean_absolute_error: 1.0399 - val_loss: 11.0315 - val_mean_absolute_error: 2.2509\n",
            "processing fold # 1\n",
            "Train on 303 samples, validate on 101 samples\n",
            "Epoch 1/200\n",
            " - 0s - loss: 221.7533 - mean_absolute_error: 11.3600 - val_loss: 25.8780 - val_mean_absolute_error: 3.9934\n",
            "Epoch 2/200\n",
            " - 0s - loss: 29.0087 - mean_absolute_error: 3.4692 - val_loss: 19.1593 - val_mean_absolute_error: 3.2975\n",
            "Epoch 3/200\n",
            " - 0s - loss: 20.9679 - mean_absolute_error: 3.1071 - val_loss: 19.5572 - val_mean_absolute_error: 3.4257\n",
            "Epoch 4/200\n",
            " - 0s - loss: 17.5782 - mean_absolute_error: 2.8185 - val_loss: 15.2831 - val_mean_absolute_error: 2.9584\n",
            "Epoch 5/200\n",
            " - 0s - loss: 14.9290 - mean_absolute_error: 2.5881 - val_loss: 13.9661 - val_mean_absolute_error: 2.8841\n",
            "Epoch 6/200\n",
            " - 0s - loss: 13.3155 - mean_absolute_error: 2.5021 - val_loss: 14.1313 - val_mean_absolute_error: 2.9387\n",
            "Epoch 7/200\n",
            " - 0s - loss: 12.3954 - mean_absolute_error: 2.3961 - val_loss: 15.1566 - val_mean_absolute_error: 3.0257\n",
            "Epoch 8/200\n",
            " - 0s - loss: 11.3266 - mean_absolute_error: 2.3042 - val_loss: 13.6980 - val_mean_absolute_error: 2.7658\n",
            "Epoch 9/200\n",
            " - 0s - loss: 11.5832 - mean_absolute_error: 2.2521 - val_loss: 14.0546 - val_mean_absolute_error: 2.9645\n",
            "Epoch 10/200\n",
            " - 0s - loss: 10.8635 - mean_absolute_error: 2.2611 - val_loss: 11.1402 - val_mean_absolute_error: 2.5410\n",
            "Epoch 11/200\n",
            " - 0s - loss: 10.8232 - mean_absolute_error: 2.2538 - val_loss: 11.0898 - val_mean_absolute_error: 2.5370\n",
            "Epoch 12/200\n",
            " - 0s - loss: 10.5764 - mean_absolute_error: 2.1570 - val_loss: 11.3781 - val_mean_absolute_error: 2.5209\n",
            "Epoch 13/200\n",
            " - 0s - loss: 10.3256 - mean_absolute_error: 2.1954 - val_loss: 10.5609 - val_mean_absolute_error: 2.5058\n",
            "Epoch 14/200\n",
            " - 0s - loss: 9.5200 - mean_absolute_error: 2.1075 - val_loss: 10.4164 - val_mean_absolute_error: 2.4672\n",
            "Epoch 15/200\n",
            " - 0s - loss: 9.4449 - mean_absolute_error: 2.0998 - val_loss: 10.7282 - val_mean_absolute_error: 2.5516\n",
            "Epoch 16/200\n",
            " - 0s - loss: 9.2397 - mean_absolute_error: 2.0248 - val_loss: 10.0178 - val_mean_absolute_error: 2.4044\n",
            "Epoch 17/200\n",
            " - 0s - loss: 9.0433 - mean_absolute_error: 2.0687 - val_loss: 10.0192 - val_mean_absolute_error: 2.4201\n",
            "Epoch 18/200\n",
            " - 0s - loss: 9.5850 - mean_absolute_error: 2.0597 - val_loss: 10.6778 - val_mean_absolute_error: 2.5320\n",
            "Epoch 19/200\n",
            " - 0s - loss: 9.1439 - mean_absolute_error: 1.9886 - val_loss: 10.7065 - val_mean_absolute_error: 2.4954\n",
            "Epoch 20/200\n",
            " - 0s - loss: 8.7484 - mean_absolute_error: 1.9864 - val_loss: 9.9096 - val_mean_absolute_error: 2.4220\n",
            "Epoch 21/200\n",
            " - 0s - loss: 8.1880 - mean_absolute_error: 1.9364 - val_loss: 9.7616 - val_mean_absolute_error: 2.3849\n",
            "Epoch 22/200\n",
            " - 0s - loss: 8.4549 - mean_absolute_error: 1.8973 - val_loss: 11.5539 - val_mean_absolute_error: 2.6256\n",
            "Epoch 23/200\n",
            " - 0s - loss: 8.3599 - mean_absolute_error: 1.9227 - val_loss: 9.7952 - val_mean_absolute_error: 2.3685\n",
            "Epoch 24/200\n",
            " - 0s - loss: 8.6242 - mean_absolute_error: 1.9340 - val_loss: 9.7547 - val_mean_absolute_error: 2.4297\n",
            "Epoch 25/200\n",
            " - 0s - loss: 8.2483 - mean_absolute_error: 1.8973 - val_loss: 13.7944 - val_mean_absolute_error: 3.0333\n",
            "Epoch 26/200\n",
            " - 0s - loss: 8.0046 - mean_absolute_error: 1.8576 - val_loss: 9.1993 - val_mean_absolute_error: 2.3627\n",
            "Epoch 27/200\n",
            " - 0s - loss: 7.7509 - mean_absolute_error: 1.7816 - val_loss: 14.8277 - val_mean_absolute_error: 3.0608\n",
            "Epoch 28/200\n",
            " - 0s - loss: 7.7993 - mean_absolute_error: 1.8469 - val_loss: 9.5547 - val_mean_absolute_error: 2.4039\n",
            "Epoch 29/200\n",
            " - 0s - loss: 7.0993 - mean_absolute_error: 1.8580 - val_loss: 12.1058 - val_mean_absolute_error: 2.6471\n",
            "Epoch 30/200\n",
            " - 0s - loss: 7.1117 - mean_absolute_error: 1.7923 - val_loss: 9.3462 - val_mean_absolute_error: 2.4014\n",
            "Epoch 31/200\n",
            " - 0s - loss: 7.4760 - mean_absolute_error: 1.8301 - val_loss: 10.2143 - val_mean_absolute_error: 2.4900\n",
            "Epoch 32/200\n",
            " - 0s - loss: 7.5771 - mean_absolute_error: 1.8409 - val_loss: 9.8966 - val_mean_absolute_error: 2.4427\n",
            "Epoch 33/200\n",
            " - 0s - loss: 6.6997 - mean_absolute_error: 1.7814 - val_loss: 9.5427 - val_mean_absolute_error: 2.4394\n",
            "Epoch 34/200\n",
            " - 0s - loss: 7.4336 - mean_absolute_error: 1.7168 - val_loss: 8.9968 - val_mean_absolute_error: 2.3870\n",
            "Epoch 35/200\n",
            " - 0s - loss: 7.5896 - mean_absolute_error: 1.8050 - val_loss: 9.6185 - val_mean_absolute_error: 2.4146\n",
            "Epoch 36/200\n",
            " - 0s - loss: 7.0099 - mean_absolute_error: 1.8127 - val_loss: 9.5938 - val_mean_absolute_error: 2.3712\n",
            "Epoch 37/200\n",
            " - 0s - loss: 7.2280 - mean_absolute_error: 1.7286 - val_loss: 9.9877 - val_mean_absolute_error: 2.4647\n",
            "Epoch 38/200\n",
            " - 0s - loss: 7.1603 - mean_absolute_error: 1.7225 - val_loss: 11.4042 - val_mean_absolute_error: 2.6539\n",
            "Epoch 39/200\n",
            " - 0s - loss: 6.7863 - mean_absolute_error: 1.7094 - val_loss: 9.7115 - val_mean_absolute_error: 2.4802\n",
            "Epoch 40/200\n",
            " - 0s - loss: 6.7750 - mean_absolute_error: 1.7360 - val_loss: 11.4005 - val_mean_absolute_error: 2.7443\n",
            "Epoch 41/200\n",
            " - 0s - loss: 6.5533 - mean_absolute_error: 1.6962 - val_loss: 10.4609 - val_mean_absolute_error: 2.5143\n",
            "Epoch 42/200\n",
            " - 0s - loss: 6.8090 - mean_absolute_error: 1.6296 - val_loss: 11.0191 - val_mean_absolute_error: 2.6553\n",
            "Epoch 43/200\n",
            " - 0s - loss: 6.6772 - mean_absolute_error: 1.7168 - val_loss: 10.9990 - val_mean_absolute_error: 2.5843\n",
            "Epoch 44/200\n",
            " - 0s - loss: 6.6332 - mean_absolute_error: 1.6584 - val_loss: 13.1651 - val_mean_absolute_error: 2.8874\n",
            "Epoch 45/200\n",
            " - 0s - loss: 6.4075 - mean_absolute_error: 1.6780 - val_loss: 11.9114 - val_mean_absolute_error: 2.7956\n",
            "Epoch 46/200\n",
            " - 0s - loss: 6.7156 - mean_absolute_error: 1.7365 - val_loss: 11.3533 - val_mean_absolute_error: 2.6532\n",
            "Epoch 47/200\n",
            " - 0s - loss: 6.1124 - mean_absolute_error: 1.6596 - val_loss: 10.7806 - val_mean_absolute_error: 2.5464\n",
            "Epoch 48/200\n",
            " - 0s - loss: 6.5071 - mean_absolute_error: 1.6708 - val_loss: 9.4657 - val_mean_absolute_error: 2.3360\n",
            "Epoch 49/200\n",
            " - 0s - loss: 6.1769 - mean_absolute_error: 1.6253 - val_loss: 11.2216 - val_mean_absolute_error: 2.5819\n",
            "Epoch 50/200\n",
            " - 0s - loss: 6.2461 - mean_absolute_error: 1.6353 - val_loss: 9.2079 - val_mean_absolute_error: 2.2892\n",
            "Epoch 51/200\n",
            " - 0s - loss: 6.1475 - mean_absolute_error: 1.6190 - val_loss: 12.2322 - val_mean_absolute_error: 2.7368\n",
            "Epoch 52/200\n",
            " - 0s - loss: 5.8328 - mean_absolute_error: 1.6151 - val_loss: 11.1566 - val_mean_absolute_error: 2.6314\n",
            "Epoch 53/200\n",
            " - 0s - loss: 5.5870 - mean_absolute_error: 1.5679 - val_loss: 10.1521 - val_mean_absolute_error: 2.4690\n",
            "Epoch 54/200\n",
            " - 0s - loss: 5.6460 - mean_absolute_error: 1.5927 - val_loss: 8.5884 - val_mean_absolute_error: 2.2355\n",
            "Epoch 55/200\n",
            " - 0s - loss: 5.5863 - mean_absolute_error: 1.5759 - val_loss: 11.4352 - val_mean_absolute_error: 2.5976\n",
            "Epoch 56/200\n",
            " - 0s - loss: 5.6614 - mean_absolute_error: 1.5981 - val_loss: 9.3032 - val_mean_absolute_error: 2.4000\n",
            "Epoch 57/200\n",
            " - 0s - loss: 5.9773 - mean_absolute_error: 1.5735 - val_loss: 10.6503 - val_mean_absolute_error: 2.4667\n",
            "Epoch 58/200\n",
            " - 0s - loss: 5.7381 - mean_absolute_error: 1.5920 - val_loss: 11.4701 - val_mean_absolute_error: 2.5837\n",
            "Epoch 59/200\n",
            " - 0s - loss: 5.3971 - mean_absolute_error: 1.5483 - val_loss: 9.7970 - val_mean_absolute_error: 2.4652\n",
            "Epoch 60/200\n",
            " - 0s - loss: 5.6289 - mean_absolute_error: 1.5834 - val_loss: 11.5297 - val_mean_absolute_error: 2.6664\n",
            "Epoch 61/200\n",
            " - 0s - loss: 5.2929 - mean_absolute_error: 1.5108 - val_loss: 9.3196 - val_mean_absolute_error: 2.3965\n",
            "Epoch 62/200\n",
            " - 0s - loss: 5.0419 - mean_absolute_error: 1.5567 - val_loss: 10.0573 - val_mean_absolute_error: 2.4101\n",
            "Epoch 63/200\n",
            " - 0s - loss: 5.1718 - mean_absolute_error: 1.5252 - val_loss: 11.1738 - val_mean_absolute_error: 2.6162\n",
            "Epoch 64/200\n",
            " - 0s - loss: 4.9979 - mean_absolute_error: 1.5215 - val_loss: 10.1108 - val_mean_absolute_error: 2.5069\n",
            "Epoch 65/200\n",
            " - 0s - loss: 5.5372 - mean_absolute_error: 1.5020 - val_loss: 8.7537 - val_mean_absolute_error: 2.2822\n",
            "Epoch 66/200\n",
            " - 0s - loss: 4.9972 - mean_absolute_error: 1.4823 - val_loss: 9.3736 - val_mean_absolute_error: 2.3269\n",
            "Epoch 67/200\n",
            " - 0s - loss: 4.9956 - mean_absolute_error: 1.5110 - val_loss: 10.8484 - val_mean_absolute_error: 2.5856\n",
            "Epoch 68/200\n",
            " - 0s - loss: 5.1278 - mean_absolute_error: 1.5084 - val_loss: 11.1661 - val_mean_absolute_error: 2.6400\n",
            "Epoch 69/200\n",
            " - 0s - loss: 4.7711 - mean_absolute_error: 1.5249 - val_loss: 12.8640 - val_mean_absolute_error: 2.6846\n",
            "Epoch 70/200\n",
            " - 0s - loss: 5.0399 - mean_absolute_error: 1.4629 - val_loss: 10.1525 - val_mean_absolute_error: 2.4369\n",
            "Epoch 71/200\n",
            " - 0s - loss: 4.8580 - mean_absolute_error: 1.4677 - val_loss: 12.2833 - val_mean_absolute_error: 2.6600\n",
            "Epoch 72/200\n",
            " - 0s - loss: 4.9681 - mean_absolute_error: 1.4927 - val_loss: 10.4034 - val_mean_absolute_error: 2.5072\n",
            "Epoch 73/200\n",
            " - 0s - loss: 4.8205 - mean_absolute_error: 1.4515 - val_loss: 9.0630 - val_mean_absolute_error: 2.3177\n",
            "Epoch 74/200\n",
            " - 0s - loss: 4.7527 - mean_absolute_error: 1.4443 - val_loss: 11.2267 - val_mean_absolute_error: 2.5502\n",
            "Epoch 75/200\n",
            " - 0s - loss: 5.0133 - mean_absolute_error: 1.4903 - val_loss: 9.1611 - val_mean_absolute_error: 2.3329\n",
            "Epoch 76/200\n",
            " - 0s - loss: 4.6850 - mean_absolute_error: 1.4321 - val_loss: 14.3842 - val_mean_absolute_error: 2.9123\n",
            "Epoch 77/200\n",
            " - 0s - loss: 4.5504 - mean_absolute_error: 1.4732 - val_loss: 9.7989 - val_mean_absolute_error: 2.4794\n",
            "Epoch 78/200\n",
            " - 0s - loss: 4.2624 - mean_absolute_error: 1.3763 - val_loss: 9.9107 - val_mean_absolute_error: 2.3944\n",
            "Epoch 79/200\n",
            " - 0s - loss: 4.4199 - mean_absolute_error: 1.4129 - val_loss: 15.2759 - val_mean_absolute_error: 3.0004\n",
            "Epoch 80/200\n",
            " - 0s - loss: 4.5404 - mean_absolute_error: 1.4618 - val_loss: 11.3524 - val_mean_absolute_error: 2.5448\n",
            "Epoch 81/200\n",
            " - 0s - loss: 4.4386 - mean_absolute_error: 1.4226 - val_loss: 10.5849 - val_mean_absolute_error: 2.3729\n",
            "Epoch 82/200\n",
            " - 0s - loss: 4.4798 - mean_absolute_error: 1.4079 - val_loss: 9.5787 - val_mean_absolute_error: 2.3610\n",
            "Epoch 83/200\n",
            " - 0s - loss: 4.3820 - mean_absolute_error: 1.3680 - val_loss: 10.9826 - val_mean_absolute_error: 2.5516\n",
            "Epoch 84/200\n",
            " - 0s - loss: 4.0163 - mean_absolute_error: 1.3426 - val_loss: 13.6534 - val_mean_absolute_error: 2.7472\n",
            "Epoch 85/200\n",
            " - 0s - loss: 4.2167 - mean_absolute_error: 1.4020 - val_loss: 12.2608 - val_mean_absolute_error: 2.7295\n",
            "Epoch 86/200\n",
            " - 0s - loss: 3.9861 - mean_absolute_error: 1.3988 - val_loss: 9.5301 - val_mean_absolute_error: 2.3946\n",
            "Epoch 87/200\n",
            " - 0s - loss: 3.6850 - mean_absolute_error: 1.3428 - val_loss: 10.7825 - val_mean_absolute_error: 2.5219\n",
            "Epoch 88/200\n",
            " - 0s - loss: 4.4208 - mean_absolute_error: 1.3439 - val_loss: 11.0880 - val_mean_absolute_error: 2.5373\n",
            "Epoch 89/200\n",
            " - 0s - loss: 3.8376 - mean_absolute_error: 1.2887 - val_loss: 11.6452 - val_mean_absolute_error: 2.6096\n",
            "Epoch 90/200\n",
            " - 0s - loss: 4.0106 - mean_absolute_error: 1.3623 - val_loss: 11.5916 - val_mean_absolute_error: 2.5599\n",
            "Epoch 91/200\n",
            " - 0s - loss: 4.0131 - mean_absolute_error: 1.3346 - val_loss: 15.6465 - val_mean_absolute_error: 2.9738\n",
            "Epoch 92/200\n",
            " - 0s - loss: 3.9268 - mean_absolute_error: 1.3498 - val_loss: 10.1512 - val_mean_absolute_error: 2.4690\n",
            "Epoch 93/200\n",
            " - 0s - loss: 4.0102 - mean_absolute_error: 1.3274 - val_loss: 15.4349 - val_mean_absolute_error: 2.9564\n",
            "Epoch 94/200\n",
            " - 0s - loss: 3.8250 - mean_absolute_error: 1.3453 - val_loss: 11.3440 - val_mean_absolute_error: 2.4705\n",
            "Epoch 95/200\n",
            " - 0s - loss: 3.7465 - mean_absolute_error: 1.2855 - val_loss: 12.2131 - val_mean_absolute_error: 2.5343\n",
            "Epoch 96/200\n",
            " - 0s - loss: 3.5645 - mean_absolute_error: 1.2803 - val_loss: 10.6475 - val_mean_absolute_error: 2.4941\n",
            "Epoch 97/200\n",
            " - 0s - loss: 3.6871 - mean_absolute_error: 1.2209 - val_loss: 10.4506 - val_mean_absolute_error: 2.4740\n",
            "Epoch 98/200\n",
            " - 0s - loss: 3.9284 - mean_absolute_error: 1.3103 - val_loss: 12.7377 - val_mean_absolute_error: 2.6610\n",
            "Epoch 99/200\n",
            " - 0s - loss: 3.7422 - mean_absolute_error: 1.2686 - val_loss: 10.9562 - val_mean_absolute_error: 2.4087\n",
            "Epoch 100/200\n",
            " - 0s - loss: 3.5337 - mean_absolute_error: 1.2551 - val_loss: 16.7888 - val_mean_absolute_error: 2.7719\n",
            "Epoch 101/200\n",
            " - 0s - loss: 3.6939 - mean_absolute_error: 1.2726 - val_loss: 15.7578 - val_mean_absolute_error: 2.9242\n",
            "Epoch 102/200\n",
            " - 0s - loss: 3.9534 - mean_absolute_error: 1.2578 - val_loss: 12.9546 - val_mean_absolute_error: 2.6820\n",
            "Epoch 103/200\n",
            " - 0s - loss: 3.5069 - mean_absolute_error: 1.2242 - val_loss: 12.0014 - val_mean_absolute_error: 2.5541\n",
            "Epoch 104/200\n",
            " - 0s - loss: 3.5822 - mean_absolute_error: 1.2425 - val_loss: 12.8061 - val_mean_absolute_error: 2.6616\n",
            "Epoch 105/200\n",
            " - 0s - loss: 3.3779 - mean_absolute_error: 1.1945 - val_loss: 10.4414 - val_mean_absolute_error: 2.4897\n",
            "Epoch 106/200\n",
            " - 0s - loss: 3.3394 - mean_absolute_error: 1.2150 - val_loss: 9.9126 - val_mean_absolute_error: 2.3622\n",
            "Epoch 107/200\n",
            " - 0s - loss: 3.5191 - mean_absolute_error: 1.2352 - val_loss: 13.7052 - val_mean_absolute_error: 2.6571\n",
            "Epoch 108/200\n",
            " - 0s - loss: 3.4379 - mean_absolute_error: 1.2008 - val_loss: 10.3763 - val_mean_absolute_error: 2.3854\n",
            "Epoch 109/200\n",
            " - 0s - loss: 3.1859 - mean_absolute_error: 1.2201 - val_loss: 10.4092 - val_mean_absolute_error: 2.4146\n",
            "Epoch 110/200\n",
            " - 0s - loss: 3.2341 - mean_absolute_error: 1.2517 - val_loss: 10.7417 - val_mean_absolute_error: 2.3938\n",
            "Epoch 111/200\n",
            " - 0s - loss: 3.2220 - mean_absolute_error: 1.1959 - val_loss: 16.8173 - val_mean_absolute_error: 2.9656\n",
            "Epoch 112/200\n",
            " - 0s - loss: 3.0745 - mean_absolute_error: 1.2257 - val_loss: 13.8837 - val_mean_absolute_error: 2.7077\n",
            "Epoch 113/200\n",
            " - 0s - loss: 3.1906 - mean_absolute_error: 1.1866 - val_loss: 12.4530 - val_mean_absolute_error: 2.4722\n",
            "Epoch 114/200\n",
            " - 0s - loss: 2.8643 - mean_absolute_error: 1.1962 - val_loss: 14.9050 - val_mean_absolute_error: 2.8089\n",
            "Epoch 115/200\n",
            " - 0s - loss: 2.8440 - mean_absolute_error: 1.1407 - val_loss: 15.7166 - val_mean_absolute_error: 2.8502\n",
            "Epoch 116/200\n",
            " - 0s - loss: 3.2522 - mean_absolute_error: 1.1825 - val_loss: 12.8053 - val_mean_absolute_error: 2.8481\n",
            "Epoch 117/200\n",
            " - 0s - loss: 3.1242 - mean_absolute_error: 1.1611 - val_loss: 11.1448 - val_mean_absolute_error: 2.4672\n",
            "Epoch 118/200\n",
            " - 0s - loss: 2.9608 - mean_absolute_error: 1.1552 - val_loss: 11.4261 - val_mean_absolute_error: 2.5435\n",
            "Epoch 119/200\n",
            " - 0s - loss: 3.0598 - mean_absolute_error: 1.1579 - val_loss: 15.4607 - val_mean_absolute_error: 3.0973\n",
            "Epoch 120/200\n",
            " - 0s - loss: 2.7482 - mean_absolute_error: 1.1578 - val_loss: 10.7829 - val_mean_absolute_error: 2.4176\n",
            "Epoch 121/200\n",
            " - 0s - loss: 2.9921 - mean_absolute_error: 1.1934 - val_loss: 16.2788 - val_mean_absolute_error: 2.8117\n",
            "Epoch 122/200\n",
            " - 0s - loss: 2.7106 - mean_absolute_error: 1.0959 - val_loss: 20.3289 - val_mean_absolute_error: 3.0533\n",
            "Epoch 123/200\n",
            " - 0s - loss: 2.9154 - mean_absolute_error: 1.1790 - val_loss: 17.1526 - val_mean_absolute_error: 2.9523\n",
            "Epoch 124/200\n",
            " - 0s - loss: 2.8469 - mean_absolute_error: 1.1514 - val_loss: 11.4132 - val_mean_absolute_error: 2.4699\n",
            "Epoch 125/200\n",
            " - 0s - loss: 2.8309 - mean_absolute_error: 1.1515 - val_loss: 10.5362 - val_mean_absolute_error: 2.4314\n",
            "Epoch 126/200\n",
            " - 0s - loss: 2.8121 - mean_absolute_error: 1.1446 - val_loss: 12.7937 - val_mean_absolute_error: 2.5299\n",
            "Epoch 127/200\n",
            " - 0s - loss: 2.6996 - mean_absolute_error: 1.1111 - val_loss: 10.9608 - val_mean_absolute_error: 2.4992\n",
            "Epoch 128/200\n",
            " - 0s - loss: 2.7367 - mean_absolute_error: 1.1198 - val_loss: 14.7601 - val_mean_absolute_error: 2.7082\n",
            "Epoch 129/200\n",
            " - 0s - loss: 2.8239 - mean_absolute_error: 1.1324 - val_loss: 17.4096 - val_mean_absolute_error: 2.8907\n",
            "Epoch 130/200\n",
            " - 0s - loss: 2.9029 - mean_absolute_error: 1.1809 - val_loss: 13.9520 - val_mean_absolute_error: 2.7663\n",
            "Epoch 131/200\n",
            " - 0s - loss: 2.8034 - mean_absolute_error: 1.1429 - val_loss: 11.5692 - val_mean_absolute_error: 2.4761\n",
            "Epoch 132/200\n",
            " - 0s - loss: 2.5508 - mean_absolute_error: 1.0965 - val_loss: 16.5174 - val_mean_absolute_error: 2.9778\n",
            "Epoch 133/200\n",
            " - 0s - loss: 2.9608 - mean_absolute_error: 1.1413 - val_loss: 15.9862 - val_mean_absolute_error: 2.6493\n",
            "Epoch 134/200\n",
            " - 0s - loss: 2.6960 - mean_absolute_error: 1.1302 - val_loss: 15.7521 - val_mean_absolute_error: 2.8549\n",
            "Epoch 135/200\n",
            " - 0s - loss: 2.6946 - mean_absolute_error: 1.1204 - val_loss: 16.4554 - val_mean_absolute_error: 2.7083\n",
            "Epoch 136/200\n",
            " - 0s - loss: 2.4840 - mean_absolute_error: 1.1038 - val_loss: 17.5425 - val_mean_absolute_error: 2.9815\n",
            "Epoch 137/200\n",
            " - 0s - loss: 2.7181 - mean_absolute_error: 1.1129 - val_loss: 17.0532 - val_mean_absolute_error: 2.9549\n",
            "Epoch 138/200\n",
            " - 0s - loss: 2.3532 - mean_absolute_error: 1.0878 - val_loss: 15.8156 - val_mean_absolute_error: 2.7107\n",
            "Epoch 139/200\n",
            " - 0s - loss: 2.5286 - mean_absolute_error: 1.0991 - val_loss: 14.6138 - val_mean_absolute_error: 2.6586\n",
            "Epoch 140/200\n",
            " - 0s - loss: 2.5008 - mean_absolute_error: 1.0725 - val_loss: 15.8022 - val_mean_absolute_error: 2.7465\n",
            "Epoch 141/200\n",
            " - 0s - loss: 2.4366 - mean_absolute_error: 1.0562 - val_loss: 14.0221 - val_mean_absolute_error: 2.6304\n",
            "Epoch 142/200\n",
            " - 0s - loss: 2.4791 - mean_absolute_error: 1.0175 - val_loss: 14.8185 - val_mean_absolute_error: 2.6063\n",
            "Epoch 143/200\n",
            " - 0s - loss: 2.4735 - mean_absolute_error: 1.0808 - val_loss: 13.3206 - val_mean_absolute_error: 2.5845\n",
            "Epoch 144/200\n",
            " - 0s - loss: 2.1923 - mean_absolute_error: 1.0280 - val_loss: 18.7511 - val_mean_absolute_error: 2.8274\n",
            "Epoch 145/200\n",
            " - 0s - loss: 2.4094 - mean_absolute_error: 1.0689 - val_loss: 16.7710 - val_mean_absolute_error: 2.9134\n",
            "Epoch 146/200\n",
            " - 0s - loss: 2.0700 - mean_absolute_error: 0.9842 - val_loss: 15.9292 - val_mean_absolute_error: 2.6603\n",
            "Epoch 147/200\n",
            " - 0s - loss: 2.4341 - mean_absolute_error: 1.0659 - val_loss: 12.9229 - val_mean_absolute_error: 2.6556\n",
            "Epoch 148/200\n",
            " - 0s - loss: 2.4426 - mean_absolute_error: 1.0510 - val_loss: 15.5901 - val_mean_absolute_error: 2.7593\n",
            "Epoch 149/200\n",
            " - 0s - loss: 2.3010 - mean_absolute_error: 1.0101 - val_loss: 19.2338 - val_mean_absolute_error: 2.9225\n",
            "Epoch 150/200\n",
            " - 0s - loss: 2.1530 - mean_absolute_error: 1.0010 - val_loss: 19.0137 - val_mean_absolute_error: 2.8965\n",
            "Epoch 151/200\n",
            " - 0s - loss: 2.2903 - mean_absolute_error: 1.0972 - val_loss: 20.4025 - val_mean_absolute_error: 2.8541\n",
            "Epoch 152/200\n",
            " - 0s - loss: 2.3673 - mean_absolute_error: 0.9733 - val_loss: 22.4416 - val_mean_absolute_error: 3.2210\n",
            "Epoch 153/200\n",
            " - 0s - loss: 2.2114 - mean_absolute_error: 1.0278 - val_loss: 21.7418 - val_mean_absolute_error: 2.9913\n",
            "Epoch 154/200\n",
            " - 0s - loss: 2.1583 - mean_absolute_error: 1.0261 - val_loss: 14.5161 - val_mean_absolute_error: 2.6136\n",
            "Epoch 155/200\n",
            " - 0s - loss: 2.1765 - mean_absolute_error: 1.0501 - val_loss: 14.5432 - val_mean_absolute_error: 2.7277\n",
            "Epoch 156/200\n",
            " - 0s - loss: 2.1314 - mean_absolute_error: 1.0001 - val_loss: 15.0467 - val_mean_absolute_error: 2.5994\n",
            "Epoch 157/200\n",
            " - 0s - loss: 2.2238 - mean_absolute_error: 1.0757 - val_loss: 21.8963 - val_mean_absolute_error: 3.0596\n",
            "Epoch 158/200\n",
            " - 0s - loss: 2.1595 - mean_absolute_error: 1.0115 - val_loss: 19.7854 - val_mean_absolute_error: 2.8436\n",
            "Epoch 159/200\n",
            " - 0s - loss: 2.1841 - mean_absolute_error: 1.0545 - val_loss: 21.3540 - val_mean_absolute_error: 3.0943\n",
            "Epoch 160/200\n",
            " - 0s - loss: 2.2039 - mean_absolute_error: 1.0233 - val_loss: 17.1327 - val_mean_absolute_error: 2.6370\n",
            "Epoch 161/200\n",
            " - 0s - loss: 1.9221 - mean_absolute_error: 0.9906 - val_loss: 18.6918 - val_mean_absolute_error: 2.8037\n",
            "Epoch 162/200\n",
            " - 0s - loss: 1.9810 - mean_absolute_error: 0.9428 - val_loss: 17.9821 - val_mean_absolute_error: 2.9235\n",
            "Epoch 163/200\n",
            " - 0s - loss: 2.0554 - mean_absolute_error: 1.0217 - val_loss: 16.1718 - val_mean_absolute_error: 2.7338\n",
            "Epoch 164/200\n",
            " - 0s - loss: 1.9799 - mean_absolute_error: 0.9768 - val_loss: 19.8099 - val_mean_absolute_error: 3.1510\n",
            "Epoch 165/200\n",
            " - 0s - loss: 2.1509 - mean_absolute_error: 0.9991 - val_loss: 16.9675 - val_mean_absolute_error: 2.6843\n",
            "Epoch 166/200\n",
            " - 0s - loss: 2.1854 - mean_absolute_error: 1.0015 - val_loss: 17.6080 - val_mean_absolute_error: 2.9189\n",
            "Epoch 167/200\n",
            " - 0s - loss: 1.9646 - mean_absolute_error: 0.9926 - val_loss: 20.2497 - val_mean_absolute_error: 2.8704\n",
            "Epoch 168/200\n",
            " - 0s - loss: 2.0814 - mean_absolute_error: 1.0082 - val_loss: 17.2672 - val_mean_absolute_error: 2.8845\n",
            "Epoch 169/200\n",
            " - 0s - loss: 1.9950 - mean_absolute_error: 1.0129 - val_loss: 15.2823 - val_mean_absolute_error: 2.6589\n",
            "Epoch 170/200\n",
            " - 0s - loss: 1.8641 - mean_absolute_error: 0.9683 - val_loss: 14.8177 - val_mean_absolute_error: 2.7514\n",
            "Epoch 171/200\n",
            " - 0s - loss: 1.8558 - mean_absolute_error: 1.0019 - val_loss: 20.0889 - val_mean_absolute_error: 3.0489\n",
            "Epoch 172/200\n",
            " - 0s - loss: 2.0500 - mean_absolute_error: 0.9849 - val_loss: 16.6301 - val_mean_absolute_error: 2.6413\n",
            "Epoch 173/200\n",
            " - 0s - loss: 1.8991 - mean_absolute_error: 0.9900 - val_loss: 24.6459 - val_mean_absolute_error: 3.2051\n",
            "Epoch 174/200\n",
            " - 0s - loss: 2.0979 - mean_absolute_error: 0.9904 - val_loss: 16.4348 - val_mean_absolute_error: 2.7308\n",
            "Epoch 175/200\n",
            " - 0s - loss: 2.0758 - mean_absolute_error: 1.0222 - val_loss: 14.0230 - val_mean_absolute_error: 2.6350\n",
            "Epoch 176/200\n",
            " - 0s - loss: 1.8159 - mean_absolute_error: 0.9307 - val_loss: 14.8147 - val_mean_absolute_error: 2.6405\n",
            "Epoch 177/200\n",
            " - 0s - loss: 1.9240 - mean_absolute_error: 0.9825 - val_loss: 21.2051 - val_mean_absolute_error: 3.1375\n",
            "Epoch 178/200\n",
            " - 0s - loss: 1.9894 - mean_absolute_error: 0.9974 - val_loss: 16.5044 - val_mean_absolute_error: 2.6557\n",
            "Epoch 179/200\n",
            " - 0s - loss: 1.7881 - mean_absolute_error: 0.9421 - val_loss: 20.2735 - val_mean_absolute_error: 3.0143\n",
            "Epoch 180/200\n",
            " - 0s - loss: 1.8504 - mean_absolute_error: 0.9351 - val_loss: 23.2854 - val_mean_absolute_error: 2.9608\n",
            "Epoch 181/200\n",
            " - 0s - loss: 1.8567 - mean_absolute_error: 0.9758 - val_loss: 19.0118 - val_mean_absolute_error: 2.8163\n",
            "Epoch 182/200\n",
            " - 0s - loss: 1.7857 - mean_absolute_error: 0.9498 - val_loss: 22.9567 - val_mean_absolute_error: 3.0896\n",
            "Epoch 183/200\n",
            " - 0s - loss: 1.8599 - mean_absolute_error: 0.9424 - val_loss: 21.9148 - val_mean_absolute_error: 2.9547\n",
            "Epoch 184/200\n",
            " - 0s - loss: 1.8311 - mean_absolute_error: 0.9459 - val_loss: 21.9046 - val_mean_absolute_error: 2.9168\n",
            "Epoch 185/200\n",
            " - 0s - loss: 1.9973 - mean_absolute_error: 0.9641 - val_loss: 24.5003 - val_mean_absolute_error: 3.2229\n",
            "Epoch 186/200\n",
            " - 0s - loss: 1.7279 - mean_absolute_error: 0.9309 - val_loss: 20.3093 - val_mean_absolute_error: 2.8914\n",
            "Epoch 187/200\n",
            " - 0s - loss: 1.8445 - mean_absolute_error: 0.9538 - val_loss: 23.0164 - val_mean_absolute_error: 2.9315\n",
            "Epoch 188/200\n",
            " - 0s - loss: 1.9381 - mean_absolute_error: 1.0176 - val_loss: 23.8122 - val_mean_absolute_error: 2.9948\n",
            "Epoch 189/200\n",
            " - 0s - loss: 1.5984 - mean_absolute_error: 0.9009 - val_loss: 23.4153 - val_mean_absolute_error: 2.8891\n",
            "Epoch 190/200\n",
            " - 0s - loss: 1.8547 - mean_absolute_error: 0.9813 - val_loss: 20.2550 - val_mean_absolute_error: 2.8855\n",
            "Epoch 191/200\n",
            " - 0s - loss: 1.7901 - mean_absolute_error: 0.9838 - val_loss: 23.4349 - val_mean_absolute_error: 2.9384\n",
            "Epoch 192/200\n",
            " - 0s - loss: 1.7706 - mean_absolute_error: 0.9121 - val_loss: 23.2920 - val_mean_absolute_error: 2.9480\n",
            "Epoch 193/200\n",
            " - 0s - loss: 1.7030 - mean_absolute_error: 0.9780 - val_loss: 17.0201 - val_mean_absolute_error: 2.6146\n",
            "Epoch 194/200\n",
            " - 0s - loss: 1.7634 - mean_absolute_error: 0.9352 - val_loss: 18.3496 - val_mean_absolute_error: 2.6908\n",
            "Epoch 195/200\n",
            " - 0s - loss: 1.7736 - mean_absolute_error: 0.9487 - val_loss: 25.7817 - val_mean_absolute_error: 3.2008\n",
            "Epoch 196/200\n",
            " - 0s - loss: 1.6533 - mean_absolute_error: 0.9233 - val_loss: 28.2846 - val_mean_absolute_error: 3.0849\n",
            "Epoch 197/200\n",
            " - 0s - loss: 1.6892 - mean_absolute_error: 0.9197 - val_loss: 19.1233 - val_mean_absolute_error: 2.7722\n",
            "Epoch 198/200\n",
            " - 0s - loss: 1.7279 - mean_absolute_error: 0.9445 - val_loss: 22.6663 - val_mean_absolute_error: 2.9300\n",
            "Epoch 199/200\n",
            " - 0s - loss: 1.4623 - mean_absolute_error: 0.8616 - val_loss: 27.3119 - val_mean_absolute_error: 3.2692\n",
            "Epoch 200/200\n",
            " - 0s - loss: 1.7015 - mean_absolute_error: 0.9452 - val_loss: 21.8643 - val_mean_absolute_error: 2.9373\n",
            "processing fold # 2\n",
            "Train on 303 samples, validate on 101 samples\n",
            "Epoch 1/200\n",
            " - 1s - loss: 220.6775 - mean_absolute_error: 11.3185 - val_loss: 37.6206 - val_mean_absolute_error: 4.3389\n",
            "Epoch 2/200\n",
            " - 0s - loss: 30.0350 - mean_absolute_error: 3.6645 - val_loss: 24.0296 - val_mean_absolute_error: 3.2804\n",
            "Epoch 3/200\n",
            " - 0s - loss: 19.5574 - mean_absolute_error: 3.0190 - val_loss: 20.4992 - val_mean_absolute_error: 2.9584\n",
            "Epoch 4/200\n",
            " - 0s - loss: 16.0600 - mean_absolute_error: 2.7012 - val_loss: 19.9390 - val_mean_absolute_error: 2.9739\n",
            "Epoch 5/200\n",
            " - 0s - loss: 15.0579 - mean_absolute_error: 2.5756 - val_loss: 18.1075 - val_mean_absolute_error: 2.8754\n",
            "Epoch 6/200\n",
            " - 0s - loss: 13.3672 - mean_absolute_error: 2.4769 - val_loss: 18.6491 - val_mean_absolute_error: 2.8070\n",
            "Epoch 7/200\n",
            " - 0s - loss: 12.5060 - mean_absolute_error: 2.4139 - val_loss: 16.9639 - val_mean_absolute_error: 2.7617\n",
            "Epoch 8/200\n",
            " - 0s - loss: 11.6986 - mean_absolute_error: 2.3214 - val_loss: 18.5574 - val_mean_absolute_error: 2.9494\n",
            "Epoch 9/200\n",
            " - 0s - loss: 10.8503 - mean_absolute_error: 2.2981 - val_loss: 16.7850 - val_mean_absolute_error: 2.7947\n",
            "Epoch 10/200\n",
            " - 0s - loss: 10.4571 - mean_absolute_error: 2.2387 - val_loss: 16.3821 - val_mean_absolute_error: 2.6958\n",
            "Epoch 11/200\n",
            " - 0s - loss: 10.1228 - mean_absolute_error: 2.2059 - val_loss: 16.2346 - val_mean_absolute_error: 2.7342\n",
            "Epoch 12/200\n",
            " - 0s - loss: 8.9688 - mean_absolute_error: 2.0908 - val_loss: 17.2171 - val_mean_absolute_error: 2.8374\n",
            "Epoch 13/200\n",
            " - 0s - loss: 8.9870 - mean_absolute_error: 2.0504 - val_loss: 15.2569 - val_mean_absolute_error: 2.6668\n",
            "Epoch 14/200\n",
            " - 0s - loss: 8.4874 - mean_absolute_error: 2.0499 - val_loss: 15.0556 - val_mean_absolute_error: 2.5701\n",
            "Epoch 15/200\n",
            " - 0s - loss: 9.0564 - mean_absolute_error: 1.9933 - val_loss: 15.3807 - val_mean_absolute_error: 2.6772\n",
            "Epoch 16/200\n",
            " - 0s - loss: 8.1953 - mean_absolute_error: 1.9584 - val_loss: 14.7768 - val_mean_absolute_error: 2.5983\n",
            "Epoch 17/200\n",
            " - 0s - loss: 7.9155 - mean_absolute_error: 1.9714 - val_loss: 16.2636 - val_mean_absolute_error: 2.6978\n",
            "Epoch 18/200\n",
            " - 0s - loss: 8.1567 - mean_absolute_error: 1.9321 - val_loss: 16.7099 - val_mean_absolute_error: 2.8815\n",
            "Epoch 19/200\n",
            " - 0s - loss: 7.9268 - mean_absolute_error: 1.9191 - val_loss: 15.6928 - val_mean_absolute_error: 2.7731\n",
            "Epoch 20/200\n",
            " - 0s - loss: 7.3609 - mean_absolute_error: 1.8365 - val_loss: 14.6970 - val_mean_absolute_error: 2.5621\n",
            "Epoch 21/200\n",
            " - 0s - loss: 7.2109 - mean_absolute_error: 1.8684 - val_loss: 16.0195 - val_mean_absolute_error: 2.5984\n",
            "Epoch 22/200\n",
            " - 0s - loss: 7.0355 - mean_absolute_error: 1.8448 - val_loss: 14.4315 - val_mean_absolute_error: 2.5983\n",
            "Epoch 23/200\n",
            " - 0s - loss: 6.9417 - mean_absolute_error: 1.7980 - val_loss: 16.5326 - val_mean_absolute_error: 2.7536\n",
            "Epoch 24/200\n",
            " - 0s - loss: 6.6864 - mean_absolute_error: 1.8093 - val_loss: 15.3900 - val_mean_absolute_error: 2.6263\n",
            "Epoch 25/200\n",
            " - 0s - loss: 6.5688 - mean_absolute_error: 1.7709 - val_loss: 13.8381 - val_mean_absolute_error: 2.4717\n",
            "Epoch 26/200\n",
            " - 0s - loss: 5.9506 - mean_absolute_error: 1.7273 - val_loss: 13.7275 - val_mean_absolute_error: 2.5308\n",
            "Epoch 27/200\n",
            " - 0s - loss: 6.4885 - mean_absolute_error: 1.7483 - val_loss: 13.6352 - val_mean_absolute_error: 2.5259\n",
            "Epoch 28/200\n",
            " - 0s - loss: 6.7665 - mean_absolute_error: 1.7616 - val_loss: 14.2565 - val_mean_absolute_error: 2.6144\n",
            "Epoch 29/200\n",
            " - 0s - loss: 6.2001 - mean_absolute_error: 1.7094 - val_loss: 15.0609 - val_mean_absolute_error: 2.7061\n",
            "Epoch 30/200\n",
            " - 0s - loss: 6.0768 - mean_absolute_error: 1.6962 - val_loss: 13.0359 - val_mean_absolute_error: 2.4451\n",
            "Epoch 31/200\n",
            " - 0s - loss: 5.8595 - mean_absolute_error: 1.6703 - val_loss: 14.0257 - val_mean_absolute_error: 2.4941\n",
            "Epoch 32/200\n",
            " - 0s - loss: 5.7421 - mean_absolute_error: 1.6927 - val_loss: 13.7267 - val_mean_absolute_error: 2.4285\n",
            "Epoch 33/200\n",
            " - 0s - loss: 5.8500 - mean_absolute_error: 1.6728 - val_loss: 15.3058 - val_mean_absolute_error: 2.6344\n",
            "Epoch 34/200\n",
            " - 0s - loss: 5.6920 - mean_absolute_error: 1.6739 - val_loss: 14.5477 - val_mean_absolute_error: 2.5645\n",
            "Epoch 35/200\n",
            " - 0s - loss: 5.7205 - mean_absolute_error: 1.6785 - val_loss: 14.0185 - val_mean_absolute_error: 2.4995\n",
            "Epoch 36/200\n",
            " - 0s - loss: 5.7319 - mean_absolute_error: 1.5829 - val_loss: 13.7486 - val_mean_absolute_error: 2.5397\n",
            "Epoch 37/200\n",
            " - 0s - loss: 5.5502 - mean_absolute_error: 1.6202 - val_loss: 14.3923 - val_mean_absolute_error: 2.5156\n",
            "Epoch 38/200\n",
            " - 0s - loss: 5.3973 - mean_absolute_error: 1.5877 - val_loss: 16.1080 - val_mean_absolute_error: 2.8497\n",
            "Epoch 39/200\n",
            " - 0s - loss: 5.3273 - mean_absolute_error: 1.6020 - val_loss: 14.1861 - val_mean_absolute_error: 2.5895\n",
            "Epoch 40/200\n",
            " - 0s - loss: 5.2962 - mean_absolute_error: 1.5664 - val_loss: 13.7167 - val_mean_absolute_error: 2.5557\n",
            "Epoch 41/200\n",
            " - 0s - loss: 5.1655 - mean_absolute_error: 1.5814 - val_loss: 14.6043 - val_mean_absolute_error: 2.6671\n",
            "Epoch 42/200\n",
            " - 0s - loss: 4.7208 - mean_absolute_error: 1.5554 - val_loss: 14.2247 - val_mean_absolute_error: 2.5013\n",
            "Epoch 43/200\n",
            " - 0s - loss: 4.7162 - mean_absolute_error: 1.5609 - val_loss: 14.0973 - val_mean_absolute_error: 2.6454\n",
            "Epoch 44/200\n",
            " - 0s - loss: 4.7476 - mean_absolute_error: 1.5435 - val_loss: 15.7629 - val_mean_absolute_error: 2.6626\n",
            "Epoch 45/200\n",
            " - 0s - loss: 4.5873 - mean_absolute_error: 1.5367 - val_loss: 15.5721 - val_mean_absolute_error: 2.7859\n",
            "Epoch 46/200\n",
            " - 0s - loss: 4.7526 - mean_absolute_error: 1.5531 - val_loss: 13.7959 - val_mean_absolute_error: 2.5247\n",
            "Epoch 47/200\n",
            " - 0s - loss: 4.5042 - mean_absolute_error: 1.4908 - val_loss: 14.4022 - val_mean_absolute_error: 2.4801\n",
            "Epoch 48/200\n",
            " - 0s - loss: 4.5867 - mean_absolute_error: 1.4909 - val_loss: 14.8306 - val_mean_absolute_error: 2.6163\n",
            "Epoch 49/200\n",
            " - 0s - loss: 4.5309 - mean_absolute_error: 1.5064 - val_loss: 19.5387 - val_mean_absolute_error: 2.8852\n",
            "Epoch 50/200\n",
            " - 0s - loss: 4.6567 - mean_absolute_error: 1.4737 - val_loss: 13.5171 - val_mean_absolute_error: 2.4889\n",
            "Epoch 51/200\n",
            " - 0s - loss: 4.6410 - mean_absolute_error: 1.5023 - val_loss: 13.0711 - val_mean_absolute_error: 2.5309\n",
            "Epoch 52/200\n",
            " - 0s - loss: 4.5972 - mean_absolute_error: 1.4996 - val_loss: 14.7501 - val_mean_absolute_error: 2.7094\n",
            "Epoch 53/200\n",
            " - 0s - loss: 4.3080 - mean_absolute_error: 1.4874 - val_loss: 12.9396 - val_mean_absolute_error: 2.5430\n",
            "Epoch 54/200\n",
            " - 0s - loss: 4.0037 - mean_absolute_error: 1.4401 - val_loss: 17.4269 - val_mean_absolute_error: 2.7927\n",
            "Epoch 55/200\n",
            " - 0s - loss: 4.4287 - mean_absolute_error: 1.4834 - val_loss: 14.2640 - val_mean_absolute_error: 2.5298\n",
            "Epoch 56/200\n",
            " - 0s - loss: 3.9995 - mean_absolute_error: 1.4200 - val_loss: 14.3784 - val_mean_absolute_error: 2.5438\n",
            "Epoch 57/200\n",
            " - 0s - loss: 4.0951 - mean_absolute_error: 1.4453 - val_loss: 13.6861 - val_mean_absolute_error: 2.4769\n",
            "Epoch 58/200\n",
            " - 0s - loss: 3.9450 - mean_absolute_error: 1.4374 - val_loss: 14.4145 - val_mean_absolute_error: 2.5547\n",
            "Epoch 59/200\n",
            " - 0s - loss: 4.0437 - mean_absolute_error: 1.4128 - val_loss: 13.6341 - val_mean_absolute_error: 2.5614\n",
            "Epoch 60/200\n",
            " - 0s - loss: 4.2256 - mean_absolute_error: 1.4276 - val_loss: 15.1790 - val_mean_absolute_error: 2.6328\n",
            "Epoch 61/200\n",
            " - 0s - loss: 3.7459 - mean_absolute_error: 1.4165 - val_loss: 13.7395 - val_mean_absolute_error: 2.6036\n",
            "Epoch 62/200\n",
            " - 0s - loss: 3.8179 - mean_absolute_error: 1.3922 - val_loss: 13.3936 - val_mean_absolute_error: 2.4849\n",
            "Epoch 63/200\n",
            " - 0s - loss: 3.9650 - mean_absolute_error: 1.4322 - val_loss: 13.8117 - val_mean_absolute_error: 2.4964\n",
            "Epoch 64/200\n",
            " - 0s - loss: 3.8706 - mean_absolute_error: 1.4149 - val_loss: 16.0718 - val_mean_absolute_error: 2.8235\n",
            "Epoch 65/200\n",
            " - 0s - loss: 3.7374 - mean_absolute_error: 1.3975 - val_loss: 14.2373 - val_mean_absolute_error: 2.6387\n",
            "Epoch 66/200\n",
            " - 0s - loss: 3.6990 - mean_absolute_error: 1.3816 - val_loss: 14.7115 - val_mean_absolute_error: 2.7427\n",
            "Epoch 67/200\n",
            " - 0s - loss: 3.5106 - mean_absolute_error: 1.3541 - val_loss: 14.2009 - val_mean_absolute_error: 2.4302\n",
            "Epoch 68/200\n",
            " - 0s - loss: 3.7952 - mean_absolute_error: 1.3612 - val_loss: 13.5786 - val_mean_absolute_error: 2.4833\n",
            "Epoch 69/200\n",
            " - 0s - loss: 3.6352 - mean_absolute_error: 1.3732 - val_loss: 13.2557 - val_mean_absolute_error: 2.4465\n",
            "Epoch 70/200\n",
            " - 0s - loss: 3.4446 - mean_absolute_error: 1.3596 - val_loss: 14.1162 - val_mean_absolute_error: 2.5093\n",
            "Epoch 71/200\n",
            " - 0s - loss: 3.5659 - mean_absolute_error: 1.3688 - val_loss: 15.5100 - val_mean_absolute_error: 2.6286\n",
            "Epoch 72/200\n",
            " - 0s - loss: 3.5671 - mean_absolute_error: 1.3762 - val_loss: 14.6252 - val_mean_absolute_error: 2.5489\n",
            "Epoch 73/200\n",
            " - 0s - loss: 3.3455 - mean_absolute_error: 1.3034 - val_loss: 13.4004 - val_mean_absolute_error: 2.4835\n",
            "Epoch 74/200\n",
            " - 0s - loss: 3.1633 - mean_absolute_error: 1.2993 - val_loss: 15.1664 - val_mean_absolute_error: 2.6114\n",
            "Epoch 75/200\n",
            " - 0s - loss: 3.2114 - mean_absolute_error: 1.3091 - val_loss: 14.2596 - val_mean_absolute_error: 2.4757\n",
            "Epoch 76/200\n",
            " - 0s - loss: 3.2388 - mean_absolute_error: 1.2880 - val_loss: 15.0652 - val_mean_absolute_error: 2.6517\n",
            "Epoch 77/200\n",
            " - 0s - loss: 3.1832 - mean_absolute_error: 1.2928 - val_loss: 15.0463 - val_mean_absolute_error: 2.5826\n",
            "Epoch 78/200\n",
            " - 0s - loss: 3.4228 - mean_absolute_error: 1.3573 - val_loss: 12.9233 - val_mean_absolute_error: 2.4301\n",
            "Epoch 79/200\n",
            " - 0s - loss: 2.9793 - mean_absolute_error: 1.2922 - val_loss: 15.4270 - val_mean_absolute_error: 2.6200\n",
            "Epoch 80/200\n",
            " - 0s - loss: 2.9820 - mean_absolute_error: 1.2698 - val_loss: 16.0394 - val_mean_absolute_error: 2.6798\n",
            "Epoch 81/200\n",
            " - 0s - loss: 3.0912 - mean_absolute_error: 1.2915 - val_loss: 14.5242 - val_mean_absolute_error: 2.5920\n",
            "Epoch 82/200\n",
            " - 0s - loss: 2.8660 - mean_absolute_error: 1.2238 - val_loss: 13.0630 - val_mean_absolute_error: 2.4788\n",
            "Epoch 83/200\n",
            " - 0s - loss: 3.1227 - mean_absolute_error: 1.2847 - val_loss: 17.1412 - val_mean_absolute_error: 2.6600\n",
            "Epoch 84/200\n",
            " - 0s - loss: 3.1066 - mean_absolute_error: 1.3082 - val_loss: 14.6075 - val_mean_absolute_error: 2.6388\n",
            "Epoch 85/200\n",
            " - 0s - loss: 3.0010 - mean_absolute_error: 1.2203 - val_loss: 13.7727 - val_mean_absolute_error: 2.5158\n",
            "Epoch 86/200\n",
            " - 0s - loss: 2.7903 - mean_absolute_error: 1.2398 - val_loss: 14.7628 - val_mean_absolute_error: 2.6111\n",
            "Epoch 87/200\n",
            " - 0s - loss: 2.8419 - mean_absolute_error: 1.2332 - val_loss: 13.6411 - val_mean_absolute_error: 2.5300\n",
            "Epoch 88/200\n",
            " - 0s - loss: 2.7420 - mean_absolute_error: 1.1960 - val_loss: 13.7216 - val_mean_absolute_error: 2.4435\n",
            "Epoch 89/200\n",
            " - 0s - loss: 2.8492 - mean_absolute_error: 1.2512 - val_loss: 14.4234 - val_mean_absolute_error: 2.5439\n",
            "Epoch 90/200\n",
            " - 0s - loss: 2.6629 - mean_absolute_error: 1.2485 - val_loss: 15.8504 - val_mean_absolute_error: 2.5570\n",
            "Epoch 91/200\n",
            " - 0s - loss: 2.9551 - mean_absolute_error: 1.2544 - val_loss: 13.5331 - val_mean_absolute_error: 2.4454\n",
            "Epoch 92/200\n",
            " - 0s - loss: 2.8657 - mean_absolute_error: 1.1880 - val_loss: 14.4851 - val_mean_absolute_error: 2.5347\n",
            "Epoch 93/200\n",
            " - 0s - loss: 3.0001 - mean_absolute_error: 1.2599 - val_loss: 14.5389 - val_mean_absolute_error: 2.5013\n",
            "Epoch 94/200\n",
            " - 0s - loss: 2.5198 - mean_absolute_error: 1.1890 - val_loss: 15.6415 - val_mean_absolute_error: 2.6104\n",
            "Epoch 95/200\n",
            " - 0s - loss: 2.6406 - mean_absolute_error: 1.1755 - val_loss: 14.3082 - val_mean_absolute_error: 2.5208\n",
            "Epoch 96/200\n",
            " - 0s - loss: 2.6625 - mean_absolute_error: 1.1748 - val_loss: 14.8381 - val_mean_absolute_error: 2.5447\n",
            "Epoch 97/200\n",
            " - 0s - loss: 2.6496 - mean_absolute_error: 1.1746 - val_loss: 14.8933 - val_mean_absolute_error: 2.5317\n",
            "Epoch 98/200\n",
            " - 0s - loss: 2.5350 - mean_absolute_error: 1.1496 - val_loss: 13.6233 - val_mean_absolute_error: 2.5161\n",
            "Epoch 99/200\n",
            " - 0s - loss: 2.8022 - mean_absolute_error: 1.2243 - val_loss: 14.0025 - val_mean_absolute_error: 2.4164\n",
            "Epoch 100/200\n",
            " - 0s - loss: 2.5442 - mean_absolute_error: 1.1734 - val_loss: 15.3494 - val_mean_absolute_error: 2.6580\n",
            "Epoch 101/200\n",
            " - 0s - loss: 2.5327 - mean_absolute_error: 1.2000 - val_loss: 15.3008 - val_mean_absolute_error: 2.4709\n",
            "Epoch 102/200\n",
            " - 0s - loss: 2.6274 - mean_absolute_error: 1.1695 - val_loss: 14.8042 - val_mean_absolute_error: 2.6163\n",
            "Epoch 103/200\n",
            " - 0s - loss: 2.3764 - mean_absolute_error: 1.1461 - val_loss: 16.4913 - val_mean_absolute_error: 2.7670\n",
            "Epoch 104/200\n",
            " - 0s - loss: 2.4194 - mean_absolute_error: 1.1276 - val_loss: 15.3822 - val_mean_absolute_error: 2.5460\n",
            "Epoch 105/200\n",
            " - 0s - loss: 2.6077 - mean_absolute_error: 1.1715 - val_loss: 15.1781 - val_mean_absolute_error: 2.5881\n",
            "Epoch 106/200\n",
            " - 0s - loss: 2.3726 - mean_absolute_error: 1.1356 - val_loss: 15.7750 - val_mean_absolute_error: 2.6191\n",
            "Epoch 107/200\n",
            " - 0s - loss: 2.2487 - mean_absolute_error: 1.1055 - val_loss: 16.5029 - val_mean_absolute_error: 2.7138\n",
            "Epoch 108/200\n",
            " - 0s - loss: 2.2595 - mean_absolute_error: 1.1065 - val_loss: 14.3063 - val_mean_absolute_error: 2.5693\n",
            "Epoch 109/200\n",
            " - 0s - loss: 2.4439 - mean_absolute_error: 1.1351 - val_loss: 16.0049 - val_mean_absolute_error: 2.6850\n",
            "Epoch 110/200\n",
            " - 0s - loss: 2.2964 - mean_absolute_error: 1.1064 - val_loss: 15.4365 - val_mean_absolute_error: 2.6420\n",
            "Epoch 111/200\n",
            " - 0s - loss: 2.2755 - mean_absolute_error: 1.1335 - val_loss: 16.6384 - val_mean_absolute_error: 2.6487\n",
            "Epoch 112/200\n",
            " - 0s - loss: 2.3790 - mean_absolute_error: 1.1182 - val_loss: 14.6334 - val_mean_absolute_error: 2.5788\n",
            "Epoch 113/200\n",
            " - 0s - loss: 2.1781 - mean_absolute_error: 1.0688 - val_loss: 15.2718 - val_mean_absolute_error: 2.6225\n",
            "Epoch 114/200\n",
            " - 0s - loss: 2.1239 - mean_absolute_error: 1.0797 - val_loss: 16.6993 - val_mean_absolute_error: 2.6495\n",
            "Epoch 115/200\n",
            " - 0s - loss: 2.2569 - mean_absolute_error: 1.1025 - val_loss: 16.7442 - val_mean_absolute_error: 2.7166\n",
            "Epoch 116/200\n",
            " - 0s - loss: 2.1686 - mean_absolute_error: 1.1027 - val_loss: 16.4504 - val_mean_absolute_error: 2.8264\n",
            "Epoch 117/200\n",
            " - 0s - loss: 2.0713 - mean_absolute_error: 1.0804 - val_loss: 15.5828 - val_mean_absolute_error: 2.5901\n",
            "Epoch 118/200\n",
            " - 0s - loss: 2.1226 - mean_absolute_error: 1.0739 - val_loss: 16.8863 - val_mean_absolute_error: 2.8767\n",
            "Epoch 119/200\n",
            " - 0s - loss: 2.1403 - mean_absolute_error: 1.0871 - val_loss: 17.0163 - val_mean_absolute_error: 2.8170\n",
            "Epoch 120/200\n",
            " - 0s - loss: 2.1239 - mean_absolute_error: 1.0640 - val_loss: 15.5393 - val_mean_absolute_error: 2.5965\n",
            "Epoch 121/200\n",
            " - 0s - loss: 2.1940 - mean_absolute_error: 1.1288 - val_loss: 14.7310 - val_mean_absolute_error: 2.5792\n",
            "Epoch 122/200\n",
            " - 0s - loss: 2.2426 - mean_absolute_error: 1.0790 - val_loss: 14.0524 - val_mean_absolute_error: 2.4986\n",
            "Epoch 123/200\n",
            " - 0s - loss: 2.0235 - mean_absolute_error: 1.0287 - val_loss: 16.9605 - val_mean_absolute_error: 2.7081\n",
            "Epoch 124/200\n",
            " - 0s - loss: 1.9510 - mean_absolute_error: 1.0261 - val_loss: 15.4936 - val_mean_absolute_error: 2.6141\n",
            "Epoch 125/200\n",
            " - 0s - loss: 1.7535 - mean_absolute_error: 0.9863 - val_loss: 15.9751 - val_mean_absolute_error: 2.7543\n",
            "Epoch 126/200\n",
            " - 0s - loss: 2.1911 - mean_absolute_error: 1.1073 - val_loss: 16.5569 - val_mean_absolute_error: 2.7909\n",
            "Epoch 127/200\n",
            " - 0s - loss: 2.1513 - mean_absolute_error: 1.0383 - val_loss: 16.7749 - val_mean_absolute_error: 2.7328\n",
            "Epoch 128/200\n",
            " - 0s - loss: 1.9013 - mean_absolute_error: 0.9924 - val_loss: 16.4021 - val_mean_absolute_error: 2.6863\n",
            "Epoch 129/200\n",
            " - 0s - loss: 2.1745 - mean_absolute_error: 1.1159 - val_loss: 16.2381 - val_mean_absolute_error: 2.7044\n",
            "Epoch 130/200\n",
            " - 0s - loss: 2.0303 - mean_absolute_error: 1.0457 - val_loss: 16.2095 - val_mean_absolute_error: 2.6658\n",
            "Epoch 131/200\n",
            " - 0s - loss: 1.8835 - mean_absolute_error: 1.0234 - val_loss: 15.8298 - val_mean_absolute_error: 2.6788\n",
            "Epoch 132/200\n",
            " - 0s - loss: 1.9529 - mean_absolute_error: 1.0492 - val_loss: 15.7276 - val_mean_absolute_error: 2.5746\n",
            "Epoch 133/200\n",
            " - 0s - loss: 1.9049 - mean_absolute_error: 1.0218 - val_loss: 14.8184 - val_mean_absolute_error: 2.5915\n",
            "Epoch 134/200\n",
            " - 0s - loss: 1.6170 - mean_absolute_error: 0.9444 - val_loss: 16.9578 - val_mean_absolute_error: 2.6883\n",
            "Epoch 135/200\n",
            " - 0s - loss: 1.7447 - mean_absolute_error: 0.9902 - val_loss: 14.9667 - val_mean_absolute_error: 2.5999\n",
            "Epoch 136/200\n",
            " - 0s - loss: 1.9221 - mean_absolute_error: 0.9899 - val_loss: 16.0196 - val_mean_absolute_error: 2.6650\n",
            "Epoch 137/200\n",
            " - 0s - loss: 1.8426 - mean_absolute_error: 1.0143 - val_loss: 16.6896 - val_mean_absolute_error: 2.7860\n",
            "Epoch 138/200\n",
            " - 0s - loss: 1.9017 - mean_absolute_error: 1.0403 - val_loss: 16.3817 - val_mean_absolute_error: 2.6576\n",
            "Epoch 139/200\n",
            " - 0s - loss: 1.6045 - mean_absolute_error: 0.9486 - val_loss: 14.8311 - val_mean_absolute_error: 2.6366\n",
            "Epoch 140/200\n",
            " - 0s - loss: 1.9129 - mean_absolute_error: 1.0086 - val_loss: 14.2423 - val_mean_absolute_error: 2.4947\n",
            "Epoch 141/200\n",
            " - 0s - loss: 1.6313 - mean_absolute_error: 0.9337 - val_loss: 16.0009 - val_mean_absolute_error: 2.7168\n",
            "Epoch 142/200\n",
            " - 0s - loss: 1.7587 - mean_absolute_error: 0.9756 - val_loss: 16.2465 - val_mean_absolute_error: 2.6590\n",
            "Epoch 143/200\n",
            " - 0s - loss: 1.6793 - mean_absolute_error: 0.9390 - val_loss: 16.9278 - val_mean_absolute_error: 2.8335\n",
            "Epoch 144/200\n",
            " - 0s - loss: 1.7880 - mean_absolute_error: 0.9620 - val_loss: 16.0482 - val_mean_absolute_error: 2.7160\n",
            "Epoch 145/200\n",
            " - 0s - loss: 1.6432 - mean_absolute_error: 0.9431 - val_loss: 16.0940 - val_mean_absolute_error: 2.6916\n",
            "Epoch 146/200\n",
            " - 0s - loss: 1.6675 - mean_absolute_error: 0.9375 - val_loss: 18.6570 - val_mean_absolute_error: 2.7634\n",
            "Epoch 147/200\n",
            " - 0s - loss: 1.9141 - mean_absolute_error: 0.9992 - val_loss: 16.6624 - val_mean_absolute_error: 2.6469\n",
            "Epoch 148/200\n",
            " - 0s - loss: 2.0579 - mean_absolute_error: 1.0219 - val_loss: 16.4023 - val_mean_absolute_error: 2.7941\n",
            "Epoch 149/200\n",
            " - 0s - loss: 1.5611 - mean_absolute_error: 0.9248 - val_loss: 15.7352 - val_mean_absolute_error: 2.6570\n",
            "Epoch 150/200\n",
            " - 0s - loss: 1.7904 - mean_absolute_error: 0.9810 - val_loss: 15.4180 - val_mean_absolute_error: 2.7695\n",
            "Epoch 151/200\n",
            " - 0s - loss: 1.7840 - mean_absolute_error: 0.9406 - val_loss: 15.5219 - val_mean_absolute_error: 2.5981\n",
            "Epoch 152/200\n",
            " - 0s - loss: 1.3661 - mean_absolute_error: 0.8702 - val_loss: 17.0870 - val_mean_absolute_error: 2.7246\n",
            "Epoch 153/200\n",
            " - 0s - loss: 1.8802 - mean_absolute_error: 0.9654 - val_loss: 15.3667 - val_mean_absolute_error: 2.6990\n",
            "Epoch 154/200\n",
            " - 0s - loss: 1.5210 - mean_absolute_error: 0.8926 - val_loss: 15.4621 - val_mean_absolute_error: 2.5682\n",
            "Epoch 155/200\n",
            " - 0s - loss: 1.6312 - mean_absolute_error: 0.9689 - val_loss: 16.7515 - val_mean_absolute_error: 2.6559\n",
            "Epoch 156/200\n",
            " - 0s - loss: 1.6704 - mean_absolute_error: 0.9354 - val_loss: 15.6067 - val_mean_absolute_error: 2.6296\n",
            "Epoch 157/200\n",
            " - 0s - loss: 1.6823 - mean_absolute_error: 0.9526 - val_loss: 16.5873 - val_mean_absolute_error: 2.6680\n",
            "Epoch 158/200\n",
            " - 0s - loss: 1.6306 - mean_absolute_error: 0.9698 - val_loss: 15.9865 - val_mean_absolute_error: 2.6107\n",
            "Epoch 159/200\n",
            " - 0s - loss: 1.5440 - mean_absolute_error: 0.9340 - val_loss: 16.3648 - val_mean_absolute_error: 2.7038\n",
            "Epoch 160/200\n",
            " - 0s - loss: 1.6292 - mean_absolute_error: 0.8916 - val_loss: 18.9687 - val_mean_absolute_error: 2.8535\n",
            "Epoch 161/200\n",
            " - 0s - loss: 1.7750 - mean_absolute_error: 0.9692 - val_loss: 15.4819 - val_mean_absolute_error: 2.6335\n",
            "Epoch 162/200\n",
            " - 0s - loss: 1.5179 - mean_absolute_error: 0.9134 - val_loss: 16.0079 - val_mean_absolute_error: 2.6482\n",
            "Epoch 163/200\n",
            " - 0s - loss: 1.5740 - mean_absolute_error: 0.9082 - val_loss: 15.9228 - val_mean_absolute_error: 2.6330\n",
            "Epoch 164/200\n",
            " - 0s - loss: 1.5021 - mean_absolute_error: 0.9269 - val_loss: 15.2916 - val_mean_absolute_error: 2.6181\n",
            "Epoch 165/200\n",
            " - 0s - loss: 1.4856 - mean_absolute_error: 0.8938 - val_loss: 16.1642 - val_mean_absolute_error: 2.7385\n",
            "Epoch 166/200\n",
            " - 0s - loss: 1.5819 - mean_absolute_error: 0.9309 - val_loss: 15.5334 - val_mean_absolute_error: 2.6111\n",
            "Epoch 167/200\n",
            " - 0s - loss: 1.5939 - mean_absolute_error: 0.9221 - val_loss: 15.1714 - val_mean_absolute_error: 2.6608\n",
            "Epoch 168/200\n",
            " - 0s - loss: 1.6735 - mean_absolute_error: 0.9390 - val_loss: 16.0611 - val_mean_absolute_error: 2.6797\n",
            "Epoch 169/200\n",
            " - 0s - loss: 1.4673 - mean_absolute_error: 0.9034 - val_loss: 15.7026 - val_mean_absolute_error: 2.7773\n",
            "Epoch 170/200\n",
            " - 0s - loss: 1.5212 - mean_absolute_error: 0.9333 - val_loss: 15.0152 - val_mean_absolute_error: 2.6352\n",
            "Epoch 171/200\n",
            " - 0s - loss: 1.4932 - mean_absolute_error: 0.9312 - val_loss: 15.3372 - val_mean_absolute_error: 2.5527\n",
            "Epoch 172/200\n",
            " - 0s - loss: 1.5361 - mean_absolute_error: 0.8648 - val_loss: 16.6266 - val_mean_absolute_error: 2.7644\n",
            "Epoch 173/200\n",
            " - 0s - loss: 1.6602 - mean_absolute_error: 0.9159 - val_loss: 15.1543 - val_mean_absolute_error: 2.7118\n",
            "Epoch 174/200\n",
            " - 0s - loss: 1.3589 - mean_absolute_error: 0.8393 - val_loss: 15.1339 - val_mean_absolute_error: 2.5952\n",
            "Epoch 175/200\n",
            " - 0s - loss: 1.4386 - mean_absolute_error: 0.9102 - val_loss: 15.6543 - val_mean_absolute_error: 2.6608\n",
            "Epoch 176/200\n",
            " - 0s - loss: 1.5904 - mean_absolute_error: 0.9193 - val_loss: 16.4020 - val_mean_absolute_error: 2.7468\n",
            "Epoch 177/200\n",
            " - 0s - loss: 1.5220 - mean_absolute_error: 0.9104 - val_loss: 16.1953 - val_mean_absolute_error: 2.7440\n",
            "Epoch 178/200\n",
            " - 0s - loss: 1.5607 - mean_absolute_error: 0.9068 - val_loss: 17.1686 - val_mean_absolute_error: 2.7564\n",
            "Epoch 179/200\n",
            " - 0s - loss: 1.6273 - mean_absolute_error: 0.9078 - val_loss: 15.9568 - val_mean_absolute_error: 2.6199\n",
            "Epoch 180/200\n",
            " - 0s - loss: 1.6107 - mean_absolute_error: 0.8856 - val_loss: 17.5489 - val_mean_absolute_error: 2.6734\n",
            "Epoch 181/200\n",
            " - 0s - loss: 1.5049 - mean_absolute_error: 0.9245 - val_loss: 14.8233 - val_mean_absolute_error: 2.6214\n",
            "Epoch 182/200\n",
            " - 0s - loss: 1.3402 - mean_absolute_error: 0.8355 - val_loss: 14.9720 - val_mean_absolute_error: 2.6471\n",
            "Epoch 183/200\n",
            " - 0s - loss: 1.3548 - mean_absolute_error: 0.8605 - val_loss: 14.5453 - val_mean_absolute_error: 2.5926\n",
            "Epoch 184/200\n",
            " - 0s - loss: 1.4651 - mean_absolute_error: 0.8873 - val_loss: 15.4944 - val_mean_absolute_error: 2.6686\n",
            "Epoch 185/200\n",
            " - 0s - loss: 1.2973 - mean_absolute_error: 0.8588 - val_loss: 17.5058 - val_mean_absolute_error: 2.6956\n",
            "Epoch 186/200\n",
            " - 0s - loss: 1.4831 - mean_absolute_error: 0.9124 - val_loss: 18.0478 - val_mean_absolute_error: 2.8018\n",
            "Epoch 187/200\n",
            " - 0s - loss: 1.4631 - mean_absolute_error: 0.8855 - val_loss: 15.4925 - val_mean_absolute_error: 2.6218\n",
            "Epoch 188/200\n",
            " - 0s - loss: 1.4461 - mean_absolute_error: 0.8737 - val_loss: 14.8067 - val_mean_absolute_error: 2.6278\n",
            "Epoch 189/200\n",
            " - 0s - loss: 1.2753 - mean_absolute_error: 0.8294 - val_loss: 16.5722 - val_mean_absolute_error: 2.7735\n",
            "Epoch 190/200\n",
            " - 0s - loss: 1.4506 - mean_absolute_error: 0.9016 - val_loss: 14.5886 - val_mean_absolute_error: 2.5351\n",
            "Epoch 191/200\n",
            " - 0s - loss: 1.2413 - mean_absolute_error: 0.8473 - val_loss: 16.6444 - val_mean_absolute_error: 2.7427\n",
            "Epoch 192/200\n",
            " - 0s - loss: 1.3926 - mean_absolute_error: 0.8790 - val_loss: 17.0219 - val_mean_absolute_error: 2.8304\n",
            "Epoch 193/200\n",
            " - 0s - loss: 1.4001 - mean_absolute_error: 0.8730 - val_loss: 15.4574 - val_mean_absolute_error: 2.5887\n",
            "Epoch 194/200\n",
            " - 0s - loss: 1.4715 - mean_absolute_error: 0.8933 - val_loss: 17.2614 - val_mean_absolute_error: 2.8146\n",
            "Epoch 195/200\n",
            " - 0s - loss: 1.4334 - mean_absolute_error: 0.8543 - val_loss: 15.6298 - val_mean_absolute_error: 2.6583\n",
            "Epoch 196/200\n",
            " - 0s - loss: 1.2550 - mean_absolute_error: 0.8311 - val_loss: 15.8672 - val_mean_absolute_error: 2.6817\n",
            "Epoch 197/200\n",
            " - 0s - loss: 1.2857 - mean_absolute_error: 0.7979 - val_loss: 16.4046 - val_mean_absolute_error: 2.7407\n",
            "Epoch 198/200\n",
            " - 0s - loss: 1.4793 - mean_absolute_error: 0.8793 - val_loss: 17.0140 - val_mean_absolute_error: 2.7861\n",
            "Epoch 199/200\n",
            " - 0s - loss: 1.3080 - mean_absolute_error: 0.8333 - val_loss: 16.5694 - val_mean_absolute_error: 2.7508\n",
            "Epoch 200/200\n",
            " - 0s - loss: 1.4225 - mean_absolute_error: 0.8596 - val_loss: 15.8875 - val_mean_absolute_error: 2.6410\n",
            "processing fold # 3\n",
            "Train on 303 samples, validate on 101 samples\n",
            "Epoch 1/200\n",
            " - 1s - loss: 183.7435 - mean_absolute_error: 9.9554 - val_loss: 76.4327 - val_mean_absolute_error: 6.0165\n",
            "Epoch 2/200\n",
            " - 0s - loss: 31.1017 - mean_absolute_error: 3.7671 - val_loss: 48.9269 - val_mean_absolute_error: 4.3173\n",
            "Epoch 3/200\n",
            " - 0s - loss: 21.1757 - mean_absolute_error: 3.0824 - val_loss: 30.3447 - val_mean_absolute_error: 3.4581\n",
            "Epoch 4/200\n",
            " - 0s - loss: 17.4284 - mean_absolute_error: 2.6961 - val_loss: 28.3362 - val_mean_absolute_error: 3.2203\n",
            "Epoch 5/200\n",
            " - 0s - loss: 15.2353 - mean_absolute_error: 2.5727 - val_loss: 23.9456 - val_mean_absolute_error: 2.8991\n",
            "Epoch 6/200\n",
            " - 0s - loss: 13.3332 - mean_absolute_error: 2.4251 - val_loss: 27.5741 - val_mean_absolute_error: 3.3798\n",
            "Epoch 7/200\n",
            " - 0s - loss: 12.7239 - mean_absolute_error: 2.3807 - val_loss: 21.5906 - val_mean_absolute_error: 2.7274\n",
            "Epoch 8/200\n",
            " - 0s - loss: 11.3079 - mean_absolute_error: 2.2488 - val_loss: 24.4684 - val_mean_absolute_error: 3.0694\n",
            "Epoch 9/200\n",
            " - 0s - loss: 11.9752 - mean_absolute_error: 2.2366 - val_loss: 25.2456 - val_mean_absolute_error: 3.1753\n",
            "Epoch 10/200\n",
            " - 0s - loss: 11.4813 - mean_absolute_error: 2.2026 - val_loss: 16.9098 - val_mean_absolute_error: 2.6202\n",
            "Epoch 11/200\n",
            " - 0s - loss: 11.4028 - mean_absolute_error: 2.2435 - val_loss: 19.0676 - val_mean_absolute_error: 2.7046\n",
            "Epoch 12/200\n",
            " - 0s - loss: 10.7566 - mean_absolute_error: 2.1634 - val_loss: 17.4681 - val_mean_absolute_error: 2.7502\n",
            "Epoch 13/200\n",
            " - 0s - loss: 10.5642 - mean_absolute_error: 2.1238 - val_loss: 17.6119 - val_mean_absolute_error: 2.6580\n",
            "Epoch 14/200\n",
            " - 0s - loss: 9.9262 - mean_absolute_error: 2.0437 - val_loss: 16.3906 - val_mean_absolute_error: 2.5050\n",
            "Epoch 15/200\n",
            " - 0s - loss: 9.6616 - mean_absolute_error: 2.0090 - val_loss: 16.8884 - val_mean_absolute_error: 2.5464\n",
            "Epoch 16/200\n",
            " - 0s - loss: 9.2983 - mean_absolute_error: 2.0150 - val_loss: 15.2945 - val_mean_absolute_error: 2.4787\n",
            "Epoch 17/200\n",
            " - 0s - loss: 9.6104 - mean_absolute_error: 2.0340 - val_loss: 15.3285 - val_mean_absolute_error: 2.5454\n",
            "Epoch 18/200\n",
            " - 0s - loss: 9.3967 - mean_absolute_error: 1.9665 - val_loss: 15.0982 - val_mean_absolute_error: 2.4314\n",
            "Epoch 19/200\n",
            " - 0s - loss: 8.5813 - mean_absolute_error: 1.8928 - val_loss: 16.5617 - val_mean_absolute_error: 2.5728\n",
            "Epoch 20/200\n",
            " - 0s - loss: 8.8810 - mean_absolute_error: 1.9751 - val_loss: 19.5152 - val_mean_absolute_error: 2.9654\n",
            "Epoch 21/200\n",
            " - 0s - loss: 8.5751 - mean_absolute_error: 1.9015 - val_loss: 16.3389 - val_mean_absolute_error: 2.7013\n",
            "Epoch 22/200\n",
            " - 0s - loss: 8.5910 - mean_absolute_error: 1.9133 - val_loss: 15.8352 - val_mean_absolute_error: 2.6557\n",
            "Epoch 23/200\n",
            " - 0s - loss: 8.1114 - mean_absolute_error: 1.9210 - val_loss: 17.0850 - val_mean_absolute_error: 2.7004\n",
            "Epoch 24/200\n",
            " - 0s - loss: 8.2218 - mean_absolute_error: 1.8740 - val_loss: 14.5010 - val_mean_absolute_error: 2.4170\n",
            "Epoch 25/200\n",
            " - 0s - loss: 8.1721 - mean_absolute_error: 1.8258 - val_loss: 13.1589 - val_mean_absolute_error: 2.3471\n",
            "Epoch 26/200\n",
            " - 0s - loss: 7.7568 - mean_absolute_error: 1.7979 - val_loss: 13.7329 - val_mean_absolute_error: 2.4052\n",
            "Epoch 27/200\n",
            " - 0s - loss: 7.4773 - mean_absolute_error: 1.7453 - val_loss: 13.6224 - val_mean_absolute_error: 2.3826\n",
            "Epoch 28/200\n",
            " - 0s - loss: 7.8761 - mean_absolute_error: 1.7850 - val_loss: 12.6409 - val_mean_absolute_error: 2.3723\n",
            "Epoch 29/200\n",
            " - 0s - loss: 7.4637 - mean_absolute_error: 1.8374 - val_loss: 12.7195 - val_mean_absolute_error: 2.3360\n",
            "Epoch 30/200\n",
            " - 0s - loss: 7.3307 - mean_absolute_error: 1.7646 - val_loss: 14.2520 - val_mean_absolute_error: 2.5074\n",
            "Epoch 31/200\n",
            " - 0s - loss: 7.3699 - mean_absolute_error: 1.7738 - val_loss: 12.3748 - val_mean_absolute_error: 2.3244\n",
            "Epoch 32/200\n",
            " - 0s - loss: 6.9773 - mean_absolute_error: 1.7403 - val_loss: 12.9016 - val_mean_absolute_error: 2.4021\n",
            "Epoch 33/200\n",
            " - 0s - loss: 7.2913 - mean_absolute_error: 1.7235 - val_loss: 13.5170 - val_mean_absolute_error: 2.5589\n",
            "Epoch 34/200\n",
            " - 0s - loss: 6.8918 - mean_absolute_error: 1.7393 - val_loss: 12.1028 - val_mean_absolute_error: 2.3147\n",
            "Epoch 35/200\n",
            " - 0s - loss: 6.9860 - mean_absolute_error: 1.7168 - val_loss: 13.0130 - val_mean_absolute_error: 2.4079\n",
            "Epoch 36/200\n",
            " - 0s - loss: 6.5027 - mean_absolute_error: 1.7121 - val_loss: 13.5620 - val_mean_absolute_error: 2.6030\n",
            "Epoch 37/200\n",
            " - 0s - loss: 6.8348 - mean_absolute_error: 1.7133 - val_loss: 11.5927 - val_mean_absolute_error: 2.3218\n",
            "Epoch 38/200\n",
            " - 0s - loss: 6.5197 - mean_absolute_error: 1.6971 - val_loss: 12.1341 - val_mean_absolute_error: 2.3467\n",
            "Epoch 39/200\n",
            " - 0s - loss: 6.4301 - mean_absolute_error: 1.6562 - val_loss: 12.9183 - val_mean_absolute_error: 2.4688\n",
            "Epoch 40/200\n",
            " - 0s - loss: 6.3314 - mean_absolute_error: 1.6987 - val_loss: 12.7478 - val_mean_absolute_error: 2.4338\n",
            "Epoch 41/200\n",
            " - 0s - loss: 6.3268 - mean_absolute_error: 1.6531 - val_loss: 12.5870 - val_mean_absolute_error: 2.4450\n",
            "Epoch 42/200\n",
            " - 0s - loss: 5.8898 - mean_absolute_error: 1.6300 - val_loss: 13.0578 - val_mean_absolute_error: 2.5802\n",
            "Epoch 43/200\n",
            " - 0s - loss: 6.6187 - mean_absolute_error: 1.6493 - val_loss: 11.8882 - val_mean_absolute_error: 2.3665\n",
            "Epoch 44/200\n",
            " - 0s - loss: 6.5089 - mean_absolute_error: 1.6692 - val_loss: 11.6886 - val_mean_absolute_error: 2.3714\n",
            "Epoch 45/200\n",
            " - 0s - loss: 6.2503 - mean_absolute_error: 1.6523 - val_loss: 12.3261 - val_mean_absolute_error: 2.4219\n",
            "Epoch 46/200\n",
            " - 0s - loss: 6.0879 - mean_absolute_error: 1.6132 - val_loss: 11.7234 - val_mean_absolute_error: 2.3712\n",
            "Epoch 47/200\n",
            " - 0s - loss: 6.0004 - mean_absolute_error: 1.5994 - val_loss: 12.6248 - val_mean_absolute_error: 2.4620\n",
            "Epoch 48/200\n",
            " - 0s - loss: 6.0938 - mean_absolute_error: 1.5970 - val_loss: 11.9209 - val_mean_absolute_error: 2.3675\n",
            "Epoch 49/200\n",
            " - 0s - loss: 5.8293 - mean_absolute_error: 1.6132 - val_loss: 13.7457 - val_mean_absolute_error: 2.5998\n",
            "Epoch 50/200\n",
            " - 0s - loss: 5.6093 - mean_absolute_error: 1.5562 - val_loss: 12.4478 - val_mean_absolute_error: 2.4801\n",
            "Epoch 51/200\n",
            " - 0s - loss: 5.8848 - mean_absolute_error: 1.6094 - val_loss: 11.8623 - val_mean_absolute_error: 2.3544\n",
            "Epoch 52/200\n",
            " - 0s - loss: 5.8580 - mean_absolute_error: 1.5698 - val_loss: 12.1285 - val_mean_absolute_error: 2.4253\n",
            "Epoch 53/200\n",
            " - 0s - loss: 5.5712 - mean_absolute_error: 1.6012 - val_loss: 12.6414 - val_mean_absolute_error: 2.4692\n",
            "Epoch 54/200\n",
            " - 0s - loss: 5.7141 - mean_absolute_error: 1.5913 - val_loss: 12.1955 - val_mean_absolute_error: 2.4128\n",
            "Epoch 55/200\n",
            " - 0s - loss: 5.7182 - mean_absolute_error: 1.5806 - val_loss: 11.5604 - val_mean_absolute_error: 2.3274\n",
            "Epoch 56/200\n",
            " - 0s - loss: 5.6039 - mean_absolute_error: 1.5246 - val_loss: 11.7901 - val_mean_absolute_error: 2.4119\n",
            "Epoch 57/200\n",
            " - 0s - loss: 5.5067 - mean_absolute_error: 1.5046 - val_loss: 12.0077 - val_mean_absolute_error: 2.3691\n",
            "Epoch 58/200\n",
            " - 0s - loss: 5.4655 - mean_absolute_error: 1.5498 - val_loss: 12.3280 - val_mean_absolute_error: 2.4311\n",
            "Epoch 59/200\n",
            " - 0s - loss: 5.3296 - mean_absolute_error: 1.5093 - val_loss: 12.5189 - val_mean_absolute_error: 2.4509\n",
            "Epoch 60/200\n",
            " - 0s - loss: 5.5326 - mean_absolute_error: 1.5435 - val_loss: 12.0274 - val_mean_absolute_error: 2.5054\n",
            "Epoch 61/200\n",
            " - 0s - loss: 5.2230 - mean_absolute_error: 1.5315 - val_loss: 13.6676 - val_mean_absolute_error: 2.5981\n",
            "Epoch 62/200\n",
            " - 0s - loss: 5.1498 - mean_absolute_error: 1.5105 - val_loss: 13.6368 - val_mean_absolute_error: 2.6706\n",
            "Epoch 63/200\n",
            " - 0s - loss: 5.1811 - mean_absolute_error: 1.5467 - val_loss: 12.0766 - val_mean_absolute_error: 2.4393\n",
            "Epoch 64/200\n",
            " - 0s - loss: 5.4483 - mean_absolute_error: 1.5137 - val_loss: 12.1051 - val_mean_absolute_error: 2.4595\n",
            "Epoch 65/200\n",
            " - 0s - loss: 5.4202 - mean_absolute_error: 1.5263 - val_loss: 14.0597 - val_mean_absolute_error: 2.6921\n",
            "Epoch 66/200\n",
            " - 0s - loss: 5.1561 - mean_absolute_error: 1.4781 - val_loss: 11.5298 - val_mean_absolute_error: 2.3345\n",
            "Epoch 67/200\n",
            " - 0s - loss: 5.0782 - mean_absolute_error: 1.4825 - val_loss: 12.2698 - val_mean_absolute_error: 2.4354\n",
            "Epoch 68/200\n",
            " - 0s - loss: 5.1599 - mean_absolute_error: 1.4746 - val_loss: 11.4835 - val_mean_absolute_error: 2.3397\n",
            "Epoch 69/200\n",
            " - 0s - loss: 4.8194 - mean_absolute_error: 1.4229 - val_loss: 12.6012 - val_mean_absolute_error: 2.4684\n",
            "Epoch 70/200\n",
            " - 0s - loss: 5.2771 - mean_absolute_error: 1.4525 - val_loss: 12.6202 - val_mean_absolute_error: 2.4495\n",
            "Epoch 71/200\n",
            " - 0s - loss: 5.1030 - mean_absolute_error: 1.4922 - val_loss: 11.7639 - val_mean_absolute_error: 2.4342\n",
            "Epoch 72/200\n",
            " - 0s - loss: 4.8273 - mean_absolute_error: 1.4172 - val_loss: 12.1029 - val_mean_absolute_error: 2.4420\n",
            "Epoch 73/200\n",
            " - 0s - loss: 4.7590 - mean_absolute_error: 1.4420 - val_loss: 11.1633 - val_mean_absolute_error: 2.3566\n",
            "Epoch 74/200\n",
            " - 0s - loss: 4.9706 - mean_absolute_error: 1.4759 - val_loss: 11.4699 - val_mean_absolute_error: 2.3826\n",
            "Epoch 75/200\n",
            " - 0s - loss: 4.6064 - mean_absolute_error: 1.3963 - val_loss: 14.4885 - val_mean_absolute_error: 2.7509\n",
            "Epoch 76/200\n",
            " - 0s - loss: 4.8367 - mean_absolute_error: 1.4211 - val_loss: 12.0394 - val_mean_absolute_error: 2.4723\n",
            "Epoch 77/200\n",
            " - 0s - loss: 5.1114 - mean_absolute_error: 1.4529 - val_loss: 12.3424 - val_mean_absolute_error: 2.4837\n",
            "Epoch 78/200\n",
            " - 0s - loss: 4.8247 - mean_absolute_error: 1.3774 - val_loss: 14.4910 - val_mean_absolute_error: 2.8041\n",
            "Epoch 79/200\n",
            " - 0s - loss: 4.7548 - mean_absolute_error: 1.3581 - val_loss: 11.1988 - val_mean_absolute_error: 2.3563\n",
            "Epoch 80/200\n",
            " - 0s - loss: 4.7161 - mean_absolute_error: 1.3684 - val_loss: 12.5486 - val_mean_absolute_error: 2.5075\n",
            "Epoch 81/200\n",
            " - 0s - loss: 4.3563 - mean_absolute_error: 1.3878 - val_loss: 12.0780 - val_mean_absolute_error: 2.4488\n",
            "Epoch 82/200\n",
            " - 0s - loss: 4.9902 - mean_absolute_error: 1.4258 - val_loss: 11.8780 - val_mean_absolute_error: 2.3851\n",
            "Epoch 83/200\n",
            " - 0s - loss: 4.4008 - mean_absolute_error: 1.3915 - val_loss: 12.1573 - val_mean_absolute_error: 2.4588\n",
            "Epoch 84/200\n",
            " - 0s - loss: 4.3558 - mean_absolute_error: 1.3667 - val_loss: 11.6058 - val_mean_absolute_error: 2.4872\n",
            "Epoch 85/200\n",
            " - 0s - loss: 4.3095 - mean_absolute_error: 1.3367 - val_loss: 11.6042 - val_mean_absolute_error: 2.4015\n",
            "Epoch 86/200\n",
            " - 0s - loss: 4.6719 - mean_absolute_error: 1.3106 - val_loss: 11.0514 - val_mean_absolute_error: 2.3756\n",
            "Epoch 87/200\n",
            " - 0s - loss: 4.4727 - mean_absolute_error: 1.4137 - val_loss: 12.0333 - val_mean_absolute_error: 2.5296\n",
            "Epoch 88/200\n",
            " - 0s - loss: 4.4310 - mean_absolute_error: 1.3572 - val_loss: 11.8257 - val_mean_absolute_error: 2.4136\n",
            "Epoch 89/200\n",
            " - 0s - loss: 4.2189 - mean_absolute_error: 1.3295 - val_loss: 11.0009 - val_mean_absolute_error: 2.3893\n",
            "Epoch 90/200\n",
            " - 0s - loss: 4.4562 - mean_absolute_error: 1.3443 - val_loss: 12.7118 - val_mean_absolute_error: 2.6262\n",
            "Epoch 91/200\n",
            " - 0s - loss: 4.4965 - mean_absolute_error: 1.3188 - val_loss: 11.8515 - val_mean_absolute_error: 2.4606\n",
            "Epoch 92/200\n",
            " - 0s - loss: 4.4254 - mean_absolute_error: 1.3475 - val_loss: 12.5814 - val_mean_absolute_error: 2.5663\n",
            "Epoch 93/200\n",
            " - 0s - loss: 4.6135 - mean_absolute_error: 1.3424 - val_loss: 11.1633 - val_mean_absolute_error: 2.4999\n",
            "Epoch 94/200\n",
            " - 0s - loss: 3.9081 - mean_absolute_error: 1.2941 - val_loss: 17.8471 - val_mean_absolute_error: 3.3082\n",
            "Epoch 95/200\n",
            " - 0s - loss: 4.4401 - mean_absolute_error: 1.3570 - val_loss: 11.7581 - val_mean_absolute_error: 2.4766\n",
            "Epoch 96/200\n",
            " - 0s - loss: 4.3800 - mean_absolute_error: 1.3733 - val_loss: 11.9431 - val_mean_absolute_error: 2.5236\n",
            "Epoch 97/200\n",
            " - 0s - loss: 4.1666 - mean_absolute_error: 1.3070 - val_loss: 11.2998 - val_mean_absolute_error: 2.4091\n",
            "Epoch 98/200\n",
            " - 0s - loss: 4.1982 - mean_absolute_error: 1.3459 - val_loss: 12.7183 - val_mean_absolute_error: 2.6228\n",
            "Epoch 99/200\n",
            " - 0s - loss: 4.2089 - mean_absolute_error: 1.3179 - val_loss: 12.1961 - val_mean_absolute_error: 2.5601\n",
            "Epoch 100/200\n",
            " - 0s - loss: 3.9964 - mean_absolute_error: 1.3156 - val_loss: 11.4706 - val_mean_absolute_error: 2.4580\n",
            "Epoch 101/200\n",
            " - 0s - loss: 4.2458 - mean_absolute_error: 1.3206 - val_loss: 11.6001 - val_mean_absolute_error: 2.4649\n",
            "Epoch 102/200\n",
            " - 0s - loss: 4.1445 - mean_absolute_error: 1.3155 - val_loss: 12.5992 - val_mean_absolute_error: 2.5873\n",
            "Epoch 103/200\n",
            " - 0s - loss: 4.1311 - mean_absolute_error: 1.3011 - val_loss: 13.6188 - val_mean_absolute_error: 2.7391\n",
            "Epoch 104/200\n",
            " - 0s - loss: 4.2027 - mean_absolute_error: 1.3154 - val_loss: 11.1423 - val_mean_absolute_error: 2.4046\n",
            "Epoch 105/200\n",
            " - 0s - loss: 3.9224 - mean_absolute_error: 1.2928 - val_loss: 13.9304 - val_mean_absolute_error: 2.8173\n",
            "Epoch 106/200\n",
            " - 0s - loss: 4.2581 - mean_absolute_error: 1.2782 - val_loss: 11.5411 - val_mean_absolute_error: 2.4932\n",
            "Epoch 107/200\n",
            " - 0s - loss: 3.6655 - mean_absolute_error: 1.2589 - val_loss: 16.2133 - val_mean_absolute_error: 2.9751\n",
            "Epoch 108/200\n",
            " - 0s - loss: 4.3506 - mean_absolute_error: 1.3196 - val_loss: 11.0156 - val_mean_absolute_error: 2.4035\n",
            "Epoch 109/200\n",
            " - 0s - loss: 3.8790 - mean_absolute_error: 1.2904 - val_loss: 11.9439 - val_mean_absolute_error: 2.4068\n",
            "Epoch 110/200\n",
            " - 0s - loss: 3.6149 - mean_absolute_error: 1.1908 - val_loss: 11.1748 - val_mean_absolute_error: 2.3592\n",
            "Epoch 111/200\n",
            " - 0s - loss: 3.9515 - mean_absolute_error: 1.2778 - val_loss: 11.4787 - val_mean_absolute_error: 2.4582\n",
            "Epoch 112/200\n",
            " - 0s - loss: 3.9600 - mean_absolute_error: 1.2732 - val_loss: 11.3094 - val_mean_absolute_error: 2.4767\n",
            "Epoch 113/200\n",
            " - 0s - loss: 3.5223 - mean_absolute_error: 1.2431 - val_loss: 11.1450 - val_mean_absolute_error: 2.3846\n",
            "Epoch 114/200\n",
            " - 0s - loss: 3.6985 - mean_absolute_error: 1.2284 - val_loss: 13.9855 - val_mean_absolute_error: 2.7782\n",
            "Epoch 115/200\n",
            " - 0s - loss: 3.7975 - mean_absolute_error: 1.2763 - val_loss: 11.9680 - val_mean_absolute_error: 2.5530\n",
            "Epoch 116/200\n",
            " - 0s - loss: 3.6701 - mean_absolute_error: 1.2183 - val_loss: 11.7333 - val_mean_absolute_error: 2.4442\n",
            "Epoch 117/200\n",
            " - 0s - loss: 3.8639 - mean_absolute_error: 1.2872 - val_loss: 12.0698 - val_mean_absolute_error: 2.4951\n",
            "Epoch 118/200\n",
            " - 0s - loss: 3.6586 - mean_absolute_error: 1.2793 - val_loss: 11.7226 - val_mean_absolute_error: 2.4925\n",
            "Epoch 119/200\n",
            " - 0s - loss: 3.9139 - mean_absolute_error: 1.2234 - val_loss: 11.8853 - val_mean_absolute_error: 2.4815\n",
            "Epoch 120/200\n",
            " - 0s - loss: 3.6695 - mean_absolute_error: 1.2209 - val_loss: 11.7377 - val_mean_absolute_error: 2.4224\n",
            "Epoch 121/200\n",
            " - 0s - loss: 3.7741 - mean_absolute_error: 1.2312 - val_loss: 10.9964 - val_mean_absolute_error: 2.3546\n",
            "Epoch 122/200\n",
            " - 0s - loss: 3.4138 - mean_absolute_error: 1.1708 - val_loss: 11.5146 - val_mean_absolute_error: 2.4483\n",
            "Epoch 123/200\n",
            " - 0s - loss: 3.6380 - mean_absolute_error: 1.2578 - val_loss: 14.3829 - val_mean_absolute_error: 2.7418\n",
            "Epoch 124/200\n",
            " - 0s - loss: 3.6727 - mean_absolute_error: 1.2436 - val_loss: 12.6442 - val_mean_absolute_error: 2.6390\n",
            "Epoch 125/200\n",
            " - 0s - loss: 3.8724 - mean_absolute_error: 1.2441 - val_loss: 12.8353 - val_mean_absolute_error: 2.5914\n",
            "Epoch 126/200\n",
            " - 0s - loss: 3.4483 - mean_absolute_error: 1.2226 - val_loss: 11.0030 - val_mean_absolute_error: 2.3924\n",
            "Epoch 127/200\n",
            " - 0s - loss: 3.3156 - mean_absolute_error: 1.1869 - val_loss: 11.8330 - val_mean_absolute_error: 2.5105\n",
            "Epoch 128/200\n",
            " - 0s - loss: 3.4767 - mean_absolute_error: 1.1862 - val_loss: 11.6822 - val_mean_absolute_error: 2.4623\n",
            "Epoch 129/200\n",
            " - 0s - loss: 3.4903 - mean_absolute_error: 1.2271 - val_loss: 12.5479 - val_mean_absolute_error: 2.5612\n",
            "Epoch 130/200\n",
            " - 0s - loss: 3.6324 - mean_absolute_error: 1.2300 - val_loss: 11.5028 - val_mean_absolute_error: 2.3814\n",
            "Epoch 131/200\n",
            " - 0s - loss: 3.5234 - mean_absolute_error: 1.2282 - val_loss: 12.2072 - val_mean_absolute_error: 2.5288\n",
            "Epoch 132/200\n",
            " - 0s - loss: 3.4732 - mean_absolute_error: 1.2207 - val_loss: 11.6818 - val_mean_absolute_error: 2.4160\n",
            "Epoch 133/200\n",
            " - 0s - loss: 3.2746 - mean_absolute_error: 1.1793 - val_loss: 12.4905 - val_mean_absolute_error: 2.5995\n",
            "Epoch 134/200\n",
            " - 0s - loss: 3.4759 - mean_absolute_error: 1.1993 - val_loss: 11.5855 - val_mean_absolute_error: 2.4442\n",
            "Epoch 135/200\n",
            " - 0s - loss: 3.4893 - mean_absolute_error: 1.1406 - val_loss: 11.9404 - val_mean_absolute_error: 2.5029\n",
            "Epoch 136/200\n",
            " - 0s - loss: 3.5410 - mean_absolute_error: 1.1904 - val_loss: 12.3327 - val_mean_absolute_error: 2.5807\n",
            "Epoch 137/200\n",
            " - 0s - loss: 3.3913 - mean_absolute_error: 1.1607 - val_loss: 12.3502 - val_mean_absolute_error: 2.5076\n",
            "Epoch 138/200\n",
            " - 0s - loss: 3.4052 - mean_absolute_error: 1.1766 - val_loss: 10.9591 - val_mean_absolute_error: 2.4028\n",
            "Epoch 139/200\n",
            " - 0s - loss: 3.2003 - mean_absolute_error: 1.1710 - val_loss: 11.9224 - val_mean_absolute_error: 2.4323\n",
            "Epoch 140/200\n",
            " - 0s - loss: 3.2515 - mean_absolute_error: 1.1768 - val_loss: 11.6634 - val_mean_absolute_error: 2.4376\n",
            "Epoch 141/200\n",
            " - 0s - loss: 3.3450 - mean_absolute_error: 1.2078 - val_loss: 12.5248 - val_mean_absolute_error: 2.5524\n",
            "Epoch 142/200\n",
            " - 0s - loss: 3.4280 - mean_absolute_error: 1.1510 - val_loss: 12.3266 - val_mean_absolute_error: 2.5642\n",
            "Epoch 143/200\n",
            " - 0s - loss: 3.3457 - mean_absolute_error: 1.2002 - val_loss: 14.0051 - val_mean_absolute_error: 2.7342\n",
            "Epoch 144/200\n",
            " - 0s - loss: 3.1461 - mean_absolute_error: 1.1796 - val_loss: 12.4952 - val_mean_absolute_error: 2.5629\n",
            "Epoch 145/200\n",
            " - 0s - loss: 3.4272 - mean_absolute_error: 1.1604 - val_loss: 11.8035 - val_mean_absolute_error: 2.4643\n",
            "Epoch 146/200\n",
            " - 0s - loss: 2.9865 - mean_absolute_error: 1.1307 - val_loss: 14.9944 - val_mean_absolute_error: 2.9060\n",
            "Epoch 147/200\n",
            " - 0s - loss: 3.2119 - mean_absolute_error: 1.1488 - val_loss: 12.6414 - val_mean_absolute_error: 2.5536\n",
            "Epoch 148/200\n",
            " - 0s - loss: 3.1074 - mean_absolute_error: 1.1414 - val_loss: 14.1275 - val_mean_absolute_error: 2.8303\n",
            "Epoch 149/200\n",
            " - 0s - loss: 3.2335 - mean_absolute_error: 1.1363 - val_loss: 14.7259 - val_mean_absolute_error: 2.9536\n",
            "Epoch 150/200\n",
            " - 0s - loss: 3.1524 - mean_absolute_error: 1.1334 - val_loss: 12.9191 - val_mean_absolute_error: 2.5847\n",
            "Epoch 151/200\n",
            " - 0s - loss: 3.1099 - mean_absolute_error: 1.0930 - val_loss: 11.9078 - val_mean_absolute_error: 2.4441\n",
            "Epoch 152/200\n",
            " - 0s - loss: 3.0249 - mean_absolute_error: 1.1452 - val_loss: 11.3441 - val_mean_absolute_error: 2.4029\n",
            "Epoch 153/200\n",
            " - 0s - loss: 3.0519 - mean_absolute_error: 1.1032 - val_loss: 11.5258 - val_mean_absolute_error: 2.3872\n",
            "Epoch 154/200\n",
            " - 0s - loss: 3.1922 - mean_absolute_error: 1.1119 - val_loss: 12.8222 - val_mean_absolute_error: 2.5807\n",
            "Epoch 155/200\n",
            " - 0s - loss: 3.1151 - mean_absolute_error: 1.1425 - val_loss: 13.0553 - val_mean_absolute_error: 2.6467\n",
            "Epoch 156/200\n",
            " - 0s - loss: 3.0638 - mean_absolute_error: 1.1159 - val_loss: 12.5195 - val_mean_absolute_error: 2.5816\n",
            "Epoch 157/200\n",
            " - 0s - loss: 2.9253 - mean_absolute_error: 1.0984 - val_loss: 12.0201 - val_mean_absolute_error: 2.4726\n",
            "Epoch 158/200\n",
            " - 0s - loss: 3.1603 - mean_absolute_error: 1.1301 - val_loss: 13.3519 - val_mean_absolute_error: 2.6771\n",
            "Epoch 159/200\n",
            " - 0s - loss: 3.0259 - mean_absolute_error: 1.1492 - val_loss: 12.3540 - val_mean_absolute_error: 2.5307\n",
            "Epoch 160/200\n",
            " - 0s - loss: 3.0084 - mean_absolute_error: 1.1611 - val_loss: 11.3238 - val_mean_absolute_error: 2.4311\n",
            "Epoch 161/200\n",
            " - 0s - loss: 3.0179 - mean_absolute_error: 1.1284 - val_loss: 13.1419 - val_mean_absolute_error: 2.5714\n",
            "Epoch 162/200\n",
            " - 0s - loss: 3.2241 - mean_absolute_error: 1.1186 - val_loss: 11.5017 - val_mean_absolute_error: 2.3942\n",
            "Epoch 163/200\n",
            " - 0s - loss: 2.9066 - mean_absolute_error: 1.1129 - val_loss: 13.4614 - val_mean_absolute_error: 2.6736\n",
            "Epoch 164/200\n",
            " - 0s - loss: 2.8472 - mean_absolute_error: 1.0731 - val_loss: 13.6531 - val_mean_absolute_error: 2.6704\n",
            "Epoch 165/200\n",
            " - 0s - loss: 2.6931 - mean_absolute_error: 1.0991 - val_loss: 12.4327 - val_mean_absolute_error: 2.4771\n",
            "Epoch 166/200\n",
            " - 0s - loss: 2.9101 - mean_absolute_error: 1.1240 - val_loss: 13.0830 - val_mean_absolute_error: 2.6460\n",
            "Epoch 167/200\n",
            " - 0s - loss: 3.0208 - mean_absolute_error: 1.1444 - val_loss: 11.8215 - val_mean_absolute_error: 2.4520\n",
            "Epoch 168/200\n",
            " - 0s - loss: 2.7573 - mean_absolute_error: 1.0893 - val_loss: 11.9454 - val_mean_absolute_error: 2.4893\n",
            "Epoch 169/200\n",
            " - 0s - loss: 2.8275 - mean_absolute_error: 1.0745 - val_loss: 15.4122 - val_mean_absolute_error: 2.8635\n",
            "Epoch 170/200\n",
            " - 0s - loss: 2.8673 - mean_absolute_error: 1.1158 - val_loss: 12.4843 - val_mean_absolute_error: 2.5609\n",
            "Epoch 171/200\n",
            " - 0s - loss: 2.7869 - mean_absolute_error: 1.0650 - val_loss: 12.4119 - val_mean_absolute_error: 2.4847\n",
            "Epoch 172/200\n",
            " - 0s - loss: 2.8377 - mean_absolute_error: 1.1029 - val_loss: 12.2801 - val_mean_absolute_error: 2.4816\n",
            "Epoch 173/200\n",
            " - 0s - loss: 2.6292 - mean_absolute_error: 1.0236 - val_loss: 13.3426 - val_mean_absolute_error: 2.5707\n",
            "Epoch 174/200\n",
            " - 0s - loss: 2.9263 - mean_absolute_error: 1.0780 - val_loss: 11.9391 - val_mean_absolute_error: 2.4406\n",
            "Epoch 175/200\n",
            " - 0s - loss: 2.7158 - mean_absolute_error: 1.0686 - val_loss: 12.5828 - val_mean_absolute_error: 2.5367\n",
            "Epoch 176/200\n",
            " - 0s - loss: 2.5966 - mean_absolute_error: 1.0297 - val_loss: 12.4624 - val_mean_absolute_error: 2.5599\n",
            "Epoch 177/200\n",
            " - 0s - loss: 2.8714 - mean_absolute_error: 1.1394 - val_loss: 11.4482 - val_mean_absolute_error: 2.3871\n",
            "Epoch 178/200\n",
            " - 0s - loss: 2.6878 - mean_absolute_error: 1.0637 - val_loss: 14.1737 - val_mean_absolute_error: 2.7823\n",
            "Epoch 179/200\n",
            " - 0s - loss: 2.9602 - mean_absolute_error: 1.1022 - val_loss: 13.5752 - val_mean_absolute_error: 2.6419\n",
            "Epoch 180/200\n",
            " - 0s - loss: 2.7707 - mean_absolute_error: 1.0739 - val_loss: 11.8021 - val_mean_absolute_error: 2.4378\n",
            "Epoch 181/200\n",
            " - 0s - loss: 2.7449 - mean_absolute_error: 1.0726 - val_loss: 11.8640 - val_mean_absolute_error: 2.4463\n",
            "Epoch 182/200\n",
            " - 0s - loss: 2.7652 - mean_absolute_error: 1.0987 - val_loss: 12.7335 - val_mean_absolute_error: 2.5412\n",
            "Epoch 183/200\n",
            " - 0s - loss: 2.6531 - mean_absolute_error: 1.1000 - val_loss: 13.1162 - val_mean_absolute_error: 2.6144\n",
            "Epoch 184/200\n",
            " - 0s - loss: 2.6812 - mean_absolute_error: 1.0734 - val_loss: 12.9109 - val_mean_absolute_error: 2.5679\n",
            "Epoch 185/200\n",
            " - 0s - loss: 2.5855 - mean_absolute_error: 1.0557 - val_loss: 15.6253 - val_mean_absolute_error: 2.9009\n",
            "Epoch 186/200\n",
            " - 0s - loss: 2.7954 - mean_absolute_error: 1.0936 - val_loss: 13.0353 - val_mean_absolute_error: 2.5677\n",
            "Epoch 187/200\n",
            " - 0s - loss: 2.7664 - mean_absolute_error: 1.0801 - val_loss: 12.1968 - val_mean_absolute_error: 2.4729\n",
            "Epoch 188/200\n",
            " - 0s - loss: 2.4410 - mean_absolute_error: 1.0635 - val_loss: 13.2466 - val_mean_absolute_error: 2.5562\n",
            "Epoch 189/200\n",
            " - 0s - loss: 2.5758 - mean_absolute_error: 1.1037 - val_loss: 12.8225 - val_mean_absolute_error: 2.5125\n",
            "Epoch 190/200\n",
            " - 0s - loss: 2.8033 - mean_absolute_error: 1.1072 - val_loss: 13.5260 - val_mean_absolute_error: 2.6086\n",
            "Epoch 191/200\n",
            " - 0s - loss: 2.5479 - mean_absolute_error: 1.0367 - val_loss: 12.4331 - val_mean_absolute_error: 2.5344\n",
            "Epoch 192/200\n",
            " - 0s - loss: 2.5253 - mean_absolute_error: 1.0255 - val_loss: 14.9347 - val_mean_absolute_error: 2.7292\n",
            "Epoch 193/200\n",
            " - 0s - loss: 2.5902 - mean_absolute_error: 1.0860 - val_loss: 13.3496 - val_mean_absolute_error: 2.6047\n",
            "Epoch 194/200\n",
            " - 0s - loss: 2.4537 - mean_absolute_error: 1.0312 - val_loss: 14.0935 - val_mean_absolute_error: 2.6731\n",
            "Epoch 195/200\n",
            " - 0s - loss: 2.7370 - mean_absolute_error: 1.0696 - val_loss: 15.1450 - val_mean_absolute_error: 2.8375\n",
            "Epoch 196/200\n",
            " - 0s - loss: 2.5908 - mean_absolute_error: 1.0353 - val_loss: 13.6686 - val_mean_absolute_error: 2.6692\n",
            "Epoch 197/200\n",
            " - 0s - loss: 2.3795 - mean_absolute_error: 1.0425 - val_loss: 12.1077 - val_mean_absolute_error: 2.5013\n",
            "Epoch 198/200\n",
            " - 0s - loss: 2.5590 - mean_absolute_error: 1.0585 - val_loss: 12.7571 - val_mean_absolute_error: 2.5499\n",
            "Epoch 199/200\n",
            " - 0s - loss: 2.8052 - mean_absolute_error: 1.0570 - val_loss: 14.7804 - val_mean_absolute_error: 2.7558\n",
            "Epoch 200/200\n",
            " - 0s - loss: 2.4382 - mean_absolute_error: 1.0837 - val_loss: 12.9805 - val_mean_absolute_error: 2.5793\n"
          ],
          "name": "stdout"
        }
      ]
    },
    {
      "cell_type": "code",
      "metadata": {
        "colab_type": "code",
        "id": "g1EJEG6a9Ew-",
        "outputId": "dc9ff2e6-da26-4daf-835d-e9dd9b8e80bf",
        "colab": {
          "base_uri": "https://localhost:8080/",
          "height": 501
        }
      },
      "source": [
        "# summarize history for loss\n",
        "plt.plot(history.history['val_loss'])\n",
        "plt.plot(history.history['loss'])\n",
        "plt.title('Model loss')\n",
        "plt.ylabel('loss')\n",
        "plt.xlabel('epoch')\n",
        "plt.legend(['Train', 'Test'], loc='upper left')\n",
        "plt.show()"
      ],
      "execution_count": 39,
      "outputs": [
        {
          "output_type": "display_data",
          "data": {
            "image/png": "[encoded data removed]",
            "text/plain": [
              "<Figure size 750x500 with 1 Axes>"
            ]
          },
          "metadata": {
            "tags": []
          }
        }
      ]
    },
    {
      "cell_type": "markdown",
      "metadata": {
        "id": "3LAQTQuylrk4",
        "colab_type": "text"
      },
      "source": [
        "The model performed best on training data when compared to the test data. The loss is less on the training data. However, both the training and test loss are minimal. The model is expected to perform better than rest of the models."
      ]
    },
    {
      "cell_type": "markdown",
      "metadata": {
        "colab_type": "text",
        "id": "ARqVvyMX9ExF"
      },
      "source": [
        "#### Takeaways\n",
        "* Regression is usually done using MSE loss and MAE for evaluation\n",
        "* Input data should always be scaled (independent from the test set)\n",
        "* Small datasets:\n",
        "    - Use cross-validation\n",
        "    - Use simple (non-deep) networks\n",
        "    - Smaller batches, more epochs"
      ]
    }
  ]
}