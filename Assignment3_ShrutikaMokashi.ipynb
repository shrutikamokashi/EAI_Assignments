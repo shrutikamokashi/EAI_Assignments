{
  "nbformat": 4,
  "nbformat_minor": 0,
  "metadata": {
    "anaconda-cloud": {},
    "kernelspec": {
      "display_name": "Python 3",
      "language": "python",
      "name": "python3"
    },
    "language_info": {
      "codemirror_mode": {
        "name": "ipython",
        "version": 3
      },
      "file_extension": ".py",
      "mimetype": "text/x-python",
      "name": "python",
      "nbconvert_exporter": "python",
      "pygments_lexer": "ipython3",
      "version": "3.7.6"
    },
    "colab": {
      "name": "Assignment3_ShrutikaMokashi.ipynb",
      "provenance": [],
      "collapsed_sections": [],
      "toc_visible": true,
      "machine_shape": "hm",
      "include_colab_link": true
    }
  },
  "cells": [
    {
      "cell_type": "markdown",
      "metadata": {
        "id": "view-in-github",
        "colab_type": "text"
      },
      "source": [
        "<a href=\"https://colab.research.google.com/github/shrutikamokashi/EAI_Assignments/blob/master/Assignment3_ShrutikaMokashi.ipynb\" target=\"_parent\"><img src=\"https://colab.research.google.com/assets/colab-badge.svg\" alt=\"Open In Colab\"/></a>"
      ]
    },
    {
      "cell_type": "markdown",
      "metadata": {
        "id": "LGD-Vfytesxf",
        "colab_type": "text"
      },
      "source": [
        "# Street View House Numbers Dataset\n",
        "\n",
        "\n",
        "The [Street View House Numbers Dataset](https://www.openml.org/d/41081) contains 32-by-32 RGB images centered around a single digit of a house number appearing in Google Street View. Many of the images do contain some distractors at the sides. It consists of 10 classes, 1 for each digit. Digit '1' has label 0, '9' has label 8 and '0' has label 9. Your goal is to build a model that recognizes the correct digit."
      ]
    },
    {
      "cell_type": "markdown",
      "metadata": {
        "id": "nV6ZjrzK88Z_",
        "colab_type": "text"
      },
      "source": [
        "## Shrutika Mokashi\n",
        "## EAI 6000\n",
        "## 03/09/2020"
      ]
    },
    {
      "cell_type": "code",
      "metadata": {
        "id": "8FAlXkmFesxh",
        "colab_type": "code",
        "outputId": "63861232-55a1-4752-f30b-6ebb7cb8474d",
        "colab": {
          "base_uri": "https://localhost:8080/",
          "height": 315
        }
      },
      "source": [
        "%matplotlib inline\n",
        "!pip install openml # Uncomment to run in Google Colab\n",
        "import openml as oml\n",
        "import numpy as np\n",
        "import matplotlib.pyplot as plt\n",
        "import sklearn\n",
        "import pickle\n",
        "import time"
      ],
      "execution_count": 1,
      "outputs": [
        {
          "output_type": "stream",
          "text": [
            "Requirement already satisfied: openml in /usr/local/lib/python3.6/dist-packages (0.10.2)\n",
            "Requirement already satisfied: requests in /usr/local/lib/python3.6/dist-packages (from openml) (2.21.0)\n",
            "Requirement already satisfied: python-dateutil in /usr/local/lib/python3.6/dist-packages (from openml) (2.6.1)\n",
            "Requirement already satisfied: pandas>=0.19.2 in /usr/local/lib/python3.6/dist-packages (from openml) (0.25.3)\n",
            "Requirement already satisfied: numpy>=1.6.2 in /usr/local/lib/python3.6/dist-packages (from openml) (1.17.5)\n",
            "Requirement already satisfied: scipy>=0.13.3 in /usr/local/lib/python3.6/dist-packages (from openml) (1.4.1)\n",
            "Requirement already satisfied: scikit-learn>=0.18 in /usr/local/lib/python3.6/dist-packages (from openml) (0.22.1)\n",
            "Requirement already satisfied: liac-arff>=2.4.0 in /usr/local/lib/python3.6/dist-packages (from openml) (2.4.0)\n",
            "Requirement already satisfied: xmltodict in /usr/local/lib/python3.6/dist-packages (from openml) (0.12.0)\n",
            "Requirement already satisfied: certifi>=2017.4.17 in /usr/local/lib/python3.6/dist-packages (from requests->openml) (2019.11.28)\n",
            "Requirement already satisfied: urllib3<1.25,>=1.21.1 in /usr/local/lib/python3.6/dist-packages (from requests->openml) (1.24.3)\n",
            "Requirement already satisfied: chardet<3.1.0,>=3.0.2 in /usr/local/lib/python3.6/dist-packages (from requests->openml) (3.0.4)\n",
            "Requirement already satisfied: idna<2.9,>=2.5 in /usr/local/lib/python3.6/dist-packages (from requests->openml) (2.8)\n",
            "Requirement already satisfied: six>=1.5 in /usr/local/lib/python3.6/dist-packages (from python-dateutil->openml) (1.12.0)\n",
            "Requirement already satisfied: pytz>=2017.2 in /usr/local/lib/python3.6/dist-packages (from pandas>=0.19.2->openml) (2018.9)\n",
            "Requirement already satisfied: joblib>=0.11 in /usr/local/lib/python3.6/dist-packages (from scikit-learn>=0.18->openml) (0.14.1)\n"
          ],
          "name": "stdout"
        }
      ]
    },
    {
      "cell_type": "code",
      "metadata": {
        "id": "KBpDMv1Vesxl",
        "colab_type": "code",
        "colab": {}
      },
      "source": [
        "# Download Streetview data. Takes a while to download (5-10 min).\n",
        "SVHN = oml.datasets.get_dataset(41081)\n",
        "X, y, cats, attrs = SVHN.get_data(dataset_format='array',\n",
        "    target=SVHN.default_target_attribute)"
      ],
      "execution_count": 0,
      "outputs": []
    },
    {
      "cell_type": "code",
      "metadata": {
        "id": "lNMKV-mo6uWP",
        "colab_type": "code",
        "outputId": "ce0b0cea-b484-4368-c962-4a39926c1029",
        "colab": {
          "base_uri": "https://localhost:8080/",
          "height": 124
        }
      },
      "source": [
        "# To save time, you can save the dataset to a Google drive, and load it quickly later\n",
        "from google.colab import drive\n",
        "drive.mount('/content/drive')\n",
        "\n",
        "with open(\"drive/My Drive/SVHN.pkl\", \"wb\") as f:\n",
        "    pickle.dump(X, f, protocol=pickle.HIGHEST_PROTOCOL)\n",
        "    pickle.dump(y, f, protocol=pickle.HIGHEST_PROTOCOL)   \n",
        "    pickle.dump(cats, f, protocol=pickle.HIGHEST_PROTOCOL)\n",
        "    pickle.dump(attrs, f, protocol=pickle.HIGHEST_PROTOCOL)"
      ],
      "execution_count": 3,
      "outputs": [
        {
          "output_type": "stream",
          "text": [
            "Go to this URL in a browser: https://accounts.google.com/o/oauth2/auth?client_id=947318989803-6bn6qk8qdgf4n4g3pfee6491hc0brc4i.apps.googleusercontent.com&redirect_uri=urn%3aietf%3awg%3aoauth%3a2.0%3aoob&response_type=code&scope=email%20https%3a%2f%2fwww.googleapis.com%2fauth%2fdocs.test%20https%3a%2f%2fwww.googleapis.com%2fauth%2fdrive%20https%3a%2f%2fwww.googleapis.com%2fauth%2fdrive.photos.readonly%20https%3a%2f%2fwww.googleapis.com%2fauth%2fpeopleapi.readonly\n",
            "\n",
            "Enter your authorization code:\n",
            "··········\n",
            "Mounted at /content/drive\n"
          ],
          "name": "stdout"
        }
      ]
    },
    {
      "cell_type": "code",
      "metadata": {
        "id": "NNc6MBHe8t4C",
        "colab_type": "code",
        "colab": {
          "base_uri": "https://localhost:8080/",
          "height": 55
        },
        "outputId": "7fd2999c-2f14-41c5-dfd1-80a51b3141eb"
      },
      "source": [
        "# (Uncomment to) Load SVHN dataset from Google drive\n",
        "from google.colab import drive\n",
        "drive.mount('/content/drive')\n",
        "\n",
        "with open(\"drive/My Drive/SVHN.pkl\", \"rb\") as f:\n",
        "     X = pickle.load(f)\n",
        "     y = pickle.load(f)\n",
        "     cats = pickle.load(f)\n",
        "     attrs = pickle.load(f)"
      ],
      "execution_count": 4,
      "outputs": [
        {
          "output_type": "stream",
          "text": [
            "Drive already mounted at /content/drive; to attempt to forcibly remount, call drive.mount(\"/content/drive\", force_remount=True).\n"
          ],
          "name": "stdout"
        }
      ]
    },
    {
      "cell_type": "markdown",
      "metadata": {
        "id": "ZC2877HRDqhV",
        "colab_type": "text"
      },
      "source": [
        "### What is the shape of the image data X? How many images are there? Explain why each image has 3072 values."
      ]
    },
    {
      "cell_type": "code",
      "metadata": {
        "id": "OPTaJNbUC35Y",
        "colab_type": "code",
        "outputId": "b2b70a2c-cbbb-4182-c6df-932515b1a079",
        "colab": {
          "base_uri": "https://localhost:8080/",
          "height": 35
        }
      },
      "source": [
        "X.shape"
      ],
      "execution_count": 5,
      "outputs": [
        {
          "output_type": "execute_result",
          "data": {
            "text/plain": [
              "(99289, 3072)"
            ]
          },
          "metadata": {
            "tags": []
          },
          "execution_count": 5
        }
      ]
    },
    {
      "cell_type": "markdown",
      "metadata": {
        "id": "VMr9n-4KoCR3",
        "colab_type": "text"
      },
      "source": [
        "The shape of the image data X is (99289, 3072). Total number of images are 99289. As the dataset contains 32by32 RGB images and the RGB images has 3 channels, 32 * 32 * 3 = 3027. So each image has 3072 values."
      ]
    },
    {
      "cell_type": "markdown",
      "metadata": {
        "id": "CdbVIX_zatiS",
        "colab_type": "text"
      },
      "source": [
        "### You can use the following function to plot the first 10 images to get a sense of the data."
      ]
    },
    {
      "cell_type": "code",
      "metadata": {
        "id": "XzE3X5Etesxo",
        "colab_type": "code",
        "outputId": "4a752777-5394-4728-add1-94d661fca3bf",
        "colab": {
          "base_uri": "https://localhost:8080/",
          "height": 94
        }
      },
      "source": [
        "# Plots image. Use grayscale=True for plotting grayscale images\n",
        "def plot_images(X, y, grayscale=False):\n",
        "    fig, axes = plt.subplots(1, len(X),  figsize=(10, 5))\n",
        "    if grayscale:\n",
        "        [ax.imshow(X[n].reshape(32, 32)/255, cmap='gray')\n",
        "         for n,ax in enumerate(axes)]\n",
        "    else:\n",
        "        [ax.imshow(X[n].reshape(32, 32, 3)/255) for n,ax in enumerate(axes)]\n",
        "    [ax.set_title((y[n]+1)) for n,ax in enumerate(axes)]\n",
        "    [ax.axis('off') for ax in axes]\n",
        "plot_images(X[0:10], y[0:10]);"
      ],
      "execution_count": 6,
      "outputs": [
        {
          "output_type": "display_data",
          "data": {
            "image/png": "[encoded data removed]",
            "text/plain": [
              "<Figure size 720x360 with 10 Axes>"
            ]
          },
          "metadata": {
            "tags": []
          }
        }
      ]
    },
    {
      "cell_type": "markdown",
      "metadata": {
        "id": "SEOqfNn0WEWn",
        "colab_type": "text"
      },
      "source": [
        "### Next, we will convert the images to greyscale and normalize the data to fall within the range 0 to 1. Plot the first 10 images to verify that the conversion worked."
      ]
    },
    {
      "cell_type": "code",
      "metadata": {
        "id": "Z0AZiyprYIeW",
        "colab_type": "code",
        "outputId": "07ec3e03-196c-4a8d-9cd7-d9f67985b847",
        "colab": {
          "base_uri": "https://localhost:8080/",
          "height": 149
        }
      },
      "source": [
        "def rgb2grayscaleconversion(X):\n",
        "  rgb_weights = [0.2989, 0.5870, 0.1140]\n",
        "  grayscale_images = np.expand_dims(np.dot((X.reshape(len(X),32*32,3)/255 ),rgb_weights),axis=3)\n",
        "  return grayscale_images\n",
        "\n",
        "X_grayscale = rgb2grayscaleconversion(X)\n",
        "plot_images(X_grayscale[0:10],y[0:10],True)"
      ],
      "execution_count": 7,
      "outputs": [
        {
          "output_type": "stream",
          "text": [
            "/usr/local/lib/python3.6/dist-packages/ipykernel_launcher.py:3: DeprecationWarning: Both axis > a.ndim and axis < -a.ndim - 1 are deprecated and will raise an AxisError in the future.\n",
            "  This is separate from the ipykernel package so we can avoid doing imports until\n"
          ],
          "name": "stderr"
        },
        {
          "output_type": "display_data",
          "data": {
            "image/png": "[encoded data removed]",
            "text/plain": [
              "<Figure size 720x360 with 10 Axes>"
            ]
          },
          "metadata": {
            "tags": []
          }
        }
      ]
    },
    {
      "cell_type": "markdown",
      "metadata": {
        "id": "7YYnvhirbCM2",
        "colab_type": "text"
      },
      "source": [
        "### Evaluate different linear models\n",
        "\n",
        "1. To save time, use a stratified 1% subsample of the data. Plot the distribution of the classes (as a histogram) for both the original data and the subsample to verify this was done correctly. (hint: a quick way to do it is to borrow the stratify option with sklearn.model_selection.train_test_split)\n",
        "2. Evaluate k-Nearest Neighbors, Logistic Regression and Linear SVM on this sample, using their default hyperparameter settings. Use cross-validation with 3 folds, output the training accuracy and test accuracy (feel free to reuse code from past assignments). [Time](https://stackoverflow.com/questions/1557571/how-do-i-get-time-of-a-python-programs-execution) how long execution takes.\n",
        "3. Discuss the results. Are they what you expected? Are the models over/underfitting? What should be done to improve the results?\n",
        "4. Now evaluate the same models using 3% of the data. Discuss the results. Is the run time what you expect? Which models perform better or worse than the 1% training? How can you explain this in terms of underfitting/overfitting?"
      ]
    },
    {
      "cell_type": "code",
      "metadata": {
        "id": "qE7B8vgFbu5Y",
        "colab_type": "code",
        "colab": {}
      },
      "source": [
        "from sklearn.model_selection import train_test_split, cross_validate\n",
        "from sklearn.linear_model import LogisticRegression\n",
        "from sklearn.svm import LinearSVC\n",
        "from sklearn.neighbors import KNeighborsClassifier\n",
        "\n",
        "# Take a 10% stratified subsample to speed up experimentation\n",
        "X_sample, _, y_sample, _ = train_test_split(X,y, stratify=y, train_size=0.01)"
      ],
      "execution_count": 0,
      "outputs": []
    },
    {
      "cell_type": "code",
      "metadata": {
        "id": "FfZAS6_DoraE",
        "colab_type": "code",
        "outputId": "03d7230a-5a1e-4ab1-da9d-da3836f6945f",
        "colab": {
          "base_uri": "https://localhost:8080/",
          "height": 295
        }
      },
      "source": [
        "import matplotlib.pyplot as plt \n",
        "sample = X_sample\n",
        "plt.hist(sample, histtype = 'bar', rwidth = 1) \n",
        "  \n",
        "# x-axis label \n",
        "plt.xlabel('Sample data') \n",
        "# frequency label \n",
        "plt.ylabel('frequency label')  \n",
        "plt.title('Histogram on sample data') \n",
        "plt.show()"
      ],
      "execution_count": 9,
      "outputs": [
        {
          "output_type": "display_data",
          "data": {
            "image/png": "[encoded data removed]",
            "text/plain": [
              "<Figure size 432x288 with 1 Axes>"
            ]
          },
          "metadata": {
            "tags": []
          }
        }
      ]
    },
    {
      "cell_type": "code",
      "metadata": {
        "id": "0DNlLVT2pKC3",
        "colab_type": "code",
        "outputId": "f6f417c5-6041-4f3e-94aa-bd23e5f51fc1",
        "colab": {
          "base_uri": "https://localhost:8080/",
          "height": 295
        }
      },
      "source": [
        "import matplotlib.pyplot as plt   \n",
        "# plotting a histogram \n",
        "Original = X\n",
        "plt.hist(Original, histtype = 'bar', rwidth = 1) \n",
        "  \n",
        "# x-axis label \n",
        "plt.xlabel('Original data') \n",
        "# frequency label \n",
        "plt.ylabel('frequency label') \n",
        "# plot title \n",
        "plt.title('Histogram on original data') \n",
        "  \n",
        "# function to show the plot \n",
        "plt.show()"
      ],
      "execution_count": 10,
      "outputs": [
        {
          "output_type": "display_data",
          "data": {
            "image/png": "[encoded data removed]",
            "text/plain": [
              "<Figure size 432x288 with 1 Axes>"
            ]
          },
          "metadata": {
            "tags": []
          }
        }
      ]
    },
    {
      "cell_type": "code",
      "metadata": {
        "id": "3lz7pnPlpnzs",
        "colab_type": "code",
        "colab": {}
      },
      "source": [
        "from sklearn.model_selection import cross_validate, train_test_split\n",
        "from sklearn.linear_model import LogisticRegression\n",
        "from sklearn.neighbors import KNeighborsClassifier\n",
        "from sklearn.pipeline import make_pipeline\n",
        "from sklearn.svm import LinearSVC\n",
        "\n",
        "\n",
        "def evaluate_learners(models, X_sample, y_sample):\n",
        "    \"\"\" Evaluate each model in 'models' with cross-validation on the provided (X, y) data. \n",
        "    \n",
        "    Given a list of models [model1, model2, ..., modelN] return two lists:\n",
        "     - a list with the scores obtained on the training samples for each model,\n",
        "     - a list with the test scores obtained on the test samples for each model.\n",
        "     The order of scores should match the order in which the models were originally provided. E.g.:     \n",
        "     [Model1 train score, ..., ModelN train score], [Model1 test score, ..., ModelN test score]\n",
        "    \"\"\"\n",
        "    # Evaluate with 5-fold cross-validation.\n",
        "    xvals = [cross_validate(m, X_sample, y_sample, return_train_score= True, n_jobs=-1) for m in models]\n",
        "    test_scores = [x['test_score'] for x in xvals]\n",
        "    train_scores = [x['train_score'] for x in xvals]\n",
        "    return train_scores, test_scores"
      ],
      "execution_count": 0,
      "outputs": []
    },
    {
      "cell_type": "code",
      "metadata": {
        "id": "ypWP2C4vpvO4",
        "colab_type": "code",
        "colab": {}
      },
      "source": [
        "models = [ LogisticRegression(), LinearSVC(), KNeighborsClassifier()]\n",
        "models = np.array([m for m in models]).flatten()\n",
        "train_scores, test_scores = evaluate_learners(models, X_sample, y_sample)"
      ],
      "execution_count": 0,
      "outputs": []
    },
    {
      "cell_type": "code",
      "metadata": {
        "id": "ljxGX4BwrX_4",
        "colab_type": "code",
        "outputId": "d7ae066e-eb16-4046-8120-71e93a657a6f",
        "colab": {
          "base_uri": "https://localhost:8080/",
          "height": 69
        }
      },
      "source": [
        "train_scores"
      ],
      "execution_count": 13,
      "outputs": [
        {
          "output_type": "execute_result",
          "data": {
            "text/plain": [
              "[array([0.52711223, 0.53972257, 0.54534005, 0.5465995 , 0.52015113]),\n",
              " array([0.84993695, 0.81210593, 0.83879093, 0.85012594, 0.76826196]),\n",
              " array([0.48675914, 0.4779319 , 0.48236776, 0.47984887, 0.47607053])]"
            ]
          },
          "metadata": {
            "tags": []
          },
          "execution_count": 13
        }
      ]
    },
    {
      "cell_type": "code",
      "metadata": {
        "id": "tu51aPk_rZv_",
        "colab_type": "code",
        "outputId": "bb703f29-1283-4864-e294-9f23b73f13fd",
        "colab": {
          "base_uri": "https://localhost:8080/",
          "height": 69
        }
      },
      "source": [
        "test_scores"
      ],
      "execution_count": 14,
      "outputs": [
        {
          "output_type": "execute_result",
          "data": {
            "text/plain": [
              "[array([0.1758794 , 0.12562814, 0.1969697 , 0.17171717, 0.1969697 ]),\n",
              " array([0.13567839, 0.07537688, 0.16161616, 0.12121212, 0.12626263]),\n",
              " array([0.26130653, 0.24623116, 0.27777778, 0.25252525, 0.21717172])]"
            ]
          },
          "metadata": {
            "tags": []
          },
          "execution_count": 14
        }
      ]
    },
    {
      "cell_type": "code",
      "metadata": {
        "id": "brcA9PBLtiUf",
        "colab_type": "code",
        "outputId": "8c2d1bf5-40cb-4f9b-e51f-f55c5b669770",
        "colab": {
          "base_uri": "https://localhost:8080/",
          "height": 279
        }
      },
      "source": [
        "classifiers = [LogisticRegression(), LinearSVC(), KNeighborsClassifier()]\n",
        "fig, ax = plt.subplots()\n",
        "width=0.3\n",
        "ax.barh(np.arange(len(train_scores)), np.mean(test_scores, axis=1), width,\n",
        "        yerr= np.std(test_scores, axis=1), color='green', label='test')\n",
        "ax.barh(np.arange(len(train_scores))-width, np.mean(train_scores, axis=1), width,\n",
        "        yerr= np.std(train_scores, axis=1), color='red', label='train')\n",
        "for i, te, tr in zip(np.arange(len(train_scores)),test_scores,train_scores):\n",
        "    ax.text(0, i, \"{:.4f} +- {:.4f}\".format(np.mean(te),np.std(te)), color='white', va='center')\n",
        "    ax.text(0, i-width, \"{:.4f} +- {:.4f}\".format(np.mean(tr),np.std(tr)), color='white', va='center')\n",
        "ax.set(yticks=np.arange(len(train_scores))-width/2, yticklabels=[c.__class__.__name__ for c in classifiers])\n",
        "ax.set_xlabel('Accuracy')\n",
        "ax.legend(bbox_to_anchor=(1.05, 1), loc=2)\n",
        "\n",
        "plt.show()"
      ],
      "execution_count": 15,
      "outputs": [
        {
          "output_type": "display_data",
          "data": {
            "image/png": "[encoded data removed]",
            "text/plain": [
              "<Figure size 432x288 with 1 Axes>"
            ]
          },
          "metadata": {
            "tags": []
          }
        }
      ]
    },
    {
      "cell_type": "code",
      "metadata": {
        "id": "a-CDTo_WrrHi",
        "colab_type": "code",
        "outputId": "eade35ce-c327-46dd-d57b-fc1371672a21",
        "colab": {
          "base_uri": "https://localhost:8080/",
          "height": 35
        }
      },
      "source": [
        "import time\n",
        "start_time = time.time()\n",
        "evaluate_learners(models, X_sample, y_sample)\n",
        "print(\"--- %s seconds ---\" % (time.time() - start_time))"
      ],
      "execution_count": 16,
      "outputs": [
        {
          "output_type": "stream",
          "text": [
            "--- 118.46413683891296 seconds ---\n"
          ],
          "name": "stdout"
        }
      ]
    },
    {
      "cell_type": "code",
      "metadata": {
        "id": "kezQXvnCtXyS",
        "colab_type": "code",
        "colab": {}
      },
      "source": [
        "Xss, _, yss, _ = train_test_split(X,y, stratify=y, train_size=0.03)"
      ],
      "execution_count": 0,
      "outputs": []
    },
    {
      "cell_type": "code",
      "metadata": {
        "id": "vgUbw9LHCjZL",
        "colab_type": "code",
        "colab": {
          "base_uri": "https://localhost:8080/",
          "height": 72
        },
        "outputId": "806d4f80-d151-40da-e86f-5b26d1a1d1d1"
      },
      "source": [
        "models = [ LogisticRegression(), LinearSVC(), KNeighborsClassifier()]\n",
        "models = np.array([m for m in models]).flatten()\n",
        "\n",
        "train_scores, test_scores = evaluate_learners(models, Xss, yss)"
      ],
      "execution_count": 20,
      "outputs": [
        {
          "output_type": "stream",
          "text": [
            "/usr/local/lib/python3.6/dist-packages/joblib/externals/loky/process_executor.py:706: UserWarning: A worker stopped while some jobs were given to the executor. This can be caused by a too short worker timeout or by a memory leak.\n",
            "  \"timeout or by a memory leak.\", UserWarning\n"
          ],
          "name": "stderr"
        }
      ]
    },
    {
      "cell_type": "code",
      "metadata": {
        "id": "RssqoIEAuAlq",
        "colab_type": "code",
        "colab": {
          "base_uri": "https://localhost:8080/",
          "height": 69
        },
        "outputId": "21823753-aaf3-4700-8726-1e84eff65b3e"
      },
      "source": [
        "train_scores"
      ],
      "execution_count": 21,
      "outputs": [
        {
          "output_type": "execute_result",
          "data": {
            "text/plain": [
              "[array([0.36062133, 0.37993283, 0.36481948, 0.37347881, 0.37389845]),\n",
              " array([0.48572628, 0.30604534, 0.54869857, 0.35291649, 0.42635334]),\n",
              " array([0.53820319, 0.53232578, 0.52770781, 0.54091481, 0.52161141])]"
            ]
          },
          "metadata": {
            "tags": []
          },
          "execution_count": 21
        }
      ]
    },
    {
      "cell_type": "code",
      "metadata": {
        "id": "JN-X1fITuPSC",
        "colab_type": "code",
        "colab": {
          "base_uri": "https://localhost:8080/",
          "height": 69
        },
        "outputId": "d3c0a833-bfc8-4d2a-b5db-6405e92137d3"
      },
      "source": [
        "test_scores"
      ],
      "execution_count": 22,
      "outputs": [
        {
          "output_type": "execute_result",
          "data": {
            "text/plain": [
              "[array([0.21979866, 0.20302013, 0.22483221, 0.21512605, 0.19495798]),\n",
              " array([0.12080537, 0.10067114, 0.18791946, 0.0789916 , 0.10420168]),\n",
              " array([0.29697987, 0.28187919, 0.33221477, 0.29747899, 0.30588235])]"
            ]
          },
          "metadata": {
            "tags": []
          },
          "execution_count": 22
        }
      ]
    },
    {
      "cell_type": "code",
      "metadata": {
        "id": "T0yUn6ufuQrX",
        "colab_type": "code",
        "colab": {
          "base_uri": "https://localhost:8080/",
          "height": 279
        },
        "outputId": "9e79275b-41c8-4153-af97-2f91298bdd63"
      },
      "source": [
        "classifiers = [LogisticRegression(), LinearSVC(), KNeighborsClassifier()]\n",
        "fig, ax = plt.subplots()\n",
        "width=0.3\n",
        "ax.barh(np.arange(len(train_scores)), np.mean(test_scores, axis=1), width,\n",
        "        yerr= np.std(test_scores, axis=1), color='green', label='test')\n",
        "ax.barh(np.arange(len(train_scores))-width, np.mean(train_scores, axis=1), width,\n",
        "        yerr= np.std(train_scores, axis=1), color='red', label='train')\n",
        "for i, te, tr in zip(np.arange(len(train_scores)),test_scores,train_scores):\n",
        "    ax.text(0, i, \"{:.4f} +- {:.4f}\".format(np.mean(te),np.std(te)), color='white', va='center')\n",
        "    ax.text(0, i-width, \"{:.4f} +- {:.4f}\".format(np.mean(tr),np.std(tr)), color='white', va='center')\n",
        "ax.set(yticks=np.arange(len(train_scores))-width/2, yticklabels=[c.__class__.__name__ for c in classifiers])\n",
        "ax.set_xlabel('Accuracy')\n",
        "ax.legend(bbox_to_anchor=(1.05, 1), loc=2)\n",
        "\n",
        "plt.show()"
      ],
      "execution_count": 23,
      "outputs": [
        {
          "output_type": "display_data",
          "data": {
            "image/png": "[encoded data removed]",
            "text/plain": [
              "<Figure size 432x288 with 1 Axes>"
            ]
          },
          "metadata": {
            "tags": []
          }
        }
      ]
    },
    {
      "cell_type": "code",
      "metadata": {
        "id": "I38lLnMRuUxc",
        "colab_type": "code",
        "colab": {}
      },
      "source": [
        "import time\n",
        "start_time = time.time()\n",
        "evaluate_learners(models, Xss, yss)\n",
        "print(\"--- %s seconds ---\" % (time.time() - start_time))"
      ],
      "execution_count": 0,
      "outputs": []
    },
    {
      "cell_type": "markdown",
      "metadata": {
        "id": "MP-x7lQn4nn2",
        "colab_type": "text"
      },
      "source": [
        "All the models seems to be overfitted as they performed well on training data but not as good on testing data. To make them best fit, we need to select hyperparameters properly. Also, the time to evalute 1% data is less when compared to 3% data."
      ]
    },
    {
      "cell_type": "markdown",
      "metadata": {
        "id": "KXQh7T4VuHCP",
        "colab_type": "text"
      },
      "source": [
        "### Evaluate feed-forward neural network\n",
        "\n",
        "Counter-intuitively, even though the linear models above are slow, you can easily train the small neural network below with 100% of the data in very little time. Learn more about Google Colab if you're curious: https://research.google.com/colaboratory/faq.html \n",
        "1. Train a neural network on the full (100%) data. Start with a single hidden layer with 256 neurons, and the same output layer as this week's Fashion-MNIST lab. Evaluate the accuracy using an 80/20 train test split. How does it compare with the linear models?\n",
        "2. Plot the confusion matrix. Which digits are often confused with each other? \n",
        "3. Plot the first 15 correctly classified examples and the first 15 incorrectly classified examples, along with a bar plot of the predictions array. You can use the provided plotting functions. What sort of errors do you see? Are these indeed 'hard' examples that are easy to get wrong?\n"
      ]
    },
    {
      "cell_type": "code",
      "metadata": {
        "id": "qAqj4k1njcUU",
        "colab_type": "code",
        "colab": {}
      },
      "source": [
        "def plot_image(i, predictions_array, true_label, img):\n",
        "  predictions_array, true_label, img = predictions_array, true_label[i], img[i]\n",
        "  plt.grid(False)\n",
        "  plt.xticks([])\n",
        "  plt.yticks([])\n",
        "\n",
        "  plt.imshow(img, cmap=plt.cm.binary)\n",
        "\n",
        "  predicted_label = np.argmax(predictions_array)\n",
        "  if predicted_label == true_label:\n",
        "    color = 'blue'\n",
        "  else:\n",
        "    color = 'red'\n",
        "\n",
        "  plt.xlabel(\"{} {:2.0f}% ({})\".format(predicted_label+1,\n",
        "                                100*np.max(predictions_array),\n",
        "                                true_label+1),\n",
        "                                color=color)\n",
        "\n",
        "def plot_value_array(i, predictions_array, true_label):\n",
        "  predictions_array, true_label = predictions_array, true_label[i]\n",
        "  plt.grid(False)\n",
        "  plt.xticks([1,2,3,4,5,6,7,8,9,0],rotation=90)\n",
        "  plt.yticks([])\n",
        "  thisplot = plt.bar([1,2,3,4,5,6,7,8,9,0], predictions_array, color=\"#777777\")\n",
        "  plt.ylim([0, 1])\n",
        "  predicted_label = np.argmax(predictions_array)\n",
        "  thisplot[predicted_label].set_color('red')\n",
        "  thisplot[true_label].set_color('blue')"
      ],
      "execution_count": 0,
      "outputs": []
    },
    {
      "cell_type": "code",
      "metadata": {
        "id": "DcqfcPxauyrO",
        "colab_type": "code",
        "colab": {}
      },
      "source": [
        "\n",
        "try:\n",
        "  # %tensorflow_version only exists in Colab.\n",
        "  %tensorflow_version 2.x\n",
        "except Exception:\n",
        "  pass"
      ],
      "execution_count": 0,
      "outputs": []
    },
    {
      "cell_type": "code",
      "metadata": {
        "id": "oOdjyKcjvADs",
        "colab_type": "code",
        "colab": {}
      },
      "source": [
        "from __future__ import absolute_import, division, print_function, unicode_literals\n",
        "\n",
        "# TensorFlow and tf.keras\n",
        "import tensorflow as tf\n",
        "from tensorflow import keras\n",
        "\n",
        "# Helper libraries\n",
        "import numpy as np\n",
        "import matplotlib.pyplot as plt\n",
        "\n",
        "print(tf.__version__)"
      ],
      "execution_count": 0,
      "outputs": []
    },
    {
      "cell_type": "code",
      "metadata": {
        "id": "pqceIMlfvAu_",
        "colab_type": "code",
        "colab": {}
      },
      "source": [
        "X_train, X_test , y_train, y_test = train_test_split(X_grayscale.reshape(len(X_grayscale),32,32),y,stratify = y,train_size = 0.8)"
      ],
      "execution_count": 0,
      "outputs": []
    },
    {
      "cell_type": "code",
      "metadata": {
        "id": "_U-1zv0-yEwN",
        "colab_type": "code",
        "colab": {}
      },
      "source": [
        "model = keras.Sequential([\n",
        "    keras.layers.Flatten(input_shape=(32,32)),\n",
        "    keras.layers.Dense(256,activation = 'relu'),\n",
        "    keras.layers.Dense(10)\n",
        "])"
      ],
      "execution_count": 0,
      "outputs": []
    },
    {
      "cell_type": "code",
      "metadata": {
        "id": "i_LuVdJIyGwC",
        "colab_type": "code",
        "colab": {}
      },
      "source": [
        "model.compile(optimizer='adam', loss=tf.keras.losses.SparseCategoricalCrossentropy(from_logits=True),\n",
        "             metrics=['accuracy'])"
      ],
      "execution_count": 0,
      "outputs": []
    },
    {
      "cell_type": "code",
      "metadata": {
        "id": "g_rw5ALQyLQy",
        "colab_type": "code",
        "colab": {}
      },
      "source": [
        "model.fit(X_train, y_train, epochs=10)"
      ],
      "execution_count": 0,
      "outputs": []
    },
    {
      "cell_type": "code",
      "metadata": {
        "id": "dk3o5tTuyNDl",
        "colab_type": "code",
        "colab": {}
      },
      "source": [
        "test_loss, test_acc = model.evaluate(X_test,  y_test, verbose=2)\n",
        "\n",
        "print('\\nTest accuracy:', test_acc)"
      ],
      "execution_count": 0,
      "outputs": []
    },
    {
      "cell_type": "code",
      "metadata": {
        "id": "H2f9xfBdymKA",
        "colab_type": "code",
        "colab": {}
      },
      "source": [
        "probability_model = tf.keras.Sequential([model, \n",
        "                                         tf.keras.layers.Softmax()])\n",
        "class_predictions = model.predict_classes(X_test)\n",
        "prediction_probabilities = probability_model.predict(X_test)"
      ],
      "execution_count": 0,
      "outputs": []
    },
    {
      "cell_type": "code",
      "metadata": {
        "id": "pzXUxMoOyoe0",
        "colab_type": "code",
        "colab": {}
      },
      "source": [
        "# Plot the first X test images, their predicted labels, and the true labels.\n",
        "# Color correct predictions in blue and incorrect predictions in red.\n",
        "misclassified = np.where(class_predictions != y_test)\n",
        "num_rows = 5\n",
        "num_cols = 3\n",
        "num_images = num_rows*num_cols\n",
        "plt.figure(figsize=(2*2*num_cols, 2*num_rows))\n",
        "for i,j in zip(misclassified[0], range(num_images)):\n",
        "    plt.subplot(num_rows, 2*num_cols, 2*j+1)\n",
        "    plot_image(i, prediction_probabilities[i], y_test, X_test)\n",
        "    plt.subplot(num_rows, 2*num_cols, 2*j+2)\n",
        "    plot_value_array(i, prediction_probabilities[i], y_test)\n",
        "plt.tight_layout()\n",
        "plt.show()"
      ],
      "execution_count": 0,
      "outputs": []
    },
    {
      "cell_type": "code",
      "metadata": {
        "id": "TsaKl8cN0EmZ",
        "colab_type": "code",
        "colab": {}
      },
      "source": [
        "# Plot the first X test images, their predicted labels, and the true labels.\n",
        "# Color correct predictions in blue and incorrect predictions in red.\n",
        "Correctclassified = np.where(class_predictions == y_test)\n",
        "num_rows = 5\n",
        "num_cols = 3\n",
        "num_images = num_rows*num_cols\n",
        "plt.figure(figsize=(2*2*num_cols, 2*num_rows))\n",
        "for i,j in zip(Correctclassified[0], range(num_images)):\n",
        "    plt.subplot(num_rows, 2*num_cols, 2*j+1)\n",
        "    plot_image(i, prediction_probabilities[i], y_test, X_test)\n",
        "    plt.subplot(num_rows, 2*num_cols, 2*j+2)\n",
        "    plot_value_array(i, prediction_probabilities[i], y_test)\n",
        "plt.tight_layout()\n",
        "plt.show()"
      ],
      "execution_count": 0,
      "outputs": []
    },
    {
      "cell_type": "code",
      "metadata": {
        "id": "IMxpM4AW0hwA",
        "colab_type": "code",
        "colab": {}
      },
      "source": [
        "from sklearn.metrics import confusion_matrix\n",
        "confusion_matrix(y_test ,class_predictions)"
      ],
      "execution_count": 0,
      "outputs": []
    },
    {
      "cell_type": "code",
      "metadata": {
        "id": "uqFPGQao01Wc",
        "colab_type": "code",
        "colab": {}
      },
      "source": [
        "from sklearn.metrics import confusion_matrix\n",
        "import itertools\n",
        "def plot_confusion_matrix(cm, classes,\n",
        "                          normalize=False,\n",
        "                          title='Confusion matrix',\n",
        "                          cmap=plt.cm.Blues):\n",
        "    \n",
        "    plt.imshow(cm, interpolation='nearest', cmap=cmap)\n",
        "    plt.title(title)\n",
        "    plt.colorbar()\n",
        "    tick_marks = np.arange(len(class_names))\n",
        "    plt.xticks(tick_marks, class_names, rotation=90)\n",
        "    plt.yticks(tick_marks, class_names)\n",
        "\n",
        "    if normalize:\n",
        "        cm = cm.astype('float') / cm.sum(axis=1)[:, np.newaxis]\n",
        "\n",
        "    thresh = cm.max() / 2.\n",
        "    for i, j in itertools.product(range(cm.shape[0]), range(cm.shape[1])):\n",
        "        plt.text(j, i, cm[i, j],\n",
        "                 horizontalalignment=\"center\",\n",
        "                 color=\"white\" if cm[i, j] > thresh else \"black\")\n",
        "\n",
        "    plt.tight_layout()\n",
        "    plt.ylabel('True label')\n",
        "    plt.xlabel('Predicted label')"
      ],
      "execution_count": 0,
      "outputs": []
    },
    {
      "cell_type": "code",
      "metadata": {
        "id": "iEdVdZTv046-",
        "colab_type": "code",
        "colab": {}
      },
      "source": [
        "class_names = ['0', '1', '2', '3', '4', '5', '6', '7','8', '9']"
      ],
      "execution_count": 0,
      "outputs": []
    },
    {
      "cell_type": "code",
      "metadata": {
        "id": "chyM3l3N09lj",
        "colab_type": "code",
        "colab": {}
      },
      "source": [
        "confusion_mtx = confusion_matrix(y_test ,class_predictions)\n",
        "plot_confusion_matrix(confusion_mtx, class_names)"
      ],
      "execution_count": 0,
      "outputs": []
    },
    {
      "cell_type": "markdown",
      "metadata": {
        "id": "HqEXUgyYuEVJ",
        "colab_type": "text"
      },
      "source": [
        "*Bonus* challenge: \n",
        "Can you improve the model performance from this first Keras model?\n",
        "If you wonder about how researchers get to 98% accuracy, here is a list of papers :)\n",
        "https://rodrigob.github.io/are_we_there_yet/build/classification_datasets_results.html#5356484e "
      ]
    },
    {
      "cell_type": "code",
      "metadata": {
        "id": "ZFeejKb0C4iD",
        "colab_type": "code",
        "colab": {}
      },
      "source": [
        ""
      ],
      "execution_count": 0,
      "outputs": []
    }
  ]
}