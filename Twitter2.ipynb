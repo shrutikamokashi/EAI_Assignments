{
  "nbformat": 4,
  "nbformat_minor": 0,
  "metadata": {
    "colab": {
      "name": "Twitter2.ipynb",
      "provenance": [],
      "collapsed_sections": [],
      "mount_file_id": "1QUumv0s28aFBZ_BavwpTKkwzCSR0f8iE",
      "authorship_tag": "ABX9TyPuIfJ6J0v4zSFt7Lijxxx5",
      "include_colab_link": true
    },
    "kernelspec": {
      "name": "python3",
      "display_name": "Python 3"
    }
  },
  "cells": [
    {
      "cell_type": "markdown",
      "metadata": {
        "id": "view-in-github",
        "colab_type": "text"
      },
      "source": [
        "<a href=\"https://colab.research.google.com/github/shrutikamokashi/EAI_Assignments/blob/master/Twitter2.ipynb\" target=\"_parent\"><img src=\"https://colab.research.google.com/assets/colab-badge.svg\" alt=\"Open In Colab\"/></a>"
      ]
    },
    {
      "cell_type": "code",
      "metadata": {
        "id": "gjmfwdlCmiKi",
        "colab_type": "code",
        "colab": {}
      },
      "source": [
        "#!pip install gensim --upgrade\n",
        "#!pip install keras --upgrade\n",
        "#!pip install pandas --upgrade"
      ],
      "execution_count": 0,
      "outputs": []
    },
    {
      "cell_type": "code",
      "metadata": {
        "id": "26cb-lkEmnco",
        "colab_type": "code",
        "outputId": "1ed86903-1bd0-4242-848b-a00d18739b97",
        "colab": {
          "base_uri": "https://localhost:8080/",
          "height": 171
        }
      },
      "source": [
        "# DataFrame\n",
        "import pandas as pd\n",
        "\n",
        "# Matplot\n",
        "import matplotlib.pyplot as plt\n",
        "%matplotlib inline\n",
        "\n",
        "# Scikit-learn\n",
        "from sklearn.model_selection import train_test_split\n",
        "from sklearn.preprocessing import LabelEncoder\n",
        "from sklearn.metrics import confusion_matrix, classification_report, accuracy_score\n",
        "from sklearn.manifold import TSNE\n",
        "from sklearn.feature_extraction.text import TfidfVectorizer\n",
        "\n",
        "# Keras\n",
        "from keras.preprocessing.text import Tokenizer\n",
        "from keras.preprocessing.sequence import pad_sequences\n",
        "from keras.models import Sequential\n",
        "from keras.layers import Activation, Dense, Dropout, Embedding, Flatten, Conv1D, MaxPooling1D, LSTM\n",
        "from keras import utils\n",
        "from keras.callbacks import ReduceLROnPlateau, EarlyStopping\n",
        "\n",
        "# nltk\n",
        "import nltk\n",
        "from nltk.corpus import stopwords\n",
        "from  nltk.stem import SnowballStemmer\n",
        "\n",
        "# Word2vec\n",
        "import gensim\n",
        "\n",
        "# Utility\n",
        "import re\n",
        "import numpy as np\n",
        "import os\n",
        "from collections import Counter\n",
        "import logging\n",
        "import time\n",
        "import pickle\n",
        "import itertools\n",
        "\n",
        "import tensorflow.compat.v1 as tf\n",
        "tf.disable_v2_behavior()\n",
        "\n",
        "# Set log\n",
        "logging.basicConfig(format='%(asctime)s : %(levelname)s : %(message)s', level=logging.INFO)"
      ],
      "execution_count": 6,
      "outputs": [
        {
          "output_type": "stream",
          "text": [
            "Using TensorFlow backend.\n"
          ],
          "name": "stderr"
        },
        {
          "output_type": "display_data",
          "data": {
            "text/html": [
              "<p style=\"color: red;\">\n",
              "The default version of TensorFlow in Colab will soon switch to TensorFlow 2.x.<br>\n",
              "We recommend you <a href=\"https://www.tensorflow.org/guide/migrate\" target=\"_blank\">upgrade</a> now \n",
              "or ensure your notebook will continue to use TensorFlow 1.x via the <code>%tensorflow_version 1.x</code> magic:\n",
              "<a href=\"https://colab.research.google.com/notebooks/tensorflow_version.ipynb\" target=\"_blank\">more info</a>.</p>\n"
            ],
            "text/plain": [
              "<IPython.core.display.HTML object>"
            ]
          },
          "metadata": {
            "tags": []
          }
        },
        {
          "output_type": "stream",
          "text": [
            "WARNING:tensorflow:From /tensorflow-1.15.0/python3.6/tensorflow_core/python/compat/v2_compat.py:68: disable_resource_variables (from tensorflow.python.ops.variable_scope) is deprecated and will be removed in a future version.\n",
            "Instructions for updating:\n",
            "non-resource variables are not supported in the long term\n"
          ],
          "name": "stdout"
        }
      ]
    },
    {
      "cell_type": "code",
      "metadata": {
        "id": "7E3EvigznDfx",
        "colab_type": "code",
        "outputId": "7bf5e498-74a4-433a-c478-83ba61c32ca6",
        "colab": {
          "base_uri": "https://localhost:8080/",
          "height": 69
        }
      },
      "source": [
        "nltk.download('stopwords')\n"
      ],
      "execution_count": 7,
      "outputs": [
        {
          "output_type": "stream",
          "text": [
            "[nltk_data] Downloading package stopwords to /root/nltk_data...\n",
            "[nltk_data]   Unzipping corpora/stopwords.zip.\n"
          ],
          "name": "stdout"
        },
        {
          "output_type": "execute_result",
          "data": {
            "text/plain": [
              "True"
            ]
          },
          "metadata": {
            "tags": []
          },
          "execution_count": 7
        }
      ]
    },
    {
      "cell_type": "code",
      "metadata": {
        "id": "3eCJcHAFnb6B",
        "colab_type": "code",
        "colab": {}
      },
      "source": [
        "# DATASET\n",
        "DATASET_COLUMNS = [\"target\", \"ids\", \"date\", \"flag\", \"user\", \"text\"]\n",
        "DATASET_ENCODING = \"ISO-8859-1\"\n",
        "TRAIN_SIZE = 0.8\n",
        "\n",
        "# TEXT CLENAING\n",
        "TEXT_CLEANING_RE = \"@\\S+|https?:\\S+|http?:\\S|[^A-Za-z0-9]+\"\n",
        "\n",
        "# WORD2VEC \n",
        "W2V_SIZE = 300\n",
        "W2V_WINDOW = 7\n",
        "W2V_EPOCH = 32\n",
        "W2V_MIN_COUNT = 10\n",
        "\n",
        "# KERAS\n",
        "SEQUENCE_LENGTH = 300\n",
        "EPOCHS = 4\n",
        "BATCH_SIZE = 1024\n",
        "\n",
        "# SENTIMENT\n",
        "POSITIVE = \"POSITIVE\"\n",
        "NEGATIVE = \"NEGATIVE\"\n",
        "NEUTRAL = \"NEUTRAL\"\n",
        "SENTIMENT_THRESHOLDS = (0.4, 0.7)\n",
        "\n",
        "# EXPORT\n",
        "KERAS_MODEL = \"model.h5\"\n",
        "WORD2VEC_MODEL = \"model.w2v\"\n",
        "TOKENIZER_MODEL = \"tokenizer.pkl\"\n",
        "ENCODER_MODEL = \"encoder.pkl\""
      ],
      "execution_count": 0,
      "outputs": []
    },
    {
      "cell_type": "code",
      "metadata": {
        "id": "nMIRSBqKn_Dt",
        "colab_type": "code",
        "colab": {
          "base_uri": "https://localhost:8080/",
          "height": 55
        },
        "outputId": "ea3a5d81-7802-4603-85a6-0522b1e6e90c"
      },
      "source": [
        "from google.colab import drive\n",
        "drive.mount('/content/drive')"
      ],
      "execution_count": 9,
      "outputs": [
        {
          "output_type": "stream",
          "text": [
            "Drive already mounted at /content/drive; to attempt to forcibly remount, call drive.mount(\"/content/drive\", force_remount=True).\n"
          ],
          "name": "stdout"
        }
      ]
    },
    {
      "cell_type": "code",
      "metadata": {
        "id": "Rx6cwD3GoL5L",
        "colab_type": "code",
        "colab": {
          "base_uri": "https://localhost:8080/",
          "height": 52
        },
        "outputId": "f4afe802-1a85-47b3-c5bf-8e7675f8f8c8"
      },
      "source": [
        "cd 'drive/My Drive/python'"
      ],
      "execution_count": 10,
      "outputs": [
        {
          "output_type": "stream",
          "text": [
            "[Errno 2] No such file or directory: 'drive/My Drive/python'\n",
            "/content/drive/My Drive/python\n"
          ],
          "name": "stdout"
        }
      ]
    },
    {
      "cell_type": "markdown",
      "metadata": {
        "id": "zd4KJT71nueK",
        "colab_type": "text"
      },
      "source": [
        ""
      ]
    },
    {
      "cell_type": "code",
      "metadata": {
        "id": "JJ5djt8ann5g",
        "colab_type": "code",
        "outputId": "a078cce9-0fd5-4c77-9f14-bc1449f7a826",
        "colab": {
          "base_uri": "https://localhost:8080/",
          "height": 72
        }
      },
      "source": [
        "df = pd.read_csv('EAI_Twitter_data.csv', encoding =DATASET_ENCODING , names=DATASET_COLUMNS)\n",
        "df1 = pd.read_csv('EAI_Twitter_data2.csv', encoding =DATASET_ENCODING , names=DATASET_COLUMNS)"
      ],
      "execution_count": 55,
      "outputs": [
        {
          "output_type": "stream",
          "text": [
            "/usr/local/lib/python3.6/dist-packages/IPython/core/interactiveshell.py:2718: DtypeWarning: Columns (2,3,4,5) have mixed types. Specify dtype option on import or set low_memory=False.\n",
            "  interactivity=interactivity, compiler=compiler, result=result)\n"
          ],
          "name": "stderr"
        }
      ]
    },
    {
      "cell_type": "code",
      "metadata": {
        "id": "HgGMWdCXpfMI",
        "colab_type": "code",
        "colab": {
          "base_uri": "https://localhost:8080/",
          "height": 502
        },
        "outputId": "bf3e929f-6aa8-459d-f6ab-f73f7976cb01"
      },
      "source": [
        "df"
      ],
      "execution_count": 56,
      "outputs": [
        {
          "output_type": "execute_result",
          "data": {
            "text/html": [
              "<div>\n",
              "<style scoped>\n",
              "    .dataframe tbody tr th:only-of-type {\n",
              "        vertical-align: middle;\n",
              "    }\n",
              "\n",
              "    .dataframe tbody tr th {\n",
              "        vertical-align: top;\n",
              "    }\n",
              "\n",
              "    .dataframe thead th {\n",
              "        text-align: right;\n",
              "    }\n",
              "</style>\n",
              "<table border=\"1\" class=\"dataframe\">\n",
              "  <thead>\n",
              "    <tr style=\"text-align: right;\">\n",
              "      <th></th>\n",
              "      <th>target</th>\n",
              "      <th>ids</th>\n",
              "      <th>date</th>\n",
              "      <th>flag</th>\n",
              "      <th>user</th>\n",
              "      <th>text</th>\n",
              "    </tr>\n",
              "  </thead>\n",
              "  <tbody>\n",
              "    <tr>\n",
              "      <th>0</th>\n",
              "      <td>0.0</td>\n",
              "      <td>1.467810e+09</td>\n",
              "      <td>Mon Apr 06 22:19:45 PDT 2009</td>\n",
              "      <td>NO_QUERY</td>\n",
              "      <td>_TheSpecialOne_</td>\n",
              "      <td>@switchfoot http://twitpic.com/2y1zl - Awww, t...</td>\n",
              "    </tr>\n",
              "    <tr>\n",
              "      <th>1</th>\n",
              "      <td>0.0</td>\n",
              "      <td>1.467811e+09</td>\n",
              "      <td>Mon Apr 06 22:19:49 PDT 2009</td>\n",
              "      <td>NO_QUERY</td>\n",
              "      <td>scotthamilton</td>\n",
              "      <td>is upset that he can't update his Facebook by ...</td>\n",
              "    </tr>\n",
              "    <tr>\n",
              "      <th>2</th>\n",
              "      <td>0.0</td>\n",
              "      <td>1.467811e+09</td>\n",
              "      <td>Mon Apr 06 22:19:53 PDT 2009</td>\n",
              "      <td>NO_QUERY</td>\n",
              "      <td>mattycus</td>\n",
              "      <td>@Kenichan I dived many times for the ball. Man...</td>\n",
              "    </tr>\n",
              "    <tr>\n",
              "      <th>3</th>\n",
              "      <td>0.0</td>\n",
              "      <td>1.467811e+09</td>\n",
              "      <td>Mon Apr 06 22:19:57 PDT 2009</td>\n",
              "      <td>NO_QUERY</td>\n",
              "      <td>ElleCTF</td>\n",
              "      <td>my whole body feels itchy and like its on fire</td>\n",
              "    </tr>\n",
              "    <tr>\n",
              "      <th>4</th>\n",
              "      <td>0.0</td>\n",
              "      <td>1.467811e+09</td>\n",
              "      <td>Mon Apr 06 22:19:57 PDT 2009</td>\n",
              "      <td>NO_QUERY</td>\n",
              "      <td>Karoli</td>\n",
              "      <td>@nationwideclass no, it's not behaving at all....</td>\n",
              "    </tr>\n",
              "    <tr>\n",
              "      <th>...</th>\n",
              "      <td>...</td>\n",
              "      <td>...</td>\n",
              "      <td>...</td>\n",
              "      <td>...</td>\n",
              "      <td>...</td>\n",
              "      <td>...</td>\n",
              "    </tr>\n",
              "    <tr>\n",
              "      <th>1030268</th>\n",
              "      <td>NaN</td>\n",
              "      <td>NaN</td>\n",
              "      <td>NaN</td>\n",
              "      <td>NaN</td>\n",
              "      <td>NaN</td>\n",
              "      <td>NaN</td>\n",
              "    </tr>\n",
              "    <tr>\n",
              "      <th>1030269</th>\n",
              "      <td>NaN</td>\n",
              "      <td>NaN</td>\n",
              "      <td>NaN</td>\n",
              "      <td>NaN</td>\n",
              "      <td>NaN</td>\n",
              "      <td>NaN</td>\n",
              "    </tr>\n",
              "    <tr>\n",
              "      <th>1030270</th>\n",
              "      <td>NaN</td>\n",
              "      <td>NaN</td>\n",
              "      <td>NaN</td>\n",
              "      <td>NaN</td>\n",
              "      <td>NaN</td>\n",
              "      <td>NaN</td>\n",
              "    </tr>\n",
              "    <tr>\n",
              "      <th>1030271</th>\n",
              "      <td>NaN</td>\n",
              "      <td>NaN</td>\n",
              "      <td>NaN</td>\n",
              "      <td>NaN</td>\n",
              "      <td>NaN</td>\n",
              "      <td>NaN</td>\n",
              "    </tr>\n",
              "    <tr>\n",
              "      <th>1030272</th>\n",
              "      <td>NaN</td>\n",
              "      <td>NaN</td>\n",
              "      <td>NaN</td>\n",
              "      <td>NaN</td>\n",
              "      <td>NaN</td>\n",
              "      <td>NaN</td>\n",
              "    </tr>\n",
              "  </tbody>\n",
              "</table>\n",
              "<p>1030273 rows × 6 columns</p>\n",
              "</div>"
            ],
            "text/plain": [
              "         target  ...                                               text\n",
              "0           0.0  ...  @switchfoot http://twitpic.com/2y1zl - Awww, t...\n",
              "1           0.0  ...  is upset that he can't update his Facebook by ...\n",
              "2           0.0  ...  @Kenichan I dived many times for the ball. Man...\n",
              "3           0.0  ...    my whole body feels itchy and like its on fire \n",
              "4           0.0  ...  @nationwideclass no, it's not behaving at all....\n",
              "...         ...  ...                                                ...\n",
              "1030268     NaN  ...                                                NaN\n",
              "1030269     NaN  ...                                                NaN\n",
              "1030270     NaN  ...                                                NaN\n",
              "1030271     NaN  ...                                                NaN\n",
              "1030272     NaN  ...                                                NaN\n",
              "\n",
              "[1030273 rows x 6 columns]"
            ]
          },
          "metadata": {
            "tags": []
          },
          "execution_count": 56
        }
      ]
    },
    {
      "cell_type": "code",
      "metadata": {
        "id": "gCcjz3y1piTv",
        "colab_type": "code",
        "colab": {
          "base_uri": "https://localhost:8080/",
          "height": 589
        },
        "outputId": "397854dc-0b55-4e5e-8702-a82af0e33621"
      },
      "source": [
        "df1"
      ],
      "execution_count": 57,
      "outputs": [
        {
          "output_type": "execute_result",
          "data": {
            "text/html": [
              "<div>\n",
              "<style scoped>\n",
              "    .dataframe tbody tr th:only-of-type {\n",
              "        vertical-align: middle;\n",
              "    }\n",
              "\n",
              "    .dataframe tbody tr th {\n",
              "        vertical-align: top;\n",
              "    }\n",
              "\n",
              "    .dataframe thead th {\n",
              "        text-align: right;\n",
              "    }\n",
              "</style>\n",
              "<table border=\"1\" class=\"dataframe\">\n",
              "  <thead>\n",
              "    <tr style=\"text-align: right;\">\n",
              "      <th></th>\n",
              "      <th>target</th>\n",
              "      <th>ids</th>\n",
              "      <th>date</th>\n",
              "      <th>flag</th>\n",
              "      <th>user</th>\n",
              "      <th>text</th>\n",
              "    </tr>\n",
              "  </thead>\n",
              "  <tbody>\n",
              "    <tr>\n",
              "      <th>0</th>\n",
              "      <td>0</td>\n",
              "      <td>1972415508</td>\n",
              "      <td>Sat May 30 09:10:56 PDT 2009</td>\n",
              "      <td>NO_QUERY</td>\n",
              "      <td>xcactuskatex</td>\n",
              "      <td>Working all weekend</td>\n",
              "    </tr>\n",
              "    <tr>\n",
              "      <th>1</th>\n",
              "      <td>0</td>\n",
              "      <td>1972415691</td>\n",
              "      <td>Sat May 30 09:10:57 PDT 2009</td>\n",
              "      <td>NO_QUERY</td>\n",
              "      <td>annierabe</td>\n",
              "      <td>Its such a beautiful day and I'm stuck inside ...</td>\n",
              "    </tr>\n",
              "    <tr>\n",
              "      <th>2</th>\n",
              "      <td>0</td>\n",
              "      <td>1972415723</td>\n",
              "      <td>Sat May 30 09:10:57 PDT 2009</td>\n",
              "      <td>NO_QUERY</td>\n",
              "      <td>EricCHenry</td>\n",
              "      <td>Just now got up   Eating bfast (butterscotch p...</td>\n",
              "    </tr>\n",
              "    <tr>\n",
              "      <th>3</th>\n",
              "      <td>0</td>\n",
              "      <td>1972415897</td>\n",
              "      <td>Sat May 30 09:10:58 PDT 2009</td>\n",
              "      <td>NO_QUERY</td>\n",
              "      <td>alyssaluvsmcfly</td>\n",
              "      <td>@tommcfly i wish that i could watch shows that...</td>\n",
              "    </tr>\n",
              "    <tr>\n",
              "      <th>4</th>\n",
              "      <td>0</td>\n",
              "      <td>1972415930</td>\n",
              "      <td>Sat May 30 09:10:58 PDT 2009</td>\n",
              "      <td>NO_QUERY</td>\n",
              "      <td>Haileythecooley</td>\n",
              "      <td>srry i haven't been on in a LONG time but i wi...</td>\n",
              "    </tr>\n",
              "    <tr>\n",
              "      <th>...</th>\n",
              "      <td>...</td>\n",
              "      <td>...</td>\n",
              "      <td>...</td>\n",
              "      <td>...</td>\n",
              "      <td>...</td>\n",
              "      <td>...</td>\n",
              "    </tr>\n",
              "    <tr>\n",
              "      <th>844945</th>\n",
              "      <td>4</td>\n",
              "      <td>1960186342</td>\n",
              "      <td>Fri May 29 07:33:44 PDT 2009</td>\n",
              "      <td>NO_QUERY</td>\n",
              "      <td>Madelinedugganx</td>\n",
              "      <td>My GrandMa is making Dinenr with my Mum</td>\n",
              "    </tr>\n",
              "    <tr>\n",
              "      <th>844946</th>\n",
              "      <td>4</td>\n",
              "      <td>1960186409</td>\n",
              "      <td>Fri May 29 07:33:43 PDT 2009</td>\n",
              "      <td>NO_QUERY</td>\n",
              "      <td>OffRoad_Dude</td>\n",
              "      <td>Mid-morning snack time... A bowl of cheese noo...</td>\n",
              "    </tr>\n",
              "    <tr>\n",
              "      <th>844947</th>\n",
              "      <td>4</td>\n",
              "      <td>1960186429</td>\n",
              "      <td>Fri May 29 07:33:44 PDT 2009</td>\n",
              "      <td>NO_QUERY</td>\n",
              "      <td>Falchion</td>\n",
              "      <td>@ShaDeLa same here  say it like from the Termi...</td>\n",
              "    </tr>\n",
              "    <tr>\n",
              "      <th>844948</th>\n",
              "      <td>4</td>\n",
              "      <td>1960186445</td>\n",
              "      <td>Fri May 29 07:33:44 PDT 2009</td>\n",
              "      <td>NO_QUERY</td>\n",
              "      <td>jonasobsessedx</td>\n",
              "      <td>@DestinyHope92 im great thaanks  wbuu?</td>\n",
              "    </tr>\n",
              "    <tr>\n",
              "      <th>844949</th>\n",
              "      <td>4</td>\n",
              "      <td>1960186607</td>\n",
              "      <td>Fri May 29 07:33:45 PDT 2009</td>\n",
              "      <td>NO_QUERY</td>\n",
              "      <td>sugababez</td>\n",
              "      <td>cant wait til her date this weekend</td>\n",
              "    </tr>\n",
              "  </tbody>\n",
              "</table>\n",
              "<p>844950 rows × 6 columns</p>\n",
              "</div>"
            ],
            "text/plain": [
              "        target  ...                                               text\n",
              "0            0  ...                               Working all weekend \n",
              "1            0  ...  Its such a beautiful day and I'm stuck inside ...\n",
              "2            0  ...  Just now got up   Eating bfast (butterscotch p...\n",
              "3            0  ...  @tommcfly i wish that i could watch shows that...\n",
              "4            0  ...  srry i haven't been on in a LONG time but i wi...\n",
              "...        ...  ...                                                ...\n",
              "844945       4  ...           My GrandMa is making Dinenr with my Mum \n",
              "844946       4  ...  Mid-morning snack time... A bowl of cheese noo...\n",
              "844947       4  ...  @ShaDeLa same here  say it like from the Termi...\n",
              "844948       4  ...             @DestinyHope92 im great thaanks  wbuu?\n",
              "844949       4  ...               cant wait til her date this weekend \n",
              "\n",
              "[844950 rows x 6 columns]"
            ]
          },
          "metadata": {
            "tags": []
          },
          "execution_count": 57
        }
      ]
    },
    {
      "cell_type": "code",
      "metadata": {
        "id": "NZ8KjvCcnv4V",
        "colab_type": "code",
        "outputId": "e2c969b9-9a7e-4dc0-a1eb-41002da4127f",
        "colab": {
          "base_uri": "https://localhost:8080/",
          "height": 589
        }
      },
      "source": [
        "df = df.append(df1,ignore_index=True) \n",
        "df"
      ],
      "execution_count": 58,
      "outputs": [
        {
          "output_type": "execute_result",
          "data": {
            "text/html": [
              "<div>\n",
              "<style scoped>\n",
              "    .dataframe tbody tr th:only-of-type {\n",
              "        vertical-align: middle;\n",
              "    }\n",
              "\n",
              "    .dataframe tbody tr th {\n",
              "        vertical-align: top;\n",
              "    }\n",
              "\n",
              "    .dataframe thead th {\n",
              "        text-align: right;\n",
              "    }\n",
              "</style>\n",
              "<table border=\"1\" class=\"dataframe\">\n",
              "  <thead>\n",
              "    <tr style=\"text-align: right;\">\n",
              "      <th></th>\n",
              "      <th>target</th>\n",
              "      <th>ids</th>\n",
              "      <th>date</th>\n",
              "      <th>flag</th>\n",
              "      <th>user</th>\n",
              "      <th>text</th>\n",
              "    </tr>\n",
              "  </thead>\n",
              "  <tbody>\n",
              "    <tr>\n",
              "      <th>0</th>\n",
              "      <td>0.0</td>\n",
              "      <td>1.467810e+09</td>\n",
              "      <td>Mon Apr 06 22:19:45 PDT 2009</td>\n",
              "      <td>NO_QUERY</td>\n",
              "      <td>_TheSpecialOne_</td>\n",
              "      <td>@switchfoot http://twitpic.com/2y1zl - Awww, t...</td>\n",
              "    </tr>\n",
              "    <tr>\n",
              "      <th>1</th>\n",
              "      <td>0.0</td>\n",
              "      <td>1.467811e+09</td>\n",
              "      <td>Mon Apr 06 22:19:49 PDT 2009</td>\n",
              "      <td>NO_QUERY</td>\n",
              "      <td>scotthamilton</td>\n",
              "      <td>is upset that he can't update his Facebook by ...</td>\n",
              "    </tr>\n",
              "    <tr>\n",
              "      <th>2</th>\n",
              "      <td>0.0</td>\n",
              "      <td>1.467811e+09</td>\n",
              "      <td>Mon Apr 06 22:19:53 PDT 2009</td>\n",
              "      <td>NO_QUERY</td>\n",
              "      <td>mattycus</td>\n",
              "      <td>@Kenichan I dived many times for the ball. Man...</td>\n",
              "    </tr>\n",
              "    <tr>\n",
              "      <th>3</th>\n",
              "      <td>0.0</td>\n",
              "      <td>1.467811e+09</td>\n",
              "      <td>Mon Apr 06 22:19:57 PDT 2009</td>\n",
              "      <td>NO_QUERY</td>\n",
              "      <td>ElleCTF</td>\n",
              "      <td>my whole body feels itchy and like its on fire</td>\n",
              "    </tr>\n",
              "    <tr>\n",
              "      <th>4</th>\n",
              "      <td>0.0</td>\n",
              "      <td>1.467811e+09</td>\n",
              "      <td>Mon Apr 06 22:19:57 PDT 2009</td>\n",
              "      <td>NO_QUERY</td>\n",
              "      <td>Karoli</td>\n",
              "      <td>@nationwideclass no, it's not behaving at all....</td>\n",
              "    </tr>\n",
              "    <tr>\n",
              "      <th>...</th>\n",
              "      <td>...</td>\n",
              "      <td>...</td>\n",
              "      <td>...</td>\n",
              "      <td>...</td>\n",
              "      <td>...</td>\n",
              "      <td>...</td>\n",
              "    </tr>\n",
              "    <tr>\n",
              "      <th>1875218</th>\n",
              "      <td>4.0</td>\n",
              "      <td>1.960186e+09</td>\n",
              "      <td>Fri May 29 07:33:44 PDT 2009</td>\n",
              "      <td>NO_QUERY</td>\n",
              "      <td>Madelinedugganx</td>\n",
              "      <td>My GrandMa is making Dinenr with my Mum</td>\n",
              "    </tr>\n",
              "    <tr>\n",
              "      <th>1875219</th>\n",
              "      <td>4.0</td>\n",
              "      <td>1.960186e+09</td>\n",
              "      <td>Fri May 29 07:33:43 PDT 2009</td>\n",
              "      <td>NO_QUERY</td>\n",
              "      <td>OffRoad_Dude</td>\n",
              "      <td>Mid-morning snack time... A bowl of cheese noo...</td>\n",
              "    </tr>\n",
              "    <tr>\n",
              "      <th>1875220</th>\n",
              "      <td>4.0</td>\n",
              "      <td>1.960186e+09</td>\n",
              "      <td>Fri May 29 07:33:44 PDT 2009</td>\n",
              "      <td>NO_QUERY</td>\n",
              "      <td>Falchion</td>\n",
              "      <td>@ShaDeLa same here  say it like from the Termi...</td>\n",
              "    </tr>\n",
              "    <tr>\n",
              "      <th>1875221</th>\n",
              "      <td>4.0</td>\n",
              "      <td>1.960186e+09</td>\n",
              "      <td>Fri May 29 07:33:44 PDT 2009</td>\n",
              "      <td>NO_QUERY</td>\n",
              "      <td>jonasobsessedx</td>\n",
              "      <td>@DestinyHope92 im great thaanks  wbuu?</td>\n",
              "    </tr>\n",
              "    <tr>\n",
              "      <th>1875222</th>\n",
              "      <td>4.0</td>\n",
              "      <td>1.960187e+09</td>\n",
              "      <td>Fri May 29 07:33:45 PDT 2009</td>\n",
              "      <td>NO_QUERY</td>\n",
              "      <td>sugababez</td>\n",
              "      <td>cant wait til her date this weekend</td>\n",
              "    </tr>\n",
              "  </tbody>\n",
              "</table>\n",
              "<p>1875223 rows × 6 columns</p>\n",
              "</div>"
            ],
            "text/plain": [
              "         target  ...                                               text\n",
              "0           0.0  ...  @switchfoot http://twitpic.com/2y1zl - Awww, t...\n",
              "1           0.0  ...  is upset that he can't update his Facebook by ...\n",
              "2           0.0  ...  @Kenichan I dived many times for the ball. Man...\n",
              "3           0.0  ...    my whole body feels itchy and like its on fire \n",
              "4           0.0  ...  @nationwideclass no, it's not behaving at all....\n",
              "...         ...  ...                                                ...\n",
              "1875218     4.0  ...           My GrandMa is making Dinenr with my Mum \n",
              "1875219     4.0  ...  Mid-morning snack time... A bowl of cheese noo...\n",
              "1875220     4.0  ...  @ShaDeLa same here  say it like from the Termi...\n",
              "1875221     4.0  ...             @DestinyHope92 im great thaanks  wbuu?\n",
              "1875222     4.0  ...               cant wait til her date this weekend \n",
              "\n",
              "[1875223 rows x 6 columns]"
            ]
          },
          "metadata": {
            "tags": []
          },
          "execution_count": 58
        }
      ]
    },
    {
      "cell_type": "code",
      "metadata": {
        "id": "bhTG_WEErv9Q",
        "colab_type": "code",
        "colab": {
          "base_uri": "https://localhost:8080/",
          "height": 433
        },
        "outputId": "a928d6de-f7fb-4df4-9583-4841c6feb694"
      },
      "source": [
        "# 24 Duplicated entries\n",
        "print('Total '+ str(df.duplicated().sum())+' Duplicate entries found!!')\n",
        "df[df.duplicated()]"
      ],
      "execution_count": 59,
      "outputs": [
        {
          "output_type": "stream",
          "text": [
            "Total 826646 Duplicate entries found!!\n"
          ],
          "name": "stdout"
        },
        {
          "output_type": "execute_result",
          "data": {
            "text/html": [
              "<div>\n",
              "<style scoped>\n",
              "    .dataframe tbody tr th:only-of-type {\n",
              "        vertical-align: middle;\n",
              "    }\n",
              "\n",
              "    .dataframe tbody tr th {\n",
              "        vertical-align: top;\n",
              "    }\n",
              "\n",
              "    .dataframe thead th {\n",
              "        text-align: right;\n",
              "    }\n",
              "</style>\n",
              "<table border=\"1\" class=\"dataframe\">\n",
              "  <thead>\n",
              "    <tr style=\"text-align: right;\">\n",
              "      <th></th>\n",
              "      <th>target</th>\n",
              "      <th>ids</th>\n",
              "      <th>date</th>\n",
              "      <th>flag</th>\n",
              "      <th>user</th>\n",
              "      <th>text</th>\n",
              "    </tr>\n",
              "  </thead>\n",
              "  <tbody>\n",
              "    <tr>\n",
              "      <th>203627</th>\n",
              "      <td>NaN</td>\n",
              "      <td>NaN</td>\n",
              "      <td>NaN</td>\n",
              "      <td>NaN</td>\n",
              "      <td>NaN</td>\n",
              "      <td>NaN</td>\n",
              "    </tr>\n",
              "    <tr>\n",
              "      <th>203628</th>\n",
              "      <td>NaN</td>\n",
              "      <td>NaN</td>\n",
              "      <td>NaN</td>\n",
              "      <td>NaN</td>\n",
              "      <td>NaN</td>\n",
              "      <td>NaN</td>\n",
              "    </tr>\n",
              "    <tr>\n",
              "      <th>203629</th>\n",
              "      <td>NaN</td>\n",
              "      <td>NaN</td>\n",
              "      <td>NaN</td>\n",
              "      <td>NaN</td>\n",
              "      <td>NaN</td>\n",
              "      <td>NaN</td>\n",
              "    </tr>\n",
              "    <tr>\n",
              "      <th>203630</th>\n",
              "      <td>NaN</td>\n",
              "      <td>NaN</td>\n",
              "      <td>NaN</td>\n",
              "      <td>NaN</td>\n",
              "      <td>NaN</td>\n",
              "      <td>NaN</td>\n",
              "    </tr>\n",
              "    <tr>\n",
              "      <th>203631</th>\n",
              "      <td>NaN</td>\n",
              "      <td>NaN</td>\n",
              "      <td>NaN</td>\n",
              "      <td>NaN</td>\n",
              "      <td>NaN</td>\n",
              "      <td>NaN</td>\n",
              "    </tr>\n",
              "    <tr>\n",
              "      <th>...</th>\n",
              "      <td>...</td>\n",
              "      <td>...</td>\n",
              "      <td>...</td>\n",
              "      <td>...</td>\n",
              "      <td>...</td>\n",
              "      <td>...</td>\n",
              "    </tr>\n",
              "    <tr>\n",
              "      <th>1030268</th>\n",
              "      <td>NaN</td>\n",
              "      <td>NaN</td>\n",
              "      <td>NaN</td>\n",
              "      <td>NaN</td>\n",
              "      <td>NaN</td>\n",
              "      <td>NaN</td>\n",
              "    </tr>\n",
              "    <tr>\n",
              "      <th>1030269</th>\n",
              "      <td>NaN</td>\n",
              "      <td>NaN</td>\n",
              "      <td>NaN</td>\n",
              "      <td>NaN</td>\n",
              "      <td>NaN</td>\n",
              "      <td>NaN</td>\n",
              "    </tr>\n",
              "    <tr>\n",
              "      <th>1030270</th>\n",
              "      <td>NaN</td>\n",
              "      <td>NaN</td>\n",
              "      <td>NaN</td>\n",
              "      <td>NaN</td>\n",
              "      <td>NaN</td>\n",
              "      <td>NaN</td>\n",
              "    </tr>\n",
              "    <tr>\n",
              "      <th>1030271</th>\n",
              "      <td>NaN</td>\n",
              "      <td>NaN</td>\n",
              "      <td>NaN</td>\n",
              "      <td>NaN</td>\n",
              "      <td>NaN</td>\n",
              "      <td>NaN</td>\n",
              "    </tr>\n",
              "    <tr>\n",
              "      <th>1030272</th>\n",
              "      <td>NaN</td>\n",
              "      <td>NaN</td>\n",
              "      <td>NaN</td>\n",
              "      <td>NaN</td>\n",
              "      <td>NaN</td>\n",
              "      <td>NaN</td>\n",
              "    </tr>\n",
              "  </tbody>\n",
              "</table>\n",
              "<p>826646 rows × 6 columns</p>\n",
              "</div>"
            ],
            "text/plain": [
              "         target  ids date flag user text\n",
              "203627      NaN  NaN  NaN  NaN  NaN  NaN\n",
              "203628      NaN  NaN  NaN  NaN  NaN  NaN\n",
              "203629      NaN  NaN  NaN  NaN  NaN  NaN\n",
              "203630      NaN  NaN  NaN  NaN  NaN  NaN\n",
              "203631      NaN  NaN  NaN  NaN  NaN  NaN\n",
              "...         ...  ...  ...  ...  ...  ...\n",
              "1030268     NaN  NaN  NaN  NaN  NaN  NaN\n",
              "1030269     NaN  NaN  NaN  NaN  NaN  NaN\n",
              "1030270     NaN  NaN  NaN  NaN  NaN  NaN\n",
              "1030271     NaN  NaN  NaN  NaN  NaN  NaN\n",
              "1030272     NaN  NaN  NaN  NaN  NaN  NaN\n",
              "\n",
              "[826646 rows x 6 columns]"
            ]
          },
          "metadata": {
            "tags": []
          },
          "execution_count": 59
        }
      ]
    },
    {
      "cell_type": "code",
      "metadata": {
        "id": "ehyaa5hW2Roz",
        "colab_type": "code",
        "colab": {}
      },
      "source": [
        "#drops all the rows that have all the values as NaN    \n",
        "for col in df.columns: \n",
        "    df = df[pd.notnull(df[col])]\n",
        "\n",
        "df.drop_duplicates(inplace=True)"
      ],
      "execution_count": 0,
      "outputs": []
    },
    {
      "cell_type": "code",
      "metadata": {
        "id": "R0J8V2t-rBH3",
        "colab_type": "code",
        "outputId": "2e3a44ef-177a-4789-b948-86f2ae6f3f49",
        "colab": {
          "base_uri": "https://localhost:8080/",
          "height": 52
        }
      },
      "source": [
        "print(\"Dataset size:\", len(df))\n",
        "df.isnull().values.any()"
      ],
      "execution_count": 61,
      "outputs": [
        {
          "output_type": "stream",
          "text": [
            "Dataset size: 1048576\n"
          ],
          "name": "stdout"
        },
        {
          "output_type": "execute_result",
          "data": {
            "text/plain": [
              "False"
            ]
          },
          "metadata": {
            "tags": []
          },
          "execution_count": 61
        }
      ]
    },
    {
      "cell_type": "markdown",
      "metadata": {
        "id": "QcFeERSL00ta",
        "colab_type": "text"
      },
      "source": [
        "Map target label to String\n",
        "0 -> NEGATIVE\n",
        "2 -> NEUTRAL\n",
        "4 -> POSITIVE"
      ]
    },
    {
      "cell_type": "code",
      "metadata": {
        "id": "R_F4TGAWrMIW",
        "colab_type": "code",
        "colab": {}
      },
      "source": [
        "decode_map = {0: \"NEGATIVE\", 2: \"NEUTRAL\", 4: \"POSITIVE\"}\n",
        "def decode_sentiment(label):\n",
        "    return decode_map[int(label)]"
      ],
      "execution_count": 0,
      "outputs": []
    },
    {
      "cell_type": "code",
      "metadata": {
        "id": "vnd9Gfzt04Ic",
        "colab_type": "code",
        "outputId": "ec344c89-4786-4e5f-b993-5f30c160542e",
        "colab": {
          "base_uri": "https://localhost:8080/",
          "height": 52
        }
      },
      "source": [
        "%%time\n",
        "df.target = df.target.apply(lambda x: decode_sentiment(x))"
      ],
      "execution_count": 63,
      "outputs": [
        {
          "output_type": "stream",
          "text": [
            "CPU times: user 386 ms, sys: 13 ms, total: 399 ms\n",
            "Wall time: 404 ms\n"
          ],
          "name": "stdout"
        }
      ]
    },
    {
      "cell_type": "code",
      "metadata": {
        "id": "Hd70wgTV07cw",
        "colab_type": "code",
        "outputId": "51f6298c-4c6f-47ab-86ca-87da2987ea66",
        "colab": {
          "base_uri": "https://localhost:8080/",
          "height": 537
        }
      },
      "source": [
        "target_cnt = Counter(df.target)\n",
        "\n",
        "plt.figure(figsize=(16,8))\n",
        "plt.bar(target_cnt.keys(), target_cnt.values())\n",
        "plt.title(\"Dataset labels distribuition\")"
      ],
      "execution_count": 64,
      "outputs": [
        {
          "output_type": "execute_result",
          "data": {
            "text/plain": [
              "Text(0.5, 1.0, 'Dataset labels distribuition')"
            ]
          },
          "metadata": {
            "tags": []
          },
          "execution_count": 64
        },
        {
          "output_type": "display_data",
          "data": {
            "image/png": "[encoded data removed]",
            "text/plain": [
              "<Figure size 1152x576 with 1 Axes>"
            ]
          },
          "metadata": {
            "tags": []
          }
        }
      ]
    },
    {
      "cell_type": "code",
      "metadata": {
        "id": "Zl-y-EDP2Yri",
        "colab_type": "code",
        "colab": {}
      },
      "source": [
        "stop_words = stopwords.words(\"english\")\n",
        "stemmer = SnowballStemmer(\"english\")"
      ],
      "execution_count": 0,
      "outputs": []
    },
    {
      "cell_type": "code",
      "metadata": {
        "id": "IoVoKt8L2osA",
        "colab_type": "code",
        "colab": {}
      },
      "source": [
        "def preprocess(text, stem=False):\n",
        "    # Remove link,user and special characters\n",
        "    text = re.sub(TEXT_CLEANING_RE, ' ', str(text).lower()).strip()\n",
        "    tokens = []\n",
        "    for token in text.split():\n",
        "        if token not in stop_words:\n",
        "            if stem:\n",
        "                tokens.append(stemmer.stem(token))\n",
        "            else:\n",
        "                tokens.append(token)\n",
        "    return \" \".join(tokens)"
      ],
      "execution_count": 0,
      "outputs": []
    },
    {
      "cell_type": "code",
      "metadata": {
        "id": "rqvcoeLf2rc2",
        "colab_type": "code",
        "outputId": "7fdc4968-2623-4908-8ebb-45debb467003",
        "colab": {
          "base_uri": "https://localhost:8080/",
          "height": 52
        }
      },
      "source": [
        "%%time\n",
        "df.text = df.text.apply(lambda x: preprocess(x))"
      ],
      "execution_count": 67,
      "outputs": [
        {
          "output_type": "stream",
          "text": [
            "CPU times: user 31.4 s, sys: 152 ms, total: 31.6 s\n",
            "Wall time: 31.7 s\n"
          ],
          "name": "stdout"
        }
      ]
    },
    {
      "cell_type": "code",
      "metadata": {
        "id": "qRKGjmpD2vNe",
        "colab_type": "code",
        "outputId": "9fdad496-fd02-4744-b76b-411e8bae5a89",
        "colab": {
          "base_uri": "https://localhost:8080/",
          "height": 52
        }
      },
      "source": [
        "df_train, df_test = train_test_split(df, test_size=1-TRAIN_SIZE, random_state=42)\n",
        "print(\"TRAIN size:\", len(df_train))\n",
        "print(\"TEST size:\", len(df_test))"
      ],
      "execution_count": 68,
      "outputs": [
        {
          "output_type": "stream",
          "text": [
            "TRAIN size: 838860\n",
            "TEST size: 209716\n"
          ],
          "name": "stdout"
        }
      ]
    },
    {
      "cell_type": "code",
      "metadata": {
        "id": "EGIs-bbg2z-6",
        "colab_type": "code",
        "outputId": "02b1dfd5-15c2-4817-87a8-86b7e00753b8",
        "colab": {
          "base_uri": "https://localhost:8080/",
          "height": 52
        }
      },
      "source": [
        "%%time\n",
        "documents = [_text.split() for _text in df_train.text] "
      ],
      "execution_count": 69,
      "outputs": [
        {
          "output_type": "stream",
          "text": [
            "CPU times: user 1.88 s, sys: 399 ms, total: 2.27 s\n",
            "Wall time: 2.29 s\n"
          ],
          "name": "stdout"
        }
      ]
    },
    {
      "cell_type": "code",
      "metadata": {
        "id": "_cJskqqe2381",
        "colab_type": "code",
        "colab": {}
      },
      "source": [
        "w2v_model = gensim.models.word2vec.Word2Vec(size=W2V_SIZE, \n",
        "                                            window=W2V_WINDOW, \n",
        "                                            min_count=W2V_MIN_COUNT, \n",
        "                                            workers=8)"
      ],
      "execution_count": 0,
      "outputs": []
    },
    {
      "cell_type": "code",
      "metadata": {
        "id": "kIuA2-lw28Cq",
        "colab_type": "code",
        "outputId": "bbfe5eae-938e-4461-d1d1-d53525e58682",
        "colab": {
          "base_uri": "https://localhost:8080/",
          "height": 1000
        }
      },
      "source": [
        "w2v_model.build_vocab(documents)"
      ],
      "execution_count": 71,
      "outputs": [
        {
          "output_type": "stream",
          "text": [
            "2020-03-23 09:28:11,192 : INFO : collecting all words and their counts\n",
            "2020-03-23 09:28:11,194 : INFO : PROGRESS: at sentence #0, processed 0 words, keeping 0 word types\n",
            "2020-03-23 09:28:11,221 : INFO : PROGRESS: at sentence #10000, processed 73104 words, keeping 13623 word types\n",
            "2020-03-23 09:28:11,244 : INFO : PROGRESS: at sentence #20000, processed 146981 words, keeping 20993 word types\n",
            "2020-03-23 09:28:11,269 : INFO : PROGRESS: at sentence #30000, processed 219193 words, keeping 26962 word types\n",
            "2020-03-23 09:28:11,293 : INFO : PROGRESS: at sentence #40000, processed 292064 words, keeping 31950 word types\n",
            "2020-03-23 09:28:11,319 : INFO : PROGRESS: at sentence #50000, processed 365698 words, keeping 36559 word types\n",
            "2020-03-23 09:28:11,347 : INFO : PROGRESS: at sentence #60000, processed 439216 words, keeping 40946 word types\n",
            "2020-03-23 09:28:11,372 : INFO : PROGRESS: at sentence #70000, processed 511927 words, keeping 44983 word types\n",
            "2020-03-23 09:28:11,397 : INFO : PROGRESS: at sentence #80000, processed 584915 words, keeping 48864 word types\n",
            "2020-03-23 09:28:11,423 : INFO : PROGRESS: at sentence #90000, processed 657752 words, keeping 52569 word types\n",
            "2020-03-23 09:28:11,450 : INFO : PROGRESS: at sentence #100000, processed 730411 words, keeping 56110 word types\n",
            "2020-03-23 09:28:11,478 : INFO : PROGRESS: at sentence #110000, processed 803340 words, keeping 59628 word types\n",
            "2020-03-23 09:28:11,502 : INFO : PROGRESS: at sentence #120000, processed 875969 words, keeping 62736 word types\n",
            "2020-03-23 09:28:11,529 : INFO : PROGRESS: at sentence #130000, processed 948747 words, keeping 65847 word types\n",
            "2020-03-23 09:28:11,559 : INFO : PROGRESS: at sentence #140000, processed 1021583 words, keeping 68907 word types\n",
            "2020-03-23 09:28:11,588 : INFO : PROGRESS: at sentence #150000, processed 1094655 words, keeping 71796 word types\n",
            "2020-03-23 09:28:11,616 : INFO : PROGRESS: at sentence #160000, processed 1167469 words, keeping 74727 word types\n",
            "2020-03-23 09:28:11,644 : INFO : PROGRESS: at sentence #170000, processed 1240096 words, keeping 77507 word types\n",
            "2020-03-23 09:28:11,669 : INFO : PROGRESS: at sentence #180000, processed 1313232 words, keeping 80296 word types\n",
            "2020-03-23 09:28:11,695 : INFO : PROGRESS: at sentence #190000, processed 1386857 words, keeping 83110 word types\n",
            "2020-03-23 09:28:11,721 : INFO : PROGRESS: at sentence #200000, processed 1459949 words, keeping 85807 word types\n",
            "2020-03-23 09:28:11,750 : INFO : PROGRESS: at sentence #210000, processed 1531947 words, keeping 88358 word types\n",
            "2020-03-23 09:28:11,779 : INFO : PROGRESS: at sentence #220000, processed 1604555 words, keeping 90819 word types\n",
            "2020-03-23 09:28:11,805 : INFO : PROGRESS: at sentence #230000, processed 1677534 words, keeping 93316 word types\n",
            "2020-03-23 09:28:11,834 : INFO : PROGRESS: at sentence #240000, processed 1751295 words, keeping 95894 word types\n",
            "2020-03-23 09:28:11,861 : INFO : PROGRESS: at sentence #250000, processed 1823805 words, keeping 98379 word types\n",
            "2020-03-23 09:28:11,888 : INFO : PROGRESS: at sentence #260000, processed 1896752 words, keeping 100911 word types\n",
            "2020-03-23 09:28:11,918 : INFO : PROGRESS: at sentence #270000, processed 1969031 words, keeping 103348 word types\n",
            "2020-03-23 09:28:11,953 : INFO : PROGRESS: at sentence #280000, processed 2042191 words, keeping 105734 word types\n",
            "2020-03-23 09:28:11,982 : INFO : PROGRESS: at sentence #290000, processed 2114890 words, keeping 108063 word types\n",
            "2020-03-23 09:28:12,008 : INFO : PROGRESS: at sentence #300000, processed 2187390 words, keeping 110371 word types\n",
            "2020-03-23 09:28:12,034 : INFO : PROGRESS: at sentence #310000, processed 2260400 words, keeping 112561 word types\n",
            "2020-03-23 09:28:12,064 : INFO : PROGRESS: at sentence #320000, processed 2333277 words, keeping 114830 word types\n",
            "2020-03-23 09:28:12,090 : INFO : PROGRESS: at sentence #330000, processed 2406079 words, keeping 117120 word types\n",
            "2020-03-23 09:28:12,118 : INFO : PROGRESS: at sentence #340000, processed 2478102 words, keeping 119310 word types\n",
            "2020-03-23 09:28:12,145 : INFO : PROGRESS: at sentence #350000, processed 2550991 words, keeping 121373 word types\n",
            "2020-03-23 09:28:12,173 : INFO : PROGRESS: at sentence #360000, processed 2623391 words, keeping 123506 word types\n",
            "2020-03-23 09:28:12,200 : INFO : PROGRESS: at sentence #370000, processed 2696642 words, keeping 125622 word types\n",
            "2020-03-23 09:28:12,227 : INFO : PROGRESS: at sentence #380000, processed 2769419 words, keeping 127661 word types\n",
            "2020-03-23 09:28:12,258 : INFO : PROGRESS: at sentence #390000, processed 2843330 words, keeping 129844 word types\n",
            "2020-03-23 09:28:12,288 : INFO : PROGRESS: at sentence #400000, processed 2916451 words, keeping 131944 word types\n",
            "2020-03-23 09:28:12,315 : INFO : PROGRESS: at sentence #410000, processed 2989616 words, keeping 134059 word types\n",
            "2020-03-23 09:28:12,344 : INFO : PROGRESS: at sentence #420000, processed 3061991 words, keeping 136044 word types\n",
            "2020-03-23 09:28:12,372 : INFO : PROGRESS: at sentence #430000, processed 3135252 words, keeping 138082 word types\n",
            "2020-03-23 09:28:12,399 : INFO : PROGRESS: at sentence #440000, processed 3207412 words, keeping 140199 word types\n",
            "2020-03-23 09:28:12,428 : INFO : PROGRESS: at sentence #450000, processed 3280752 words, keeping 142160 word types\n",
            "2020-03-23 09:28:12,456 : INFO : PROGRESS: at sentence #460000, processed 3353324 words, keeping 144092 word types\n",
            "2020-03-23 09:28:12,481 : INFO : PROGRESS: at sentence #470000, processed 3426418 words, keeping 146061 word types\n",
            "2020-03-23 09:28:12,510 : INFO : PROGRESS: at sentence #480000, processed 3499026 words, keeping 147981 word types\n",
            "2020-03-23 09:28:12,538 : INFO : PROGRESS: at sentence #490000, processed 3571748 words, keeping 149894 word types\n",
            "2020-03-23 09:28:12,565 : INFO : PROGRESS: at sentence #500000, processed 3644886 words, keeping 151748 word types\n",
            "2020-03-23 09:28:12,592 : INFO : PROGRESS: at sentence #510000, processed 3717474 words, keeping 153692 word types\n",
            "2020-03-23 09:28:12,618 : INFO : PROGRESS: at sentence #520000, processed 3790468 words, keeping 155536 word types\n",
            "2020-03-23 09:28:12,645 : INFO : PROGRESS: at sentence #530000, processed 3863624 words, keeping 157382 word types\n",
            "2020-03-23 09:28:12,671 : INFO : PROGRESS: at sentence #540000, processed 3936303 words, keeping 159202 word types\n",
            "2020-03-23 09:28:12,697 : INFO : PROGRESS: at sentence #550000, processed 4008990 words, keeping 161117 word types\n",
            "2020-03-23 09:28:12,723 : INFO : PROGRESS: at sentence #560000, processed 4081833 words, keeping 162941 word types\n",
            "2020-03-23 09:28:12,749 : INFO : PROGRESS: at sentence #570000, processed 4155283 words, keeping 164786 word types\n",
            "2020-03-23 09:28:12,775 : INFO : PROGRESS: at sentence #580000, processed 4228226 words, keeping 166593 word types\n",
            "2020-03-23 09:28:12,804 : INFO : PROGRESS: at sentence #590000, processed 4301610 words, keeping 168418 word types\n",
            "2020-03-23 09:28:12,831 : INFO : PROGRESS: at sentence #600000, processed 4374559 words, keeping 170156 word types\n",
            "2020-03-23 09:28:12,859 : INFO : PROGRESS: at sentence #610000, processed 4448000 words, keeping 172015 word types\n",
            "2020-03-23 09:28:12,887 : INFO : PROGRESS: at sentence #620000, processed 4520378 words, keeping 173759 word types\n",
            "2020-03-23 09:28:12,920 : INFO : PROGRESS: at sentence #630000, processed 4593175 words, keeping 175468 word types\n",
            "2020-03-23 09:28:12,948 : INFO : PROGRESS: at sentence #640000, processed 4666254 words, keeping 177236 word types\n",
            "2020-03-23 09:28:12,976 : INFO : PROGRESS: at sentence #650000, processed 4739062 words, keeping 178978 word types\n",
            "2020-03-23 09:28:13,007 : INFO : PROGRESS: at sentence #660000, processed 4811768 words, keeping 180756 word types\n",
            "2020-03-23 09:28:13,038 : INFO : PROGRESS: at sentence #670000, processed 4884376 words, keeping 182481 word types\n",
            "2020-03-23 09:28:13,065 : INFO : PROGRESS: at sentence #680000, processed 4956078 words, keeping 184200 word types\n",
            "2020-03-23 09:28:13,092 : INFO : PROGRESS: at sentence #690000, processed 5028736 words, keeping 185893 word types\n",
            "2020-03-23 09:28:13,120 : INFO : PROGRESS: at sentence #700000, processed 5101256 words, keeping 187618 word types\n",
            "2020-03-23 09:28:13,150 : INFO : PROGRESS: at sentence #710000, processed 5174769 words, keeping 189393 word types\n",
            "2020-03-23 09:28:13,174 : INFO : PROGRESS: at sentence #720000, processed 5247317 words, keeping 191084 word types\n",
            "2020-03-23 09:28:13,204 : INFO : PROGRESS: at sentence #730000, processed 5320145 words, keeping 192784 word types\n",
            "2020-03-23 09:28:13,232 : INFO : PROGRESS: at sentence #740000, processed 5392872 words, keeping 194366 word types\n",
            "2020-03-23 09:28:13,259 : INFO : PROGRESS: at sentence #750000, processed 5465242 words, keeping 195907 word types\n",
            "2020-03-23 09:28:13,295 : INFO : PROGRESS: at sentence #760000, processed 5538386 words, keeping 197539 word types\n",
            "2020-03-23 09:28:13,325 : INFO : PROGRESS: at sentence #770000, processed 5610534 words, keeping 199207 word types\n",
            "2020-03-23 09:28:13,354 : INFO : PROGRESS: at sentence #780000, processed 5683279 words, keeping 200851 word types\n",
            "2020-03-23 09:28:13,382 : INFO : PROGRESS: at sentence #790000, processed 5755735 words, keeping 202541 word types\n",
            "2020-03-23 09:28:13,413 : INFO : PROGRESS: at sentence #800000, processed 5828327 words, keeping 204150 word types\n",
            "2020-03-23 09:28:13,444 : INFO : PROGRESS: at sentence #810000, processed 5902054 words, keeping 205737 word types\n",
            "2020-03-23 09:28:13,472 : INFO : PROGRESS: at sentence #820000, processed 5974889 words, keeping 207296 word types\n",
            "2020-03-23 09:28:13,497 : INFO : PROGRESS: at sentence #830000, processed 6047070 words, keeping 208814 word types\n",
            "2020-03-23 09:28:13,519 : INFO : collected 210155 word types from a corpus of 6110838 raw words and 838860 sentences\n",
            "2020-03-23 09:28:13,522 : INFO : Loading a fresh vocabulary\n",
            "2020-03-23 09:28:13,647 : INFO : effective_min_count=10 retains 23396 unique words (11% of original 210155, drops 186759)\n",
            "2020-03-23 09:28:13,648 : INFO : effective_min_count=10 leaves 5784967 word corpus (94% of original 6110838, drops 325871)\n",
            "2020-03-23 09:28:13,729 : INFO : deleting the raw counts dictionary of 210155 items\n",
            "2020-03-23 09:28:13,736 : INFO : sample=0.001 downsamples 46 most-common words\n",
            "2020-03-23 09:28:13,739 : INFO : downsampling leaves estimated 5399431 word corpus (93.3% of prior 5784967)\n",
            "2020-03-23 09:28:13,830 : INFO : estimated required memory for 23396 words and 300 dimensions: 67848400 bytes\n",
            "2020-03-23 09:28:13,831 : INFO : resetting layer weights\n"
          ],
          "name": "stderr"
        }
      ]
    },
    {
      "cell_type": "code",
      "metadata": {
        "id": "VU4fzFpA2-RQ",
        "colab_type": "code",
        "outputId": "48eb9ee8-4638-451b-954a-9889418d2181",
        "colab": {
          "base_uri": "https://localhost:8080/",
          "height": 35
        }
      },
      "source": [
        "words = w2v_model.wv.vocab.keys()\n",
        "vocab_size = len(words)\n",
        "print(\"Vocab size\", vocab_size)"
      ],
      "execution_count": 72,
      "outputs": [
        {
          "output_type": "stream",
          "text": [
            "Vocab size 23396\n"
          ],
          "name": "stdout"
        }
      ]
    },
    {
      "cell_type": "code",
      "metadata": {
        "id": "gCd6pZrv3Dt7",
        "colab_type": "code",
        "outputId": "ea2e5c2b-0a4a-42ab-ebb8-b59bc34baf77",
        "colab": {
          "base_uri": "https://localhost:8080/",
          "height": 1000
        }
      },
      "source": [
        "%%time\n",
        "w2v_model.train(documents, total_examples=len(documents), epochs=W2V_EPOCH)"
      ],
      "execution_count": 73,
      "outputs": [
        {
          "output_type": "stream",
          "text": [
            "2020-03-23 09:28:18,627 : INFO : training model with 8 workers on 23396 vocabulary and 300 features, using sg=0 hs=0 sample=0.001 negative=5 window=7\n",
            "2020-03-23 09:28:19,759 : INFO : EPOCH 1 - PROGRESS: at 5.87% examples, 284596 words/s, in_qsize 11, out_qsize 4\n",
            "2020-03-23 09:28:20,859 : INFO : EPOCH 1 - PROGRESS: at 13.21% examples, 322392 words/s, in_qsize 15, out_qsize 3\n",
            "2020-03-23 09:28:21,882 : INFO : EPOCH 1 - PROGRESS: at 20.09% examples, 336390 words/s, in_qsize 15, out_qsize 1\n",
            "2020-03-23 09:28:22,984 : INFO : EPOCH 1 - PROGRESS: at 27.44% examples, 341842 words/s, in_qsize 15, out_qsize 0\n",
            "2020-03-23 09:28:24,082 : INFO : EPOCH 1 - PROGRESS: at 34.14% examples, 339408 words/s, in_qsize 16, out_qsize 4\n",
            "2020-03-23 09:28:25,107 : INFO : EPOCH 1 - PROGRESS: at 41.20% examples, 344331 words/s, in_qsize 15, out_qsize 0\n",
            "2020-03-23 09:28:26,171 : INFO : EPOCH 1 - PROGRESS: at 47.72% examples, 342617 words/s, in_qsize 14, out_qsize 6\n",
            "2020-03-23 09:28:27,265 : INFO : EPOCH 1 - PROGRESS: at 55.08% examples, 345293 words/s, in_qsize 15, out_qsize 0\n",
            "2020-03-23 09:28:28,327 : INFO : EPOCH 1 - PROGRESS: at 62.12% examples, 346653 words/s, in_qsize 14, out_qsize 1\n",
            "2020-03-23 09:28:29,389 : INFO : EPOCH 1 - PROGRESS: at 68.65% examples, 345253 words/s, in_qsize 14, out_qsize 1\n",
            "2020-03-23 09:28:30,433 : INFO : EPOCH 1 - PROGRESS: at 75.51% examples, 346158 words/s, in_qsize 15, out_qsize 0\n",
            "2020-03-23 09:28:31,433 : INFO : EPOCH 1 - PROGRESS: at 81.74% examples, 345315 words/s, in_qsize 12, out_qsize 7\n",
            "2020-03-23 09:28:32,453 : INFO : EPOCH 1 - PROGRESS: at 88.46% examples, 346017 words/s, in_qsize 12, out_qsize 3\n",
            "2020-03-23 09:28:33,469 : INFO : EPOCH 1 - PROGRESS: at 95.51% examples, 347924 words/s, in_qsize 13, out_qsize 1\n",
            "2020-03-23 09:28:33,957 : INFO : worker thread finished; awaiting finish of 7 more threads\n",
            "2020-03-23 09:28:33,960 : INFO : worker thread finished; awaiting finish of 6 more threads\n",
            "2020-03-23 09:28:33,988 : INFO : worker thread finished; awaiting finish of 5 more threads\n",
            "2020-03-23 09:28:33,998 : INFO : worker thread finished; awaiting finish of 4 more threads\n",
            "2020-03-23 09:28:34,016 : INFO : worker thread finished; awaiting finish of 3 more threads\n",
            "2020-03-23 09:28:34,041 : INFO : worker thread finished; awaiting finish of 2 more threads\n",
            "2020-03-23 09:28:34,048 : INFO : worker thread finished; awaiting finish of 1 more threads\n",
            "2020-03-23 09:28:34,053 : INFO : worker thread finished; awaiting finish of 0 more threads\n",
            "2020-03-23 09:28:34,054 : INFO : EPOCH - 1 : training on 6110838 raw words (5400167 effective words) took 15.4s, 350391 effective words/s\n",
            "2020-03-23 09:28:35,160 : INFO : EPOCH 2 - PROGRESS: at 5.55% examples, 274578 words/s, in_qsize 10, out_qsize 5\n",
            "2020-03-23 09:28:36,178 : INFO : EPOCH 2 - PROGRESS: at 12.40% examples, 317678 words/s, in_qsize 16, out_qsize 0\n",
            "2020-03-23 09:28:37,230 : INFO : EPOCH 2 - PROGRESS: at 19.27% examples, 329264 words/s, in_qsize 15, out_qsize 0\n",
            "2020-03-23 09:28:38,238 : INFO : EPOCH 2 - PROGRESS: at 26.14% examples, 338704 words/s, in_qsize 14, out_qsize 1\n",
            "2020-03-23 09:28:39,244 : INFO : EPOCH 2 - PROGRESS: at 33.00% examples, 344481 words/s, in_qsize 12, out_qsize 1\n",
            "2020-03-23 09:28:40,275 : INFO : EPOCH 2 - PROGRESS: at 39.38% examples, 342771 words/s, in_qsize 16, out_qsize 4\n",
            "2020-03-23 09:28:41,294 : INFO : EPOCH 2 - PROGRESS: at 46.41% examples, 347062 words/s, in_qsize 14, out_qsize 1\n",
            "2020-03-23 09:28:42,388 : INFO : EPOCH 2 - PROGRESS: at 53.12% examples, 344920 words/s, in_qsize 12, out_qsize 3\n",
            "2020-03-23 09:28:43,395 : INFO : EPOCH 2 - PROGRESS: at 59.83% examples, 346495 words/s, in_qsize 15, out_qsize 1\n",
            "2020-03-23 09:28:44,453 : INFO : EPOCH 2 - PROGRESS: at 66.86% examples, 347767 words/s, in_qsize 16, out_qsize 1\n",
            "2020-03-23 09:28:45,474 : INFO : EPOCH 2 - PROGRESS: at 73.54% examples, 348352 words/s, in_qsize 13, out_qsize 1\n",
            "2020-03-23 09:28:46,487 : INFO : EPOCH 2 - PROGRESS: at 80.59% examples, 350525 words/s, in_qsize 15, out_qsize 0\n",
            "2020-03-23 09:28:47,499 : INFO : EPOCH 2 - PROGRESS: at 87.15% examples, 350533 words/s, in_qsize 15, out_qsize 1\n",
            "2020-03-23 09:28:48,537 : INFO : EPOCH 2 - PROGRESS: at 93.22% examples, 348289 words/s, in_qsize 16, out_qsize 4\n",
            "2020-03-23 09:28:49,294 : INFO : worker thread finished; awaiting finish of 7 more threads\n",
            "2020-03-23 09:28:49,307 : INFO : worker thread finished; awaiting finish of 6 more threads\n",
            "2020-03-23 09:28:49,312 : INFO : worker thread finished; awaiting finish of 5 more threads\n",
            "2020-03-23 09:28:49,314 : INFO : worker thread finished; awaiting finish of 4 more threads\n",
            "2020-03-23 09:28:49,324 : INFO : worker thread finished; awaiting finish of 3 more threads\n",
            "2020-03-23 09:28:49,336 : INFO : worker thread finished; awaiting finish of 2 more threads\n",
            "2020-03-23 09:28:49,354 : INFO : worker thread finished; awaiting finish of 1 more threads\n",
            "2020-03-23 09:28:49,372 : INFO : worker thread finished; awaiting finish of 0 more threads\n",
            "2020-03-23 09:28:49,373 : INFO : EPOCH - 2 : training on 6110838 raw words (5399224 effective words) took 15.3s, 352734 effective words/s\n",
            "2020-03-23 09:28:50,411 : INFO : EPOCH 3 - PROGRESS: at 6.03% examples, 318865 words/s, in_qsize 16, out_qsize 1\n",
            "2020-03-23 09:28:51,475 : INFO : EPOCH 3 - PROGRESS: at 12.89% examples, 333681 words/s, in_qsize 16, out_qsize 0\n",
            "2020-03-23 09:28:52,524 : INFO : EPOCH 3 - PROGRESS: at 20.09% examples, 346068 words/s, in_qsize 16, out_qsize 0\n",
            "2020-03-23 09:28:53,582 : INFO : EPOCH 3 - PROGRESS: at 26.96% examples, 347349 words/s, in_qsize 15, out_qsize 1\n",
            "2020-03-23 09:28:54,637 : INFO : EPOCH 3 - PROGRESS: at 33.98% examples, 349820 words/s, in_qsize 16, out_qsize 0\n",
            "2020-03-23 09:28:55,736 : INFO : EPOCH 3 - PROGRESS: at 41.04% examples, 349129 words/s, in_qsize 14, out_qsize 1\n",
            "2020-03-23 09:28:56,743 : INFO : EPOCH 3 - PROGRESS: at 47.72% examples, 350557 words/s, in_qsize 15, out_qsize 2\n",
            "2020-03-23 09:28:57,761 : INFO : EPOCH 3 - PROGRESS: at 54.59% examples, 352270 words/s, in_qsize 16, out_qsize 0\n",
            "2020-03-23 09:28:58,798 : INFO : EPOCH 3 - PROGRESS: at 61.13% examples, 351009 words/s, in_qsize 12, out_qsize 3\n",
            "2020-03-23 09:28:59,909 : INFO : EPOCH 3 - PROGRESS: at 68.48% examples, 351726 words/s, in_qsize 15, out_qsize 1\n",
            "2020-03-23 09:29:00,933 : INFO : EPOCH 3 - PROGRESS: at 75.99% examples, 355703 words/s, in_qsize 15, out_qsize 0\n",
            "2020-03-23 09:29:01,943 : INFO : EPOCH 3 - PROGRESS: at 81.91% examples, 352424 words/s, in_qsize 13, out_qsize 2\n",
            "2020-03-23 09:29:02,988 : INFO : EPOCH 3 - PROGRESS: at 89.61% examples, 355841 words/s, in_qsize 15, out_qsize 0\n",
            "2020-03-23 09:29:04,056 : INFO : EPOCH 3 - PROGRESS: at 96.32% examples, 354616 words/s, in_qsize 15, out_qsize 0\n",
            "2020-03-23 09:29:04,413 : INFO : worker thread finished; awaiting finish of 7 more threads\n",
            "2020-03-23 09:29:04,430 : INFO : worker thread finished; awaiting finish of 6 more threads\n",
            "2020-03-23 09:29:04,435 : INFO : worker thread finished; awaiting finish of 5 more threads\n",
            "2020-03-23 09:29:04,443 : INFO : worker thread finished; awaiting finish of 4 more threads\n",
            "2020-03-23 09:29:04,446 : INFO : worker thread finished; awaiting finish of 3 more threads\n",
            "2020-03-23 09:29:04,476 : INFO : worker thread finished; awaiting finish of 2 more threads\n",
            "2020-03-23 09:29:04,491 : INFO : worker thread finished; awaiting finish of 1 more threads\n",
            "2020-03-23 09:29:04,499 : INFO : worker thread finished; awaiting finish of 0 more threads\n",
            "2020-03-23 09:29:04,500 : INFO : EPOCH - 3 : training on 6110838 raw words (5399676 effective words) took 15.1s, 357266 effective words/s\n",
            "2020-03-23 09:29:05,563 : INFO : EPOCH 4 - PROGRESS: at 5.87% examples, 302431 words/s, in_qsize 12, out_qsize 3\n",
            "2020-03-23 09:29:06,587 : INFO : EPOCH 4 - PROGRESS: at 12.72% examples, 331567 words/s, in_qsize 15, out_qsize 0\n",
            "2020-03-23 09:29:07,648 : INFO : EPOCH 4 - PROGRESS: at 19.93% examples, 343385 words/s, in_qsize 16, out_qsize 0\n",
            "2020-03-23 09:29:08,660 : INFO : EPOCH 4 - PROGRESS: at 26.63% examples, 347036 words/s, in_qsize 15, out_qsize 0\n",
            "2020-03-23 09:29:09,723 : INFO : EPOCH 4 - PROGRESS: at 33.65% examples, 349036 words/s, in_qsize 16, out_qsize 0\n",
            "2020-03-23 09:29:10,775 : INFO : EPOCH 4 - PROGRESS: at 40.38% examples, 348244 words/s, in_qsize 15, out_qsize 0\n",
            "2020-03-23 09:29:11,785 : INFO : EPOCH 4 - PROGRESS: at 47.39% examples, 352134 words/s, in_qsize 16, out_qsize 0\n",
            "2020-03-23 09:29:12,844 : INFO : EPOCH 4 - PROGRESS: at 53.93% examples, 349780 words/s, in_qsize 14, out_qsize 1\n",
            "2020-03-23 09:29:13,854 : INFO : EPOCH 4 - PROGRESS: at 60.65% examples, 350706 words/s, in_qsize 16, out_qsize 0\n",
            "2020-03-23 09:29:14,890 : INFO : EPOCH 4 - PROGRESS: at 67.99% examples, 354017 words/s, in_qsize 15, out_qsize 0\n",
            "2020-03-23 09:29:15,934 : INFO : EPOCH 4 - PROGRESS: at 74.36% examples, 353124 words/s, in_qsize 14, out_qsize 7\n",
            "2020-03-23 09:29:16,973 : INFO : EPOCH 4 - PROGRESS: at 81.58% examples, 353664 words/s, in_qsize 16, out_qsize 1\n",
            "2020-03-23 09:29:17,980 : INFO : EPOCH 4 - PROGRESS: at 87.80% examples, 352098 words/s, in_qsize 12, out_qsize 5\n",
            "2020-03-23 09:29:18,989 : INFO : EPOCH 4 - PROGRESS: at 95.51% examples, 356235 words/s, in_qsize 14, out_qsize 1\n",
            "2020-03-23 09:29:19,503 : INFO : worker thread finished; awaiting finish of 7 more threads\n",
            "2020-03-23 09:29:19,512 : INFO : worker thread finished; awaiting finish of 6 more threads\n",
            "2020-03-23 09:29:19,533 : INFO : worker thread finished; awaiting finish of 5 more threads\n",
            "2020-03-23 09:29:19,554 : INFO : worker thread finished; awaiting finish of 4 more threads\n",
            "2020-03-23 09:29:19,570 : INFO : worker thread finished; awaiting finish of 3 more threads\n",
            "2020-03-23 09:29:19,579 : INFO : worker thread finished; awaiting finish of 2 more threads\n",
            "2020-03-23 09:29:19,582 : INFO : worker thread finished; awaiting finish of 1 more threads\n",
            "2020-03-23 09:29:19,593 : INFO : worker thread finished; awaiting finish of 0 more threads\n",
            "2020-03-23 09:29:19,594 : INFO : EPOCH - 4 : training on 6110838 raw words (5399001 effective words) took 15.1s, 357975 effective words/s\n",
            "2020-03-23 09:29:20,621 : INFO : EPOCH 5 - PROGRESS: at 6.52% examples, 349855 words/s, in_qsize 13, out_qsize 0\n",
            "2020-03-23 09:29:21,638 : INFO : EPOCH 5 - PROGRESS: at 12.56% examples, 335283 words/s, in_qsize 15, out_qsize 1\n",
            "2020-03-23 09:29:22,644 : INFO : EPOCH 5 - PROGRESS: at 20.09% examples, 358216 words/s, in_qsize 15, out_qsize 0\n",
            "2020-03-23 09:29:23,671 : INFO : EPOCH 5 - PROGRESS: at 26.96% examples, 359056 words/s, in_qsize 15, out_qsize 0\n",
            "2020-03-23 09:29:24,748 : INFO : EPOCH 5 - PROGRESS: at 33.49% examples, 352561 words/s, in_qsize 16, out_qsize 0\n",
            "2020-03-23 09:29:25,752 : INFO : EPOCH 5 - PROGRESS: at 40.05% examples, 352540 words/s, in_qsize 15, out_qsize 3\n",
            "2020-03-23 09:29:26,790 : INFO : EPOCH 5 - PROGRESS: at 47.07% examples, 354504 words/s, in_qsize 16, out_qsize 0\n",
            "2020-03-23 09:29:27,837 : INFO : EPOCH 5 - PROGRESS: at 53.95% examples, 354467 words/s, in_qsize 13, out_qsize 2\n",
            "2020-03-23 09:29:28,860 : INFO : EPOCH 5 - PROGRESS: at 61.13% examples, 357275 words/s, in_qsize 16, out_qsize 0\n",
            "2020-03-23 09:29:29,895 : INFO : EPOCH 5 - PROGRESS: at 67.19% examples, 353215 words/s, in_qsize 15, out_qsize 1\n",
            "2020-03-23 09:29:30,894 : INFO : EPOCH 5 - PROGRESS: at 73.71% examples, 353137 words/s, in_qsize 14, out_qsize 5\n",
            "2020-03-23 09:29:31,903 : INFO : EPOCH 5 - PROGRESS: at 80.26% examples, 352912 words/s, in_qsize 15, out_qsize 0\n",
            "2020-03-23 09:29:32,967 : INFO : EPOCH 5 - PROGRESS: at 87.47% examples, 353845 words/s, in_qsize 15, out_qsize 0\n",
            "2020-03-23 09:29:34,058 : INFO : EPOCH 5 - PROGRESS: at 95.03% examples, 355234 words/s, in_qsize 15, out_qsize 0\n",
            "2020-03-23 09:29:34,584 : INFO : worker thread finished; awaiting finish of 7 more threads\n",
            "2020-03-23 09:29:34,620 : INFO : worker thread finished; awaiting finish of 6 more threads\n",
            "2020-03-23 09:29:34,671 : INFO : worker thread finished; awaiting finish of 5 more threads\n",
            "2020-03-23 09:29:34,674 : INFO : worker thread finished; awaiting finish of 4 more threads\n",
            "2020-03-23 09:29:34,681 : INFO : worker thread finished; awaiting finish of 3 more threads\n",
            "2020-03-23 09:29:34,684 : INFO : worker thread finished; awaiting finish of 2 more threads\n",
            "2020-03-23 09:29:34,697 : INFO : worker thread finished; awaiting finish of 1 more threads\n",
            "2020-03-23 09:29:34,702 : INFO : worker thread finished; awaiting finish of 0 more threads\n",
            "2020-03-23 09:29:34,703 : INFO : EPOCH - 5 : training on 6110838 raw words (5400193 effective words) took 15.1s, 357834 effective words/s\n",
            "2020-03-23 09:29:35,737 : INFO : EPOCH 6 - PROGRESS: at 5.87% examples, 310143 words/s, in_qsize 14, out_qsize 1\n",
            "2020-03-23 09:29:36,748 : INFO : EPOCH 6 - PROGRESS: at 12.56% examples, 333713 words/s, in_qsize 15, out_qsize 0\n",
            "2020-03-23 09:29:37,839 : INFO : EPOCH 6 - PROGRESS: at 19.93% examples, 344462 words/s, in_qsize 14, out_qsize 1\n",
            "2020-03-23 09:29:38,872 : INFO : EPOCH 6 - PROGRESS: at 26.96% examples, 351644 words/s, in_qsize 14, out_qsize 0\n",
            "2020-03-23 09:29:40,031 : INFO : EPOCH 6 - PROGRESS: at 33.65% examples, 342150 words/s, in_qsize 11, out_qsize 7\n",
            "2020-03-23 09:29:41,070 : INFO : EPOCH 6 - PROGRESS: at 41.69% examples, 354339 words/s, in_qsize 15, out_qsize 0\n",
            "2020-03-23 09:29:42,085 : INFO : EPOCH 6 - PROGRESS: at 47.88% examples, 351081 words/s, in_qsize 13, out_qsize 3\n",
            "2020-03-23 09:29:43,107 : INFO : EPOCH 6 - PROGRESS: at 54.26% examples, 349391 words/s, in_qsize 15, out_qsize 2\n",
            "2020-03-23 09:29:44,121 : INFO : EPOCH 6 - PROGRESS: at 60.97% examples, 350244 words/s, in_qsize 15, out_qsize 0\n",
            "2020-03-23 09:29:45,135 : INFO : EPOCH 6 - PROGRESS: at 67.51% examples, 350082 words/s, in_qsize 15, out_qsize 0\n",
            "2020-03-23 09:29:46,219 : INFO : EPOCH 6 - PROGRESS: at 74.36% examples, 349317 words/s, in_qsize 16, out_qsize 1\n",
            "2020-03-23 09:29:47,277 : INFO : EPOCH 6 - PROGRESS: at 80.92% examples, 347998 words/s, in_qsize 16, out_qsize 2\n",
            "2020-03-23 09:29:48,284 : INFO : EPOCH 6 - PROGRESS: at 87.15% examples, 346854 words/s, in_qsize 13, out_qsize 2\n",
            "2020-03-23 09:29:49,461 : INFO : EPOCH 6 - PROGRESS: at 94.37% examples, 346783 words/s, in_qsize 15, out_qsize 4\n",
            "2020-03-23 09:29:50,027 : INFO : worker thread finished; awaiting finish of 7 more threads\n",
            "2020-03-23 09:29:50,040 : INFO : worker thread finished; awaiting finish of 6 more threads\n",
            "2020-03-23 09:29:50,058 : INFO : worker thread finished; awaiting finish of 5 more threads\n",
            "2020-03-23 09:29:50,078 : INFO : worker thread finished; awaiting finish of 4 more threads\n",
            "2020-03-23 09:29:50,084 : INFO : worker thread finished; awaiting finish of 3 more threads\n",
            "2020-03-23 09:29:50,102 : INFO : worker thread finished; awaiting finish of 2 more threads\n",
            "2020-03-23 09:29:50,105 : INFO : worker thread finished; awaiting finish of 1 more threads\n",
            "2020-03-23 09:29:50,109 : INFO : worker thread finished; awaiting finish of 0 more threads\n",
            "2020-03-23 09:29:50,110 : INFO : EPOCH - 6 : training on 6110838 raw words (5399561 effective words) took 15.4s, 350687 effective words/s\n",
            "2020-03-23 09:29:51,141 : INFO : EPOCH 7 - PROGRESS: at 5.39% examples, 287653 words/s, in_qsize 15, out_qsize 0\n",
            "2020-03-23 09:29:52,200 : INFO : EPOCH 7 - PROGRESS: at 12.56% examples, 327920 words/s, in_qsize 15, out_qsize 0\n",
            "2020-03-23 09:29:53,209 : INFO : EPOCH 7 - PROGRESS: at 19.11% examples, 335223 words/s, in_qsize 15, out_qsize 0\n",
            "2020-03-23 09:29:54,244 : INFO : EPOCH 7 - PROGRESS: at 25.81% examples, 339106 words/s, in_qsize 14, out_qsize 1\n",
            "2020-03-23 09:29:55,270 : INFO : EPOCH 7 - PROGRESS: at 32.35% examples, 340151 words/s, in_qsize 15, out_qsize 0\n",
            "2020-03-23 09:29:56,273 : INFO : EPOCH 7 - PROGRESS: at 38.89% examples, 342117 words/s, in_qsize 14, out_qsize 1\n",
            "2020-03-23 09:29:57,298 : INFO : EPOCH 7 - PROGRESS: at 45.77% examples, 345110 words/s, in_qsize 16, out_qsize 0\n",
            "2020-03-23 09:29:58,341 : INFO : EPOCH 7 - PROGRESS: at 52.47% examples, 345221 words/s, in_qsize 13, out_qsize 3\n",
            "2020-03-23 09:29:59,342 : INFO : EPOCH 7 - PROGRESS: at 59.50% examples, 348967 words/s, in_qsize 15, out_qsize 0\n",
            "2020-03-23 09:30:00,395 : INFO : EPOCH 7 - PROGRESS: at 66.05% examples, 347598 words/s, in_qsize 16, out_qsize 0\n",
            "2020-03-23 09:30:01,441 : INFO : EPOCH 7 - PROGRESS: at 72.88% examples, 348250 words/s, in_qsize 15, out_qsize 0\n",
            "2020-03-23 09:30:02,503 : INFO : EPOCH 7 - PROGRESS: at 78.62% examples, 343362 words/s, in_qsize 15, out_qsize 3\n",
            "2020-03-23 09:30:03,539 : INFO : EPOCH 7 - PROGRESS: at 85.18% examples, 343141 words/s, in_qsize 12, out_qsize 3\n",
            "2020-03-23 09:30:04,607 : INFO : EPOCH 7 - PROGRESS: at 92.24% examples, 344033 words/s, in_qsize 13, out_qsize 2\n",
            "2020-03-23 09:30:05,562 : INFO : worker thread finished; awaiting finish of 7 more threads\n",
            "2020-03-23 09:30:05,588 : INFO : worker thread finished; awaiting finish of 6 more threads\n",
            "2020-03-23 09:30:05,610 : INFO : EPOCH 7 - PROGRESS: at 99.17% examples, 345916 words/s, in_qsize 5, out_qsize 1\n",
            "2020-03-23 09:30:05,613 : INFO : worker thread finished; awaiting finish of 5 more threads\n",
            "2020-03-23 09:30:05,623 : INFO : worker thread finished; awaiting finish of 4 more threads\n",
            "2020-03-23 09:30:05,635 : INFO : worker thread finished; awaiting finish of 3 more threads\n",
            "2020-03-23 09:30:05,647 : INFO : worker thread finished; awaiting finish of 2 more threads\n",
            "2020-03-23 09:30:05,648 : INFO : worker thread finished; awaiting finish of 1 more threads\n",
            "2020-03-23 09:30:05,653 : INFO : worker thread finished; awaiting finish of 0 more threads\n",
            "2020-03-23 09:30:05,655 : INFO : EPOCH - 7 : training on 6110838 raw words (5399699 effective words) took 15.5s, 347761 effective words/s\n",
            "2020-03-23 09:30:06,675 : INFO : EPOCH 8 - PROGRESS: at 5.54% examples, 297733 words/s, in_qsize 15, out_qsize 0\n",
            "2020-03-23 09:30:07,733 : INFO : EPOCH 8 - PROGRESS: at 12.72% examples, 332991 words/s, in_qsize 15, out_qsize 0\n",
            "2020-03-23 09:30:08,762 : INFO : EPOCH 8 - PROGRESS: at 19.11% examples, 333669 words/s, in_qsize 16, out_qsize 0\n",
            "2020-03-23 09:30:09,791 : INFO : EPOCH 8 - PROGRESS: at 25.97% examples, 340496 words/s, in_qsize 16, out_qsize 1\n",
            "2020-03-23 09:30:10,825 : INFO : EPOCH 8 - PROGRESS: at 32.19% examples, 337752 words/s, in_qsize 13, out_qsize 3\n",
            "2020-03-23 09:30:11,821 : INFO : EPOCH 8 - PROGRESS: at 39.06% examples, 342992 words/s, in_qsize 15, out_qsize 0\n",
            "2020-03-23 09:30:12,891 : INFO : EPOCH 8 - PROGRESS: at 45.12% examples, 337439 words/s, in_qsize 15, out_qsize 0\n",
            "2020-03-23 09:30:13,893 : INFO : EPOCH 8 - PROGRESS: at 52.31% examples, 343522 words/s, in_qsize 16, out_qsize 0\n",
            "2020-03-23 09:30:14,900 : INFO : EPOCH 8 - PROGRESS: at 58.52% examples, 342446 words/s, in_qsize 15, out_qsize 0\n",
            "2020-03-23 09:30:15,907 : INFO : EPOCH 8 - PROGRESS: at 64.90% examples, 342425 words/s, in_qsize 15, out_qsize 0\n",
            "2020-03-23 09:30:16,913 : INFO : EPOCH 8 - PROGRESS: at 71.58% examples, 343963 words/s, in_qsize 14, out_qsize 0\n",
            "2020-03-23 09:30:18,030 : INFO : EPOCH 8 - PROGRESS: at 77.96% examples, 340752 words/s, in_qsize 15, out_qsize 0\n",
            "2020-03-23 09:30:19,050 : INFO : EPOCH 8 - PROGRESS: at 84.52% examples, 341178 words/s, in_qsize 15, out_qsize 0\n",
            "2020-03-23 09:30:20,135 : INFO : EPOCH 8 - PROGRESS: at 91.41% examples, 341230 words/s, in_qsize 15, out_qsize 0\n",
            "2020-03-23 09:30:21,230 : INFO : EPOCH 8 - PROGRESS: at 98.29% examples, 341043 words/s, in_qsize 10, out_qsize 1\n",
            "2020-03-23 09:30:21,265 : INFO : worker thread finished; awaiting finish of 7 more threads\n",
            "2020-03-23 09:30:21,271 : INFO : worker thread finished; awaiting finish of 6 more threads\n",
            "2020-03-23 09:30:21,272 : INFO : worker thread finished; awaiting finish of 5 more threads\n",
            "2020-03-23 09:30:21,278 : INFO : worker thread finished; awaiting finish of 4 more threads\n",
            "2020-03-23 09:30:21,300 : INFO : worker thread finished; awaiting finish of 3 more threads\n",
            "2020-03-23 09:30:21,327 : INFO : worker thread finished; awaiting finish of 2 more threads\n",
            "2020-03-23 09:30:21,346 : INFO : worker thread finished; awaiting finish of 1 more threads\n",
            "2020-03-23 09:30:21,352 : INFO : worker thread finished; awaiting finish of 0 more threads\n",
            "2020-03-23 09:30:21,354 : INFO : EPOCH - 8 : training on 6110838 raw words (5399184 effective words) took 15.7s, 344191 effective words/s\n",
            "2020-03-23 09:30:22,510 : INFO : EPOCH 9 - PROGRESS: at 6.35% examples, 301100 words/s, in_qsize 16, out_qsize 0\n",
            "2020-03-23 09:30:23,515 : INFO : EPOCH 9 - PROGRESS: at 13.05% examples, 328533 words/s, in_qsize 15, out_qsize 2\n",
            "2020-03-23 09:30:24,520 : INFO : EPOCH 9 - PROGRESS: at 19.76% examples, 338610 words/s, in_qsize 15, out_qsize 0\n",
            "2020-03-23 09:30:25,574 : INFO : EPOCH 9 - PROGRESS: at 26.30% examples, 337827 words/s, in_qsize 16, out_qsize 0\n",
            "2020-03-23 09:30:26,648 : INFO : EPOCH 9 - PROGRESS: at 32.67% examples, 334377 words/s, in_qsize 12, out_qsize 7\n",
            "2020-03-23 09:30:27,709 : INFO : EPOCH 9 - PROGRESS: at 40.37% examples, 343893 words/s, in_qsize 15, out_qsize 0\n",
            "2020-03-23 09:30:28,731 : INFO : EPOCH 9 - PROGRESS: at 47.07% examples, 345345 words/s, in_qsize 15, out_qsize 0\n",
            "2020-03-23 09:30:29,829 : INFO : EPOCH 9 - PROGRESS: at 53.94% examples, 344373 words/s, in_qsize 15, out_qsize 0\n",
            "2020-03-23 09:30:30,833 : INFO : EPOCH 9 - PROGRESS: at 60.48% examples, 345173 words/s, in_qsize 15, out_qsize 0\n",
            "2020-03-23 09:30:31,868 : INFO : EPOCH 9 - PROGRESS: at 67.51% examples, 347328 words/s, in_qsize 15, out_qsize 0\n",
            "2020-03-23 09:30:32,881 : INFO : EPOCH 9 - PROGRESS: at 74.36% examples, 349208 words/s, in_qsize 13, out_qsize 0\n",
            "2020-03-23 09:30:33,876 : INFO : EPOCH 9 - PROGRESS: at 80.10% examples, 345921 words/s, in_qsize 15, out_qsize 5\n",
            "2020-03-23 09:30:34,880 : INFO : EPOCH 9 - PROGRESS: at 87.31% examples, 348957 words/s, in_qsize 15, out_qsize 0\n",
            "2020-03-23 09:30:35,923 : INFO : EPOCH 9 - PROGRESS: at 94.37% examples, 350044 words/s, in_qsize 15, out_qsize 0\n",
            "2020-03-23 09:30:36,565 : INFO : worker thread finished; awaiting finish of 7 more threads\n",
            "2020-03-23 09:30:36,578 : INFO : worker thread finished; awaiting finish of 6 more threads\n",
            "2020-03-23 09:30:36,579 : INFO : worker thread finished; awaiting finish of 5 more threads\n",
            "2020-03-23 09:30:36,580 : INFO : worker thread finished; awaiting finish of 4 more threads\n",
            "2020-03-23 09:30:36,583 : INFO : worker thread finished; awaiting finish of 3 more threads\n",
            "2020-03-23 09:30:36,613 : INFO : worker thread finished; awaiting finish of 2 more threads\n",
            "2020-03-23 09:30:36,623 : INFO : worker thread finished; awaiting finish of 1 more threads\n",
            "2020-03-23 09:30:36,644 : INFO : worker thread finished; awaiting finish of 0 more threads\n",
            "2020-03-23 09:30:36,645 : INFO : EPOCH - 9 : training on 6110838 raw words (5399594 effective words) took 15.3s, 353380 effective words/s\n",
            "2020-03-23 09:30:37,667 : INFO : EPOCH 10 - PROGRESS: at 6.03% examples, 323613 words/s, in_qsize 15, out_qsize 0\n",
            "2020-03-23 09:30:38,687 : INFO : EPOCH 10 - PROGRESS: at 12.89% examples, 343358 words/s, in_qsize 16, out_qsize 0\n",
            "2020-03-23 09:30:39,690 : INFO : EPOCH 10 - PROGRESS: at 19.93% examples, 355082 words/s, in_qsize 15, out_qsize 0\n",
            "2020-03-23 09:30:40,701 : INFO : EPOCH 10 - PROGRESS: at 26.30% examples, 351587 words/s, in_qsize 15, out_qsize 0\n",
            "2020-03-23 09:30:41,735 : INFO : EPOCH 10 - PROGRESS: at 33.00% examples, 351314 words/s, in_qsize 15, out_qsize 0\n",
            "2020-03-23 09:30:42,735 : INFO : EPOCH 10 - PROGRESS: at 39.22% examples, 348689 words/s, in_qsize 14, out_qsize 1\n",
            "2020-03-23 09:30:43,820 : INFO : EPOCH 10 - PROGRESS: at 46.25% examples, 348971 words/s, in_qsize 15, out_qsize 0\n",
            "2020-03-23 09:30:44,825 : INFO : EPOCH 10 - PROGRESS: at 52.30% examples, 345954 words/s, in_qsize 13, out_qsize 5\n",
            "2020-03-23 09:30:45,861 : INFO : EPOCH 10 - PROGRESS: at 59.50% examples, 349240 words/s, in_qsize 15, out_qsize 0\n",
            "2020-03-23 09:30:46,878 : INFO : EPOCH 10 - PROGRESS: at 65.88% examples, 348208 words/s, in_qsize 15, out_qsize 0\n",
            "2020-03-23 09:30:47,898 : INFO : EPOCH 10 - PROGRESS: at 72.55% examples, 348781 words/s, in_qsize 15, out_qsize 0\n",
            "2020-03-23 09:30:48,922 : INFO : EPOCH 10 - PROGRESS: at 78.45% examples, 345586 words/s, in_qsize 10, out_qsize 5\n",
            "2020-03-23 09:30:49,947 : INFO : EPOCH 10 - PROGRESS: at 85.67% examples, 348557 words/s, in_qsize 15, out_qsize 1\n",
            "2020-03-23 09:30:50,952 : INFO : EPOCH 10 - PROGRESS: at 92.40% examples, 348990 words/s, in_qsize 15, out_qsize 0\n",
            "2020-03-23 09:30:52,005 : INFO : EPOCH 10 - PROGRESS: at 98.84% examples, 347700 words/s, in_qsize 7, out_qsize 0\n",
            "2020-03-23 09:30:52,011 : INFO : worker thread finished; awaiting finish of 7 more threads\n",
            "2020-03-23 09:30:52,013 : INFO : worker thread finished; awaiting finish of 6 more threads\n",
            "2020-03-23 09:30:52,018 : INFO : worker thread finished; awaiting finish of 5 more threads\n",
            "2020-03-23 09:30:52,020 : INFO : worker thread finished; awaiting finish of 4 more threads\n",
            "2020-03-23 09:30:52,029 : INFO : worker thread finished; awaiting finish of 3 more threads\n",
            "2020-03-23 09:30:52,045 : INFO : worker thread finished; awaiting finish of 2 more threads\n",
            "2020-03-23 09:30:52,056 : INFO : worker thread finished; awaiting finish of 1 more threads\n",
            "2020-03-23 09:30:52,061 : INFO : worker thread finished; awaiting finish of 0 more threads\n",
            "2020-03-23 09:30:52,062 : INFO : EPOCH - 10 : training on 6110838 raw words (5398424 effective words) took 15.4s, 350437 effective words/s\n",
            "2020-03-23 09:30:53,093 : INFO : EPOCH 11 - PROGRESS: at 6.03% examples, 322329 words/s, in_qsize 14, out_qsize 1\n",
            "2020-03-23 09:30:54,152 : INFO : EPOCH 11 - PROGRESS: at 12.40% examples, 323490 words/s, in_qsize 13, out_qsize 2\n",
            "2020-03-23 09:30:55,225 : INFO : EPOCH 11 - PROGRESS: at 19.27% examples, 332568 words/s, in_qsize 15, out_qsize 2\n",
            "2020-03-23 09:30:56,219 : INFO : EPOCH 11 - PROGRESS: at 25.81% examples, 337061 words/s, in_qsize 15, out_qsize 0\n",
            "2020-03-23 09:30:57,220 : INFO : EPOCH 11 - PROGRESS: at 31.86% examples, 334937 words/s, in_qsize 15, out_qsize 7\n",
            "2020-03-23 09:30:58,333 : INFO : EPOCH 11 - PROGRESS: at 39.39% examples, 340305 words/s, in_qsize 15, out_qsize 0\n",
            "2020-03-23 09:30:59,369 : INFO : EPOCH 11 - PROGRESS: at 45.78% examples, 339266 words/s, in_qsize 14, out_qsize 1\n",
            "2020-03-23 09:31:00,468 : INFO : EPOCH 11 - PROGRESS: at 52.96% examples, 342550 words/s, in_qsize 15, out_qsize 0\n",
            "2020-03-23 09:31:01,489 : INFO : EPOCH 11 - PROGRESS: at 59.50% examples, 341675 words/s, in_qsize 14, out_qsize 1\n",
            "2020-03-23 09:31:02,490 : INFO : EPOCH 11 - PROGRESS: at 65.88% examples, 341920 words/s, in_qsize 16, out_qsize 3\n",
            "2020-03-23 09:31:03,613 : INFO : EPOCH 11 - PROGRESS: at 72.88% examples, 341504 words/s, in_qsize 12, out_qsize 3\n",
            "2020-03-23 09:31:04,669 : INFO : EPOCH 11 - PROGRESS: at 79.43% examples, 340955 words/s, in_qsize 14, out_qsize 3\n",
            "2020-03-23 09:31:05,670 : INFO : EPOCH 11 - PROGRESS: at 86.49% examples, 343737 words/s, in_qsize 15, out_qsize 0\n",
            "2020-03-23 09:31:06,678 : INFO : EPOCH 11 - PROGRESS: at 92.72% examples, 342996 words/s, in_qsize 16, out_qsize 0\n",
            "2020-03-23 09:31:07,607 : INFO : worker thread finished; awaiting finish of 7 more threads\n",
            "2020-03-23 09:31:07,621 : INFO : worker thread finished; awaiting finish of 6 more threads\n",
            "2020-03-23 09:31:07,624 : INFO : worker thread finished; awaiting finish of 5 more threads\n",
            "2020-03-23 09:31:07,628 : INFO : worker thread finished; awaiting finish of 4 more threads\n",
            "2020-03-23 09:31:07,638 : INFO : worker thread finished; awaiting finish of 3 more threads\n",
            "2020-03-23 09:31:07,669 : INFO : worker thread finished; awaiting finish of 2 more threads\n",
            "2020-03-23 09:31:07,672 : INFO : worker thread finished; awaiting finish of 1 more threads\n",
            "2020-03-23 09:31:07,693 : INFO : EPOCH 11 - PROGRESS: at 100.00% examples, 345798 words/s, in_qsize 0, out_qsize 1\n",
            "2020-03-23 09:31:07,694 : INFO : worker thread finished; awaiting finish of 0 more threads\n",
            "2020-03-23 09:31:07,695 : INFO : EPOCH - 11 : training on 6110838 raw words (5398985 effective words) took 15.6s, 345750 effective words/s\n",
            "2020-03-23 09:31:08,749 : INFO : EPOCH 12 - PROGRESS: at 5.39% examples, 280026 words/s, in_qsize 15, out_qsize 7\n",
            "2020-03-23 09:31:09,784 : INFO : EPOCH 12 - PROGRESS: at 12.40% examples, 323067 words/s, in_qsize 15, out_qsize 2\n",
            "2020-03-23 09:31:10,788 : INFO : EPOCH 12 - PROGRESS: at 19.27% examples, 338245 words/s, in_qsize 16, out_qsize 0\n",
            "2020-03-23 09:31:11,815 : INFO : EPOCH 12 - PROGRESS: at 26.30% examples, 346213 words/s, in_qsize 16, out_qsize 0\n",
            "2020-03-23 09:31:12,895 : INFO : EPOCH 12 - PROGRESS: at 33.16% examples, 345630 words/s, in_qsize 15, out_qsize 0\n",
            "2020-03-23 09:31:13,912 : INFO : EPOCH 12 - PROGRESS: at 39.55% examples, 344498 words/s, in_qsize 15, out_qsize 0\n",
            "2020-03-23 09:31:14,924 : INFO : EPOCH 12 - PROGRESS: at 45.61% examples, 341515 words/s, in_qsize 13, out_qsize 2\n",
            "2020-03-23 09:31:15,978 : INFO : EPOCH 12 - PROGRESS: at 52.30% examples, 341720 words/s, in_qsize 15, out_qsize 0\n",
            "2020-03-23 09:31:17,026 : INFO : EPOCH 12 - PROGRESS: at 58.35% examples, 338342 words/s, in_qsize 14, out_qsize 3\n",
            "2020-03-23 09:31:18,067 : INFO : EPOCH 12 - PROGRESS: at 65.39% examples, 341010 words/s, in_qsize 16, out_qsize 0\n",
            "2020-03-23 09:31:19,106 : INFO : EPOCH 12 - PROGRESS: at 71.42% examples, 338614 words/s, in_qsize 11, out_qsize 3\n",
            "2020-03-23 09:31:20,132 : INFO : EPOCH 12 - PROGRESS: at 77.47% examples, 336960 words/s, in_qsize 14, out_qsize 1\n",
            "2020-03-23 09:31:21,186 : INFO : EPOCH 12 - PROGRESS: at 84.36% examples, 338782 words/s, in_qsize 15, out_qsize 2\n",
            "2020-03-23 09:31:22,184 : INFO : EPOCH 12 - PROGRESS: at 90.75% examples, 338578 words/s, in_qsize 14, out_qsize 1\n",
            "2020-03-23 09:31:23,215 : INFO : EPOCH 12 - PROGRESS: at 97.79% examples, 340562 words/s, in_qsize 14, out_qsize 0\n",
            "2020-03-23 09:31:23,392 : INFO : worker thread finished; awaiting finish of 7 more threads\n",
            "2020-03-23 09:31:23,405 : INFO : worker thread finished; awaiting finish of 6 more threads\n",
            "2020-03-23 09:31:23,422 : INFO : worker thread finished; awaiting finish of 5 more threads\n",
            "2020-03-23 09:31:23,457 : INFO : worker thread finished; awaiting finish of 4 more threads\n",
            "2020-03-23 09:31:23,478 : INFO : worker thread finished; awaiting finish of 3 more threads\n",
            "2020-03-23 09:31:23,506 : INFO : worker thread finished; awaiting finish of 2 more threads\n",
            "2020-03-23 09:31:23,517 : INFO : worker thread finished; awaiting finish of 1 more threads\n",
            "2020-03-23 09:31:23,522 : INFO : worker thread finished; awaiting finish of 0 more threads\n",
            "2020-03-23 09:31:23,524 : INFO : EPOCH - 12 : training on 6110838 raw words (5398922 effective words) took 15.8s, 341360 effective words/s\n",
            "2020-03-23 09:31:24,538 : INFO : EPOCH 13 - PROGRESS: at 5.70% examples, 308395 words/s, in_qsize 15, out_qsize 0\n",
            "2020-03-23 09:31:25,584 : INFO : EPOCH 13 - PROGRESS: at 12.07% examples, 318845 words/s, in_qsize 12, out_qsize 3\n",
            "2020-03-23 09:31:26,610 : INFO : EPOCH 13 - PROGRESS: at 18.94% examples, 333229 words/s, in_qsize 15, out_qsize 1\n",
            "2020-03-23 09:31:27,632 : INFO : EPOCH 13 - PROGRESS: at 25.65% examples, 338579 words/s, in_qsize 13, out_qsize 2\n",
            "2020-03-23 09:31:28,652 : INFO : EPOCH 13 - PROGRESS: at 32.68% examples, 345321 words/s, in_qsize 15, out_qsize 0\n",
            "2020-03-23 09:31:29,674 : INFO : EPOCH 13 - PROGRESS: at 39.55% examples, 348275 words/s, in_qsize 16, out_qsize 0\n",
            "2020-03-23 09:31:30,736 : INFO : EPOCH 13 - PROGRESS: at 45.45% examples, 341074 words/s, in_qsize 13, out_qsize 5\n",
            "2020-03-23 09:31:31,773 : INFO : EPOCH 13 - PROGRESS: at 52.47% examples, 344243 words/s, in_qsize 14, out_qsize 1\n",
            "2020-03-23 09:31:32,776 : INFO : EPOCH 13 - PROGRESS: at 59.01% examples, 345089 words/s, in_qsize 15, out_qsize 0\n",
            "2020-03-23 09:31:33,834 : INFO : EPOCH 13 - PROGRESS: at 65.55% examples, 344672 words/s, in_qsize 15, out_qsize 1\n",
            "2020-03-23 09:31:34,828 : INFO : EPOCH 13 - PROGRESS: at 72.06% examples, 344955 words/s, in_qsize 15, out_qsize 0\n",
            "2020-03-23 09:31:35,837 : INFO : EPOCH 13 - PROGRESS: at 78.77% examples, 346129 words/s, in_qsize 14, out_qsize 1\n",
            "2020-03-23 09:31:36,852 : INFO : EPOCH 13 - PROGRESS: at 84.68% examples, 343568 words/s, in_qsize 16, out_qsize 2\n",
            "2020-03-23 09:31:37,855 : INFO : EPOCH 13 - PROGRESS: at 90.92% examples, 342979 words/s, in_qsize 15, out_qsize 0\n",
            "2020-03-23 09:31:38,866 : INFO : EPOCH 13 - PROGRESS: at 97.79% examples, 344549 words/s, in_qsize 13, out_qsize 0\n",
            "2020-03-23 09:31:39,018 : INFO : worker thread finished; awaiting finish of 7 more threads\n",
            "2020-03-23 09:31:39,060 : INFO : worker thread finished; awaiting finish of 6 more threads\n",
            "2020-03-23 09:31:39,070 : INFO : worker thread finished; awaiting finish of 5 more threads\n",
            "2020-03-23 09:31:39,083 : INFO : worker thread finished; awaiting finish of 4 more threads\n",
            "2020-03-23 09:31:39,088 : INFO : worker thread finished; awaiting finish of 3 more threads\n",
            "2020-03-23 09:31:39,091 : INFO : worker thread finished; awaiting finish of 2 more threads\n",
            "2020-03-23 09:31:39,098 : INFO : worker thread finished; awaiting finish of 1 more threads\n",
            "2020-03-23 09:31:39,110 : INFO : worker thread finished; awaiting finish of 0 more threads\n",
            "2020-03-23 09:31:39,111 : INFO : EPOCH - 13 : training on 6110838 raw words (5399868 effective words) took 15.6s, 346705 effective words/s\n",
            "2020-03-23 09:31:40,160 : INFO : EPOCH 14 - PROGRESS: at 5.87% examples, 307061 words/s, in_qsize 14, out_qsize 0\n",
            "2020-03-23 09:31:41,179 : INFO : EPOCH 14 - PROGRESS: at 12.40% examples, 326596 words/s, in_qsize 16, out_qsize 0\n",
            "2020-03-23 09:31:42,191 : INFO : EPOCH 14 - PROGRESS: at 18.45% examples, 325459 words/s, in_qsize 15, out_qsize 6\n",
            "2020-03-23 09:31:43,277 : INFO : EPOCH 14 - PROGRESS: at 25.65% examples, 333984 words/s, in_qsize 15, out_qsize 3\n",
            "2020-03-23 09:31:44,302 : INFO : EPOCH 14 - PROGRESS: at 32.84% examples, 342904 words/s, in_qsize 16, out_qsize 0\n",
            "2020-03-23 09:31:45,360 : INFO : EPOCH 14 - PROGRESS: at 39.22% examples, 342549 words/s, in_qsize 15, out_qsize 3\n",
            "2020-03-23 09:31:46,348 : INFO : EPOCH 14 - PROGRESS: at 45.93% examples, 343651 words/s, in_qsize 14, out_qsize 1\n",
            "2020-03-23 09:31:47,348 : INFO : EPOCH 14 - PROGRESS: at 52.30% examples, 343701 words/s, in_qsize 16, out_qsize 2\n",
            "2020-03-23 09:31:48,375 : INFO : EPOCH 14 - PROGRESS: at 59.01% examples, 344720 words/s, in_qsize 15, out_qsize 2\n",
            "2020-03-23 09:31:49,424 : INFO : EPOCH 14 - PROGRESS: at 66.37% examples, 348171 words/s, in_qsize 15, out_qsize 0\n",
            "2020-03-23 09:31:50,436 : INFO : EPOCH 14 - PROGRESS: at 72.72% examples, 347463 words/s, in_qsize 16, out_qsize 1\n",
            "2020-03-23 09:31:51,447 : INFO : EPOCH 14 - PROGRESS: at 79.60% examples, 349067 words/s, in_qsize 15, out_qsize 0\n",
            "2020-03-23 09:31:52,497 : INFO : EPOCH 14 - PROGRESS: at 86.82% examples, 350676 words/s, in_qsize 16, out_qsize 0\n",
            "2020-03-23 09:31:53,545 : INFO : EPOCH 14 - PROGRESS: at 93.55% examples, 350298 words/s, in_qsize 15, out_qsize 0\n",
            "2020-03-23 09:31:54,305 : INFO : worker thread finished; awaiting finish of 7 more threads\n",
            "2020-03-23 09:31:54,311 : INFO : worker thread finished; awaiting finish of 6 more threads\n",
            "2020-03-23 09:31:54,312 : INFO : worker thread finished; awaiting finish of 5 more threads\n",
            "2020-03-23 09:31:54,318 : INFO : worker thread finished; awaiting finish of 4 more threads\n",
            "2020-03-23 09:31:54,347 : INFO : worker thread finished; awaiting finish of 3 more threads\n",
            "2020-03-23 09:31:54,362 : INFO : worker thread finished; awaiting finish of 2 more threads\n",
            "2020-03-23 09:31:54,368 : INFO : worker thread finished; awaiting finish of 1 more threads\n",
            "2020-03-23 09:31:54,374 : INFO : worker thread finished; awaiting finish of 0 more threads\n",
            "2020-03-23 09:31:54,375 : INFO : EPOCH - 14 : training on 6110838 raw words (5398828 effective words) took 15.3s, 354018 effective words/s\n",
            "2020-03-23 09:31:55,414 : INFO : EPOCH 15 - PROGRESS: at 5.71% examples, 301190 words/s, in_qsize 12, out_qsize 3\n",
            "2020-03-23 09:31:56,415 : INFO : EPOCH 15 - PROGRESS: at 12.89% examples, 344067 words/s, in_qsize 15, out_qsize 0\n",
            "2020-03-23 09:31:57,420 : INFO : EPOCH 15 - PROGRESS: at 19.76% examples, 352369 words/s, in_qsize 15, out_qsize 0\n",
            "2020-03-23 09:31:58,486 : INFO : EPOCH 15 - PROGRESS: at 26.14% examples, 344892 words/s, in_qsize 14, out_qsize 2\n",
            "2020-03-23 09:31:59,552 : INFO : EPOCH 15 - PROGRESS: at 33.16% examples, 347245 words/s, in_qsize 14, out_qsize 1\n",
            "2020-03-23 09:32:00,649 : INFO : EPOCH 15 - PROGRESS: at 40.37% examples, 348477 words/s, in_qsize 15, out_qsize 0\n",
            "2020-03-23 09:32:01,661 : INFO : EPOCH 15 - PROGRESS: at 46.74% examples, 347365 words/s, in_qsize 14, out_qsize 4\n",
            "2020-03-23 09:32:02,692 : INFO : EPOCH 15 - PROGRESS: at 53.77% examples, 349977 words/s, in_qsize 14, out_qsize 1\n",
            "2020-03-23 09:32:03,697 : INFO : EPOCH 15 - PROGRESS: at 61.13% examples, 355047 words/s, in_qsize 14, out_qsize 0\n",
            "2020-03-23 09:32:04,702 : INFO : EPOCH 15 - PROGRESS: at 67.83% examples, 355434 words/s, in_qsize 15, out_qsize 0\n",
            "2020-03-23 09:32:05,715 : INFO : EPOCH 15 - PROGRESS: at 74.69% examples, 356396 words/s, in_qsize 16, out_qsize 0\n",
            "2020-03-23 09:32:06,838 : INFO : EPOCH 15 - PROGRESS: at 81.09% examples, 351905 words/s, in_qsize 11, out_qsize 4\n",
            "2020-03-23 09:32:07,851 : INFO : EPOCH 15 - PROGRESS: at 88.46% examples, 354919 words/s, in_qsize 12, out_qsize 2\n",
            "2020-03-23 09:32:08,876 : INFO : EPOCH 15 - PROGRESS: at 95.19% examples, 355122 words/s, in_qsize 15, out_qsize 2\n",
            "2020-03-23 09:32:09,390 : INFO : worker thread finished; awaiting finish of 7 more threads\n",
            "2020-03-23 09:32:09,395 : INFO : worker thread finished; awaiting finish of 6 more threads\n",
            "2020-03-23 09:32:09,426 : INFO : worker thread finished; awaiting finish of 5 more threads\n",
            "2020-03-23 09:32:09,432 : INFO : worker thread finished; awaiting finish of 4 more threads\n",
            "2020-03-23 09:32:09,453 : INFO : worker thread finished; awaiting finish of 3 more threads\n",
            "2020-03-23 09:32:09,463 : INFO : worker thread finished; awaiting finish of 2 more threads\n",
            "2020-03-23 09:32:09,469 : INFO : worker thread finished; awaiting finish of 1 more threads\n",
            "2020-03-23 09:32:09,480 : INFO : worker thread finished; awaiting finish of 0 more threads\n",
            "2020-03-23 09:32:09,481 : INFO : EPOCH - 15 : training on 6110838 raw words (5400018 effective words) took 15.1s, 357766 effective words/s\n",
            "2020-03-23 09:32:10,504 : INFO : EPOCH 16 - PROGRESS: at 5.71% examples, 306854 words/s, in_qsize 12, out_qsize 3\n",
            "2020-03-23 09:32:11,517 : INFO : EPOCH 16 - PROGRESS: at 11.91% examples, 318867 words/s, in_qsize 13, out_qsize 4\n",
            "2020-03-23 09:32:12,530 : INFO : EPOCH 16 - PROGRESS: at 19.60% examples, 349342 words/s, in_qsize 15, out_qsize 0\n",
            "2020-03-23 09:32:13,535 : INFO : EPOCH 16 - PROGRESS: at 25.49% examples, 341310 words/s, in_qsize 11, out_qsize 4\n",
            "2020-03-23 09:32:14,604 : INFO : EPOCH 16 - PROGRESS: at 32.35% examples, 342488 words/s, in_qsize 10, out_qsize 5\n",
            "2020-03-23 09:32:15,627 : INFO : EPOCH 16 - PROGRESS: at 39.88% examples, 351688 words/s, in_qsize 15, out_qsize 0\n",
            "2020-03-23 09:32:16,673 : INFO : EPOCH 16 - PROGRESS: at 46.58% examples, 350909 words/s, in_qsize 15, out_qsize 0\n",
            "2020-03-23 09:32:17,687 : INFO : EPOCH 16 - PROGRESS: at 52.63% examples, 347325 words/s, in_qsize 15, out_qsize 3\n",
            "2020-03-23 09:32:18,738 : INFO : EPOCH 16 - PROGRESS: at 59.99% examples, 350839 words/s, in_qsize 15, out_qsize 0\n",
            "2020-03-23 09:32:19,742 : INFO : EPOCH 16 - PROGRESS: at 66.86% examples, 352650 words/s, in_qsize 16, out_qsize 0\n",
            "2020-03-23 09:32:20,750 : INFO : EPOCH 16 - PROGRESS: at 73.87% examples, 354790 words/s, in_qsize 15, out_qsize 0\n",
            "2020-03-23 09:32:21,754 : INFO : EPOCH 16 - PROGRESS: at 79.76% examples, 351688 words/s, in_qsize 15, out_qsize 0\n",
            "2020-03-23 09:32:22,791 : INFO : EPOCH 16 - PROGRESS: at 86.49% examples, 351439 words/s, in_qsize 14, out_qsize 1\n",
            "2020-03-23 09:32:23,827 : INFO : EPOCH 16 - PROGRESS: at 93.55% examples, 352555 words/s, in_qsize 14, out_qsize 1\n",
            "2020-03-23 09:32:24,599 : INFO : worker thread finished; awaiting finish of 7 more threads\n",
            "2020-03-23 09:32:24,607 : INFO : worker thread finished; awaiting finish of 6 more threads\n",
            "2020-03-23 09:32:24,611 : INFO : worker thread finished; awaiting finish of 5 more threads\n",
            "2020-03-23 09:32:24,614 : INFO : worker thread finished; awaiting finish of 4 more threads\n",
            "2020-03-23 09:32:24,630 : INFO : worker thread finished; awaiting finish of 3 more threads\n",
            "2020-03-23 09:32:24,656 : INFO : worker thread finished; awaiting finish of 2 more threads\n",
            "2020-03-23 09:32:24,669 : INFO : worker thread finished; awaiting finish of 1 more threads\n",
            "2020-03-23 09:32:24,680 : INFO : worker thread finished; awaiting finish of 0 more threads\n",
            "2020-03-23 09:32:24,681 : INFO : EPOCH - 16 : training on 6110838 raw words (5399992 effective words) took 15.2s, 355625 effective words/s\n",
            "2020-03-23 09:32:25,699 : INFO : EPOCH 17 - PROGRESS: at 5.70% examples, 307813 words/s, in_qsize 15, out_qsize 0\n",
            "2020-03-23 09:32:26,723 : INFO : EPOCH 17 - PROGRESS: at 12.89% examples, 343685 words/s, in_qsize 15, out_qsize 0\n",
            "2020-03-23 09:32:27,814 : INFO : EPOCH 17 - PROGRESS: at 19.44% examples, 336724 words/s, in_qsize 16, out_qsize 0\n",
            "2020-03-23 09:32:28,828 : INFO : EPOCH 17 - PROGRESS: at 26.14% examples, 341850 words/s, in_qsize 16, out_qsize 0\n",
            "2020-03-23 09:32:29,872 : INFO : EPOCH 17 - PROGRESS: at 32.68% examples, 341184 words/s, in_qsize 15, out_qsize 0\n",
            "2020-03-23 09:32:30,917 : INFO : EPOCH 17 - PROGRESS: at 39.38% examples, 342047 words/s, in_qsize 13, out_qsize 2\n",
            "2020-03-23 09:32:31,927 : INFO : EPOCH 17 - PROGRESS: at 46.09% examples, 344388 words/s, in_qsize 15, out_qsize 4\n",
            "2020-03-23 09:32:32,982 : INFO : EPOCH 17 - PROGRESS: at 53.28% examples, 347454 words/s, in_qsize 13, out_qsize 2\n",
            "2020-03-23 09:32:34,009 : INFO : EPOCH 17 - PROGRESS: at 59.99% examples, 348003 words/s, in_qsize 14, out_qsize 1\n",
            "2020-03-23 09:32:35,034 : INFO : EPOCH 17 - PROGRESS: at 66.70% examples, 348542 words/s, in_qsize 10, out_qsize 5\n",
            "2020-03-23 09:32:36,082 : INFO : EPOCH 17 - PROGRESS: at 74.03% examples, 351379 words/s, in_qsize 15, out_qsize 0\n",
            "2020-03-23 09:32:37,098 : INFO : EPOCH 17 - PROGRESS: at 81.09% examples, 353224 words/s, in_qsize 15, out_qsize 0\n",
            "2020-03-23 09:32:38,099 : INFO : EPOCH 17 - PROGRESS: at 87.48% examples, 352517 words/s, in_qsize 16, out_qsize 0\n",
            "2020-03-23 09:32:39,117 : INFO : EPOCH 17 - PROGRESS: at 94.53% examples, 353982 words/s, in_qsize 15, out_qsize 0\n",
            "2020-03-23 09:32:39,746 : INFO : worker thread finished; awaiting finish of 7 more threads\n",
            "2020-03-23 09:32:39,748 : INFO : worker thread finished; awaiting finish of 6 more threads\n",
            "2020-03-23 09:32:39,761 : INFO : worker thread finished; awaiting finish of 5 more threads\n",
            "2020-03-23 09:32:39,773 : INFO : worker thread finished; awaiting finish of 4 more threads\n",
            "2020-03-23 09:32:39,784 : INFO : worker thread finished; awaiting finish of 3 more threads\n",
            "2020-03-23 09:32:39,809 : INFO : worker thread finished; awaiting finish of 2 more threads\n",
            "2020-03-23 09:32:39,819 : INFO : worker thread finished; awaiting finish of 1 more threads\n",
            "2020-03-23 09:32:39,821 : INFO : worker thread finished; awaiting finish of 0 more threads\n",
            "2020-03-23 09:32:39,822 : INFO : EPOCH - 17 : training on 6110838 raw words (5399619 effective words) took 15.1s, 356953 effective words/s\n",
            "2020-03-23 09:32:40,848 : INFO : EPOCH 18 - PROGRESS: at 5.87% examples, 314759 words/s, in_qsize 15, out_qsize 0\n",
            "2020-03-23 09:32:41,866 : INFO : EPOCH 18 - PROGRESS: at 12.72% examples, 339352 words/s, in_qsize 15, out_qsize 0\n",
            "2020-03-23 09:32:42,891 : INFO : EPOCH 18 - PROGRESS: at 19.93% examples, 352794 words/s, in_qsize 15, out_qsize 0\n",
            "2020-03-23 09:32:43,924 : INFO : EPOCH 18 - PROGRESS: at 26.80% examples, 354484 words/s, in_qsize 16, out_qsize 0\n",
            "2020-03-23 09:32:44,997 : INFO : EPOCH 18 - PROGRESS: at 34.14% examples, 357806 words/s, in_qsize 15, out_qsize 1\n",
            "2020-03-23 09:32:46,003 : INFO : EPOCH 18 - PROGRESS: at 41.04% examples, 359585 words/s, in_qsize 15, out_qsize 0\n",
            "2020-03-23 09:32:47,018 : INFO : EPOCH 18 - PROGRESS: at 48.05% examples, 361657 words/s, in_qsize 15, out_qsize 0\n",
            "2020-03-23 09:32:48,020 : INFO : EPOCH 18 - PROGRESS: at 55.08% examples, 363775 words/s, in_qsize 15, out_qsize 0\n",
            "2020-03-23 09:32:49,103 : INFO : EPOCH 18 - PROGRESS: at 61.62% examples, 359382 words/s, in_qsize 14, out_qsize 1\n",
            "2020-03-23 09:32:50,144 : INFO : EPOCH 18 - PROGRESS: at 68.81% examples, 360785 words/s, in_qsize 15, out_qsize 0\n",
            "2020-03-23 09:32:51,158 : INFO : EPOCH 18 - PROGRESS: at 75.83% examples, 362034 words/s, in_qsize 15, out_qsize 0\n",
            "2020-03-23 09:32:52,222 : INFO : EPOCH 18 - PROGRESS: at 82.89% examples, 362519 words/s, in_qsize 15, out_qsize 3\n",
            "2020-03-23 09:32:53,193 : INFO : EPOCH 18 - PROGRESS: at 89.94% examples, 363713 words/s, in_qsize 16, out_qsize 4\n",
            "2020-03-23 09:32:54,216 : INFO : EPOCH 18 - PROGRESS: at 96.82% examples, 363639 words/s, in_qsize 15, out_qsize 1\n",
            "2020-03-23 09:32:54,490 : INFO : worker thread finished; awaiting finish of 7 more threads\n",
            "2020-03-23 09:32:54,499 : INFO : worker thread finished; awaiting finish of 6 more threads\n",
            "2020-03-23 09:32:54,535 : INFO : worker thread finished; awaiting finish of 5 more threads\n",
            "2020-03-23 09:32:54,537 : INFO : worker thread finished; awaiting finish of 4 more threads\n",
            "2020-03-23 09:32:54,541 : INFO : worker thread finished; awaiting finish of 3 more threads\n",
            "2020-03-23 09:32:54,562 : INFO : worker thread finished; awaiting finish of 2 more threads\n",
            "2020-03-23 09:32:54,567 : INFO : worker thread finished; awaiting finish of 1 more threads\n",
            "2020-03-23 09:32:54,569 : INFO : worker thread finished; awaiting finish of 0 more threads\n",
            "2020-03-23 09:32:54,570 : INFO : EPOCH - 18 : training on 6110838 raw words (5399490 effective words) took 14.7s, 366498 effective words/s\n",
            "2020-03-23 09:32:55,602 : INFO : EPOCH 19 - PROGRESS: at 6.03% examples, 320382 words/s, in_qsize 14, out_qsize 1\n",
            "2020-03-23 09:32:56,644 : INFO : EPOCH 19 - PROGRESS: at 13.22% examples, 346744 words/s, in_qsize 15, out_qsize 0\n",
            "2020-03-23 09:32:57,663 : INFO : EPOCH 19 - PROGRESS: at 19.76% examples, 346807 words/s, in_qsize 13, out_qsize 1\n",
            "2020-03-23 09:32:58,710 : INFO : EPOCH 19 - PROGRESS: at 26.79% examples, 351007 words/s, in_qsize 15, out_qsize 0\n",
            "2020-03-23 09:32:59,727 : INFO : EPOCH 19 - PROGRESS: at 33.99% examples, 357094 words/s, in_qsize 15, out_qsize 0\n",
            "2020-03-23 09:33:00,732 : INFO : EPOCH 19 - PROGRESS: at 40.87% examples, 359083 words/s, in_qsize 15, out_qsize 0\n",
            "2020-03-23 09:33:01,781 : INFO : EPOCH 19 - PROGRESS: at 47.23% examples, 354580 words/s, in_qsize 11, out_qsize 4\n",
            "2020-03-23 09:33:02,821 : INFO : EPOCH 19 - PROGRESS: at 54.42% examples, 356942 words/s, in_qsize 15, out_qsize 0\n",
            "2020-03-23 09:33:03,836 : INFO : EPOCH 19 - PROGRESS: at 61.30% examples, 357906 words/s, in_qsize 16, out_qsize 1\n",
            "2020-03-23 09:33:04,841 : INFO : EPOCH 19 - PROGRESS: at 67.83% examples, 357269 words/s, in_qsize 14, out_qsize 1\n",
            "2020-03-23 09:33:05,950 : INFO : EPOCH 19 - PROGRESS: at 75.18% examples, 357369 words/s, in_qsize 15, out_qsize 0\n",
            "2020-03-23 09:33:06,954 : INFO : EPOCH 19 - PROGRESS: at 82.40% examples, 359787 words/s, in_qsize 16, out_qsize 0\n",
            "2020-03-23 09:33:07,957 : INFO : EPOCH 19 - PROGRESS: at 89.12% examples, 359878 words/s, in_qsize 15, out_qsize 0\n",
            "2020-03-23 09:33:08,961 : INFO : EPOCH 19 - PROGRESS: at 95.67% examples, 359317 words/s, in_qsize 15, out_qsize 0\n",
            "2020-03-23 09:33:09,406 : INFO : worker thread finished; awaiting finish of 7 more threads\n",
            "2020-03-23 09:33:09,415 : INFO : worker thread finished; awaiting finish of 6 more threads\n",
            "2020-03-23 09:33:09,432 : INFO : worker thread finished; awaiting finish of 5 more threads\n",
            "2020-03-23 09:33:09,433 : INFO : worker thread finished; awaiting finish of 4 more threads\n",
            "2020-03-23 09:33:09,455 : INFO : worker thread finished; awaiting finish of 3 more threads\n",
            "2020-03-23 09:33:09,474 : INFO : worker thread finished; awaiting finish of 2 more threads\n",
            "2020-03-23 09:33:09,481 : INFO : worker thread finished; awaiting finish of 1 more threads\n",
            "2020-03-23 09:33:09,487 : INFO : worker thread finished; awaiting finish of 0 more threads\n",
            "2020-03-23 09:33:09,488 : INFO : EPOCH - 19 : training on 6110838 raw words (5399303 effective words) took 14.9s, 362247 effective words/s\n",
            "2020-03-23 09:33:10,538 : INFO : EPOCH 20 - PROGRESS: at 5.55% examples, 289697 words/s, in_qsize 15, out_qsize 2\n",
            "2020-03-23 09:33:11,547 : INFO : EPOCH 20 - PROGRESS: at 13.05% examples, 345012 words/s, in_qsize 14, out_qsize 1\n",
            "2020-03-23 09:33:12,630 : INFO : EPOCH 20 - PROGRESS: at 19.93% examples, 344304 words/s, in_qsize 13, out_qsize 2\n",
            "2020-03-23 09:33:13,688 : INFO : EPOCH 20 - PROGRESS: at 26.80% examples, 348552 words/s, in_qsize 16, out_qsize 4\n",
            "2020-03-23 09:33:14,725 : INFO : EPOCH 20 - PROGRESS: at 34.31% examples, 356801 words/s, in_qsize 14, out_qsize 2\n",
            "2020-03-23 09:33:15,744 : INFO : EPOCH 20 - PROGRESS: at 41.69% examples, 360875 words/s, in_qsize 14, out_qsize 1\n",
            "2020-03-23 09:33:16,796 : INFO : EPOCH 20 - PROGRESS: at 48.21% examples, 357256 words/s, in_qsize 15, out_qsize 0\n",
            "2020-03-23 09:33:17,808 : INFO : EPOCH 20 - PROGRESS: at 55.08% examples, 358416 words/s, in_qsize 16, out_qsize 0\n",
            "2020-03-23 09:33:18,934 : INFO : EPOCH 20 - PROGRESS: at 61.95% examples, 354963 words/s, in_qsize 15, out_qsize 4\n",
            "2020-03-23 09:33:19,957 : INFO : EPOCH 20 - PROGRESS: at 69.46% examples, 359068 words/s, in_qsize 14, out_qsize 1\n",
            "2020-03-23 09:33:20,996 : INFO : EPOCH 20 - PROGRESS: at 76.00% examples, 357355 words/s, in_qsize 14, out_qsize 1\n",
            "2020-03-23 09:33:22,068 : INFO : EPOCH 20 - PROGRESS: at 82.73% examples, 355834 words/s, in_qsize 16, out_qsize 3\n",
            "2020-03-23 09:33:23,074 : INFO : EPOCH 20 - PROGRESS: at 89.44% examples, 355967 words/s, in_qsize 14, out_qsize 2\n",
            "2020-03-23 09:33:24,132 : INFO : EPOCH 20 - PROGRESS: at 96.65% examples, 356791 words/s, in_qsize 15, out_qsize 0\n",
            "2020-03-23 09:33:24,400 : INFO : worker thread finished; awaiting finish of 7 more threads\n",
            "2020-03-23 09:33:24,412 : INFO : worker thread finished; awaiting finish of 6 more threads\n",
            "2020-03-23 09:33:24,452 : INFO : worker thread finished; awaiting finish of 5 more threads\n",
            "2020-03-23 09:33:24,461 : INFO : worker thread finished; awaiting finish of 4 more threads\n",
            "2020-03-23 09:33:24,501 : INFO : worker thread finished; awaiting finish of 3 more threads\n",
            "2020-03-23 09:33:24,512 : INFO : worker thread finished; awaiting finish of 2 more threads\n",
            "2020-03-23 09:33:24,515 : INFO : worker thread finished; awaiting finish of 1 more threads\n",
            "2020-03-23 09:33:24,517 : INFO : worker thread finished; awaiting finish of 0 more threads\n",
            "2020-03-23 09:33:24,519 : INFO : EPOCH - 20 : training on 6110838 raw words (5399726 effective words) took 15.0s, 359570 effective words/s\n",
            "2020-03-23 09:33:25,562 : INFO : EPOCH 21 - PROGRESS: at 5.71% examples, 300645 words/s, in_qsize 15, out_qsize 0\n",
            "2020-03-23 09:33:26,629 : INFO : EPOCH 21 - PROGRESS: at 12.40% examples, 323588 words/s, in_qsize 14, out_qsize 5\n",
            "2020-03-23 09:33:27,630 : INFO : EPOCH 21 - PROGRESS: at 19.27% examples, 336557 words/s, in_qsize 16, out_qsize 2\n",
            "2020-03-23 09:33:28,647 : INFO : EPOCH 21 - PROGRESS: at 25.81% examples, 339274 words/s, in_qsize 13, out_qsize 2\n",
            "2020-03-23 09:33:29,660 : INFO : EPOCH 21 - PROGRESS: at 32.84% examples, 346324 words/s, in_qsize 14, out_qsize 0\n",
            "2020-03-23 09:33:30,682 : INFO : EPOCH 21 - PROGRESS: at 39.55% examples, 347685 words/s, in_qsize 15, out_qsize 0\n",
            "2020-03-23 09:33:31,713 : INFO : EPOCH 21 - PROGRESS: at 45.61% examples, 343301 words/s, in_qsize 15, out_qsize 0\n",
            "2020-03-23 09:33:32,732 : INFO : EPOCH 21 - PROGRESS: at 52.30% examples, 344736 words/s, in_qsize 15, out_qsize 0\n",
            "2020-03-23 09:33:33,819 : INFO : EPOCH 21 - PROGRESS: at 59.34% examples, 345308 words/s, in_qsize 15, out_qsize 1\n",
            "2020-03-23 09:33:34,849 : INFO : EPOCH 21 - PROGRESS: at 66.70% examples, 349318 words/s, in_qsize 15, out_qsize 0\n",
            "2020-03-23 09:33:35,876 : INFO : EPOCH 21 - PROGRESS: at 72.55% examples, 345731 words/s, in_qsize 13, out_qsize 3\n",
            "2020-03-23 09:33:36,937 : INFO : EPOCH 21 - PROGRESS: at 79.76% examples, 347484 words/s, in_qsize 14, out_qsize 1\n",
            "2020-03-23 09:33:38,000 : INFO : EPOCH 21 - PROGRESS: at 86.50% examples, 347366 words/s, in_qsize 13, out_qsize 4\n",
            "2020-03-23 09:33:39,082 : INFO : EPOCH 21 - PROGRESS: at 93.72% examples, 348256 words/s, in_qsize 15, out_qsize 2\n",
            "2020-03-23 09:33:39,779 : INFO : worker thread finished; awaiting finish of 7 more threads\n",
            "2020-03-23 09:33:39,783 : INFO : worker thread finished; awaiting finish of 6 more threads\n",
            "2020-03-23 09:33:39,820 : INFO : worker thread finished; awaiting finish of 5 more threads\n",
            "2020-03-23 09:33:39,832 : INFO : worker thread finished; awaiting finish of 4 more threads\n",
            "2020-03-23 09:33:39,834 : INFO : worker thread finished; awaiting finish of 3 more threads\n",
            "2020-03-23 09:33:39,850 : INFO : worker thread finished; awaiting finish of 2 more threads\n",
            "2020-03-23 09:33:39,866 : INFO : worker thread finished; awaiting finish of 1 more threads\n",
            "2020-03-23 09:33:39,870 : INFO : worker thread finished; awaiting finish of 0 more threads\n",
            "2020-03-23 09:33:39,871 : INFO : EPOCH - 21 : training on 6110838 raw words (5398993 effective words) took 15.3s, 351993 effective words/s\n",
            "2020-03-23 09:33:41,009 : INFO : EPOCH 22 - PROGRESS: at 5.70% examples, 289425 words/s, in_qsize 16, out_qsize 6\n",
            "2020-03-23 09:33:42,010 : INFO : EPOCH 22 - PROGRESS: at 13.22% examples, 336362 words/s, in_qsize 16, out_qsize 0\n",
            "2020-03-23 09:33:43,019 : INFO : EPOCH 22 - PROGRESS: at 19.43% examples, 335112 words/s, in_qsize 16, out_qsize 3\n",
            "2020-03-23 09:33:44,071 : INFO : EPOCH 22 - PROGRESS: at 26.63% examples, 343874 words/s, in_qsize 15, out_qsize 0\n",
            "2020-03-23 09:33:45,086 : INFO : EPOCH 22 - PROGRESS: at 33.33% examples, 346345 words/s, in_qsize 13, out_qsize 3\n",
            "2020-03-23 09:33:46,226 : INFO : EPOCH 22 - PROGRESS: at 40.70% examples, 346782 words/s, in_qsize 12, out_qsize 3\n",
            "2020-03-23 09:33:47,238 : INFO : EPOCH 22 - PROGRESS: at 47.72% examples, 350734 words/s, in_qsize 15, out_qsize 0\n",
            "2020-03-23 09:33:48,341 : INFO : EPOCH 22 - PROGRESS: at 54.59% examples, 348852 words/s, in_qsize 15, out_qsize 0\n",
            "2020-03-23 09:33:49,368 : INFO : EPOCH 22 - PROGRESS: at 61.63% examples, 351128 words/s, in_qsize 15, out_qsize 0\n",
            "2020-03-23 09:33:50,425 : INFO : EPOCH 22 - PROGRESS: at 68.64% examples, 351947 words/s, in_qsize 15, out_qsize 0\n",
            "2020-03-23 09:33:51,440 : INFO : EPOCH 22 - PROGRESS: at 75.02% examples, 350841 words/s, in_qsize 14, out_qsize 1\n",
            "2020-03-23 09:33:52,506 : INFO : EPOCH 22 - PROGRESS: at 82.41% examples, 352676 words/s, in_qsize 15, out_qsize 0\n",
            "2020-03-23 09:33:53,507 : INFO : EPOCH 22 - PROGRESS: at 89.44% examples, 354636 words/s, in_qsize 13, out_qsize 0\n",
            "2020-03-23 09:33:54,551 : INFO : EPOCH 22 - PROGRESS: at 96.00% examples, 353475 words/s, in_qsize 14, out_qsize 1\n",
            "2020-03-23 09:33:54,903 : INFO : worker thread finished; awaiting finish of 7 more threads\n",
            "2020-03-23 09:33:54,917 : INFO : worker thread finished; awaiting finish of 6 more threads\n",
            "2020-03-23 09:33:54,962 : INFO : worker thread finished; awaiting finish of 5 more threads\n",
            "2020-03-23 09:33:54,991 : INFO : worker thread finished; awaiting finish of 4 more threads\n",
            "2020-03-23 09:33:55,004 : INFO : worker thread finished; awaiting finish of 3 more threads\n",
            "2020-03-23 09:33:55,020 : INFO : worker thread finished; awaiting finish of 2 more threads\n",
            "2020-03-23 09:33:55,028 : INFO : worker thread finished; awaiting finish of 1 more threads\n",
            "2020-03-23 09:33:55,032 : INFO : worker thread finished; awaiting finish of 0 more threads\n",
            "2020-03-23 09:33:55,033 : INFO : EPOCH - 22 : training on 6110838 raw words (5399612 effective words) took 15.1s, 356449 effective words/s\n",
            "2020-03-23 09:33:56,158 : INFO : EPOCH 23 - PROGRESS: at 6.19% examples, 301795 words/s, in_qsize 14, out_qsize 1\n",
            "2020-03-23 09:33:57,206 : INFO : EPOCH 23 - PROGRESS: at 13.38% examples, 335150 words/s, in_qsize 15, out_qsize 0\n",
            "2020-03-23 09:33:58,208 : INFO : EPOCH 23 - PROGRESS: at 20.42% examples, 349127 words/s, in_qsize 15, out_qsize 0\n",
            "2020-03-23 09:33:59,287 : INFO : EPOCH 23 - PROGRESS: at 27.12% examples, 345786 words/s, in_qsize 15, out_qsize 0\n",
            "2020-03-23 09:34:00,349 : INFO : EPOCH 23 - PROGRESS: at 34.15% examples, 348120 words/s, in_qsize 15, out_qsize 0\n",
            "2020-03-23 09:34:01,400 : INFO : EPOCH 23 - PROGRESS: at 41.53% examples, 354143 words/s, in_qsize 15, out_qsize 0\n",
            "2020-03-23 09:34:02,411 : INFO : EPOCH 23 - PROGRESS: at 47.72% examples, 350206 words/s, in_qsize 15, out_qsize 0\n",
            "2020-03-23 09:34:03,424 : INFO : EPOCH 23 - PROGRESS: at 54.26% examples, 350319 words/s, in_qsize 15, out_qsize 2\n",
            "2020-03-23 09:34:04,468 : INFO : EPOCH 23 - PROGRESS: at 61.14% examples, 350591 words/s, in_qsize 12, out_qsize 3\n",
            "2020-03-23 09:34:05,478 : INFO : EPOCH 23 - PROGRESS: at 68.64% examples, 355600 words/s, in_qsize 14, out_qsize 0\n",
            "2020-03-23 09:34:06,483 : INFO : EPOCH 23 - PROGRESS: at 75.02% examples, 354466 words/s, in_qsize 13, out_qsize 1\n",
            "2020-03-23 09:34:07,500 : INFO : EPOCH 23 - PROGRESS: at 81.42% examples, 353180 words/s, in_qsize 15, out_qsize 0\n",
            "2020-03-23 09:34:08,504 : INFO : EPOCH 23 - PROGRESS: at 88.13% examples, 353723 words/s, in_qsize 14, out_qsize 1\n",
            "2020-03-23 09:34:09,640 : INFO : EPOCH 23 - PROGRESS: at 95.67% examples, 354111 words/s, in_qsize 15, out_qsize 1\n",
            "2020-03-23 09:34:10,101 : INFO : worker thread finished; awaiting finish of 7 more threads\n",
            "2020-03-23 09:34:10,115 : INFO : worker thread finished; awaiting finish of 6 more threads\n",
            "2020-03-23 09:34:10,130 : INFO : worker thread finished; awaiting finish of 5 more threads\n",
            "2020-03-23 09:34:10,149 : INFO : worker thread finished; awaiting finish of 4 more threads\n",
            "2020-03-23 09:34:10,159 : INFO : worker thread finished; awaiting finish of 3 more threads\n",
            "2020-03-23 09:34:10,171 : INFO : worker thread finished; awaiting finish of 2 more threads\n",
            "2020-03-23 09:34:10,184 : INFO : worker thread finished; awaiting finish of 1 more threads\n",
            "2020-03-23 09:34:10,187 : INFO : worker thread finished; awaiting finish of 0 more threads\n",
            "2020-03-23 09:34:10,190 : INFO : EPOCH - 23 : training on 6110838 raw words (5399672 effective words) took 15.1s, 356567 effective words/s\n",
            "2020-03-23 09:34:11,269 : INFO : EPOCH 24 - PROGRESS: at 5.71% examples, 290214 words/s, in_qsize 16, out_qsize 1\n",
            "2020-03-23 09:34:12,289 : INFO : EPOCH 24 - PROGRESS: at 12.72% examples, 330089 words/s, in_qsize 15, out_qsize 0\n",
            "2020-03-23 09:34:13,313 : INFO : EPOCH 24 - PROGRESS: at 19.92% examples, 346534 words/s, in_qsize 16, out_qsize 1\n",
            "2020-03-23 09:34:14,319 : INFO : EPOCH 24 - PROGRESS: at 26.79% examples, 352060 words/s, in_qsize 16, out_qsize 0\n",
            "2020-03-23 09:34:15,364 : INFO : EPOCH 24 - PROGRESS: at 33.00% examples, 345725 words/s, in_qsize 15, out_qsize 0\n",
            "2020-03-23 09:34:16,371 : INFO : EPOCH 24 - PROGRESS: at 40.05% examples, 350867 words/s, in_qsize 15, out_qsize 0\n",
            "2020-03-23 09:34:17,384 : INFO : EPOCH 24 - PROGRESS: at 46.41% examples, 349388 words/s, in_qsize 16, out_qsize 0\n",
            "2020-03-23 09:34:18,395 : INFO : EPOCH 24 - PROGRESS: at 52.63% examples, 347215 words/s, in_qsize 15, out_qsize 0\n",
            "2020-03-23 09:34:19,409 : INFO : EPOCH 24 - PROGRESS: at 59.17% examples, 347331 words/s, in_qsize 15, out_qsize 4\n",
            "2020-03-23 09:34:20,423 : INFO : EPOCH 24 - PROGRESS: at 66.53% examples, 351752 words/s, in_qsize 15, out_qsize 1\n",
            "2020-03-23 09:34:21,468 : INFO : EPOCH 24 - PROGRESS: at 73.05% examples, 350502 words/s, in_qsize 14, out_qsize 1\n",
            "2020-03-23 09:34:22,511 : INFO : EPOCH 24 - PROGRESS: at 80.26% examples, 352361 words/s, in_qsize 13, out_qsize 2\n",
            "2020-03-23 09:34:23,520 : INFO : EPOCH 24 - PROGRESS: at 87.31% examples, 354144 words/s, in_qsize 15, out_qsize 0\n",
            "2020-03-23 09:34:24,537 : INFO : EPOCH 24 - PROGRESS: at 94.70% examples, 356750 words/s, in_qsize 15, out_qsize 0\n",
            "2020-03-23 09:34:25,193 : INFO : worker thread finished; awaiting finish of 7 more threads\n",
            "2020-03-23 09:34:25,208 : INFO : worker thread finished; awaiting finish of 6 more threads\n",
            "2020-03-23 09:34:25,229 : INFO : worker thread finished; awaiting finish of 5 more threads\n",
            "2020-03-23 09:34:25,236 : INFO : worker thread finished; awaiting finish of 4 more threads\n",
            "2020-03-23 09:34:25,259 : INFO : worker thread finished; awaiting finish of 3 more threads\n",
            "2020-03-23 09:34:25,269 : INFO : worker thread finished; awaiting finish of 2 more threads\n",
            "2020-03-23 09:34:25,274 : INFO : worker thread finished; awaiting finish of 1 more threads\n",
            "2020-03-23 09:34:25,284 : INFO : worker thread finished; awaiting finish of 0 more threads\n",
            "2020-03-23 09:34:25,285 : INFO : EPOCH - 24 : training on 6110838 raw words (5398717 effective words) took 15.1s, 358008 effective words/s\n",
            "2020-03-23 09:34:26,360 : INFO : EPOCH 25 - PROGRESS: at 6.03% examples, 308140 words/s, in_qsize 15, out_qsize 0\n",
            "2020-03-23 09:34:27,390 : INFO : EPOCH 25 - PROGRESS: at 13.05% examples, 337593 words/s, in_qsize 15, out_qsize 0\n",
            "2020-03-23 09:34:28,403 : INFO : EPOCH 25 - PROGRESS: at 20.09% examples, 349861 words/s, in_qsize 16, out_qsize 1\n",
            "2020-03-23 09:34:29,445 : INFO : EPOCH 25 - PROGRESS: at 26.80% examples, 349475 words/s, in_qsize 14, out_qsize 1\n",
            "2020-03-23 09:34:30,504 : INFO : EPOCH 25 - PROGRESS: at 33.99% examples, 352962 words/s, in_qsize 16, out_qsize 0\n",
            "2020-03-23 09:34:31,567 : INFO : EPOCH 25 - PROGRESS: at 41.04% examples, 353689 words/s, in_qsize 14, out_qsize 2\n",
            "2020-03-23 09:34:32,588 : INFO : EPOCH 25 - PROGRESS: at 47.56% examples, 352625 words/s, in_qsize 16, out_qsize 1\n",
            "2020-03-23 09:34:33,597 : INFO : EPOCH 25 - PROGRESS: at 55.24% examples, 359751 words/s, in_qsize 16, out_qsize 0\n",
            "2020-03-23 09:34:34,621 : INFO : EPOCH 25 - PROGRESS: at 61.62% examples, 357208 words/s, in_qsize 13, out_qsize 1\n",
            "2020-03-23 09:34:35,663 : INFO : EPOCH 25 - PROGRESS: at 68.16% examples, 355379 words/s, in_qsize 16, out_qsize 5\n",
            "2020-03-23 09:34:36,677 : INFO : EPOCH 25 - PROGRESS: at 75.51% examples, 358602 words/s, in_qsize 15, out_qsize 1\n",
            "2020-03-23 09:34:37,683 : INFO : EPOCH 25 - PROGRESS: at 82.40% examples, 359417 words/s, in_qsize 16, out_qsize 0\n",
            "2020-03-23 09:34:38,746 : INFO : EPOCH 25 - PROGRESS: at 88.95% examples, 357269 words/s, in_qsize 15, out_qsize 0\n",
            "2020-03-23 09:34:39,818 : INFO : EPOCH 25 - PROGRESS: at 95.84% examples, 356432 words/s, in_qsize 13, out_qsize 3\n",
            "2020-03-23 09:34:40,212 : INFO : worker thread finished; awaiting finish of 7 more threads\n",
            "2020-03-23 09:34:40,218 : INFO : worker thread finished; awaiting finish of 6 more threads\n",
            "2020-03-23 09:34:40,238 : INFO : worker thread finished; awaiting finish of 5 more threads\n",
            "2020-03-23 09:34:40,261 : INFO : worker thread finished; awaiting finish of 4 more threads\n",
            "2020-03-23 09:34:40,266 : INFO : worker thread finished; awaiting finish of 3 more threads\n",
            "2020-03-23 09:34:40,270 : INFO : worker thread finished; awaiting finish of 2 more threads\n",
            "2020-03-23 09:34:40,281 : INFO : worker thread finished; awaiting finish of 1 more threads\n",
            "2020-03-23 09:34:40,289 : INFO : worker thread finished; awaiting finish of 0 more threads\n",
            "2020-03-23 09:34:40,290 : INFO : EPOCH - 25 : training on 6110838 raw words (5398906 effective words) took 15.0s, 360139 effective words/s\n",
            "2020-03-23 09:34:41,358 : INFO : EPOCH 26 - PROGRESS: at 6.03% examples, 309125 words/s, in_qsize 12, out_qsize 3\n",
            "2020-03-23 09:34:42,398 : INFO : EPOCH 26 - PROGRESS: at 13.05% examples, 336785 words/s, in_qsize 16, out_qsize 0\n",
            "2020-03-23 09:34:43,423 : INFO : EPOCH 26 - PROGRESS: at 19.76% examples, 342374 words/s, in_qsize 15, out_qsize 0\n",
            "2020-03-23 09:34:44,446 : INFO : EPOCH 26 - PROGRESS: at 26.96% examples, 351804 words/s, in_qsize 14, out_qsize 1\n",
            "2020-03-23 09:34:45,471 : INFO : EPOCH 26 - PROGRESS: at 33.16% examples, 346935 words/s, in_qsize 16, out_qsize 1\n",
            "2020-03-23 09:34:46,478 : INFO : EPOCH 26 - PROGRESS: at 40.37% examples, 353317 words/s, in_qsize 15, out_qsize 0\n",
            "2020-03-23 09:34:47,546 : INFO : EPOCH 26 - PROGRESS: at 46.57% examples, 347588 words/s, in_qsize 14, out_qsize 1\n",
            "2020-03-23 09:34:48,559 : INFO : EPOCH 26 - PROGRESS: at 53.61% examples, 350920 words/s, in_qsize 15, out_qsize 0\n",
            "2020-03-23 09:34:49,569 : INFO : EPOCH 26 - PROGRESS: at 59.83% examples, 348880 words/s, in_qsize 13, out_qsize 2\n",
            "2020-03-23 09:34:50,582 : INFO : EPOCH 26 - PROGRESS: at 66.86% examples, 351436 words/s, in_qsize 15, out_qsize 0\n",
            "2020-03-23 09:34:51,618 : INFO : EPOCH 26 - PROGRESS: at 74.03% examples, 353582 words/s, in_qsize 16, out_qsize 0\n",
            "2020-03-23 09:34:52,628 : INFO : EPOCH 26 - PROGRESS: at 80.09% examples, 351141 words/s, in_qsize 15, out_qsize 0\n",
            "2020-03-23 09:34:53,678 : INFO : EPOCH 26 - PROGRESS: at 86.66% examples, 349955 words/s, in_qsize 16, out_qsize 1\n",
            "2020-03-23 09:34:54,754 : INFO : EPOCH 26 - PROGRESS: at 94.04% examples, 351421 words/s, in_qsize 15, out_qsize 0\n",
            "2020-03-23 09:34:55,481 : INFO : worker thread finished; awaiting finish of 7 more threads\n",
            "2020-03-23 09:34:55,484 : INFO : worker thread finished; awaiting finish of 6 more threads\n",
            "2020-03-23 09:34:55,516 : INFO : worker thread finished; awaiting finish of 5 more threads\n",
            "2020-03-23 09:34:55,549 : INFO : worker thread finished; awaiting finish of 4 more threads\n",
            "2020-03-23 09:34:55,560 : INFO : worker thread finished; awaiting finish of 3 more threads\n",
            "2020-03-23 09:34:55,562 : INFO : worker thread finished; awaiting finish of 2 more threads\n",
            "2020-03-23 09:34:55,575 : INFO : worker thread finished; awaiting finish of 1 more threads\n",
            "2020-03-23 09:34:55,581 : INFO : worker thread finished; awaiting finish of 0 more threads\n",
            "2020-03-23 09:34:55,582 : INFO : EPOCH - 26 : training on 6110838 raw words (5399741 effective words) took 15.3s, 353396 effective words/s\n",
            "2020-03-23 09:34:56,622 : INFO : EPOCH 27 - PROGRESS: at 5.54% examples, 292719 words/s, in_qsize 14, out_qsize 1\n",
            "2020-03-23 09:34:57,673 : INFO : EPOCH 27 - PROGRESS: at 12.23% examples, 318579 words/s, in_qsize 11, out_qsize 5\n",
            "2020-03-23 09:34:58,686 : INFO : EPOCH 27 - PROGRESS: at 18.94% examples, 331385 words/s, in_qsize 15, out_qsize 0\n",
            "2020-03-23 09:34:59,769 : INFO : EPOCH 27 - PROGRESS: at 25.48% examples, 331328 words/s, in_qsize 14, out_qsize 5\n",
            "2020-03-23 09:35:00,866 : INFO : EPOCH 27 - PROGRESS: at 33.00% examples, 338519 words/s, in_qsize 15, out_qsize 0\n",
            "2020-03-23 09:35:01,892 : INFO : EPOCH 27 - PROGRESS: at 39.88% examples, 342280 words/s, in_qsize 15, out_qsize 0\n",
            "2020-03-23 09:35:02,941 : INFO : EPOCH 27 - PROGRESS: at 46.58% examples, 342761 words/s, in_qsize 14, out_qsize 4\n",
            "2020-03-23 09:35:03,953 : INFO : EPOCH 27 - PROGRESS: at 53.45% examples, 345624 words/s, in_qsize 16, out_qsize 0\n",
            "2020-03-23 09:35:05,005 : INFO : EPOCH 27 - PROGRESS: at 59.99% examples, 344521 words/s, in_qsize 14, out_qsize 1\n",
            "2020-03-23 09:35:06,039 : INFO : EPOCH 27 - PROGRESS: at 66.69% examples, 345060 words/s, in_qsize 13, out_qsize 3\n",
            "2020-03-23 09:35:07,112 : INFO : EPOCH 27 - PROGRESS: at 73.87% examples, 346633 words/s, in_qsize 15, out_qsize 0\n",
            "2020-03-23 09:35:08,138 : INFO : EPOCH 27 - PROGRESS: at 80.92% examples, 348560 words/s, in_qsize 16, out_qsize 0\n",
            "2020-03-23 09:35:09,202 : INFO : EPOCH 27 - PROGRESS: at 87.15% examples, 345929 words/s, in_qsize 13, out_qsize 7\n",
            "2020-03-23 09:35:10,237 : INFO : EPOCH 27 - PROGRESS: at 94.53% examples, 348631 words/s, in_qsize 15, out_qsize 0\n",
            "2020-03-23 09:35:10,912 : INFO : worker thread finished; awaiting finish of 7 more threads\n",
            "2020-03-23 09:35:10,916 : INFO : worker thread finished; awaiting finish of 6 more threads\n",
            "2020-03-23 09:35:10,926 : INFO : worker thread finished; awaiting finish of 5 more threads\n",
            "2020-03-23 09:35:10,958 : INFO : worker thread finished; awaiting finish of 4 more threads\n",
            "2020-03-23 09:35:10,963 : INFO : worker thread finished; awaiting finish of 3 more threads\n",
            "2020-03-23 09:35:10,989 : INFO : worker thread finished; awaiting finish of 2 more threads\n",
            "2020-03-23 09:35:10,995 : INFO : worker thread finished; awaiting finish of 1 more threads\n",
            "2020-03-23 09:35:11,006 : INFO : worker thread finished; awaiting finish of 0 more threads\n",
            "2020-03-23 09:35:11,007 : INFO : EPOCH - 27 : training on 6110838 raw words (5398929 effective words) took 15.4s, 350345 effective words/s\n",
            "2020-03-23 09:35:12,026 : INFO : EPOCH 28 - PROGRESS: at 5.22% examples, 280286 words/s, in_qsize 15, out_qsize 0\n",
            "2020-03-23 09:35:13,052 : INFO : EPOCH 28 - PROGRESS: at 11.91% examples, 316746 words/s, in_qsize 16, out_qsize 2\n",
            "2020-03-23 09:35:14,098 : INFO : EPOCH 28 - PROGRESS: at 18.61% examples, 326719 words/s, in_qsize 15, out_qsize 0\n",
            "2020-03-23 09:35:15,188 : INFO : EPOCH 28 - PROGRESS: at 25.65% examples, 332447 words/s, in_qsize 15, out_qsize 0\n",
            "2020-03-23 09:35:16,198 : INFO : EPOCH 28 - PROGRESS: at 32.19% examples, 335809 words/s, in_qsize 16, out_qsize 0\n",
            "2020-03-23 09:35:17,239 : INFO : EPOCH 28 - PROGRESS: at 38.73% examples, 336454 words/s, in_qsize 11, out_qsize 4\n",
            "2020-03-23 09:35:18,261 : INFO : EPOCH 28 - PROGRESS: at 45.77% examples, 341460 words/s, in_qsize 14, out_qsize 2\n",
            "2020-03-23 09:35:19,275 : INFO : EPOCH 28 - PROGRESS: at 51.98% examples, 340130 words/s, in_qsize 16, out_qsize 3\n",
            "2020-03-23 09:35:20,417 : INFO : EPOCH 28 - PROGRESS: at 59.34% examples, 341079 words/s, in_qsize 12, out_qsize 3\n",
            "2020-03-23 09:35:21,503 : INFO : EPOCH 28 - PROGRESS: at 67.02% examples, 345352 words/s, in_qsize 15, out_qsize 0\n",
            "2020-03-23 09:35:22,512 : INFO : EPOCH 28 - PROGRESS: at 73.21% examples, 344214 words/s, in_qsize 13, out_qsize 4\n",
            "2020-03-23 09:35:23,538 : INFO : EPOCH 28 - PROGRESS: at 80.43% examples, 347067 words/s, in_qsize 15, out_qsize 1\n",
            "2020-03-23 09:35:24,578 : INFO : EPOCH 28 - PROGRESS: at 87.64% examples, 349069 words/s, in_qsize 16, out_qsize 1\n",
            "2020-03-23 09:35:25,611 : INFO : EPOCH 28 - PROGRESS: at 94.70% examples, 350377 words/s, in_qsize 16, out_qsize 0\n",
            "2020-03-23 09:35:26,206 : INFO : worker thread finished; awaiting finish of 7 more threads\n",
            "2020-03-23 09:35:26,241 : INFO : worker thread finished; awaiting finish of 6 more threads\n",
            "2020-03-23 09:35:26,260 : INFO : worker thread finished; awaiting finish of 5 more threads\n",
            "2020-03-23 09:35:26,279 : INFO : worker thread finished; awaiting finish of 4 more threads\n",
            "2020-03-23 09:35:26,286 : INFO : worker thread finished; awaiting finish of 3 more threads\n",
            "2020-03-23 09:35:26,300 : INFO : worker thread finished; awaiting finish of 2 more threads\n",
            "2020-03-23 09:35:26,304 : INFO : worker thread finished; awaiting finish of 1 more threads\n",
            "2020-03-23 09:35:26,306 : INFO : worker thread finished; awaiting finish of 0 more threads\n",
            "2020-03-23 09:35:26,307 : INFO : EPOCH - 28 : training on 6110838 raw words (5398528 effective words) took 15.3s, 353117 effective words/s\n",
            "2020-03-23 09:35:27,348 : INFO : EPOCH 29 - PROGRESS: at 5.87% examples, 309368 words/s, in_qsize 15, out_qsize 0\n",
            "2020-03-23 09:35:28,390 : INFO : EPOCH 29 - PROGRESS: at 12.23% examples, 319891 words/s, in_qsize 11, out_qsize 4\n",
            "2020-03-23 09:35:29,449 : INFO : EPOCH 29 - PROGRESS: at 19.60% examples, 338625 words/s, in_qsize 15, out_qsize 0\n",
            "2020-03-23 09:35:30,544 : INFO : EPOCH 29 - PROGRESS: at 26.47% examples, 338841 words/s, in_qsize 16, out_qsize 2\n",
            "2020-03-23 09:35:31,548 : INFO : EPOCH 29 - PROGRESS: at 33.16% examples, 343003 words/s, in_qsize 16, out_qsize 0\n",
            "2020-03-23 09:35:32,574 : INFO : EPOCH 29 - PROGRESS: at 39.55% examples, 342836 words/s, in_qsize 15, out_qsize 0\n",
            "2020-03-23 09:35:33,562 : INFO : EPOCH 29 - PROGRESS: at 45.93% examples, 342791 words/s, in_qsize 12, out_qsize 3\n",
            "2020-03-23 09:35:34,572 : INFO : EPOCH 29 - PROGRESS: at 52.96% examples, 346862 words/s, in_qsize 16, out_qsize 0\n",
            "2020-03-23 09:35:35,579 : INFO : EPOCH 29 - PROGRESS: at 59.34% examples, 346363 words/s, in_qsize 15, out_qsize 0\n",
            "2020-03-23 09:35:36,635 : INFO : EPOCH 29 - PROGRESS: at 66.04% examples, 345988 words/s, in_qsize 16, out_qsize 1\n",
            "2020-03-23 09:35:37,662 : INFO : EPOCH 29 - PROGRESS: at 73.05% examples, 348160 words/s, in_qsize 15, out_qsize 0\n",
            "2020-03-23 09:35:38,695 : INFO : EPOCH 29 - PROGRESS: at 79.93% examples, 349074 words/s, in_qsize 15, out_qsize 0\n",
            "2020-03-23 09:35:39,703 : INFO : EPOCH 29 - PROGRESS: at 87.32% examples, 352439 words/s, in_qsize 15, out_qsize 0\n",
            "2020-03-23 09:35:40,733 : INFO : EPOCH 29 - PROGRESS: at 93.55% examples, 350531 words/s, in_qsize 16, out_qsize 0\n",
            "2020-03-23 09:35:41,493 : INFO : worker thread finished; awaiting finish of 7 more threads\n",
            "2020-03-23 09:35:41,519 : INFO : worker thread finished; awaiting finish of 6 more threads\n",
            "2020-03-23 09:35:41,532 : INFO : worker thread finished; awaiting finish of 5 more threads\n",
            "2020-03-23 09:35:41,541 : INFO : worker thread finished; awaiting finish of 4 more threads\n",
            "2020-03-23 09:35:41,549 : INFO : worker thread finished; awaiting finish of 3 more threads\n",
            "2020-03-23 09:35:41,569 : INFO : worker thread finished; awaiting finish of 2 more threads\n",
            "2020-03-23 09:35:41,571 : INFO : worker thread finished; awaiting finish of 1 more threads\n",
            "2020-03-23 09:35:41,578 : INFO : worker thread finished; awaiting finish of 0 more threads\n",
            "2020-03-23 09:35:41,579 : INFO : EPOCH - 29 : training on 6110838 raw words (5399867 effective words) took 15.3s, 353882 effective words/s\n",
            "2020-03-23 09:35:42,658 : INFO : EPOCH 30 - PROGRESS: at 6.19% examples, 317480 words/s, in_qsize 15, out_qsize 1\n",
            "2020-03-23 09:35:43,674 : INFO : EPOCH 30 - PROGRESS: at 13.22% examples, 342933 words/s, in_qsize 15, out_qsize 0\n",
            "2020-03-23 09:35:44,713 : INFO : EPOCH 30 - PROGRESS: at 19.60% examples, 339257 words/s, in_qsize 15, out_qsize 0\n",
            "2020-03-23 09:35:45,736 : INFO : EPOCH 30 - PROGRESS: at 26.80% examples, 349447 words/s, in_qsize 15, out_qsize 0\n",
            "2020-03-23 09:35:46,790 : INFO : EPOCH 30 - PROGRESS: at 33.82% examples, 351658 words/s, in_qsize 15, out_qsize 0\n",
            "2020-03-23 09:35:47,817 : INFO : EPOCH 30 - PROGRESS: at 40.37% examples, 350408 words/s, in_qsize 15, out_qsize 0\n",
            "2020-03-23 09:35:48,891 : INFO : EPOCH 30 - PROGRESS: at 47.72% examples, 353316 words/s, in_qsize 13, out_qsize 2\n",
            "2020-03-23 09:35:49,966 : INFO : EPOCH 30 - PROGRESS: at 54.26% examples, 351231 words/s, in_qsize 15, out_qsize 3\n",
            "2020-03-23 09:35:50,993 : INFO : EPOCH 30 - PROGRESS: at 61.29% examples, 352282 words/s, in_qsize 15, out_qsize 0\n",
            "2020-03-23 09:35:51,994 : INFO : EPOCH 30 - PROGRESS: at 67.51% examples, 350645 words/s, in_qsize 13, out_qsize 2\n",
            "2020-03-23 09:35:53,044 : INFO : EPOCH 30 - PROGRESS: at 74.52% examples, 351687 words/s, in_qsize 15, out_qsize 0\n",
            "2020-03-23 09:35:54,087 : INFO : EPOCH 30 - PROGRESS: at 81.09% examples, 350586 words/s, in_qsize 14, out_qsize 3\n",
            "2020-03-23 09:35:55,137 : INFO : EPOCH 30 - PROGRESS: at 88.13% examples, 351422 words/s, in_qsize 14, out_qsize 1\n",
            "2020-03-23 09:35:56,251 : INFO : EPOCH 30 - PROGRESS: at 95.02% examples, 350036 words/s, in_qsize 12, out_qsize 3\n",
            "2020-03-23 09:35:56,722 : INFO : worker thread finished; awaiting finish of 7 more threads\n",
            "2020-03-23 09:35:56,729 : INFO : worker thread finished; awaiting finish of 6 more threads\n",
            "2020-03-23 09:35:56,770 : INFO : worker thread finished; awaiting finish of 5 more threads\n",
            "2020-03-23 09:35:56,785 : INFO : worker thread finished; awaiting finish of 4 more threads\n",
            "2020-03-23 09:35:56,801 : INFO : worker thread finished; awaiting finish of 3 more threads\n",
            "2020-03-23 09:35:56,806 : INFO : worker thread finished; awaiting finish of 2 more threads\n",
            "2020-03-23 09:35:56,829 : INFO : worker thread finished; awaiting finish of 1 more threads\n",
            "2020-03-23 09:35:56,837 : INFO : worker thread finished; awaiting finish of 0 more threads\n",
            "2020-03-23 09:35:56,838 : INFO : EPOCH - 30 : training on 6110838 raw words (5399870 effective words) took 15.2s, 354151 effective words/s\n",
            "2020-03-23 09:35:57,862 : INFO : EPOCH 31 - PROGRESS: at 5.54% examples, 297014 words/s, in_qsize 14, out_qsize 1\n",
            "2020-03-23 09:35:58,888 : INFO : EPOCH 31 - PROGRESS: at 12.39% examples, 329295 words/s, in_qsize 15, out_qsize 0\n",
            "2020-03-23 09:35:59,937 : INFO : EPOCH 31 - PROGRESS: at 18.61% examples, 326193 words/s, in_qsize 13, out_qsize 2\n",
            "2020-03-23 09:36:01,000 : INFO : EPOCH 31 - PROGRESS: at 25.32% examples, 329913 words/s, in_qsize 15, out_qsize 0\n",
            "2020-03-23 09:36:02,003 : INFO : EPOCH 31 - PROGRESS: at 32.52% examples, 341173 words/s, in_qsize 14, out_qsize 0\n",
            "2020-03-23 09:36:03,074 : INFO : EPOCH 31 - PROGRESS: at 38.73% examples, 336385 words/s, in_qsize 13, out_qsize 2\n",
            "2020-03-23 09:36:04,077 : INFO : EPOCH 31 - PROGRESS: at 45.93% examples, 343544 words/s, in_qsize 16, out_qsize 0\n",
            "2020-03-23 09:36:05,099 : INFO : EPOCH 31 - PROGRESS: at 51.97% examples, 340871 words/s, in_qsize 14, out_qsize 1\n",
            "2020-03-23 09:36:06,125 : INFO : EPOCH 31 - PROGRESS: at 58.68% examples, 341928 words/s, in_qsize 14, out_qsize 1\n",
            "2020-03-23 09:36:07,126 : INFO : EPOCH 31 - PROGRESS: at 65.39% examples, 343878 words/s, in_qsize 15, out_qsize 0\n",
            "2020-03-23 09:36:08,132 : INFO : EPOCH 31 - PROGRESS: at 71.42% examples, 342159 words/s, in_qsize 13, out_qsize 2\n",
            "2020-03-23 09:36:09,144 : INFO : EPOCH 31 - PROGRESS: at 77.96% examples, 342737 words/s, in_qsize 15, out_qsize 0\n",
            "2020-03-23 09:36:10,257 : INFO : EPOCH 31 - PROGRESS: at 85.18% examples, 343238 words/s, in_qsize 12, out_qsize 3\n",
            "2020-03-23 09:36:11,287 : INFO : EPOCH 31 - PROGRESS: at 91.74% examples, 343227 words/s, in_qsize 10, out_qsize 5\n",
            "2020-03-23 09:36:12,263 : INFO : worker thread finished; awaiting finish of 7 more threads\n",
            "2020-03-23 09:36:12,273 : INFO : worker thread finished; awaiting finish of 6 more threads\n",
            "2020-03-23 09:36:12,302 : INFO : EPOCH 31 - PROGRESS: at 99.17% examples, 346628 words/s, in_qsize 5, out_qsize 1\n",
            "2020-03-23 09:36:12,306 : INFO : worker thread finished; awaiting finish of 5 more threads\n",
            "2020-03-23 09:36:12,322 : INFO : worker thread finished; awaiting finish of 4 more threads\n",
            "2020-03-23 09:36:12,348 : INFO : worker thread finished; awaiting finish of 3 more threads\n",
            "2020-03-23 09:36:12,352 : INFO : worker thread finished; awaiting finish of 2 more threads\n",
            "2020-03-23 09:36:12,364 : INFO : worker thread finished; awaiting finish of 1 more threads\n",
            "2020-03-23 09:36:12,367 : INFO : worker thread finished; awaiting finish of 0 more threads\n",
            "2020-03-23 09:36:12,368 : INFO : EPOCH - 31 : training on 6110838 raw words (5399914 effective words) took 15.5s, 347990 effective words/s\n",
            "2020-03-23 09:36:13,419 : INFO : EPOCH 32 - PROGRESS: at 5.87% examples, 305435 words/s, in_qsize 15, out_qsize 0\n",
            "2020-03-23 09:36:14,433 : INFO : EPOCH 32 - PROGRESS: at 12.23% examples, 322174 words/s, in_qsize 14, out_qsize 3\n",
            "2020-03-23 09:36:15,491 : INFO : EPOCH 32 - PROGRESS: at 19.11% examples, 331719 words/s, in_qsize 14, out_qsize 1\n",
            "2020-03-23 09:36:16,507 : INFO : EPOCH 32 - PROGRESS: at 25.81% examples, 337921 words/s, in_qsize 15, out_qsize 3\n",
            "2020-03-23 09:36:17,561 : INFO : EPOCH 32 - PROGRESS: at 33.00% examples, 344152 words/s, in_qsize 15, out_qsize 0\n",
            "2020-03-23 09:36:18,567 : INFO : EPOCH 32 - PROGRESS: at 39.55% examples, 345329 words/s, in_qsize 16, out_qsize 1\n",
            "2020-03-23 09:36:19,656 : INFO : EPOCH 32 - PROGRESS: at 46.42% examples, 344651 words/s, in_qsize 15, out_qsize 0\n",
            "2020-03-23 09:36:20,693 : INFO : EPOCH 32 - PROGRESS: at 53.12% examples, 345196 words/s, in_qsize 13, out_qsize 2\n",
            "2020-03-23 09:36:21,723 : INFO : EPOCH 32 - PROGRESS: at 59.99% examples, 346868 words/s, in_qsize 13, out_qsize 1\n",
            "2020-03-23 09:36:22,747 : INFO : EPOCH 32 - PROGRESS: at 66.05% examples, 344153 words/s, in_qsize 13, out_qsize 4\n",
            "2020-03-23 09:36:23,812 : INFO : EPOCH 32 - PROGRESS: at 72.55% examples, 342961 words/s, in_qsize 8, out_qsize 7\n",
            "2020-03-23 09:36:24,866 : INFO : EPOCH 32 - PROGRESS: at 79.27% examples, 343009 words/s, in_qsize 14, out_qsize 1\n",
            "2020-03-23 09:36:25,869 : INFO : EPOCH 32 - PROGRESS: at 85.34% examples, 341735 words/s, in_qsize 15, out_qsize 0\n",
            "2020-03-23 09:36:26,894 : INFO : EPOCH 32 - PROGRESS: at 91.57% examples, 341300 words/s, in_qsize 16, out_qsize 0\n",
            "2020-03-23 09:36:27,869 : INFO : EPOCH 32 - PROGRESS: at 97.96% examples, 341503 words/s, in_qsize 13, out_qsize 0\n",
            "2020-03-23 09:36:27,988 : INFO : worker thread finished; awaiting finish of 7 more threads\n",
            "2020-03-23 09:36:28,001 : INFO : worker thread finished; awaiting finish of 6 more threads\n",
            "2020-03-23 09:36:28,007 : INFO : worker thread finished; awaiting finish of 5 more threads\n",
            "2020-03-23 09:36:28,033 : INFO : worker thread finished; awaiting finish of 4 more threads\n",
            "2020-03-23 09:36:28,068 : INFO : worker thread finished; awaiting finish of 3 more threads\n",
            "2020-03-23 09:36:28,082 : INFO : worker thread finished; awaiting finish of 2 more threads\n",
            "2020-03-23 09:36:28,096 : INFO : worker thread finished; awaiting finish of 1 more threads\n",
            "2020-03-23 09:36:28,098 : INFO : worker thread finished; awaiting finish of 0 more threads\n",
            "2020-03-23 09:36:28,099 : INFO : EPOCH - 32 : training on 6110838 raw words (5399212 effective words) took 15.7s, 343450 effective words/s\n",
            "2020-03-23 09:36:28,100 : INFO : training on a 195546816 raw words (172781435 effective words) took 489.5s, 352997 effective words/s\n"
          ],
          "name": "stderr"
        },
        {
          "output_type": "stream",
          "text": [
            "CPU times: user 15min 52s, sys: 4.32 s, total: 15min 57s\n",
            "Wall time: 8min 9s\n"
          ],
          "name": "stdout"
        },
        {
          "output_type": "execute_result",
          "data": {
            "text/plain": [
              "(172781435, 195546816)"
            ]
          },
          "metadata": {
            "tags": []
          },
          "execution_count": 73
        }
      ]
    },
    {
      "cell_type": "code",
      "metadata": {
        "id": "92hPABlB3HUk",
        "colab_type": "code",
        "outputId": "b65c6870-38d7-4029-ee04-27f7d9b76d25",
        "colab": {
          "base_uri": "https://localhost:8080/",
          "height": 297
        }
      },
      "source": [
        "w2v_model.most_similar(\"love\")"
      ],
      "execution_count": 74,
      "outputs": [
        {
          "output_type": "stream",
          "text": [
            "/usr/local/lib/python3.6/dist-packages/ipykernel_launcher.py:1: DeprecationWarning: Call to deprecated `most_similar` (Method will be removed in 4.0.0, use self.wv.most_similar() instead).\n",
            "  \"\"\"Entry point for launching an IPython kernel.\n",
            "2020-03-23 09:36:28,113 : INFO : precomputing L2-norms of word weight vectors\n",
            "/usr/local/lib/python3.6/dist-packages/gensim/matutils.py:737: FutureWarning: Conversion of the second argument of issubdtype from `int` to `np.signedinteger` is deprecated. In future, it will be treated as `np.int64 == np.dtype(int).type`.\n",
            "  if np.issubdtype(vec.dtype, np.int):\n"
          ],
          "name": "stderr"
        },
        {
          "output_type": "execute_result",
          "data": {
            "text/plain": [
              "[('luv', 0.5598212480545044),\n",
              " ('loves', 0.53737473487854),\n",
              " ('loved', 0.4857100248336792),\n",
              " ('looove', 0.4743287265300751),\n",
              " ('amazing', 0.47102418541908264),\n",
              " ('adore', 0.4472741484642029),\n",
              " ('miss', 0.4463310241699219),\n",
              " ('loove', 0.4117814898490906),\n",
              " ('lov', 0.3926037549972534),\n",
              " ('awesome', 0.3886289596557617)]"
            ]
          },
          "metadata": {
            "tags": []
          },
          "execution_count": 74
        }
      ]
    },
    {
      "cell_type": "code",
      "metadata": {
        "id": "E7StLG3y3XsH",
        "colab_type": "code",
        "outputId": "3a5b5c9a-4c2c-40e6-f771-7a0af2ebffe3",
        "colab": {
          "base_uri": "https://localhost:8080/",
          "height": 69
        }
      },
      "source": [
        "%%time\n",
        "tokenizer = Tokenizer()\n",
        "tokenizer.fit_on_texts(df_train.text)\n",
        "\n",
        "vocab_size = len(tokenizer.word_index) + 1\n",
        "print(\"Total words\", vocab_size)"
      ],
      "execution_count": 75,
      "outputs": [
        {
          "output_type": "stream",
          "text": [
            "Total words 210156\n",
            "CPU times: user 15.4 s, sys: 136 ms, total: 15.5 s\n",
            "Wall time: 15.5 s\n"
          ],
          "name": "stdout"
        }
      ]
    },
    {
      "cell_type": "code",
      "metadata": {
        "id": "fL6SndKN3abs",
        "colab_type": "code",
        "outputId": "555097c1-5b49-4bbc-c1b4-10c1e5e2edac",
        "colab": {
          "base_uri": "https://localhost:8080/",
          "height": 52
        }
      },
      "source": [
        "%%time\n",
        "x_train = pad_sequences(tokenizer.texts_to_sequences(df_train.text), maxlen=SEQUENCE_LENGTH)\n",
        "x_test = pad_sequences(tokenizer.texts_to_sequences(df_test.text), maxlen=SEQUENCE_LENGTH)"
      ],
      "execution_count": 76,
      "outputs": [
        {
          "output_type": "stream",
          "text": [
            "CPU times: user 21.1 s, sys: 644 ms, total: 21.8 s\n",
            "Wall time: 21.8 s\n"
          ],
          "name": "stdout"
        }
      ]
    },
    {
      "cell_type": "code",
      "metadata": {
        "id": "iCadSqOT3gDO",
        "colab_type": "code",
        "outputId": "2a27c036-bedb-46c3-8d5b-099f2c5887ef",
        "colab": {
          "base_uri": "https://localhost:8080/",
          "height": 35
        }
      },
      "source": [
        "labels = df_train.target.unique().tolist()\n",
        "labels.append(NEUTRAL)\n",
        "labels"
      ],
      "execution_count": 77,
      "outputs": [
        {
          "output_type": "execute_result",
          "data": {
            "text/plain": [
              "['NEGATIVE', 'POSITIVE', 'NEUTRAL']"
            ]
          },
          "metadata": {
            "tags": []
          },
          "execution_count": 77
        }
      ]
    },
    {
      "cell_type": "code",
      "metadata": {
        "id": "XGXwmU-i3pCE",
        "colab_type": "code",
        "outputId": "df50e23e-00bf-4530-9475-b7739653709b",
        "colab": {
          "base_uri": "https://localhost:8080/",
          "height": 52
        }
      },
      "source": [
        "encoder = LabelEncoder()\n",
        "encoder.fit(df_train.target.tolist())\n",
        "\n",
        "y_train = encoder.transform(df_train.target.tolist())\n",
        "y_test = encoder.transform(df_test.target.tolist())\n",
        "\n",
        "y_train = y_train.reshape(-1,1)\n",
        "y_test = y_test.reshape(-1,1)\n",
        "\n",
        "print(\"y_train\",y_train.shape)\n",
        "print(\"y_test\",y_test.shape)"
      ],
      "execution_count": 78,
      "outputs": [
        {
          "output_type": "stream",
          "text": [
            "y_train (838860, 1)\n",
            "y_test (209716, 1)\n"
          ],
          "name": "stdout"
        }
      ]
    },
    {
      "cell_type": "code",
      "metadata": {
        "id": "yOfUKjoT3sT_",
        "colab_type": "code",
        "outputId": "03cf31f2-a6cd-4f7b-8f22-6d20c7d915cd",
        "colab": {
          "base_uri": "https://localhost:8080/",
          "height": 104
        }
      },
      "source": [
        "print(\"x_train\", x_train.shape)\n",
        "print(\"y_train\", y_train.shape)\n",
        "print()\n",
        "print(\"x_test\", x_test.shape)\n",
        "print(\"y_test\", y_test.shape)"
      ],
      "execution_count": 79,
      "outputs": [
        {
          "output_type": "stream",
          "text": [
            "x_train (838860, 300)\n",
            "y_train (838860, 1)\n",
            "\n",
            "x_test (209716, 300)\n",
            "y_test (209716, 1)\n"
          ],
          "name": "stdout"
        }
      ]
    },
    {
      "cell_type": "code",
      "metadata": {
        "id": "C7kr0-da5lat",
        "colab_type": "code",
        "outputId": "a8af1e6b-2ca8-4550-ea7c-bcbde228c288",
        "colab": {
          "base_uri": "https://localhost:8080/",
          "height": 191
        }
      },
      "source": [
        "y_train[:10]"
      ],
      "execution_count": 80,
      "outputs": [
        {
          "output_type": "execute_result",
          "data": {
            "text/plain": [
              "array([[0],\n",
              "       [1],\n",
              "       [0],\n",
              "       [0],\n",
              "       [0],\n",
              "       [0],\n",
              "       [0],\n",
              "       [0],\n",
              "       [0],\n",
              "       [0]])"
            ]
          },
          "metadata": {
            "tags": []
          },
          "execution_count": 80
        }
      ]
    },
    {
      "cell_type": "code",
      "metadata": {
        "id": "Alq0q7UG5ov6",
        "colab_type": "code",
        "outputId": "f322e031-ad4e-43af-b1fb-4e78eef988b3",
        "colab": {
          "base_uri": "https://localhost:8080/",
          "height": 35
        }
      },
      "source": [
        "embedding_matrix = np.zeros((vocab_size, W2V_SIZE))\n",
        "for word, i in tokenizer.word_index.items():\n",
        "  if word in w2v_model.wv:\n",
        "    embedding_matrix[i] = w2v_model.wv[word]\n",
        "print(embedding_matrix.shape)"
      ],
      "execution_count": 81,
      "outputs": [
        {
          "output_type": "stream",
          "text": [
            "(210156, 300)\n"
          ],
          "name": "stdout"
        }
      ]
    },
    {
      "cell_type": "code",
      "metadata": {
        "id": "dOkaKWx35s0N",
        "colab_type": "code",
        "colab": {
          "base_uri": "https://localhost:8080/",
          "height": 107
        },
        "outputId": "238184e8-df6e-44f2-91ef-46f7ad1eeaa9"
      },
      "source": [
        "embedding_layer = Embedding(vocab_size, W2V_SIZE, weights=[embedding_matrix], input_length=SEQUENCE_LENGTH, trainable=False)"
      ],
      "execution_count": 82,
      "outputs": [
        {
          "output_type": "stream",
          "text": [
            "WARNING:tensorflow:From /usr/local/lib/python3.6/dist-packages/keras/backend/tensorflow_backend.py:66: The name tf.get_default_graph is deprecated. Please use tf.compat.v1.get_default_graph instead.\n",
            "\n"
          ],
          "name": "stdout"
        },
        {
          "output_type": "stream",
          "text": [
            "2020-03-23 09:37:06,783 : WARNING : From /usr/local/lib/python3.6/dist-packages/keras/backend/tensorflow_backend.py:66: The name tf.get_default_graph is deprecated. Please use tf.compat.v1.get_default_graph instead.\n",
            "\n"
          ],
          "name": "stderr"
        }
      ]
    },
    {
      "cell_type": "code",
      "metadata": {
        "id": "EnJBHvnz5viR",
        "colab_type": "code",
        "outputId": "23516f58-b593-442d-e848-d632432e3889",
        "colab": {
          "base_uri": "https://localhost:8080/",
          "height": 1000
        }
      },
      "source": [
        "model = Sequential()\n",
        "model.add(embedding_layer)\n",
        "model.add(Dropout(0.5))\n",
        "model.add(LSTM(100, dropout=0.2, recurrent_dropout=0.2))\n",
        "model.add(Dense(1, activation='sigmoid'))\n",
        "\n",
        "model.summary()"
      ],
      "execution_count": 83,
      "outputs": [
        {
          "output_type": "stream",
          "text": [
            "WARNING:tensorflow:From /usr/local/lib/python3.6/dist-packages/keras/backend/tensorflow_backend.py:541: The name tf.placeholder is deprecated. Please use tf.compat.v1.placeholder instead.\n",
            "\n"
          ],
          "name": "stdout"
        },
        {
          "output_type": "stream",
          "text": [
            "2020-03-23 09:37:06,813 : WARNING : From /usr/local/lib/python3.6/dist-packages/keras/backend/tensorflow_backend.py:541: The name tf.placeholder is deprecated. Please use tf.compat.v1.placeholder instead.\n",
            "\n"
          ],
          "name": "stderr"
        },
        {
          "output_type": "stream",
          "text": [
            "WARNING:tensorflow:From /usr/local/lib/python3.6/dist-packages/keras/backend/tensorflow_backend.py:4432: The name tf.random_uniform is deprecated. Please use tf.random.uniform instead.\n",
            "\n"
          ],
          "name": "stdout"
        },
        {
          "output_type": "stream",
          "text": [
            "2020-03-23 09:37:06,827 : WARNING : From /usr/local/lib/python3.6/dist-packages/keras/backend/tensorflow_backend.py:4432: The name tf.random_uniform is deprecated. Please use tf.random.uniform instead.\n",
            "\n"
          ],
          "name": "stderr"
        },
        {
          "output_type": "stream",
          "text": [
            "WARNING:tensorflow:From /usr/local/lib/python3.6/dist-packages/keras/backend/tensorflow_backend.py:190: The name tf.get_default_session is deprecated. Please use tf.compat.v1.get_default_session instead.\n",
            "\n"
          ],
          "name": "stdout"
        },
        {
          "output_type": "stream",
          "text": [
            "2020-03-23 09:37:06,844 : WARNING : From /usr/local/lib/python3.6/dist-packages/keras/backend/tensorflow_backend.py:190: The name tf.get_default_session is deprecated. Please use tf.compat.v1.get_default_session instead.\n",
            "\n"
          ],
          "name": "stderr"
        },
        {
          "output_type": "stream",
          "text": [
            "WARNING:tensorflow:From /usr/local/lib/python3.6/dist-packages/keras/backend/tensorflow_backend.py:197: The name tf.ConfigProto is deprecated. Please use tf.compat.v1.ConfigProto instead.\n",
            "\n"
          ],
          "name": "stdout"
        },
        {
          "output_type": "stream",
          "text": [
            "2020-03-23 09:37:06,846 : WARNING : From /usr/local/lib/python3.6/dist-packages/keras/backend/tensorflow_backend.py:197: The name tf.ConfigProto is deprecated. Please use tf.compat.v1.ConfigProto instead.\n",
            "\n"
          ],
          "name": "stderr"
        },
        {
          "output_type": "stream",
          "text": [
            "WARNING:tensorflow:From /usr/local/lib/python3.6/dist-packages/keras/backend/tensorflow_backend.py:203: The name tf.Session is deprecated. Please use tf.compat.v1.Session instead.\n",
            "\n"
          ],
          "name": "stdout"
        },
        {
          "output_type": "stream",
          "text": [
            "2020-03-23 09:37:06,848 : WARNING : From /usr/local/lib/python3.6/dist-packages/keras/backend/tensorflow_backend.py:203: The name tf.Session is deprecated. Please use tf.compat.v1.Session instead.\n",
            "\n"
          ],
          "name": "stderr"
        },
        {
          "output_type": "stream",
          "text": [
            "WARNING:tensorflow:From /usr/local/lib/python3.6/dist-packages/keras/backend/tensorflow_backend.py:207: The name tf.global_variables is deprecated. Please use tf.compat.v1.global_variables instead.\n",
            "\n"
          ],
          "name": "stdout"
        },
        {
          "output_type": "stream",
          "text": [
            "2020-03-23 09:37:06,974 : WARNING : From /usr/local/lib/python3.6/dist-packages/keras/backend/tensorflow_backend.py:207: The name tf.global_variables is deprecated. Please use tf.compat.v1.global_variables instead.\n",
            "\n"
          ],
          "name": "stderr"
        },
        {
          "output_type": "stream",
          "text": [
            "WARNING:tensorflow:From /usr/local/lib/python3.6/dist-packages/keras/backend/tensorflow_backend.py:216: The name tf.is_variable_initialized is deprecated. Please use tf.compat.v1.is_variable_initialized instead.\n",
            "\n"
          ],
          "name": "stdout"
        },
        {
          "output_type": "stream",
          "text": [
            "2020-03-23 09:37:06,977 : WARNING : From /usr/local/lib/python3.6/dist-packages/keras/backend/tensorflow_backend.py:216: The name tf.is_variable_initialized is deprecated. Please use tf.compat.v1.is_variable_initialized instead.\n",
            "\n"
          ],
          "name": "stderr"
        },
        {
          "output_type": "stream",
          "text": [
            "WARNING:tensorflow:From /usr/local/lib/python3.6/dist-packages/keras/backend/tensorflow_backend.py:223: The name tf.variables_initializer is deprecated. Please use tf.compat.v1.variables_initializer instead.\n",
            "\n"
          ],
          "name": "stdout"
        },
        {
          "output_type": "stream",
          "text": [
            "2020-03-23 09:37:07,073 : WARNING : From /usr/local/lib/python3.6/dist-packages/keras/backend/tensorflow_backend.py:223: The name tf.variables_initializer is deprecated. Please use tf.compat.v1.variables_initializer instead.\n",
            "\n"
          ],
          "name": "stderr"
        },
        {
          "output_type": "stream",
          "text": [
            "WARNING:tensorflow:From /usr/local/lib/python3.6/dist-packages/keras/backend/tensorflow_backend.py:148: The name tf.placeholder_with_default is deprecated. Please use tf.compat.v1.placeholder_with_default instead.\n",
            "\n"
          ],
          "name": "stdout"
        },
        {
          "output_type": "stream",
          "text": [
            "2020-03-23 09:37:08,335 : WARNING : From /usr/local/lib/python3.6/dist-packages/keras/backend/tensorflow_backend.py:148: The name tf.placeholder_with_default is deprecated. Please use tf.compat.v1.placeholder_with_default instead.\n",
            "\n"
          ],
          "name": "stderr"
        },
        {
          "output_type": "stream",
          "text": [
            "WARNING:tensorflow:From /usr/local/lib/python3.6/dist-packages/keras/backend/tensorflow_backend.py:3733: calling dropout (from tensorflow.python.ops.nn_ops) with keep_prob is deprecated and will be removed in a future version.\n",
            "Instructions for updating:\n",
            "Please use `rate` instead of `keep_prob`. Rate should be set to `rate = 1 - keep_prob`.\n"
          ],
          "name": "stdout"
        },
        {
          "output_type": "stream",
          "text": [
            "2020-03-23 09:37:08,351 : WARNING : From /usr/local/lib/python3.6/dist-packages/keras/backend/tensorflow_backend.py:3733: calling dropout (from tensorflow.python.ops.nn_ops) with keep_prob is deprecated and will be removed in a future version.\n",
            "Instructions for updating:\n",
            "Please use `rate` instead of `keep_prob`. Rate should be set to `rate = 1 - keep_prob`.\n"
          ],
          "name": "stderr"
        },
        {
          "output_type": "stream",
          "text": [
            "Model: \"sequential_1\"\n",
            "_________________________________________________________________\n",
            "Layer (type)                 Output Shape              Param #   \n",
            "=================================================================\n",
            "embedding_1 (Embedding)      (None, 300, 300)          63046800  \n",
            "_________________________________________________________________\n",
            "dropout_1 (Dropout)          (None, 300, 300)          0         \n",
            "_________________________________________________________________\n",
            "lstm_1 (LSTM)                (None, 100)               160400    \n",
            "_________________________________________________________________\n",
            "dense_1 (Dense)              (None, 1)                 101       \n",
            "=================================================================\n",
            "Total params: 63,207,301\n",
            "Trainable params: 160,501\n",
            "Non-trainable params: 63,046,800\n",
            "_________________________________________________________________\n"
          ],
          "name": "stdout"
        }
      ]
    },
    {
      "cell_type": "code",
      "metadata": {
        "id": "pXUcpwrI5yQ3",
        "colab_type": "code",
        "outputId": "3a449313-0182-4bc2-8f3a-ad411412d65b",
        "colab": {
          "base_uri": "https://localhost:8080/",
          "height": 280
        }
      },
      "source": [
        "model.compile(loss='binary_crossentropy',\n",
        "              optimizer=\"adam\",\n",
        "              metrics=['accuracy'])"
      ],
      "execution_count": 84,
      "outputs": [
        {
          "output_type": "stream",
          "text": [
            "WARNING:tensorflow:From /usr/local/lib/python3.6/dist-packages/keras/optimizers.py:793: The name tf.train.Optimizer is deprecated. Please use tf.compat.v1.train.Optimizer instead.\n",
            "\n"
          ],
          "name": "stdout"
        },
        {
          "output_type": "stream",
          "text": [
            "2020-03-23 09:37:08,787 : WARNING : From /usr/local/lib/python3.6/dist-packages/keras/optimizers.py:793: The name tf.train.Optimizer is deprecated. Please use tf.compat.v1.train.Optimizer instead.\n",
            "\n"
          ],
          "name": "stderr"
        },
        {
          "output_type": "stream",
          "text": [
            "WARNING:tensorflow:From /usr/local/lib/python3.6/dist-packages/keras/backend/tensorflow_backend.py:3657: The name tf.log is deprecated. Please use tf.math.log instead.\n",
            "\n"
          ],
          "name": "stdout"
        },
        {
          "output_type": "stream",
          "text": [
            "2020-03-23 09:37:08,821 : WARNING : From /usr/local/lib/python3.6/dist-packages/keras/backend/tensorflow_backend.py:3657: The name tf.log is deprecated. Please use tf.math.log instead.\n",
            "\n"
          ],
          "name": "stderr"
        },
        {
          "output_type": "stream",
          "text": [
            "WARNING:tensorflow:From /tensorflow-1.15.0/python3.6/tensorflow_core/python/ops/nn_impl.py:183: where (from tensorflow.python.ops.array_ops) is deprecated and will be removed in a future version.\n",
            "Instructions for updating:\n",
            "Use tf.where in 2.0, which has the same broadcast rule as np.where\n"
          ],
          "name": "stdout"
        },
        {
          "output_type": "stream",
          "text": [
            "2020-03-23 09:37:08,830 : WARNING : From /tensorflow-1.15.0/python3.6/tensorflow_core/python/ops/nn_impl.py:183: where (from tensorflow.python.ops.array_ops) is deprecated and will be removed in a future version.\n",
            "Instructions for updating:\n",
            "Use tf.where in 2.0, which has the same broadcast rule as np.where\n"
          ],
          "name": "stderr"
        }
      ]
    },
    {
      "cell_type": "code",
      "metadata": {
        "id": "KGuerBIS51ED",
        "colab_type": "code",
        "colab": {}
      },
      "source": [
        "callbacks = [ ReduceLROnPlateau(monitor='val_loss', patience=5, cooldown=0),\n",
        "              EarlyStopping(monitor='val_acc', min_delta=1e-4, patience=5)]"
      ],
      "execution_count": 0,
      "outputs": []
    },
    {
      "cell_type": "code",
      "metadata": {
        "id": "BmUtLvUh54Hg",
        "colab_type": "code",
        "outputId": "58103ced-319f-4524-88ba-ddd348852f05",
        "colab": {
          "base_uri": "https://localhost:8080/",
          "height": 228
        }
      },
      "source": [
        "%%time\n",
        "history = model.fit(x_train, y_train,\n",
        "                    batch_size=BATCH_SIZE,\n",
        "                    epochs=2,\n",
        "                    validation_split=0.1,\n",
        "                    verbose=1,\n",
        "                    callbacks=callbacks)"
      ],
      "execution_count": 0,
      "outputs": [
        {
          "output_type": "stream",
          "text": [
            "WARNING:tensorflow:From /usr/local/lib/python3.6/dist-packages/keras/backend/tensorflow_backend.py:1033: The name tf.assign_add is deprecated. Please use tf.compat.v1.assign_add instead.\n",
            "\n"
          ],
          "name": "stdout"
        },
        {
          "output_type": "stream",
          "text": [
            "2020-03-23 09:37:09,766 : WARNING : From /usr/local/lib/python3.6/dist-packages/keras/backend/tensorflow_backend.py:1033: The name tf.assign_add is deprecated. Please use tf.compat.v1.assign_add instead.\n",
            "\n"
          ],
          "name": "stderr"
        },
        {
          "output_type": "stream",
          "text": [
            "WARNING:tensorflow:From /usr/local/lib/python3.6/dist-packages/keras/backend/tensorflow_backend.py:1020: The name tf.assign is deprecated. Please use tf.compat.v1.assign instead.\n",
            "\n"
          ],
          "name": "stdout"
        },
        {
          "output_type": "stream",
          "text": [
            "2020-03-23 09:37:09,853 : WARNING : From /usr/local/lib/python3.6/dist-packages/keras/backend/tensorflow_backend.py:1020: The name tf.assign is deprecated. Please use tf.compat.v1.assign instead.\n",
            "\n"
          ],
          "name": "stderr"
        },
        {
          "output_type": "stream",
          "text": [
            "Train on 754974 samples, validate on 83886 samples\n",
            "Epoch 1/2\n",
            "372736/754974 [=============>................] - ETA: 1:01:26 - loss: 0.4386 - acc: 0.8008"
          ],
          "name": "stdout"
        }
      ]
    },
    {
      "cell_type": "code",
      "metadata": {
        "id": "Cwa7MBR_56Zk",
        "colab_type": "code",
        "colab": {}
      },
      "source": [
        "%%time\n",
        "score = model.evaluate(x_test, y_test, batch_size=BATCH_SIZE)\n",
        "print()\n",
        "print(\"ACCURACY:\",score[1])\n",
        "print(\"LOSS:\",score[0])"
      ],
      "execution_count": 0,
      "outputs": []
    }
  ]
}