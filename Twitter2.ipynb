{
  "nbformat": 4,
  "nbformat_minor": 0,
  "metadata": {
    "colab": {
      "name": "Twitter2.ipynb",
      "provenance": [],
      "collapsed_sections": [],
      "mount_file_id": "1QUumv0s28aFBZ_BavwpTKkwzCSR0f8iE",
      "authorship_tag": "ABX9TyM6UUQPL1le0cZ1X/5v0/77",
      "include_colab_link": true
    },
    "kernelspec": {
      "name": "python3",
      "display_name": "Python 3"
    }
  },
  "cells": [
    {
      "cell_type": "markdown",
      "metadata": {
        "id": "view-in-github",
        "colab_type": "text"
      },
      "source": [
        "<a href=\"https://colab.research.google.com/github/shrutikamokashi/EAI_Assignments/blob/master/Twitter2.ipynb\" target=\"_parent\"><img src=\"https://colab.research.google.com/assets/colab-badge.svg\" alt=\"Open In Colab\"/></a>"
      ]
    },
    {
      "cell_type": "code",
      "metadata": {
        "id": "gjmfwdlCmiKi",
        "colab_type": "code",
        "colab": {}
      },
      "source": [
        "#!pip install gensim --upgrade\n",
        "#!pip install keras --upgrade\n",
        "#!pip install pandas --upgrade"
      ],
      "execution_count": 0,
      "outputs": []
    },
    {
      "cell_type": "code",
      "metadata": {
        "id": "26cb-lkEmnco",
        "colab_type": "code",
        "outputId": "5081eca6-6a09-408b-e51b-42dd7721de2a",
        "colab": {
          "base_uri": "https://localhost:8080/",
          "height": 171
        }
      },
      "source": [
        "# DataFrame\n",
        "import pandas as pd\n",
        "\n",
        "# Matplot\n",
        "import matplotlib.pyplot as plt\n",
        "%matplotlib inline\n",
        "\n",
        "# Scikit-learn\n",
        "from sklearn.model_selection import train_test_split\n",
        "from sklearn.preprocessing import LabelEncoder\n",
        "from sklearn.metrics import confusion_matrix, classification_report, accuracy_score\n",
        "from sklearn.manifold import TSNE\n",
        "from sklearn.feature_extraction.text import TfidfVectorizer\n",
        "\n",
        "# Keras\n",
        "from keras.preprocessing.text import Tokenizer\n",
        "from keras.preprocessing.sequence import pad_sequences\n",
        "from keras.models import Sequential\n",
        "from keras.layers import Activation, Dense, Dropout, Embedding, Flatten, Conv1D, MaxPooling1D, LSTM\n",
        "from keras import utils\n",
        "from keras.callbacks import ReduceLROnPlateau, EarlyStopping\n",
        "\n",
        "# nltk\n",
        "import nltk\n",
        "from nltk.corpus import stopwords\n",
        "from  nltk.stem import SnowballStemmer\n",
        "\n",
        "# Word2vec\n",
        "import gensim\n",
        "\n",
        "# Utility\n",
        "import re\n",
        "import numpy as np\n",
        "import os\n",
        "from collections import Counter\n",
        "import logging\n",
        "import time\n",
        "import pickle\n",
        "import itertools\n",
        "\n",
        "import tensorflow.compat.v1 as tf\n",
        "tf.disable_v2_behavior()\n",
        "\n",
        "# Set log\n",
        "logging.basicConfig(format='%(asctime)s : %(levelname)s : %(message)s', level=logging.INFO)"
      ],
      "execution_count": 2,
      "outputs": [
        {
          "output_type": "stream",
          "text": [
            "Using TensorFlow backend.\n"
          ],
          "name": "stderr"
        },
        {
          "output_type": "display_data",
          "data": {
            "text/html": [
              "<p style=\"color: red;\">\n",
              "The default version of TensorFlow in Colab will soon switch to TensorFlow 2.x.<br>\n",
              "We recommend you <a href=\"https://www.tensorflow.org/guide/migrate\" target=\"_blank\">upgrade</a> now \n",
              "or ensure your notebook will continue to use TensorFlow 1.x via the <code>%tensorflow_version 1.x</code> magic:\n",
              "<a href=\"https://colab.research.google.com/notebooks/tensorflow_version.ipynb\" target=\"_blank\">more info</a>.</p>\n"
            ],
            "text/plain": [
              "<IPython.core.display.HTML object>"
            ]
          },
          "metadata": {
            "tags": []
          }
        },
        {
          "output_type": "stream",
          "text": [
            "WARNING:tensorflow:From /tensorflow-1.15.0/python3.6/tensorflow_core/python/compat/v2_compat.py:68: disable_resource_variables (from tensorflow.python.ops.variable_scope) is deprecated and will be removed in a future version.\n",
            "Instructions for updating:\n",
            "non-resource variables are not supported in the long term\n"
          ],
          "name": "stdout"
        }
      ]
    },
    {
      "cell_type": "code",
      "metadata": {
        "id": "7E3EvigznDfx",
        "colab_type": "code",
        "outputId": "cdb78c33-42ec-454a-9af2-0daa6cad398c",
        "colab": {
          "base_uri": "https://localhost:8080/",
          "height": 69
        }
      },
      "source": [
        "nltk.download('stopwords')\n"
      ],
      "execution_count": 3,
      "outputs": [
        {
          "output_type": "stream",
          "text": [
            "[nltk_data] Downloading package stopwords to /root/nltk_data...\n",
            "[nltk_data]   Unzipping corpora/stopwords.zip.\n"
          ],
          "name": "stdout"
        },
        {
          "output_type": "execute_result",
          "data": {
            "text/plain": [
              "True"
            ]
          },
          "metadata": {
            "tags": []
          },
          "execution_count": 3
        }
      ]
    },
    {
      "cell_type": "code",
      "metadata": {
        "id": "3eCJcHAFnb6B",
        "colab_type": "code",
        "colab": {}
      },
      "source": [
        "# DATASET\n",
        "DATASET_COLUMNS = [\"target\", \"ids\", \"date\", \"flag\", \"user\", \"text\"]\n",
        "DATASET_ENCODING = \"ISO-8859-1\"\n",
        "TRAIN_SIZE = 0.8\n",
        "\n",
        "# TEXT CLENAING\n",
        "TEXT_CLEANING_RE = \"@\\S+|https?:\\S+|http?:\\S|[^A-Za-z0-9]+\"\n",
        "\n",
        "# WORD2VEC \n",
        "W2V_SIZE = 300\n",
        "W2V_WINDOW = 7\n",
        "W2V_EPOCH = 32\n",
        "W2V_MIN_COUNT = 10\n",
        "\n",
        "# KERAS\n",
        "SEQUENCE_LENGTH = 300\n",
        "EPOCHS = 4\n",
        "BATCH_SIZE = 1024\n",
        "\n",
        "# SENTIMENT\n",
        "POSITIVE = \"POSITIVE\"\n",
        "NEGATIVE = \"NEGATIVE\"\n",
        "NEUTRAL = \"NEUTRAL\"\n",
        "SENTIMENT_THRESHOLDS = (0.4, 0.7)\n",
        "\n",
        "# EXPORT\n",
        "KERAS_MODEL = \"model.h5\"\n",
        "WORD2VEC_MODEL = \"model.w2v\"\n",
        "TOKENIZER_MODEL = \"tokenizer.pkl\"\n",
        "ENCODER_MODEL = \"encoder.pkl\""
      ],
      "execution_count": 0,
      "outputs": []
    },
    {
      "cell_type": "code",
      "metadata": {
        "id": "nMIRSBqKn_Dt",
        "colab_type": "code",
        "colab": {
          "base_uri": "https://localhost:8080/",
          "height": 55
        },
        "outputId": "f1ffad89-3e29-4bba-8834-96b12f7886ab"
      },
      "source": [
        "from google.colab import drive\n",
        "drive.mount('/content/drive')"
      ],
      "execution_count": 5,
      "outputs": [
        {
          "output_type": "stream",
          "text": [
            "Drive already mounted at /content/drive; to attempt to forcibly remount, call drive.mount(\"/content/drive\", force_remount=True).\n"
          ],
          "name": "stdout"
        }
      ]
    },
    {
      "cell_type": "code",
      "metadata": {
        "id": "Rx6cwD3GoL5L",
        "colab_type": "code",
        "colab": {
          "base_uri": "https://localhost:8080/",
          "height": 35
        },
        "outputId": "c2bcea0e-ad2a-424b-9cd2-a2bd5e66deaa"
      },
      "source": [
        "cd 'drive/My Drive/python'"
      ],
      "execution_count": 6,
      "outputs": [
        {
          "output_type": "stream",
          "text": [
            "/content/drive/My Drive/python\n"
          ],
          "name": "stdout"
        }
      ]
    },
    {
      "cell_type": "markdown",
      "metadata": {
        "id": "zd4KJT71nueK",
        "colab_type": "text"
      },
      "source": [
        ""
      ]
    },
    {
      "cell_type": "code",
      "metadata": {
        "id": "JJ5djt8ann5g",
        "colab_type": "code",
        "colab": {}
      },
      "source": [
        "df = pd.read_csv('training_1600000_noemoticon.csv', encoding =DATASET_ENCODING , names=DATASET_COLUMNS, skip_blank_lines=True)"
      ],
      "execution_count": 0,
      "outputs": []
    },
    {
      "cell_type": "code",
      "metadata": {
        "id": "HgGMWdCXpfMI",
        "colab_type": "code",
        "colab": {
          "base_uri": "https://localhost:8080/",
          "height": 589
        },
        "outputId": "1e909936-80ea-457a-c752-9a2295065f00"
      },
      "source": [
        "df"
      ],
      "execution_count": 54,
      "outputs": [
        {
          "output_type": "execute_result",
          "data": {
            "text/html": [
              "<div>\n",
              "<style scoped>\n",
              "    .dataframe tbody tr th:only-of-type {\n",
              "        vertical-align: middle;\n",
              "    }\n",
              "\n",
              "    .dataframe tbody tr th {\n",
              "        vertical-align: top;\n",
              "    }\n",
              "\n",
              "    .dataframe thead th {\n",
              "        text-align: right;\n",
              "    }\n",
              "</style>\n",
              "<table border=\"1\" class=\"dataframe\">\n",
              "  <thead>\n",
              "    <tr style=\"text-align: right;\">\n",
              "      <th></th>\n",
              "      <th>target</th>\n",
              "      <th>ids</th>\n",
              "      <th>date</th>\n",
              "      <th>flag</th>\n",
              "      <th>user</th>\n",
              "      <th>text</th>\n",
              "    </tr>\n",
              "  </thead>\n",
              "  <tbody>\n",
              "    <tr>\n",
              "      <th>0</th>\n",
              "      <td>0</td>\n",
              "      <td>1467810369</td>\n",
              "      <td>Mon Apr 06 22:19:45 PDT 2009</td>\n",
              "      <td>NO_QUERY</td>\n",
              "      <td>_TheSpecialOne_</td>\n",
              "      <td>@switchfoot http://twitpic.com/2y1zl - Awww, t...</td>\n",
              "    </tr>\n",
              "    <tr>\n",
              "      <th>1</th>\n",
              "      <td>0</td>\n",
              "      <td>1467810672</td>\n",
              "      <td>Mon Apr 06 22:19:49 PDT 2009</td>\n",
              "      <td>NO_QUERY</td>\n",
              "      <td>scotthamilton</td>\n",
              "      <td>is upset that he can't update his Facebook by ...</td>\n",
              "    </tr>\n",
              "    <tr>\n",
              "      <th>2</th>\n",
              "      <td>0</td>\n",
              "      <td>1467810917</td>\n",
              "      <td>Mon Apr 06 22:19:53 PDT 2009</td>\n",
              "      <td>NO_QUERY</td>\n",
              "      <td>mattycus</td>\n",
              "      <td>@Kenichan I dived many times for the ball. Man...</td>\n",
              "    </tr>\n",
              "    <tr>\n",
              "      <th>3</th>\n",
              "      <td>0</td>\n",
              "      <td>1467811184</td>\n",
              "      <td>Mon Apr 06 22:19:57 PDT 2009</td>\n",
              "      <td>NO_QUERY</td>\n",
              "      <td>ElleCTF</td>\n",
              "      <td>my whole body feels itchy and like its on fire</td>\n",
              "    </tr>\n",
              "    <tr>\n",
              "      <th>4</th>\n",
              "      <td>0</td>\n",
              "      <td>1467811193</td>\n",
              "      <td>Mon Apr 06 22:19:57 PDT 2009</td>\n",
              "      <td>NO_QUERY</td>\n",
              "      <td>Karoli</td>\n",
              "      <td>@nationwideclass no, it's not behaving at all....</td>\n",
              "    </tr>\n",
              "    <tr>\n",
              "      <th>...</th>\n",
              "      <td>...</td>\n",
              "      <td>...</td>\n",
              "      <td>...</td>\n",
              "      <td>...</td>\n",
              "      <td>...</td>\n",
              "      <td>...</td>\n",
              "    </tr>\n",
              "    <tr>\n",
              "      <th>1599995</th>\n",
              "      <td>4</td>\n",
              "      <td>2193601966</td>\n",
              "      <td>Tue Jun 16 08:40:49 PDT 2009</td>\n",
              "      <td>NO_QUERY</td>\n",
              "      <td>AmandaMarie1028</td>\n",
              "      <td>Just woke up. Having no school is the best fee...</td>\n",
              "    </tr>\n",
              "    <tr>\n",
              "      <th>1599996</th>\n",
              "      <td>4</td>\n",
              "      <td>2193601969</td>\n",
              "      <td>Tue Jun 16 08:40:49 PDT 2009</td>\n",
              "      <td>NO_QUERY</td>\n",
              "      <td>TheWDBoards</td>\n",
              "      <td>TheWDB.com - Very cool to hear old Walt interv...</td>\n",
              "    </tr>\n",
              "    <tr>\n",
              "      <th>1599997</th>\n",
              "      <td>4</td>\n",
              "      <td>2193601991</td>\n",
              "      <td>Tue Jun 16 08:40:49 PDT 2009</td>\n",
              "      <td>NO_QUERY</td>\n",
              "      <td>bpbabe</td>\n",
              "      <td>Are you ready for your MoJo Makeover? Ask me f...</td>\n",
              "    </tr>\n",
              "    <tr>\n",
              "      <th>1599998</th>\n",
              "      <td>4</td>\n",
              "      <td>2193602064</td>\n",
              "      <td>Tue Jun 16 08:40:49 PDT 2009</td>\n",
              "      <td>NO_QUERY</td>\n",
              "      <td>tinydiamondz</td>\n",
              "      <td>Happy 38th Birthday to my boo of alll time!!! ...</td>\n",
              "    </tr>\n",
              "    <tr>\n",
              "      <th>1599999</th>\n",
              "      <td>4</td>\n",
              "      <td>2193602129</td>\n",
              "      <td>Tue Jun 16 08:40:50 PDT 2009</td>\n",
              "      <td>NO_QUERY</td>\n",
              "      <td>RyanTrevMorris</td>\n",
              "      <td>happy #charitytuesday @theNSPCC @SparksCharity...</td>\n",
              "    </tr>\n",
              "  </tbody>\n",
              "</table>\n",
              "<p>1600000 rows × 6 columns</p>\n",
              "</div>"
            ],
            "text/plain": [
              "         target  ...                                               text\n",
              "0             0  ...  @switchfoot http://twitpic.com/2y1zl - Awww, t...\n",
              "1             0  ...  is upset that he can't update his Facebook by ...\n",
              "2             0  ...  @Kenichan I dived many times for the ball. Man...\n",
              "3             0  ...    my whole body feels itchy and like its on fire \n",
              "4             0  ...  @nationwideclass no, it's not behaving at all....\n",
              "...         ...  ...                                                ...\n",
              "1599995       4  ...  Just woke up. Having no school is the best fee...\n",
              "1599996       4  ...  TheWDB.com - Very cool to hear old Walt interv...\n",
              "1599997       4  ...  Are you ready for your MoJo Makeover? Ask me f...\n",
              "1599998       4  ...  Happy 38th Birthday to my boo of alll time!!! ...\n",
              "1599999       4  ...  happy #charitytuesday @theNSPCC @SparksCharity...\n",
              "\n",
              "[1600000 rows x 6 columns]"
            ]
          },
          "metadata": {
            "tags": []
          },
          "execution_count": 54
        }
      ]
    },
    {
      "cell_type": "code",
      "metadata": {
        "id": "ehyaa5hW2Roz",
        "colab_type": "code",
        "colab": {}
      },
      "source": [
        "#drops all the rows that have all the values as NaN    \n",
        "for col in df.columns: \n",
        "    df = df[pd.notnull(df[col])]\n",
        "\n",
        "df.drop_duplicates(inplace=True)"
      ],
      "execution_count": 0,
      "outputs": []
    },
    {
      "cell_type": "code",
      "metadata": {
        "id": "R0J8V2t-rBH3",
        "colab_type": "code",
        "outputId": "4e86d0fc-81d4-4db8-9423-b3ad0fce28ab",
        "colab": {
          "base_uri": "https://localhost:8080/",
          "height": 52
        }
      },
      "source": [
        "print(\"Dataset size:\", len(df))\n",
        "df.isnull().values.any()"
      ],
      "execution_count": 57,
      "outputs": [
        {
          "output_type": "stream",
          "text": [
            "Dataset size: 1600000\n"
          ],
          "name": "stdout"
        },
        {
          "output_type": "execute_result",
          "data": {
            "text/plain": [
              "False"
            ]
          },
          "metadata": {
            "tags": []
          },
          "execution_count": 57
        }
      ]
    },
    {
      "cell_type": "markdown",
      "metadata": {
        "id": "QcFeERSL00ta",
        "colab_type": "text"
      },
      "source": [
        "Map target label to String\n",
        "0 -> NEGATIVE\n",
        "2 -> NEUTRAL\n",
        "4 -> POSITIVE"
      ]
    },
    {
      "cell_type": "code",
      "metadata": {
        "id": "R_F4TGAWrMIW",
        "colab_type": "code",
        "colab": {}
      },
      "source": [
        "decode_map = {0: \"NEGATIVE\", 2: \"NEUTRAL\", 4: \"POSITIVE\"}\n",
        "def decode_sentiment(label):\n",
        "    return decode_map[int(label)]"
      ],
      "execution_count": 0,
      "outputs": []
    },
    {
      "cell_type": "code",
      "metadata": {
        "id": "vnd9Gfzt04Ic",
        "colab_type": "code",
        "outputId": "4e93e41d-9778-4b1f-df62-ff8f472aa929",
        "colab": {
          "base_uri": "https://localhost:8080/",
          "height": 52
        }
      },
      "source": [
        "%%time\n",
        "df.target = df.target.apply(lambda x: decode_sentiment(x))"
      ],
      "execution_count": 59,
      "outputs": [
        {
          "output_type": "stream",
          "text": [
            "CPU times: user 506 ms, sys: 3.82 ms, total: 510 ms\n",
            "Wall time: 520 ms\n"
          ],
          "name": "stdout"
        }
      ]
    },
    {
      "cell_type": "code",
      "metadata": {
        "id": "Hd70wgTV07cw",
        "colab_type": "code",
        "outputId": "adc27e98-8157-4b4e-b09e-c7102362c351",
        "colab": {
          "base_uri": "https://localhost:8080/",
          "height": 537
        }
      },
      "source": [
        "target_cnt = Counter(df.target)\n",
        "\n",
        "plt.figure(figsize=(16,8))\n",
        "plt.bar(target_cnt.keys(), target_cnt.values())\n",
        "plt.title(\"Dataset labels distribuition\")"
      ],
      "execution_count": 60,
      "outputs": [
        {
          "output_type": "execute_result",
          "data": {
            "text/plain": [
              "Text(0.5, 1.0, 'Dataset labels distribuition')"
            ]
          },
          "metadata": {
            "tags": []
          },
          "execution_count": 60
        },
        {
          "output_type": "display_data",
          "data": {
            "image/png": "[encoded data removed]",
            "text/plain": [
              "<Figure size 1152x576 with 1 Axes>"
            ]
          },
          "metadata": {
            "tags": []
          }
        }
      ]
    },
    {
      "cell_type": "code",
      "metadata": {
        "id": "Zl-y-EDP2Yri",
        "colab_type": "code",
        "colab": {}
      },
      "source": [
        "stop_words = stopwords.words(\"english\")\n",
        "stemmer = SnowballStemmer(\"english\")"
      ],
      "execution_count": 0,
      "outputs": []
    },
    {
      "cell_type": "code",
      "metadata": {
        "id": "IoVoKt8L2osA",
        "colab_type": "code",
        "colab": {}
      },
      "source": [
        "def preprocess(text, stem=False):\n",
        "    # Remove link,user and special characters\n",
        "    text = re.sub(TEXT_CLEANING_RE, ' ', str(text).lower()).strip()\n",
        "    tokens = []\n",
        "    for token in text.split():\n",
        "        if token not in stop_words:\n",
        "            if stem:\n",
        "                tokens.append(stemmer.stem(token))\n",
        "            else:\n",
        "                tokens.append(token)\n",
        "    return \" \".join(tokens)"
      ],
      "execution_count": 0,
      "outputs": []
    },
    {
      "cell_type": "code",
      "metadata": {
        "id": "rqvcoeLf2rc2",
        "colab_type": "code",
        "outputId": "fec59601-dcb8-49c7-b9b5-a60b53fd07e3",
        "colab": {
          "base_uri": "https://localhost:8080/",
          "height": 52
        }
      },
      "source": [
        "%%time\n",
        "df.text = df.text.apply(lambda x: preprocess(x))"
      ],
      "execution_count": 63,
      "outputs": [
        {
          "output_type": "stream",
          "text": [
            "CPU times: user 46.4 s, sys: 287 ms, total: 46.7 s\n",
            "Wall time: 46.8 s\n"
          ],
          "name": "stdout"
        }
      ]
    },
    {
      "cell_type": "code",
      "metadata": {
        "id": "qRKGjmpD2vNe",
        "colab_type": "code",
        "outputId": "0fa75e0b-5cd2-4bcc-c1f8-26b705d685f8",
        "colab": {
          "base_uri": "https://localhost:8080/",
          "height": 52
        }
      },
      "source": [
        "df_train, df_test = train_test_split(df, test_size=1-TRAIN_SIZE, random_state=42)\n",
        "print(\"TRAIN size:\", len(df_train))\n",
        "print(\"TEST size:\", len(df_test))"
      ],
      "execution_count": 64,
      "outputs": [
        {
          "output_type": "stream",
          "text": [
            "TRAIN size: 1280000\n",
            "TEST size: 320000\n"
          ],
          "name": "stdout"
        }
      ]
    },
    {
      "cell_type": "code",
      "metadata": {
        "id": "EGIs-bbg2z-6",
        "colab_type": "code",
        "outputId": "1782cb01-1e95-432c-8f82-73cbb5703e04",
        "colab": {
          "base_uri": "https://localhost:8080/",
          "height": 52
        }
      },
      "source": [
        "%%time\n",
        "documents = [_text.split() for _text in df_train.text] "
      ],
      "execution_count": 65,
      "outputs": [
        {
          "output_type": "stream",
          "text": [
            "CPU times: user 2.78 s, sys: 366 ms, total: 3.15 s\n",
            "Wall time: 3.16 s\n"
          ],
          "name": "stdout"
        }
      ]
    },
    {
      "cell_type": "code",
      "metadata": {
        "id": "_cJskqqe2381",
        "colab_type": "code",
        "colab": {}
      },
      "source": [
        "w2v_model = gensim.models.word2vec.Word2Vec(size=W2V_SIZE, \n",
        "                                            window=W2V_WINDOW, \n",
        "                                            min_count=W2V_MIN_COUNT, \n",
        "                                            workers=8)"
      ],
      "execution_count": 0,
      "outputs": []
    },
    {
      "cell_type": "code",
      "metadata": {
        "id": "kIuA2-lw28Cq",
        "colab_type": "code",
        "outputId": "22cb4157-8fae-44b3-d8ce-0d5b04000d3d",
        "colab": {
          "base_uri": "https://localhost:8080/",
          "height": 1000
        }
      },
      "source": [
        "w2v_model.build_vocab(documents)"
      ],
      "execution_count": 67,
      "outputs": [
        {
          "output_type": "stream",
          "text": [
            "2020-03-23 14:15:22,629 : INFO : collecting all words and their counts\n",
            "2020-03-23 14:15:22,631 : INFO : PROGRESS: at sentence #0, processed 0 words, keeping 0 word types\n",
            "2020-03-23 14:15:22,660 : INFO : PROGRESS: at sentence #10000, processed 72565 words, keeping 14005 word types\n",
            "2020-03-23 14:15:22,680 : INFO : PROGRESS: at sentence #20000, processed 144393 words, keeping 21587 word types\n",
            "2020-03-23 14:15:22,704 : INFO : PROGRESS: at sentence #30000, processed 215826 words, keeping 27541 word types\n",
            "2020-03-23 14:15:22,727 : INFO : PROGRESS: at sentence #40000, processed 288271 words, keeping 32764 word types\n",
            "2020-03-23 14:15:22,749 : INFO : PROGRESS: at sentence #50000, processed 359772 words, keeping 37587 word types\n",
            "2020-03-23 14:15:22,771 : INFO : PROGRESS: at sentence #60000, processed 431431 words, keeping 42198 word types\n",
            "2020-03-23 14:15:22,796 : INFO : PROGRESS: at sentence #70000, processed 503103 words, keeping 46458 word types\n",
            "2020-03-23 14:15:22,820 : INFO : PROGRESS: at sentence #80000, processed 575709 words, keeping 50476 word types\n",
            "2020-03-23 14:15:22,842 : INFO : PROGRESS: at sentence #90000, processed 647100 words, keeping 54140 word types\n",
            "2020-03-23 14:15:22,865 : INFO : PROGRESS: at sentence #100000, processed 718681 words, keeping 57777 word types\n",
            "2020-03-23 14:15:22,888 : INFO : PROGRESS: at sentence #110000, processed 790696 words, keeping 61207 word types\n",
            "2020-03-23 14:15:22,912 : INFO : PROGRESS: at sentence #120000, processed 863134 words, keeping 64583 word types\n",
            "2020-03-23 14:15:22,934 : INFO : PROGRESS: at sentence #130000, processed 935111 words, keeping 67865 word types\n",
            "2020-03-23 14:15:22,957 : INFO : PROGRESS: at sentence #140000, processed 1006668 words, keeping 70966 word types\n",
            "2020-03-23 14:15:22,986 : INFO : PROGRESS: at sentence #150000, processed 1078512 words, keeping 74119 word types\n",
            "2020-03-23 14:15:23,013 : INFO : PROGRESS: at sentence #160000, processed 1149914 words, keeping 77187 word types\n",
            "2020-03-23 14:15:23,038 : INFO : PROGRESS: at sentence #170000, processed 1222145 words, keeping 80267 word types\n",
            "2020-03-23 14:15:23,062 : INFO : PROGRESS: at sentence #180000, processed 1294708 words, keeping 83393 word types\n",
            "2020-03-23 14:15:23,085 : INFO : PROGRESS: at sentence #190000, processed 1367608 words, keeping 86329 word types\n",
            "2020-03-23 14:15:23,112 : INFO : PROGRESS: at sentence #200000, processed 1439469 words, keeping 89103 word types\n",
            "2020-03-23 14:15:23,136 : INFO : PROGRESS: at sentence #210000, processed 1512099 words, keeping 91840 word types\n",
            "2020-03-23 14:15:23,159 : INFO : PROGRESS: at sentence #220000, processed 1584149 words, keeping 94636 word types\n",
            "2020-03-23 14:15:23,182 : INFO : PROGRESS: at sentence #230000, processed 1656354 words, keeping 97353 word types\n",
            "2020-03-23 14:15:23,207 : INFO : PROGRESS: at sentence #240000, processed 1728573 words, keeping 99975 word types\n",
            "2020-03-23 14:15:23,230 : INFO : PROGRESS: at sentence #250000, processed 1801102 words, keeping 102594 word types\n",
            "2020-03-23 14:15:23,257 : INFO : PROGRESS: at sentence #260000, processed 1873103 words, keeping 105162 word types\n",
            "2020-03-23 14:15:23,285 : INFO : PROGRESS: at sentence #270000, processed 1945245 words, keeping 107626 word types\n",
            "2020-03-23 14:15:23,311 : INFO : PROGRESS: at sentence #280000, processed 2017163 words, keeping 110141 word types\n",
            "2020-03-23 14:15:23,335 : INFO : PROGRESS: at sentence #290000, processed 2089574 words, keeping 112539 word types\n",
            "2020-03-23 14:15:23,358 : INFO : PROGRESS: at sentence #300000, processed 2160996 words, keeping 114893 word types\n",
            "2020-03-23 14:15:23,384 : INFO : PROGRESS: at sentence #310000, processed 2232913 words, keeping 117298 word types\n",
            "2020-03-23 14:15:23,408 : INFO : PROGRESS: at sentence #320000, processed 2305039 words, keeping 119693 word types\n",
            "2020-03-23 14:15:23,433 : INFO : PROGRESS: at sentence #330000, processed 2377119 words, keeping 122131 word types\n",
            "2020-03-23 14:15:23,458 : INFO : PROGRESS: at sentence #340000, processed 2449370 words, keeping 124416 word types\n",
            "2020-03-23 14:15:23,482 : INFO : PROGRESS: at sentence #350000, processed 2521564 words, keeping 126669 word types\n",
            "2020-03-23 14:15:23,507 : INFO : PROGRESS: at sentence #360000, processed 2593681 words, keeping 128912 word types\n",
            "2020-03-23 14:15:23,531 : INFO : PROGRESS: at sentence #370000, processed 2665692 words, keeping 131135 word types\n",
            "2020-03-23 14:15:23,555 : INFO : PROGRESS: at sentence #380000, processed 2737859 words, keeping 133403 word types\n",
            "2020-03-23 14:15:23,578 : INFO : PROGRESS: at sentence #390000, processed 2809848 words, keeping 135551 word types\n",
            "2020-03-23 14:15:23,605 : INFO : PROGRESS: at sentence #400000, processed 2882438 words, keeping 137742 word types\n",
            "2020-03-23 14:15:23,628 : INFO : PROGRESS: at sentence #410000, processed 2954075 words, keeping 139909 word types\n",
            "2020-03-23 14:15:23,652 : INFO : PROGRESS: at sentence #420000, processed 3026247 words, keeping 142144 word types\n",
            "2020-03-23 14:15:23,676 : INFO : PROGRESS: at sentence #430000, processed 3098659 words, keeping 144364 word types\n",
            "2020-03-23 14:15:23,701 : INFO : PROGRESS: at sentence #440000, processed 3170663 words, keeping 146439 word types\n",
            "2020-03-23 14:15:23,726 : INFO : PROGRESS: at sentence #450000, processed 3243344 words, keeping 148526 word types\n",
            "2020-03-23 14:15:23,752 : INFO : PROGRESS: at sentence #460000, processed 3315466 words, keeping 150610 word types\n",
            "2020-03-23 14:15:23,778 : INFO : PROGRESS: at sentence #470000, processed 3388295 words, keeping 152737 word types\n",
            "2020-03-23 14:15:23,808 : INFO : PROGRESS: at sentence #480000, processed 3460120 words, keeping 154757 word types\n",
            "2020-03-23 14:15:23,836 : INFO : PROGRESS: at sentence #490000, processed 3531883 words, keeping 156825 word types\n",
            "2020-03-23 14:15:23,864 : INFO : PROGRESS: at sentence #500000, processed 3604217 words, keeping 158859 word types\n",
            "2020-03-23 14:15:23,888 : INFO : PROGRESS: at sentence #510000, processed 3676427 words, keeping 160852 word types\n",
            "2020-03-23 14:15:23,914 : INFO : PROGRESS: at sentence #520000, processed 3749045 words, keeping 162863 word types\n",
            "2020-03-23 14:15:23,937 : INFO : PROGRESS: at sentence #530000, processed 3821622 words, keeping 164929 word types\n",
            "2020-03-23 14:15:23,962 : INFO : PROGRESS: at sentence #540000, processed 3893627 words, keeping 166840 word types\n",
            "2020-03-23 14:15:23,987 : INFO : PROGRESS: at sentence #550000, processed 3965477 words, keeping 168799 word types\n",
            "2020-03-23 14:15:24,011 : INFO : PROGRESS: at sentence #560000, processed 4038050 words, keeping 170802 word types\n",
            "2020-03-23 14:15:24,036 : INFO : PROGRESS: at sentence #570000, processed 4110296 words, keeping 172760 word types\n",
            "2020-03-23 14:15:24,059 : INFO : PROGRESS: at sentence #580000, processed 4182385 words, keeping 174635 word types\n",
            "2020-03-23 14:15:24,088 : INFO : PROGRESS: at sentence #590000, processed 4254632 words, keeping 176470 word types\n",
            "2020-03-23 14:15:24,113 : INFO : PROGRESS: at sentence #600000, processed 4326859 words, keeping 178350 word types\n",
            "2020-03-23 14:15:24,139 : INFO : PROGRESS: at sentence #610000, processed 4399183 words, keeping 180290 word types\n",
            "2020-03-23 14:15:24,162 : INFO : PROGRESS: at sentence #620000, processed 4471343 words, keeping 182129 word types\n",
            "2020-03-23 14:15:24,187 : INFO : PROGRESS: at sentence #630000, processed 4543286 words, keeping 184005 word types\n",
            "2020-03-23 14:15:24,212 : INFO : PROGRESS: at sentence #640000, processed 4615780 words, keeping 185835 word types\n",
            "2020-03-23 14:15:24,236 : INFO : PROGRESS: at sentence #650000, processed 4688481 words, keeping 187705 word types\n",
            "2020-03-23 14:15:24,262 : INFO : PROGRESS: at sentence #660000, processed 4760481 words, keeping 189439 word types\n",
            "2020-03-23 14:15:24,288 : INFO : PROGRESS: at sentence #670000, processed 4833024 words, keeping 191232 word types\n",
            "2020-03-23 14:15:24,315 : INFO : PROGRESS: at sentence #680000, processed 4904516 words, keeping 193177 word types\n",
            "2020-03-23 14:15:24,341 : INFO : PROGRESS: at sentence #690000, processed 4976968 words, keeping 194960 word types\n",
            "2020-03-23 14:15:24,365 : INFO : PROGRESS: at sentence #700000, processed 5049412 words, keeping 196725 word types\n",
            "2020-03-23 14:15:24,390 : INFO : PROGRESS: at sentence #710000, processed 5121976 words, keeping 198516 word types\n",
            "2020-03-23 14:15:24,414 : INFO : PROGRESS: at sentence #720000, processed 5193881 words, keeping 200325 word types\n",
            "2020-03-23 14:15:24,439 : INFO : PROGRESS: at sentence #730000, processed 5265467 words, keeping 202133 word types\n",
            "2020-03-23 14:15:24,463 : INFO : PROGRESS: at sentence #740000, processed 5337518 words, keeping 203818 word types\n",
            "2020-03-23 14:15:24,488 : INFO : PROGRESS: at sentence #750000, processed 5409321 words, keeping 205535 word types\n",
            "2020-03-23 14:15:24,513 : INFO : PROGRESS: at sentence #760000, processed 5481512 words, keeping 207282 word types\n",
            "2020-03-23 14:15:24,537 : INFO : PROGRESS: at sentence #770000, processed 5554093 words, keeping 209076 word types\n",
            "2020-03-23 14:15:24,561 : INFO : PROGRESS: at sentence #780000, processed 5625382 words, keeping 210805 word types\n",
            "2020-03-23 14:15:24,585 : INFO : PROGRESS: at sentence #790000, processed 5698066 words, keeping 212618 word types\n",
            "2020-03-23 14:15:24,614 : INFO : PROGRESS: at sentence #800000, processed 5770880 words, keeping 214374 word types\n",
            "2020-03-23 14:15:24,639 : INFO : PROGRESS: at sentence #810000, processed 5843418 words, keeping 216009 word types\n",
            "2020-03-23 14:15:24,663 : INFO : PROGRESS: at sentence #820000, processed 5915628 words, keeping 217804 word types\n",
            "2020-03-23 14:15:24,687 : INFO : PROGRESS: at sentence #830000, processed 5987499 words, keeping 219585 word types\n",
            "2020-03-23 14:15:24,712 : INFO : PROGRESS: at sentence #840000, processed 6058973 words, keeping 221344 word types\n",
            "2020-03-23 14:15:24,738 : INFO : PROGRESS: at sentence #850000, processed 6131125 words, keeping 223002 word types\n",
            "2020-03-23 14:15:24,764 : INFO : PROGRESS: at sentence #860000, processed 6202951 words, keeping 224643 word types\n",
            "2020-03-23 14:15:24,789 : INFO : PROGRESS: at sentence #870000, processed 6275461 words, keeping 226362 word types\n",
            "2020-03-23 14:15:24,815 : INFO : PROGRESS: at sentence #880000, processed 6347661 words, keeping 227986 word types\n",
            "2020-03-23 14:15:24,839 : INFO : PROGRESS: at sentence #890000, processed 6419806 words, keeping 229634 word types\n",
            "2020-03-23 14:15:24,863 : INFO : PROGRESS: at sentence #900000, processed 6491644 words, keeping 231389 word types\n",
            "2020-03-23 14:15:24,889 : INFO : PROGRESS: at sentence #910000, processed 6564022 words, keeping 233050 word types\n",
            "2020-03-23 14:15:24,913 : INFO : PROGRESS: at sentence #920000, processed 6636228 words, keeping 234686 word types\n",
            "2020-03-23 14:15:24,938 : INFO : PROGRESS: at sentence #930000, processed 6708573 words, keeping 236393 word types\n",
            "2020-03-23 14:15:24,964 : INFO : PROGRESS: at sentence #940000, processed 6779956 words, keeping 238052 word types\n",
            "2020-03-23 14:15:24,993 : INFO : PROGRESS: at sentence #950000, processed 6852599 words, keeping 239716 word types\n",
            "2020-03-23 14:15:25,021 : INFO : PROGRESS: at sentence #960000, processed 6924717 words, keeping 241354 word types\n",
            "2020-03-23 14:15:25,045 : INFO : PROGRESS: at sentence #970000, processed 6996992 words, keeping 242980 word types\n",
            "2020-03-23 14:15:25,071 : INFO : PROGRESS: at sentence #980000, processed 7068402 words, keeping 244646 word types\n",
            "2020-03-23 14:15:25,097 : INFO : PROGRESS: at sentence #990000, processed 7140346 words, keeping 246186 word types\n",
            "2020-03-23 14:15:25,122 : INFO : PROGRESS: at sentence #1000000, processed 7211757 words, keeping 247726 word types\n",
            "2020-03-23 14:15:25,149 : INFO : PROGRESS: at sentence #1010000, processed 7283267 words, keeping 249288 word types\n",
            "2020-03-23 14:15:25,172 : INFO : PROGRESS: at sentence #1020000, processed 7355299 words, keeping 250860 word types\n",
            "2020-03-23 14:15:25,197 : INFO : PROGRESS: at sentence #1030000, processed 7426918 words, keeping 252366 word types\n",
            "2020-03-23 14:15:25,223 : INFO : PROGRESS: at sentence #1040000, processed 7498815 words, keeping 253930 word types\n",
            "2020-03-23 14:15:25,248 : INFO : PROGRESS: at sentence #1050000, processed 7570499 words, keeping 255471 word types\n",
            "2020-03-23 14:15:25,272 : INFO : PROGRESS: at sentence #1060000, processed 7643251 words, keeping 257035 word types\n",
            "2020-03-23 14:15:25,299 : INFO : PROGRESS: at sentence #1070000, processed 7714721 words, keeping 258509 word types\n",
            "2020-03-23 14:15:25,324 : INFO : PROGRESS: at sentence #1080000, processed 7787371 words, keeping 260071 word types\n",
            "2020-03-23 14:15:25,348 : INFO : PROGRESS: at sentence #1090000, processed 7859336 words, keeping 261683 word types\n",
            "2020-03-23 14:15:25,372 : INFO : PROGRESS: at sentence #1100000, processed 7932029 words, keeping 263278 word types\n",
            "2020-03-23 14:15:25,396 : INFO : PROGRESS: at sentence #1110000, processed 8004146 words, keeping 264800 word types\n",
            "2020-03-23 14:15:25,422 : INFO : PROGRESS: at sentence #1120000, processed 8075880 words, keeping 266309 word types\n",
            "2020-03-23 14:15:25,446 : INFO : PROGRESS: at sentence #1130000, processed 8148163 words, keeping 267826 word types\n",
            "2020-03-23 14:15:25,470 : INFO : PROGRESS: at sentence #1140000, processed 8220487 words, keeping 269391 word types\n",
            "2020-03-23 14:15:25,495 : INFO : PROGRESS: at sentence #1150000, processed 8292498 words, keeping 270894 word types\n",
            "2020-03-23 14:15:25,521 : INFO : PROGRESS: at sentence #1160000, processed 8363838 words, keeping 272400 word types\n",
            "2020-03-23 14:15:25,544 : INFO : PROGRESS: at sentence #1170000, processed 8435510 words, keeping 273970 word types\n",
            "2020-03-23 14:15:25,568 : INFO : PROGRESS: at sentence #1180000, processed 8507795 words, keeping 275521 word types\n",
            "2020-03-23 14:15:25,591 : INFO : PROGRESS: at sentence #1190000, processed 8579080 words, keeping 277007 word types\n",
            "2020-03-23 14:15:25,614 : INFO : PROGRESS: at sentence #1200000, processed 8650606 words, keeping 278457 word types\n",
            "2020-03-23 14:15:25,638 : INFO : PROGRESS: at sentence #1210000, processed 8721893 words, keeping 279959 word types\n",
            "2020-03-23 14:15:25,661 : INFO : PROGRESS: at sentence #1220000, processed 8793795 words, keeping 281427 word types\n",
            "2020-03-23 14:15:25,685 : INFO : PROGRESS: at sentence #1230000, processed 8865726 words, keeping 282981 word types\n",
            "2020-03-23 14:15:25,711 : INFO : PROGRESS: at sentence #1240000, processed 8938173 words, keeping 284542 word types\n",
            "2020-03-23 14:15:25,735 : INFO : PROGRESS: at sentence #1250000, processed 9010842 words, keeping 286064 word types\n",
            "2020-03-23 14:15:25,759 : INFO : PROGRESS: at sentence #1260000, processed 9083261 words, keeping 287521 word types\n",
            "2020-03-23 14:15:25,784 : INFO : PROGRESS: at sentence #1270000, processed 9155616 words, keeping 288987 word types\n",
            "2020-03-23 14:15:25,814 : INFO : collected 290418 word types from a corpus of 9227204 raw words and 1280000 sentences\n",
            "2020-03-23 14:15:25,815 : INFO : Loading a fresh vocabulary\n",
            "2020-03-23 14:15:25,978 : INFO : effective_min_count=10 retains 30369 unique words (10% of original 290418, drops 260049)\n",
            "2020-03-23 14:15:25,979 : INFO : effective_min_count=10 leaves 8780739 word corpus (95% of original 9227204, drops 446465)\n",
            "2020-03-23 14:15:26,084 : INFO : deleting the raw counts dictionary of 290418 items\n",
            "2020-03-23 14:15:26,093 : INFO : sample=0.001 downsamples 45 most-common words\n",
            "2020-03-23 14:15:26,094 : INFO : downsampling leaves estimated 8222658 word corpus (93.6% of prior 8780739)\n",
            "2020-03-23 14:15:26,200 : INFO : estimated required memory for 30369 words and 300 dimensions: 88070100 bytes\n",
            "2020-03-23 14:15:26,201 : INFO : resetting layer weights\n"
          ],
          "name": "stderr"
        }
      ]
    },
    {
      "cell_type": "code",
      "metadata": {
        "id": "VU4fzFpA2-RQ",
        "colab_type": "code",
        "outputId": "aee5f0db-1eb0-4159-be6a-14a0efb1001a",
        "colab": {
          "base_uri": "https://localhost:8080/",
          "height": 35
        }
      },
      "source": [
        "words = w2v_model.wv.vocab.keys()\n",
        "vocab_size = len(words)\n",
        "print(\"Vocab size\", vocab_size)"
      ],
      "execution_count": 68,
      "outputs": [
        {
          "output_type": "stream",
          "text": [
            "Vocab size 30369\n"
          ],
          "name": "stdout"
        }
      ]
    },
    {
      "cell_type": "code",
      "metadata": {
        "id": "gCd6pZrv3Dt7",
        "colab_type": "code",
        "outputId": "859eb97d-f136-48c9-ad94-bd8f09ce4df5",
        "colab": {
          "base_uri": "https://localhost:8080/",
          "height": 1000
        }
      },
      "source": [
        "%%time\n",
        "w2v_model.train(documents, total_examples=len(documents), epochs=W2V_EPOCH)"
      ],
      "execution_count": 69,
      "outputs": [
        {
          "output_type": "stream",
          "text": [
            "2020-03-23 14:15:32,325 : INFO : training model with 8 workers on 30369 vocabulary and 300 features, using sg=0 hs=0 sample=0.001 negative=5 window=7\n",
            "2020-03-23 14:15:33,338 : INFO : EPOCH 1 - PROGRESS: at 3.69% examples, 301493 words/s, in_qsize 15, out_qsize 1\n",
            "2020-03-23 14:15:34,344 : INFO : EPOCH 1 - PROGRESS: at 8.36% examples, 341093 words/s, in_qsize 15, out_qsize 0\n",
            "2020-03-23 14:15:35,443 : INFO : EPOCH 1 - PROGRESS: at 13.04% examples, 343799 words/s, in_qsize 16, out_qsize 3\n",
            "2020-03-23 14:15:36,466 : INFO : EPOCH 1 - PROGRESS: at 17.57% examples, 349121 words/s, in_qsize 14, out_qsize 1\n",
            "2020-03-23 14:15:37,474 : INFO : EPOCH 1 - PROGRESS: at 22.44% examples, 358685 words/s, in_qsize 14, out_qsize 0\n",
            "2020-03-23 14:15:38,527 : INFO : EPOCH 1 - PROGRESS: at 26.78% examples, 355216 words/s, in_qsize 14, out_qsize 1\n",
            "2020-03-23 14:15:39,571 : INFO : EPOCH 1 - PROGRESS: at 31.21% examples, 354485 words/s, in_qsize 14, out_qsize 1\n",
            "2020-03-23 14:15:40,638 : INFO : EPOCH 1 - PROGRESS: at 36.07% examples, 357181 words/s, in_qsize 15, out_qsize 0\n",
            "2020-03-23 14:15:41,640 : INFO : EPOCH 1 - PROGRESS: at 40.62% examples, 358934 words/s, in_qsize 15, out_qsize 0\n",
            "2020-03-23 14:15:42,679 : INFO : EPOCH 1 - PROGRESS: at 45.05% examples, 358155 words/s, in_qsize 15, out_qsize 0\n",
            "2020-03-23 14:15:43,702 : INFO : EPOCH 1 - PROGRESS: at 50.13% examples, 362799 words/s, in_qsize 15, out_qsize 0\n",
            "2020-03-23 14:15:44,747 : INFO : EPOCH 1 - PROGRESS: at 54.46% examples, 360997 words/s, in_qsize 15, out_qsize 0\n",
            "2020-03-23 14:15:45,758 : INFO : EPOCH 1 - PROGRESS: at 58.90% examples, 361028 words/s, in_qsize 15, out_qsize 0\n",
            "2020-03-23 14:15:46,822 : INFO : EPOCH 1 - PROGRESS: at 63.43% examples, 360333 words/s, in_qsize 15, out_qsize 0\n",
            "2020-03-23 14:15:47,823 : INFO : EPOCH 1 - PROGRESS: at 67.99% examples, 361166 words/s, in_qsize 13, out_qsize 2\n",
            "2020-03-23 14:15:48,862 : INFO : EPOCH 1 - PROGRESS: at 72.86% examples, 362989 words/s, in_qsize 15, out_qsize 0\n",
            "2020-03-23 14:15:49,858 : INFO : EPOCH 1 - PROGRESS: at 76.77% examples, 360385 words/s, in_qsize 14, out_qsize 6\n",
            "2020-03-23 14:15:50,865 : INFO : EPOCH 1 - PROGRESS: at 81.55% examples, 361949 words/s, in_qsize 14, out_qsize 0\n",
            "2020-03-23 14:15:51,896 : INFO : EPOCH 1 - PROGRESS: at 86.31% examples, 362884 words/s, in_qsize 15, out_qsize 0\n",
            "2020-03-23 14:15:52,961 : INFO : EPOCH 1 - PROGRESS: at 90.87% examples, 362600 words/s, in_qsize 15, out_qsize 0\n",
            "2020-03-23 14:15:53,992 : INFO : EPOCH 1 - PROGRESS: at 95.23% examples, 361466 words/s, in_qsize 15, out_qsize 0\n",
            "2020-03-23 14:15:54,804 : INFO : worker thread finished; awaiting finish of 7 more threads\n",
            "2020-03-23 14:15:54,850 : INFO : worker thread finished; awaiting finish of 6 more threads\n",
            "2020-03-23 14:15:54,853 : INFO : worker thread finished; awaiting finish of 5 more threads\n",
            "2020-03-23 14:15:54,856 : INFO : worker thread finished; awaiting finish of 4 more threads\n",
            "2020-03-23 14:15:54,881 : INFO : worker thread finished; awaiting finish of 3 more threads\n",
            "2020-03-23 14:15:54,882 : INFO : worker thread finished; awaiting finish of 2 more threads\n",
            "2020-03-23 14:15:54,893 : INFO : worker thread finished; awaiting finish of 1 more threads\n",
            "2020-03-23 14:15:54,897 : INFO : worker thread finished; awaiting finish of 0 more threads\n",
            "2020-03-23 14:15:54,898 : INFO : EPOCH - 1 : training on 9227204 raw words (8221768 effective words) took 22.6s, 364373 effective words/s\n",
            "2020-03-23 14:15:55,933 : INFO : EPOCH 2 - PROGRESS: at 4.02% examples, 321976 words/s, in_qsize 15, out_qsize 0\n",
            "2020-03-23 14:15:56,945 : INFO : EPOCH 2 - PROGRESS: at 8.58% examples, 345892 words/s, in_qsize 12, out_qsize 2\n",
            "2020-03-23 14:15:57,961 : INFO : EPOCH 2 - PROGRESS: at 12.82% examples, 344569 words/s, in_qsize 16, out_qsize 1\n",
            "2020-03-23 14:15:58,995 : INFO : EPOCH 2 - PROGRESS: at 17.57% examples, 353206 words/s, in_qsize 16, out_qsize 2\n",
            "2020-03-23 14:16:00,031 : INFO : EPOCH 2 - PROGRESS: at 22.22% examples, 356644 words/s, in_qsize 16, out_qsize 0\n",
            "2020-03-23 14:16:01,063 : INFO : EPOCH 2 - PROGRESS: at 26.88% examples, 359066 words/s, in_qsize 15, out_qsize 3\n",
            "2020-03-23 14:16:02,069 : INFO : EPOCH 2 - PROGRESS: at 31.54% examples, 362164 words/s, in_qsize 15, out_qsize 0\n",
            "2020-03-23 14:16:03,142 : INFO : EPOCH 2 - PROGRESS: at 35.75% examples, 357171 words/s, in_qsize 15, out_qsize 0\n",
            "2020-03-23 14:16:04,214 : INFO : EPOCH 2 - PROGRESS: at 40.40% examples, 358530 words/s, in_qsize 15, out_qsize 0\n",
            "2020-03-23 14:16:05,207 : INFO : EPOCH 2 - PROGRESS: at 44.83% examples, 358220 words/s, in_qsize 16, out_qsize 0\n",
            "2020-03-23 14:16:06,251 : INFO : EPOCH 2 - PROGRESS: at 49.49% examples, 359023 words/s, in_qsize 15, out_qsize 0\n",
            "2020-03-23 14:16:07,253 : INFO : EPOCH 2 - PROGRESS: at 54.03% examples, 360232 words/s, in_qsize 16, out_qsize 0\n",
            "2020-03-23 14:16:08,263 : INFO : EPOCH 2 - PROGRESS: at 58.79% examples, 362340 words/s, in_qsize 14, out_qsize 1\n",
            "2020-03-23 14:16:09,282 : INFO : EPOCH 2 - PROGRESS: at 63.22% examples, 362071 words/s, in_qsize 15, out_qsize 0\n",
            "2020-03-23 14:16:10,297 : INFO : EPOCH 2 - PROGRESS: at 67.24% examples, 359594 words/s, in_qsize 15, out_qsize 3\n",
            "2020-03-23 14:16:11,352 : INFO : EPOCH 2 - PROGRESS: at 72.10% examples, 360905 words/s, in_qsize 16, out_qsize 0\n",
            "2020-03-23 14:16:12,355 : INFO : EPOCH 2 - PROGRESS: at 76.44% examples, 360561 words/s, in_qsize 15, out_qsize 0\n",
            "2020-03-23 14:16:13,390 : INFO : EPOCH 2 - PROGRESS: at 81.01% examples, 360615 words/s, in_qsize 15, out_qsize 0\n",
            "2020-03-23 14:16:14,399 : INFO : EPOCH 2 - PROGRESS: at 85.77% examples, 362068 words/s, in_qsize 15, out_qsize 0\n",
            "2020-03-23 14:16:15,421 : INFO : EPOCH 2 - PROGRESS: at 90.22% examples, 361817 words/s, in_qsize 15, out_qsize 0\n",
            "2020-03-23 14:16:16,484 : INFO : EPOCH 2 - PROGRESS: at 94.90% examples, 361717 words/s, in_qsize 15, out_qsize 0\n",
            "2020-03-23 14:16:17,463 : INFO : worker thread finished; awaiting finish of 7 more threads\n",
            "2020-03-23 14:16:17,507 : INFO : EPOCH 2 - PROGRESS: at 99.34% examples, 361548 words/s, in_qsize 6, out_qsize 1\n",
            "2020-03-23 14:16:17,514 : INFO : worker thread finished; awaiting finish of 6 more threads\n",
            "2020-03-23 14:16:17,519 : INFO : worker thread finished; awaiting finish of 5 more threads\n",
            "2020-03-23 14:16:17,521 : INFO : worker thread finished; awaiting finish of 4 more threads\n",
            "2020-03-23 14:16:17,524 : INFO : worker thread finished; awaiting finish of 3 more threads\n",
            "2020-03-23 14:16:17,525 : INFO : worker thread finished; awaiting finish of 2 more threads\n",
            "2020-03-23 14:16:17,528 : INFO : worker thread finished; awaiting finish of 1 more threads\n",
            "2020-03-23 14:16:17,529 : INFO : worker thread finished; awaiting finish of 0 more threads\n",
            "2020-03-23 14:16:17,532 : INFO : EPOCH - 2 : training on 9227204 raw words (8223345 effective words) took 22.6s, 363521 effective words/s\n",
            "2020-03-23 14:16:18,613 : INFO : EPOCH 3 - PROGRESS: at 3.91% examples, 306478 words/s, in_qsize 16, out_qsize 4\n",
            "2020-03-23 14:16:19,683 : INFO : EPOCH 3 - PROGRESS: at 8.80% examples, 337352 words/s, in_qsize 15, out_qsize 0\n",
            "2020-03-23 14:16:20,687 : INFO : EPOCH 3 - PROGRESS: at 13.58% examples, 354227 words/s, in_qsize 15, out_qsize 0\n",
            "2020-03-23 14:16:21,708 : INFO : EPOCH 3 - PROGRESS: at 17.78% examples, 350675 words/s, in_qsize 15, out_qsize 0\n",
            "2020-03-23 14:16:22,720 : INFO : EPOCH 3 - PROGRESS: at 22.55% examples, 357922 words/s, in_qsize 16, out_qsize 0\n",
            "2020-03-23 14:16:23,801 : INFO : EPOCH 3 - PROGRESS: at 27.10% examples, 355877 words/s, in_qsize 15, out_qsize 0\n",
            "2020-03-23 14:16:24,826 : INFO : EPOCH 3 - PROGRESS: at 31.97% examples, 360886 words/s, in_qsize 16, out_qsize 1\n",
            "2020-03-23 14:16:25,947 : INFO : EPOCH 3 - PROGRESS: at 36.61% examples, 358263 words/s, in_qsize 15, out_qsize 0\n",
            "2020-03-23 14:16:26,948 : INFO : EPOCH 3 - PROGRESS: at 41.48% examples, 362781 words/s, in_qsize 15, out_qsize 0\n",
            "2020-03-23 14:16:27,980 : INFO : EPOCH 3 - PROGRESS: at 46.02% examples, 362743 words/s, in_qsize 15, out_qsize 0\n",
            "2020-03-23 14:16:29,001 : INFO : EPOCH 3 - PROGRESS: at 50.35% examples, 361554 words/s, in_qsize 15, out_qsize 0\n",
            "2020-03-23 14:16:30,043 : INFO : EPOCH 3 - PROGRESS: at 55.10% examples, 362790 words/s, in_qsize 15, out_qsize 0\n",
            "2020-03-23 14:16:31,057 : INFO : EPOCH 3 - PROGRESS: at 59.66% examples, 363264 words/s, in_qsize 12, out_qsize 1\n",
            "2020-03-23 14:16:32,063 : INFO : EPOCH 3 - PROGRESS: at 63.97% examples, 362638 words/s, in_qsize 15, out_qsize 0\n",
            "2020-03-23 14:16:33,088 : INFO : EPOCH 3 - PROGRESS: at 68.31% examples, 361640 words/s, in_qsize 15, out_qsize 0\n",
            "2020-03-23 14:16:34,094 : INFO : EPOCH 3 - PROGRESS: at 72.75% examples, 361732 words/s, in_qsize 15, out_qsize 0\n",
            "2020-03-23 14:16:35,094 : INFO : EPOCH 3 - PROGRESS: at 77.63% examples, 363930 words/s, in_qsize 15, out_qsize 0\n",
            "2020-03-23 14:16:36,097 : INFO : EPOCH 3 - PROGRESS: at 82.32% examples, 364895 words/s, in_qsize 15, out_qsize 0\n",
            "2020-03-23 14:16:37,113 : INFO : EPOCH 3 - PROGRESS: at 86.64% examples, 364160 words/s, in_qsize 16, out_qsize 1\n",
            "2020-03-23 14:16:38,116 : INFO : EPOCH 3 - PROGRESS: at 91.09% examples, 364136 words/s, in_qsize 16, out_qsize 0\n",
            "2020-03-23 14:16:39,170 : INFO : EPOCH 3 - PROGRESS: at 95.55% examples, 363261 words/s, in_qsize 14, out_qsize 1\n",
            "2020-03-23 14:16:39,907 : INFO : worker thread finished; awaiting finish of 7 more threads\n",
            "2020-03-23 14:16:39,939 : INFO : worker thread finished; awaiting finish of 6 more threads\n",
            "2020-03-23 14:16:39,958 : INFO : worker thread finished; awaiting finish of 5 more threads\n",
            "2020-03-23 14:16:39,969 : INFO : worker thread finished; awaiting finish of 4 more threads\n",
            "2020-03-23 14:16:39,982 : INFO : worker thread finished; awaiting finish of 3 more threads\n",
            "2020-03-23 14:16:39,998 : INFO : worker thread finished; awaiting finish of 2 more threads\n",
            "2020-03-23 14:16:40,009 : INFO : worker thread finished; awaiting finish of 1 more threads\n",
            "2020-03-23 14:16:40,020 : INFO : worker thread finished; awaiting finish of 0 more threads\n",
            "2020-03-23 14:16:40,020 : INFO : EPOCH - 3 : training on 9227204 raw words (8222562 effective words) took 22.5s, 365821 effective words/s\n",
            "2020-03-23 14:16:41,074 : INFO : EPOCH 4 - PROGRESS: at 3.69% examples, 290790 words/s, in_qsize 11, out_qsize 4\n",
            "2020-03-23 14:16:42,143 : INFO : EPOCH 4 - PROGRESS: at 8.69% examples, 337563 words/s, in_qsize 14, out_qsize 1\n",
            "2020-03-23 14:16:43,154 : INFO : EPOCH 4 - PROGRESS: at 13.25% examples, 348227 words/s, in_qsize 13, out_qsize 2\n",
            "2020-03-23 14:16:44,164 : INFO : EPOCH 4 - PROGRESS: at 17.78% examples, 353595 words/s, in_qsize 15, out_qsize 1\n",
            "2020-03-23 14:16:45,270 : INFO : EPOCH 4 - PROGRESS: at 22.65% examples, 355464 words/s, in_qsize 15, out_qsize 0\n",
            "2020-03-23 14:16:46,319 : INFO : EPOCH 4 - PROGRESS: at 27.20% examples, 355734 words/s, in_qsize 15, out_qsize 0\n",
            "2020-03-23 14:16:47,430 : INFO : EPOCH 4 - PROGRESS: at 32.08% examples, 356496 words/s, in_qsize 15, out_qsize 0\n",
            "2020-03-23 14:16:48,441 : INFO : EPOCH 4 - PROGRESS: at 36.73% examples, 359209 words/s, in_qsize 15, out_qsize 1\n",
            "2020-03-23 14:16:49,490 : INFO : EPOCH 4 - PROGRESS: at 41.26% examples, 358917 words/s, in_qsize 12, out_qsize 3\n",
            "2020-03-23 14:16:50,514 : INFO : EPOCH 4 - PROGRESS: at 45.92% examples, 360397 words/s, in_qsize 15, out_qsize 0\n",
            "2020-03-23 14:16:51,666 : INFO : EPOCH 4 - PROGRESS: at 50.67% examples, 359026 words/s, in_qsize 15, out_qsize 3\n",
            "2020-03-23 14:16:52,656 : INFO : EPOCH 4 - PROGRESS: at 55.42% examples, 361425 words/s, in_qsize 15, out_qsize 0\n",
            "2020-03-23 14:16:53,679 : INFO : EPOCH 4 - PROGRESS: at 59.87% examples, 361080 words/s, in_qsize 15, out_qsize 0\n",
            "2020-03-23 14:16:54,704 : INFO : EPOCH 4 - PROGRESS: at 64.84% examples, 363770 words/s, in_qsize 14, out_qsize 1\n",
            "2020-03-23 14:16:55,722 : INFO : EPOCH 4 - PROGRESS: at 69.29% examples, 363457 words/s, in_qsize 16, out_qsize 0\n",
            "2020-03-23 14:16:56,764 : INFO : EPOCH 4 - PROGRESS: at 73.62% examples, 362113 words/s, in_qsize 14, out_qsize 2\n",
            "2020-03-23 14:16:57,800 : INFO : EPOCH 4 - PROGRESS: at 78.73% examples, 364562 words/s, in_qsize 15, out_qsize 0\n",
            "2020-03-23 14:16:58,847 : INFO : EPOCH 4 - PROGRESS: at 83.18% examples, 363674 words/s, in_qsize 15, out_qsize 0\n",
            "2020-03-23 14:16:59,852 : INFO : EPOCH 4 - PROGRESS: at 87.83% examples, 364568 words/s, in_qsize 15, out_qsize 0\n",
            "2020-03-23 14:17:00,857 : INFO : EPOCH 4 - PROGRESS: at 92.39% examples, 364917 words/s, in_qsize 15, out_qsize 0\n",
            "2020-03-23 14:17:01,858 : INFO : EPOCH 4 - PROGRESS: at 96.75% examples, 364489 words/s, in_qsize 15, out_qsize 0\n",
            "2020-03-23 14:17:02,452 : INFO : worker thread finished; awaiting finish of 7 more threads\n",
            "2020-03-23 14:17:02,462 : INFO : worker thread finished; awaiting finish of 6 more threads\n",
            "2020-03-23 14:17:02,482 : INFO : worker thread finished; awaiting finish of 5 more threads\n",
            "2020-03-23 14:17:02,505 : INFO : worker thread finished; awaiting finish of 4 more threads\n",
            "2020-03-23 14:17:02,507 : INFO : worker thread finished; awaiting finish of 3 more threads\n",
            "2020-03-23 14:17:02,531 : INFO : worker thread finished; awaiting finish of 2 more threads\n",
            "2020-03-23 14:17:02,548 : INFO : worker thread finished; awaiting finish of 1 more threads\n",
            "2020-03-23 14:17:02,552 : INFO : worker thread finished; awaiting finish of 0 more threads\n",
            "2020-03-23 14:17:02,553 : INFO : EPOCH - 4 : training on 9227204 raw words (8223442 effective words) took 22.5s, 365153 effective words/s\n",
            "2020-03-23 14:17:03,607 : INFO : EPOCH 5 - PROGRESS: at 3.69% examples, 295274 words/s, in_qsize 13, out_qsize 3\n",
            "2020-03-23 14:17:04,603 : INFO : EPOCH 5 - PROGRESS: at 8.69% examples, 349796 words/s, in_qsize 15, out_qsize 0\n",
            "2020-03-23 14:17:05,628 : INFO : EPOCH 5 - PROGRESS: at 13.04% examples, 349225 words/s, in_qsize 15, out_qsize 0\n",
            "2020-03-23 14:17:06,639 : INFO : EPOCH 5 - PROGRESS: at 17.35% examples, 349881 words/s, in_qsize 15, out_qsize 0\n",
            "2020-03-23 14:17:07,664 : INFO : EPOCH 5 - PROGRESS: at 21.90% examples, 353013 words/s, in_qsize 13, out_qsize 5\n",
            "2020-03-23 14:17:08,699 : INFO : EPOCH 5 - PROGRESS: at 26.56% examples, 355908 words/s, in_qsize 13, out_qsize 2\n",
            "2020-03-23 14:17:09,721 : INFO : EPOCH 5 - PROGRESS: at 31.21% examples, 358609 words/s, in_qsize 15, out_qsize 0\n",
            "2020-03-23 14:17:10,826 : INFO : EPOCH 5 - PROGRESS: at 36.07% examples, 359137 words/s, in_qsize 15, out_qsize 0\n",
            "2020-03-23 14:17:11,846 : INFO : EPOCH 5 - PROGRESS: at 41.05% examples, 363756 words/s, in_qsize 15, out_qsize 0\n",
            "2020-03-23 14:17:12,951 : INFO : EPOCH 5 - PROGRESS: at 45.59% examples, 362022 words/s, in_qsize 15, out_qsize 1\n",
            "2020-03-23 14:17:13,960 : INFO : EPOCH 5 - PROGRESS: at 50.13% examples, 361991 words/s, in_qsize 15, out_qsize 0\n",
            "2020-03-23 14:17:14,976 : INFO : EPOCH 5 - PROGRESS: at 54.99% examples, 364654 words/s, in_qsize 14, out_qsize 1\n",
            "2020-03-23 14:17:15,978 : INFO : EPOCH 5 - PROGRESS: at 59.12% examples, 362658 words/s, in_qsize 14, out_qsize 1\n",
            "2020-03-23 14:17:17,041 : INFO : EPOCH 5 - PROGRESS: at 63.76% examples, 362503 words/s, in_qsize 15, out_qsize 0\n",
            "2020-03-23 14:17:18,063 : INFO : EPOCH 5 - PROGRESS: at 68.31% examples, 362729 words/s, in_qsize 15, out_qsize 0\n",
            "2020-03-23 14:17:19,072 : INFO : EPOCH 5 - PROGRESS: at 73.08% examples, 364313 words/s, in_qsize 15, out_qsize 0\n",
            "2020-03-23 14:17:20,089 : INFO : EPOCH 5 - PROGRESS: at 77.31% examples, 362970 words/s, in_qsize 14, out_qsize 1\n",
            "2020-03-23 14:17:21,138 : INFO : EPOCH 5 - PROGRESS: at 82.21% examples, 364046 words/s, in_qsize 15, out_qsize 0\n",
            "2020-03-23 14:17:22,154 : INFO : EPOCH 5 - PROGRESS: at 86.64% examples, 363814 words/s, in_qsize 15, out_qsize 1\n",
            "2020-03-23 14:17:23,228 : INFO : EPOCH 5 - PROGRESS: at 91.42% examples, 363853 words/s, in_qsize 16, out_qsize 0\n",
            "2020-03-23 14:17:24,256 : INFO : EPOCH 5 - PROGRESS: at 95.99% examples, 363848 words/s, in_qsize 15, out_qsize 0\n",
            "2020-03-23 14:17:24,923 : INFO : worker thread finished; awaiting finish of 7 more threads\n",
            "2020-03-23 14:17:24,944 : INFO : worker thread finished; awaiting finish of 6 more threads\n",
            "2020-03-23 14:17:24,982 : INFO : worker thread finished; awaiting finish of 5 more threads\n",
            "2020-03-23 14:17:24,991 : INFO : worker thread finished; awaiting finish of 4 more threads\n",
            "2020-03-23 14:17:25,003 : INFO : worker thread finished; awaiting finish of 3 more threads\n",
            "2020-03-23 14:17:25,013 : INFO : worker thread finished; awaiting finish of 2 more threads\n",
            "2020-03-23 14:17:25,017 : INFO : worker thread finished; awaiting finish of 1 more threads\n",
            "2020-03-23 14:17:25,021 : INFO : worker thread finished; awaiting finish of 0 more threads\n",
            "2020-03-23 14:17:25,022 : INFO : EPOCH - 5 : training on 9227204 raw words (8222653 effective words) took 22.5s, 366167 effective words/s\n",
            "2020-03-23 14:17:26,118 : INFO : EPOCH 6 - PROGRESS: at 4.34% examples, 328543 words/s, in_qsize 15, out_qsize 0\n",
            "2020-03-23 14:17:27,137 : INFO : EPOCH 6 - PROGRESS: at 8.69% examples, 338717 words/s, in_qsize 14, out_qsize 1\n",
            "2020-03-23 14:17:28,184 : INFO : EPOCH 6 - PROGRESS: at 13.47% examples, 350589 words/s, in_qsize 15, out_qsize 0\n",
            "2020-03-23 14:17:29,253 : INFO : EPOCH 6 - PROGRESS: at 18.32% examples, 358629 words/s, in_qsize 15, out_qsize 0\n",
            "2020-03-23 14:17:30,261 : INFO : EPOCH 6 - PROGRESS: at 22.65% examples, 356170 words/s, in_qsize 15, out_qsize 1\n",
            "2020-03-23 14:17:31,345 : INFO : EPOCH 6 - PROGRESS: at 27.53% examples, 358510 words/s, in_qsize 15, out_qsize 0\n",
            "2020-03-23 14:17:32,370 : INFO : EPOCH 6 - PROGRESS: at 32.19% examples, 360604 words/s, in_qsize 15, out_qsize 0\n",
            "2020-03-23 14:17:33,416 : INFO : EPOCH 6 - PROGRESS: at 36.62% examples, 359189 words/s, in_qsize 15, out_qsize 0\n",
            "2020-03-23 14:17:34,525 : INFO : EPOCH 6 - PROGRESS: at 41.48% examples, 359440 words/s, in_qsize 16, out_qsize 0\n",
            "2020-03-23 14:17:35,562 : INFO : EPOCH 6 - PROGRESS: at 46.46% examples, 362984 words/s, in_qsize 15, out_qsize 0\n",
            "2020-03-23 14:17:36,565 : INFO : EPOCH 6 - PROGRESS: at 51.10% examples, 364626 words/s, in_qsize 15, out_qsize 0\n",
            "2020-03-23 14:17:37,650 : INFO : EPOCH 6 - PROGRESS: at 55.86% examples, 364381 words/s, in_qsize 15, out_qsize 0\n",
            "2020-03-23 14:17:38,663 : INFO : EPOCH 6 - PROGRESS: at 60.09% examples, 363099 words/s, in_qsize 15, out_qsize 1\n",
            "2020-03-23 14:17:39,653 : INFO : EPOCH 6 - PROGRESS: at 64.51% examples, 363186 words/s, in_qsize 12, out_qsize 3\n",
            "2020-03-23 14:17:40,698 : INFO : EPOCH 6 - PROGRESS: at 69.29% examples, 363958 words/s, in_qsize 15, out_qsize 0\n",
            "2020-03-23 14:17:41,733 : INFO : EPOCH 6 - PROGRESS: at 74.16% examples, 365391 words/s, in_qsize 14, out_qsize 0\n",
            "2020-03-23 14:17:42,777 : INFO : EPOCH 6 - PROGRESS: at 78.51% examples, 363979 words/s, in_qsize 15, out_qsize 0\n",
            "2020-03-23 14:17:43,778 : INFO : EPOCH 6 - PROGRESS: at 83.40% examples, 365933 words/s, in_qsize 11, out_qsize 0\n",
            "2020-03-23 14:17:44,825 : INFO : EPOCH 6 - PROGRESS: at 87.40% examples, 363223 words/s, in_qsize 14, out_qsize 1\n",
            "2020-03-23 14:17:45,830 : INFO : EPOCH 6 - PROGRESS: at 92.28% examples, 364923 words/s, in_qsize 8, out_qsize 2\n",
            "2020-03-23 14:17:46,849 : INFO : EPOCH 6 - PROGRESS: at 96.96% examples, 365418 words/s, in_qsize 16, out_qsize 0\n",
            "2020-03-23 14:17:47,406 : INFO : worker thread finished; awaiting finish of 7 more threads\n",
            "2020-03-23 14:17:47,418 : INFO : worker thread finished; awaiting finish of 6 more threads\n",
            "2020-03-23 14:17:47,434 : INFO : worker thread finished; awaiting finish of 5 more threads\n",
            "2020-03-23 14:17:47,439 : INFO : worker thread finished; awaiting finish of 4 more threads\n",
            "2020-03-23 14:17:47,442 : INFO : worker thread finished; awaiting finish of 3 more threads\n",
            "2020-03-23 14:17:47,457 : INFO : worker thread finished; awaiting finish of 2 more threads\n",
            "2020-03-23 14:17:47,460 : INFO : worker thread finished; awaiting finish of 1 more threads\n",
            "2020-03-23 14:17:47,486 : INFO : worker thread finished; awaiting finish of 0 more threads\n",
            "2020-03-23 14:17:47,487 : INFO : EPOCH - 6 : training on 9227204 raw words (8222385 effective words) took 22.5s, 366199 effective words/s\n",
            "2020-03-23 14:17:48,524 : INFO : EPOCH 7 - PROGRESS: at 3.91% examples, 312915 words/s, in_qsize 14, out_qsize 1\n",
            "2020-03-23 14:17:49,605 : INFO : EPOCH 7 - PROGRESS: at 8.90% examples, 347000 words/s, in_qsize 16, out_qsize 1\n",
            "2020-03-23 14:17:50,608 : INFO : EPOCH 7 - PROGRESS: at 13.25% examples, 349619 words/s, in_qsize 16, out_qsize 0\n",
            "2020-03-23 14:17:51,618 : INFO : EPOCH 7 - PROGRESS: at 18.11% examples, 361130 words/s, in_qsize 15, out_qsize 0\n",
            "2020-03-23 14:17:52,646 : INFO : EPOCH 7 - PROGRESS: at 22.33% examples, 356483 words/s, in_qsize 15, out_qsize 2\n",
            "2020-03-23 14:17:53,656 : INFO : EPOCH 7 - PROGRESS: at 26.56% examples, 354509 words/s, in_qsize 15, out_qsize 4\n",
            "2020-03-23 14:17:54,660 : INFO : EPOCH 7 - PROGRESS: at 31.75% examples, 364572 words/s, in_qsize 16, out_qsize 0\n",
            "2020-03-23 14:17:55,666 : INFO : EPOCH 7 - PROGRESS: at 35.86% examples, 361104 words/s, in_qsize 15, out_qsize 0\n",
            "2020-03-23 14:17:56,690 : INFO : EPOCH 7 - PROGRESS: at 40.51% examples, 362547 words/s, in_qsize 14, out_qsize 1\n",
            "2020-03-23 14:17:57,711 : INFO : EPOCH 7 - PROGRESS: at 44.73% examples, 360283 words/s, in_qsize 14, out_qsize 1\n",
            "2020-03-23 14:17:58,748 : INFO : EPOCH 7 - PROGRESS: at 49.49% examples, 361933 words/s, in_qsize 15, out_qsize 0\n",
            "2020-03-23 14:17:59,772 : INFO : EPOCH 7 - PROGRESS: at 53.81% examples, 360783 words/s, in_qsize 15, out_qsize 0\n",
            "2020-03-23 14:18:00,800 : INFO : EPOCH 7 - PROGRESS: at 58.58% examples, 362398 words/s, in_qsize 15, out_qsize 0\n",
            "2020-03-23 14:18:01,845 : INFO : EPOCH 7 - PROGRESS: at 62.79% examples, 360229 words/s, in_qsize 14, out_qsize 1\n",
            "2020-03-23 14:18:02,930 : INFO : EPOCH 7 - PROGRESS: at 67.35% examples, 359131 words/s, in_qsize 15, out_qsize 0\n",
            "2020-03-23 14:18:03,995 : INFO : EPOCH 7 - PROGRESS: at 71.88% examples, 358627 words/s, in_qsize 15, out_qsize 0\n",
            "2020-03-23 14:18:05,028 : INFO : EPOCH 7 - PROGRESS: at 76.66% examples, 359840 words/s, in_qsize 16, out_qsize 2\n",
            "2020-03-23 14:18:06,030 : INFO : EPOCH 7 - PROGRESS: at 80.80% examples, 358663 words/s, in_qsize 14, out_qsize 1\n",
            "2020-03-23 14:18:07,064 : INFO : EPOCH 7 - PROGRESS: at 85.34% examples, 358837 words/s, in_qsize 15, out_qsize 2\n",
            "2020-03-23 14:18:08,072 : INFO : EPOCH 7 - PROGRESS: at 89.78% examples, 359002 words/s, in_qsize 14, out_qsize 4\n",
            "2020-03-23 14:18:09,192 : INFO : EPOCH 7 - PROGRESS: at 94.79% examples, 359337 words/s, in_qsize 15, out_qsize 0\n",
            "2020-03-23 14:18:10,176 : INFO : worker thread finished; awaiting finish of 7 more threads\n",
            "2020-03-23 14:18:10,186 : INFO : worker thread finished; awaiting finish of 6 more threads\n",
            "2020-03-23 14:18:10,189 : INFO : worker thread finished; awaiting finish of 5 more threads\n",
            "2020-03-23 14:18:10,208 : INFO : EPOCH 7 - PROGRESS: at 99.56% examples, 360566 words/s, in_qsize 4, out_qsize 0\n",
            "2020-03-23 14:18:10,210 : INFO : worker thread finished; awaiting finish of 4 more threads\n",
            "2020-03-23 14:18:10,225 : INFO : worker thread finished; awaiting finish of 3 more threads\n",
            "2020-03-23 14:18:10,238 : INFO : worker thread finished; awaiting finish of 2 more threads\n",
            "2020-03-23 14:18:10,239 : INFO : worker thread finished; awaiting finish of 1 more threads\n",
            "2020-03-23 14:18:10,243 : INFO : worker thread finished; awaiting finish of 0 more threads\n",
            "2020-03-23 14:18:10,244 : INFO : EPOCH - 7 : training on 9227204 raw words (8223473 effective words) took 22.7s, 361561 effective words/s\n",
            "2020-03-23 14:18:11,276 : INFO : EPOCH 8 - PROGRESS: at 4.13% examples, 331840 words/s, in_qsize 15, out_qsize 0\n",
            "2020-03-23 14:18:12,345 : INFO : EPOCH 8 - PROGRESS: at 8.58% examples, 336986 words/s, in_qsize 13, out_qsize 2\n",
            "2020-03-23 14:18:13,390 : INFO : EPOCH 8 - PROGRESS: at 13.25% examples, 346864 words/s, in_qsize 14, out_qsize 1\n",
            "2020-03-23 14:18:14,445 : INFO : EPOCH 8 - PROGRESS: at 17.78% examples, 348734 words/s, in_qsize 16, out_qsize 0\n",
            "2020-03-23 14:18:15,446 : INFO : EPOCH 8 - PROGRESS: at 22.76% examples, 360483 words/s, in_qsize 13, out_qsize 0\n",
            "2020-03-23 14:18:16,446 : INFO : EPOCH 8 - PROGRESS: at 26.99% examples, 358351 words/s, in_qsize 16, out_qsize 0\n",
            "2020-03-23 14:18:17,469 : INFO : EPOCH 8 - PROGRESS: at 31.54% examples, 359427 words/s, in_qsize 16, out_qsize 0\n",
            "2020-03-23 14:18:18,472 : INFO : EPOCH 8 - PROGRESS: at 35.54% examples, 355632 words/s, in_qsize 16, out_qsize 2\n",
            "2020-03-23 14:18:19,556 : INFO : EPOCH 8 - PROGRESS: at 40.62% examples, 359185 words/s, in_qsize 14, out_qsize 1\n",
            "2020-03-23 14:18:20,584 : INFO : EPOCH 8 - PROGRESS: at 45.48% examples, 362248 words/s, in_qsize 14, out_qsize 1\n",
            "2020-03-23 14:18:21,631 : INFO : EPOCH 8 - PROGRESS: at 49.81% examples, 360260 words/s, in_qsize 15, out_qsize 0\n",
            "2020-03-23 14:18:22,686 : INFO : EPOCH 8 - PROGRESS: at 54.67% examples, 361941 words/s, in_qsize 15, out_qsize 0\n",
            "2020-03-23 14:18:23,775 : INFO : EPOCH 8 - PROGRESS: at 59.44% examples, 361834 words/s, in_qsize 15, out_qsize 0\n",
            "2020-03-23 14:18:24,785 : INFO : EPOCH 8 - PROGRESS: at 63.76% examples, 361201 words/s, in_qsize 14, out_qsize 1\n",
            "2020-03-23 14:18:25,790 : INFO : EPOCH 8 - PROGRESS: at 68.32% examples, 361899 words/s, in_qsize 15, out_qsize 1\n",
            "2020-03-23 14:18:26,883 : INFO : EPOCH 8 - PROGRESS: at 73.19% examples, 362211 words/s, in_qsize 15, out_qsize 0\n",
            "2020-03-23 14:18:27,929 : INFO : EPOCH 8 - PROGRESS: at 77.75% examples, 361944 words/s, in_qsize 15, out_qsize 0\n",
            "2020-03-23 14:18:28,953 : INFO : EPOCH 8 - PROGRESS: at 82.42% examples, 362614 words/s, in_qsize 16, out_qsize 1\n",
            "2020-03-23 14:18:30,021 : INFO : EPOCH 8 - PROGRESS: at 86.96% examples, 361941 words/s, in_qsize 12, out_qsize 3\n",
            "2020-03-23 14:18:31,045 : INFO : EPOCH 8 - PROGRESS: at 92.18% examples, 364654 words/s, in_qsize 16, out_qsize 0\n",
            "2020-03-23 14:18:32,049 : INFO : EPOCH 8 - PROGRESS: at 96.53% examples, 364202 words/s, in_qsize 15, out_qsize 0\n",
            "2020-03-23 14:18:32,649 : INFO : worker thread finished; awaiting finish of 7 more threads\n",
            "2020-03-23 14:18:32,672 : INFO : worker thread finished; awaiting finish of 6 more threads\n",
            "2020-03-23 14:18:32,676 : INFO : worker thread finished; awaiting finish of 5 more threads\n",
            "2020-03-23 14:18:32,693 : INFO : worker thread finished; awaiting finish of 4 more threads\n",
            "2020-03-23 14:18:32,725 : INFO : worker thread finished; awaiting finish of 3 more threads\n",
            "2020-03-23 14:18:32,743 : INFO : worker thread finished; awaiting finish of 2 more threads\n",
            "2020-03-23 14:18:32,753 : INFO : worker thread finished; awaiting finish of 1 more threads\n",
            "2020-03-23 14:18:32,755 : INFO : worker thread finished; awaiting finish of 0 more threads\n",
            "2020-03-23 14:18:32,757 : INFO : EPOCH - 8 : training on 9227204 raw words (8222847 effective words) took 22.5s, 365454 effective words/s\n",
            "2020-03-23 14:18:33,772 : INFO : EPOCH 9 - PROGRESS: at 3.80% examples, 311273 words/s, in_qsize 12, out_qsize 4\n",
            "2020-03-23 14:18:34,777 : INFO : EPOCH 9 - PROGRESS: at 8.26% examples, 337355 words/s, in_qsize 15, out_qsize 0\n",
            "2020-03-23 14:18:35,788 : INFO : EPOCH 9 - PROGRESS: at 12.71% examples, 345476 words/s, in_qsize 16, out_qsize 2\n",
            "2020-03-23 14:18:36,844 : INFO : EPOCH 9 - PROGRESS: at 17.35% examples, 349785 words/s, in_qsize 11, out_qsize 4\n",
            "2020-03-23 14:18:37,931 : INFO : EPOCH 9 - PROGRESS: at 22.33% examples, 355585 words/s, in_qsize 15, out_qsize 0\n",
            "2020-03-23 14:18:38,962 : INFO : EPOCH 9 - PROGRESS: at 26.78% examples, 355366 words/s, in_qsize 16, out_qsize 1\n",
            "2020-03-23 14:18:39,964 : INFO : EPOCH 9 - PROGRESS: at 31.32% examples, 357890 words/s, in_qsize 16, out_qsize 0\n",
            "2020-03-23 14:18:40,967 : INFO : EPOCH 9 - PROGRESS: at 35.75% examples, 358621 words/s, in_qsize 15, out_qsize 0\n",
            "2020-03-23 14:18:42,003 : INFO : EPOCH 9 - PROGRESS: at 40.19% examples, 357918 words/s, in_qsize 15, out_qsize 3\n",
            "2020-03-23 14:18:43,076 : INFO : EPOCH 9 - PROGRESS: at 45.27% examples, 361281 words/s, in_qsize 15, out_qsize 0\n",
            "2020-03-23 14:18:44,190 : INFO : EPOCH 9 - PROGRESS: at 49.81% examples, 358834 words/s, in_qsize 14, out_qsize 1\n",
            "2020-03-23 14:18:45,205 : INFO : EPOCH 9 - PROGRESS: at 54.46% examples, 360376 words/s, in_qsize 15, out_qsize 0\n",
            "2020-03-23 14:18:46,243 : INFO : EPOCH 9 - PROGRESS: at 58.90% examples, 359703 words/s, in_qsize 16, out_qsize 2\n",
            "2020-03-23 14:18:47,246 : INFO : EPOCH 9 - PROGRESS: at 63.43% examples, 360644 words/s, in_qsize 13, out_qsize 0\n",
            "2020-03-23 14:18:48,251 : INFO : EPOCH 9 - PROGRESS: at 67.55% examples, 359085 words/s, in_qsize 15, out_qsize 3\n",
            "2020-03-23 14:18:49,276 : INFO : EPOCH 9 - PROGRESS: at 72.64% examples, 362165 words/s, in_qsize 15, out_qsize 0\n",
            "2020-03-23 14:18:50,277 : INFO : EPOCH 9 - PROGRESS: at 76.66% examples, 360262 words/s, in_qsize 14, out_qsize 1\n",
            "2020-03-23 14:18:51,301 : INFO : EPOCH 9 - PROGRESS: at 81.23% examples, 360536 words/s, in_qsize 15, out_qsize 0\n",
            "2020-03-23 14:18:52,323 : INFO : EPOCH 9 - PROGRESS: at 85.56% examples, 359919 words/s, in_qsize 12, out_qsize 3\n",
            "2020-03-23 14:18:53,362 : INFO : EPOCH 9 - PROGRESS: at 90.21% examples, 360336 words/s, in_qsize 12, out_qsize 3\n",
            "2020-03-23 14:18:54,371 : INFO : EPOCH 9 - PROGRESS: at 95.23% examples, 362456 words/s, in_qsize 15, out_qsize 0\n",
            "2020-03-23 14:18:55,310 : INFO : worker thread finished; awaiting finish of 7 more threads\n",
            "2020-03-23 14:18:55,317 : INFO : worker thread finished; awaiting finish of 6 more threads\n",
            "2020-03-23 14:18:55,324 : INFO : worker thread finished; awaiting finish of 5 more threads\n",
            "2020-03-23 14:18:55,366 : INFO : worker thread finished; awaiting finish of 4 more threads\n",
            "2020-03-23 14:18:55,407 : INFO : EPOCH 9 - PROGRESS: at 99.67% examples, 362048 words/s, in_qsize 3, out_qsize 0\n",
            "2020-03-23 14:18:55,409 : INFO : worker thread finished; awaiting finish of 3 more threads\n",
            "2020-03-23 14:18:55,417 : INFO : worker thread finished; awaiting finish of 2 more threads\n",
            "2020-03-23 14:18:55,429 : INFO : worker thread finished; awaiting finish of 1 more threads\n",
            "2020-03-23 14:18:55,431 : INFO : worker thread finished; awaiting finish of 0 more threads\n",
            "2020-03-23 14:18:55,432 : INFO : EPOCH - 9 : training on 9227204 raw words (8222253 effective words) took 22.7s, 362834 effective words/s\n",
            "2020-03-23 14:18:56,458 : INFO : EPOCH 10 - PROGRESS: at 4.02% examples, 324830 words/s, in_qsize 15, out_qsize 0\n",
            "2020-03-23 14:18:57,460 : INFO : EPOCH 10 - PROGRESS: at 8.26% examples, 335764 words/s, in_qsize 15, out_qsize 0\n",
            "2020-03-23 14:18:58,521 : INFO : EPOCH 10 - PROGRESS: at 13.04% examples, 347324 words/s, in_qsize 15, out_qsize 0\n",
            "2020-03-23 14:18:59,523 : INFO : EPOCH 10 - PROGRESS: at 17.35% examples, 349279 words/s, in_qsize 15, out_qsize 0\n",
            "2020-03-23 14:19:00,613 : INFO : EPOCH 10 - PROGRESS: at 22.11% examples, 351544 words/s, in_qsize 15, out_qsize 0\n",
            "2020-03-23 14:19:01,648 : INFO : EPOCH 10 - PROGRESS: at 26.56% examples, 351773 words/s, in_qsize 13, out_qsize 2\n",
            "2020-03-23 14:19:02,669 : INFO : EPOCH 10 - PROGRESS: at 31.32% examples, 356346 words/s, in_qsize 15, out_qsize 0\n",
            "2020-03-23 14:19:03,692 : INFO : EPOCH 10 - PROGRESS: at 35.75% examples, 356423 words/s, in_qsize 15, out_qsize 0\n",
            "2020-03-23 14:19:04,695 : INFO : EPOCH 10 - PROGRESS: at 40.08% examples, 356287 words/s, in_qsize 15, out_qsize 0\n",
            "2020-03-23 14:19:05,739 : INFO : EPOCH 10 - PROGRESS: at 44.94% examples, 359086 words/s, in_qsize 15, out_qsize 0\n",
            "2020-03-23 14:19:06,827 : INFO : EPOCH 10 - PROGRESS: at 49.27% examples, 356052 words/s, in_qsize 14, out_qsize 5\n",
            "2020-03-23 14:19:07,841 : INFO : EPOCH 10 - PROGRESS: at 54.35% examples, 360725 words/s, in_qsize 15, out_qsize 0\n",
            "2020-03-23 14:19:08,849 : INFO : EPOCH 10 - PROGRESS: at 58.36% examples, 358192 words/s, in_qsize 16, out_qsize 3\n",
            "2020-03-23 14:19:09,917 : INFO : EPOCH 10 - PROGRESS: at 63.33% examples, 360105 words/s, in_qsize 15, out_qsize 0\n",
            "2020-03-23 14:19:10,955 : INFO : EPOCH 10 - PROGRESS: at 67.56% examples, 358396 words/s, in_qsize 16, out_qsize 4\n",
            "2020-03-23 14:19:11,976 : INFO : EPOCH 10 - PROGRESS: at 72.32% examples, 359982 words/s, in_qsize 15, out_qsize 0\n",
            "2020-03-23 14:19:12,979 : INFO : EPOCH 10 - PROGRESS: at 76.87% examples, 360701 words/s, in_qsize 14, out_qsize 1\n",
            "2020-03-23 14:19:13,999 : INFO : EPOCH 10 - PROGRESS: at 81.23% examples, 360099 words/s, in_qsize 14, out_qsize 1\n",
            "2020-03-23 14:19:15,000 : INFO : EPOCH 10 - PROGRESS: at 85.56% examples, 359880 words/s, in_qsize 14, out_qsize 4\n",
            "2020-03-23 14:19:16,043 : INFO : EPOCH 10 - PROGRESS: at 90.43% examples, 361109 words/s, in_qsize 15, out_qsize 0\n",
            "2020-03-23 14:19:17,047 : INFO : EPOCH 10 - PROGRESS: at 94.79% examples, 360806 words/s, in_qsize 15, out_qsize 0\n",
            "2020-03-23 14:19:18,022 : INFO : worker thread finished; awaiting finish of 7 more threads\n",
            "2020-03-23 14:19:18,042 : INFO : worker thread finished; awaiting finish of 6 more threads\n",
            "2020-03-23 14:19:18,055 : INFO : EPOCH 10 - PROGRESS: at 99.55% examples, 362051 words/s, in_qsize 5, out_qsize 1\n",
            "2020-03-23 14:19:18,057 : INFO : worker thread finished; awaiting finish of 5 more threads\n",
            "2020-03-23 14:19:18,065 : INFO : worker thread finished; awaiting finish of 4 more threads\n",
            "2020-03-23 14:19:18,074 : INFO : worker thread finished; awaiting finish of 3 more threads\n",
            "2020-03-23 14:19:18,109 : INFO : worker thread finished; awaiting finish of 2 more threads\n",
            "2020-03-23 14:19:18,118 : INFO : worker thread finished; awaiting finish of 1 more threads\n",
            "2020-03-23 14:19:18,125 : INFO : worker thread finished; awaiting finish of 0 more threads\n",
            "2020-03-23 14:19:18,126 : INFO : EPOCH - 10 : training on 9227204 raw words (8222800 effective words) took 22.7s, 362524 effective words/s\n",
            "2020-03-23 14:19:19,140 : INFO : EPOCH 11 - PROGRESS: at 3.80% examples, 310541 words/s, in_qsize 15, out_qsize 0\n",
            "2020-03-23 14:19:20,159 : INFO : EPOCH 11 - PROGRESS: at 8.25% examples, 334606 words/s, in_qsize 15, out_qsize 0\n",
            "2020-03-23 14:19:21,202 : INFO : EPOCH 11 - PROGRESS: at 13.04% examples, 348706 words/s, in_qsize 16, out_qsize 0\n",
            "2020-03-23 14:19:22,228 : INFO : EPOCH 11 - PROGRESS: at 17.46% examples, 350431 words/s, in_qsize 15, out_qsize 0\n",
            "2020-03-23 14:19:23,268 : INFO : EPOCH 11 - PROGRESS: at 22.22% examples, 355864 words/s, in_qsize 16, out_qsize 0\n",
            "2020-03-23 14:19:24,291 : INFO : EPOCH 11 - PROGRESS: at 26.55% examples, 354605 words/s, in_qsize 10, out_qsize 5\n",
            "2020-03-23 14:19:25,317 : INFO : EPOCH 11 - PROGRESS: at 31.65% examples, 362253 words/s, in_qsize 16, out_qsize 0\n",
            "2020-03-23 14:19:26,434 : INFO : EPOCH 11 - PROGRESS: at 35.86% examples, 356386 words/s, in_qsize 15, out_qsize 2\n",
            "2020-03-23 14:19:27,463 : INFO : EPOCH 11 - PROGRESS: at 40.62% examples, 358177 words/s, in_qsize 15, out_qsize 0\n",
            "2020-03-23 14:19:28,558 : INFO : EPOCH 11 - PROGRESS: at 45.48% examples, 359005 words/s, in_qsize 16, out_qsize 2\n",
            "2020-03-23 14:19:29,611 : INFO : EPOCH 11 - PROGRESS: at 50.24% examples, 360226 words/s, in_qsize 15, out_qsize 0\n",
            "2020-03-23 14:19:30,623 : INFO : EPOCH 11 - PROGRESS: at 54.78% examples, 361013 words/s, in_qsize 15, out_qsize 0\n",
            "2020-03-23 14:19:31,686 : INFO : EPOCH 11 - PROGRESS: at 59.66% examples, 362286 words/s, in_qsize 15, out_qsize 0\n",
            "2020-03-23 14:19:32,705 : INFO : EPOCH 11 - PROGRESS: at 63.97% examples, 361407 words/s, in_qsize 15, out_qsize 0\n",
            "2020-03-23 14:19:33,738 : INFO : EPOCH 11 - PROGRESS: at 68.64% examples, 362049 words/s, in_qsize 15, out_qsize 1\n",
            "2020-03-23 14:19:34,792 : INFO : EPOCH 11 - PROGRESS: at 73.30% examples, 362104 words/s, in_qsize 15, out_qsize 0\n",
            "2020-03-23 14:19:35,828 : INFO : EPOCH 11 - PROGRESS: at 77.74% examples, 361892 words/s, in_qsize 15, out_qsize 3\n",
            "2020-03-23 14:19:36,860 : INFO : EPOCH 11 - PROGRESS: at 82.32% examples, 361583 words/s, in_qsize 15, out_qsize 0\n",
            "2020-03-23 14:19:37,897 : INFO : EPOCH 11 - PROGRESS: at 87.07% examples, 362430 words/s, in_qsize 15, out_qsize 0\n",
            "2020-03-23 14:19:38,914 : INFO : EPOCH 11 - PROGRESS: at 91.42% examples, 361821 words/s, in_qsize 15, out_qsize 0\n",
            "2020-03-23 14:19:39,959 : INFO : EPOCH 11 - PROGRESS: at 95.99% examples, 361640 words/s, in_qsize 15, out_qsize 0\n",
            "2020-03-23 14:19:40,656 : INFO : worker thread finished; awaiting finish of 7 more threads\n",
            "2020-03-23 14:19:40,681 : INFO : worker thread finished; awaiting finish of 6 more threads\n",
            "2020-03-23 14:19:40,687 : INFO : worker thread finished; awaiting finish of 5 more threads\n",
            "2020-03-23 14:19:40,688 : INFO : worker thread finished; awaiting finish of 4 more threads\n",
            "2020-03-23 14:19:40,689 : INFO : worker thread finished; awaiting finish of 3 more threads\n",
            "2020-03-23 14:19:40,709 : INFO : worker thread finished; awaiting finish of 2 more threads\n",
            "2020-03-23 14:19:40,727 : INFO : worker thread finished; awaiting finish of 1 more threads\n",
            "2020-03-23 14:19:40,738 : INFO : worker thread finished; awaiting finish of 0 more threads\n",
            "2020-03-23 14:19:40,738 : INFO : EPOCH - 11 : training on 9227204 raw words (8222521 effective words) took 22.6s, 363798 effective words/s\n",
            "2020-03-23 14:19:41,804 : INFO : EPOCH 12 - PROGRESS: at 4.02% examples, 313375 words/s, in_qsize 15, out_qsize 0\n",
            "2020-03-23 14:19:42,874 : INFO : EPOCH 12 - PROGRESS: at 8.69% examples, 335734 words/s, in_qsize 13, out_qsize 2\n",
            "2020-03-23 14:19:43,899 : INFO : EPOCH 12 - PROGRESS: at 13.47% examples, 350862 words/s, in_qsize 15, out_qsize 0\n",
            "2020-03-23 14:19:44,923 : INFO : EPOCH 12 - PROGRESS: at 18.11% examples, 356454 words/s, in_qsize 15, out_qsize 1\n",
            "2020-03-23 14:19:46,039 : INFO : EPOCH 12 - PROGRESS: at 22.87% examples, 355443 words/s, in_qsize 15, out_qsize 0\n",
            "2020-03-23 14:19:47,167 : INFO : EPOCH 12 - PROGRESS: at 27.53% examples, 352654 words/s, in_qsize 14, out_qsize 1\n",
            "2020-03-23 14:19:48,176 : INFO : EPOCH 12 - PROGRESS: at 32.08% examples, 355162 words/s, in_qsize 13, out_qsize 2\n",
            "2020-03-23 14:19:49,196 : INFO : EPOCH 12 - PROGRESS: at 36.83% examples, 359083 words/s, in_qsize 14, out_qsize 2\n",
            "2020-03-23 14:19:50,211 : INFO : EPOCH 12 - PROGRESS: at 41.05% examples, 356910 words/s, in_qsize 16, out_qsize 1\n",
            "2020-03-23 14:19:51,258 : INFO : EPOCH 12 - PROGRESS: at 45.92% examples, 359468 words/s, in_qsize 15, out_qsize 0\n",
            "2020-03-23 14:19:52,278 : INFO : EPOCH 12 - PROGRESS: at 50.24% examples, 358602 words/s, in_qsize 14, out_qsize 1\n",
            "2020-03-23 14:19:53,334 : INFO : EPOCH 12 - PROGRESS: at 54.99% examples, 359654 words/s, in_qsize 15, out_qsize 0\n",
            "2020-03-23 14:19:54,365 : INFO : EPOCH 12 - PROGRESS: at 59.55% examples, 359915 words/s, in_qsize 15, out_qsize 0\n",
            "2020-03-23 14:19:55,366 : INFO : EPOCH 12 - PROGRESS: at 63.87% examples, 359650 words/s, in_qsize 12, out_qsize 3\n",
            "2020-03-23 14:19:56,489 : INFO : EPOCH 12 - PROGRESS: at 68.97% examples, 360585 words/s, in_qsize 15, out_qsize 1\n",
            "2020-03-23 14:19:57,490 : INFO : EPOCH 12 - PROGRESS: at 73.19% examples, 359766 words/s, in_qsize 16, out_qsize 2\n",
            "2020-03-23 14:19:58,584 : INFO : EPOCH 12 - PROGRESS: at 78.07% examples, 360161 words/s, in_qsize 13, out_qsize 2\n",
            "2020-03-23 14:19:59,626 : INFO : EPOCH 12 - PROGRESS: at 82.74% examples, 360574 words/s, in_qsize 13, out_qsize 2\n",
            "2020-03-23 14:20:00,635 : INFO : EPOCH 12 - PROGRESS: at 87.07% examples, 360180 words/s, in_qsize 15, out_qsize 0\n",
            "2020-03-23 14:20:01,643 : INFO : EPOCH 12 - PROGRESS: at 91.85% examples, 361545 words/s, in_qsize 15, out_qsize 0\n",
            "2020-03-23 14:20:02,669 : INFO : EPOCH 12 - PROGRESS: at 95.88% examples, 359659 words/s, in_qsize 14, out_qsize 3\n",
            "2020-03-23 14:20:03,392 : INFO : worker thread finished; awaiting finish of 7 more threads\n",
            "2020-03-23 14:20:03,400 : INFO : worker thread finished; awaiting finish of 6 more threads\n",
            "2020-03-23 14:20:03,415 : INFO : worker thread finished; awaiting finish of 5 more threads\n",
            "2020-03-23 14:20:03,434 : INFO : worker thread finished; awaiting finish of 4 more threads\n",
            "2020-03-23 14:20:03,474 : INFO : worker thread finished; awaiting finish of 3 more threads\n",
            "2020-03-23 14:20:03,478 : INFO : worker thread finished; awaiting finish of 2 more threads\n",
            "2020-03-23 14:20:03,485 : INFO : worker thread finished; awaiting finish of 1 more threads\n",
            "2020-03-23 14:20:03,488 : INFO : worker thread finished; awaiting finish of 0 more threads\n",
            "2020-03-23 14:20:03,489 : INFO : EPOCH - 12 : training on 9227204 raw words (8222095 effective words) took 22.7s, 361623 effective words/s\n",
            "2020-03-23 14:20:04,566 : INFO : EPOCH 13 - PROGRESS: at 4.13% examples, 318395 words/s, in_qsize 15, out_qsize 0\n",
            "2020-03-23 14:20:05,611 : INFO : EPOCH 13 - PROGRESS: at 8.36% examples, 325428 words/s, in_qsize 13, out_qsize 2\n",
            "2020-03-23 14:20:06,618 : INFO : EPOCH 13 - PROGRESS: at 12.93% examples, 340363 words/s, in_qsize 15, out_qsize 1\n",
            "2020-03-23 14:20:07,667 : INFO : EPOCH 13 - PROGRESS: at 17.68% examples, 348588 words/s, in_qsize 15, out_qsize 0\n",
            "2020-03-23 14:20:08,712 : INFO : EPOCH 13 - PROGRESS: at 22.22% examples, 350506 words/s, in_qsize 15, out_qsize 0\n",
            "2020-03-23 14:20:09,764 : INFO : EPOCH 13 - PROGRESS: at 26.78% examples, 351431 words/s, in_qsize 16, out_qsize 0\n",
            "2020-03-23 14:20:10,790 : INFO : EPOCH 13 - PROGRESS: at 31.42% examples, 354492 words/s, in_qsize 16, out_qsize 0\n",
            "2020-03-23 14:20:11,820 : INFO : EPOCH 13 - PROGRESS: at 35.86% examples, 354516 words/s, in_qsize 13, out_qsize 2\n",
            "2020-03-23 14:20:12,900 : INFO : EPOCH 13 - PROGRESS: at 40.73% examples, 356389 words/s, in_qsize 15, out_qsize 0\n",
            "2020-03-23 14:20:13,949 : INFO : EPOCH 13 - PROGRESS: at 45.27% examples, 356415 words/s, in_qsize 14, out_qsize 1\n",
            "2020-03-23 14:20:15,001 : INFO : EPOCH 13 - PROGRESS: at 49.92% examples, 357147 words/s, in_qsize 15, out_qsize 0\n",
            "2020-03-23 14:20:16,073 : INFO : EPOCH 13 - PROGRESS: at 54.56% examples, 357193 words/s, in_qsize 15, out_qsize 0\n",
            "2020-03-23 14:20:17,227 : INFO : EPOCH 13 - PROGRESS: at 59.34% examples, 355729 words/s, in_qsize 15, out_qsize 4\n",
            "2020-03-23 14:20:18,242 : INFO : EPOCH 13 - PROGRESS: at 63.97% examples, 357202 words/s, in_qsize 16, out_qsize 0\n",
            "2020-03-23 14:20:19,314 : INFO : EPOCH 13 - PROGRESS: at 68.86% examples, 358324 words/s, in_qsize 16, out_qsize 0\n",
            "2020-03-23 14:20:20,398 : INFO : EPOCH 13 - PROGRESS: at 73.41% examples, 357475 words/s, in_qsize 10, out_qsize 5\n",
            "2020-03-23 14:20:21,428 : INFO : EPOCH 13 - PROGRESS: at 78.07% examples, 358274 words/s, in_qsize 15, out_qsize 0\n",
            "2020-03-23 14:20:22,441 : INFO : EPOCH 13 - PROGRESS: at 82.42% examples, 357929 words/s, in_qsize 14, out_qsize 1\n",
            "2020-03-23 14:20:23,452 : INFO : EPOCH 13 - PROGRESS: at 87.18% examples, 359422 words/s, in_qsize 15, out_qsize 0\n",
            "2020-03-23 14:20:24,501 : INFO : EPOCH 13 - PROGRESS: at 91.42% examples, 357990 words/s, in_qsize 15, out_qsize 0\n",
            "2020-03-23 14:20:25,502 : INFO : EPOCH 13 - PROGRESS: at 95.99% examples, 358702 words/s, in_qsize 15, out_qsize 0\n",
            "2020-03-23 14:20:26,200 : INFO : worker thread finished; awaiting finish of 7 more threads\n",
            "2020-03-23 14:20:26,223 : INFO : worker thread finished; awaiting finish of 6 more threads\n",
            "2020-03-23 14:20:26,231 : INFO : worker thread finished; awaiting finish of 5 more threads\n",
            "2020-03-23 14:20:26,236 : INFO : worker thread finished; awaiting finish of 4 more threads\n",
            "2020-03-23 14:20:26,238 : INFO : worker thread finished; awaiting finish of 3 more threads\n",
            "2020-03-23 14:20:26,240 : INFO : worker thread finished; awaiting finish of 2 more threads\n",
            "2020-03-23 14:20:26,275 : INFO : worker thread finished; awaiting finish of 1 more threads\n",
            "2020-03-23 14:20:26,283 : INFO : worker thread finished; awaiting finish of 0 more threads\n",
            "2020-03-23 14:20:26,284 : INFO : EPOCH - 13 : training on 9227204 raw words (8221947 effective words) took 22.8s, 360903 effective words/s\n",
            "2020-03-23 14:20:27,321 : INFO : EPOCH 14 - PROGRESS: at 4.23% examples, 338445 words/s, in_qsize 15, out_qsize 0\n",
            "2020-03-23 14:20:28,384 : INFO : EPOCH 14 - PROGRESS: at 8.69% examples, 341190 words/s, in_qsize 15, out_qsize 0\n",
            "2020-03-23 14:20:29,408 : INFO : EPOCH 14 - PROGRESS: at 13.25% examples, 349195 words/s, in_qsize 15, out_qsize 0\n",
            "2020-03-23 14:20:30,418 : INFO : EPOCH 14 - PROGRESS: at 17.57% examples, 350010 words/s, in_qsize 15, out_qsize 0\n",
            "2020-03-23 14:20:31,428 : INFO : EPOCH 14 - PROGRESS: at 22.01% examples, 352305 words/s, in_qsize 16, out_qsize 0\n",
            "2020-03-23 14:20:32,439 : INFO : EPOCH 14 - PROGRESS: at 26.45% examples, 353760 words/s, in_qsize 15, out_qsize 0\n",
            "2020-03-23 14:20:33,469 : INFO : EPOCH 14 - PROGRESS: at 30.78% examples, 352684 words/s, in_qsize 15, out_qsize 0\n",
            "2020-03-23 14:20:34,497 : INFO : EPOCH 14 - PROGRESS: at 35.32% examples, 354107 words/s, in_qsize 15, out_qsize 0\n",
            "2020-03-23 14:20:35,513 : INFO : EPOCH 14 - PROGRESS: at 39.86% examples, 355659 words/s, in_qsize 15, out_qsize 0\n",
            "2020-03-23 14:20:36,538 : INFO : EPOCH 14 - PROGRESS: at 44.18% examples, 354819 words/s, in_qsize 15, out_qsize 0\n",
            "2020-03-23 14:20:37,631 : INFO : EPOCH 14 - PROGRESS: at 48.95% examples, 355865 words/s, in_qsize 15, out_qsize 1\n",
            "2020-03-23 14:20:38,615 : INFO : EPOCH 14 - PROGRESS: at 53.70% examples, 358670 words/s, in_qsize 15, out_qsize 0\n",
            "2020-03-23 14:20:39,617 : INFO : EPOCH 14 - PROGRESS: at 57.71% examples, 356469 words/s, in_qsize 15, out_qsize 3\n",
            "2020-03-23 14:20:40,668 : INFO : EPOCH 14 - PROGRESS: at 62.25% examples, 356422 words/s, in_qsize 15, out_qsize 0\n",
            "2020-03-23 14:20:41,756 : INFO : EPOCH 14 - PROGRESS: at 67.02% examples, 356674 words/s, in_qsize 15, out_qsize 0\n",
            "2020-03-23 14:20:42,772 : INFO : EPOCH 14 - PROGRESS: at 71.78% examples, 358476 words/s, in_qsize 16, out_qsize 0\n",
            "2020-03-23 14:20:43,818 : INFO : EPOCH 14 - PROGRESS: at 76.22% examples, 357896 words/s, in_qsize 13, out_qsize 1\n",
            "2020-03-23 14:20:44,877 : INFO : EPOCH 14 - PROGRESS: at 80.90% examples, 358132 words/s, in_qsize 16, out_qsize 1\n",
            "2020-03-23 14:20:45,892 : INFO : EPOCH 14 - PROGRESS: at 85.34% examples, 358207 words/s, in_qsize 15, out_qsize 2\n",
            "2020-03-23 14:20:46,917 : INFO : EPOCH 14 - PROGRESS: at 89.78% examples, 358103 words/s, in_qsize 15, out_qsize 0\n",
            "2020-03-23 14:20:47,938 : INFO : EPOCH 14 - PROGRESS: at 94.69% examples, 359716 words/s, in_qsize 16, out_qsize 1\n",
            "2020-03-23 14:20:48,938 : INFO : EPOCH 14 - PROGRESS: at 98.90% examples, 359159 words/s, in_qsize 11, out_qsize 0\n",
            "2020-03-23 14:20:48,991 : INFO : worker thread finished; awaiting finish of 7 more threads\n",
            "2020-03-23 14:20:49,059 : INFO : worker thread finished; awaiting finish of 6 more threads\n",
            "2020-03-23 14:20:49,066 : INFO : worker thread finished; awaiting finish of 5 more threads\n",
            "2020-03-23 14:20:49,070 : INFO : worker thread finished; awaiting finish of 4 more threads\n",
            "2020-03-23 14:20:49,093 : INFO : worker thread finished; awaiting finish of 3 more threads\n",
            "2020-03-23 14:20:49,095 : INFO : worker thread finished; awaiting finish of 2 more threads\n",
            "2020-03-23 14:20:49,100 : INFO : worker thread finished; awaiting finish of 1 more threads\n",
            "2020-03-23 14:20:49,111 : INFO : worker thread finished; awaiting finish of 0 more threads\n",
            "2020-03-23 14:20:49,112 : INFO : EPOCH - 14 : training on 9227204 raw words (8222474 effective words) took 22.8s, 360373 effective words/s\n",
            "2020-03-23 14:20:50,132 : INFO : EPOCH 15 - PROGRESS: at 4.23% examples, 345077 words/s, in_qsize 15, out_qsize 0\n",
            "2020-03-23 14:20:51,215 : INFO : EPOCH 15 - PROGRESS: at 8.47% examples, 332665 words/s, in_qsize 15, out_qsize 0\n",
            "2020-03-23 14:20:52,272 : INFO : EPOCH 15 - PROGRESS: at 13.25% examples, 345453 words/s, in_qsize 15, out_qsize 0\n",
            "2020-03-23 14:20:53,280 : INFO : EPOCH 15 - PROGRESS: at 17.46% examples, 345216 words/s, in_qsize 15, out_qsize 0\n",
            "2020-03-23 14:20:54,320 : INFO : EPOCH 15 - PROGRESS: at 21.90% examples, 348332 words/s, in_qsize 16, out_qsize 3\n",
            "2020-03-23 14:20:55,339 : INFO : EPOCH 15 - PROGRESS: at 26.56% examples, 351243 words/s, in_qsize 15, out_qsize 0\n",
            "2020-03-23 14:20:56,391 : INFO : EPOCH 15 - PROGRESS: at 31.54% examples, 356815 words/s, in_qsize 15, out_qsize 0\n",
            "2020-03-23 14:20:57,464 : INFO : EPOCH 15 - PROGRESS: at 35.75% examples, 353164 words/s, in_qsize 16, out_qsize 2\n",
            "2020-03-23 14:20:58,553 : INFO : EPOCH 15 - PROGRESS: at 40.51% examples, 353360 words/s, in_qsize 15, out_qsize 0\n",
            "2020-03-23 14:20:59,562 : INFO : EPOCH 15 - PROGRESS: at 45.16% examples, 355911 words/s, in_qsize 15, out_qsize 0\n",
            "2020-03-23 14:21:00,604 : INFO : EPOCH 15 - PROGRESS: at 49.38% examples, 353859 words/s, in_qsize 15, out_qsize 0\n",
            "2020-03-23 14:21:01,610 : INFO : EPOCH 15 - PROGRESS: at 53.59% examples, 353185 words/s, in_qsize 12, out_qsize 3\n",
            "2020-03-23 14:21:02,679 : INFO : EPOCH 15 - PROGRESS: at 58.79% examples, 356894 words/s, in_qsize 15, out_qsize 0\n",
            "2020-03-23 14:21:03,693 : INFO : EPOCH 15 - PROGRESS: at 63.11% examples, 356503 words/s, in_qsize 15, out_qsize 0\n",
            "2020-03-23 14:21:04,707 : INFO : EPOCH 15 - PROGRESS: at 67.66% examples, 357289 words/s, in_qsize 15, out_qsize 0\n",
            "2020-03-23 14:21:05,712 : INFO : EPOCH 15 - PROGRESS: at 71.99% examples, 357138 words/s, in_qsize 14, out_qsize 1\n",
            "2020-03-23 14:21:06,727 : INFO : EPOCH 15 - PROGRESS: at 76.22% examples, 356267 words/s, in_qsize 15, out_qsize 0\n",
            "2020-03-23 14:21:07,795 : INFO : EPOCH 15 - PROGRESS: at 80.69% examples, 355441 words/s, in_qsize 16, out_qsize 3\n",
            "2020-03-23 14:21:08,856 : INFO : EPOCH 15 - PROGRESS: at 85.45% examples, 356203 words/s, in_qsize 13, out_qsize 2\n",
            "2020-03-23 14:21:09,873 : INFO : EPOCH 15 - PROGRESS: at 89.89% examples, 356352 words/s, in_qsize 15, out_qsize 1\n",
            "2020-03-23 14:21:10,892 : INFO : EPOCH 15 - PROGRESS: at 94.25% examples, 356019 words/s, in_qsize 15, out_qsize 0\n",
            "2020-03-23 14:21:11,966 : INFO : EPOCH 15 - PROGRESS: at 98.90% examples, 356052 words/s, in_qsize 10, out_qsize 1\n",
            "2020-03-23 14:21:11,989 : INFO : worker thread finished; awaiting finish of 7 more threads\n",
            "2020-03-23 14:21:11,999 : INFO : worker thread finished; awaiting finish of 6 more threads\n",
            "2020-03-23 14:21:12,014 : INFO : worker thread finished; awaiting finish of 5 more threads\n",
            "2020-03-23 14:21:12,031 : INFO : worker thread finished; awaiting finish of 4 more threads\n",
            "2020-03-23 14:21:12,035 : INFO : worker thread finished; awaiting finish of 3 more threads\n",
            "2020-03-23 14:21:12,063 : INFO : worker thread finished; awaiting finish of 2 more threads\n",
            "2020-03-23 14:21:12,071 : INFO : worker thread finished; awaiting finish of 1 more threads\n",
            "2020-03-23 14:21:12,078 : INFO : worker thread finished; awaiting finish of 0 more threads\n",
            "2020-03-23 14:21:12,079 : INFO : EPOCH - 15 : training on 9227204 raw words (8222441 effective words) took 23.0s, 358228 effective words/s\n",
            "2020-03-23 14:21:13,126 : INFO : EPOCH 16 - PROGRESS: at 3.80% examples, 302083 words/s, in_qsize 15, out_qsize 0\n",
            "2020-03-23 14:21:14,236 : INFO : EPOCH 16 - PROGRESS: at 8.80% examples, 336807 words/s, in_qsize 16, out_qsize 1\n",
            "2020-03-23 14:21:15,270 : INFO : EPOCH 16 - PROGRESS: at 13.25% examples, 342169 words/s, in_qsize 14, out_qsize 1\n",
            "2020-03-23 14:21:16,270 : INFO : EPOCH 16 - PROGRESS: at 17.89% examples, 351825 words/s, in_qsize 15, out_qsize 0\n",
            "2020-03-23 14:21:17,401 : INFO : EPOCH 16 - PROGRESS: at 22.33% examples, 345738 words/s, in_qsize 16, out_qsize 1\n",
            "2020-03-23 14:21:18,417 : INFO : EPOCH 16 - PROGRESS: at 26.88% examples, 349344 words/s, in_qsize 14, out_qsize 1\n",
            "2020-03-23 14:21:19,421 : INFO : EPOCH 16 - PROGRESS: at 31.32% examples, 351370 words/s, in_qsize 16, out_qsize 1\n",
            "2020-03-23 14:21:20,450 : INFO : EPOCH 16 - PROGRESS: at 35.75% examples, 351806 words/s, in_qsize 16, out_qsize 1\n",
            "2020-03-23 14:21:21,452 : INFO : EPOCH 16 - PROGRESS: at 40.40% examples, 355063 words/s, in_qsize 15, out_qsize 1\n",
            "2020-03-23 14:21:22,550 : INFO : EPOCH 16 - PROGRESS: at 44.94% examples, 353529 words/s, in_qsize 14, out_qsize 1\n",
            "2020-03-23 14:21:23,557 : INFO : EPOCH 16 - PROGRESS: at 49.27% examples, 353573 words/s, in_qsize 12, out_qsize 3\n",
            "2020-03-23 14:21:24,653 : INFO : EPOCH 16 - PROGRESS: at 54.13% examples, 355587 words/s, in_qsize 15, out_qsize 1\n",
            "2020-03-23 14:21:25,639 : INFO : EPOCH 16 - PROGRESS: at 58.90% examples, 357791 words/s, in_qsize 14, out_qsize 0\n",
            "2020-03-23 14:21:26,646 : INFO : EPOCH 16 - PROGRESS: at 63.00% examples, 356302 words/s, in_qsize 16, out_qsize 0\n",
            "2020-03-23 14:21:27,666 : INFO : EPOCH 16 - PROGRESS: at 67.23% examples, 355254 words/s, in_qsize 13, out_qsize 2\n",
            "2020-03-23 14:21:28,701 : INFO : EPOCH 16 - PROGRESS: at 71.99% examples, 356708 words/s, in_qsize 15, out_qsize 0\n",
            "2020-03-23 14:21:29,819 : INFO : EPOCH 16 - PROGRESS: at 76.66% examples, 355812 words/s, in_qsize 14, out_qsize 1\n",
            "2020-03-23 14:21:30,856 : INFO : EPOCH 16 - PROGRESS: at 81.23% examples, 356092 words/s, in_qsize 16, out_qsize 0\n",
            "2020-03-23 14:21:31,856 : INFO : EPOCH 16 - PROGRESS: at 85.66% examples, 356541 words/s, in_qsize 15, out_qsize 0\n",
            "2020-03-23 14:21:32,869 : INFO : EPOCH 16 - PROGRESS: at 90.11% examples, 356732 words/s, in_qsize 16, out_qsize 0\n",
            "2020-03-23 14:21:33,916 : INFO : EPOCH 16 - PROGRESS: at 94.58% examples, 356332 words/s, in_qsize 14, out_qsize 1\n",
            "2020-03-23 14:21:34,887 : INFO : worker thread finished; awaiting finish of 7 more threads\n",
            "2020-03-23 14:21:34,907 : INFO : worker thread finished; awaiting finish of 6 more threads\n",
            "2020-03-23 14:21:34,917 : INFO : EPOCH 16 - PROGRESS: at 99.55% examples, 358659 words/s, in_qsize 5, out_qsize 1\n",
            "2020-03-23 14:21:34,919 : INFO : worker thread finished; awaiting finish of 5 more threads\n",
            "2020-03-23 14:21:34,922 : INFO : worker thread finished; awaiting finish of 4 more threads\n",
            "2020-03-23 14:21:34,940 : INFO : worker thread finished; awaiting finish of 3 more threads\n",
            "2020-03-23 14:21:34,976 : INFO : worker thread finished; awaiting finish of 2 more threads\n",
            "2020-03-23 14:21:34,983 : INFO : worker thread finished; awaiting finish of 1 more threads\n",
            "2020-03-23 14:21:34,995 : INFO : worker thread finished; awaiting finish of 0 more threads\n",
            "2020-03-23 14:21:34,996 : INFO : EPOCH - 16 : training on 9227204 raw words (8222164 effective words) took 22.9s, 359018 effective words/s\n",
            "2020-03-23 14:21:36,064 : INFO : EPOCH 17 - PROGRESS: at 3.80% examples, 307486 words/s, in_qsize 15, out_qsize 2\n",
            "2020-03-23 14:21:37,036 : INFO : EPOCH 17 - PROGRESS: at 8.47% examples, 342882 words/s, in_qsize 14, out_qsize 1\n",
            "2020-03-23 14:21:38,039 : INFO : EPOCH 17 - PROGRESS: at 13.04% examples, 352948 words/s, in_qsize 16, out_qsize 1\n",
            "2020-03-23 14:21:39,074 : INFO : EPOCH 17 - PROGRESS: at 17.24% examples, 348553 words/s, in_qsize 13, out_qsize 2\n",
            "2020-03-23 14:21:40,110 : INFO : EPOCH 17 - PROGRESS: at 21.68% examples, 349399 words/s, in_qsize 15, out_qsize 0\n",
            "2020-03-23 14:21:41,189 : INFO : EPOCH 17 - PROGRESS: at 26.34% examples, 350340 words/s, in_qsize 15, out_qsize 0\n",
            "2020-03-23 14:21:42,212 : INFO : EPOCH 17 - PROGRESS: at 30.78% examples, 351312 words/s, in_qsize 14, out_qsize 1\n",
            "2020-03-23 14:21:43,234 : INFO : EPOCH 17 - PROGRESS: at 35.42% examples, 354249 words/s, in_qsize 15, out_qsize 3\n",
            "2020-03-23 14:21:44,326 : INFO : EPOCH 17 - PROGRESS: at 40.29% examples, 355767 words/s, in_qsize 16, out_qsize 0\n",
            "2020-03-23 14:21:45,355 : INFO : EPOCH 17 - PROGRESS: at 44.62% examples, 354753 words/s, in_qsize 15, out_qsize 0\n",
            "2020-03-23 14:21:46,358 : INFO : EPOCH 17 - PROGRESS: at 48.94% examples, 354820 words/s, in_qsize 14, out_qsize 1\n",
            "2020-03-23 14:21:47,392 : INFO : EPOCH 17 - PROGRESS: at 53.38% examples, 354682 words/s, in_qsize 16, out_qsize 2\n",
            "2020-03-23 14:21:48,442 : INFO : EPOCH 17 - PROGRESS: at 57.92% examples, 354840 words/s, in_qsize 15, out_qsize 0\n",
            "2020-03-23 14:21:49,470 : INFO : EPOCH 17 - PROGRESS: at 62.90% examples, 357969 words/s, in_qsize 15, out_qsize 0\n",
            "2020-03-23 14:21:50,514 : INFO : EPOCH 17 - PROGRESS: at 66.80% examples, 354552 words/s, in_qsize 13, out_qsize 2\n",
            "2020-03-23 14:21:51,539 : INFO : EPOCH 17 - PROGRESS: at 71.45% examples, 355733 words/s, in_qsize 14, out_qsize 1\n",
            "2020-03-23 14:21:52,564 : INFO : EPOCH 17 - PROGRESS: at 75.67% examples, 354747 words/s, in_qsize 15, out_qsize 3\n",
            "2020-03-23 14:21:53,575 : INFO : EPOCH 17 - PROGRESS: at 80.14% examples, 355097 words/s, in_qsize 15, out_qsize 0\n",
            "2020-03-23 14:21:54,593 : INFO : EPOCH 17 - PROGRESS: at 84.48% examples, 354859 words/s, in_qsize 13, out_qsize 2\n",
            "2020-03-23 14:21:55,627 : INFO : EPOCH 17 - PROGRESS: at 89.13% examples, 355621 words/s, in_qsize 15, out_qsize 0\n",
            "2020-03-23 14:21:56,628 : INFO : EPOCH 17 - PROGRESS: at 93.59% examples, 356027 words/s, in_qsize 13, out_qsize 2\n",
            "2020-03-23 14:21:57,637 : INFO : EPOCH 17 - PROGRESS: at 98.36% examples, 357470 words/s, in_qsize 15, out_qsize 0\n",
            "2020-03-23 14:21:57,866 : INFO : worker thread finished; awaiting finish of 7 more threads\n",
            "2020-03-23 14:21:57,898 : INFO : worker thread finished; awaiting finish of 6 more threads\n",
            "2020-03-23 14:21:57,928 : INFO : worker thread finished; awaiting finish of 5 more threads\n",
            "2020-03-23 14:21:57,944 : INFO : worker thread finished; awaiting finish of 4 more threads\n",
            "2020-03-23 14:21:57,950 : INFO : worker thread finished; awaiting finish of 3 more threads\n",
            "2020-03-23 14:21:57,971 : INFO : worker thread finished; awaiting finish of 2 more threads\n",
            "2020-03-23 14:21:57,983 : INFO : worker thread finished; awaiting finish of 1 more threads\n",
            "2020-03-23 14:21:57,985 : INFO : worker thread finished; awaiting finish of 0 more threads\n",
            "2020-03-23 14:21:57,986 : INFO : EPOCH - 17 : training on 9227204 raw words (8223568 effective words) took 23.0s, 357903 effective words/s\n",
            "2020-03-23 14:21:59,033 : INFO : EPOCH 18 - PROGRESS: at 3.80% examples, 301974 words/s, in_qsize 14, out_qsize 1\n",
            "2020-03-23 14:22:00,108 : INFO : EPOCH 18 - PROGRESS: at 8.58% examples, 333894 words/s, in_qsize 16, out_qsize 1\n",
            "2020-03-23 14:22:01,133 : INFO : EPOCH 18 - PROGRESS: at 12.93% examples, 338489 words/s, in_qsize 13, out_qsize 2\n",
            "2020-03-23 14:22:02,155 : INFO : EPOCH 18 - PROGRESS: at 17.57% examples, 347286 words/s, in_qsize 15, out_qsize 0\n",
            "2020-03-23 14:22:03,261 : INFO : EPOCH 18 - PROGRESS: at 22.33% examples, 348851 words/s, in_qsize 15, out_qsize 0\n",
            "2020-03-23 14:22:04,330 : INFO : EPOCH 18 - PROGRESS: at 26.88% examples, 349083 words/s, in_qsize 14, out_qsize 1\n",
            "2020-03-23 14:22:05,337 : INFO : EPOCH 18 - PROGRESS: at 31.43% examples, 352188 words/s, in_qsize 13, out_qsize 2\n",
            "2020-03-23 14:22:06,395 : INFO : EPOCH 18 - PROGRESS: at 35.86% examples, 352298 words/s, in_qsize 15, out_qsize 4\n",
            "2020-03-23 14:22:07,396 : INFO : EPOCH 18 - PROGRESS: at 40.30% examples, 352706 words/s, in_qsize 13, out_qsize 2\n",
            "2020-03-23 14:22:08,481 : INFO : EPOCH 18 - PROGRESS: at 44.83% examples, 352952 words/s, in_qsize 15, out_qsize 0\n",
            "2020-03-23 14:22:09,475 : INFO : EPOCH 18 - PROGRESS: at 49.27% examples, 353259 words/s, in_qsize 15, out_qsize 0\n",
            "2020-03-23 14:22:10,532 : INFO : EPOCH 18 - PROGRESS: at 54.03% examples, 354763 words/s, in_qsize 15, out_qsize 0\n",
            "2020-03-23 14:22:11,585 : INFO : EPOCH 18 - PROGRESS: at 58.46% examples, 354153 words/s, in_qsize 14, out_qsize 1\n",
            "2020-03-23 14:22:12,642 : INFO : EPOCH 18 - PROGRESS: at 63.11% examples, 354746 words/s, in_qsize 15, out_qsize 0\n",
            "2020-03-23 14:22:13,675 : INFO : EPOCH 18 - PROGRESS: at 67.67% examples, 355224 words/s, in_qsize 15, out_qsize 0\n",
            "2020-03-23 14:22:14,775 : INFO : EPOCH 18 - PROGRESS: at 72.21% examples, 354239 words/s, in_qsize 9, out_qsize 6\n",
            "2020-03-23 14:22:15,801 : INFO : EPOCH 18 - PROGRESS: at 77.31% examples, 357329 words/s, in_qsize 16, out_qsize 0\n",
            "2020-03-23 14:22:16,805 : INFO : EPOCH 18 - PROGRESS: at 81.77% examples, 357672 words/s, in_qsize 16, out_qsize 0\n",
            "2020-03-23 14:22:17,807 : INFO : EPOCH 18 - PROGRESS: at 85.77% examples, 356224 words/s, in_qsize 15, out_qsize 0\n",
            "2020-03-23 14:22:18,878 : INFO : EPOCH 18 - PROGRESS: at 90.43% examples, 356298 words/s, in_qsize 16, out_qsize 0\n",
            "2020-03-23 14:22:19,926 : INFO : EPOCH 18 - PROGRESS: at 94.90% examples, 355895 words/s, in_qsize 15, out_qsize 2\n",
            "2020-03-23 14:22:20,844 : INFO : worker thread finished; awaiting finish of 7 more threads\n",
            "2020-03-23 14:22:20,850 : INFO : worker thread finished; awaiting finish of 6 more threads\n",
            "2020-03-23 14:22:20,870 : INFO : worker thread finished; awaiting finish of 5 more threads\n",
            "2020-03-23 14:22:20,896 : INFO : worker thread finished; awaiting finish of 4 more threads\n",
            "2020-03-23 14:22:20,920 : INFO : worker thread finished; awaiting finish of 3 more threads\n",
            "2020-03-23 14:22:20,923 : INFO : worker thread finished; awaiting finish of 2 more threads\n",
            "2020-03-23 14:22:20,926 : INFO : worker thread finished; awaiting finish of 1 more threads\n",
            "2020-03-23 14:22:20,931 : INFO : EPOCH 18 - PROGRESS: at 100.00% examples, 358610 words/s, in_qsize 0, out_qsize 1\n",
            "2020-03-23 14:22:20,932 : INFO : worker thread finished; awaiting finish of 0 more threads\n",
            "2020-03-23 14:22:20,932 : INFO : EPOCH - 18 : training on 9227204 raw words (8223124 effective words) took 22.9s, 358588 effective words/s\n",
            "2020-03-23 14:22:21,977 : INFO : EPOCH 19 - PROGRESS: at 4.01% examples, 320053 words/s, in_qsize 16, out_qsize 1\n",
            "2020-03-23 14:22:22,981 : INFO : EPOCH 19 - PROGRESS: at 8.25% examples, 332962 words/s, in_qsize 16, out_qsize 0\n",
            "2020-03-23 14:22:23,986 : INFO : EPOCH 19 - PROGRESS: at 12.39% examples, 334289 words/s, in_qsize 11, out_qsize 4\n",
            "2020-03-23 14:22:25,092 : INFO : EPOCH 19 - PROGRESS: at 17.24% examples, 341647 words/s, in_qsize 14, out_qsize 1\n",
            "2020-03-23 14:22:26,096 : INFO : EPOCH 19 - PROGRESS: at 21.79% examples, 347718 words/s, in_qsize 14, out_qsize 1\n",
            "2020-03-23 14:22:27,098 : INFO : EPOCH 19 - PROGRESS: at 26.12% examples, 349039 words/s, in_qsize 15, out_qsize 0\n",
            "2020-03-23 14:22:28,134 : INFO : EPOCH 19 - PROGRESS: at 30.89% examples, 353301 words/s, in_qsize 15, out_qsize 1\n",
            "2020-03-23 14:22:29,142 : INFO : EPOCH 19 - PROGRESS: at 35.32% examples, 354393 words/s, in_qsize 15, out_qsize 1\n",
            "2020-03-23 14:22:30,215 : INFO : EPOCH 19 - PROGRESS: at 39.87% examples, 353718 words/s, in_qsize 15, out_qsize 0\n",
            "2020-03-23 14:22:31,258 : INFO : EPOCH 19 - PROGRESS: at 44.29% examples, 353317 words/s, in_qsize 14, out_qsize 1\n",
            "2020-03-23 14:22:32,292 : INFO : EPOCH 19 - PROGRESS: at 48.84% examples, 354120 words/s, in_qsize 15, out_qsize 0\n",
            "2020-03-23 14:22:33,293 : INFO : EPOCH 19 - PROGRESS: at 53.27% examples, 355006 words/s, in_qsize 15, out_qsize 0\n",
            "2020-03-23 14:22:34,296 : INFO : EPOCH 19 - PROGRESS: at 57.48% examples, 354371 words/s, in_qsize 15, out_qsize 0\n",
            "2020-03-23 14:22:35,354 : INFO : EPOCH 19 - PROGRESS: at 62.14% examples, 354914 words/s, in_qsize 14, out_qsize 1\n",
            "2020-03-23 14:22:36,367 : INFO : EPOCH 19 - PROGRESS: at 66.91% examples, 357019 words/s, in_qsize 16, out_qsize 0\n",
            "2020-03-23 14:22:37,394 : INFO : EPOCH 19 - PROGRESS: at 71.35% examples, 356937 words/s, in_qsize 16, out_qsize 0\n",
            "2020-03-23 14:22:38,529 : INFO : EPOCH 19 - PROGRESS: at 76.00% examples, 355677 words/s, in_qsize 14, out_qsize 1\n",
            "2020-03-23 14:22:39,547 : INFO : EPOCH 19 - PROGRESS: at 80.68% examples, 356797 words/s, in_qsize 14, out_qsize 1\n",
            "2020-03-23 14:22:40,588 : INFO : EPOCH 19 - PROGRESS: at 85.02% examples, 356039 words/s, in_qsize 14, out_qsize 1\n",
            "2020-03-23 14:22:41,624 : INFO : EPOCH 19 - PROGRESS: at 89.56% examples, 356278 words/s, in_qsize 11, out_qsize 4\n",
            "2020-03-23 14:22:42,665 : INFO : EPOCH 19 - PROGRESS: at 94.25% examples, 356813 words/s, in_qsize 15, out_qsize 0\n",
            "2020-03-23 14:22:43,718 : INFO : EPOCH 19 - PROGRESS: at 98.79% examples, 356863 words/s, in_qsize 12, out_qsize 2\n",
            "2020-03-23 14:22:43,729 : INFO : worker thread finished; awaiting finish of 7 more threads\n",
            "2020-03-23 14:22:43,746 : INFO : worker thread finished; awaiting finish of 6 more threads\n",
            "2020-03-23 14:22:43,751 : INFO : worker thread finished; awaiting finish of 5 more threads\n",
            "2020-03-23 14:22:43,766 : INFO : worker thread finished; awaiting finish of 4 more threads\n",
            "2020-03-23 14:22:43,796 : INFO : worker thread finished; awaiting finish of 3 more threads\n",
            "2020-03-23 14:22:43,820 : INFO : worker thread finished; awaiting finish of 2 more threads\n",
            "2020-03-23 14:22:43,837 : INFO : worker thread finished; awaiting finish of 1 more threads\n",
            "2020-03-23 14:22:43,840 : INFO : worker thread finished; awaiting finish of 0 more threads\n",
            "2020-03-23 14:22:43,841 : INFO : EPOCH - 19 : training on 9227204 raw words (8221893 effective words) took 22.9s, 359136 effective words/s\n",
            "2020-03-23 14:22:44,947 : INFO : EPOCH 20 - PROGRESS: at 3.91% examples, 301913 words/s, in_qsize 15, out_qsize 2\n",
            "2020-03-23 14:22:46,075 : INFO : EPOCH 20 - PROGRESS: at 8.90% examples, 328908 words/s, in_qsize 15, out_qsize 3\n",
            "2020-03-23 14:22:47,094 : INFO : EPOCH 20 - PROGRESS: at 13.79% examples, 349267 words/s, in_qsize 15, out_qsize 0\n",
            "2020-03-23 14:22:48,152 : INFO : EPOCH 20 - PROGRESS: at 18.11% examples, 346089 words/s, in_qsize 15, out_qsize 0\n",
            "2020-03-23 14:22:49,198 : INFO : EPOCH 20 - PROGRESS: at 22.65% examples, 348397 words/s, in_qsize 15, out_qsize 1\n",
            "2020-03-23 14:22:50,223 : INFO : EPOCH 20 - PROGRESS: at 26.99% examples, 348317 words/s, in_qsize 9, out_qsize 6\n",
            "2020-03-23 14:22:51,348 : INFO : EPOCH 20 - PROGRESS: at 32.08% examples, 351896 words/s, in_qsize 15, out_qsize 0\n",
            "2020-03-23 14:22:52,418 : INFO : EPOCH 20 - PROGRESS: at 36.83% examples, 353667 words/s, in_qsize 16, out_qsize 0\n",
            "2020-03-23 14:22:53,455 : INFO : EPOCH 20 - PROGRESS: at 41.26% examples, 353500 words/s, in_qsize 16, out_qsize 0\n",
            "2020-03-23 14:22:54,460 : INFO : EPOCH 20 - PROGRESS: at 45.48% examples, 352737 words/s, in_qsize 15, out_qsize 0\n",
            "2020-03-23 14:22:55,464 : INFO : EPOCH 20 - PROGRESS: at 50.02% examples, 354502 words/s, in_qsize 12, out_qsize 3\n",
            "2020-03-23 14:22:56,521 : INFO : EPOCH 20 - PROGRESS: at 54.78% examples, 355891 words/s, in_qsize 16, out_qsize 1\n",
            "2020-03-23 14:22:57,533 : INFO : EPOCH 20 - PROGRESS: at 59.01% examples, 354964 words/s, in_qsize 16, out_qsize 1\n",
            "2020-03-23 14:22:58,581 : INFO : EPOCH 20 - PROGRESS: at 63.97% examples, 357529 words/s, in_qsize 16, out_qsize 0\n",
            "2020-03-23 14:22:59,634 : INFO : EPOCH 20 - PROGRESS: at 68.42% examples, 356828 words/s, in_qsize 15, out_qsize 0\n",
            "2020-03-23 14:23:00,658 : INFO : EPOCH 20 - PROGRESS: at 72.97% examples, 357676 words/s, in_qsize 14, out_qsize 2\n",
            "2020-03-23 14:23:01,669 : INFO : EPOCH 20 - PROGRESS: at 77.09% examples, 356069 words/s, in_qsize 15, out_qsize 4\n",
            "2020-03-23 14:23:02,677 : INFO : EPOCH 20 - PROGRESS: at 81.44% examples, 355942 words/s, in_qsize 12, out_qsize 3\n",
            "2020-03-23 14:23:03,729 : INFO : EPOCH 20 - PROGRESS: at 85.77% examples, 355021 words/s, in_qsize 11, out_qsize 4\n",
            "2020-03-23 14:23:04,739 : INFO : EPOCH 20 - PROGRESS: at 90.54% examples, 356631 words/s, in_qsize 16, out_qsize 0\n",
            "2020-03-23 14:23:05,758 : INFO : EPOCH 20 - PROGRESS: at 95.12% examples, 357097 words/s, in_qsize 16, out_qsize 0\n",
            "2020-03-23 14:23:06,667 : INFO : worker thread finished; awaiting finish of 7 more threads\n",
            "2020-03-23 14:23:06,695 : INFO : worker thread finished; awaiting finish of 6 more threads\n",
            "2020-03-23 14:23:06,706 : INFO : worker thread finished; awaiting finish of 5 more threads\n",
            "2020-03-23 14:23:06,722 : INFO : worker thread finished; awaiting finish of 4 more threads\n",
            "2020-03-23 14:23:06,724 : INFO : worker thread finished; awaiting finish of 3 more threads\n",
            "2020-03-23 14:23:06,730 : INFO : worker thread finished; awaiting finish of 2 more threads\n",
            "2020-03-23 14:23:06,733 : INFO : worker thread finished; awaiting finish of 1 more threads\n",
            "2020-03-23 14:23:06,746 : INFO : worker thread finished; awaiting finish of 0 more threads\n",
            "2020-03-23 14:23:06,747 : INFO : EPOCH - 20 : training on 9227204 raw words (8223638 effective words) took 22.9s, 359231 effective words/s\n",
            "2020-03-23 14:23:07,792 : INFO : EPOCH 21 - PROGRESS: at 4.01% examples, 317952 words/s, in_qsize 15, out_qsize 0\n",
            "2020-03-23 14:23:08,848 : INFO : EPOCH 21 - PROGRESS: at 8.36% examples, 327852 words/s, in_qsize 11, out_qsize 5\n",
            "2020-03-23 14:23:09,865 : INFO : EPOCH 21 - PROGRESS: at 13.04% examples, 343798 words/s, in_qsize 13, out_qsize 5\n",
            "2020-03-23 14:23:10,886 : INFO : EPOCH 21 - PROGRESS: at 17.57% examples, 349261 words/s, in_qsize 15, out_qsize 0\n",
            "2020-03-23 14:23:11,931 : INFO : EPOCH 21 - PROGRESS: at 22.22% examples, 352816 words/s, in_qsize 15, out_qsize 0\n",
            "2020-03-23 14:23:12,945 : INFO : EPOCH 21 - PROGRESS: at 26.56% examples, 352624 words/s, in_qsize 16, out_qsize 0\n",
            "2020-03-23 14:23:13,960 : INFO : EPOCH 21 - PROGRESS: at 30.89% examples, 352390 words/s, in_qsize 15, out_qsize 0\n",
            "2020-03-23 14:23:14,965 : INFO : EPOCH 21 - PROGRESS: at 35.21% examples, 352638 words/s, in_qsize 15, out_qsize 0\n",
            "2020-03-23 14:23:15,970 : INFO : EPOCH 21 - PROGRESS: at 39.97% examples, 356749 words/s, in_qsize 15, out_qsize 0\n",
            "2020-03-23 14:23:16,986 : INFO : EPOCH 21 - PROGRESS: at 44.07% examples, 354386 words/s, in_qsize 16, out_qsize 0\n",
            "2020-03-23 14:23:17,992 : INFO : EPOCH 21 - PROGRESS: at 48.62% examples, 355946 words/s, in_qsize 15, out_qsize 0\n",
            "2020-03-23 14:23:19,040 : INFO : EPOCH 21 - PROGRESS: at 52.84% examples, 353885 words/s, in_qsize 15, out_qsize 0\n",
            "2020-03-23 14:23:20,089 : INFO : EPOCH 21 - PROGRESS: at 57.60% examples, 355460 words/s, in_qsize 16, out_qsize 0\n",
            "2020-03-23 14:23:21,109 : INFO : EPOCH 21 - PROGRESS: at 62.36% examples, 357518 words/s, in_qsize 15, out_qsize 0\n",
            "2020-03-23 14:23:22,120 : INFO : EPOCH 21 - PROGRESS: at 66.58% examples, 356620 words/s, in_qsize 15, out_qsize 1\n",
            "2020-03-23 14:23:23,136 : INFO : EPOCH 21 - PROGRESS: at 70.80% examples, 355718 words/s, in_qsize 16, out_qsize 1\n",
            "2020-03-23 14:23:24,154 : INFO : EPOCH 21 - PROGRESS: at 75.13% examples, 355375 words/s, in_qsize 13, out_qsize 2\n",
            "2020-03-23 14:23:25,245 : INFO : EPOCH 21 - PROGRESS: at 80.03% examples, 356084 words/s, in_qsize 15, out_qsize 0\n",
            "2020-03-23 14:23:26,281 : INFO : EPOCH 21 - PROGRESS: at 85.02% examples, 358173 words/s, in_qsize 16, out_qsize 0\n",
            "2020-03-23 14:23:27,287 : INFO : EPOCH 21 - PROGRESS: at 89.23% examples, 357527 words/s, in_qsize 13, out_qsize 2\n",
            "2020-03-23 14:23:28,328 : INFO : EPOCH 21 - PROGRESS: at 93.81% examples, 357597 words/s, in_qsize 15, out_qsize 0\n",
            "2020-03-23 14:23:29,339 : INFO : EPOCH 21 - PROGRESS: at 98.47% examples, 358537 words/s, in_qsize 15, out_qsize 0\n",
            "2020-03-23 14:23:29,455 : INFO : worker thread finished; awaiting finish of 7 more threads\n",
            "2020-03-23 14:23:29,481 : INFO : worker thread finished; awaiting finish of 6 more threads\n",
            "2020-03-23 14:23:29,499 : INFO : worker thread finished; awaiting finish of 5 more threads\n",
            "2020-03-23 14:23:29,510 : INFO : worker thread finished; awaiting finish of 4 more threads\n",
            "2020-03-23 14:23:29,547 : INFO : worker thread finished; awaiting finish of 3 more threads\n",
            "2020-03-23 14:23:29,567 : INFO : worker thread finished; awaiting finish of 2 more threads\n",
            "2020-03-23 14:23:29,571 : INFO : worker thread finished; awaiting finish of 1 more threads\n",
            "2020-03-23 14:23:29,573 : INFO : worker thread finished; awaiting finish of 0 more threads\n",
            "2020-03-23 14:23:29,574 : INFO : EPOCH - 21 : training on 9227204 raw words (8222999 effective words) took 22.8s, 360373 effective words/s\n",
            "2020-03-23 14:23:30,615 : INFO : EPOCH 22 - PROGRESS: at 4.23% examples, 337763 words/s, in_qsize 15, out_qsize 0\n",
            "2020-03-23 14:23:31,634 : INFO : EPOCH 22 - PROGRESS: at 8.58% examples, 343803 words/s, in_qsize 14, out_qsize 1\n",
            "2020-03-23 14:23:32,644 : INFO : EPOCH 22 - PROGRESS: at 13.15% examples, 352631 words/s, in_qsize 15, out_qsize 1\n",
            "2020-03-23 14:23:33,671 : INFO : EPOCH 22 - PROGRESS: at 17.35% examples, 348901 words/s, in_qsize 14, out_qsize 1\n",
            "2020-03-23 14:23:34,766 : INFO : EPOCH 22 - PROGRESS: at 22.22% examples, 352580 words/s, in_qsize 16, out_qsize 1\n",
            "2020-03-23 14:23:35,771 : INFO : EPOCH 22 - PROGRESS: at 26.77% examples, 355811 words/s, in_qsize 14, out_qsize 1\n",
            "2020-03-23 14:23:36,830 : INFO : EPOCH 22 - PROGRESS: at 31.54% examples, 357954 words/s, in_qsize 16, out_qsize 1\n",
            "2020-03-23 14:23:37,835 : INFO : EPOCH 22 - PROGRESS: at 35.97% examples, 358634 words/s, in_qsize 15, out_qsize 0\n",
            "2020-03-23 14:23:38,852 : INFO : EPOCH 22 - PROGRESS: at 40.62% examples, 361022 words/s, in_qsize 14, out_qsize 4\n",
            "2020-03-23 14:23:39,854 : INFO : EPOCH 22 - PROGRESS: at 45.16% examples, 361855 words/s, in_qsize 15, out_qsize 0\n",
            "2020-03-23 14:23:40,944 : INFO : EPOCH 22 - PROGRESS: at 49.70% examples, 360073 words/s, in_qsize 15, out_qsize 0\n",
            "2020-03-23 14:23:41,954 : INFO : EPOCH 22 - PROGRESS: at 54.67% examples, 363820 words/s, in_qsize 15, out_qsize 0\n",
            "2020-03-23 14:23:42,959 : INFO : EPOCH 22 - PROGRESS: at 58.90% examples, 362462 words/s, in_qsize 14, out_qsize 1\n",
            "2020-03-23 14:23:43,977 : INFO : EPOCH 22 - PROGRESS: at 63.11% examples, 360958 words/s, in_qsize 15, out_qsize 0\n",
            "2020-03-23 14:23:44,983 : INFO : EPOCH 22 - PROGRESS: at 68.10% examples, 364007 words/s, in_qsize 13, out_qsize 0\n",
            "2020-03-23 14:23:46,025 : INFO : EPOCH 22 - PROGRESS: at 72.21% examples, 362249 words/s, in_qsize 15, out_qsize 1\n",
            "2020-03-23 14:23:47,002 : INFO : EPOCH 22 - PROGRESS: at 76.88% examples, 363233 words/s, in_qsize 15, out_qsize 0\n",
            "2020-03-23 14:23:48,042 : INFO : EPOCH 22 - PROGRESS: at 81.34% examples, 362541 words/s, in_qsize 15, out_qsize 0\n",
            "2020-03-23 14:23:49,049 : INFO : EPOCH 22 - PROGRESS: at 85.66% examples, 362096 words/s, in_qsize 16, out_qsize 0\n",
            "2020-03-23 14:23:50,089 : INFO : EPOCH 22 - PROGRESS: at 90.65% examples, 363695 words/s, in_qsize 15, out_qsize 0\n",
            "2020-03-23 14:23:51,090 : INFO : EPOCH 22 - PROGRESS: at 95.01% examples, 363326 words/s, in_qsize 15, out_qsize 1\n",
            "2020-03-23 14:23:52,089 : INFO : worker thread finished; awaiting finish of 7 more threads\n",
            "2020-03-23 14:23:52,091 : INFO : EPOCH 22 - PROGRESS: at 99.35% examples, 363048 words/s, in_qsize 6, out_qsize 1\n",
            "2020-03-23 14:23:52,095 : INFO : worker thread finished; awaiting finish of 6 more threads\n",
            "2020-03-23 14:23:52,108 : INFO : worker thread finished; awaiting finish of 5 more threads\n",
            "2020-03-23 14:23:52,118 : INFO : worker thread finished; awaiting finish of 4 more threads\n",
            "2020-03-23 14:23:52,127 : INFO : worker thread finished; awaiting finish of 3 more threads\n",
            "2020-03-23 14:23:52,131 : INFO : worker thread finished; awaiting finish of 2 more threads\n",
            "2020-03-23 14:23:52,138 : INFO : worker thread finished; awaiting finish of 1 more threads\n",
            "2020-03-23 14:23:52,141 : INFO : worker thread finished; awaiting finish of 0 more threads\n",
            "2020-03-23 14:23:52,142 : INFO : EPOCH - 22 : training on 9227204 raw words (8223348 effective words) took 22.6s, 364588 effective words/s\n",
            "2020-03-23 14:23:53,256 : INFO : EPOCH 23 - PROGRESS: at 4.23% examples, 326526 words/s, in_qsize 15, out_qsize 2\n",
            "2020-03-23 14:23:54,289 : INFO : EPOCH 23 - PROGRESS: at 8.58% examples, 329677 words/s, in_qsize 15, out_qsize 1\n",
            "2020-03-23 14:23:55,312 : INFO : EPOCH 23 - PROGRESS: at 13.14% examples, 341397 words/s, in_qsize 13, out_qsize 2\n",
            "2020-03-23 14:23:56,340 : INFO : EPOCH 23 - PROGRESS: at 18.00% examples, 353170 words/s, in_qsize 15, out_qsize 0\n",
            "2020-03-23 14:23:57,369 : INFO : EPOCH 23 - PROGRESS: at 22.44% examples, 353543 words/s, in_qsize 16, out_qsize 1\n",
            "2020-03-23 14:23:58,465 : INFO : EPOCH 23 - PROGRESS: at 27.32% examples, 355681 words/s, in_qsize 15, out_qsize 0\n",
            "2020-03-23 14:23:59,486 : INFO : EPOCH 23 - PROGRESS: at 31.86% examples, 357244 words/s, in_qsize 13, out_qsize 2\n",
            "2020-03-23 14:24:00,491 : INFO : EPOCH 23 - PROGRESS: at 36.40% examples, 359221 words/s, in_qsize 15, out_qsize 1\n",
            "2020-03-23 14:24:01,544 : INFO : EPOCH 23 - PROGRESS: at 40.83% examples, 357680 words/s, in_qsize 14, out_qsize 4\n",
            "2020-03-23 14:24:02,560 : INFO : EPOCH 23 - PROGRESS: at 45.81% examples, 362104 words/s, in_qsize 14, out_qsize 1\n",
            "2020-03-23 14:24:03,564 : INFO : EPOCH 23 - PROGRESS: at 50.35% examples, 363072 words/s, in_qsize 16, out_qsize 0\n",
            "2020-03-23 14:24:04,684 : INFO : EPOCH 23 - PROGRESS: at 54.78% examples, 359766 words/s, in_qsize 15, out_qsize 0\n",
            "2020-03-23 14:24:05,716 : INFO : EPOCH 23 - PROGRESS: at 59.65% examples, 362479 words/s, in_qsize 15, out_qsize 2\n",
            "2020-03-23 14:24:06,709 : INFO : EPOCH 23 - PROGRESS: at 63.97% examples, 361735 words/s, in_qsize 14, out_qsize 1\n",
            "2020-03-23 14:24:07,805 : INFO : EPOCH 23 - PROGRESS: at 68.64% examples, 360866 words/s, in_qsize 13, out_qsize 2\n",
            "2020-03-23 14:24:08,843 : INFO : EPOCH 23 - PROGRESS: at 73.30% examples, 361370 words/s, in_qsize 12, out_qsize 3\n",
            "2020-03-23 14:24:09,876 : INFO : EPOCH 23 - PROGRESS: at 78.07% examples, 362636 words/s, in_qsize 16, out_qsize 2\n",
            "2020-03-23 14:24:10,878 : INFO : EPOCH 23 - PROGRESS: at 82.64% examples, 363004 words/s, in_qsize 15, out_qsize 0\n",
            "2020-03-23 14:24:11,916 : INFO : EPOCH 23 - PROGRESS: at 87.18% examples, 363076 words/s, in_qsize 14, out_qsize 2\n",
            "2020-03-23 14:24:12,967 : INFO : EPOCH 23 - PROGRESS: at 91.96% examples, 363350 words/s, in_qsize 14, out_qsize 1\n",
            "2020-03-23 14:24:14,012 : INFO : EPOCH 23 - PROGRESS: at 96.53% examples, 363108 words/s, in_qsize 15, out_qsize 0\n",
            "2020-03-23 14:24:14,584 : INFO : worker thread finished; awaiting finish of 7 more threads\n",
            "2020-03-23 14:24:14,623 : INFO : worker thread finished; awaiting finish of 6 more threads\n",
            "2020-03-23 14:24:14,661 : INFO : worker thread finished; awaiting finish of 5 more threads\n",
            "2020-03-23 14:24:14,667 : INFO : worker thread finished; awaiting finish of 4 more threads\n",
            "2020-03-23 14:24:14,694 : INFO : worker thread finished; awaiting finish of 3 more threads\n",
            "2020-03-23 14:24:14,696 : INFO : worker thread finished; awaiting finish of 2 more threads\n",
            "2020-03-23 14:24:14,700 : INFO : worker thread finished; awaiting finish of 1 more threads\n",
            "2020-03-23 14:24:14,707 : INFO : worker thread finished; awaiting finish of 0 more threads\n",
            "2020-03-23 14:24:14,707 : INFO : EPOCH - 23 : training on 9227204 raw words (8222254 effective words) took 22.6s, 364584 effective words/s\n",
            "2020-03-23 14:24:15,781 : INFO : EPOCH 24 - PROGRESS: at 4.45% examples, 343607 words/s, in_qsize 15, out_qsize 0\n",
            "2020-03-23 14:24:16,786 : INFO : EPOCH 24 - PROGRESS: at 8.69% examples, 344565 words/s, in_qsize 14, out_qsize 1\n",
            "2020-03-23 14:24:17,797 : INFO : EPOCH 24 - PROGRESS: at 13.14% examples, 350159 words/s, in_qsize 15, out_qsize 0\n",
            "2020-03-23 14:24:18,805 : INFO : EPOCH 24 - PROGRESS: at 17.68% examples, 355244 words/s, in_qsize 15, out_qsize 0\n",
            "2020-03-23 14:24:19,848 : INFO : EPOCH 24 - PROGRESS: at 22.01% examples, 352501 words/s, in_qsize 16, out_qsize 2\n",
            "2020-03-23 14:24:20,853 : INFO : EPOCH 24 - PROGRESS: at 26.55% examples, 355790 words/s, in_qsize 15, out_qsize 0\n",
            "2020-03-23 14:24:21,871 : INFO : EPOCH 24 - PROGRESS: at 30.78% examples, 353707 words/s, in_qsize 12, out_qsize 6\n",
            "2020-03-23 14:24:22,886 : INFO : EPOCH 24 - PROGRESS: at 35.54% examples, 357781 words/s, in_qsize 15, out_qsize 0\n",
            "2020-03-23 14:24:23,889 : INFO : EPOCH 24 - PROGRESS: at 39.86% examples, 357512 words/s, in_qsize 15, out_qsize 1\n",
            "2020-03-23 14:24:24,905 : INFO : EPOCH 24 - PROGRESS: at 44.40% examples, 358566 words/s, in_qsize 14, out_qsize 0\n",
            "2020-03-23 14:24:25,985 : INFO : EPOCH 24 - PROGRESS: at 49.06% examples, 358209 words/s, in_qsize 15, out_qsize 0\n",
            "2020-03-23 14:24:27,021 : INFO : EPOCH 24 - PROGRESS: at 53.49% examples, 357738 words/s, in_qsize 15, out_qsize 0\n",
            "2020-03-23 14:24:28,034 : INFO : EPOCH 24 - PROGRESS: at 57.92% examples, 357978 words/s, in_qsize 14, out_qsize 1\n",
            "2020-03-23 14:24:29,052 : INFO : EPOCH 24 - PROGRESS: at 62.36% examples, 358048 words/s, in_qsize 15, out_qsize 0\n",
            "2020-03-23 14:24:30,096 : INFO : EPOCH 24 - PROGRESS: at 66.80% examples, 357467 words/s, in_qsize 16, out_qsize 1\n",
            "2020-03-23 14:24:31,125 : INFO : EPOCH 24 - PROGRESS: at 71.78% examples, 360001 words/s, in_qsize 16, out_qsize 0\n",
            "2020-03-23 14:24:32,144 : INFO : EPOCH 24 - PROGRESS: at 76.11% examples, 359385 words/s, in_qsize 15, out_qsize 0\n",
            "2020-03-23 14:24:33,170 : INFO : EPOCH 24 - PROGRESS: at 80.58% examples, 359207 words/s, in_qsize 16, out_qsize 0\n",
            "2020-03-23 14:24:34,174 : INFO : EPOCH 24 - PROGRESS: at 85.23% examples, 360351 words/s, in_qsize 16, out_qsize 1\n",
            "2020-03-23 14:24:35,205 : INFO : EPOCH 24 - PROGRESS: at 89.56% examples, 359613 words/s, in_qsize 15, out_qsize 0\n",
            "2020-03-23 14:24:36,213 : INFO : EPOCH 24 - PROGRESS: at 94.47% examples, 361387 words/s, in_qsize 15, out_qsize 0\n",
            "2020-03-23 14:24:37,225 : INFO : EPOCH 24 - PROGRESS: at 99.01% examples, 361746 words/s, in_qsize 10, out_qsize 0\n",
            "2020-03-23 14:24:37,271 : INFO : worker thread finished; awaiting finish of 7 more threads\n",
            "2020-03-23 14:24:37,309 : INFO : worker thread finished; awaiting finish of 6 more threads\n",
            "2020-03-23 14:24:37,367 : INFO : worker thread finished; awaiting finish of 5 more threads\n",
            "2020-03-23 14:24:37,373 : INFO : worker thread finished; awaiting finish of 4 more threads\n",
            "2020-03-23 14:24:37,382 : INFO : worker thread finished; awaiting finish of 3 more threads\n",
            "2020-03-23 14:24:37,388 : INFO : worker thread finished; awaiting finish of 2 more threads\n",
            "2020-03-23 14:24:37,394 : INFO : worker thread finished; awaiting finish of 1 more threads\n",
            "2020-03-23 14:24:37,395 : INFO : worker thread finished; awaiting finish of 0 more threads\n",
            "2020-03-23 14:24:37,396 : INFO : EPOCH - 24 : training on 9227204 raw words (8223223 effective words) took 22.7s, 362604 effective words/s\n",
            "2020-03-23 14:24:38,459 : INFO : EPOCH 25 - PROGRESS: at 3.69% examples, 288826 words/s, in_qsize 10, out_qsize 5\n",
            "2020-03-23 14:24:39,495 : INFO : EPOCH 25 - PROGRESS: at 8.15% examples, 325135 words/s, in_qsize 15, out_qsize 6\n",
            "2020-03-23 14:24:40,523 : INFO : EPOCH 25 - PROGRESS: at 13.15% examples, 346357 words/s, in_qsize 15, out_qsize 0\n",
            "2020-03-23 14:24:41,531 : INFO : EPOCH 25 - PROGRESS: at 17.46% examples, 348005 words/s, in_qsize 15, out_qsize 0\n",
            "2020-03-23 14:24:42,580 : INFO : EPOCH 25 - PROGRESS: at 21.79% examples, 346346 words/s, in_qsize 15, out_qsize 5\n",
            "2020-03-23 14:24:43,593 : INFO : EPOCH 25 - PROGRESS: at 26.78% examples, 355883 words/s, in_qsize 16, out_qsize 0\n",
            "2020-03-23 14:24:44,619 : INFO : EPOCH 25 - PROGRESS: at 31.42% examples, 358420 words/s, in_qsize 14, out_qsize 1\n",
            "2020-03-23 14:24:45,680 : INFO : EPOCH 25 - PROGRESS: at 35.65% examples, 355619 words/s, in_qsize 15, out_qsize 3\n",
            "2020-03-23 14:24:46,708 : INFO : EPOCH 25 - PROGRESS: at 40.19% examples, 355452 words/s, in_qsize 14, out_qsize 1\n",
            "2020-03-23 14:24:47,718 : INFO : EPOCH 25 - PROGRESS: at 44.51% examples, 355190 words/s, in_qsize 14, out_qsize 3\n",
            "2020-03-23 14:24:48,785 : INFO : EPOCH 25 - PROGRESS: at 49.49% examples, 357934 words/s, in_qsize 15, out_qsize 0\n",
            "2020-03-23 14:24:49,789 : INFO : EPOCH 25 - PROGRESS: at 54.03% examples, 359112 words/s, in_qsize 14, out_qsize 1\n",
            "2020-03-23 14:24:50,831 : INFO : EPOCH 25 - PROGRESS: at 58.47% examples, 358473 words/s, in_qsize 15, out_qsize 0\n",
            "2020-03-23 14:24:51,843 : INFO : EPOCH 25 - PROGRESS: at 62.90% examples, 358647 words/s, in_qsize 14, out_qsize 1\n",
            "2020-03-23 14:24:52,870 : INFO : EPOCH 25 - PROGRESS: at 67.45% examples, 359012 words/s, in_qsize 14, out_qsize 1\n",
            "2020-03-23 14:24:53,921 : INFO : EPOCH 25 - PROGRESS: at 71.99% examples, 358815 words/s, in_qsize 13, out_qsize 2\n",
            "2020-03-23 14:24:54,977 : INFO : EPOCH 25 - PROGRESS: at 76.88% examples, 360055 words/s, in_qsize 16, out_qsize 0\n",
            "2020-03-23 14:24:55,996 : INFO : EPOCH 25 - PROGRESS: at 81.23% examples, 359463 words/s, in_qsize 15, out_qsize 0\n",
            "2020-03-23 14:24:57,061 : INFO : EPOCH 25 - PROGRESS: at 85.66% examples, 358581 words/s, in_qsize 13, out_qsize 3\n",
            "2020-03-23 14:24:58,100 : INFO : EPOCH 25 - PROGRESS: at 90.33% examples, 359081 words/s, in_qsize 15, out_qsize 0\n",
            "2020-03-23 14:24:59,155 : INFO : EPOCH 25 - PROGRESS: at 94.80% examples, 358441 words/s, in_qsize 13, out_qsize 2\n",
            "2020-03-23 14:25:00,135 : INFO : worker thread finished; awaiting finish of 7 more threads\n",
            "2020-03-23 14:25:00,144 : INFO : worker thread finished; awaiting finish of 6 more threads\n",
            "2020-03-23 14:25:00,146 : INFO : worker thread finished; awaiting finish of 5 more threads\n",
            "2020-03-23 14:25:00,153 : INFO : worker thread finished; awaiting finish of 4 more threads\n",
            "2020-03-23 14:25:00,154 : INFO : worker thread finished; awaiting finish of 3 more threads\n",
            "2020-03-23 14:25:00,157 : INFO : EPOCH 25 - PROGRESS: at 99.78% examples, 360708 words/s, in_qsize 2, out_qsize 1\n",
            "2020-03-23 14:25:00,162 : INFO : worker thread finished; awaiting finish of 2 more threads\n",
            "2020-03-23 14:25:00,167 : INFO : worker thread finished; awaiting finish of 1 more threads\n",
            "2020-03-23 14:25:00,170 : INFO : worker thread finished; awaiting finish of 0 more threads\n",
            "2020-03-23 14:25:00,171 : INFO : EPOCH - 25 : training on 9227204 raw words (8222771 effective words) took 22.8s, 361271 effective words/s\n",
            "2020-03-23 14:25:01,229 : INFO : EPOCH 26 - PROGRESS: at 3.80% examples, 299722 words/s, in_qsize 15, out_qsize 0\n",
            "2020-03-23 14:25:02,276 : INFO : EPOCH 26 - PROGRESS: at 8.37% examples, 328837 words/s, in_qsize 15, out_qsize 1\n",
            "2020-03-23 14:25:03,332 : INFO : EPOCH 26 - PROGRESS: at 12.82% examples, 334648 words/s, in_qsize 11, out_qsize 6\n",
            "2020-03-23 14:25:04,393 : INFO : EPOCH 26 - PROGRESS: at 17.57% examples, 343318 words/s, in_qsize 16, out_qsize 1\n",
            "2020-03-23 14:25:05,477 : INFO : EPOCH 26 - PROGRESS: at 22.11% examples, 346450 words/s, in_qsize 15, out_qsize 3\n",
            "2020-03-23 14:25:06,454 : INFO : EPOCH 26 - PROGRESS: at 26.67% examples, 349849 words/s, in_qsize 15, out_qsize 0\n",
            "2020-03-23 14:25:07,466 : INFO : EPOCH 26 - PROGRESS: at 30.89% examples, 349022 words/s, in_qsize 15, out_qsize 2\n",
            "2020-03-23 14:25:08,516 : INFO : EPOCH 26 - PROGRESS: at 35.43% examples, 349923 words/s, in_qsize 12, out_qsize 3\n",
            "2020-03-23 14:25:09,557 : INFO : EPOCH 26 - PROGRESS: at 40.19% examples, 352861 words/s, in_qsize 15, out_qsize 0\n",
            "2020-03-23 14:25:10,575 : INFO : EPOCH 26 - PROGRESS: at 44.51% examples, 352584 words/s, in_qsize 12, out_qsize 3\n",
            "2020-03-23 14:25:11,704 : INFO : EPOCH 26 - PROGRESS: at 49.49% examples, 353585 words/s, in_qsize 14, out_qsize 1\n",
            "2020-03-23 14:25:12,734 : INFO : EPOCH 26 - PROGRESS: at 53.92% examples, 353682 words/s, in_qsize 15, out_qsize 0\n",
            "2020-03-23 14:25:13,736 : INFO : EPOCH 26 - PROGRESS: at 58.58% examples, 355830 words/s, in_qsize 15, out_qsize 0\n",
            "2020-03-23 14:25:14,741 : INFO : EPOCH 26 - PROGRESS: at 62.79% examples, 355143 words/s, in_qsize 15, out_qsize 0\n",
            "2020-03-23 14:25:15,755 : INFO : EPOCH 26 - PROGRESS: at 67.34% examples, 356012 words/s, in_qsize 15, out_qsize 0\n",
            "2020-03-23 14:25:16,762 : INFO : EPOCH 26 - PROGRESS: at 71.88% examples, 356959 words/s, in_qsize 15, out_qsize 0\n",
            "2020-03-23 14:25:17,786 : INFO : EPOCH 26 - PROGRESS: at 76.00% examples, 355397 words/s, in_qsize 16, out_qsize 0\n",
            "2020-03-23 14:25:18,793 : INFO : EPOCH 26 - PROGRESS: at 80.36% examples, 355308 words/s, in_qsize 13, out_qsize 2\n",
            "2020-03-23 14:25:19,807 : INFO : EPOCH 26 - PROGRESS: at 85.23% examples, 357372 words/s, in_qsize 15, out_qsize 0\n",
            "2020-03-23 14:25:20,878 : INFO : EPOCH 26 - PROGRESS: at 89.67% examples, 356533 words/s, in_qsize 14, out_qsize 1\n",
            "2020-03-23 14:25:21,883 : INFO : EPOCH 26 - PROGRESS: at 94.47% examples, 358074 words/s, in_qsize 15, out_qsize 0\n",
            "2020-03-23 14:25:22,885 : INFO : EPOCH 26 - PROGRESS: at 98.79% examples, 357959 words/s, in_qsize 12, out_qsize 0\n",
            "2020-03-23 14:25:23,000 : INFO : worker thread finished; awaiting finish of 7 more threads\n",
            "2020-03-23 14:25:23,005 : INFO : worker thread finished; awaiting finish of 6 more threads\n",
            "2020-03-23 14:25:23,013 : INFO : worker thread finished; awaiting finish of 5 more threads\n",
            "2020-03-23 14:25:23,036 : INFO : worker thread finished; awaiting finish of 4 more threads\n",
            "2020-03-23 14:25:23,038 : INFO : worker thread finished; awaiting finish of 3 more threads\n",
            "2020-03-23 14:25:23,057 : INFO : worker thread finished; awaiting finish of 2 more threads\n",
            "2020-03-23 14:25:23,082 : INFO : worker thread finished; awaiting finish of 1 more threads\n",
            "2020-03-23 14:25:23,084 : INFO : worker thread finished; awaiting finish of 0 more threads\n",
            "2020-03-23 14:25:23,085 : INFO : EPOCH - 26 : training on 9227204 raw words (8223098 effective words) took 22.9s, 359155 effective words/s\n",
            "2020-03-23 14:25:24,102 : INFO : EPOCH 27 - PROGRESS: at 4.02% examples, 328554 words/s, in_qsize 15, out_qsize 0\n",
            "2020-03-23 14:25:25,183 : INFO : EPOCH 27 - PROGRESS: at 8.58% examples, 337775 words/s, in_qsize 16, out_qsize 0\n",
            "2020-03-23 14:25:26,258 : INFO : EPOCH 27 - PROGRESS: at 13.47% examples, 349697 words/s, in_qsize 15, out_qsize 0\n",
            "2020-03-23 14:25:27,286 : INFO : EPOCH 27 - PROGRESS: at 18.00% examples, 353140 words/s, in_qsize 16, out_qsize 0\n",
            "2020-03-23 14:25:28,350 : INFO : EPOCH 27 - PROGRESS: at 22.33% examples, 349481 words/s, in_qsize 14, out_qsize 1\n",
            "2020-03-23 14:25:29,363 : INFO : EPOCH 27 - PROGRESS: at 26.88% examples, 352676 words/s, in_qsize 16, out_qsize 0\n",
            "2020-03-23 14:25:30,444 : INFO : EPOCH 27 - PROGRESS: at 31.86% examples, 356602 words/s, in_qsize 15, out_qsize 0\n",
            "2020-03-23 14:25:31,450 : INFO : EPOCH 27 - PROGRESS: at 36.40% examples, 358485 words/s, in_qsize 14, out_qsize 1\n",
            "2020-03-23 14:25:32,450 : INFO : EPOCH 27 - PROGRESS: at 40.83% examples, 359190 words/s, in_qsize 16, out_qsize 0\n",
            "2020-03-23 14:25:33,485 : INFO : EPOCH 27 - PROGRESS: at 45.16% examples, 357713 words/s, in_qsize 14, out_qsize 1\n",
            "2020-03-23 14:25:34,529 : INFO : EPOCH 27 - PROGRESS: at 49.70% examples, 357751 words/s, in_qsize 15, out_qsize 0\n",
            "2020-03-23 14:25:35,570 : INFO : EPOCH 27 - PROGRESS: at 54.46% examples, 359354 words/s, in_qsize 13, out_qsize 2\n",
            "2020-03-23 14:25:36,579 : INFO : EPOCH 27 - PROGRESS: at 59.23% examples, 361558 words/s, in_qsize 16, out_qsize 0\n",
            "2020-03-23 14:25:37,605 : INFO : EPOCH 27 - PROGRESS: at 63.43% examples, 359925 words/s, in_qsize 15, out_qsize 0\n",
            "2020-03-23 14:25:38,628 : INFO : EPOCH 27 - PROGRESS: at 67.88% examples, 359723 words/s, in_qsize 15, out_qsize 0\n",
            "2020-03-23 14:25:39,678 : INFO : EPOCH 27 - PROGRESS: at 72.43% examples, 359962 words/s, in_qsize 15, out_qsize 2\n",
            "2020-03-23 14:25:40,788 : INFO : EPOCH 27 - PROGRESS: at 77.20% examples, 359073 words/s, in_qsize 14, out_qsize 1\n",
            "2020-03-23 14:25:41,795 : INFO : EPOCH 27 - PROGRESS: at 81.99% examples, 360691 words/s, in_qsize 15, out_qsize 0\n",
            "2020-03-23 14:25:42,846 : INFO : EPOCH 27 - PROGRESS: at 86.86% examples, 361806 words/s, in_qsize 15, out_qsize 0\n",
            "2020-03-23 14:25:43,874 : INFO : EPOCH 27 - PROGRESS: at 90.98% examples, 360174 words/s, in_qsize 14, out_qsize 1\n",
            "2020-03-23 14:25:44,963 : INFO : EPOCH 27 - PROGRESS: at 95.88% examples, 360565 words/s, in_qsize 16, out_qsize 0\n",
            "2020-03-23 14:25:45,740 : INFO : worker thread finished; awaiting finish of 7 more threads\n",
            "2020-03-23 14:25:45,742 : INFO : worker thread finished; awaiting finish of 6 more threads\n",
            "2020-03-23 14:25:45,745 : INFO : worker thread finished; awaiting finish of 5 more threads\n",
            "2020-03-23 14:25:45,746 : INFO : worker thread finished; awaiting finish of 4 more threads\n",
            "2020-03-23 14:25:45,747 : INFO : worker thread finished; awaiting finish of 3 more threads\n",
            "2020-03-23 14:25:45,748 : INFO : worker thread finished; awaiting finish of 2 more threads\n",
            "2020-03-23 14:25:45,755 : INFO : worker thread finished; awaiting finish of 1 more threads\n",
            "2020-03-23 14:25:45,786 : INFO : worker thread finished; awaiting finish of 0 more threads\n",
            "2020-03-23 14:25:45,787 : INFO : EPOCH - 27 : training on 9227204 raw words (8222894 effective words) took 22.7s, 362423 effective words/s\n",
            "2020-03-23 14:25:46,832 : INFO : EPOCH 28 - PROGRESS: at 4.13% examples, 327688 words/s, in_qsize 16, out_qsize 0\n",
            "2020-03-23 14:25:47,883 : INFO : EPOCH 28 - PROGRESS: at 8.36% examples, 334231 words/s, in_qsize 15, out_qsize 5\n",
            "2020-03-23 14:25:48,856 : INFO : EPOCH 28 - PROGRESS: at 12.71% examples, 340918 words/s, in_qsize 15, out_qsize 3\n",
            "2020-03-23 14:25:49,890 : INFO : EPOCH 28 - PROGRESS: at 17.35% examples, 348274 words/s, in_qsize 15, out_qsize 0\n",
            "2020-03-23 14:25:50,895 : INFO : EPOCH 28 - PROGRESS: at 22.11% examples, 356545 words/s, in_qsize 15, out_qsize 0\n",
            "2020-03-23 14:25:51,932 : INFO : EPOCH 28 - PROGRESS: at 26.23% examples, 351499 words/s, in_qsize 12, out_qsize 3\n",
            "2020-03-23 14:25:52,940 : INFO : EPOCH 28 - PROGRESS: at 30.78% examples, 354280 words/s, in_qsize 16, out_qsize 0\n",
            "2020-03-23 14:25:53,943 : INFO : EPOCH 28 - PROGRESS: at 35.42% examples, 357646 words/s, in_qsize 15, out_qsize 0\n",
            "2020-03-23 14:25:54,971 : INFO : EPOCH 28 - PROGRESS: at 39.65% examples, 355449 words/s, in_qsize 15, out_qsize 0\n",
            "2020-03-23 14:25:55,979 : INFO : EPOCH 28 - PROGRESS: at 44.07% examples, 356117 words/s, in_qsize 15, out_qsize 0\n",
            "2020-03-23 14:25:57,077 : INFO : EPOCH 28 - PROGRESS: at 48.73% examples, 355457 words/s, in_qsize 16, out_qsize 0\n",
            "2020-03-23 14:25:58,078 : INFO : EPOCH 28 - PROGRESS: at 53.16% examples, 356252 words/s, in_qsize 15, out_qsize 0\n",
            "2020-03-23 14:25:59,164 : INFO : EPOCH 28 - PROGRESS: at 57.92% examples, 356645 words/s, in_qsize 15, out_qsize 0\n",
            "2020-03-23 14:26:00,282 : INFO : EPOCH 28 - PROGRESS: at 62.35% examples, 354341 words/s, in_qsize 15, out_qsize 4\n",
            "2020-03-23 14:26:01,347 : INFO : EPOCH 28 - PROGRESS: at 67.34% examples, 356413 words/s, in_qsize 15, out_qsize 0\n",
            "2020-03-23 14:26:02,377 : INFO : EPOCH 28 - PROGRESS: at 71.78% examples, 356646 words/s, in_qsize 15, out_qsize 1\n",
            "2020-03-23 14:26:03,428 : INFO : EPOCH 28 - PROGRESS: at 76.33% examples, 356259 words/s, in_qsize 14, out_qsize 1\n",
            "2020-03-23 14:26:04,480 : INFO : EPOCH 28 - PROGRESS: at 81.34% examples, 358136 words/s, in_qsize 15, out_qsize 0\n",
            "2020-03-23 14:26:05,515 : INFO : EPOCH 28 - PROGRESS: at 85.77% examples, 358453 words/s, in_qsize 15, out_qsize 2\n",
            "2020-03-23 14:26:06,483 : INFO : EPOCH 28 - PROGRESS: at 89.89% examples, 357480 words/s, in_qsize 12, out_qsize 3\n",
            "2020-03-23 14:26:07,501 : INFO : EPOCH 28 - PROGRESS: at 94.47% examples, 357914 words/s, in_qsize 15, out_qsize 0\n",
            "2020-03-23 14:26:08,574 : INFO : EPOCH 28 - PROGRESS: at 99.11% examples, 357871 words/s, in_qsize 9, out_qsize 0\n",
            "2020-03-23 14:26:08,584 : INFO : worker thread finished; awaiting finish of 7 more threads\n",
            "2020-03-23 14:26:08,593 : INFO : worker thread finished; awaiting finish of 6 more threads\n",
            "2020-03-23 14:26:08,616 : INFO : worker thread finished; awaiting finish of 5 more threads\n",
            "2020-03-23 14:26:08,620 : INFO : worker thread finished; awaiting finish of 4 more threads\n",
            "2020-03-23 14:26:08,625 : INFO : worker thread finished; awaiting finish of 3 more threads\n",
            "2020-03-23 14:26:08,638 : INFO : worker thread finished; awaiting finish of 2 more threads\n",
            "2020-03-23 14:26:08,643 : INFO : worker thread finished; awaiting finish of 1 more threads\n",
            "2020-03-23 14:26:08,662 : INFO : worker thread finished; awaiting finish of 0 more threads\n",
            "2020-03-23 14:26:08,663 : INFO : EPOCH - 28 : training on 9227204 raw words (8222864 effective words) took 22.9s, 359649 effective words/s\n",
            "2020-03-23 14:26:09,792 : INFO : EPOCH 29 - PROGRESS: at 4.23% examples, 309930 words/s, in_qsize 15, out_qsize 0\n",
            "2020-03-23 14:26:10,821 : INFO : EPOCH 29 - PROGRESS: at 9.12% examples, 348165 words/s, in_qsize 16, out_qsize 0\n",
            "2020-03-23 14:26:11,867 : INFO : EPOCH 29 - PROGRESS: at 13.25% examples, 340087 words/s, in_qsize 13, out_qsize 2\n",
            "2020-03-23 14:26:12,934 : INFO : EPOCH 29 - PROGRESS: at 17.78% examples, 342662 words/s, in_qsize 16, out_qsize 4\n",
            "2020-03-23 14:26:13,943 : INFO : EPOCH 29 - PROGRESS: at 22.65% examples, 353148 words/s, in_qsize 16, out_qsize 0\n",
            "2020-03-23 14:26:14,980 : INFO : EPOCH 29 - PROGRESS: at 27.10% examples, 353019 words/s, in_qsize 15, out_qsize 0\n",
            "2020-03-23 14:26:16,038 : INFO : EPOCH 29 - PROGRESS: at 31.54% examples, 351897 words/s, in_qsize 16, out_qsize 3\n",
            "2020-03-23 14:26:17,041 : INFO : EPOCH 29 - PROGRESS: at 36.51% examples, 358643 words/s, in_qsize 15, out_qsize 0\n",
            "2020-03-23 14:26:18,068 : INFO : EPOCH 29 - PROGRESS: at 40.83% examples, 357377 words/s, in_qsize 15, out_qsize 0\n",
            "2020-03-23 14:26:19,112 : INFO : EPOCH 29 - PROGRESS: at 45.27% examples, 356595 words/s, in_qsize 15, out_qsize 0\n",
            "2020-03-23 14:26:20,115 : INFO : EPOCH 29 - PROGRESS: at 49.70% examples, 357299 words/s, in_qsize 15, out_qsize 0\n",
            "2020-03-23 14:26:21,244 : INFO : EPOCH 29 - PROGRESS: at 54.35% examples, 355720 words/s, in_qsize 15, out_qsize 0\n",
            "2020-03-23 14:26:22,250 : INFO : EPOCH 29 - PROGRESS: at 58.90% examples, 356922 words/s, in_qsize 14, out_qsize 1\n",
            "2020-03-23 14:26:23,270 : INFO : EPOCH 29 - PROGRESS: at 63.54% examples, 358226 words/s, in_qsize 13, out_qsize 2\n",
            "2020-03-23 14:26:24,275 : INFO : EPOCH 29 - PROGRESS: at 68.10% examples, 359124 words/s, in_qsize 15, out_qsize 0\n",
            "2020-03-23 14:26:25,286 : INFO : EPOCH 29 - PROGRESS: at 72.32% examples, 358161 words/s, in_qsize 15, out_qsize 0\n",
            "2020-03-23 14:26:26,295 : INFO : EPOCH 29 - PROGRESS: at 76.77% examples, 358367 words/s, in_qsize 16, out_qsize 2\n",
            "2020-03-23 14:26:27,321 : INFO : EPOCH 29 - PROGRESS: at 81.12% examples, 357772 words/s, in_qsize 16, out_qsize 2\n",
            "2020-03-23 14:26:28,330 : INFO : EPOCH 29 - PROGRESS: at 85.77% examples, 358886 words/s, in_qsize 15, out_qsize 0\n",
            "2020-03-23 14:26:29,367 : INFO : EPOCH 29 - PROGRESS: at 90.21% examples, 358535 words/s, in_qsize 15, out_qsize 0\n",
            "2020-03-23 14:26:30,379 : INFO : EPOCH 29 - PROGRESS: at 94.90% examples, 359456 words/s, in_qsize 16, out_qsize 0\n",
            "2020-03-23 14:26:31,355 : INFO : worker thread finished; awaiting finish of 7 more threads\n",
            "2020-03-23 14:26:31,381 : INFO : EPOCH 29 - PROGRESS: at 99.34% examples, 359726 words/s, in_qsize 5, out_qsize 3\n",
            "2020-03-23 14:26:31,384 : INFO : worker thread finished; awaiting finish of 6 more threads\n",
            "2020-03-23 14:26:31,387 : INFO : worker thread finished; awaiting finish of 5 more threads\n",
            "2020-03-23 14:26:31,397 : INFO : worker thread finished; awaiting finish of 4 more threads\n",
            "2020-03-23 14:26:31,431 : INFO : worker thread finished; awaiting finish of 3 more threads\n",
            "2020-03-23 14:26:31,449 : INFO : worker thread finished; awaiting finish of 2 more threads\n",
            "2020-03-23 14:26:31,454 : INFO : worker thread finished; awaiting finish of 1 more threads\n",
            "2020-03-23 14:26:31,459 : INFO : worker thread finished; awaiting finish of 0 more threads\n",
            "2020-03-23 14:26:31,460 : INFO : EPOCH - 29 : training on 9227204 raw words (8222615 effective words) took 22.8s, 360816 effective words/s\n",
            "2020-03-23 14:26:32,473 : INFO : EPOCH 30 - PROGRESS: at 3.69% examples, 301694 words/s, in_qsize 15, out_qsize 0\n",
            "2020-03-23 14:26:33,501 : INFO : EPOCH 30 - PROGRESS: at 8.26% examples, 333129 words/s, in_qsize 10, out_qsize 3\n",
            "2020-03-23 14:26:34,503 : INFO : EPOCH 30 - PROGRESS: at 13.15% examples, 355274 words/s, in_qsize 12, out_qsize 0\n",
            "2020-03-23 14:26:35,516 : INFO : EPOCH 30 - PROGRESS: at 17.57% examples, 356477 words/s, in_qsize 14, out_qsize 1\n",
            "2020-03-23 14:26:36,579 : INFO : EPOCH 30 - PROGRESS: at 21.79% examples, 350400 words/s, in_qsize 15, out_qsize 4\n",
            "2020-03-23 14:26:37,591 : INFO : EPOCH 30 - PROGRESS: at 26.67% examples, 357924 words/s, in_qsize 14, out_qsize 1\n",
            "2020-03-23 14:26:38,612 : INFO : EPOCH 30 - PROGRESS: at 31.10% examples, 357909 words/s, in_qsize 15, out_qsize 0\n",
            "2020-03-23 14:26:39,642 : INFO : EPOCH 30 - PROGRESS: at 35.43% examples, 356390 words/s, in_qsize 15, out_qsize 4\n",
            "2020-03-23 14:26:40,679 : INFO : EPOCH 30 - PROGRESS: at 40.62% examples, 362697 words/s, in_qsize 15, out_qsize 0\n",
            "2020-03-23 14:26:41,684 : INFO : EPOCH 30 - PROGRESS: at 44.73% examples, 360137 words/s, in_qsize 14, out_qsize 1\n",
            "2020-03-23 14:26:42,727 : INFO : EPOCH 30 - PROGRESS: at 49.27% examples, 360024 words/s, in_qsize 14, out_qsize 2\n",
            "2020-03-23 14:26:43,788 : INFO : EPOCH 30 - PROGRESS: at 54.24% examples, 362294 words/s, in_qsize 15, out_qsize 0\n",
            "2020-03-23 14:26:44,791 : INFO : EPOCH 30 - PROGRESS: at 58.79% examples, 363118 words/s, in_qsize 13, out_qsize 1\n",
            "2020-03-23 14:26:45,818 : INFO : EPOCH 30 - PROGRESS: at 63.33% examples, 363210 words/s, in_qsize 15, out_qsize 0\n",
            "2020-03-23 14:26:46,863 : INFO : EPOCH 30 - PROGRESS: at 67.66% examples, 361696 words/s, in_qsize 12, out_qsize 6\n",
            "2020-03-23 14:26:47,865 : INFO : EPOCH 30 - PROGRESS: at 72.53% examples, 364050 words/s, in_qsize 15, out_qsize 0\n",
            "2020-03-23 14:26:48,891 : INFO : EPOCH 30 - PROGRESS: at 76.88% examples, 363059 words/s, in_qsize 15, out_qsize 4\n",
            "2020-03-23 14:26:50,001 : INFO : EPOCH 30 - PROGRESS: at 81.88% examples, 363415 words/s, in_qsize 15, out_qsize 0\n",
            "2020-03-23 14:26:51,014 : INFO : EPOCH 30 - PROGRESS: at 86.64% examples, 364620 words/s, in_qsize 15, out_qsize 0\n",
            "2020-03-23 14:26:52,016 : INFO : EPOCH 30 - PROGRESS: at 91.20% examples, 365030 words/s, in_qsize 15, out_qsize 0\n",
            "2020-03-23 14:26:53,030 : INFO : EPOCH 30 - PROGRESS: at 95.44% examples, 363978 words/s, in_qsize 15, out_qsize 0\n",
            "2020-03-23 14:26:53,827 : INFO : worker thread finished; awaiting finish of 7 more threads\n",
            "2020-03-23 14:26:53,837 : INFO : worker thread finished; awaiting finish of 6 more threads\n",
            "2020-03-23 14:26:53,871 : INFO : worker thread finished; awaiting finish of 5 more threads\n",
            "2020-03-23 14:26:53,894 : INFO : worker thread finished; awaiting finish of 4 more threads\n",
            "2020-03-23 14:26:53,900 : INFO : worker thread finished; awaiting finish of 3 more threads\n",
            "2020-03-23 14:26:53,903 : INFO : worker thread finished; awaiting finish of 2 more threads\n",
            "2020-03-23 14:26:53,905 : INFO : worker thread finished; awaiting finish of 1 more threads\n",
            "2020-03-23 14:26:53,907 : INFO : worker thread finished; awaiting finish of 0 more threads\n",
            "2020-03-23 14:26:53,909 : INFO : EPOCH - 30 : training on 9227204 raw words (8222795 effective words) took 22.4s, 366437 effective words/s\n",
            "2020-03-23 14:26:54,939 : INFO : EPOCH 31 - PROGRESS: at 3.69% examples, 298614 words/s, in_qsize 16, out_qsize 1\n",
            "2020-03-23 14:26:55,957 : INFO : EPOCH 31 - PROGRESS: at 7.93% examples, 320153 words/s, in_qsize 16, out_qsize 1\n",
            "2020-03-23 14:26:56,967 : INFO : EPOCH 31 - PROGRESS: at 12.39% examples, 333938 words/s, in_qsize 16, out_qsize 1\n",
            "2020-03-23 14:26:58,013 : INFO : EPOCH 31 - PROGRESS: at 16.92% examples, 339952 words/s, in_qsize 15, out_qsize 0\n",
            "2020-03-23 14:26:59,089 : INFO : EPOCH 31 - PROGRESS: at 21.68% examples, 345742 words/s, in_qsize 15, out_qsize 1\n",
            "2020-03-23 14:27:00,091 : INFO : EPOCH 31 - PROGRESS: at 26.12% examples, 348176 words/s, in_qsize 15, out_qsize 0\n",
            "2020-03-23 14:27:01,122 : INFO : EPOCH 31 - PROGRESS: at 30.56% examples, 349066 words/s, in_qsize 13, out_qsize 2\n",
            "2020-03-23 14:27:02,146 : INFO : EPOCH 31 - PROGRESS: at 35.42% examples, 354326 words/s, in_qsize 15, out_qsize 0\n",
            "2020-03-23 14:27:03,189 : INFO : EPOCH 31 - PROGRESS: at 39.97% examples, 354831 words/s, in_qsize 14, out_qsize 1\n",
            "2020-03-23 14:27:04,216 : INFO : EPOCH 31 - PROGRESS: at 44.40% examples, 354940 words/s, in_qsize 15, out_qsize 0\n",
            "2020-03-23 14:27:05,222 : INFO : EPOCH 31 - PROGRESS: at 49.27% examples, 358835 words/s, in_qsize 14, out_qsize 1\n",
            "2020-03-23 14:27:06,238 : INFO : EPOCH 31 - PROGRESS: at 53.81% examples, 359630 words/s, in_qsize 15, out_qsize 0\n",
            "2020-03-23 14:27:07,291 : INFO : EPOCH 31 - PROGRESS: at 58.36% examples, 360459 words/s, in_qsize 13, out_qsize 2\n",
            "2020-03-23 14:27:08,257 : INFO : EPOCH 31 - PROGRESS: at 62.57% examples, 359337 words/s, in_qsize 11, out_qsize 3\n",
            "2020-03-23 14:27:09,295 : INFO : EPOCH 31 - PROGRESS: at 67.34% examples, 360554 words/s, in_qsize 15, out_qsize 0\n",
            "2020-03-23 14:27:10,385 : INFO : EPOCH 31 - PROGRESS: at 71.78% examples, 358863 words/s, in_qsize 10, out_qsize 5\n",
            "2020-03-23 14:27:11,407 : INFO : EPOCH 31 - PROGRESS: at 76.66% examples, 360782 words/s, in_qsize 14, out_qsize 1\n",
            "2020-03-23 14:27:12,412 : INFO : EPOCH 31 - PROGRESS: at 81.23% examples, 361413 words/s, in_qsize 15, out_qsize 0\n",
            "2020-03-23 14:27:13,451 : INFO : EPOCH 31 - PROGRESS: at 85.66% examples, 360888 words/s, in_qsize 12, out_qsize 3\n",
            "2020-03-23 14:27:14,530 : INFO : EPOCH 31 - PROGRESS: at 90.65% examples, 362144 words/s, in_qsize 15, out_qsize 1\n",
            "2020-03-23 14:27:15,527 : INFO : EPOCH 31 - PROGRESS: at 95.01% examples, 361624 words/s, in_qsize 14, out_qsize 6\n",
            "2020-03-23 14:27:16,404 : INFO : worker thread finished; awaiting finish of 7 more threads\n",
            "2020-03-23 14:27:16,411 : INFO : worker thread finished; awaiting finish of 6 more threads\n",
            "2020-03-23 14:27:16,429 : INFO : worker thread finished; awaiting finish of 5 more threads\n",
            "2020-03-23 14:27:16,432 : INFO : worker thread finished; awaiting finish of 4 more threads\n",
            "2020-03-23 14:27:16,437 : INFO : worker thread finished; awaiting finish of 3 more threads\n",
            "2020-03-23 14:27:16,443 : INFO : worker thread finished; awaiting finish of 2 more threads\n",
            "2020-03-23 14:27:16,462 : INFO : worker thread finished; awaiting finish of 1 more threads\n",
            "2020-03-23 14:27:16,464 : INFO : worker thread finished; awaiting finish of 0 more threads\n",
            "2020-03-23 14:27:16,465 : INFO : EPOCH - 31 : training on 9227204 raw words (8222100 effective words) took 22.5s, 364797 effective words/s\n",
            "2020-03-23 14:27:17,502 : INFO : EPOCH 32 - PROGRESS: at 3.91% examples, 312782 words/s, in_qsize 15, out_qsize 0\n",
            "2020-03-23 14:27:18,530 : INFO : EPOCH 32 - PROGRESS: at 8.47% examples, 338460 words/s, in_qsize 13, out_qsize 2\n",
            "2020-03-23 14:27:19,554 : INFO : EPOCH 32 - PROGRESS: at 13.15% examples, 350392 words/s, in_qsize 15, out_qsize 0\n",
            "2020-03-23 14:27:20,559 : INFO : EPOCH 32 - PROGRESS: at 17.57% examples, 353532 words/s, in_qsize 15, out_qsize 0\n",
            "2020-03-23 14:27:21,600 : INFO : EPOCH 32 - PROGRESS: at 22.33% examples, 359585 words/s, in_qsize 15, out_qsize 0\n",
            "2020-03-23 14:27:22,666 : INFO : EPOCH 32 - PROGRESS: at 26.88% examples, 356947 words/s, in_qsize 15, out_qsize 0\n",
            "2020-03-23 14:27:23,711 : INFO : EPOCH 32 - PROGRESS: at 31.97% examples, 363257 words/s, in_qsize 16, out_qsize 1\n",
            "2020-03-23 14:27:24,717 : INFO : EPOCH 32 - PROGRESS: at 36.40% examples, 363236 words/s, in_qsize 15, out_qsize 1\n",
            "2020-03-23 14:27:25,721 : INFO : EPOCH 32 - PROGRESS: at 40.83% examples, 363297 words/s, in_qsize 14, out_qsize 1\n",
            "2020-03-23 14:27:26,727 : INFO : EPOCH 32 - PROGRESS: at 45.37% examples, 364161 words/s, in_qsize 15, out_qsize 2\n",
            "2020-03-23 14:27:27,771 : INFO : EPOCH 32 - PROGRESS: at 50.13% examples, 365205 words/s, in_qsize 15, out_qsize 0\n",
            "2020-03-23 14:27:28,807 : INFO : EPOCH 32 - PROGRESS: at 54.67% examples, 364883 words/s, in_qsize 15, out_qsize 0\n",
            "2020-03-23 14:27:29,840 : INFO : EPOCH 32 - PROGRESS: at 59.34% examples, 366052 words/s, in_qsize 15, out_qsize 0\n",
            "2020-03-23 14:27:30,829 : INFO : EPOCH 32 - PROGRESS: at 63.75% examples, 365644 words/s, in_qsize 15, out_qsize 0\n",
            "2020-03-23 14:27:31,856 : INFO : EPOCH 32 - PROGRESS: at 68.42% examples, 366127 words/s, in_qsize 14, out_qsize 1\n",
            "2020-03-23 14:27:32,918 : INFO : EPOCH 32 - PROGRESS: at 72.86% examples, 364661 words/s, in_qsize 15, out_qsize 0\n",
            "2020-03-23 14:27:33,961 : INFO : EPOCH 32 - PROGRESS: at 77.64% examples, 365324 words/s, in_qsize 16, out_qsize 0\n",
            "2020-03-23 14:27:34,980 : INFO : EPOCH 32 - PROGRESS: at 82.10% examples, 364959 words/s, in_qsize 14, out_qsize 1\n",
            "2020-03-23 14:27:35,990 : INFO : EPOCH 32 - PROGRESS: at 86.64% examples, 365244 words/s, in_qsize 14, out_qsize 1\n",
            "2020-03-23 14:27:36,994 : INFO : EPOCH 32 - PROGRESS: at 91.09% examples, 365178 words/s, in_qsize 14, out_qsize 1\n",
            "2020-03-23 14:27:38,047 : INFO : EPOCH 32 - PROGRESS: at 95.88% examples, 365509 words/s, in_qsize 15, out_qsize 1\n",
            "2020-03-23 14:27:38,693 : INFO : worker thread finished; awaiting finish of 7 more threads\n",
            "2020-03-23 14:27:38,717 : INFO : worker thread finished; awaiting finish of 6 more threads\n",
            "2020-03-23 14:27:38,724 : INFO : worker thread finished; awaiting finish of 5 more threads\n",
            "2020-03-23 14:27:38,790 : INFO : worker thread finished; awaiting finish of 4 more threads\n",
            "2020-03-23 14:27:38,801 : INFO : worker thread finished; awaiting finish of 3 more threads\n",
            "2020-03-23 14:27:38,810 : INFO : worker thread finished; awaiting finish of 2 more threads\n",
            "2020-03-23 14:27:38,813 : INFO : worker thread finished; awaiting finish of 1 more threads\n",
            "2020-03-23 14:27:38,818 : INFO : worker thread finished; awaiting finish of 0 more threads\n",
            "2020-03-23 14:27:38,819 : INFO : EPOCH - 32 : training on 9227204 raw words (8223477 effective words) took 22.3s, 368085 effective words/s\n",
            "2020-03-23 14:27:38,820 : INFO : training on a 295270528 raw words (263127831 effective words) took 726.5s, 362189 effective words/s\n"
          ],
          "name": "stderr"
        },
        {
          "output_type": "stream",
          "text": [
            "CPU times: user 23min 38s, sys: 5.57 s, total: 23min 44s\n",
            "Wall time: 12min 6s\n"
          ],
          "name": "stdout"
        },
        {
          "output_type": "execute_result",
          "data": {
            "text/plain": [
              "(263127831, 295270528)"
            ]
          },
          "metadata": {
            "tags": []
          },
          "execution_count": 69
        }
      ]
    },
    {
      "cell_type": "code",
      "metadata": {
        "id": "92hPABlB3HUk",
        "colab_type": "code",
        "outputId": "dd46853a-233e-4239-e32f-1720939f0653",
        "colab": {
          "base_uri": "https://localhost:8080/",
          "height": 297
        }
      },
      "source": [
        "w2v_model.most_similar(\"love\")"
      ],
      "execution_count": 70,
      "outputs": [
        {
          "output_type": "stream",
          "text": [
            "/usr/local/lib/python3.6/dist-packages/ipykernel_launcher.py:1: DeprecationWarning: Call to deprecated `most_similar` (Method will be removed in 4.0.0, use self.wv.most_similar() instead).\n",
            "  \"\"\"Entry point for launching an IPython kernel.\n",
            "2020-03-23 14:27:38,831 : INFO : precomputing L2-norms of word weight vectors\n",
            "/usr/local/lib/python3.6/dist-packages/gensim/matutils.py:737: FutureWarning: Conversion of the second argument of issubdtype from `int` to `np.signedinteger` is deprecated. In future, it will be treated as `np.int64 == np.dtype(int).type`.\n",
            "  if np.issubdtype(vec.dtype, np.int):\n"
          ],
          "name": "stderr"
        },
        {
          "output_type": "execute_result",
          "data": {
            "text/plain": [
              "[('luv', 0.5774351358413696),\n",
              " ('loves', 0.5626063346862793),\n",
              " ('loved', 0.5412142872810364),\n",
              " ('adore', 0.5056759715080261),\n",
              " ('amazing', 0.5020084381103516),\n",
              " ('looove', 0.49414390325546265),\n",
              " ('awesome', 0.4686385989189148),\n",
              " ('loveee', 0.4591616988182068),\n",
              " ('loove', 0.44224128127098083),\n",
              " ('lovee', 0.4401790499687195)]"
            ]
          },
          "metadata": {
            "tags": []
          },
          "execution_count": 70
        }
      ]
    },
    {
      "cell_type": "code",
      "metadata": {
        "id": "E7StLG3y3XsH",
        "colab_type": "code",
        "outputId": "52b0cd36-6452-444a-e44c-ae26b2b306c2",
        "colab": {
          "base_uri": "https://localhost:8080/",
          "height": 69
        }
      },
      "source": [
        "%%time\n",
        "tokenizer = Tokenizer()\n",
        "tokenizer.fit_on_texts(df_train.text)\n",
        "\n",
        "vocab_size = len(tokenizer.word_index) + 1\n",
        "print(\"Total words\", vocab_size)"
      ],
      "execution_count": 71,
      "outputs": [
        {
          "output_type": "stream",
          "text": [
            "Total words 290419\n",
            "CPU times: user 20.5 s, sys: 120 ms, total: 20.6 s\n",
            "Wall time: 20.6 s\n"
          ],
          "name": "stdout"
        }
      ]
    },
    {
      "cell_type": "code",
      "metadata": {
        "id": "fL6SndKN3abs",
        "colab_type": "code",
        "outputId": "9006a0ff-c1d5-49c3-bc9c-38607a321a8c",
        "colab": {
          "base_uri": "https://localhost:8080/",
          "height": 52
        }
      },
      "source": [
        "%%time\n",
        "x_train = pad_sequences(tokenizer.texts_to_sequences(df_train.text), maxlen=SEQUENCE_LENGTH)\n",
        "x_test = pad_sequences(tokenizer.texts_to_sequences(df_test.text), maxlen=SEQUENCE_LENGTH)"
      ],
      "execution_count": 72,
      "outputs": [
        {
          "output_type": "stream",
          "text": [
            "CPU times: user 29.1 s, sys: 1.76 s, total: 30.9 s\n",
            "Wall time: 31 s\n"
          ],
          "name": "stdout"
        }
      ]
    },
    {
      "cell_type": "code",
      "metadata": {
        "id": "iCadSqOT3gDO",
        "colab_type": "code",
        "outputId": "2d394e1f-a6fe-4d59-a73e-2c5e1bf803cc",
        "colab": {
          "base_uri": "https://localhost:8080/",
          "height": 35
        }
      },
      "source": [
        "labels = df_train.target.unique().tolist()\n",
        "labels.append(NEUTRAL)\n",
        "labels"
      ],
      "execution_count": 73,
      "outputs": [
        {
          "output_type": "execute_result",
          "data": {
            "text/plain": [
              "['POSITIVE', 'NEGATIVE', 'NEUTRAL']"
            ]
          },
          "metadata": {
            "tags": []
          },
          "execution_count": 73
        }
      ]
    },
    {
      "cell_type": "code",
      "metadata": {
        "id": "XGXwmU-i3pCE",
        "colab_type": "code",
        "outputId": "1125d093-9a8c-471c-b0b7-01bbbb0ac392",
        "colab": {
          "base_uri": "https://localhost:8080/",
          "height": 52
        }
      },
      "source": [
        "encoder = LabelEncoder()\n",
        "encoder.fit(df_train.target.tolist())\n",
        "\n",
        "y_train = encoder.transform(df_train.target.tolist())\n",
        "y_test = encoder.transform(df_test.target.tolist())\n",
        "\n",
        "y_train = y_train.reshape(-1,1)\n",
        "y_test = y_test.reshape(-1,1)\n",
        "\n",
        "print(\"y_train\",y_train.shape)\n",
        "print(\"y_test\",y_test.shape)"
      ],
      "execution_count": 74,
      "outputs": [
        {
          "output_type": "stream",
          "text": [
            "y_train (1280000, 1)\n",
            "y_test (320000, 1)\n"
          ],
          "name": "stdout"
        }
      ]
    },
    {
      "cell_type": "code",
      "metadata": {
        "id": "yOfUKjoT3sT_",
        "colab_type": "code",
        "outputId": "37922ce2-7c20-4d98-bef7-d162dd6d99d9",
        "colab": {
          "base_uri": "https://localhost:8080/",
          "height": 104
        }
      },
      "source": [
        "print(\"x_train\", x_train.shape)\n",
        "print(\"y_train\", y_train.shape)\n",
        "print()\n",
        "print(\"x_test\", x_test.shape)\n",
        "print(\"y_test\", y_test.shape)"
      ],
      "execution_count": 75,
      "outputs": [
        {
          "output_type": "stream",
          "text": [
            "x_train (1280000, 300)\n",
            "y_train (1280000, 1)\n",
            "\n",
            "x_test (320000, 300)\n",
            "y_test (320000, 1)\n"
          ],
          "name": "stdout"
        }
      ]
    },
    {
      "cell_type": "code",
      "metadata": {
        "id": "C7kr0-da5lat",
        "colab_type": "code",
        "outputId": "d9be11cd-897f-4a5b-e66e-d0972e7e1418",
        "colab": {
          "base_uri": "https://localhost:8080/",
          "height": 191
        }
      },
      "source": [
        "y_train[:10]"
      ],
      "execution_count": 76,
      "outputs": [
        {
          "output_type": "execute_result",
          "data": {
            "text/plain": [
              "array([[1],\n",
              "       [1],\n",
              "       [1],\n",
              "       [0],\n",
              "       [1],\n",
              "       [1],\n",
              "       [1],\n",
              "       [1],\n",
              "       [1],\n",
              "       [1]])"
            ]
          },
          "metadata": {
            "tags": []
          },
          "execution_count": 76
        }
      ]
    },
    {
      "cell_type": "code",
      "metadata": {
        "id": "Alq0q7UG5ov6",
        "colab_type": "code",
        "outputId": "30be5d18-5ac0-4c96-fdd1-4e22253fb9d8",
        "colab": {
          "base_uri": "https://localhost:8080/",
          "height": 35
        }
      },
      "source": [
        "embedding_matrix = np.zeros((vocab_size, W2V_SIZE))\n",
        "for word, i in tokenizer.word_index.items():\n",
        "  if word in w2v_model.wv:\n",
        "    embedding_matrix[i] = w2v_model.wv[word]\n",
        "print(embedding_matrix.shape)"
      ],
      "execution_count": 77,
      "outputs": [
        {
          "output_type": "stream",
          "text": [
            "(290419, 300)\n"
          ],
          "name": "stdout"
        }
      ]
    },
    {
      "cell_type": "code",
      "metadata": {
        "id": "dOkaKWx35s0N",
        "colab_type": "code",
        "colab": {}
      },
      "source": [
        "embedding_layer = Embedding(vocab_size, W2V_SIZE, weights=[embedding_matrix], input_length=SEQUENCE_LENGTH, trainable=False)"
      ],
      "execution_count": 0,
      "outputs": []
    },
    {
      "cell_type": "code",
      "metadata": {
        "id": "EnJBHvnz5viR",
        "colab_type": "code",
        "outputId": "f3302716-fa13-4f2e-94c2-f00fcf054fad",
        "colab": {
          "base_uri": "https://localhost:8080/",
          "height": 295
        }
      },
      "source": [
        "model = Sequential()\n",
        "model.add(embedding_layer)\n",
        "model.add(Dropout(0.5))\n",
        "model.add(LSTM(100, dropout=0.2, recurrent_dropout=0.2))\n",
        "model.add(Dense(1, activation='sigmoid'))\n",
        "\n",
        "model.summary()"
      ],
      "execution_count": 79,
      "outputs": [
        {
          "output_type": "stream",
          "text": [
            "Model: \"sequential_2\"\n",
            "_________________________________________________________________\n",
            "Layer (type)                 Output Shape              Param #   \n",
            "=================================================================\n",
            "embedding_2 (Embedding)      (None, 300, 300)          87125700  \n",
            "_________________________________________________________________\n",
            "dropout_2 (Dropout)          (None, 300, 300)          0         \n",
            "_________________________________________________________________\n",
            "lstm_2 (LSTM)                (None, 100)               160400    \n",
            "_________________________________________________________________\n",
            "dense_2 (Dense)              (None, 1)                 101       \n",
            "=================================================================\n",
            "Total params: 87,286,201\n",
            "Trainable params: 160,501\n",
            "Non-trainable params: 87,125,700\n",
            "_________________________________________________________________\n"
          ],
          "name": "stdout"
        }
      ]
    },
    {
      "cell_type": "code",
      "metadata": {
        "id": "pXUcpwrI5yQ3",
        "colab_type": "code",
        "colab": {}
      },
      "source": [
        "model.compile(loss='binary_crossentropy',\n",
        "              optimizer=\"adam\",\n",
        "              metrics=['accuracy'])"
      ],
      "execution_count": 0,
      "outputs": []
    },
    {
      "cell_type": "code",
      "metadata": {
        "id": "KGuerBIS51ED",
        "colab_type": "code",
        "colab": {}
      },
      "source": [
        "callbacks = [ ReduceLROnPlateau(monitor='val_loss', patience=5, cooldown=0),\n",
        "              EarlyStopping(monitor='val_acc', min_delta=1e-4, patience=5)]"
      ],
      "execution_count": 0,
      "outputs": []
    },
    {
      "cell_type": "code",
      "metadata": {
        "id": "BmUtLvUh54Hg",
        "colab_type": "code",
        "outputId": "a51c67ba-f00b-4ce4-b06c-0632948b1ba4",
        "colab": {
          "base_uri": "https://localhost:8080/",
          "height": 69
        }
      },
      "source": [
        "%%time\n",
        "history = model.fit(x_train, y_train,\n",
        "                    batch_size=BATCH_SIZE,\n",
        "                    epochs=2,\n",
        "                    validation_split=0.1,\n",
        "                    verbose=1,\n",
        "                    callbacks=callbacks)"
      ],
      "execution_count": 0,
      "outputs": [
        {
          "output_type": "stream",
          "text": [
            "Train on 1152000 samples, validate on 128000 samples\n",
            "Epoch 1/2\n",
            "  10240/1152000 [..............................] - ETA: 3:18:04 - loss: 0.6546 - acc: 0.6081"
          ],
          "name": "stdout"
        }
      ]
    },
    {
      "cell_type": "code",
      "metadata": {
        "id": "Cwa7MBR_56Zk",
        "colab_type": "code",
        "colab": {}
      },
      "source": [
        "%%time\n",
        "score = model.evaluate(x_test, y_test, batch_size=BATCH_SIZE)\n",
        "print()\n",
        "print(\"ACCURACY:\",score[1])\n",
        "print(\"LOSS:\",score[0])"
      ],
      "execution_count": 0,
      "outputs": []
    }
  ]
}